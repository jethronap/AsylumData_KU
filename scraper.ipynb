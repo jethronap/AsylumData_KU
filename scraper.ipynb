{
 "cells": [
  {
   "cell_type": "code",
   "execution_count": 6,
   "metadata": {},
   "outputs": [],
   "source": [
    "import bs4\n",
    "import json\n",
    "from selenium import webdriver"
   ]
  },
  {
   "cell_type": "markdown",
   "metadata": {},
   "source": [
    "# Start web driver:"
   ]
  },
  {
   "cell_type": "code",
   "execution_count": 7,
   "metadata": {},
   "outputs": [
    {
     "name": "stderr",
     "output_type": "stream",
     "text": [
      "/var/folders/rt/71gks04x30d1pkk4v471w4dh0000gn/T/ipykernel_5297/1834746117.py:5: DeprecationWarning: find_element_by_* commands are deprecated. Please use find_element() instead\n",
      "  browser.find_element_by_id(\"SearchSubmitButton\").click()\n",
      "/var/folders/rt/71gks04x30d1pkk4v471w4dh0000gn/T/ipykernel_5297/1834746117.py:6: DeprecationWarning: find_element_by_* commands are deprecated. Please use find_element() instead\n",
      "  browser.find_element_by_link_text(\"Alle resultater\").click()\n"
     ]
    }
   ],
   "source": [
    "url = 'https://fln.dk/da/Praksis'\n",
    "browser  = webdriver.Firefox()\n",
    "browser.get(url)\n",
    "\n",
    "browser.find_element_by_id(\"SearchSubmitButton\").click()\n",
    "browser.find_element_by_link_text(\"Alle resultater\").click()"
   ]
  },
  {
   "cell_type": "markdown",
   "metadata": {},
   "source": [
    "# Extract cases:"
   ]
  },
  {
   "cell_type": "code",
   "execution_count": 9,
   "metadata": {},
   "outputs": [
    {
     "name": "stdout",
     "output_type": "stream",
     "text": [
      "Extracted cases:  9359\n"
     ]
    }
   ],
   "source": [
    "soup=bs4.BeautifulSoup(browser.page_source, 'html.parser')\n",
    "cases = soup.find_all(\"p\", {\"class\": \"lineover\"})\n",
    "print(\"Extracted cases: \", len(cases))"
   ]
  },
  {
   "cell_type": "markdown",
   "metadata": {},
   "source": [
    "# Save cases in list:"
   ]
  },
  {
   "cell_type": "code",
   "execution_count": 10,
   "metadata": {},
   "outputs": [
    {
     "name": "stdout",
     "output_type": "stream",
     "text": [
      "Cases that are stored in a python list now: 9359\n",
      "Of the cases in the list, how many have a text summary: 8917\n"
     ]
    }
   ],
   "source": [
    "cases_list = []\n",
    "count = 0\n",
    "\n",
    "for id, case in enumerate(cases):\n",
    "    item = {}\n",
    "    #strongs contain the 'emneord', these are the asylum motives\n",
    "    strongs = case.find_all('strong')\n",
    "    emne_raw = strongs[0].get_text().strip('\\n')\n",
    "    cleaned_asylmotive_string = \" \".join(emne_raw.split()).strip()\n",
    "    asylmotive_list = cleaned_asylmotive_string.replace('Emneord: ', '').split(',')\n",
    "    \n",
    "    #extracting country of origin\n",
    "    country_raw = strongs[1].get_text()\n",
    "    country = country_raw.replace('Land: ', '')\n",
    "    \n",
    "    #cleaning up the summary, there are a lot of empty lines\n",
    "    text_raw = case.get_text().split('\\n')\n",
    "    for string in text_raw:\n",
    "        if len(string) > 300:\n",
    "            text = string\n",
    "            count = count + 1\n",
    "            hasText = True\n",
    "            break\n",
    "    \n",
    "    item['id'] = id\n",
    "    item['asylum_motive'] = asylmotive_list\n",
    "    item['country'] = country\n",
    "    item['text'] = text\n",
    "    item['hasText'] = hasText\n",
    "    cases_list.append(item)\n",
    "    \n",
    "print(\"Cases that are stored in a python list now:\", len(cases_list))\n",
    "print(\"Of the cases in the list, how many have a text summary:\", count)\n",
    "#print(cases_list)"
   ]
  },
  {
   "cell_type": "markdown",
   "metadata": {},
   "source": [
    "# Save output to json file:"
   ]
  },
  {
   "cell_type": "code",
   "execution_count": 11,
   "metadata": {},
   "outputs": [],
   "source": [
    "with open('data/dk_asylum_data.json', 'w') as file:\n",
    "    json.dump(cases_list, file)"
   ]
  }
 ],
 "metadata": {
  "interpreter": {
   "hash": "b6672ba510bd43d5df0d34395a84685a825e41d35f5301d8abef98bca1680e82"
  },
  "kernelspec": {
   "display_name": "Python 3.9.9 64-bit ('base': conda)",
   "language": "python",
   "name": "python3"
  },
  "language_info": {
   "codemirror_mode": {
    "name": "ipython",
    "version": 3
   },
   "file_extension": ".py",
   "mimetype": "text/x-python",
   "name": "python",
   "nbconvert_exporter": "python",
   "pygments_lexer": "ipython3",
   "version": "3.9.12"
  },
  "orig_nbformat": 4
 },
 "nbformat": 4,
 "nbformat_minor": 2
}
