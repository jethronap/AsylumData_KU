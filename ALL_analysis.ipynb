{
 "cells": [
  {
   "cell_type": "code",
   "execution_count": 1,
   "metadata": {},
   "outputs": [],
   "source": [
    "import warnings"
   ]
  },
  {
   "cell_type": "code",
   "execution_count": 3,
   "metadata": {},
   "outputs": [],
   "source": [
    "warnings.filterwarnings(\"ignore\", category=DeprecationWarning)\n",
    "\n",
    "import matplotlib.pyplot as plt\n",
    "from matplotlib import cm\n",
    "import seaborn as sns\n",
    "import pandas as pd\n",
    "import numpy as np\n",
    "from custom_library.custom_lib import *\n",
    "\n",
    "plt.style.use(style='seaborn')\n",
    "%matplotlib inline\n",
    "sns.set()"
   ]
  },
  {
   "cell_type": "markdown",
   "metadata": {},
   "source": [
    "# Import data set:"
   ]
  },
  {
   "cell_type": "code",
   "execution_count": null,
   "metadata": {},
   "outputs": [
    {
     "data": {
      "text/plain": [
       "(9359, 5)"
      ]
     },
     "metadata": {},
     "output_type": "display_data"
    }
   ],
   "source": [
    "pd.options.mode.chained_assignment = None\n",
    "\n",
    "\n",
    "df_full = import_dataset(encoding='utf-8')\n",
    "# Convert json to csv:\n",
    "# df_full.to_csv('../data/dk_asylum_data_1.csv', encoding='utf-8', index=False)\n",
    "df_full.shape"
   ]
  },
  {
   "cell_type": "markdown",
   "metadata": {},
   "source": [
    "# Dataset preprocessing:\n",
    "\n",
    "Keep ALL cases except for Unknown Homeland (Ukendt hjemland):"
   ]
  },
  {
   "cell_type": "code",
   "execution_count": null,
   "metadata": {},
   "outputs": [
    {
     "data": {
      "text/plain": [
       "(9167, 4)"
      ]
     },
     "metadata": {},
     "output_type": "display_data"
    }
   ],
   "source": [
    "df_ALL = df_full[df_full.country != \"Ukendt hjemland\"]\n",
    "\n",
    "# Drop redundant column:\n",
    "df_ALL.drop('hasText', axis=1, inplace=True)\n",
    "\n",
    "df = df_ALL\n",
    "\n",
    "df[\"text\"] = df[\"text\"].astype(\"string\")\n",
    "\n",
    "df.shape"
   ]
  },
  {
   "cell_type": "code",
   "execution_count": null,
   "metadata": {},
   "outputs": [
    {
     "data": {
      "text/html": [
       "<div>\n",
       "<style scoped>\n",
       "    .dataframe tbody tr th:only-of-type {\n",
       "        vertical-align: middle;\n",
       "    }\n",
       "\n",
       "    .dataframe tbody tr th {\n",
       "        vertical-align: top;\n",
       "    }\n",
       "\n",
       "    .dataframe thead th {\n",
       "        text-align: right;\n",
       "    }\n",
       "</style>\n",
       "<table border=\"1\" class=\"dataframe\">\n",
       "  <thead>\n",
       "    <tr style=\"text-align: right;\">\n",
       "      <th></th>\n",
       "      <th>id</th>\n",
       "      <th>asylum_motive</th>\n",
       "      <th>country</th>\n",
       "      <th>text</th>\n",
       "    </tr>\n",
       "  </thead>\n",
       "  <tbody>\n",
       "    <tr>\n",
       "      <th>0</th>\n",
       "      <td>0</td>\n",
       "      <td>[Generelle forhold,  Privatretlig forhold,  Æn...</td>\n",
       "      <td>Afghanistan</td>\n",
       "      <td>Nævnet stadfæstede i februar 2022 en g...</td>\n",
       "    </tr>\n",
       "    <tr>\n",
       "      <th>1</th>\n",
       "      <td>1</td>\n",
       "      <td>[Sur Place,  Helbredsmæssige forhold,  Generel...</td>\n",
       "      <td>Afghanistan</td>\n",
       "      <td>Nævnet stadfæstede i februar 2022 en g...</td>\n",
       "    </tr>\n",
       "    <tr>\n",
       "      <th>2</th>\n",
       "      <td>2</td>\n",
       "      <td>[Internal Flight Alternative,  Generelle forho...</td>\n",
       "      <td>Afghanistan</td>\n",
       "      <td>ævnet meddelte i marts 2022 opholdstil...</td>\n",
       "    </tr>\n",
       "    <tr>\n",
       "      <th>3</th>\n",
       "      <td>3</td>\n",
       "      <td>[Sur Place,  Chikane,  Generelle forhold,  Øvr...</td>\n",
       "      <td>Afghanistan</td>\n",
       "      <td>Nævnet meddelte i februar 2022 opholds...</td>\n",
       "    </tr>\n",
       "    <tr>\n",
       "      <th>4</th>\n",
       "      <td>4</td>\n",
       "      <td>[Sur Place,  Chikane,  Øvrige modsætningsforho...</td>\n",
       "      <td>Afghanistan</td>\n",
       "      <td>Nævnet meddelte i februar 2022 opholds...</td>\n",
       "    </tr>\n",
       "  </tbody>\n",
       "</table>\n",
       "</div>"
      ],
      "text/plain": [
       "   id                                      asylum_motive      country  \\\n",
       "0   0  [Generelle forhold,  Privatretlig forhold,  Æn...  Afghanistan   \n",
       "1   1  [Sur Place,  Helbredsmæssige forhold,  Generel...  Afghanistan   \n",
       "2   2  [Internal Flight Alternative,  Generelle forho...  Afghanistan   \n",
       "3   3  [Sur Place,  Chikane,  Generelle forhold,  Øvr...  Afghanistan   \n",
       "4   4  [Sur Place,  Chikane,  Øvrige modsætningsforho...  Afghanistan   \n",
       "\n",
       "                                                text  \n",
       "0          Nævnet stadfæstede i februar 2022 en g...  \n",
       "1          Nævnet stadfæstede i februar 2022 en g...  \n",
       "2          ævnet meddelte i marts 2022 opholdstil...  \n",
       "3          Nævnet meddelte i februar 2022 opholds...  \n",
       "4          Nævnet meddelte i februar 2022 opholds...  "
      ]
     },
     "metadata": {},
     "output_type": "display_data"
    }
   ],
   "source": [
    "\n",
    "df.head()"
   ]
  },
  {
   "cell_type": "markdown",
   "metadata": {},
   "source": [
    "Check for potential duplicates and drop them:"
   ]
  },
  {
   "cell_type": "code",
   "execution_count": null,
   "metadata": {},
   "outputs": [
    {
     "data": {
      "text/html": [
       "<div>\n",
       "<style scoped>\n",
       "    .dataframe tbody tr th:only-of-type {\n",
       "        vertical-align: middle;\n",
       "    }\n",
       "\n",
       "    .dataframe tbody tr th {\n",
       "        vertical-align: top;\n",
       "    }\n",
       "\n",
       "    .dataframe thead th {\n",
       "        text-align: right;\n",
       "    }\n",
       "</style>\n",
       "<table border=\"1\" class=\"dataframe\">\n",
       "  <thead>\n",
       "    <tr style=\"text-align: right;\">\n",
       "      <th></th>\n",
       "      <th>id</th>\n",
       "      <th>asylum_motive</th>\n",
       "      <th>country</th>\n",
       "      <th>text</th>\n",
       "    </tr>\n",
       "  </thead>\n",
       "  <tbody>\n",
       "    <tr>\n",
       "      <th>69</th>\n",
       "      <td>69</td>\n",
       "      <td>[Generelle forhold,  Øvrige modsætningsforhold...</td>\n",
       "      <td>Syrien</td>\n",
       "      <td>Nævnet omgjorde i november 2021 Udlænd...</td>\n",
       "    </tr>\n",
       "    <tr>\n",
       "      <th>70</th>\n",
       "      <td>70</td>\n",
       "      <td>[Generelle forhold,  Øvrige modsætningsforhold...</td>\n",
       "      <td>Syrien</td>\n",
       "      <td>Nævnet omgjorde i november 2021 Udlænd...</td>\n",
       "    </tr>\n",
       "    <tr>\n",
       "      <th>457</th>\n",
       "      <td>457</td>\n",
       "      <td>[Udsendelse (§ 49 a m.v.),  Sur Place,  Privat...</td>\n",
       "      <td>Afghanistan</td>\n",
       "      <td>Nævnet stadfæstede i juli 2021 Udlændi...</td>\n",
       "    </tr>\n",
       "    <tr>\n",
       "      <th>697</th>\n",
       "      <td>697</td>\n",
       "      <td>[Første asylland/§29 b,  Generelle forhold]</td>\n",
       "      <td>Italien</td>\n",
       "      <td>Nævnet stadfæstede i februar 2021 Udlæ...</td>\n",
       "    </tr>\n",
       "    <tr>\n",
       "      <th>701</th>\n",
       "      <td>701</td>\n",
       "      <td>[Inddragelse/forlængelse,  Militære forhold,  ...</td>\n",
       "      <td>Syrien</td>\n",
       "      <td>Nævnet omgjorde i marts 2021 Udlænding...</td>\n",
       "    </tr>\n",
       "    <tr>\n",
       "      <th>...</th>\n",
       "      <td>...</td>\n",
       "      <td>...</td>\n",
       "      <td>...</td>\n",
       "      <td>...</td>\n",
       "    </tr>\n",
       "    <tr>\n",
       "      <th>9128</th>\n",
       "      <td>9128</td>\n",
       "      <td>[Politiske forhold,  Agents of Persecution,  T...</td>\n",
       "      <td>Afghanistan</td>\n",
       "      <td>Nævnet meddelte i juli 2010 opholdstilladelse ...</td>\n",
       "    </tr>\n",
       "    <tr>\n",
       "      <th>9309</th>\n",
       "      <td>9309</td>\n",
       "      <td>[Politiske forhold]</td>\n",
       "      <td>Afghanistan</td>\n",
       "      <td>Nævnet stadfæstede i juni 2005 Udlændi...</td>\n",
       "    </tr>\n",
       "    <tr>\n",
       "      <th>9320</th>\n",
       "      <td>9320</td>\n",
       "      <td>[Privatretlig forhold]</td>\n",
       "      <td>Afghanistan</td>\n",
       "      <td>Nævnet stadfæstede i december 2005 Udl...</td>\n",
       "    </tr>\n",
       "    <tr>\n",
       "      <th>9328</th>\n",
       "      <td>9328</td>\n",
       "      <td>[Politiske forhold]</td>\n",
       "      <td>Afghanistan</td>\n",
       "      <td>Nævnet stadfæstede i april 2004 en afg...</td>\n",
       "    </tr>\n",
       "    <tr>\n",
       "      <th>9333</th>\n",
       "      <td>9333</td>\n",
       "      <td>[Konsekvensstatus,  Politiske forhold,  Tortur]</td>\n",
       "      <td>Afghanistan</td>\n",
       "      <td>Nævnet meddelte i august 2004 opholdst...</td>\n",
       "    </tr>\n",
       "  </tbody>\n",
       "</table>\n",
       "<p>478 rows × 4 columns</p>\n",
       "</div>"
      ],
      "text/plain": [
       "        id                                      asylum_motive      country  \\\n",
       "69      69  [Generelle forhold,  Øvrige modsætningsforhold...       Syrien   \n",
       "70      70  [Generelle forhold,  Øvrige modsætningsforhold...       Syrien   \n",
       "457    457  [Udsendelse (§ 49 a m.v.),  Sur Place,  Privat...  Afghanistan   \n",
       "697    697        [Første asylland/§29 b,  Generelle forhold]      Italien   \n",
       "701    701  [Inddragelse/forlængelse,  Militære forhold,  ...       Syrien   \n",
       "...    ...                                                ...          ...   \n",
       "9128  9128  [Politiske forhold,  Agents of Persecution,  T...  Afghanistan   \n",
       "9309  9309                                [Politiske forhold]  Afghanistan   \n",
       "9320  9320                             [Privatretlig forhold]  Afghanistan   \n",
       "9328  9328                                [Politiske forhold]  Afghanistan   \n",
       "9333  9333    [Konsekvensstatus,  Politiske forhold,  Tortur]  Afghanistan   \n",
       "\n",
       "                                                   text  \n",
       "69            Nævnet omgjorde i november 2021 Udlænd...  \n",
       "70            Nævnet omgjorde i november 2021 Udlænd...  \n",
       "457           Nævnet stadfæstede i juli 2021 Udlændi...  \n",
       "697           Nævnet stadfæstede i februar 2021 Udlæ...  \n",
       "701           Nævnet omgjorde i marts 2021 Udlænding...  \n",
       "...                                                 ...  \n",
       "9128  Nævnet meddelte i juli 2010 opholdstilladelse ...  \n",
       "9309          Nævnet stadfæstede i juni 2005 Udlændi...  \n",
       "9320          Nævnet stadfæstede i december 2005 Udl...  \n",
       "9328          Nævnet stadfæstede i april 2004 en afg...  \n",
       "9333          Nævnet meddelte i august 2004 opholdst...  \n",
       "\n",
       "[478 rows x 4 columns]"
      ]
     },
     "metadata": {},
     "output_type": "display_data"
    }
   ],
   "source": [
    "duplicates_df = df[df.duplicated(['text'], keep='last')]\n",
    "#pd.concat(g for _, g in df.groupby(\"text\") if len(g) > 1)\n",
    "\n",
    "# See all duplicates:\n",
    "duplicates_df"
   ]
  },
  {
   "cell_type": "markdown",
   "metadata": {},
   "source": [
    "See shape of new data frame:"
   ]
  },
  {
   "cell_type": "code",
   "execution_count": null,
   "metadata": {},
   "outputs": [
    {
     "data": {
      "text/plain": [
       "(8689, 4)"
      ]
     },
     "metadata": {},
     "output_type": "display_data"
    }
   ],
   "source": [
    "# Drop duplicates from original dataframe based on text column\n",
    "# If the summary is the same probalbly were are looking at a duplicate\n",
    "# without taking into account all other variables(columns):\n",
    "df = df.drop_duplicates('text', keep='last')\n",
    "# Check shape again:\n",
    "df.shape"
   ]
  },
  {
   "cell_type": "markdown",
   "metadata": {},
   "source": [
    "## Length of texts\n",
    "\n",
    "Create a numeric column in order to get a feel about the length of the texts. "
   ]
  },
  {
   "cell_type": "code",
   "execution_count": null,
   "metadata": {},
   "outputs": [
    {
     "data": {
      "text/html": [
       "<div>\n",
       "<style scoped>\n",
       "    .dataframe tbody tr th:only-of-type {\n",
       "        vertical-align: middle;\n",
       "    }\n",
       "\n",
       "    .dataframe tbody tr th {\n",
       "        vertical-align: top;\n",
       "    }\n",
       "\n",
       "    .dataframe thead th {\n",
       "        text-align: right;\n",
       "    }\n",
       "</style>\n",
       "<table border=\"1\" class=\"dataframe\">\n",
       "  <thead>\n",
       "    <tr style=\"text-align: right;\">\n",
       "      <th></th>\n",
       "      <th>count</th>\n",
       "      <th>mean</th>\n",
       "      <th>std</th>\n",
       "      <th>min</th>\n",
       "      <th>25%</th>\n",
       "      <th>50%</th>\n",
       "      <th>75%</th>\n",
       "      <th>max</th>\n",
       "    </tr>\n",
       "  </thead>\n",
       "  <tbody>\n",
       "    <tr>\n",
       "      <th>id</th>\n",
       "      <td>8689.0</td>\n",
       "      <td>4688.684313</td>\n",
       "      <td>2747.737234</td>\n",
       "      <td>0.0</td>\n",
       "      <td>2246.0</td>\n",
       "      <td>4724.0</td>\n",
       "      <td>7067.0</td>\n",
       "      <td>9358.0</td>\n",
       "    </tr>\n",
       "    <tr>\n",
       "      <th>length</th>\n",
       "      <td>8689.0</td>\n",
       "      <td>4166.397859</td>\n",
       "      <td>2186.312800</td>\n",
       "      <td>407.0</td>\n",
       "      <td>2664.0</td>\n",
       "      <td>3786.0</td>\n",
       "      <td>5161.0</td>\n",
       "      <td>22106.0</td>\n",
       "    </tr>\n",
       "  </tbody>\n",
       "</table>\n",
       "</div>"
      ],
      "text/plain": [
       "         count         mean          std    min     25%     50%     75%  \\\n",
       "id      8689.0  4688.684313  2747.737234    0.0  2246.0  4724.0  7067.0   \n",
       "length  8689.0  4166.397859  2186.312800  407.0  2664.0  3786.0  5161.0   \n",
       "\n",
       "            max  \n",
       "id       9358.0  \n",
       "length  22106.0  "
      ]
     },
     "metadata": {},
     "output_type": "display_data"
    }
   ],
   "source": [
    "df['length'] = df['text'].str.len()\n",
    "\n",
    "df.describe().T"
   ]
  },
  {
   "cell_type": "markdown",
   "metadata": {},
   "source": [
    "## Boxplot:"
   ]
  },
  {
   "cell_type": "code",
   "execution_count": null,
   "metadata": {},
   "outputs": [
    {
     "data": {
      "text/plain": [
       "<AxesSubplot:>"
      ]
     },
     "metadata": {},
     "output_type": "display_data"
    },
    {
     "data": {
      "image/png": "[encoded data removed]",
      "text/plain": [
       "<Figure size 432x288 with 1 Axes>"
      ]
     },
     "metadata": {},
     "output_type": "display_data"
    }
   ],
   "source": [
    "# Box plot:\n",
    "df['length'].plot(kind='box', vert=False)"
   ]
  },
  {
   "cell_type": "markdown",
   "metadata": {},
   "source": [
    "# Text Processing:\n",
    "\n",
    "Column `text` is processed in order to extract data concerning:\n",
    "- decision outcome\n",
    "- gender of applicants\n",
    "- year of decision"
   ]
  },
  {
   "cell_type": "markdown",
   "metadata": {},
   "source": [
    "Steps included in the pipeline:\n",
    "- lower casing\n",
    "- punctuation removal\n",
    "- stopword removal\n",
    "- single letter word removal\n",
    "- tokenization\n",
    "- lemmatization"
   ]
  },
  {
   "cell_type": "code",
   "execution_count": null,
   "metadata": {},
   "outputs": [],
   "source": [
    "pipeline = [str.lower, remove_punctuation, remove_stopwords, drop_single_letter_words,\n",
    "            tokenize, lemmatize]"
   ]
  },
  {
   "cell_type": "code",
   "execution_count": null,
   "metadata": {},
   "outputs": [],
   "source": [
    "# Apply the process:\n",
    "df['tokens'] = df['text'].apply(process, pipeline=pipeline)\n",
    "\n",
    "# Add column to see the number of tokens:\n",
    "df['num_tokens'] = df['tokens'].map(len)"
   ]
  },
  {
   "cell_type": "markdown",
   "metadata": {},
   "source": [
    "See ten first entries"
   ]
  },
  {
   "cell_type": "code",
   "execution_count": null,
   "metadata": {},
   "outputs": [
    {
     "data": {
      "text/html": [
       "<div>\n",
       "<style scoped>\n",
       "    .dataframe tbody tr th:only-of-type {\n",
       "        vertical-align: middle;\n",
       "    }\n",
       "\n",
       "    .dataframe tbody tr th {\n",
       "        vertical-align: top;\n",
       "    }\n",
       "\n",
       "    .dataframe thead th {\n",
       "        text-align: right;\n",
       "    }\n",
       "</style>\n",
       "<table border=\"1\" class=\"dataframe\">\n",
       "  <thead>\n",
       "    <tr style=\"text-align: right;\">\n",
       "      <th></th>\n",
       "      <th>id</th>\n",
       "      <th>asylum_motive</th>\n",
       "      <th>country</th>\n",
       "      <th>text</th>\n",
       "      <th>length</th>\n",
       "      <th>tokens</th>\n",
       "      <th>num_tokens</th>\n",
       "    </tr>\n",
       "  </thead>\n",
       "  <tbody>\n",
       "    <tr>\n",
       "      <th>0</th>\n",
       "      <td>0</td>\n",
       "      <td>[Generelle forhold,  Privatretlig forhold,  Æn...</td>\n",
       "      <td>Afghanistan</td>\n",
       "      <td>Nævnet stadfæstede i februar 2022 en g...</td>\n",
       "      <td>9055</td>\n",
       "      <td>[stadfæste, 2022, genoptage, spontan, asylsag,...</td>\n",
       "      <td>741</td>\n",
       "    </tr>\n",
       "    <tr>\n",
       "      <th>1</th>\n",
       "      <td>1</td>\n",
       "      <td>[Sur Place,  Helbredsmæssige forhold,  Generel...</td>\n",
       "      <td>Afghanistan</td>\n",
       "      <td>Nævnet stadfæstede i februar 2022 en g...</td>\n",
       "      <td>13640</td>\n",
       "      <td>[stadfæste, 2022, genoptage, spontan, asylsag,...</td>\n",
       "      <td>1099</td>\n",
       "    </tr>\n",
       "    <tr>\n",
       "      <th>2</th>\n",
       "      <td>2</td>\n",
       "      <td>[Internal Flight Alternative,  Generelle forho...</td>\n",
       "      <td>Afghanistan</td>\n",
       "      <td>ævnet meddelte i marts 2022 opholdstil...</td>\n",
       "      <td>3326</td>\n",
       "      <td>[meddele, 2022, opholdstilladelse, kbstatus, m...</td>\n",
       "      <td>233</td>\n",
       "    </tr>\n",
       "    <tr>\n",
       "      <th>3</th>\n",
       "      <td>3</td>\n",
       "      <td>[Sur Place,  Chikane,  Generelle forhold,  Øvr...</td>\n",
       "      <td>Afghanistan</td>\n",
       "      <td>Nævnet meddelte i februar 2022 opholds...</td>\n",
       "      <td>2130</td>\n",
       "      <td>[meddele, 2022, opholdstilladelse, kstatus, kv...</td>\n",
       "      <td>152</td>\n",
       "    </tr>\n",
       "    <tr>\n",
       "      <th>4</th>\n",
       "      <td>4</td>\n",
       "      <td>[Sur Place,  Chikane,  Øvrige modsætningsforho...</td>\n",
       "      <td>Afghanistan</td>\n",
       "      <td>Nævnet meddelte i februar 2022 opholds...</td>\n",
       "      <td>3019</td>\n",
       "      <td>[meddele, 2022, opholdstilladelse, kstatus, ma...</td>\n",
       "      <td>213</td>\n",
       "    </tr>\n",
       "    <tr>\n",
       "      <th>5</th>\n",
       "      <td>5</td>\n",
       "      <td>[Udsendelse (§ 49 a m.v.),  Religiøse forhold,...</td>\n",
       "      <td>Afghanistan</td>\n",
       "      <td>Nævnet stadfæstede i marts 2022 Udlænd...</td>\n",
       "      <td>10041</td>\n",
       "      <td>[stadfæste, 2022, udlændingestyrels, afgørelse...</td>\n",
       "      <td>830</td>\n",
       "    </tr>\n",
       "    <tr>\n",
       "      <th>6</th>\n",
       "      <td>6</td>\n",
       "      <td>[Mindreårige,  Generelle forhold,  Øvrige mods...</td>\n",
       "      <td>Afghanistan</td>\n",
       "      <td>Nævnet stadfæstede i marts 2022 Udlænd...</td>\n",
       "      <td>8615</td>\n",
       "      <td>[stadfæste, 2022, udlændingestyrels, afgørelse...</td>\n",
       "      <td>726</td>\n",
       "    </tr>\n",
       "    <tr>\n",
       "      <th>7</th>\n",
       "      <td>7</td>\n",
       "      <td>[Generelle forhold,  Helbredsmæssige forhold, ...</td>\n",
       "      <td>Afghanistan</td>\n",
       "      <td>Nævnet meddelte i april 2022 opholdsti...</td>\n",
       "      <td>4368</td>\n",
       "      <td>[meddele, 2022, opholdstilladelse, bstatus, kv...</td>\n",
       "      <td>305</td>\n",
       "    </tr>\n",
       "    <tr>\n",
       "      <th>8</th>\n",
       "      <td>8</td>\n",
       "      <td>[Sur Place,  Etniske forhold,  Uforholdsmæssig...</td>\n",
       "      <td>Afghanistan</td>\n",
       "      <td>Nævnet stadfæstede i april 2022 Udlænd...</td>\n",
       "      <td>16424</td>\n",
       "      <td>[stadfæste, 2022, udlændingestyrels, afgørelse...</td>\n",
       "      <td>1379</td>\n",
       "    </tr>\n",
       "    <tr>\n",
       "      <th>9</th>\n",
       "      <td>9</td>\n",
       "      <td>[Etniske forhold,  Generelle forhold,  Ændrede...</td>\n",
       "      <td>Afghanistan</td>\n",
       "      <td>Nævnet stadfæstede i februar 2022 Udlæ...</td>\n",
       "      <td>15065</td>\n",
       "      <td>[stadfæste, 2022, udlændingestyrels, afgørelse...</td>\n",
       "      <td>1274</td>\n",
       "    </tr>\n",
       "  </tbody>\n",
       "</table>\n",
       "</div>"
      ],
      "text/plain": [
       "   id                                      asylum_motive      country  \\\n",
       "0   0  [Generelle forhold,  Privatretlig forhold,  Æn...  Afghanistan   \n",
       "1   1  [Sur Place,  Helbredsmæssige forhold,  Generel...  Afghanistan   \n",
       "2   2  [Internal Flight Alternative,  Generelle forho...  Afghanistan   \n",
       "3   3  [Sur Place,  Chikane,  Generelle forhold,  Øvr...  Afghanistan   \n",
       "4   4  [Sur Place,  Chikane,  Øvrige modsætningsforho...  Afghanistan   \n",
       "5   5  [Udsendelse (§ 49 a m.v.),  Religiøse forhold,...  Afghanistan   \n",
       "6   6  [Mindreårige,  Generelle forhold,  Øvrige mods...  Afghanistan   \n",
       "7   7  [Generelle forhold,  Helbredsmæssige forhold, ...  Afghanistan   \n",
       "8   8  [Sur Place,  Etniske forhold,  Uforholdsmæssig...  Afghanistan   \n",
       "9   9  [Etniske forhold,  Generelle forhold,  Ændrede...  Afghanistan   \n",
       "\n",
       "                                                text  length  \\\n",
       "0          Nævnet stadfæstede i februar 2022 en g...    9055   \n",
       "1          Nævnet stadfæstede i februar 2022 en g...   13640   \n",
       "2          ævnet meddelte i marts 2022 opholdstil...    3326   \n",
       "3          Nævnet meddelte i februar 2022 opholds...    2130   \n",
       "4          Nævnet meddelte i februar 2022 opholds...    3019   \n",
       "5          Nævnet stadfæstede i marts 2022 Udlænd...   10041   \n",
       "6          Nævnet stadfæstede i marts 2022 Udlænd...    8615   \n",
       "7          Nævnet meddelte i april 2022 opholdsti...    4368   \n",
       "8          Nævnet stadfæstede i april 2022 Udlænd...   16424   \n",
       "9          Nævnet stadfæstede i februar 2022 Udlæ...   15065   \n",
       "\n",
       "                                              tokens  num_tokens  \n",
       "0  [stadfæste, 2022, genoptage, spontan, asylsag,...         741  \n",
       "1  [stadfæste, 2022, genoptage, spontan, asylsag,...        1099  \n",
       "2  [meddele, 2022, opholdstilladelse, kbstatus, m...         233  \n",
       "3  [meddele, 2022, opholdstilladelse, kstatus, kv...         152  \n",
       "4  [meddele, 2022, opholdstilladelse, kstatus, ma...         213  \n",
       "5  [stadfæste, 2022, udlændingestyrels, afgørelse...         830  \n",
       "6  [stadfæste, 2022, udlændingestyrels, afgørelse...         726  \n",
       "7  [meddele, 2022, opholdstilladelse, bstatus, kv...         305  \n",
       "8  [stadfæste, 2022, udlændingestyrels, afgørelse...        1379  \n",
       "9  [stadfæste, 2022, udlændingestyrels, afgørelse...        1274  "
      ]
     },
     "metadata": {},
     "output_type": "display_data"
    }
   ],
   "source": [
    "df.head(10)"
   ]
  }
 ],
 "metadata": {
  "interpreter": {
   "hash": "b6672ba510bd43d5df0d34395a84685a825e41d35f5301d8abef98bca1680e82"
  },
  "kernelspec": {
   "display_name": "Python 3.9.12 64-bit ('base': conda)",
   "language": "python",
   "name": "python3"
  },
  "language_info": {
   "codemirror_mode": {
    "name": "ipython",
    "version": 3
   },
   "file_extension": ".py",
   "mimetype": "text/x-python",
   "name": "python",
   "nbconvert_exporter": "python",
   "pygments_lexer": "ipython3",
   "version": "3.9.12"
  },
  "orig_nbformat": 4
 },
 "nbformat": 4,
 "nbformat_minor": 2
}
