{
 "cells": [
  {
   "cell_type": "code",
   "execution_count": 1,
   "metadata": {},
   "outputs": [],
   "source": [
    "import matplotlib.pyplot as plt\n",
    "import seaborn as sns\n",
    "import pandas as pd\n",
    "import numpy as np\n",
    "import random\n",
    "import regex as re\n",
    "\n",
    "from nltk.corpus import stopwords\n",
    "# Need to uncomment the following line in order to download nltk stopwords:\n",
    "# nltk.download('stopwords')\n",
    "import spacy\n",
    "from textacy.extract import keyword_in_context\n",
    "\n",
    "from collections import Counter\n",
    "\n",
    "import warnings\n",
    "warnings.filterwarnings(\"ignore\", category=DeprecationWarning)\n",
    "\n",
    "plt.style.use(style='seaborn')\n",
    "%matplotlib inline\n",
    "sns.set()"
   ]
  },
  {
   "cell_type": "markdown",
   "metadata": {},
   "source": [
    "# Import data set:"
   ]
  },
  {
   "cell_type": "code",
   "execution_count": 2,
   "metadata": {},
   "outputs": [
    {
     "data": {
      "text/plain": [
       "(9324, 5)"
      ]
     },
     "execution_count": 2,
     "metadata": {},
     "output_type": "execute_result"
    }
   ],
   "source": [
    "pd.options.mode.chained_assignment = None\n",
    "\n",
    "with open('data/dk_asylum_data.json', encoding='utf-8') as inputfile:\n",
    "    df_full = pd.read_json(inputfile)\n",
    "\n",
    "# Convert json to csv:\n",
    "df_full.to_csv('data/dk_asylum_data.csv', encoding='utf-8', index=False)\n",
    "\n",
    "df_full.shape\n"
   ]
  },
  {
   "cell_type": "markdown",
   "metadata": {},
   "source": [
    "## Keep ALL cases EXCEPT for Unknown Homeland (Ukendt hjemland):"
   ]
  },
  {
   "cell_type": "code",
   "execution_count": 3,
   "metadata": {},
   "outputs": [
    {
     "data": {
      "text/plain": [
       "(9132, 1)"
      ]
     },
     "execution_count": 3,
     "metadata": {},
     "output_type": "execute_result"
    }
   ],
   "source": [
    "df_ALL = df_full[df_full.country != \"Ukendt hjemland\"]\n",
    "\n",
    "# Drop redundant column:\n",
    "df_ALL.drop('hasText', axis=1, inplace=True)\n",
    "\n",
    "# Keep column 'text':\n",
    "df = df_ALL[['text']]\n",
    "\n",
    "df[\"text\"] = df[\"text\"].astype(str)\n",
    "\n",
    "df.shape\n",
    "\n",
    "#df.head()\n"
   ]
  },
  {
   "cell_type": "markdown",
   "metadata": {},
   "source": [
    "## Length of texts\n",
    "\n",
    "Create a numeric column in order to get a feel about the length of the texts. "
   ]
  },
  {
   "cell_type": "code",
   "execution_count": 4,
   "metadata": {},
   "outputs": [
    {
     "data": {
      "text/html": [
       "<div>\n",
       "<style scoped>\n",
       "    .dataframe tbody tr th:only-of-type {\n",
       "        vertical-align: middle;\n",
       "    }\n",
       "\n",
       "    .dataframe tbody tr th {\n",
       "        vertical-align: top;\n",
       "    }\n",
       "\n",
       "    .dataframe thead th {\n",
       "        text-align: right;\n",
       "    }\n",
       "</style>\n",
       "<table border=\"1\" class=\"dataframe\">\n",
       "  <thead>\n",
       "    <tr style=\"text-align: right;\">\n",
       "      <th></th>\n",
       "      <th>count</th>\n",
       "      <th>mean</th>\n",
       "      <th>std</th>\n",
       "      <th>min</th>\n",
       "      <th>25%</th>\n",
       "      <th>50%</th>\n",
       "      <th>75%</th>\n",
       "      <th>max</th>\n",
       "    </tr>\n",
       "  </thead>\n",
       "  <tbody>\n",
       "    <tr>\n",
       "      <th>length</th>\n",
       "      <td>9132.0</td>\n",
       "      <td>4178.451051</td>\n",
       "      <td>2169.105671</td>\n",
       "      <td>407.0</td>\n",
       "      <td>2677.0</td>\n",
       "      <td>3814.5</td>\n",
       "      <td>5208.25</td>\n",
       "      <td>22106.0</td>\n",
       "    </tr>\n",
       "  </tbody>\n",
       "</table>\n",
       "</div>"
      ],
      "text/plain": [
       "         count         mean          std    min     25%     50%      75%  \\\n",
       "length  9132.0  4178.451051  2169.105671  407.0  2677.0  3814.5  5208.25   \n",
       "\n",
       "            max  \n",
       "length  22106.0  "
      ]
     },
     "execution_count": 4,
     "metadata": {},
     "output_type": "execute_result"
    }
   ],
   "source": [
    "df['length'] = df['text'].str.len()\n",
    "\n",
    "df.describe().T"
   ]
  },
  {
   "cell_type": "markdown",
   "metadata": {},
   "source": [
    "## Boxplot:"
   ]
  },
  {
   "cell_type": "code",
   "execution_count": 5,
   "metadata": {},
   "outputs": [
    {
     "data": {
      "text/plain": [
       "<AxesSubplot:>"
      ]
     },
     "execution_count": 5,
     "metadata": {},
     "output_type": "execute_result"
    },
    {
     "data": {
      "image/png": "[encoded data removed]",
      "text/plain": [
       "<Figure size 432x288 with 1 Axes>"
      ]
     },
     "metadata": {},
     "output_type": "display_data"
    }
   ],
   "source": [
    "# Box plot:\n",
    "df['length'].plot(kind='box', vert=False)"
   ]
  },
  {
   "cell_type": "markdown",
   "metadata": {},
   "source": [
    "## Histogram:"
   ]
  },
  {
   "cell_type": "code",
   "execution_count": 6,
   "metadata": {},
   "outputs": [
    {
     "data": {
      "text/plain": [
       "<AxesSubplot:ylabel='Frequency'>"
      ]
     },
     "execution_count": 6,
     "metadata": {},
     "output_type": "execute_result"
    },
    {
     "data": {
      "image/png": "[encoded data removed]",
      "text/plain": [
       "<Figure size 432x288 with 1 Axes>"
      ]
     },
     "metadata": {},
     "output_type": "display_data"
    }
   ],
   "source": [
    "# Histogram:\n",
    "df['length'].plot(kind='hist', bins=30)\n"
   ]
  },
  {
   "cell_type": "markdown",
   "metadata": {},
   "source": [
    "# Create a pipeline:\n",
    "\n",
    "Below are the steps taken to process the texts."
   ]
  },
  {
   "cell_type": "code",
   "execution_count": 7,
   "metadata": {},
   "outputs": [],
   "source": [
    "stopwords_lower = list(map(lambda x: x.lower(), stopwords.words('danish')))\n",
    "\n",
    "STOPWORDS_DANISH = set(stopwords_lower)\n",
    "\n",
    "nlp = spacy.load(\"da_core_news_sm\")\n",
    "\n",
    "PUNCTUATION_TO_REMOVE = '–«!\"#$%&\\'()*+,-./:;<=>?@[\\\\]^_`{|}~»●·’“”'\n",
    "\n",
    "\n",
    "def remove_punctuation(text):\n",
    "    \"\"\"custom function to remove the punctuation\"\"\"\n",
    "    return text.translate(str.maketrans('', '', PUNCTUATION_TO_REMOVE))\n",
    "\n",
    "\n",
    "def remove_stopwords(tokens):\n",
    "    \"\"\"custom function to remove stopwords\"\"\"\n",
    "    return [t for t in tokens if t.lower() not in STOPWORDS_DANISH]\n",
    "\n",
    "\n",
    "def tokenize(text):\n",
    "    \"\"\"the following expression matches tokens consisting of at least one letter (\\p{L}), \n",
    "    preceded and followed by an arbitrary sequence of alphanumeric characters \n",
    "    (\\w includes digits, letters, and underscore) and hyphens (-)\"\"\"\n",
    "    return re.findall(r'[\\w-]*\\p{L}[\\w-]*', text)\n",
    "\n",
    "\n",
    "def drop_single_letter_words(text):\n",
    "    return [w for w in text if len(w) > 1]\n",
    "\n",
    "\n",
    "def lemmatize(text):\n",
    "    \"\"\"custom function to lemmatize text\"\"\"\n",
    "    doc = nlp(' '.join(text))\n",
    "    # pos_tagged_text = text.pos\n",
    "    return [token.lemma_ for token in doc]\n",
    "\n",
    "\n",
    "# def remove_junk(text):\n",
    "#     # Creating a spacy object\n",
    "#     doc = nlp(' '.join(text))\n",
    "#     # Checking if POS tag is X and printing them\n",
    "#     for token in doc:\n",
    "#         if token.pos_ == 'X':\n",
    "#             print(token.text)\n",
    "#     # Removing the tokens whose POS tag is junk.\n",
    "#     clean_doc = [token.text for token in doc if not token.pos_ == 'X']\n",
    "\n",
    "#     return clean_doc\n"
   ]
  },
  {
   "cell_type": "markdown",
   "metadata": {},
   "source": [
    "Steps can be added or removed from the pipeline."
   ]
  },
  {
   "cell_type": "code",
   "execution_count": 8,
   "metadata": {},
   "outputs": [],
   "source": [
    "pipeline = [str.lower, remove_punctuation, tokenize,\n",
    "            drop_single_letter_words, remove_stopwords, lemmatize]\n",
    "\n",
    "\n",
    "def process(text, pipeline):\n",
    "    tokens = text\n",
    "    for transform in pipeline:\n",
    "        tokens = transform(tokens)\n",
    "    return tokens\n"
   ]
  },
  {
   "cell_type": "code",
   "execution_count": 9,
   "metadata": {},
   "outputs": [],
   "source": [
    "# Apply the process pipeline:\n",
    "df['tokens'] = df['text'].apply(process, pipeline=pipeline)\n",
    "\n",
    "# Add column to see the number of tokens:\n",
    "df['num_tokens'] = df['tokens'].map(len)"
   ]
  },
  {
   "cell_type": "code",
   "execution_count": 10,
   "metadata": {},
   "outputs": [
    {
     "data": {
      "text/html": [
       "<div>\n",
       "<style scoped>\n",
       "    .dataframe tbody tr th:only-of-type {\n",
       "        vertical-align: middle;\n",
       "    }\n",
       "\n",
       "    .dataframe tbody tr th {\n",
       "        vertical-align: top;\n",
       "    }\n",
       "\n",
       "    .dataframe thead th {\n",
       "        text-align: right;\n",
       "    }\n",
       "</style>\n",
       "<table border=\"1\" class=\"dataframe\">\n",
       "  <thead>\n",
       "    <tr style=\"text-align: right;\">\n",
       "      <th></th>\n",
       "      <th>text</th>\n",
       "      <th>length</th>\n",
       "      <th>tokens</th>\n",
       "      <th>num_tokens</th>\n",
       "    </tr>\n",
       "  </thead>\n",
       "  <tbody>\n",
       "    <tr>\n",
       "      <th>0</th>\n",
       "      <td>Nævnet stadfæstede i marts 2022 Udlænd...</td>\n",
       "      <td>3046</td>\n",
       "      <td>[nævn, stadfæste, marts, udlændingestyrelse, a...</td>\n",
       "      <td>240</td>\n",
       "    </tr>\n",
       "    <tr>\n",
       "      <th>1</th>\n",
       "      <td>Nævnet stadfæstede i marts 2022 Udlænd...</td>\n",
       "      <td>2437</td>\n",
       "      <td>[nævn, stadfæste, marts, udlændingestyrelse, a...</td>\n",
       "      <td>189</td>\n",
       "    </tr>\n",
       "    <tr>\n",
       "      <th>2</th>\n",
       "      <td>Nævnet stadfæstede i marts 2022 Udlænd...</td>\n",
       "      <td>2754</td>\n",
       "      <td>[nævn, stadfæste, marts, udlændingestyrelse, a...</td>\n",
       "      <td>221</td>\n",
       "    </tr>\n",
       "    <tr>\n",
       "      <th>3</th>\n",
       "      <td>Nævnet stadfæstede i marts 2022 Udlænd...</td>\n",
       "      <td>2934</td>\n",
       "      <td>[nævn, stadfæste, marts, udlændingestyrelse, a...</td>\n",
       "      <td>237</td>\n",
       "    </tr>\n",
       "    <tr>\n",
       "      <th>4</th>\n",
       "      <td>Nævnet stadfæstede i marts 2022 Udlænd...</td>\n",
       "      <td>5252</td>\n",
       "      <td>[nævn, stadfæste, marts, udlændingestyrelse, a...</td>\n",
       "      <td>404</td>\n",
       "    </tr>\n",
       "  </tbody>\n",
       "</table>\n",
       "</div>"
      ],
      "text/plain": [
       "                                                text  length  \\\n",
       "0          Nævnet stadfæstede i marts 2022 Udlænd...    3046   \n",
       "1          Nævnet stadfæstede i marts 2022 Udlænd...    2437   \n",
       "2          Nævnet stadfæstede i marts 2022 Udlænd...    2754   \n",
       "3          Nævnet stadfæstede i marts 2022 Udlænd...    2934   \n",
       "4          Nævnet stadfæstede i marts 2022 Udlænd...    5252   \n",
       "\n",
       "                                              tokens  num_tokens  \n",
       "0  [nævn, stadfæste, marts, udlændingestyrelse, a...         240  \n",
       "1  [nævn, stadfæste, marts, udlændingestyrelse, a...         189  \n",
       "2  [nævn, stadfæste, marts, udlændingestyrelse, a...         221  \n",
       "3  [nævn, stadfæste, marts, udlændingestyrelse, a...         237  \n",
       "4  [nævn, stadfæste, marts, udlændingestyrelse, a...         404  "
      ]
     },
     "execution_count": 10,
     "metadata": {},
     "output_type": "execute_result"
    }
   ],
   "source": [
    "df.head()"
   ]
  },
  {
   "cell_type": "markdown",
   "metadata": {},
   "source": [
    "# Frequency analysis:\n",
    "\n",
    "Here we count the most frequent tokens in the **whole** corpus.\n"
   ]
  },
  {
   "cell_type": "code",
   "execution_count": 11,
   "metadata": {},
   "outputs": [],
   "source": [
    "# Transform the counter into a Pandas DataFrame with the following function:\n",
    "\n",
    "\"\"\"\n",
    "The tokens make up the index of the DataFrame, while the frequency values are stored in a column named freq. \n",
    "The rows are sorted so that the most frequent words appear at the head.\n",
    "The last parameter of count_words defines a minimum frequency of tokens to be included in the result. \n",
    "Its default is set to 2 to cut down on tokens occurring only once.\n",
    "\"\"\"\n",
    "\n",
    "def count_words(df, column='tokens', preprocess=None, min_freq=2):\n",
    "    # process tokens and update counter\n",
    "    def update(doc):\n",
    "        tokens = doc if preprocess is None else preprocess(doc)\n",
    "        counter.update(tokens)\n",
    "    # create counter and run through all data\n",
    "    counter = Counter() \n",
    "    df[column].map(update)\n",
    "    # transform counter into a DataFrame\n",
    "    freq_df = pd.DataFrame.from_dict(counter, orient='index', columns=['freq']) \n",
    "    freq_df = freq_df.query('freq >= @min_freq')\n",
    "    freq_df.index.name = 'token'\n",
    "    return freq_df.sort_values('freq', ascending=False)"
   ]
  },
  {
   "cell_type": "code",
   "execution_count": 12,
   "metadata": {},
   "outputs": [
    {
     "data": {
      "text/html": [
       "<div>\n",
       "<style scoped>\n",
       "    .dataframe tbody tr th:only-of-type {\n",
       "        vertical-align: middle;\n",
       "    }\n",
       "\n",
       "    .dataframe tbody tr th {\n",
       "        vertical-align: top;\n",
       "    }\n",
       "\n",
       "    .dataframe thead th {\n",
       "        text-align: right;\n",
       "    }\n",
       "</style>\n",
       "<table border=\"1\" class=\"dataframe\">\n",
       "  <thead>\n",
       "    <tr style=\"text-align: right;\">\n",
       "      <th></th>\n",
       "      <th>freq</th>\n",
       "    </tr>\n",
       "    <tr>\n",
       "      <th>token</th>\n",
       "      <th></th>\n",
       "    </tr>\n",
       "  </thead>\n",
       "  <tbody>\n",
       "    <tr>\n",
       "      <th>ansøger</th>\n",
       "      <td>187044</td>\n",
       "    </tr>\n",
       "    <tr>\n",
       "      <th>flygtningenævn</th>\n",
       "      <td>59005</td>\n",
       "    </tr>\n",
       "    <tr>\n",
       "      <th>klager</th>\n",
       "      <td>40958</td>\n",
       "    </tr>\n",
       "    <tr>\n",
       "      <th>vide</th>\n",
       "      <td>33302</td>\n",
       "    </tr>\n",
       "    <tr>\n",
       "      <th>finde</th>\n",
       "      <td>28045</td>\n",
       "    </tr>\n",
       "    <tr>\n",
       "      <th>forklare</th>\n",
       "      <td>26174</td>\n",
       "    </tr>\n",
       "    <tr>\n",
       "      <th>stk</th>\n",
       "      <td>26042</td>\n",
       "    </tr>\n",
       "    <tr>\n",
       "      <th>nævn</th>\n",
       "      <td>25539</td>\n",
       "    </tr>\n",
       "    <tr>\n",
       "      <th>udlændingelov</th>\n",
       "      <td>24550</td>\n",
       "    </tr>\n",
       "    <tr>\n",
       "      <th>udlændingestyrelse</th>\n",
       "      <td>23011</td>\n",
       "    </tr>\n",
       "  </tbody>\n",
       "</table>\n",
       "</div>"
      ],
      "text/plain": [
       "                      freq\n",
       "token                     \n",
       "ansøger             187044\n",
       "flygtningenævn       59005\n",
       "klager               40958\n",
       "vide                 33302\n",
       "finde                28045\n",
       "forklare             26174\n",
       "stk                  26042\n",
       "nævn                 25539\n",
       "udlændingelov        24550\n",
       "udlændingestyrelse   23011"
      ]
     },
     "execution_count": 12,
     "metadata": {},
     "output_type": "execute_result"
    }
   ],
   "source": [
    "# See ten most frequent words in the whole corpus:\n",
    "\n",
    "freq_df = count_words(df) \n",
    "freq_df.head(10)"
   ]
  },
  {
   "cell_type": "code",
   "execution_count": 13,
   "metadata": {},
   "outputs": [
    {
     "data": {
      "text/plain": [
       "[Text(0.5, 0, 'Frequency'), Text(0, 0.5, 'Token'), Text(0.5, 1.0, 'Top Words')]"
      ]
     },
     "execution_count": 13,
     "metadata": {},
     "output_type": "execute_result"
    },
    {
     "data": {
      "image/png": "[encoded data removed]",
      "text/plain": [
       "<Figure size 432x288 with 1 Axes>"
      ]
     },
     "metadata": {},
     "output_type": "display_data"
    }
   ],
   "source": [
    "# Plot the results:\n",
    "ax = freq_df.head(15).plot(kind='barh', width=0.95) \n",
    "ax.invert_yaxis()\n",
    "ax.set(xlabel='Frequency', ylabel='Token', title='Top Words')"
   ]
  },
  {
   "cell_type": "markdown",
   "metadata": {},
   "source": [
    "# TF-IDF Ranking:\n",
    "\n",
    "Rank tokens based on their TF-IDF score."
   ]
  },
  {
   "cell_type": "code",
   "execution_count": 14,
   "metadata": {},
   "outputs": [],
   "source": [
    "\"\"\"\n",
    "Each token is counted only once per document (counter.update(set(tokens))), \n",
    "and the IDF values are computed after counting. \n",
    "The parameter min_df serves as a filter for the long tail of infrequent words. \n",
    "The result of this function is a DataFrame.\n",
    "\"\"\"\n",
    "\n",
    "def compute_idf(df, column='tokens', preprocess=None, min_df=2):\n",
    "    def update(doc):\n",
    "        tokens = doc if preprocess is None else preprocess(doc) \n",
    "        counter.update(set(tokens))\n",
    "        # count tokens\n",
    "    counter = Counter() \n",
    "    df[column].map(update)\n",
    "        # create DataFrame and compute idf\n",
    "    idf_df = pd.DataFrame.from_dict(counter, orient='index', columns=['df']) \n",
    "    idf_df = idf_df.query('df >= @min_df')\n",
    "    idf_df['idf'] = np.log(len(df)/idf_df['df'])+0.1\n",
    "    idf_df.index.name = 'token'\n",
    "    return idf_df"
   ]
  },
  {
   "cell_type": "code",
   "execution_count": 15,
   "metadata": {},
   "outputs": [],
   "source": [
    "# Create a DataFrame containing the IDF values for each token (idf_df):\n",
    "\n",
    "idf_df = compute_idf(df)\n",
    "\n",
    "# Both the IDF and the frequency DataFrame have an index consisting of the tokens, \n",
    "# we can simply multiply the columns of both DataFrames to calculate the TF-IDF score for the terms:\n",
    "freq_df['tfidf'] = freq_df['freq'] * idf_df['idf']\n"
   ]
  },
  {
   "cell_type": "code",
   "execution_count": 16,
   "metadata": {},
   "outputs": [
    {
     "data": {
      "text/html": [
       "<div>\n",
       "<style scoped>\n",
       "    .dataframe tbody tr th:only-of-type {\n",
       "        vertical-align: middle;\n",
       "    }\n",
       "\n",
       "    .dataframe tbody tr th {\n",
       "        vertical-align: top;\n",
       "    }\n",
       "\n",
       "    .dataframe thead th {\n",
       "        text-align: right;\n",
       "    }\n",
       "</style>\n",
       "<table border=\"1\" class=\"dataframe\">\n",
       "  <thead>\n",
       "    <tr style=\"text-align: right;\">\n",
       "      <th></th>\n",
       "      <th>freq</th>\n",
       "      <th>tfidf</th>\n",
       "    </tr>\n",
       "    <tr>\n",
       "      <th>token</th>\n",
       "      <th></th>\n",
       "      <th></th>\n",
       "    </tr>\n",
       "  </thead>\n",
       "  <tbody>\n",
       "    <tr>\n",
       "      <th>klager</th>\n",
       "      <td>40958</td>\n",
       "      <td>73878.526274</td>\n",
       "    </tr>\n",
       "    <tr>\n",
       "      <th>ansøger</th>\n",
       "      <td>187044</td>\n",
       "      <td>44984.339127</td>\n",
       "    </tr>\n",
       "    <tr>\n",
       "      <th>iran</th>\n",
       "      <td>12248</td>\n",
       "      <td>19146.108399</td>\n",
       "    </tr>\n",
       "    <tr>\n",
       "      <th>afghanistan</th>\n",
       "      <td>10683</td>\n",
       "      <td>18346.487665</td>\n",
       "    </tr>\n",
       "    <tr>\n",
       "      <th>ansøge</th>\n",
       "      <td>10019</td>\n",
       "      <td>18248.265099</td>\n",
       "    </tr>\n",
       "    <tr>\n",
       "      <th>somalia</th>\n",
       "      <td>7057</td>\n",
       "      <td>17184.380343</td>\n",
       "    </tr>\n",
       "    <tr>\n",
       "      <th>syrien</th>\n",
       "      <td>7561</td>\n",
       "      <td>15725.970198</td>\n",
       "    </tr>\n",
       "    <tr>\n",
       "      <th>irak</th>\n",
       "      <td>8613</td>\n",
       "      <td>15582.578532</td>\n",
       "    </tr>\n",
       "    <tr>\n",
       "      <th>far</th>\n",
       "      <td>12538</td>\n",
       "      <td>15252.619197</td>\n",
       "    </tr>\n",
       "    <tr>\n",
       "      <th>taliban</th>\n",
       "      <td>6662</td>\n",
       "      <td>15178.367384</td>\n",
       "    </tr>\n",
       "    <tr>\n",
       "      <th>ægtefælle</th>\n",
       "      <td>11437</td>\n",
       "      <td>14899.351794</td>\n",
       "    </tr>\n",
       "    <tr>\n",
       "      <th>forklare</th>\n",
       "      <td>26174</td>\n",
       "      <td>14466.910091</td>\n",
       "    </tr>\n",
       "    <tr>\n",
       "      <th>alshabaab</th>\n",
       "      <td>4848</td>\n",
       "      <td>13178.077634</td>\n",
       "    </tr>\n",
       "    <tr>\n",
       "      <th>bror</th>\n",
       "      <td>8353</td>\n",
       "      <td>11693.395650</td>\n",
       "    </tr>\n",
       "    <tr>\n",
       "      <th>familie</th>\n",
       "      <td>19673</td>\n",
       "      <td>11263.724581</td>\n",
       "    </tr>\n",
       "  </tbody>\n",
       "</table>\n",
       "</div>"
      ],
      "text/plain": [
       "               freq         tfidf\n",
       "token                            \n",
       "klager        40958  73878.526274\n",
       "ansøger      187044  44984.339127\n",
       "iran          12248  19146.108399\n",
       "afghanistan   10683  18346.487665\n",
       "ansøge        10019  18248.265099\n",
       "somalia        7057  17184.380343\n",
       "syrien         7561  15725.970198\n",
       "irak           8613  15582.578532\n",
       "far           12538  15252.619197\n",
       "taliban        6662  15178.367384\n",
       "ægtefælle     11437  14899.351794\n",
       "forklare      26174  14466.910091\n",
       "alshabaab      4848  13178.077634\n",
       "bror           8353  11693.395650\n",
       "familie       19673  11263.724581"
      ]
     },
     "execution_count": 16,
     "metadata": {},
     "output_type": "execute_result"
    }
   ],
   "source": [
    "# Sort values based on their score:\n",
    "freq_df = freq_df.sort_values('tfidf', ascending=False)\n",
    "\n",
    "# See the top 15:\n",
    "freq_df.head(15)"
   ]
  },
  {
   "cell_type": "code",
   "execution_count": 17,
   "metadata": {},
   "outputs": [
    {
     "data": {
      "text/plain": [
       "[Text(0.5, 0, 'Weights'),\n",
       " Text(0, 0.5, 'Token'),\n",
       " Text(0.5, 1.0, 'Top 15 Words based on TF-IDF Ranking')]"
      ]
     },
     "execution_count": 17,
     "metadata": {},
     "output_type": "execute_result"
    },
    {
     "data": {
      "image/png": "[encoded data removed]",
      "text/plain": [
       "<Figure size 432x288 with 1 Axes>"
      ]
     },
     "metadata": {},
     "output_type": "display_data"
    }
   ],
   "source": [
    "# Plot the results:\n",
    "ax_tf_idf = freq_df['tfidf'].head(15).plot(kind='barh', width=0.95) \n",
    "ax_tf_idf.invert_yaxis()\n",
    "ax_tf_idf.set(xlabel='Weights', ylabel='Token', title='Top 15 Words based on TF-IDF Ranking')"
   ]
  },
  {
   "cell_type": "markdown",
   "metadata": {},
   "source": [
    "# Keyword in context (KWIC):\n",
    "\n",
    "KWIC analysis produces a list of text fragments of equal length showing the left and right context of a keyword."
   ]
  },
  {
   "cell_type": "code",
   "execution_count": 18,
   "metadata": {},
   "outputs": [],
   "source": [
    "\"\"\"\n",
    "The function iteratively collects the keyword contexts by applying the add_kwic function to each document with map. \n",
    "By default, the function returns a list of tuples of the form (left context, keyword, right context). \n",
    "If print_samples is greater than 0, a random sample of the results is printed. \n",
    "Sampling is especially useful with lots of documents because the first entries of the list \n",
    "would otherwise stem from a single or a very small number of documents.\n",
    "\"\"\"\n",
    "\n",
    "def kwic(doc_series, keyword, window=35, print_samples=5):\n",
    "    def add_kwic(text):\n",
    "        kwic_list.extend(keyword_in_context(text, keyword, ignore_case=True, window_width=window))\n",
    "\n",
    "    kwic_list = []\n",
    "    doc_series.map(add_kwic)\n",
    "\n",
    "    if print_samples is None or print_samples == 0:\n",
    "        return kwic_list\n",
    "    else:\n",
    "        k = min(print_samples, len(kwic_list))\n",
    "        print(f'{k} random samples out of {len(kwic_list)} ' +\n",
    "              f\"contexts for '{keyword}':\")\n",
    "        for sample in random.sample(list(kwic_list), k):\n",
    "            print(re.sub(r'[\\n\\t]', ' ', sample[0]) + ' ' +\n",
    "                  sample[1]+' ' +\n",
    "                  re.sub(r'[\\n\\t]', ' ', sample[2]))\n"
   ]
  },
  {
   "cell_type": "markdown",
   "metadata": {},
   "source": [
    "Bellow we apply KWIC for `stk` keyword found from the frequency analysis and print 10 random context appearances.\n",
    "\n",
    "The call is made to the original untokenized & unprocessed dataset."
   ]
  },
  {
   "cell_type": "code",
   "execution_count": 19,
   "metadata": {},
   "outputs": [
    {
     "name": "stdout",
     "output_type": "stream",
     "text": [
      "10 random samples out of 26202 contexts for 'stk':\n",
      "lgelse efter udlændingelovens § 7,  stk . 1. Den kvindelige ansøger, der ik\n",
      " omfattet af udlændingelovens § 7,  stk . 2, ved en tilbagevende til Iran. \n",
      " omfattet af udlændingelovens § 7,  stk . 1, eller i risiko for at blive ud\n",
      "§ 7, stk. 1, subsidiært efter § 7,  stk . 2 grundet individuelle forhold. K\n",
      "sylland, jf. udlændingelovens § 7,  stk . 4. Flygtningenævnet stadfæster de\n",
      "medfør af udlændingelovens § 48 a,  stk . 1, 1. pkt., jf. § 29 a, stk. 1, j\n",
      " omfattet af udlændingelovens § 7,  stk . 1. Det bemærkes imidlertid, at an\n",
      "jf. Dublinforordningens artikel 3,  stk . 2, 2. led. De anførte forhold – h\n",
      "i medfør af udlændingelovens § 17,  stk . 1, jf. § 17, stk. 4, jf. § 17 a, \n",
      "estemmelse i udlændingelovens § 7,  stk . 2. Ansøgeren var på tidspunktet f\n"
     ]
    }
   ],
   "source": [
    "kwic(df['text'], 'stk', print_samples=10)"
   ]
  },
  {
   "cell_type": "markdown",
   "metadata": {},
   "source": [
    "# N-gram analysis:"
   ]
  },
  {
   "cell_type": "code",
   "execution_count": 20,
   "metadata": {},
   "outputs": [],
   "source": [
    "\"\"\"\n",
    "Create the bigrams on all tokens but keep only those that do not contain any stop words.\n",
    "\"\"\"\n",
    "\n",
    "def ngrams(tokens, n=2, sep=' ', stopwords=set()):\n",
    "    return [sep.join(ngram) for ngram in zip(*[tokens[i:] for i in range(n)]) \n",
    "            if len([t for t in ngram if t in stopwords]) == 0]\n"
   ]
  },
  {
   "cell_type": "markdown",
   "metadata": {},
   "source": [
    "Add a column to the dataset containing all 'bigrams'.\n",
    "\n",
    "Then apply `count_words` in order to determing the 10 most popular ones."
   ]
  },
  {
   "cell_type": "code",
   "execution_count": 21,
   "metadata": {},
   "outputs": [
    {
     "data": {
      "text/html": [
       "<div>\n",
       "<style scoped>\n",
       "    .dataframe tbody tr th:only-of-type {\n",
       "        vertical-align: middle;\n",
       "    }\n",
       "\n",
       "    .dataframe tbody tr th {\n",
       "        vertical-align: top;\n",
       "    }\n",
       "\n",
       "    .dataframe thead th {\n",
       "        text-align: right;\n",
       "    }\n",
       "</style>\n",
       "<table border=\"1\" class=\"dataframe\">\n",
       "  <thead>\n",
       "    <tr style=\"text-align: right;\">\n",
       "      <th></th>\n",
       "      <th>freq</th>\n",
       "    </tr>\n",
       "    <tr>\n",
       "      <th>token</th>\n",
       "      <th></th>\n",
       "    </tr>\n",
       "  </thead>\n",
       "  <tbody>\n",
       "    <tr>\n",
       "      <th>udlændingelovens stk</th>\n",
       "      <td>18701</td>\n",
       "    </tr>\n",
       "    <tr>\n",
       "      <th>udlændingestyrelsens afgørelse</th>\n",
       "      <td>12901</td>\n",
       "    </tr>\n",
       "    <tr>\n",
       "      <th>flygtningenævnet finder</th>\n",
       "      <td>10268</td>\n",
       "    </tr>\n",
       "    <tr>\n",
       "      <th>ansøgerens forklaring</th>\n",
       "      <td>10076</td>\n",
       "    </tr>\n",
       "    <tr>\n",
       "      <th>asylmotiv henvist</th>\n",
       "      <td>8353</td>\n",
       "    </tr>\n",
       "    <tr>\n",
       "      <th>lagt vægt</th>\n",
       "      <td>7986</td>\n",
       "    </tr>\n",
       "    <tr>\n",
       "      <th>flygtningenævnet udtalte</th>\n",
       "      <td>7964</td>\n",
       "    </tr>\n",
       "    <tr>\n",
       "      <th>nævnet stadfæstede</th>\n",
       "      <td>6567</td>\n",
       "    </tr>\n",
       "    <tr>\n",
       "      <th>politisk aktiv</th>\n",
       "      <td>6552</td>\n",
       "    </tr>\n",
       "    <tr>\n",
       "      <th>afgørelse vedrørende</th>\n",
       "      <td>6447</td>\n",
       "    </tr>\n",
       "  </tbody>\n",
       "</table>\n",
       "</div>"
      ],
      "text/plain": [
       "                                 freq\n",
       "token                                \n",
       "udlændingelovens stk            18701\n",
       "udlændingestyrelsens afgørelse  12901\n",
       "flygtningenævnet finder         10268\n",
       "ansøgerens forklaring           10076\n",
       "asylmotiv henvist                8353\n",
       "lagt vægt                        7986\n",
       "flygtningenævnet udtalte         7964\n",
       "nævnet stadfæstede               6567\n",
       "politisk aktiv                   6552\n",
       "afgørelse vedrørende             6447"
      ]
     },
     "execution_count": 21,
     "metadata": {},
     "output_type": "execute_result"
    }
   ],
   "source": [
    "df['bigrams'] = df['text'].apply(process, pipeline=[str.lower, tokenize]).apply(ngrams, n=2, stopwords=STOPWORDS_DANISH)\n",
    "\n",
    "count_words(df, 'bigrams').head(10)"
   ]
  }
 ],
 "metadata": {
  "interpreter": {
   "hash": "b6672ba510bd43d5df0d34395a84685a825e41d35f5301d8abef98bca1680e82"
  },
  "kernelspec": {
   "display_name": "Python 3.9.9 64-bit ('base': conda)",
   "language": "python",
   "name": "python3"
  },
  "language_info": {
   "codemirror_mode": {
    "name": "ipython",
    "version": 3
   },
   "file_extension": ".py",
   "mimetype": "text/x-python",
   "name": "python",
   "nbconvert_exporter": "python",
   "pygments_lexer": "ipython3",
   "version": "3.9.9"
  },
  "orig_nbformat": 4
 },
 "nbformat": 4,
 "nbformat_minor": 2
}
