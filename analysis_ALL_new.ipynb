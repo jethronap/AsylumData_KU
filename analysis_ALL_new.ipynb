{
 "cells": [
  {
   "cell_type": "code",
   "execution_count": null,
   "metadata": {},
   "outputs": [],
   "source": [
    "import matplotlib.pyplot as plt\n",
    "import seaborn as sns\n",
    "import pandas as pd\n",
    "import numpy as np\n",
    "import random\n",
    "import regex as re\n",
    "\n",
    "from nltk.corpus import stopwords\n",
    "# Need to uncomment the following line in order to download nltk stopwords:\n",
    "# nltk.download('stopwords')\n",
    "import spacy\n",
    "from textacy.extract import keyword_in_context\n",
    "\n",
    "from collections import Counter\n",
    "\n",
    "import warnings\n",
    "warnings.filterwarnings(\"ignore\", category=DeprecationWarning)\n",
    "\n",
    "plt.style.use(style='seaborn')\n",
    "%matplotlib inline\n",
    "sns.set()"
   ]
  },
  {
   "cell_type": "markdown",
   "metadata": {},
   "source": [
    "# Import data set:"
   ]
  },
  {
   "cell_type": "code",
   "execution_count": null,
   "metadata": {},
   "outputs": [
    {
     "data": {
      "text/plain": [
       "(9324, 5)"
      ]
     },
     "metadata": {},
     "output_type": "display_data"
    }
   ],
   "source": [
    "pd.options.mode.chained_assignment = None\n",
    "\n",
    "with open('data/dk_asylum_data.json', encoding='utf-8') as inputfile:\n",
    "    df_full = pd.read_json(inputfile)\n",
    "\n",
    "# Convert json to csv:\n",
    "df_full.to_csv('data/dk_asylum_data.csv', encoding='utf-8', index=False)\n",
    "\n",
    "df_full.shape\n"
   ]
  }
 ],
 "metadata": {
  "language_info": {
   "name": "python"
  },
  "orig_nbformat": 4
 },
 "nbformat": 4,
 "nbformat_minor": 2
}
