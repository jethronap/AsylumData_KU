{
 "cells": [
  {
   "cell_type": "code",
   "execution_count": 35,
   "metadata": {},
   "outputs": [],
   "source": [
    "import matplotlib.pyplot as plt\n",
    "import seaborn as sns\n",
    "import pandas as pd\n",
    "import numpy as np\n",
    "import random\n",
    "import regex as re\n",
    "\n",
    "from nltk.corpus import stopwords\n",
    "# Need to uncomment the following line in order to download nltk stopwords:\n",
    "# nltk.download('stopwords')\n",
    "import spacy\n",
    "from textacy.extract import keyword_in_context\n",
    "\n",
    "from collections import Counter\n",
    "\n",
    "from sklearn.decomposition import NMF, TruncatedSVD, LatentDirichletAllocation\n",
    "from sklearn.feature_extraction.text import CountVectorizer\n",
    "\n",
    "import pyLDAvis.sklearn\n",
    "\n",
    "import warnings\n",
    "warnings.filterwarnings(\"ignore\")\n",
    "\n",
    "plt.style.use(style='seaborn')\n",
    "%matplotlib inline\n",
    "sns.set()"
   ]
  },
  {
   "cell_type": "markdown",
   "metadata": {},
   "source": [
    "# Import data set:"
   ]
  },
  {
   "cell_type": "code",
   "execution_count": 36,
   "metadata": {},
   "outputs": [
    {
     "data": {
      "text/plain": [
       "(9324, 5)"
      ]
     },
     "execution_count": 36,
     "metadata": {},
     "output_type": "execute_result"
    }
   ],
   "source": [
    "pd.options.mode.chained_assignment = None\n",
    "\n",
    "with open('data/dk_asylum_data.json', encoding='utf-8') as inputfile:\n",
    "    df_full = pd.read_json(inputfile)\n",
    "\n",
    "# Convert json to csv:\n",
    "df_full.to_csv('data/dk_asylum_data.csv', encoding='utf-8', index=False)\n",
    "\n",
    "df_full.shape\n"
   ]
  },
  {
   "cell_type": "markdown",
   "metadata": {},
   "source": [
    "## Keep cases marked as Unknown Homeland (Ukendt hjemland):"
   ]
  },
  {
   "cell_type": "code",
   "execution_count": 37,
   "metadata": {},
   "outputs": [
    {
     "data": {
      "text/plain": [
       "(192, 1)"
      ]
     },
     "execution_count": 37,
     "metadata": {},
     "output_type": "execute_result"
    }
   ],
   "source": [
    "df_ALL = df_full[df_full.country == \"Ukendt hjemland\"]\n",
    "\n",
    "# Drop redundant column:\n",
    "df_ALL.drop('hasText', axis=1, inplace=True)\n",
    "\n",
    "# Keep column 'text':\n",
    "df = df_ALL[['text']]\n",
    "\n",
    "df[\"text\"] = df[\"text\"].astype(str)\n",
    "\n",
    "df.shape\n",
    "\n",
    "#df.head()\n"
   ]
  },
  {
   "cell_type": "markdown",
   "metadata": {},
   "source": [
    "## Length of texts\n",
    "\n",
    "Create a numeric column in order to get a feel about the length of the texts. "
   ]
  },
  {
   "cell_type": "code",
   "execution_count": 38,
   "metadata": {},
   "outputs": [
    {
     "data": {
      "text/html": [
       "<div>\n",
       "<style scoped>\n",
       "    .dataframe tbody tr th:only-of-type {\n",
       "        vertical-align: middle;\n",
       "    }\n",
       "\n",
       "    .dataframe tbody tr th {\n",
       "        vertical-align: top;\n",
       "    }\n",
       "\n",
       "    .dataframe thead th {\n",
       "        text-align: right;\n",
       "    }\n",
       "</style>\n",
       "<table border=\"1\" class=\"dataframe\">\n",
       "  <thead>\n",
       "    <tr style=\"text-align: right;\">\n",
       "      <th></th>\n",
       "      <th>count</th>\n",
       "      <th>mean</th>\n",
       "      <th>std</th>\n",
       "      <th>min</th>\n",
       "      <th>25%</th>\n",
       "      <th>50%</th>\n",
       "      <th>75%</th>\n",
       "      <th>max</th>\n",
       "    </tr>\n",
       "  </thead>\n",
       "  <tbody>\n",
       "    <tr>\n",
       "      <th>length</th>\n",
       "      <td>192.0</td>\n",
       "      <td>5016.598958</td>\n",
       "      <td>2045.83413</td>\n",
       "      <td>1104.0</td>\n",
       "      <td>3522.0</td>\n",
       "      <td>4789.0</td>\n",
       "      <td>6148.75</td>\n",
       "      <td>13105.0</td>\n",
       "    </tr>\n",
       "  </tbody>\n",
       "</table>\n",
       "</div>"
      ],
      "text/plain": [
       "        count         mean         std     min     25%     50%      75%  \\\n",
       "length  192.0  5016.598958  2045.83413  1104.0  3522.0  4789.0  6148.75   \n",
       "\n",
       "            max  \n",
       "length  13105.0  "
      ]
     },
     "execution_count": 38,
     "metadata": {},
     "output_type": "execute_result"
    }
   ],
   "source": [
    "df['length'] = df['text'].str.len()\n",
    "\n",
    "df.describe().T"
   ]
  },
  {
   "cell_type": "markdown",
   "metadata": {},
   "source": [
    "## Boxplot:"
   ]
  },
  {
   "cell_type": "code",
   "execution_count": 39,
   "metadata": {},
   "outputs": [
    {
     "data": {
      "text/plain": [
       "<AxesSubplot:>"
      ]
     },
     "execution_count": 39,
     "metadata": {},
     "output_type": "execute_result"
    },
    {
     "data": {
      "image/png": "[encoded data removed]",
      "text/plain": [
       "<Figure size 432x288 with 1 Axes>"
      ]
     },
     "metadata": {},
     "output_type": "display_data"
    }
   ],
   "source": [
    "# Box plot:\n",
    "df['length'].plot(kind='box', vert=False)"
   ]
  },
  {
   "cell_type": "markdown",
   "metadata": {},
   "source": [
    "## Histogram:"
   ]
  },
  {
   "cell_type": "code",
   "execution_count": 40,
   "metadata": {},
   "outputs": [
    {
     "data": {
      "text/plain": [
       "<AxesSubplot:ylabel='Frequency'>"
      ]
     },
     "execution_count": 40,
     "metadata": {},
     "output_type": "execute_result"
    },
    {
     "data": {
      "image/png": "[encoded data removed]",
      "text/plain": [
       "<Figure size 432x288 with 1 Axes>"
      ]
     },
     "metadata": {},
     "output_type": "display_data"
    }
   ],
   "source": [
    "# Histogram:\n",
    "df['length'].plot(kind='hist', bins=30)\n"
   ]
  },
  {
   "cell_type": "markdown",
   "metadata": {},
   "source": [
    "# Create a pipeline:\n",
    "\n",
    "Below are the steps taken to process the texts."
   ]
  },
  {
   "cell_type": "code",
   "execution_count": 41,
   "metadata": {},
   "outputs": [],
   "source": [
    "stopwords_lower = list(map(lambda x: x.lower(), stopwords.words('danish')))\n",
    "\n",
    "STOPWORDS_DANISH = set(stopwords_lower)\n",
    "\n",
    "nlp = spacy.load(\"da_core_news_sm\")\n",
    "\n",
    "PUNCTUATION_TO_REMOVE = '–«!\"#$%&\\'()*+,-./:;<=>?@[\\\\]^_`{|}~»●·’“”'\n",
    "\n",
    "\n",
    "def remove_punctuation(text):\n",
    "    \"\"\"custom function to remove the punctuation\"\"\"\n",
    "    return text.translate(str.maketrans('', '', PUNCTUATION_TO_REMOVE))\n",
    "\n",
    "\n",
    "def remove_stopwords(tokens):\n",
    "    \"\"\"custom function to remove stopwords\"\"\"\n",
    "    return [t for t in tokens if t.lower() not in STOPWORDS_DANISH]\n",
    "\n",
    "\n",
    "def tokenize(text):\n",
    "    \"\"\"the following expression matches tokens consisting of at least one letter (\\p{L}), \n",
    "    preceded and followed by an arbitrary sequence of alphanumeric characters \n",
    "    (\\w includes digits, letters, and underscore) and hyphens (-)\"\"\"\n",
    "    return re.findall(r'[\\w-]*\\p{L}[\\w-]*', text)\n",
    "\n",
    "\n",
    "def drop_single_letter_words(text):\n",
    "    return [w for w in text if len(w) > 1]\n",
    "\n",
    "\n",
    "def lemmatize(text):\n",
    "    \"\"\"custom function to lemmatize text\"\"\"\n",
    "    doc = nlp(' '.join(text))\n",
    "    # pos_tagged_text = text.pos\n",
    "    return [token.lemma_ for token in doc]\n",
    "\n",
    "\n",
    "# def remove_junk(text):\n",
    "#     # Creating a spacy object\n",
    "#     doc = nlp(' '.join(text))\n",
    "#     # Checking if POS tag is X and printing them\n",
    "#     for token in doc:\n",
    "#         if token.pos_ == 'X':\n",
    "#             print(token.text)\n",
    "#     # Removing the tokens whose POS tag is junk.\n",
    "#     clean_doc = [token.text for token in doc if not token.pos_ == 'X']\n",
    "\n",
    "#     return clean_doc\n"
   ]
  },
  {
   "cell_type": "markdown",
   "metadata": {},
   "source": [
    "Steps can be added or removed from the pipeline."
   ]
  },
  {
   "cell_type": "code",
   "execution_count": 42,
   "metadata": {},
   "outputs": [],
   "source": [
    "pipeline = [str.lower, remove_punctuation, tokenize,\n",
    "            drop_single_letter_words, remove_stopwords, lemmatize]\n",
    "\n",
    "\n",
    "def process(text, pipeline):\n",
    "    tokens = text\n",
    "    for transform in pipeline:\n",
    "        tokens = transform(tokens)\n",
    "    return tokens\n"
   ]
  },
  {
   "cell_type": "code",
   "execution_count": 43,
   "metadata": {},
   "outputs": [],
   "source": [
    "# Apply the process pipeline:\n",
    "df['tokens'] = df['text'].apply(process, pipeline=pipeline)\n",
    "\n",
    "# Add column to see the number of tokens:\n",
    "df['num_tokens'] = df['tokens'].map(len)"
   ]
  },
  {
   "cell_type": "code",
   "execution_count": 44,
   "metadata": {},
   "outputs": [
    {
     "data": {
      "text/html": [
       "<div>\n",
       "<style scoped>\n",
       "    .dataframe tbody tr th:only-of-type {\n",
       "        vertical-align: middle;\n",
       "    }\n",
       "\n",
       "    .dataframe tbody tr th {\n",
       "        vertical-align: top;\n",
       "    }\n",
       "\n",
       "    .dataframe thead th {\n",
       "        text-align: right;\n",
       "    }\n",
       "</style>\n",
       "<table border=\"1\" class=\"dataframe\">\n",
       "  <thead>\n",
       "    <tr style=\"text-align: right;\">\n",
       "      <th></th>\n",
       "      <th>text</th>\n",
       "      <th>length</th>\n",
       "      <th>tokens</th>\n",
       "      <th>num_tokens</th>\n",
       "    </tr>\n",
       "  </thead>\n",
       "  <tbody>\n",
       "    <tr>\n",
       "      <th>201</th>\n",
       "      <td>Nævnet stadfæstede i november 2021 Udl...</td>\n",
       "      <td>4753</td>\n",
       "      <td>[nævn, stadfæste, november, udlændingestyrelse...</td>\n",
       "      <td>373</td>\n",
       "    </tr>\n",
       "    <tr>\n",
       "      <th>428</th>\n",
       "      <td>Nævnet stadfæstede i juni 2021 Udlændi...</td>\n",
       "      <td>3149</td>\n",
       "      <td>[nævn, stadfæste, juni, udlændingestyrelse, af...</td>\n",
       "      <td>243</td>\n",
       "    </tr>\n",
       "    <tr>\n",
       "      <th>464</th>\n",
       "      <td>Nævnet stadfæstede i juni 2021 Udlændi...</td>\n",
       "      <td>4433</td>\n",
       "      <td>[nævn, stadfæste, juni, udlændingestyrelse, af...</td>\n",
       "      <td>350</td>\n",
       "    </tr>\n",
       "    <tr>\n",
       "      <th>901</th>\n",
       "      <td>Nævnet stadfæstede i december 2020 Udl...</td>\n",
       "      <td>2664</td>\n",
       "      <td>[nævn, stadfæste, december, udlændingestyrelse...</td>\n",
       "      <td>207</td>\n",
       "    </tr>\n",
       "    <tr>\n",
       "      <th>1291</th>\n",
       "      <td>Nævnet hjemviste i juni 2020 Udlænding...</td>\n",
       "      <td>4626</td>\n",
       "      <td>[nævn, hjemviste, juni, udlændingestyrelse, af...</td>\n",
       "      <td>354</td>\n",
       "    </tr>\n",
       "  </tbody>\n",
       "</table>\n",
       "</div>"
      ],
      "text/plain": [
       "                                                   text  length  \\\n",
       "201           Nævnet stadfæstede i november 2021 Udl...    4753   \n",
       "428           Nævnet stadfæstede i juni 2021 Udlændi...    3149   \n",
       "464           Nævnet stadfæstede i juni 2021 Udlændi...    4433   \n",
       "901           Nævnet stadfæstede i december 2020 Udl...    2664   \n",
       "1291          Nævnet hjemviste i juni 2020 Udlænding...    4626   \n",
       "\n",
       "                                                 tokens  num_tokens  \n",
       "201   [nævn, stadfæste, november, udlændingestyrelse...         373  \n",
       "428   [nævn, stadfæste, juni, udlændingestyrelse, af...         243  \n",
       "464   [nævn, stadfæste, juni, udlændingestyrelse, af...         350  \n",
       "901   [nævn, stadfæste, december, udlændingestyrelse...         207  \n",
       "1291  [nævn, hjemviste, juni, udlændingestyrelse, af...         354  "
      ]
     },
     "execution_count": 44,
     "metadata": {},
     "output_type": "execute_result"
    }
   ],
   "source": [
    "df.head()"
   ]
  },
  {
   "cell_type": "markdown",
   "metadata": {},
   "source": [
    "# Frequency analysis:\n",
    "\n",
    "Here we count the most frequent tokens in the **whole** corpus.\n"
   ]
  },
  {
   "cell_type": "code",
   "execution_count": 45,
   "metadata": {},
   "outputs": [],
   "source": [
    "# Transform the counter into a Pandas DataFrame with the following function:\n",
    "\n",
    "\"\"\"\n",
    "The tokens make up the index of the DataFrame, while the frequency values are stored in a column named freq. \n",
    "The rows are sorted so that the most frequent words appear at the head.\n",
    "The last parameter of count_words defines a minimum frequency of tokens to be included in the result. \n",
    "Its default is set to 2 to cut down on tokens occurring only once.\n",
    "\"\"\"\n",
    "\n",
    "def count_words(df, column='tokens', preprocess=None, min_freq=2):\n",
    "    # process tokens and update counter\n",
    "    def update(doc):\n",
    "        tokens = doc if preprocess is None else preprocess(doc)\n",
    "        counter.update(tokens)\n",
    "    # create counter and run through all data\n",
    "    counter = Counter() \n",
    "    df[column].map(update)\n",
    "    # transform counter into a DataFrame\n",
    "    freq_df = pd.DataFrame.from_dict(counter, orient='index', columns=['freq']) \n",
    "    freq_df = freq_df.query('freq >= @min_freq')\n",
    "    freq_df.index.name = 'token'\n",
    "    return freq_df.sort_values('freq', ascending=False)"
   ]
  },
  {
   "cell_type": "code",
   "execution_count": 46,
   "metadata": {},
   "outputs": [
    {
     "data": {
      "text/html": [
       "<div>\n",
       "<style scoped>\n",
       "    .dataframe tbody tr th:only-of-type {\n",
       "        vertical-align: middle;\n",
       "    }\n",
       "\n",
       "    .dataframe tbody tr th {\n",
       "        vertical-align: top;\n",
       "    }\n",
       "\n",
       "    .dataframe thead th {\n",
       "        text-align: right;\n",
       "    }\n",
       "</style>\n",
       "<table border=\"1\" class=\"dataframe\">\n",
       "  <thead>\n",
       "    <tr style=\"text-align: right;\">\n",
       "      <th></th>\n",
       "      <th>freq</th>\n",
       "    </tr>\n",
       "    <tr>\n",
       "      <th>token</th>\n",
       "      <th></th>\n",
       "    </tr>\n",
       "  </thead>\n",
       "  <tbody>\n",
       "    <tr>\n",
       "      <th>ansøger</th>\n",
       "      <td>4889</td>\n",
       "    </tr>\n",
       "    <tr>\n",
       "      <th>flygtningenævn</th>\n",
       "      <td>1510</td>\n",
       "    </tr>\n",
       "    <tr>\n",
       "      <th>kuwait</th>\n",
       "      <td>1453</td>\n",
       "    </tr>\n",
       "    <tr>\n",
       "      <th>forklare</th>\n",
       "      <td>1252</td>\n",
       "    </tr>\n",
       "    <tr>\n",
       "      <th>oplyse</th>\n",
       "      <td>845</td>\n",
       "    </tr>\n",
       "    <tr>\n",
       "      <th>ansøge</th>\n",
       "      <td>838</td>\n",
       "    </tr>\n",
       "    <tr>\n",
       "      <th>vide</th>\n",
       "      <td>823</td>\n",
       "    </tr>\n",
       "    <tr>\n",
       "      <th>myndighed</th>\n",
       "      <td>817</td>\n",
       "    </tr>\n",
       "    <tr>\n",
       "      <th>mandlig</th>\n",
       "      <td>807</td>\n",
       "    </tr>\n",
       "    <tr>\n",
       "      <th>demonstration</th>\n",
       "      <td>745</td>\n",
       "    </tr>\n",
       "  </tbody>\n",
       "</table>\n",
       "</div>"
      ],
      "text/plain": [
       "                freq\n",
       "token               \n",
       "ansøger         4889\n",
       "flygtningenævn  1510\n",
       "kuwait          1453\n",
       "forklare        1252\n",
       "oplyse           845\n",
       "ansøge           838\n",
       "vide             823\n",
       "myndighed        817\n",
       "mandlig          807\n",
       "demonstration    745"
      ]
     },
     "execution_count": 46,
     "metadata": {},
     "output_type": "execute_result"
    }
   ],
   "source": [
    "# See ten most frequent words in the whole corpus:\n",
    "\n",
    "freq_df = count_words(df) \n",
    "freq_df.head(10)"
   ]
  },
  {
   "cell_type": "code",
   "execution_count": 47,
   "metadata": {},
   "outputs": [
    {
     "data": {
      "text/plain": [
       "[Text(0.5, 0, 'Frequency'), Text(0, 0.5, 'Token'), Text(0.5, 1.0, 'Top Words')]"
      ]
     },
     "execution_count": 47,
     "metadata": {},
     "output_type": "execute_result"
    },
    {
     "data": {
      "image/png": "[encoded data removed]",
      "text/plain": [
       "<Figure size 432x288 with 1 Axes>"
      ]
     },
     "metadata": {},
     "output_type": "display_data"
    }
   ],
   "source": [
    "# Plot the results:\n",
    "ax = freq_df.head(15).plot(kind='barh', width=0.95) \n",
    "ax.invert_yaxis()\n",
    "ax.set(xlabel='Frequency', ylabel='Token', title='Top Words')"
   ]
  },
  {
   "cell_type": "markdown",
   "metadata": {},
   "source": [
    "# TF-IDF Ranking:\n",
    "\n",
    "Rank tokens based on their TF-IDF score."
   ]
  },
  {
   "cell_type": "code",
   "execution_count": 48,
   "metadata": {},
   "outputs": [],
   "source": [
    "\"\"\"\n",
    "Each token is counted only once per document (counter.update(set(tokens))), \n",
    "and the IDF values are computed after counting. \n",
    "The parameter min_df serves as a filter for the long tail of infrequent words. \n",
    "The result of this function is a DataFrame.\n",
    "\"\"\"\n",
    "\n",
    "def compute_idf(df, column='tokens', preprocess=None, min_df=2):\n",
    "    def update(doc):\n",
    "        tokens = doc if preprocess is None else preprocess(doc) \n",
    "        counter.update(set(tokens))\n",
    "        # count tokens\n",
    "    counter = Counter() \n",
    "    df[column].map(update)\n",
    "        # create DataFrame and compute idf\n",
    "    idf_df = pd.DataFrame.from_dict(counter, orient='index', columns=['df']) \n",
    "    idf_df = idf_df.query('df >= @min_df')\n",
    "    idf_df['idf'] = np.log(len(df)/idf_df['df'])+0.1\n",
    "    idf_df.index.name = 'token'\n",
    "    return idf_df"
   ]
  },
  {
   "cell_type": "code",
   "execution_count": 49,
   "metadata": {},
   "outputs": [],
   "source": [
    "# Create a DataFrame containing the IDF values for each token (idf_df):\n",
    "\n",
    "idf_df = compute_idf(df)\n",
    "\n",
    "# Both the IDF and the frequency DataFrame have an index consisting of the tokens, \n",
    "# we can simply multiply the columns of both DataFrames to calculate the TF-IDF score for the terms:\n",
    "freq_df['tfidf'] = freq_df['freq'] * idf_df['idf']\n"
   ]
  },
  {
   "cell_type": "code",
   "execution_count": 50,
   "metadata": {},
   "outputs": [
    {
     "data": {
      "text/html": [
       "<div>\n",
       "<style scoped>\n",
       "    .dataframe tbody tr th:only-of-type {\n",
       "        vertical-align: middle;\n",
       "    }\n",
       "\n",
       "    .dataframe tbody tr th {\n",
       "        vertical-align: top;\n",
       "    }\n",
       "\n",
       "    .dataframe thead th {\n",
       "        text-align: right;\n",
       "    }\n",
       "</style>\n",
       "<table border=\"1\" class=\"dataframe\">\n",
       "  <thead>\n",
       "    <tr style=\"text-align: right;\">\n",
       "      <th></th>\n",
       "      <th>freq</th>\n",
       "      <th>tfidf</th>\n",
       "    </tr>\n",
       "    <tr>\n",
       "      <th>token</th>\n",
       "      <th></th>\n",
       "      <th></th>\n",
       "    </tr>\n",
       "  </thead>\n",
       "  <tbody>\n",
       "    <tr>\n",
       "      <th>klager</th>\n",
       "      <td>344</td>\n",
       "      <td>1050.889136</td>\n",
       "    </tr>\n",
       "    <tr>\n",
       "      <th>ansøger</th>\n",
       "      <td>4889</td>\n",
       "      <td>750.406181</td>\n",
       "    </tr>\n",
       "    <tr>\n",
       "      <th>ansøge</th>\n",
       "      <td>838</td>\n",
       "      <td>622.110129</td>\n",
       "    </tr>\n",
       "    <tr>\n",
       "      <th>kuwait</th>\n",
       "      <td>1453</td>\n",
       "      <td>523.491342</td>\n",
       "    </tr>\n",
       "    <tr>\n",
       "      <th>demonstration</th>\n",
       "      <td>745</td>\n",
       "      <td>449.909360</td>\n",
       "    </tr>\n",
       "    <tr>\n",
       "      <th>kvindelig</th>\n",
       "      <td>358</td>\n",
       "      <td>358.281583</td>\n",
       "    </tr>\n",
       "    <tr>\n",
       "      <th>ægtefælle</th>\n",
       "      <td>313</td>\n",
       "      <td>347.117041</td>\n",
       "    </tr>\n",
       "    <tr>\n",
       "      <th>eritrea</th>\n",
       "      <td>107</td>\n",
       "      <td>307.366993</td>\n",
       "    </tr>\n",
       "    <tr>\n",
       "      <th>forklare</th>\n",
       "      <td>1252</td>\n",
       "      <td>299.855953</td>\n",
       "    </tr>\n",
       "    <tr>\n",
       "      <th>bror</th>\n",
       "      <td>285</td>\n",
       "      <td>281.593543</td>\n",
       "    </tr>\n",
       "    <tr>\n",
       "      <th>mandlig</th>\n",
       "      <td>807</td>\n",
       "      <td>269.227185</td>\n",
       "    </tr>\n",
       "    <tr>\n",
       "      <th>deltage</th>\n",
       "      <td>409</td>\n",
       "      <td>246.997219</td>\n",
       "    </tr>\n",
       "    <tr>\n",
       "      <th>far</th>\n",
       "      <td>274</td>\n",
       "      <td>238.067367</td>\n",
       "    </tr>\n",
       "    <tr>\n",
       "      <th>familie</th>\n",
       "      <td>505</td>\n",
       "      <td>228.371400</td>\n",
       "    </tr>\n",
       "    <tr>\n",
       "      <th>bopæl</th>\n",
       "      <td>382</td>\n",
       "      <td>224.161706</td>\n",
       "    </tr>\n",
       "  </tbody>\n",
       "</table>\n",
       "</div>"
      ],
      "text/plain": [
       "               freq        tfidf\n",
       "token                           \n",
       "klager          344  1050.889136\n",
       "ansøger        4889   750.406181\n",
       "ansøge          838   622.110129\n",
       "kuwait         1453   523.491342\n",
       "demonstration   745   449.909360\n",
       "kvindelig       358   358.281583\n",
       "ægtefælle       313   347.117041\n",
       "eritrea         107   307.366993\n",
       "forklare       1252   299.855953\n",
       "bror            285   281.593543\n",
       "mandlig         807   269.227185\n",
       "deltage         409   246.997219\n",
       "far             274   238.067367\n",
       "familie         505   228.371400\n",
       "bopæl           382   224.161706"
      ]
     },
     "execution_count": 50,
     "metadata": {},
     "output_type": "execute_result"
    }
   ],
   "source": [
    "# Sort values based on their score:\n",
    "freq_df = freq_df.sort_values('tfidf', ascending=False)\n",
    "\n",
    "# See the top 15:\n",
    "freq_df.head(15)"
   ]
  },
  {
   "cell_type": "code",
   "execution_count": 51,
   "metadata": {},
   "outputs": [
    {
     "data": {
      "text/plain": [
       "[Text(0.5, 0, 'Weights'),\n",
       " Text(0, 0.5, 'Token'),\n",
       " Text(0.5, 1.0, 'Top 15 Words based on TF-IDF Ranking')]"
      ]
     },
     "execution_count": 51,
     "metadata": {},
     "output_type": "execute_result"
    },
    {
     "data": {
      "image/png": "[encoded data removed]",
      "text/plain": [
       "<Figure size 432x288 with 1 Axes>"
      ]
     },
     "metadata": {},
     "output_type": "display_data"
    }
   ],
   "source": [
    "# Plot the results:\n",
    "ax_tf_idf = freq_df['tfidf'].head(15).plot(kind='barh', width=0.95) \n",
    "ax_tf_idf.invert_yaxis()\n",
    "ax_tf_idf.set(xlabel='Weights', ylabel='Token', title='Top 15 Words based on TF-IDF Ranking')"
   ]
  },
  {
   "cell_type": "markdown",
   "metadata": {},
   "source": [
    "# Keyword in context (KWIC):\n",
    "\n",
    "KWIC analysis produces a list of text fragments of equal length showing the left and right context of a keyword."
   ]
  },
  {
   "cell_type": "code",
   "execution_count": 52,
   "metadata": {},
   "outputs": [],
   "source": [
    "\"\"\"\n",
    "The function iteratively collects the keyword contexts by applying the add_kwic function to each document with map. \n",
    "By default, the function returns a list of tuples of the form (left context, keyword, right context). \n",
    "If print_samples is greater than 0, a random sample of the results is printed. \n",
    "Sampling is especially useful with lots of documents because the first entries of the list \n",
    "would otherwise stem from a single or a very small number of documents.\n",
    "\"\"\"\n",
    "\n",
    "def kwic(doc_series, keyword, window=35, print_samples=5):\n",
    "    def add_kwic(text):\n",
    "        kwic_list.extend(keyword_in_context(text, keyword, ignore_case=True, window_width=window))\n",
    "\n",
    "    kwic_list = []\n",
    "    doc_series.map(add_kwic)\n",
    "\n",
    "    if print_samples is None or print_samples == 0:\n",
    "        return kwic_list\n",
    "    else:\n",
    "        k = min(print_samples, len(kwic_list))\n",
    "        print(f'{k} random samples out of {len(kwic_list)} ' +\n",
    "              f\"contexts for '{keyword}':\")\n",
    "        for sample in random.sample(list(kwic_list), k):\n",
    "            print(re.sub(r'[\\n\\t]', ' ', sample[0]) + ' ' +\n",
    "                  sample[1]+' ' +\n",
    "                  re.sub(r'[\\n\\t]', ' ', sample[2]))\n"
   ]
  },
  {
   "cell_type": "markdown",
   "metadata": {},
   "source": [
    "Bellow we apply KWIC for `stk` keyword found from the frequency analysis and print 10 random context appearances.\n",
    "\n",
    "The call is made to the original untokenized & unprocessed dataset."
   ]
  },
  {
   "cell_type": "code",
   "execution_count": 53,
   "metadata": {},
   "outputs": [
    {
     "name": "stdout",
     "output_type": "stream",
     "text": [
      "10 random samples out of 380 contexts for 'stk':\n",
      "sstatus, jf. udlændingelovens § 7,  stk . 2. Da det på nuværende tidspunkt \n",
      "i medfør af udlændingelovens § 19,  stk . 2, nr. 1, og § 19, stk. 7, 1. pkt\n",
      "adelse efter udlændingelovens § 7,  stk . 1 eller stk. 2, er opfyldt. Flygt\n",
      " A, nr. 3, og straffelovens § 191,  stk . 2, jf. stk. 1, 1. og 2. pkt., jf.\n",
      " omfattet af udlændingelovens § 7,  stk . 1 eller 2. Flygtningenævnet stadf\n",
      "d svig, jf. udlændingelovens § 19,  stk . 2, nr. 1. Klageren har således ik\n",
      "udlændingelovens § 7, stk. 1 eller  stk . 2. Ansøgerne har således hverken \n",
      "udlændingelovens § 7, stk. 1 eller  stk . 2.” hjem/2018/100/JAH\n",
      " omfattet af udlændingelovens § 7,  stk . 2. Flygtningenævnet har ikke fund\n",
      "delse efter udlændingelovens § 19,  stk . 2, nr. 1 er herefter opfyldte. Fl\n"
     ]
    }
   ],
   "source": [
    "kwic(df['text'], 'stk', print_samples=10)"
   ]
  },
  {
   "cell_type": "markdown",
   "metadata": {},
   "source": [
    "# N-gram analysis:"
   ]
  },
  {
   "cell_type": "code",
   "execution_count": 54,
   "metadata": {},
   "outputs": [],
   "source": [
    "\"\"\"\n",
    "Create the bigrams on all tokens but keep only those that do not contain any stop words.\n",
    "\"\"\"\n",
    "\n",
    "def ngrams(tokens, n=2, sep=' ', stopwords=set()):\n",
    "    return [sep.join(ngram) for ngram in zip(*[tokens[i:] for i in range(n)]) \n",
    "            if len([t for t in ngram if t in stopwords]) == 0]\n"
   ]
  },
  {
   "cell_type": "markdown",
   "metadata": {},
   "source": [
    "Add a column to the dataset containing all 'bigrams'.\n",
    "\n",
    "Then apply `count_words` in order to determing the 10 most popular ones."
   ]
  },
  {
   "cell_type": "code",
   "execution_count": 55,
   "metadata": {},
   "outputs": [
    {
     "data": {
      "text/html": [
       "<div>\n",
       "<style scoped>\n",
       "    .dataframe tbody tr th:only-of-type {\n",
       "        vertical-align: middle;\n",
       "    }\n",
       "\n",
       "    .dataframe tbody tr th {\n",
       "        vertical-align: top;\n",
       "    }\n",
       "\n",
       "    .dataframe thead th {\n",
       "        text-align: right;\n",
       "    }\n",
       "</style>\n",
       "<table border=\"1\" class=\"dataframe\">\n",
       "  <thead>\n",
       "    <tr style=\"text-align: right;\">\n",
       "      <th></th>\n",
       "      <th>freq</th>\n",
       "    </tr>\n",
       "    <tr>\n",
       "      <th>token</th>\n",
       "      <th></th>\n",
       "    </tr>\n",
       "  </thead>\n",
       "  <tbody>\n",
       "    <tr>\n",
       "      <th>mandlige ansøger</th>\n",
       "      <td>502</td>\n",
       "    </tr>\n",
       "    <tr>\n",
       "      <th>udlændingestyrelsens afgørelse</th>\n",
       "      <td>398</td>\n",
       "    </tr>\n",
       "    <tr>\n",
       "      <th>lagt vægt</th>\n",
       "      <td>282</td>\n",
       "    </tr>\n",
       "    <tr>\n",
       "      <th>kvindelige ansøger</th>\n",
       "      <td>280</td>\n",
       "    </tr>\n",
       "    <tr>\n",
       "      <th>flygtningenævnet finder</th>\n",
       "      <td>251</td>\n",
       "    </tr>\n",
       "    <tr>\n",
       "      <th>asylmotiv henvist</th>\n",
       "      <td>237</td>\n",
       "    </tr>\n",
       "    <tr>\n",
       "      <th>udlændingelovens stk</th>\n",
       "      <td>235</td>\n",
       "    </tr>\n",
       "    <tr>\n",
       "      <th>ansøgerens forklaring</th>\n",
       "      <td>230</td>\n",
       "    </tr>\n",
       "    <tr>\n",
       "      <th>forklaret divergerende</th>\n",
       "      <td>228</td>\n",
       "    </tr>\n",
       "    <tr>\n",
       "      <th>afgørelse vedrørende</th>\n",
       "      <td>189</td>\n",
       "    </tr>\n",
       "  </tbody>\n",
       "</table>\n",
       "</div>"
      ],
      "text/plain": [
       "                                freq\n",
       "token                               \n",
       "mandlige ansøger                 502\n",
       "udlændingestyrelsens afgørelse   398\n",
       "lagt vægt                        282\n",
       "kvindelige ansøger               280\n",
       "flygtningenævnet finder          251\n",
       "asylmotiv henvist                237\n",
       "udlændingelovens stk             235\n",
       "ansøgerens forklaring            230\n",
       "forklaret divergerende           228\n",
       "afgørelse vedrørende             189"
      ]
     },
     "execution_count": 55,
     "metadata": {},
     "output_type": "execute_result"
    }
   ],
   "source": [
    "df['bigrams'] = df['text'].apply(process, pipeline=[str.lower, tokenize]).apply(ngrams, n=2, stopwords=STOPWORDS_DANISH)\n",
    "\n",
    "count_words(df, 'bigrams').head(10)"
   ]
  },
  {
   "cell_type": "markdown",
   "metadata": {},
   "source": [
    "# Topic Modelling:"
   ]
  },
  {
   "cell_type": "markdown",
   "metadata": {},
   "source": [
    "## NMF:"
   ]
  },
  {
   "cell_type": "code",
   "execution_count": 56,
   "metadata": {},
   "outputs": [
    {
     "data": {
      "text/plain": [
       "(192, 1470)"
      ]
     },
     "execution_count": 56,
     "metadata": {},
     "output_type": "execute_result"
    }
   ],
   "source": [
    "from sklearn.feature_extraction.text import TfidfVectorizer\n",
    "\n",
    "tfidf_text = TfidfVectorizer(stop_words = STOPWORDS_DANISH, min_df = 5, max_df = 0.7)\n",
    "vectors_text = tfidf_text.fit_transform(df['text'])\n",
    "vectors_text.shape"
   ]
  },
  {
   "cell_type": "code",
   "execution_count": 57,
   "metadata": {},
   "outputs": [],
   "source": [
    "nmf_text_model = NMF(n_components=10, random_state=42)\n",
    "\n",
    "W_text_matrix = nmf_text_model.fit_transform(vectors_text)\n",
    "H_text_matrix = nmf_text_model.components_\n",
    "\n",
    "def display_topics(model, features, num_top_words=5):\n",
    "    for topic, word_vector in enumerate(model.components_):\n",
    "        total = word_vector.sum()\n",
    "        largest = word_vector.argsort()[::-1] # inverts sort order\n",
    "        print(\"\\nTopic %02d\" % topic)\n",
    "        for i in range(0, num_top_words):\n",
    "            print(\" %s (%2.2f)\" % (features[largest[i]], word_vector[largest[i]]*100.0/total))"
   ]
  },
  {
   "cell_type": "markdown",
   "metadata": {},
   "source": [
    "Display topics:\n",
    "\n",
    "Presenting topics, along with words and percentages with which the words contribute to each of the topic."
   ]
  },
  {
   "cell_type": "code",
   "execution_count": 58,
   "metadata": {},
   "outputs": [
    {
     "name": "stdout",
     "output_type": "stream",
     "text": [
      "\n",
      "Topic 00\n",
      " mandlige (6.08)\n",
      " ansøger (5.02)\n",
      " ansøgerne (4.57)\n",
      " kvindelige (2.29)\n",
      " ansøgernes (1.77)\n",
      "\n",
      "Topic 01\n",
      " demonstrationer (1.25)\n",
      " demonstration (1.15)\n",
      " demonstrationen (1.12)\n",
      " deltaget (0.95)\n",
      " rettigheder (0.92)\n",
      "\n",
      "Topic 02\n",
      " klageren (11.00)\n",
      " klagerens (5.27)\n",
      " jf (1.60)\n",
      " 19 (1.31)\n",
      " svig (1.30)\n",
      "\n",
      "Topic 03\n",
      " eritrea (7.68)\n",
      " sudan (3.50)\n",
      " etiopien (1.93)\n",
      " tigrinya (1.44)\n",
      " eritreiske (1.20)\n",
      "\n",
      "Topic 04\n",
      " mandlige (1.86)\n",
      " kvindelige (1.68)\n",
      " ansøger (1.65)\n",
      " ansøgerne (1.41)\n",
      " ansøgers (1.40)\n",
      "\n",
      "Topic 05\n",
      " børn (0.96)\n",
      " lægges (0.94)\n",
      " søn (0.77)\n",
      " familiemedlemmer (0.77)\n",
      " bidoonere (0.76)\n",
      "\n",
      "Topic 06\n",
      " brødre (1.52)\n",
      " bror (1.46)\n",
      " udlænding (1.20)\n",
      " far (1.14)\n",
      " divergerende (1.12)\n",
      "\n",
      "Topic 07\n",
      " navn (0.81)\n",
      " 2017 (0.80)\n",
      " statsborger (0.76)\n",
      " ihjel (0.76)\n",
      " ægtefælle (0.72)\n",
      "\n",
      "Topic 08\n",
      " hjemlandet (1.55)\n",
      " begyndelsen (1.28)\n",
      " individuel (1.20)\n",
      " bemærkes (1.13)\n",
      " 2018 (1.10)\n",
      "\n",
      "Topic 09\n",
      " forklarede (1.79)\n",
      " bopælen (1.21)\n",
      " far (1.08)\n",
      " kom (1.01)\n",
      " tog (0.99)\n"
     ]
    }
   ],
   "source": [
    "display_topics(nmf_text_model, tfidf_text.get_feature_names_out())"
   ]
  },
  {
   "cell_type": "markdown",
   "metadata": {},
   "source": [
    "See how many documents could be assigned mainly to each topic: \n",
    "\n",
    "- Calculate using the document - topic matrix and summing the individual topic contributions over all documents.\n",
    "\n",
    "Normalizing them with the total sum and multiplying by 100 gives a percentage value:"
   ]
  },
  {
   "cell_type": "code",
   "execution_count": 59,
   "metadata": {},
   "outputs": [
    {
     "data": {
      "text/plain": [
       "array([13.14753303, 12.42013457,  6.14324739,  6.3761418 ,  8.12267854,\n",
       "        8.30309525, 12.12598638, 15.16226955,  7.90400961, 10.29490388])"
      ]
     },
     "execution_count": 59,
     "metadata": {},
     "output_type": "execute_result"
    }
   ],
   "source": [
    "W_text_matrix.sum(axis=0)/W_text_matrix.sum()*100.0"
   ]
  },
  {
   "cell_type": "markdown",
   "metadata": {},
   "source": [
    "## Latent Semantic Analysis/Indexing:"
   ]
  },
  {
   "cell_type": "markdown",
   "metadata": {},
   "source": [
    "Similar analysis to NMF but using a different algorithm: Singular Value Decomposition (SVD)."
   ]
  },
  {
   "cell_type": "code",
   "execution_count": 60,
   "metadata": {},
   "outputs": [],
   "source": [
    "svd_model = TruncatedSVD(n_components=10, random_state=42)\n",
    "\n",
    "W_svd_text_matrix = svd_model.fit_transform(vectors_text)\n",
    "H_svd_text_matrix = svd_model.components_"
   ]
  },
  {
   "cell_type": "code",
   "execution_count": 61,
   "metadata": {},
   "outputs": [
    {
     "name": "stdout",
     "output_type": "stream",
     "text": [
      "\n",
      "Topic 00\n",
      " mandlige (1.51)\n",
      " ansøger (1.35)\n",
      " ansøgerne (1.18)\n",
      " kvindelige (0.70)\n",
      " ansøgers (0.55)\n",
      "\n",
      "Topic 01\n",
      " mandlige (-3.24)\n",
      " ansøger (-2.51)\n",
      " ansøgerne (-2.34)\n",
      " kvindelige (-1.36)\n",
      " ansøgers (-1.08)\n",
      "\n",
      "Topic 02\n",
      " klageren (-79.60)\n",
      " klagerens (-38.18)\n",
      " jf (-10.63)\n",
      " svig (-9.47)\n",
      " 19 (-9.33)\n",
      "\n",
      "Topic 03\n",
      " eritrea (41.21)\n",
      " sudan (19.04)\n",
      " etiopien (10.51)\n",
      " tigrinya (7.74)\n",
      " år (7.36)\n",
      "\n",
      "Topic 04\n",
      " bar (52.49)\n",
      " oplysnings (41.49)\n",
      " motivsamtalen (40.14)\n",
      " videre (36.77)\n",
      " resultat (36.10)\n",
      "\n",
      "Topic 05\n",
      " eritrea (9.94)\n",
      " lægges (9.08)\n",
      " demonstrationen (7.89)\n",
      " børn (7.19)\n",
      " hvert (6.75)\n",
      "\n",
      "Topic 06\n",
      " bror (-46.76)\n",
      " brødre (-45.90)\n",
      " udlænding (-43.03)\n",
      " ansøgerne (-40.08)\n",
      " følger (-39.35)\n",
      "\n",
      "Topic 07\n",
      " ægtefælle (8.26)\n",
      " 2017 (6.67)\n",
      " danmark (6.62)\n",
      " oplyste (6.46)\n",
      " navn (6.44)\n",
      "\n",
      "Topic 08\n",
      " hjemlandet (-44.72)\n",
      " individuel (-31.39)\n",
      " konkret (-30.32)\n",
      " efteråret (-30.27)\n",
      " bemærkes (-28.84)\n",
      "\n",
      "Topic 09\n",
      " far (25.61)\n",
      " bopælen (20.47)\n",
      " hjemlandet (15.80)\n",
      " begyndelsen (13.66)\n",
      " libyen (13.64)\n"
     ]
    }
   ],
   "source": [
    "display_topics(svd_model, tfidf_text.get_feature_names_out())"
   ]
  },
  {
   "cell_type": "markdown",
   "metadata": {},
   "source": [
    "The results are pretty much the same as with NMF. \n",
    "\n",
    "The main difference is that SVD allows for negative values. This means that contributions of individual words can be negative.\n",
    "\n",
    "SVD therefore can present words in documents which \"reject\" the corresponding topic."
   ]
  },
  {
   "cell_type": "markdown",
   "metadata": {},
   "source": [
    "# Latent Dirichlet Allocation:"
   ]
  },
  {
   "cell_type": "code",
   "execution_count": 62,
   "metadata": {},
   "outputs": [
    {
     "name": "stdout",
     "output_type": "stream",
     "text": [
      "\n",
      "Topic 00\n",
      " opsøgt (1.21)\n",
      " politiet (0.90)\n",
      " liyu (0.84)\n",
      " police (0.84)\n",
      " myndighederne (0.83)\n",
      "\n",
      "Topic 01\n",
      " nærmere (1.41)\n",
      " 2017 (1.22)\n",
      " mor (1.13)\n",
      " divergerende (1.06)\n",
      " dato (0.99)\n",
      "\n",
      "Topic 02\n",
      " eritrea (1.32)\n",
      " oplysninger (1.07)\n",
      " lægges (0.74)\n",
      " overgreb (0.73)\n",
      " sudan (0.73)\n",
      "\n",
      "Topic 03\n",
      " ansøger (3.87)\n",
      " mandlige (3.37)\n",
      " ansøgerne (2.62)\n",
      " kvindelige (1.62)\n",
      " ansøgers (1.10)\n",
      "\n",
      "Topic 04\n",
      " bidoon (1.35)\n",
      " myndighederne (1.21)\n",
      " statsløs (1.02)\n",
      " 2018 (0.92)\n",
      " udlændingestyrelsen (0.82)\n",
      "\n",
      "Topic 05\n",
      " oplysninger (1.00)\n",
      " demonstrationen (0.93)\n",
      " 2014 (0.93)\n",
      " demonstration (0.71)\n",
      " bidoonere (0.71)\n",
      "\n",
      "Topic 06\n",
      " klageren (5.98)\n",
      " klagerens (2.78)\n",
      " jf (1.56)\n",
      " opholdstilladelse (1.51)\n",
      " udlændingestyrelsen (1.44)\n",
      "\n",
      "Topic 07\n",
      " år (2.71)\n",
      " eritrea (1.77)\n",
      " mor (1.65)\n",
      " opholdt (1.23)\n",
      " født (1.09)\n",
      "\n",
      "Topic 08\n",
      " irak (1.20)\n",
      " facebook (1.18)\n",
      " bidoon (1.17)\n",
      " statsløs (1.16)\n",
      " profil (1.09)\n",
      "\n",
      "Topic 09\n",
      " divergerende (1.20)\n",
      " lagt (1.04)\n",
      " bidoon (0.90)\n",
      " far (0.77)\n",
      " bror (0.77)\n"
     ]
    }
   ],
   "source": [
    "count_text_vectorizer = CountVectorizer(stop_words=STOPWORDS_DANISH, min_df=2, max_df=0.7)\n",
    "\n",
    "count_text_vectors = count_text_vectorizer.fit_transform(df['text'])\n",
    "\n",
    "lda_text_model = LatentDirichletAllocation(n_components=10, random_state=42)\n",
    "W_lda_text_matrix = lda_text_model.fit_transform(count_text_vectors)\n",
    "H_lda_text_matrix = lda_text_model.components_\n",
    "\n",
    "display_topics(lda_text_model, count_text_vectorizer.get_feature_names_out())"
   ]
  },
  {
   "cell_type": "markdown",
   "metadata": {},
   "source": [
    "Visualise the topics produced by LDA:"
   ]
  },
  {
   "cell_type": "code",
   "execution_count": 63,
   "metadata": {},
   "outputs": [
    {
     "name": "stderr",
     "output_type": "stream",
     "text": [
      "/Users/jnap/opt/anaconda3/lib/python3.9/site-packages/past/builtins/misc.py:45: DeprecationWarning: the imp module is deprecated in favour of importlib; see the module's documentation for alternative uses\n",
      "  from imp import reload\n",
      "/Users/jnap/opt/anaconda3/lib/python3.9/site-packages/past/builtins/misc.py:45: DeprecationWarning: the imp module is deprecated in favour of importlib; see the module's documentation for alternative uses\n",
      "  from imp import reload\n",
      "/Users/jnap/opt/anaconda3/lib/python3.9/site-packages/past/builtins/misc.py:45: DeprecationWarning: the imp module is deprecated in favour of importlib; see the module's documentation for alternative uses\n",
      "  from imp import reload\n",
      "/Users/jnap/opt/anaconda3/lib/python3.9/site-packages/past/builtins/misc.py:45: DeprecationWarning: the imp module is deprecated in favour of importlib; see the module's documentation for alternative uses\n",
      "  from imp import reload\n"
     ]
    },
    {
     "data": {
      "text/html": [
       "\n",
       "<link rel=\"stylesheet\" type=\"text/css\" href=\"https://cdn.jsdelivr.net/gh/bmabey/pyLDAvis@3.3.1/pyLDAvis/js/ldavis.v1.0.0.css\">\n",
       "\n",
       "\n",
       "<div id=\"ldavis_el153851628209928006407508\"></div>\n",
       "<script type=\"text/javascript\">\n",
       "\n",
       "var ldavis_el153851628209928006407508_data = {\"mdsDat\": {\"x\": [-0.006481809596552152, 0.07325232768379802, -0.024508515687386972, -0.12499584044560295, -0.08007022243246259, -0.12536465723656742, 0.11811546589644391, 0.07717480495130162, 0.1573240809913699, -0.06444563412434097], \"y\": [0.07583337114121644, 0.0575364878660951, -0.03095488764423472, 0.010021767303138055, 0.020034850464314368, -0.057440512765143954, -0.22224174837578375, 0.06438717443386249, 0.08023094704882994, 0.002592550527706539], \"topics\": [1, 2, 3, 4, 5, 6, 7, 8, 9, 10], \"cluster\": [1, 1, 1, 1, 1, 1, 1, 1, 1, 1], \"Freq\": [4.261368819387661, 2.9075927702269397, 7.218111183112668, 36.282091820026494, 13.864949011405619, 11.858773863799858, 6.665979691476383, 2.7853791730138804, 0.9939625207303644, 13.161791146820146]}, \"tinfo\": {\"Term\": [\"klageren\", \"mandlige\", \"ans\\u00f8ger\", \"ans\\u00f8gerne\", \"bidoon\", \"\\u00e5r\", \"kvindelige\", \"klagerens\", \"statsl\\u00f8s\", \"mor\", \"lagt\", \"irak\", \"eritrea\", \"divergerende\", \"2017\", \"ans\\u00f8gernes\", \"bror\", \"opholdstilladelse\", \"ans\\u00f8gers\", \"jf\", \"n\\u00e6rmere\", \"far\", \"opholdt\", \"asylsamtalen\", \"statsborger\", \"udl\\u00e6ndingestyrelsen\", \"myndighederne\", \"ops\\u00f8gt\", \"oplysnings\", \"bem\\u00e6rker\", \"liyu\", \"police\", \"onlf\", \"fader\", \"ogaden\", \"iv\\u00e6rks\\u00e6ttes\", \"fn\", \"54\", \"tr\\u00e6ffer\", \"anbefaler\", \"komit\\u00e9\", \"myndighed\", \"omsorg\", \"behovet\", \"drager\", \"standard\", \"tilvejebringelse\", \"general\", \"opm\\u00e6rksomt\", \"comments\", \"bevismidler\", \"vidner\", \"arabien\", \"qatar\", \"forenede\", \"saudi\", \"emirater\", \"bahrain\", \"fremsat\", \"gulf\", \"arabic\", \"unders\\u00f8gelser\", \"flertallet\", \"faderen\", \"tvunget\", \"medio\", \"punkt\", \"etiopien\", \"ops\\u00f8gt\", \"s\\u00e5danne\", \"politiet\", \"dag\", \"bop\\u00e6len\", \"tortur\", \"bem\\u00e6rker\", \"asylsamtale\", \"blevet\", \"flygtede\", \"f\\u00e6ngslet\", \"fremm\\u00f8de\", \"myndighederne\", \"divergerende\", \"udsat\", \"kom\", \"stand\", \"2014\", \"fordi\", \"opholdt\", \"gang\", \"fremg\\u00e5r\", \"dage\", \"udrejste\", \"statsborger\", \"samt\", \"overgreb\", \"isil\", \"kurdere\", \"kroatien\", \"h\\u00e6vder\", \"mindre\\u00e5rig\", \"soldater\", \"kurder\", \"anser\", \"autov\\u00e6rkstedet\", \"fattig\", \"foranledning\", \"fremskaffelsen\", \"hjertefejl\", \"hjerteoperation\", \"oversatte\", \"p\\u00e5st\\u00e5et\", \"samtalereferatet\", \"voksenalderen\", \"formodning\", \"endelige\", \"h\\u00e6ndelsesforl\\u00f8bet\", \"uafklaret\", \"moden\", \"hvorp\\u00e5\", \"hjemomr\\u00e5det\", \"tripoli\", \"henvise\", \"dav\\u00e6rende\", \"militser\", \"gruppen\", \"bestemt\", \"tiltr\\u00e6der\", \"partiet\", \"k\\u00f8rekort\", \"burmesiske\", \"liste\", \"31\", \"\\u00f8nskede\", \"mistet\", \"anklaget\", \"n\\u00e6rmere\", \"senest\", \"dokumentet\", \"dato\", \"\\u00e6ndrer\", \"tidspunkt\", \"angivet\", \"2017\", \"mor\", \"samtalen\", \"tidligere\", \"angiven\", \"far\", \"divergerende\", \"jf\", \"\\u00e6gtef\\u00e6lle\", \"statsborgerskab\", \"boede\", \"irak\", \"b\\u00f8rn\", \"sommeren\", \"fars\", \"hvorvidt\", \"lagt\", \"udrejse\", \"sl\\u00e5et\", \"f\\u00e5et\", \"herefter\", \"bop\\u00e6l\", \"officeren\", \"eritreisk\", \"hjemmeh\\u00f8rende\", \"ortodoks\", \"grundl\\u00e6ggende\", \"umiddelbare\", \"nationaltjeneste\", \"tigre\", \"forhandling\", \"mundtlige\", \"optr\\u00e6den\", \"k\\u00e6reste\", \"medgav\", \"bedoon\", \"crackdown\", \"on\", \"renews\", \"security\", \"tensions\", \"cma\", \"s\\u00f8sters\", \"meddelelse\", \"historie\", \"etiopisk\", \"holland\", \"begivenhed\", \"biometriske\", \"danner\", \"forfalske\", \"indkomstforhold\", \"nabo\", \"sudan\", \"tigrinya\", \"hvori\", \"eritreiske\", \"eritrea\", \"taler\", \"tilsides\\u00e6tte\", \"2020\", \"giver\", \"1993\", \"omst\\u00e6ndigheder\", \"etiopien\", \"l\\u00e6gges\", \"vinteren\", \"tilladelse\", \"gensamtalen\", \"oplysninger\", \"statsborgerskab\", \"overgreb\", \"grundlag\", \"helt\", \"fremg\\u00e5r\", \"baggrund\", \"udsat\", \"far\", \"2017\", \"for\\u00e5ret\", \"gange\", \"demonstrationen\", \"ihjel\", \"statsborger\", \"to\", \"2014\", \"ans\\u00f8gerne\", \"irak\", \"dokumenter\", \"2016\", \"forf\\u00f8lgelse\", \"ans\\u00f8ger\", \"mandlige\", \"ans\\u00f8gernes\", \"fordi\", \"herefter\", \"deltaget\", \"kvindelige\", \"bar\", \"muslimer\", \"fremskaffe\", \"mandlige\", \"shabaab\", \"\\u00e6ldste\", \"ransagninger\", \"ans\\u00f8gers\", \"ans\\u00f8ger\", \"inddrage\", \"ans\\u00f8gerne\", \"arabere\", \"familiemedlemmers\", \"samstemmende\", \"\\u00e6gtepar\", \"vriste\", \"forklarer\", \"skjulested\", \"identificere\", \"medf\\u00f8re\", \"ans\\u00f8gernes\", \"avlingstiden\", \"enkeltvis\", \"folkenes\", \"graviditet\", \"m\\u00e6ndene\", \"overs\\u00e6ttelse\", \"seddel\", \"sparsomt\", \"forklaringer\", \"levede\", \"dinarer\", \"aktive\", \"indbyrdes\", \"vinter\", \"rejse\", \"f\\u00f8dselsdatoer\", \"foreholdt\", \"demonstrationen\", \"demonstration\", \"bidoonere\", \"statsl\\u00f8se\", \"myndighederne\", \"forklarede\", \"videre\", \"rettigheder\", \"deltaget\", \"\\u00e6gtef\\u00e6lle\", \"anholdt\", \"oplysnings\", \"bop\\u00e6l\", \"2014\", \"angiveligt\", \"deltog\", \"familien\", \"fordi\", \"kuwaitiske\", \"motivsamtalen\", \"b\\u00f8rn\", \"asylsamtalen\", \"dage\", \"andre\", \"divergerende\", \"udrejse\", \"dokumenter\", \"herefter\", \"bidoon\", \"to\", \"for\\u00e6ldres\", \"svigerfaren\", \"dreng\", \"arbejdspladsen\", \"finansieringen\", \"ops\\u00f8gningerne\", \"drengen\", \"henses\", \"p\\u00e5f\\u00f8rt\", \"linb\", \"br\\u00f8dres\", \"sp\\u00f8rge\", \"\\u00f8jenskade\", \"markedsplads\", \"s\\u00f8steren\", \"maven\", \"indt\\u00e6gtsforhold\", \"ssm\", \"arbejdsgiverens\", \"rum\", \"voldsud\\u00f8velse\", \"facebookprofil\", \"imens\", \"plausibel\", \"rimelige\", \"forst\\u00e5et\", \"overnatning\", \"telefonisk\", \"manden\", \"\\u00e6ndre\", \"episoden\", \"dyr\", \"angivelig\", \"svarede\", \"mand\", \"k\\u00f8rte\", \"ringe\", \"provinsen\", \"kuwaitisk\", \"selvoplevet\", \"bop\\u00e6len\", \"bidoon\", \"ops\\u00f8gte\", \"statsl\\u00f8s\", \"l\\u00e6nge\", \"br\\u00f8dre\", \"punkter\", \"2018\", \"shiamuslim\", \"myndighederne\", \"araber\", \"far\", \"fars\", \"udl\\u00e6ndingestyrelsen\", \"tilbageholdt\", \"sted\", \"m\\u00f8det\", \"politiet\", \"kuwaitiske\", \"fandt\", \"forklarede\", \"dage\", \"udrejste\", \"gang\", \"\\u00e6gtef\\u00e6llen\", \"angiveligt\", \"mens\", \"anholdt\", \"forbindelse\", \"demonstration\", \"divergerende\", \"danmark\", \"overgreb\", \"udrejse\", \"tre\", \"rettigheder\", \"familie\", \"fordi\", \"lagt\", \"herefter\", \"bop\\u00e6l\", \"andet\", \"algeriet\", \"varet\\u00e6gtsf\\u00e6ngslet\", \"uds\\u00e6ttes\", \"landinfo\", \"spise\", \"utreise\", \"situationen\", \"asylretligt\", \"diwaniyaen\", \"samtalereferaterne\", \"demonstrationens\", \"forl\\u00f8b\", \"pege\", \"bidoonbefolkningen\", \"bedoonbefolkningen\", \"tilh\\u00f8rsforhold\", \"rettelig\", \"farbroren\", \"udeblivelse\", \"fremme\", \"vanskelige\", \"skabt\", \"s\\u00f8nnerne\", \"1974\", \"nationale\", \"forretningsorden\", \"kopier\", \"f\\u00f8dselsdatoen\", \"tilstr\\u00e6kkeligt\", \"genindrejse\", \"ulovligt\", \"sov\", \"tilbageholdte\", \"begrunde\", \"oprindelse\", \"sambehandlede\", \"elektricitet\", \"bidun\", \"hvert\", \"fald\", \"illegale\", \"br\\u00e6ndt\", \"f\\u00f8lge\", \"generelt\", \"eksempler\", \"formelle\", \"afh\\u00f8rt\", \"omst\\u00e6ndighed\", \"l\\u00e6gges\", \"oplysninger\", \"s\\u00f8n\", \"heller\", \"familiemedlemmer\", \"2014\", \"demonstrationen\", \"p\\u00e5ber\\u00e5bt\", \"b\\u00f8rn\", \"baggrundsoplysninger\", \"f\\u00f8re\", \"forbindelse\", \"bidoonere\", \"mens\", \"sammen\", \"personer\", \"ligesom\", \"opholdstilladelse\", \"demonstration\", \"kuwaitiske\", \"bidoon\", \"deltog\", \"udrejse\", \"myndighederne\", \"forf\\u00f8lgelse\", \"udsat\", \"bop\\u00e6l\", \"flere\", \"fremg\\u00e5r\", \"danmark\", \"blevet\", \"navn\", \"rettigheder\", \"udl\\u00e6ndingestyrelsen\", \"klageren\", \"klagerens\", \"svig\", \"nr\", \"opholdstilladelsen\", \"belastende\", \"n\\u00e6gte\", \"n\\u00e6gtelse\", \"bangladesh\", \"udsendes\", \"forl\\u00e6ngelse\", \"oprettet\", \"styrelsen\", \"forl\\u00e6nge\", \"syriske\", \"analyse\", \"bruger\", \"italienske\", \"mobiludl\\u00e6sningen\", \"skyld\", \"19\", \"beskikkede\", \"bevidst\", \"best\\u00e5et\", \"g\\u00e5r\", \"pr\\u00f8ve\", \"tilg\\u00e6ngelige\", \"hensynet\", \"baggrundsmateriale\", \"libanesiske\", \"amhari\", \"fornavn\", \"26\", \"oprindelige\", \"asylsagen\", \"opn\\u00e5et\", \"sandsynlighed\", \"milit\\u00e6rtjeneste\", \"jf\", \"meddelte\", \"libanon\", \"syrien\", \"etnicitet\", \"profil\", \"bor\", \"tilknytning\", \"m\\u00e6nd\", \"opholdstilladelse\", \"bem\\u00e6rkelsesv\\u00e6rdigt\", \"udl\\u00e6ndingestyrelsen\", \"jordan\", \"for\\u00e5ret\", \"2019\", \"efter\\u00e5ret\", \"danmark\", \"fremg\\u00e5r\", \"henset\", \"forekommer\", \"sommeren\", \"2018\", \"pas\", \"navn\", \"lagt\", \"statsborger\", \"eritrea\", \"baggrund\", \"blevet\", \"andre\", \"herunder\", \"mandens\", \"spanien\", \"sahara\", \"marokkansk\", \"sproget\", \"biologiske\", \"engelsk\", \"ghana\", \"fleste\", \"milj\\u00f8et\", \"abdallah\", \"marokko\", \"moster\", \"gammel\", \"\\u00e5rig\", \"israel\", \"\\u00f8konomisk\", \"flygtningelejr\", \"schweiz\", \"afh\\u00f8ringerne\", \"hentet\", \"flyttet\", \"17\", \"lgbt\", \"fort\\u00e6lle\", \"sk\\u00e6ndtes\", \"2002\", \"mands\", \"voksede\", \"forholdet\", \"rejste\", \"sprogtest\", \"p\\u00e5lagt\", \"eritrea\", \"\\u00e5r\", \"sudan\", \"flertal\", \"stammer\", \"betalte\", \"mere\", \"mor\", \"penge\", \"tilbage\", \"opholdt\", \"hvorefter\", \"f\\u00f8dt\", \"seks\", \"id\", \"2016\", \"asylsamtalen\", \"motivsamtalen\", \"tog\", \"15\", \"m\\u00e5neder\", \"oplysnings\", \"kom\", \"boede\", \"lagt\", \"statsborger\", \"sammen\", \"divergerende\", \"to\", \"gang\", \"navn\", \"l\\u00e6gge\", \"myndighederne\", \"relateret\", \"applikationerne\", \"asylans\\u00f8gningsskema\", \"bedstefarens\", \"dateret\", \"gemt\", \"instruktioner\", \"lyde\", \"messenger\", \"overh\\u00f8rte\", \"pigens\", \"telefonsamtale\", \"udf\\u00f8rlige\", \"afsk\\u00e5ret\", \"forholde\", \"udeblive\", \"privat\", \"beskeder\", \"udbygning\", \"tilsendt\", \"pige\", \"\\u00e5rr\\u00e6kke\", \"restauranten\", \"opdaget\", \"ovenn\\u00e6vnte\", \"viber\", \"slettet\", \"restaurant\", \"whatsapp\", \"anvende\", \"2006\", \"d\\u00f8de\", \"facebook\", \"profil\", \"2012\", \"muligt\", \"asylans\\u00f8ger\", \"kvinde\", \"syrien\", \"irak\", \"svare\", \"ihjel\", \"statsl\\u00f8s\", \"2017\", \"bem\\u00e6rker\", \"sp\\u00f8rgsm\\u00e5l\", \"irakisk\", \"mor\", \"bidoon\", \"venner\", \"ang\\u00e5r\", \"herudover\", \"vidt\", \"bror\", \"lagt\", \"ligeledes\", \"s\\u00e5\", \"hvordan\", \"efterf\\u00f8lgende\", \"statsborger\", \"if\\u00f8lge\", \"fik\", \"p\\u00e5st\\u00e5r\", \"fremh\\u00e6vede\", \"1996\", \"rimelig\", \"ipad\", \"husstanden\", \"vandmeloner\", \"dialekt\", \"dinar\", \"iransk\", \"varer\", \"transporterede\", \"afvist\", \"sikkerhedspolitiet\", \"f\\u00f8dedatoen\", \"morbrorens\", \"repr\\u00e6sentanter\", \"boligomr\\u00e5de\", \"tilsides\\u00e6tter\", \"ans\\u00f8gt\", \"tyske\", \"p\\u00e5ber\\u00e5ber\", \"n\\u00e6vnsbehandlingen\", \"dertil\", \"mosk\\u00e9en\", \"bagrund\", \"beskedent\", \"forklaringens\", \"gadenumre\", \"isoleret\", \"f\\u00f8lger\", \"asylgrundlag\", \"udl\\u00e6nding\", \"altid\", \"knytter\", \"2005\", \"s\\u00f8ger\", \"sandsynligg\\u00f8re\", \"bed\\u00f8mmelse\", \"n\\u00f8dvendige\", \"p\\u00e5g\\u00e6ldende\", \"inddraget\", \"angiven\", \"udl\\u00e6ndingen\", \"meddele\", \"utrov\\u00e6rdig\", \"derudover\", \"visum\", \"omr\\u00e5de\", \"oplyste\", \"foreliggende\", \"divergerende\", \"bror\", \"begyndelsen\", \"40\", \"lagt\", \"konstrueret\", \"n\\u00e6rmere\", \"far\", \"navn\", \"statsborger\", \"bidoon\", \"statsl\\u00f8s\", \"omfattet\", \"n\\u00e6vnsm\\u00f8det\", \"andet\", \"udrejste\", \"oplysninger\", \"angiveligt\", \"2018\", \"f\\u00e6ngslet\", \"familie\", \"flere\", \"udrejse\", \"herunder\", \"to\", \"dokumenter\", \"opholdstilladelse\", \"tilbageholdt\", \"bop\\u00e6l\"], \"Freq\": [218.0, 694.0, 811.0, 551.0, 305.0, 192.0, 323.0, 102.0, 226.0, 175.0, 287.0, 125.0, 97.0, 310.0, 141.0, 227.0, 169.0, 214.0, 229.0, 101.0, 90.0, 218.0, 152.0, 157.0, 153.0, 247.0, 391.0, 162.0, 127.0, 88.0, 19.4963184053198, 19.496318405319798, 12.438822738201575, 7.1457074614484455, 7.145703147481362, 5.3813263678910905, 5.381325468427962, 5.381323880933004, 5.381300537503573, 4.499137492797064, 4.4991374927970655, 4.499137492797064, 4.499137492797064, 4.499137492797064, 4.499137492797064, 4.499137492797063, 4.499137492797063, 4.49913749279706, 4.49913749279706, 4.499137492797058, 4.499137492797056, 4.499137492797051, 3.6169472547433608, 3.6169472536182927, 3.616947249608761, 3.6169472368954834, 3.616947230263021, 3.6169472092015233, 3.6169465448917877, 11.55663959972991, 9.79226304445243, 8.597016493436316, 12.719217279918318, 9.325392141248264, 7.976781378909011, 8.723165397389963, 4.478709880692006, 14.194792794877111, 28.071495993135446, 7.627142493055886, 21.03425566297, 15.341308227494942, 17.396646811628663, 11.222673220341662, 14.416192765312493, 10.195201625955526, 18.493449478442763, 10.767703009038861, 15.329050220700099, 6.120567622132314, 19.431502590657555, 16.57254020202557, 13.098342769271422, 11.344944713318924, 10.176921887297, 13.356920188823212, 12.558533447934632, 11.629316906578794, 9.870134927621596, 10.364984284831085, 10.422146102394988, 10.446344919072061, 10.208191465246074, 10.033488096952647, 9.97813368609328, 12.75244536206864, 4.271325150420138, 3.497084847632255, 2.6441108871909496, 2.6440815433887983, 4.350036177271761, 4.293595823270208, 1.7911886108573187, 1.7911886108573187, 1.7911886108573187, 1.7911886108573187, 1.7911886108573187, 1.7911886108573187, 1.7911886108573187, 1.7911886108573187, 1.7911886108573187, 1.7911886108573187, 1.7911886108573187, 1.7911880640163411, 1.791183858751864, 1.7911459411508572, 1.791135345590921, 1.7911232187392998, 1.790915083930019, 2.357638085805775, 3.4970865590087064, 3.34773430278592, 10.816490293161898, 2.644140165163418, 2.6441398992762495, 9.972816088836051, 4.161847942889476, 4.156672396477642, 6.908886350747217, 3.497087388515555, 2.6441257261387645, 5.211499315775294, 8.189843747143252, 4.5140903915731325, 2.6441349908256226, 22.35858348920697, 5.5515986726138005, 3.4501290623976146, 15.73420866450674, 2.8564736078121507, 13.079209585620008, 9.012872535369372, 19.42859540760057, 18.024660519283493, 8.718687780707981, 10.513941973188745, 6.7544220600463705, 15.467957469668253, 16.87285644455457, 10.435878151827323, 11.586994488438815, 7.300167341016933, 9.26226222057542, 8.936937855863802, 9.455614069930256, 8.681197872241356, 6.879061290937253, 7.731023474422303, 9.782730619370714, 9.005304468509228, 7.385677070046936, 6.6090275215312415, 7.679471743768766, 7.728637947024738, 19.249333104397458, 11.951008327046184, 5.56497586378754, 5.5649630626722715, 5.5649510294089835, 5.564948259835482, 4.652683466367312, 4.652681438229611, 4.652658575591432, 4.652658575591421, 4.652658575591421, 4.652343154889106, 3.7403930744568523, 3.7403677751945543, 3.7403677751945543, 3.7403677751945543, 3.7403677751945543, 3.7403677751945543, 3.7403677751945543, 3.740361622573977, 3.740361622573977, 3.740350926465226, 3.7402069375686895, 6.477263842200864, 6.477270219097128, 2.8281021132199755, 2.8281021132199755, 2.8281021132199755, 2.8281021132199755, 2.8281021132199755, 8.243902237879915, 28.630252601374867, 10.521563854566516, 12.648527909403528, 10.07172147420848, 52.14665102291815, 14.470823441836796, 9.204120882298723, 10.766968388789463, 6.3437598699656865, 7.624631236733083, 13.602635435477737, 15.68804879795015, 29.262890413437365, 25.29407718905102, 4.6526247351592325, 9.212860023461921, 42.06269764475687, 15.002826257648186, 28.83710400179458, 16.206400623328474, 11.432680314978754, 23.443579396221246, 26.75818101724729, 23.41771503080718, 25.01860801989754, 20.473375620583322, 18.553909414855507, 19.779085208495754, 23.47068920060392, 13.741667382510876, 18.600314724243066, 20.608788473032373, 21.965608823513836, 27.37550348309463, 16.951459042242867, 17.990021431635544, 16.567018723781924, 16.839988486248952, 21.190155336742972, 20.46486358926077, 17.63999533037535, 17.395242240286787, 16.919450163815238, 15.739229420921825, 321.43510468287127, 27.549397501646915, 26.568933400194727, 20.686301001043137, 668.8791971508563, 18.72561352787202, 17.745300011180827, 14.804056606963805, 217.43950218301146, 768.1408743067904, 12.843193670461611, 519.1041505338575, 29.124234829369037, 10.882431729781588, 10.882383220655251, 39.5900027308881, 9.9020990365481, 9.902099036534448, 9.902099036520886, 9.902083219532996, 19.706138693666336, 208.69312595193014, 8.92169319132208, 8.92169319132208, 8.92169319132208, 8.92169319132208, 8.92169319132208, 8.92169319132208, 8.92169319132208, 8.92169319132208, 113.53098107901555, 20.686527400907465, 28.517788991385476, 19.584968329533826, 58.76612010148672, 13.82368691721228, 27.842120414392014, 13.80428768363988, 29.188120000598133, 170.1207767263163, 169.9177641474315, 134.69379162781607, 80.832783812447, 201.38539968926125, 103.71479594199909, 104.17583691754541, 110.25443065271736, 99.19246459593161, 99.95093813771065, 86.13597379715175, 71.4483238682604, 110.91744066796737, 114.81012247504661, 110.66794533240453, 85.38448969382416, 76.52539782014789, 99.30763177821353, 91.91640419442531, 62.20954814986578, 74.94117229069214, 75.95324661673081, 84.50636460432366, 86.80188929242489, 105.37567253646732, 88.1484201133588, 80.61176282287649, 82.39066294062829, 85.21319636508137, 81.0473408699941, 13.773844291047437, 7.912654065127484, 6.935778585553273, 5.958912320637391, 5.9589016764133325, 5.9208545410049105, 4.982038146884762, 4.970055220606048, 4.005170576149077, 4.005170576046969, 4.005163788030236, 3.8310739324377034, 3.02829970390593, 3.0282997037611272, 3.0282958747971422, 3.028293884964565, 3.0282943125919743, 3.028290270441153, 3.0282898047269944, 3.0282898047269944, 3.028287630659222, 3.0282828538098774, 3.02827943207196, 3.028279681313437, 3.028274681968789, 3.0282632454975387, 3.028240938738088, 3.0282237108725094, 9.822859099833332, 2.9603638752467316, 14.842516737399809, 5.8645368627170145, 8.63312016624968, 4.9820267971987295, 33.6838025083217, 14.974395306723025, 5.867352441417495, 5.922884002023239, 11.771277807480287, 5.906826819069712, 51.6126793910756, 102.5865377179759, 29.182593176149584, 77.5578982950187, 9.628603880696762, 27.58556323171047, 24.26244688994377, 69.89895073547153, 15.869195645551253, 91.87331916916175, 30.739136171737304, 58.95233591870778, 22.050071822514976, 62.043397777865756, 47.74033111692547, 29.679530442313123, 19.75512642990108, 40.76057097358742, 50.69810702926549, 25.93751571164109, 45.71551267090152, 47.2338637285137, 46.73070729166328, 26.217645704178988, 23.0467159225356, 50.00482859925918, 39.84955032831202, 37.11187435320157, 42.63858749296597, 50.95200260425583, 51.0943865694699, 38.86789518089672, 39.83065973098557, 42.834198662061965, 34.04931704380449, 38.50946334605908, 36.823380810148876, 38.59202193130726, 38.64099439372999, 35.527502435898164, 35.59600894562462, 34.03758554512145, 14.073951974551532, 10.351811807497873, 10.351800439879092, 9.419216103458382, 9.419216103458382, 9.419216103458382, 9.419205968328164, 8.486626642571476, 7.554035039944988, 7.554035039944988, 7.554016892581237, 7.554001154926136, 6.6214262073892, 6.6213761045043285, 5.688833044093937, 5.688785882312427, 5.688780402191961, 5.688756322577781, 5.688736209956261, 5.6887362099526495, 12.182566889620139, 4.756234357193356, 4.75623127672632, 4.756230475865205, 4.756226825871757, 4.756160616716953, 4.756163971560814, 4.756015413437431, 9.419216308732242, 9.403959529427432, 13.776733493078334, 13.149563781707073, 9.259461875420703, 20.046104968511294, 10.965662878921465, 7.554035545794224, 7.554022900065358, 17.14047553053256, 19.857053783669866, 20.362887619180864, 13.837357184600249, 10.049112623995324, 45.450449618728044, 15.185788603831405, 9.382120960161984, 16.119593581205397, 18.97707473558093, 22.649209403034156, 38.195369799556964, 64.74254262384784, 27.00419793439251, 37.279106301107674, 24.15761642221132, 60.03825438024187, 60.54752057192844, 15.403008310773034, 40.821285702584326, 24.98077148713255, 41.27383490708379, 45.200707571981745, 46.02325435804879, 39.4298856562512, 36.20684596629931, 29.95794607021893, 31.772377242889515, 40.930604762919714, 46.03742430186624, 37.741777596750985, 43.649387530368365, 34.75318174438073, 36.55804633743952, 42.907396289234924, 30.52247005115098, 30.79213647735882, 33.872636032830954, 29.11657240106488, 29.837960977521117, 30.393516073574816, 30.034945993731064, 29.271745177468656, 30.36878855689095, 29.467871056451884, 217.72783398742888, 101.46991380111437, 25.20471688784199, 25.20469750556351, 14.974019553276925, 12.183827286934847, 9.393640330961937, 9.393640330961937, 8.461463177056121, 5.673322035366314, 12.179986564374564, 4.743310330120794, 4.743307354374491, 9.393642516599979, 23.311272669904643, 3.8132600003697683, 3.8132600003697683, 3.8132600003697683, 3.8132600003697683, 3.813143227766231, 31.667604926253464, 3.6870573091959025, 6.602229360033452, 2.883196585635135, 2.883196585635135, 2.883196585635135, 2.883196585635135, 2.8831963925113477, 2.883174781282346, 2.8831471536719935, 12.178367565809477, 11.705837165752746, 19.364567966644493, 9.232505624382046, 5.673376006151959, 22.414550605109593, 7.615276868888693, 7.429782773898343, 56.661393953271194, 11.02704636252173, 14.365463772714607, 21.08854465130622, 7.229712034003553, 15.836900969834565, 10.786203759572023, 11.191884107202782, 12.058128676054022, 54.93235941169021, 13.113902597631185, 52.40174789113827, 12.541245224225467, 29.55956967170103, 27.238478399325214, 27.786168189088215, 32.29556960581494, 27.772965336843097, 17.13952989737855, 21.932835959834723, 23.93779170242699, 27.803648994335088, 18.975974379426717, 23.498603128849933, 25.021740367581067, 19.68501058445943, 17.75867597462039, 19.56300702748508, 16.75457456308155, 16.757941160913994, 16.368226368727193, 7.021132205509833, 5.288062329489488, 3.554250662633211, 3.415360488652657, 2.68736151206974, 2.67722165923543, 2.6637957968233485, 9.081542843040655, 1.8204678633537903, 1.820467862130161, 1.8158037330246437, 7.920874668547069, 5.259299157594799, 15.81028868556794, 6.51376708170654, 3.8832484932968243, 1.8204715319166087, 1.8204384198463255, 1.3518854592444123, 1.8204259488451286, 1.8203451897028744, 1.8196468393158658, 4.040919302157776, 2.6873806079318494, 2.687382619913788, 1.7679178674443485, 2.6873834719139817, 1.519457630233688, 1.1375939074105985, 1.8204312574573467, 13.098323952283076, 5.2268472479671235, 2.5978698534082243, 26.913554674821036, 41.28834291113696, 11.978079613526244, 6.301952774305459, 5.854025917887753, 3.55428744872634, 5.911787159676791, 25.116003726361033, 5.2619218084955195, 11.563260368462586, 18.69684589578063, 14.536612702840435, 16.665668302104674, 8.249711928971097, 6.577749697740285, 14.926080094109397, 15.712711696650878, 13.047682752953591, 12.363796309527068, 7.861187375462525, 11.258469789142985, 13.028327415613694, 10.834624192777088, 11.506062451942537, 14.819554206903168, 11.147550352480383, 10.48422204788339, 12.249075828015565, 10.39948754480465, 7.801189515876491, 8.615497556927513, 8.50396404683147, 8.592821703815076, 2.0205660141296704, 1.3687929805732053, 1.3687929805732053, 1.3687929805732053, 1.3687929805732053, 1.3687929805732053, 1.3687929805732053, 1.3687929805732053, 1.3687929805732053, 1.3687929805732053, 1.3687929805732053, 1.3687929805732053, 1.3687929805732053, 1.3687799752967682, 1.3687799752967682, 1.3687799752967678, 1.3687483133845684, 2.672411647347871, 1.3687947858740415, 1.3687951580459148, 1.3688283959439507, 1.3688088967053578, 1.3687965367281483, 1.8646185588465425, 3.7845202461860694, 1.3687932878181786, 1.36879394091871, 1.3687983744466945, 1.3688016640261096, 0.716982139035007, 2.020588228505493, 4.343532518791886, 6.435312991503573, 5.9487809682726684, 5.584812169648301, 3.871387326161789, 5.192291631925795, 3.8648166417588983, 4.140779683539163, 6.529616753928248, 2.6724190825336436, 4.406468189313212, 6.297751126152552, 5.3953201621480815, 4.578507506867116, 3.57499249698261, 4.070805810757718, 5.415999358249807, 6.34685320775945, 2.8439788156317958, 3.843251269818674, 3.10602073074518, 3.8230025218461963, 4.383949078469537, 4.937388807285975, 2.795806872852639, 3.608270581115378, 3.008196219299917, 3.24337412320546, 3.39156934425245, 2.7571130376347623, 2.767088446478419, 8.982175180024747, 7.993674095422449, 7.0080395450301225, 14.869244894857452, 6.021024037145262, 6.021022496693682, 6.020988898060491, 22.789826084590757, 5.0339652185172215, 5.033961917031272, 5.033957467671307, 5.033944354611819, 5.033211536051066, 4.046905181560216, 4.046891510548148, 4.046860816908569, 4.0468248739516355, 4.046824005285002, 14.604942572226175, 4.000678452990588, 9.674738807060418, 31.617835179258165, 7.008079086512251, 10.816053928080036, 3.059864674586794, 3.059863742961576, 3.059863742961576, 3.059863742961576, 3.059863742961576, 3.059863742961576, 47.842414302441604, 25.883262452952632, 47.848023908663656, 8.166354285817482, 9.717322905225712, 5.969377671515372, 26.71374869733623, 29.043150517472892, 27.432122539190004, 27.297109909330615, 30.30586061777422, 9.740899515714238, 19.19301595579437, 20.820479226715417, 29.02081547245916, 23.941965897556273, 21.784926527386624, 8.982176406032078, 22.606421580578534, 49.207558121494436, 29.048844092676713, 86.47978024116046, 55.2864243948901, 20.90060811834991, 30.395295065673444, 74.95010908152169, 21.007658782548745, 33.489382785741824, 55.471035688973764, 46.75972406219256, 43.73850922820523, 64.46346587808945, 54.31102252720923, 42.404556859325986, 33.669195741879555, 41.75414021290892, 41.93869721186034, 43.68666301275528, 41.40421562161329, 41.27312629306827, 36.55490474345676, 34.4086402684277, 32.27135473174012, 34.80202284890887, 33.9078244364198, 33.752886327866065, 32.584328726639654, 32.04379764247313, 31.079461408992117, 30.79369020609152], \"Total\": [218.0, 694.0, 811.0, 551.0, 305.0, 192.0, 323.0, 102.0, 226.0, 175.0, 287.0, 125.0, 97.0, 310.0, 141.0, 227.0, 169.0, 214.0, 229.0, 101.0, 90.0, 218.0, 152.0, 157.0, 153.0, 247.0, 391.0, 162.0, 127.0, 88.0, 20.3054145252516, 20.305414525251596, 13.247923232912607, 7.954803992262296, 7.954804506036395, 6.190431508088504, 6.190431608232783, 6.1904317964034306, 6.190432487757386, 5.308245212088175, 5.308245212088175, 5.308245212088174, 5.308245212088175, 5.308245212088175, 5.308245212088175, 5.308245212088175, 5.308245212088175, 5.308245212088175, 5.308245212088175, 5.308245212088175, 5.308245212088176, 5.308245212088176, 4.4260596948534365, 4.426059694978696, 4.426059695425106, 4.426059696840564, 4.426059697579003, 4.426059699923928, 4.426059486380274, 14.209506916270646, 12.445134258037095, 11.63725393349503, 18.90083776841494, 17.17759812380218, 14.184152041736297, 16.60282840654957, 6.160516171093055, 39.6506096200061, 162.5481535742378, 15.73991505474945, 147.86717520835157, 80.74369902801374, 128.37292567807893, 45.4299642897667, 88.94807783243577, 38.974073331751704, 174.02281920650978, 56.62122383614907, 174.100953899226, 12.970968293508237, 391.88480439988484, 310.7813698843432, 159.24131947301316, 98.7438973430868, 71.71264264763064, 255.77958509884166, 228.15103138789416, 152.72797722784549, 78.15299277389298, 150.74007555722463, 190.43310173149723, 201.96549074911826, 153.9679101356165, 118.73988554555699, 193.3302171167879, 14.698563540119174, 5.17437722435704, 4.309104216836331, 3.4561597741082566, 3.456163618591948, 6.04423835193942, 6.0832161127943225, 2.60320823423394, 2.60320823423394, 2.60320823423394, 2.60320823423394, 2.60320823423394, 2.60320823423394, 2.60320823423394, 2.60320823423394, 2.60320823423394, 2.60320823423394, 2.60320823423394, 2.603208334777031, 2.6032085439308426, 2.603214472245806, 2.6032150581773412, 2.603217066393089, 2.6032425843836666, 3.4989579192895484, 5.241700503681135, 5.2556475849376145, 17.770805207894256, 4.368447053423875, 4.368447071924834, 17.01842673087433, 7.143126228144153, 7.166552349733733, 13.535312994411898, 6.169230699446843, 4.368448368156425, 10.814377850746038, 20.02875459579105, 9.059159898027392, 4.443208729508529, 90.53862178592532, 12.826042601018877, 6.600137026481556, 66.2436472952495, 5.265982319459636, 57.13904604393636, 34.18823822108931, 141.26195551024782, 175.14671887048337, 43.53715135226682, 70.14750017614985, 30.79264457448606, 218.2895900143928, 310.7813698843432, 101.09360636379347, 185.87478624388996, 52.8813868806952, 119.20697918341398, 125.42037889606361, 153.52169979437693, 119.1467670778468, 54.69040219724056, 90.84884148883934, 287.59366592564663, 234.78713988918193, 87.93134629562282, 58.094865283873794, 210.6334851683406, 237.306569280468, 20.055428698853376, 12.757097851516956, 6.371059344174006, 6.371059355262325, 6.3710595754769, 6.371059901091657, 5.458768058312009, 5.458768224514713, 5.458768550231267, 5.458768550231266, 5.458768550231265, 5.458778194668821, 4.5464768996252705, 4.54647779942865, 4.54647779942865, 4.54647779942865, 4.54647779942865, 4.54647779942865, 4.54647779942865, 4.546479379801977, 4.546479379801977, 4.546479551737862, 4.546476064383309, 8.165537268170597, 8.215943160888463, 3.6341856449895715, 3.6341856449895715, 3.6341856449895715, 3.6341856449895715, 3.6341856449895715, 10.94875022324502, 41.327733812181165, 14.645065926061134, 18.480583737634007, 14.58989836443503, 97.4452708495122, 23.874398478508223, 13.767201384146356, 18.360545419500554, 9.2540157887119, 12.888186362766465, 30.621400540223128, 39.6506096200061, 103.90660539733946, 88.29311117847772, 6.388825772143331, 18.667447150526755, 253.87709978115123, 52.8813868806952, 193.3302171167879, 62.6837728721336, 33.59915560317989, 150.74007555722463, 200.38268922252763, 159.24131947301316, 218.2895900143928, 141.26195551024782, 129.77280992916056, 159.57179192622684, 279.2167405912823, 63.52598162978477, 153.9679101356165, 210.44866238716742, 255.77958509884166, 551.8098524195645, 125.42037889606361, 182.35724326050448, 131.94326008797083, 148.6658271754201, 811.1134896672048, 694.9674658511678, 227.04121605784349, 228.15103138789416, 210.6334851683406, 182.7100354075888, 323.3663175725098, 28.348675055713656, 27.368263336082677, 21.48582417379059, 694.9674658511678, 19.525014401921347, 18.544614365821364, 15.603396172820965, 229.2520519008148, 811.1134896672048, 13.642581397599837, 551.8098524195645, 31.194960318862105, 11.681773575469698, 11.681767574788285, 42.78292607402637, 10.701370341166514, 10.701370341164205, 10.701370341161912, 10.70136875657946, 21.38761510789535, 227.04121605784349, 9.720964495946749, 9.720964495946749, 9.720964495946749, 9.720964495946749, 9.720964495946749, 9.720964495946749, 9.720964495946749, 9.720964495946749, 137.13406876018374, 23.31041600167951, 33.23651794867745, 22.36470501746709, 73.02465402350971, 15.489887580090313, 33.131939820659596, 15.599786500011632, 36.032745345616696, 279.2167405912823, 295.72090534437336, 233.83440913773885, 127.36559300261067, 391.88480439988484, 178.89519576069577, 185.3899423869308, 204.13465555067705, 182.7100354075888, 185.87478624388996, 156.13773766989758, 127.77511214763551, 237.306569280468, 255.77958509884166, 246.82462335638297, 174.57133217451818, 150.31615489162633, 228.15103138789416, 208.5096775630991, 111.20205290022179, 153.52169979437693, 157.05725800522097, 190.43310173149723, 201.29940297872034, 310.7813698843432, 234.78713988918193, 182.35724326050448, 210.6334851683406, 305.181687519789, 210.44866238716742, 14.573501280267815, 8.712278866950266, 7.735407410233192, 6.758537122462991, 6.75853717117336, 6.756031512147672, 5.781665831399044, 5.780874823089311, 4.804795377975992, 4.804795377958625, 4.80479507031076, 4.8054175682223494, 3.8279245057326383, 3.8279245057080056, 3.8279242525921044, 3.827923767557348, 3.827924525213065, 3.827924343941176, 3.827924541543173, 3.827924541543173, 3.827923834102151, 3.8279238746699944, 3.827922734312042, 3.827923114316497, 3.827923839228389, 3.827921611424023, 3.8279247183594522, 3.827925297780268, 12.445729026991463, 3.82815959031003, 20.017111199223603, 7.739270573986721, 12.634052063536181, 6.762070224650908, 61.352554816045625, 24.276508799297673, 8.57706645860026, 8.71947916817617, 20.407558246904674, 8.719443145524133, 128.37292567807893, 305.181687519789, 64.13680932025439, 226.86728299091448, 16.313484818566746, 63.46790316586397, 55.60524690250385, 245.16611501741534, 34.13839755800895, 391.88480439988484, 86.82070443685247, 218.2895900143928, 54.69040219724056, 247.50578700779292, 171.18442573602584, 87.11928706288423, 48.276631292308814, 147.86717520835157, 208.5096775630991, 73.53600494845654, 178.89519576069577, 190.43310173149723, 201.96549074911826, 78.15299277389298, 63.5602251312374, 246.82462335638297, 171.98552639518806, 156.13773766989758, 206.89716343762407, 295.72090534437336, 310.7813698843432, 176.0920186075369, 193.3302171167879, 234.78713988918193, 141.997471007773, 204.13465555067705, 189.22663128846574, 228.15103138789416, 287.59366592564663, 210.6334851683406, 237.306569280468, 196.19335723801504, 14.885822851558686, 11.155878005803034, 11.155878200752849, 10.22328095462829, 10.22328095462829, 10.22328095462829, 10.223281434190488, 9.290683896840019, 8.358087237144328, 8.358087237144328, 8.358086853697953, 8.35808754946807, 7.425489945746919, 7.4254826885111544, 6.492893002865922, 6.492891894453123, 6.492893583296997, 6.4928953498178394, 6.492882932425112, 6.492882932424033, 14.00323787429456, 5.560295998244547, 5.560293513668512, 5.560296455871014, 5.560294266945682, 5.560284207730125, 5.560298374353396, 5.560307885337889, 11.153344409582683, 11.204469250194997, 16.70419973554224, 15.914479749303903, 11.13209519604566, 26.85977718391128, 13.906114986211687, 9.270378492039809, 9.345140110142946, 23.547558709046342, 27.989334166896803, 29.01561010814804, 18.809124772250346, 13.004743991445181, 86.39142238152536, 22.35357524153084, 12.18599470256049, 24.581275510225296, 33.18929844281566, 44.203001702748494, 103.90660539733946, 253.87709978115123, 63.43779171748636, 109.02789097381365, 54.99187671894625, 255.77958509884166, 279.2167405912823, 26.894066704675524, 153.52169979437693, 66.03072375247957, 172.06240746721048, 206.89716343762407, 233.83440913773885, 171.98552639518806, 152.1380225342042, 104.95746591594508, 122.9642135855416, 214.9234645853436, 295.72090534437336, 208.5096775630991, 305.181687519789, 174.57133217451818, 234.78713988918193, 391.88480439988484, 148.6658271754201, 159.24131947301316, 237.306569280468, 132.83565334116793, 150.74007555722463, 176.0920186075369, 174.02281920650978, 164.4025836392056, 204.13465555067705, 247.50578700779292, 218.5321503092062, 102.27422399061705, 26.00902417595381, 26.009022598028736, 15.778326601585668, 12.988136466803486, 10.197946044419895, 10.197946044419895, 9.267886780970601, 6.477688134069783, 13.96520061907705, 5.547629553467326, 5.547629054396345, 11.184999032895016, 28.075602148095083, 4.617565547930084, 4.617565547930084, 4.617565547930084, 4.617565547930084, 4.617561079400422, 39.244807688606045, 4.61790651597475, 8.38468812028215, 3.6875021331990836, 3.6875021331990836, 3.6875021331990836, 3.6875021331990836, 3.687502143122212, 3.6875018814902085, 3.6874981086536693, 15.58845571844596, 14.981456900711958, 25.092332739928672, 12.17458774319456, 7.389984204645963, 30.618807469432635, 10.12255438607867, 10.115018683827238, 101.09360636379347, 15.834433411319196, 21.966713739489087, 37.92051495444305, 10.203838337691582, 27.398249559567958, 16.97542402262035, 18.148649017379082, 20.56120436328938, 214.9234645853436, 25.39113093142524, 247.50578700779292, 24.295456597239372, 129.77280992916056, 117.64646249830638, 125.58555134482975, 176.0920186075369, 150.74007555722463, 48.775509166528195, 91.18392194885364, 119.1467670778468, 245.16611501741534, 81.06758716076897, 164.4025836392056, 287.59366592564663, 153.9679101356165, 97.4452708495122, 200.38268922252763, 174.02281920650978, 201.29940297872034, 206.71068577833051, 7.832579284075067, 6.098693501872241, 4.364901292053639, 4.375427776642364, 3.4980038158905082, 3.4987724035097783, 3.4997910767371025, 12.207091895181346, 2.63110672775947, 2.6311067278522144, 2.6317175810127607, 11.494740400320728, 7.9943868529271755, 28.119366494734283, 11.693296396713883, 7.196771250420202, 3.5132951012617903, 3.513295557145648, 2.666620463894985, 3.6115154641614127, 3.611530545852566, 3.6116091611339014, 8.141274532482266, 5.451744044586561, 5.472105457659364, 3.6146448380716105, 6.174668446838076, 3.536110016231493, 2.666864594987405, 4.3662484093870635, 32.76168297682126, 13.695408052473011, 6.408797398526058, 97.4452708495122, 192.41237436770038, 41.327733812181165, 19.493551252747388, 18.211198795921614, 9.229411747132511, 19.57578316191236, 175.14671887048337, 17.53409917830655, 62.73206517076534, 152.72797722784549, 103.49168519433883, 140.06640340657003, 42.41744807815862, 28.220945837663578, 131.94326008797083, 157.05725800522097, 111.20205290022179, 106.1878735809264, 40.07217185469048, 90.82506646379521, 127.77511214763551, 98.7438973430868, 119.20697918341398, 287.59366592564663, 153.9679101356165, 152.1380225342042, 310.7813698843432, 210.44866238716742, 78.15299277389298, 164.4025836392056, 169.2637604410284, 391.88480439988484, 2.852746959233859, 2.20092425147472, 2.20092425147472, 2.20092425147472, 2.20092425147472, 2.20092425147472, 2.20092425147472, 2.20092425147472, 2.20092425147472, 2.20092425147472, 2.20092425147472, 2.20092425147472, 2.20092425147472, 2.200930136304808, 2.200930136304808, 2.2009301363048075, 2.200945591427848, 4.357497399868562, 3.1132134547493453, 3.113214615526552, 3.181269521001877, 3.1813151489961875, 3.1879640326750467, 4.884261546673522, 10.528221106685242, 4.06105094977042, 4.1546632894541755, 4.1648339873124325, 4.17501754325977, 2.461416644169272, 7.361926578552442, 16.831899862267775, 29.42227433338065, 27.398249559567958, 27.636026757642707, 17.305845655516002, 36.5698632487916, 27.61251684697574, 37.92051495444305, 125.42037889606361, 14.965716806479389, 63.52598162978477, 226.86728299091448, 141.26195551024782, 88.94807783243577, 41.78642096188309, 68.68377892984199, 175.14671887048337, 305.181687519789, 24.03124516247739, 66.3079203174256, 33.2664945866076, 72.21455266849833, 169.99588393919606, 287.59366592564663, 34.7695720308163, 126.90433371513058, 52.577256622197474, 106.30714617659099, 153.9679101356165, 69.79961998311714, 126.58118931016422, 9.780789861163566, 8.793723178979764, 7.8066809223825695, 16.67931011102311, 6.81963061413995, 6.819630598247927, 6.819625702392507, 26.396601967726674, 5.83257745490501, 5.8325764936086255, 5.832576369576228, 5.832574259866591, 5.832565959743478, 4.845524242297806, 4.845522732422427, 4.845519262319279, 4.845515546147707, 4.845519394736856, 17.5050096894831, 4.842973096979909, 11.74167702063254, 39.04649358668326, 8.78708959316273, 13.612353265972597, 3.8584712515702693, 3.858471217884614, 3.858471217884614, 3.858471217884614, 3.858471217884614, 3.858471217884614, 63.56764517279623, 34.15535997459615, 65.19576646227986, 10.581798696450619, 12.723183941331115, 7.728008615305647, 38.102437577527176, 42.60510666488489, 41.98181217479296, 42.981359527401686, 49.514134920904155, 13.564953712533232, 30.79264457448606, 34.479127149957066, 52.26258688770595, 41.722863107429845, 37.050833617202, 12.517663486212447, 44.211574650942296, 132.8969539967424, 64.6840262942873, 310.7813698843432, 169.99588393919606, 41.653243438747715, 73.61452785844196, 287.59366592564663, 42.69524777891067, 90.53862178592532, 218.2895900143928, 164.4025836392056, 153.9679101356165, 305.181687519789, 226.86728299091448, 171.3971022201, 110.78384950039742, 196.19335723801504, 201.96549074911826, 253.87709978115123, 246.82462335638297, 245.16611501741534, 174.100953899226, 189.22663128846574, 132.83565334116793, 234.78713988918193, 206.71068577833051, 210.44866238716742, 182.35724326050448, 214.9234645853436, 171.18442573602584, 237.306569280468], \"Category\": [\"Default\", \"Default\", \"Default\", \"Default\", \"Default\", \"Default\", \"Default\", \"Default\", \"Default\", \"Default\", \"Default\", \"Default\", \"Default\", \"Default\", \"Default\", \"Default\", \"Default\", \"Default\", \"Default\", \"Default\", \"Default\", \"Default\", \"Default\", \"Default\", \"Default\", \"Default\", \"Default\", \"Default\", \"Default\", \"Default\", \"Topic1\", \"Topic1\", \"Topic1\", \"Topic1\", \"Topic1\", \"Topic1\", \"Topic1\", \"Topic1\", \"Topic1\", \"Topic1\", \"Topic1\", \"Topic1\", \"Topic1\", \"Topic1\", \"Topic1\", \"Topic1\", \"Topic1\", \"Topic1\", \"Topic1\", \"Topic1\", \"Topic1\", \"Topic1\", \"Topic1\", \"Topic1\", \"Topic1\", \"Topic1\", \"Topic1\", \"Topic1\", \"Topic1\", \"Topic1\", \"Topic1\", \"Topic1\", \"Topic1\", \"Topic1\", \"Topic1\", \"Topic1\", \"Topic1\", \"Topic1\", \"Topic1\", \"Topic1\", \"Topic1\", \"Topic1\", \"Topic1\", \"Topic1\", \"Topic1\", \"Topic1\", \"Topic1\", \"Topic1\", \"Topic1\", \"Topic1\", \"Topic1\", \"Topic1\", \"Topic1\", \"Topic1\", \"Topic1\", \"Topic1\", \"Topic1\", \"Topic1\", \"Topic1\", \"Topic1\", \"Topic1\", \"Topic1\", \"Topic1\", \"Topic1\", \"Topic1\", \"Topic2\", \"Topic2\", \"Topic2\", \"Topic2\", \"Topic2\", \"Topic2\", \"Topic2\", \"Topic2\", \"Topic2\", \"Topic2\", \"Topic2\", \"Topic2\", \"Topic2\", \"Topic2\", \"Topic2\", \"Topic2\", \"Topic2\", \"Topic2\", \"Topic2\", \"Topic2\", \"Topic2\", \"Topic2\", \"Topic2\", \"Topic2\", \"Topic2\", \"Topic2\", \"Topic2\", \"Topic2\", \"Topic2\", \"Topic2\", \"Topic2\", \"Topic2\", \"Topic2\", \"Topic2\", \"Topic2\", \"Topic2\", \"Topic2\", \"Topic2\", \"Topic2\", \"Topic2\", \"Topic2\", \"Topic2\", \"Topic2\", \"Topic2\", \"Topic2\", \"Topic2\", \"Topic2\", \"Topic2\", \"Topic2\", \"Topic2\", \"Topic2\", \"Topic2\", \"Topic2\", \"Topic2\", \"Topic2\", \"Topic2\", \"Topic2\", \"Topic2\", \"Topic2\", \"Topic2\", \"Topic2\", \"Topic2\", \"Topic2\", \"Topic2\", \"Topic2\", \"Topic2\", \"Topic2\", \"Topic2\", \"Topic2\", \"Topic3\", \"Topic3\", \"Topic3\", \"Topic3\", \"Topic3\", \"Topic3\", \"Topic3\", \"Topic3\", \"Topic3\", \"Topic3\", \"Topic3\", \"Topic3\", \"Topic3\", \"Topic3\", \"Topic3\", \"Topic3\", \"Topic3\", \"Topic3\", \"Topic3\", \"Topic3\", \"Topic3\", \"Topic3\", \"Topic3\", \"Topic3\", \"Topic3\", \"Topic3\", \"Topic3\", \"Topic3\", \"Topic3\", \"Topic3\", \"Topic3\", \"Topic3\", \"Topic3\", \"Topic3\", \"Topic3\", \"Topic3\", \"Topic3\", \"Topic3\", \"Topic3\", \"Topic3\", \"Topic3\", \"Topic3\", \"Topic3\", \"Topic3\", \"Topic3\", \"Topic3\", \"Topic3\", \"Topic3\", \"Topic3\", \"Topic3\", \"Topic3\", \"Topic3\", \"Topic3\", \"Topic3\", \"Topic3\", \"Topic3\", \"Topic3\", \"Topic3\", \"Topic3\", \"Topic3\", \"Topic3\", \"Topic3\", \"Topic3\", \"Topic3\", \"Topic3\", \"Topic3\", \"Topic3\", \"Topic3\", \"Topic3\", \"Topic3\", \"Topic3\", \"Topic3\", \"Topic3\", \"Topic3\", \"Topic3\", \"Topic4\", \"Topic4\", \"Topic4\", \"Topic4\", \"Topic4\", \"Topic4\", \"Topic4\", \"Topic4\", \"Topic4\", \"Topic4\", \"Topic4\", \"Topic4\", \"Topic4\", \"Topic4\", \"Topic4\", \"Topic4\", \"Topic4\", \"Topic4\", \"Topic4\", \"Topic4\", \"Topic4\", \"Topic4\", \"Topic4\", \"Topic4\", \"Topic4\", \"Topic4\", \"Topic4\", \"Topic4\", \"Topic4\", \"Topic4\", \"Topic4\", \"Topic4\", \"Topic4\", \"Topic4\", \"Topic4\", \"Topic4\", \"Topic4\", \"Topic4\", \"Topic4\", \"Topic4\", \"Topic4\", \"Topic4\", \"Topic4\", \"Topic4\", \"Topic4\", \"Topic4\", \"Topic4\", \"Topic4\", \"Topic4\", \"Topic4\", \"Topic4\", \"Topic4\", \"Topic4\", \"Topic4\", \"Topic4\", \"Topic4\", \"Topic4\", \"Topic4\", \"Topic4\", \"Topic4\", \"Topic4\", \"Topic4\", \"Topic4\", \"Topic4\", \"Topic4\", \"Topic4\", \"Topic4\", \"Topic4\", \"Topic4\", \"Topic5\", \"Topic5\", \"Topic5\", \"Topic5\", \"Topic5\", \"Topic5\", \"Topic5\", \"Topic5\", \"Topic5\", \"Topic5\", \"Topic5\", \"Topic5\", \"Topic5\", \"Topic5\", \"Topic5\", \"Topic5\", \"Topic5\", \"Topic5\", \"Topic5\", \"Topic5\", \"Topic5\", \"Topic5\", \"Topic5\", \"Topic5\", \"Topic5\", \"Topic5\", \"Topic5\", \"Topic5\", \"Topic5\", \"Topic5\", \"Topic5\", \"Topic5\", \"Topic5\", \"Topic5\", \"Topic5\", \"Topic5\", \"Topic5\", \"Topic5\", \"Topic5\", \"Topic5\", \"Topic5\", \"Topic5\", \"Topic5\", \"Topic5\", \"Topic5\", \"Topic5\", \"Topic5\", \"Topic5\", \"Topic5\", \"Topic5\", \"Topic5\", \"Topic5\", \"Topic5\", \"Topic5\", \"Topic5\", \"Topic5\", \"Topic5\", \"Topic5\", \"Topic5\", \"Topic5\", \"Topic5\", \"Topic5\", \"Topic5\", \"Topic5\", \"Topic5\", \"Topic5\", \"Topic5\", \"Topic5\", \"Topic5\", \"Topic5\", \"Topic5\", \"Topic5\", \"Topic5\", \"Topic5\", \"Topic5\", \"Topic5\", \"Topic5\", \"Topic5\", \"Topic5\", \"Topic5\", \"Topic5\", \"Topic5\", \"Topic6\", \"Topic6\", \"Topic6\", \"Topic6\", \"Topic6\", \"Topic6\", \"Topic6\", \"Topic6\", \"Topic6\", \"Topic6\", \"Topic6\", \"Topic6\", \"Topic6\", \"Topic6\", \"Topic6\", \"Topic6\", \"Topic6\", \"Topic6\", \"Topic6\", \"Topic6\", \"Topic6\", \"Topic6\", \"Topic6\", \"Topic6\", \"Topic6\", \"Topic6\", \"Topic6\", \"Topic6\", \"Topic6\", \"Topic6\", \"Topic6\", \"Topic6\", \"Topic6\", \"Topic6\", \"Topic6\", \"Topic6\", \"Topic6\", \"Topic6\", \"Topic6\", \"Topic6\", \"Topic6\", \"Topic6\", \"Topic6\", \"Topic6\", \"Topic6\", \"Topic6\", \"Topic6\", \"Topic6\", \"Topic6\", \"Topic6\", \"Topic6\", \"Topic6\", \"Topic6\", \"Topic6\", \"Topic6\", \"Topic6\", \"Topic6\", \"Topic6\", \"Topic6\", \"Topic6\", \"Topic6\", \"Topic6\", \"Topic6\", \"Topic6\", \"Topic6\", \"Topic6\", \"Topic6\", \"Topic6\", \"Topic6\", \"Topic6\", \"Topic6\", \"Topic6\", \"Topic6\", \"Topic6\", \"Topic6\", \"Topic6\", \"Topic6\", \"Topic6\", \"Topic6\", \"Topic6\", \"Topic6\", \"Topic6\", \"Topic7\", \"Topic7\", \"Topic7\", \"Topic7\", \"Topic7\", \"Topic7\", \"Topic7\", \"Topic7\", \"Topic7\", \"Topic7\", \"Topic7\", \"Topic7\", \"Topic7\", \"Topic7\", \"Topic7\", \"Topic7\", \"Topic7\", \"Topic7\", \"Topic7\", \"Topic7\", \"Topic7\", \"Topic7\", \"Topic7\", \"Topic7\", \"Topic7\", \"Topic7\", \"Topic7\", \"Topic7\", \"Topic7\", \"Topic7\", \"Topic7\", \"Topic7\", \"Topic7\", \"Topic7\", \"Topic7\", \"Topic7\", \"Topic7\", \"Topic7\", \"Topic7\", \"Topic7\", \"Topic7\", \"Topic7\", \"Topic7\", \"Topic7\", \"Topic7\", \"Topic7\", \"Topic7\", \"Topic7\", \"Topic7\", \"Topic7\", \"Topic7\", \"Topic7\", \"Topic7\", \"Topic7\", \"Topic7\", \"Topic7\", \"Topic7\", \"Topic7\", \"Topic7\", \"Topic7\", \"Topic7\", \"Topic7\", \"Topic7\", \"Topic7\", \"Topic7\", \"Topic7\", \"Topic7\", \"Topic7\", \"Topic7\", \"Topic8\", \"Topic8\", \"Topic8\", \"Topic8\", \"Topic8\", \"Topic8\", \"Topic8\", \"Topic8\", \"Topic8\", \"Topic8\", \"Topic8\", \"Topic8\", \"Topic8\", \"Topic8\", \"Topic8\", \"Topic8\", \"Topic8\", \"Topic8\", \"Topic8\", \"Topic8\", \"Topic8\", \"Topic8\", \"Topic8\", \"Topic8\", \"Topic8\", \"Topic8\", \"Topic8\", \"Topic8\", \"Topic8\", \"Topic8\", \"Topic8\", \"Topic8\", \"Topic8\", \"Topic8\", \"Topic8\", \"Topic8\", \"Topic8\", \"Topic8\", \"Topic8\", \"Topic8\", \"Topic8\", \"Topic8\", \"Topic8\", \"Topic8\", \"Topic8\", \"Topic8\", \"Topic8\", \"Topic8\", \"Topic8\", \"Topic8\", \"Topic8\", \"Topic8\", \"Topic8\", \"Topic8\", \"Topic8\", \"Topic8\", \"Topic8\", \"Topic8\", \"Topic8\", \"Topic8\", \"Topic8\", \"Topic8\", \"Topic8\", \"Topic8\", \"Topic8\", \"Topic8\", \"Topic9\", \"Topic9\", \"Topic9\", \"Topic9\", \"Topic9\", \"Topic9\", \"Topic9\", \"Topic9\", \"Topic9\", \"Topic9\", \"Topic9\", \"Topic9\", \"Topic9\", \"Topic9\", \"Topic9\", \"Topic9\", \"Topic9\", \"Topic9\", \"Topic9\", \"Topic9\", \"Topic9\", \"Topic9\", \"Topic9\", \"Topic9\", \"Topic9\", \"Topic9\", \"Topic9\", \"Topic9\", \"Topic9\", \"Topic9\", \"Topic9\", \"Topic9\", \"Topic9\", \"Topic9\", \"Topic9\", \"Topic9\", \"Topic9\", \"Topic9\", \"Topic9\", \"Topic9\", \"Topic9\", \"Topic9\", \"Topic9\", \"Topic9\", \"Topic9\", \"Topic9\", \"Topic9\", \"Topic9\", \"Topic9\", \"Topic9\", \"Topic9\", \"Topic9\", \"Topic9\", \"Topic9\", \"Topic9\", \"Topic9\", \"Topic9\", \"Topic9\", \"Topic9\", \"Topic9\", \"Topic9\", \"Topic9\", \"Topic10\", \"Topic10\", \"Topic10\", \"Topic10\", \"Topic10\", \"Topic10\", \"Topic10\", \"Topic10\", \"Topic10\", \"Topic10\", \"Topic10\", \"Topic10\", \"Topic10\", \"Topic10\", \"Topic10\", \"Topic10\", \"Topic10\", \"Topic10\", \"Topic10\", \"Topic10\", \"Topic10\", \"Topic10\", \"Topic10\", \"Topic10\", \"Topic10\", \"Topic10\", \"Topic10\", \"Topic10\", \"Topic10\", \"Topic10\", \"Topic10\", \"Topic10\", \"Topic10\", \"Topic10\", \"Topic10\", \"Topic10\", \"Topic10\", \"Topic10\", \"Topic10\", \"Topic10\", \"Topic10\", \"Topic10\", \"Topic10\", \"Topic10\", \"Topic10\", \"Topic10\", \"Topic10\", \"Topic10\", \"Topic10\", \"Topic10\", \"Topic10\", \"Topic10\", \"Topic10\", \"Topic10\", \"Topic10\", \"Topic10\", \"Topic10\", \"Topic10\", \"Topic10\", \"Topic10\", \"Topic10\", \"Topic10\", \"Topic10\", \"Topic10\", \"Topic10\", \"Topic10\", \"Topic10\", \"Topic10\", \"Topic10\", \"Topic10\", \"Topic10\", \"Topic10\", \"Topic10\", \"Topic10\", \"Topic10\", \"Topic10\", \"Topic10\", \"Topic10\", \"Topic10\", \"Topic10\"], \"logprob\": [30.0, 29.0, 28.0, 27.0, 26.0, 25.0, 24.0, 23.0, 22.0, 21.0, 20.0, 19.0, 18.0, 17.0, 16.0, 15.0, 14.0, 13.0, 12.0, 11.0, 10.0, 9.0, 8.0, 7.0, 6.0, 5.0, 4.0, 3.0, 2.0, 1.0, -4.7831, -4.7831, -5.2325, -5.7868, -5.7868, -6.0704, -6.0704, -6.0704, -6.0704, -6.2494, -6.2494, -6.2494, -6.2494, -6.2494, -6.2494, -6.2494, -6.2494, -6.2494, -6.2494, -6.2494, -6.2494, -6.2494, -6.4677, -6.4677, -6.4677, -6.4677, -6.4677, -6.4677, -6.4677, -5.306, -5.4717, -5.6019, -5.2102, -5.5206, -5.6768, -5.5873, -6.254, -5.1004, -4.4186, -5.7216, -4.7072, -5.0228, -4.897, -5.3354, -5.085, -5.4314, -4.8359, -5.3768, -5.0236, -5.9417, -4.7864, -4.9456, -5.1808, -5.3245, -5.4332, -5.1613, -5.2229, -5.2998, -5.4638, -5.4149, -5.4094, -5.4071, -5.4301, -5.4474, -5.4529, -4.8253, -5.9191, -6.1191, -6.3987, -6.3987, -5.9009, -5.9139, -6.7882, -6.7882, -6.7882, -6.7882, -6.7882, -6.7882, -6.7882, -6.7882, -6.7882, -6.7882, -6.7882, -6.7882, -6.7882, -6.7882, -6.7882, -6.7882, -6.7883, -6.5134, -6.1191, -6.1628, -4.99, -6.3987, -6.3987, -5.0712, -5.9451, -5.9463, -5.4382, -6.1191, -6.3987, -5.7202, -5.2681, -5.8638, -6.3987, -4.2638, -5.657, -6.1326, -4.6152, -6.3215, -4.8, -5.1724, -4.4043, -4.4793, -5.2056, -5.0183, -5.4608, -4.6323, -4.5453, -5.0258, -4.9212, -5.3831, -5.1451, -5.1808, -5.1244, -5.2099, -5.4426, -5.3258, -5.0904, -5.1732, -5.3715, -5.4826, -5.3325, -5.3261, -5.3228, -5.7995, -6.5638, -6.5638, -6.5638, -6.5638, -6.7429, -6.7429, -6.7429, -6.7429, -6.7429, -6.7429, -6.9611, -6.9611, -6.9611, -6.9611, -6.9611, -6.9611, -6.9611, -6.9611, -6.9611, -6.9611, -6.9612, -6.412, -6.412, -7.2407, -7.2407, -7.2407, -7.2407, -7.2407, -6.1708, -4.9258, -5.9269, -5.7428, -5.9706, -4.3263, -5.6082, -6.0607, -5.9038, -6.4328, -6.2489, -5.67, -5.5274, -4.904, -5.0497, -6.7429, -6.0597, -4.5411, -5.5721, -4.9186, -5.4949, -5.8438, -5.1257, -4.9935, -5.1268, -5.0607, -5.2612, -5.3596, -5.2957, -5.1246, -5.6599, -5.3571, -5.2546, -5.1908, -4.9707, -5.45, -5.3905, -5.4729, -5.4566, -5.2268, -5.2616, -5.4101, -5.4241, -5.4518, -5.5242, -4.1222, -6.5791, -6.6153, -6.8656, -3.3894, -6.9651, -7.0189, -7.2001, -4.5131, -3.2511, -7.3422, -3.6429, -6.5235, -7.5079, -7.5079, -6.2165, -7.6023, -7.6023, -7.6023, -7.6023, -6.9141, -4.5542, -7.7066, -7.7066, -7.7066, -7.7066, -7.7066, -7.7066, -7.7066, -7.7066, -5.163, -6.8656, -6.5445, -6.9203, -5.8215, -7.2687, -6.5685, -7.2701, -6.5213, -4.7585, -4.7597, -4.992, -5.5027, -4.5898, -5.2534, -5.249, -5.1923, -5.298, -5.2904, -5.4391, -5.6261, -5.1863, -5.1518, -5.1885, -5.4479, -5.5574, -5.2968, -5.3742, -5.7645, -5.5783, -5.5649, -5.4582, -5.4314, -5.2375, -5.416, -5.5054, -5.4836, -5.4499, -5.5, -6.3103, -6.8646, -6.9964, -7.1482, -7.1482, -7.1546, -7.3272, -7.3297, -7.5455, -7.5455, -7.5455, -7.5899, -7.8251, -7.8251, -7.8251, -7.8251, -7.8251, -7.8251, -7.8251, -7.8251, -7.8251, -7.8251, -7.8251, -7.8251, -7.8251, -7.8251, -7.8251, -7.8251, -6.6484, -7.8478, -6.2356, -7.1642, -6.7775, -7.3272, -5.4161, -6.2267, -7.1637, -7.1543, -6.4674, -7.157, -4.9893, -4.3024, -5.5595, -4.5821, -6.6683, -5.6158, -5.7442, -4.686, -6.1687, -4.4127, -5.5075, -4.8564, -5.8398, -4.8052, -5.0673, -5.5426, -5.9497, -5.2254, -5.0072, -5.6774, -5.1106, -5.078, -5.0887, -5.6666, -5.7956, -5.021, -5.248, -5.3191, -5.1803, -5.0022, -4.9994, -5.2729, -5.2484, -5.1757, -5.4053, -5.2822, -5.3269, -5.28, -5.2788, -5.3628, -5.3608, -5.4056, -6.1325, -6.4396, -6.4396, -6.534, -6.534, -6.534, -6.534, -6.6383, -6.7547, -6.7547, -6.7547, -6.7547, -6.8865, -6.8865, -7.0383, -7.0383, -7.0383, -7.0383, -7.0383, -7.0383, -6.2768, -7.2173, -7.2173, -7.2173, -7.2173, -7.2173, -7.2173, -7.2174, -6.534, -6.5357, -6.1538, -6.2004, -6.5511, -5.7788, -6.382, -6.7547, -6.7547, -5.9353, -5.7882, -5.7631, -6.1494, -6.4693, -4.9602, -6.0564, -6.538, -5.9967, -5.8336, -5.6567, -5.1341, -4.6064, -5.4808, -5.1584, -5.5922, -4.6818, -4.6734, -6.0422, -5.0676, -5.5587, -5.0566, -4.9657, -4.9476, -5.1023, -5.1875, -5.377, -5.3182, -5.0649, -4.9473, -5.146, -5.0006, -5.2285, -5.1779, -5.0177, -5.3583, -5.3495, -5.2542, -5.4055, -5.381, -5.3626, -5.3744, -5.4002, -5.3634, -5.3935, -2.8175, -3.581, -4.9737, -4.9737, -5.4944, -5.7006, -5.9607, -5.9607, -6.0652, -6.465, -5.7009, -6.644, -6.644, -5.9607, -5.0518, -6.8622, -6.8622, -6.8622, -6.8622, -6.8623, -4.7454, -6.8959, -6.3133, -7.1418, -7.1418, -7.1418, -7.1418, -7.1418, -7.1418, -7.1419, -5.7011, -5.7406, -5.2373, -5.978, -6.4649, -5.091, -6.1706, -6.1952, -4.1636, -5.8004, -5.5359, -5.152, -6.2225, -5.4384, -5.8225, -5.7855, -5.711, -4.1946, -5.6271, -4.2418, -5.6717, -4.8143, -4.8961, -4.8762, -4.7258, -4.8767, -5.3593, -5.1127, -5.0253, -4.8756, -5.2576, -5.0438, -4.981, -5.2209, -5.3239, -5.2271, -5.3821, -5.3819, -5.4054, -5.3792, -5.6626, -6.06, -6.0998, -6.3395, -6.3433, -6.3483, -5.1219, -6.729, -6.729, -6.7316, -5.2586, -5.6681, -4.5674, -5.4542, -5.9714, -6.729, -6.729, -7.0266, -6.729, -6.7291, -6.7295, -5.9316, -6.3395, -6.3395, -6.7583, -6.3395, -6.9097, -7.1992, -6.729, -4.7556, -5.6743, -6.3734, -4.0355, -3.6075, -4.845, -5.4872, -5.561, -6.0599, -5.5512, -4.1046, -5.6676, -4.8803, -4.3997, -4.6514, -4.5148, -5.2179, -5.4444, -4.625, -4.5736, -4.7595, -4.8133, -5.2662, -4.907, -4.761, -4.9454, -4.8852, -4.6322, -4.9169, -4.9782, -4.8227, -4.9863, -5.2738, -5.1745, -5.1876, -5.1772, -5.5943, -5.9837, -5.9837, -5.9837, -5.9837, -5.9837, -5.9837, -5.9837, -5.9837, -5.9837, -5.9837, -5.9837, -5.9837, -5.9837, -5.9837, -5.9837, -5.9838, -5.3147, -5.9837, -5.9837, -5.9837, -5.9837, -5.9837, -5.6746, -4.9667, -5.9837, -5.9837, -5.9837, -5.9837, -6.6304, -5.5943, -4.829, -4.4359, -4.5145, -4.5776, -4.944, -4.6505, -4.9457, -4.8768, -4.4213, -5.3147, -4.8146, -4.4575, -4.6121, -4.7763, -5.0237, -4.8938, -4.6083, -4.4497, -5.2525, -4.9513, -5.1643, -4.9566, -4.8197, -4.7008, -5.2695, -5.0144, -5.1963, -5.121, -5.0764, -5.2835, -5.2799, -6.6858, -6.8024, -6.934, -6.1817, -7.0858, -7.0858, -7.0858, -5.7547, -7.2648, -7.2648, -7.2648, -7.2648, -7.265, -7.4831, -7.4831, -7.4831, -7.4831, -7.4831, -6.1997, -7.4946, -6.6115, -5.4273, -6.934, -6.5, -7.7627, -7.7627, -7.7627, -7.7627, -7.7627, -7.7627, -5.0131, -5.6274, -5.013, -6.781, -6.6071, -7.0944, -5.5959, -5.5123, -5.5693, -5.5743, -5.4697, -6.6047, -5.9265, -5.8451, -5.513, -5.7054, -5.7998, -6.6858, -5.7628, -4.985, -5.5121, -4.4211, -4.8685, -5.8413, -5.4667, -4.5642, -5.8361, -5.3698, -4.8652, -5.036, -5.1028, -4.7149, -4.8863, -5.1338, -5.3645, -5.1492, -5.1448, -5.104, -5.1577, -5.1608, -5.2822, -5.3427, -5.4069, -5.3314, -5.3574, -5.362, -5.3972, -5.4139, -5.4445, -5.4537], \"loglift\": [30.0, 29.0, 28.0, 27.0, 26.0, 25.0, 24.0, 23.0, 22.0, 21.0, 20.0, 19.0, 18.0, 17.0, 16.0, 15.0, 14.0, 13.0, 12.0, 11.0, 10.0, 9.0, 8.0, 7.0, 6.0, 5.0, 4.0, 3.0, 2.0, 1.0, 3.1149, 3.1149, 3.0926, 3.0483, 3.0483, 3.0155, 3.0155, 3.0155, 3.0155, 2.9902, 2.9902, 2.9902, 2.9902, 2.9902, 2.9902, 2.9902, 2.9902, 2.9902, 2.9902, 2.9902, 2.9902, 2.9902, 2.9537, 2.9537, 2.9537, 2.9537, 2.9537, 2.9537, 2.9537, 2.9489, 2.9158, 2.8528, 2.7595, 2.5447, 2.58, 2.512, 2.8368, 2.1283, 1.3994, 2.4311, 1.2054, 1.4948, 1.1569, 1.7573, 1.3359, 1.8146, 0.9138, 1.4957, 0.7257, 2.4045, 0.1515, 0.2242, 0.6576, 0.9918, 1.203, 0.2033, 0.256, 0.5805, 1.0864, 0.4785, 0.2502, 0.1937, 0.442, 0.6846, 0.1916, 3.3958, 3.346, 3.329, 3.27, 3.27, 3.2089, 3.1894, 3.164, 3.164, 3.164, 3.164, 3.164, 3.164, 3.164, 3.164, 3.164, 3.164, 3.164, 3.164, 3.164, 3.164, 3.1639, 3.1639, 3.1638, 3.143, 3.1331, 3.0868, 3.0414, 3.0358, 3.0358, 3.0034, 2.9977, 2.9931, 2.8654, 2.9702, 3.0358, 2.8078, 2.6436, 2.8413, 3.0188, 2.1393, 2.7005, 2.8892, 2.1003, 2.9262, 2.0634, 2.2046, 1.554, 1.264, 1.9297, 1.6399, 2.0208, 0.8908, 0.6245, 1.267, 0.7627, 1.5577, 0.9829, 0.8964, 0.7506, 0.9186, 1.4646, 1.0739, 0.1569, 0.277, 1.0608, 1.3642, 0.2263, 0.1134, 2.5876, 2.5633, 2.4933, 2.4933, 2.4933, 2.4933, 2.4688, 2.4688, 2.4688, 2.4688, 2.4688, 2.4687, 2.4334, 2.4334, 2.4334, 2.4334, 2.4334, 2.4334, 2.4334, 2.4334, 2.4334, 2.4334, 2.4334, 2.397, 2.3908, 2.3778, 2.3778, 2.3778, 2.3778, 2.3778, 2.3448, 2.2615, 2.2979, 2.2494, 2.258, 2.0033, 2.1279, 2.2259, 2.0949, 2.251, 2.1036, 1.8171, 1.7014, 1.3614, 1.3785, 2.3115, 1.9224, 0.8309, 1.3688, 0.7258, 1.2759, 1.5506, 0.7676, 0.6152, 0.7116, 0.4624, 0.6971, 0.6835, 0.5407, 0.1523, 1.0976, 0.515, 0.3051, 0.1737, -0.375, 0.6273, 0.3124, 0.5536, 0.4506, -1.0163, -0.8966, 0.0736, 0.0548, 0.1069, 0.1768, 1.0079, 0.9852, 0.9842, 0.9759, 0.9756, 0.972, 0.9698, 0.9613, 0.9609, 0.9594, 0.9535, 0.9527, 0.9452, 0.943, 0.943, 0.9363, 0.9362, 0.9362, 0.9362, 0.9362, 0.932, 0.9296, 0.928, 0.928, 0.928, 0.928, 0.928, 0.928, 0.928, 0.928, 0.825, 0.8944, 0.8607, 0.8811, 0.7966, 0.9, 0.8399, 0.8916, 0.8032, 0.5184, 0.4597, 0.4622, 0.5592, 0.3481, 0.4687, 0.4375, 0.3979, 0.403, 0.3935, 0.419, 0.4325, 0.2533, 0.2128, 0.2117, 0.2987, 0.3387, 0.1821, 0.1947, 0.433, 0.2967, 0.2874, 0.2014, 0.1727, -0.0677, 0.0342, 0.1975, 0.0752, -0.2619, 0.0596, 1.9194, 1.8795, 1.8667, 1.8499, 1.8499, 1.8439, 1.827, 1.8247, 1.7938, 1.7938, 1.7938, 1.7492, 1.7415, 1.7415, 1.7415, 1.7415, 1.7415, 1.7415, 1.7415, 1.7415, 1.7415, 1.7415, 1.7415, 1.7415, 1.7415, 1.7415, 1.7415, 1.7415, 1.7391, 1.7187, 1.6767, 1.6984, 1.595, 1.6703, 1.3762, 1.4926, 1.5961, 1.5891, 1.4256, 1.5864, 1.0646, 0.8856, 1.1884, 0.9025, 1.4486, 1.1426, 1.1465, 0.7209, 1.2098, 0.5252, 0.9375, 0.6667, 1.0674, 0.5922, 0.6988, 0.899, 1.0823, 0.6872, 0.5617, 0.9337, 0.6114, 0.5816, 0.5121, 0.8836, 0.9613, 0.3792, 0.5135, 0.539, 0.3963, 0.2173, 0.1704, 0.465, 0.396, 0.2745, 0.5478, 0.3079, 0.339, 0.1988, -0.0314, 0.196, 0.0787, 0.2242, 2.076, 2.0573, 2.0573, 2.0502, 2.0502, 2.0502, 2.0502, 2.0416, 2.031, 2.031, 2.031, 2.0309, 2.0175, 2.0175, 1.9999, 1.9999, 1.9999, 1.9999, 1.9999, 1.9999, 1.9928, 1.9759, 1.9759, 1.9759, 1.9759, 1.9759, 1.9759, 1.9759, 1.9631, 1.9569, 1.9394, 1.9413, 1.9479, 1.8395, 1.8945, 1.9274, 1.9193, 1.8145, 1.7888, 1.778, 1.8251, 1.8743, 1.4898, 1.7455, 1.8706, 1.7102, 1.5731, 1.4634, 1.1313, 0.7657, 1.278, 1.0589, 1.3095, 0.6828, 0.6035, 1.5748, 0.8075, 1.1601, 0.7045, 0.611, 0.5066, 0.6592, 0.6966, 0.8783, 0.7788, 0.4737, 0.2721, 0.4229, 0.1874, 0.518, 0.2723, -0.0798, 0.5489, 0.4889, 0.1854, 0.6143, 0.5123, 0.3753, 0.3753, 0.4064, 0.2267, 0.004, 2.7045, 2.7003, 2.6767, 2.6767, 2.6558, 2.6442, 2.626, 2.626, 2.6171, 2.5756, 2.5714, 2.5515, 2.5515, 2.5336, 2.5222, 2.5168, 2.5168, 2.5168, 2.5168, 2.5167, 2.4936, 2.483, 2.4692, 2.4621, 2.4621, 2.4621, 2.4621, 2.4621, 2.4621, 2.4621, 2.4613, 2.4614, 2.449, 2.4315, 2.4438, 2.3962, 2.4235, 2.3996, 2.1292, 2.3463, 2.2835, 2.1214, 2.3636, 2.16, 2.2547, 2.2247, 2.1745, 1.344, 2.0474, 1.1557, 2.0469, 1.2288, 1.2451, 1.1997, 1.0121, 1.0167, 1.6623, 1.2833, 1.1033, 0.5314, 1.256, 0.7628, 0.2663, 0.6513, 1.0057, 0.3816, 0.3676, 0.2222, 0.1722, 3.4714, 3.4382, 3.3753, 3.3331, 3.3172, 3.3132, 3.3078, 3.285, 3.2125, 3.2125, 3.2097, 3.2084, 3.162, 3.005, 2.9957, 2.9638, 2.9233, 2.9233, 2.9015, 2.8957, 2.8957, 2.8953, 2.8803, 2.8734, 2.8697, 2.8656, 2.7489, 2.7361, 2.7288, 2.706, 2.664, 2.6175, 2.6778, 2.2941, 2.0417, 2.3423, 2.4516, 2.4459, 2.6265, 2.3834, 1.6387, 2.3771, 1.8897, 1.4805, 1.618, 1.452, 1.9434, 2.1244, 1.4015, 1.2786, 1.438, 1.4303, 1.952, 1.493, 1.2976, 1.371, 1.2428, 0.6152, 0.9553, 0.9059, 0.3471, 0.5733, 1.2764, 0.632, 0.5899, -0.2393, 4.2663, 4.1363, 4.1363, 4.1363, 4.1363, 4.1363, 4.1363, 4.1363, 4.1363, 4.1363, 4.1363, 4.1363, 4.1363, 4.1363, 4.1363, 4.1363, 4.1362, 4.1223, 3.7895, 3.7895, 3.7679, 3.7679, 3.7658, 3.6483, 3.5881, 3.5237, 3.5009, 3.4985, 3.496, 3.3778, 3.3183, 3.2566, 3.0913, 3.0839, 3.0122, 3.1138, 2.6592, 2.6449, 2.3966, 1.6559, 2.8884, 1.9429, 1.0271, 1.3461, 1.6445, 2.1526, 1.7856, 1.135, 0.7383, 2.4771, 1.7632, 2.24, 1.6726, 0.9534, 0.5465, 2.0906, 1.051, 1.7503, 1.1215, 0.7958, 1.3798, 0.7881, 1.9427, 1.9325, 1.9199, 1.913, 1.9033, 1.9033, 1.9033, 1.8809, 1.8806, 1.8806, 1.8806, 1.8806, 1.8805, 1.8477, 1.8477, 1.8477, 1.8477, 1.8477, 1.8467, 1.8368, 1.8342, 1.8168, 1.8016, 1.7979, 1.796, 1.796, 1.796, 1.796, 1.796, 1.796, 1.7437, 1.7505, 1.7185, 1.7687, 1.7583, 1.7696, 1.6728, 1.6447, 1.6023, 1.5739, 1.5369, 1.6967, 1.5551, 1.5234, 1.4396, 1.4724, 1.4968, 1.696, 1.3571, 1.0343, 1.2273, 0.7487, 0.9046, 1.3383, 1.1433, 0.6831, 1.3187, 1.0333, 0.6579, 0.7706, 0.7693, 0.473, 0.5982, 0.6311, 0.8369, 0.4806, 0.456, 0.268, 0.2426, 0.2461, 0.467, 0.3232, 0.6129, 0.1188, 0.2202, 0.1977, 0.3057, 0.1247, 0.3217, -0.0142]}, \"token.table\": {\"Topic\": [4, 5, 6, 8, 10, 5, 6, 8, 3, 4, 5, 6, 7, 10, 6, 3, 5, 7, 10, 1, 3, 8, 3, 10, 6, 8, 9, 3, 5, 7, 8, 9, 10, 1, 2, 3, 4, 5, 6, 7, 10, 1, 3, 4, 5, 6, 7, 8, 10, 1, 2, 3, 4, 5, 6, 7, 8, 9, 10, 1, 2, 3, 4, 5, 6, 7, 8, 10, 1, 2, 3, 4, 6, 7, 8, 10, 3, 7, 6, 7, 2, 4, 5, 7, 1, 3, 4, 5, 6, 10, 1, 8, 4, 8, 4, 5, 6, 7, 10, 9, 10, 4, 6, 6, 1, 10, 7, 8, 7, 1, 1, 2, 4, 5, 6, 7, 8, 10, 1, 2, 3, 4, 5, 6, 7, 8, 10, 4, 5, 10, 1, 2, 3, 4, 5, 6, 7, 8, 10, 2, 6, 9, 10, 1, 2, 3, 4, 5, 6, 10, 1, 2, 4, 5, 6, 7, 9, 10, 1, 3, 4, 5, 6, 8, 10, 2, 10, 2, 1, 3, 4, 6, 10, 3, 4, 5, 10, 3, 4, 1, 2, 3, 4, 10, 3, 9, 9, 2, 3, 4, 5, 6, 7, 10, 3, 4, 1, 5, 8, 1, 5, 5, 2, 3, 4, 5, 8, 9, 10, 9, 4, 5, 6, 10, 6, 3, 7, 1, 4, 5, 1, 2, 3, 4, 5, 6, 8, 10, 2, 4, 1, 2, 3, 4, 5, 6, 7, 8, 10, 7, 3, 4, 5, 6, 10, 10, 1, 7, 4, 3, 6, 9, 4, 5, 6, 10, 3, 2, 3, 5, 6, 4, 5, 6, 7, 10, 1, 7, 2, 3, 4, 7, 1, 2, 3, 4, 5, 6, 7, 8, 9, 10, 10, 2, 9, 7, 2, 3, 4, 5, 7, 4, 7, 8, 10, 5, 7, 1, 3, 4, 5, 6, 9, 10, 6, 2, 3, 4, 5, 6, 10, 4, 5, 6, 8, 3, 1, 3, 4, 5, 6, 7, 8, 10, 1, 2, 3, 4, 5, 6, 7, 8, 9, 10, 10, 1, 2, 3, 4, 5, 6, 7, 8, 10, 1, 2, 3, 4, 5, 6, 10, 4, 5, 7, 1, 3, 4, 5, 6, 9, 10, 7, 2, 4, 6, 4, 5, 6, 10, 5, 2, 7, 2, 3, 4, 5, 6, 7, 10, 3, 1, 3, 1, 2, 3, 4, 5, 6, 8, 9, 10, 1, 2, 3, 4, 5, 6, 10, 1, 2, 3, 4, 5, 6, 7, 8, 10, 3, 9, 1, 2, 3, 4, 5, 6, 9, 10, 2, 5, 7, 10, 1, 3, 4, 5, 6, 7, 8, 10, 3, 4, 5, 6, 10, 1, 3, 4, 5, 6, 10, 1, 3, 4, 5, 6, 10, 6, 6, 10, 3, 4, 5, 7, 10, 4, 6, 10, 10, 4, 5, 1, 2, 3, 4, 5, 6, 7, 8, 10, 6, 3, 4, 5, 6, 7, 10, 2, 4, 9, 1, 5, 5, 4, 5, 3, 6, 9, 10, 1, 2, 3, 4, 5, 6, 9, 10, 1, 2, 3, 4, 5, 6, 7, 8, 9, 10, 4, 6, 6, 10, 1, 2, 8, 4, 5, 8, 10, 3, 7, 8, 3, 3, 7, 8, 1, 3, 7, 8, 1, 3, 6, 7, 4, 5, 6, 7, 9, 5, 1, 1, 3, 5, 6, 7, 3, 4, 5, 6, 1, 3, 4, 5, 6, 7, 8, 10, 1, 4, 5, 6, 10, 4, 1, 4, 5, 6, 8, 10, 1, 4, 5, 6, 7, 1, 2, 3, 4, 5, 6, 7, 8, 9, 10, 6, 1, 2, 3, 4, 5, 6, 10, 2, 1, 2, 3, 4, 5, 6, 7, 9, 10, 5, 1, 3, 4, 5, 6, 7, 10, 1, 2, 5, 7, 8, 1, 5, 7, 8, 8, 1, 2, 3, 4, 5, 6, 7, 8, 10, 1, 8, 4, 8, 1, 4, 2, 1, 2, 3, 4, 5, 6, 7, 8, 10, 1, 2, 3, 4, 5, 6, 7, 8, 10, 1, 3, 4, 10, 3, 4, 5, 6, 7, 10, 3, 4, 5, 6, 10, 1, 3, 1, 2, 3, 4, 5, 6, 7, 8, 10, 3, 9, 1, 2, 8, 1, 3, 4, 5, 6, 8, 4, 10, 1, 2, 3, 4, 5, 7, 10, 7, 10, 5, 7, 6, 4, 5, 6, 2, 4, 7, 10, 6, 5, 8, 10, 1, 3, 4, 5, 6, 7, 8, 9, 10, 5, 1, 3, 4, 5, 6, 7, 8, 10, 10, 6, 1, 4, 1, 4, 2, 2, 3, 4, 5, 7, 8, 9, 10, 1, 3, 4, 5, 6, 7, 10, 10, 6, 4, 5, 1, 2, 3, 4, 5, 6, 7, 8, 10, 1, 2, 3, 4, 5, 6, 8, 9, 10, 3, 4, 5, 6, 10, 2, 3, 4, 5, 6, 7, 9, 10, 10, 1, 4, 5, 8, 10, 1, 2, 3, 4, 5, 6, 7, 8, 10, 1, 2, 3, 4, 5, 6, 7, 8, 10, 9, 1, 1, 2, 4, 5, 6, 4, 6, 1, 3, 5, 10, 1, 8, 3, 4, 4, 1, 2, 3, 4, 5, 6, 7, 8, 3, 2, 3, 1, 5, 8, 7, 2, 3, 4, 5, 6, 9, 10, 1, 3, 4, 5, 6, 7, 8, 10, 5, 4, 5, 6, 7, 10, 7, 4, 8, 2, 6, 1, 2, 3, 4, 5, 6, 7, 8, 10, 3, 4, 5, 6, 7, 9, 3, 4, 5, 6, 7, 8, 9, 10, 3, 3, 2, 2, 2, 3, 6, 10, 3, 4, 6, 8, 1, 3, 4, 5, 6, 7, 9, 10, 1, 2, 3, 4, 5, 6, 7, 8, 9, 10, 3, 4, 6, 7, 2, 1, 2, 3, 4, 5, 6, 7, 8, 10, 2, 2, 1, 3, 5, 6, 7, 8, 9, 10, 4, 1, 3, 4, 5, 6, 9, 10, 1, 2, 3, 4, 5, 6, 7, 8, 9, 10, 4, 5, 6, 5, 3, 4, 5, 6, 10, 4, 1, 4, 10, 3, 5, 9, 10, 2, 3, 4, 5, 6, 9, 10, 2, 3, 4, 5, 6, 9, 10, 10, 2, 10, 10, 6, 8, 10, 7, 1, 1, 2, 4, 5, 6, 7, 8, 10, 5, 6, 7, 7, 7, 4, 5, 10, 1, 2, 3, 4, 5, 8, 10, 1, 2, 4, 5, 6, 8, 10, 6, 2, 2, 3, 2, 4, 5, 6, 3, 4, 5, 6, 9, 10, 1, 2, 3, 4, 5, 7, 9, 10, 3, 4, 3, 2, 5, 7, 2, 4, 5, 10, 1, 2, 3, 4, 5, 6, 7, 8, 9, 10, 6, 3, 4, 5, 8, 7, 2, 7, 10, 1, 3, 4, 5, 7, 9, 10, 1, 2, 3, 4, 5, 6, 7, 8, 10, 5, 2, 3, 1, 9, 1, 2, 3, 4, 5, 6, 7, 8, 10, 1, 2, 3, 4, 5, 6, 7, 10, 1, 2, 4, 5, 10, 3, 4, 5, 7, 8, 9, 10, 5, 7, 8, 8, 1, 3, 4, 7, 1, 8, 5, 8, 6, 8, 5, 3, 4, 5, 6, 10, 3, 1, 4, 7, 1, 4, 3, 1, 4, 2, 3, 4, 5, 6, 8, 10, 2, 4, 5, 8, 10, 9, 2, 3, 3, 7, 8, 8, 2, 2, 4, 7, 2, 1, 2, 3, 4, 5, 6, 7, 8, 9, 10, 10, 10, 3, 4, 8, 1, 3, 4, 5, 6, 8, 10, 3, 4, 5, 7, 9, 10, 3, 4, 1, 1, 2, 3, 4, 5, 6, 7, 8, 10, 4, 5, 6, 7, 8, 10, 2, 4, 5, 7, 10, 4, 1, 3, 4, 5, 6, 7, 8, 2, 3, 4, 6, 3, 2, 3, 4, 5, 6, 7, 8, 9, 10, 7, 7, 7, 1, 2, 3, 4, 5, 6, 7, 8, 9, 10, 4, 10, 1, 3, 4, 5, 6, 7, 10, 4, 5, 6, 10, 3, 1, 1, 2, 3, 4, 5, 6, 8, 10, 3, 4, 5, 6, 7, 8, 10, 1, 1, 2, 4, 5, 6, 7, 10, 3, 4, 6, 7, 3, 1, 5, 9, 2, 3, 4, 5, 6, 7, 9, 10, 7, 1, 2, 3, 4, 5, 6, 7, 8, 9, 10, 1, 3, 4, 5, 6, 7, 10, 1, 3, 4, 5, 6, 8, 10, 1, 2, 3, 4, 5, 6, 7, 8, 10, 1, 3, 6, 7, 7, 4, 7, 10, 3, 6, 5, 1, 2, 3, 4, 5, 6, 7, 8, 10, 1, 2, 3, 4, 5, 6, 9, 10, 3, 3, 1, 4, 7, 9, 1, 2, 3, 4, 5, 6, 7, 8, 10, 9, 5, 2, 4, 2, 10, 1, 2, 3, 4, 5, 6, 7, 10, 6, 1, 4, 7, 8, 10, 1, 2, 3, 4, 5, 6, 7, 8, 10, 4, 9, 9, 5, 1, 1, 2, 3, 4, 5, 6, 10, 9, 4, 5, 6, 7, 9, 4, 5, 7, 1, 2, 1, 2, 3, 4, 5, 6, 8, 10, 5, 6, 10, 2, 3, 4, 5, 6, 5, 4, 5, 6, 10, 7, 8, 10, 2, 10, 1, 4, 4, 5, 6, 1, 3, 4, 5, 6, 8, 10, 9, 3, 10, 5, 9, 10, 9, 10, 6, 3, 4, 5, 6, 9, 10, 5, 10, 5, 3, 5, 5, 8, 3, 6, 1, 2, 3, 4, 5, 6, 7, 8, 9, 10, 4, 1, 3, 4, 5, 6, 7, 10, 1, 2, 4, 5, 6, 7, 10, 6, 2, 3, 4, 5, 6, 7, 10, 3, 7, 8, 1, 6, 8, 3, 4, 3, 4, 5, 6, 7, 8, 10, 4, 5, 2, 5, 10, 4, 3, 4, 5, 10, 10, 6, 6, 4, 7, 5, 8, 5, 9, 1, 2, 3, 4, 5, 6, 7, 8, 9, 10, 1, 2, 1, 2, 3, 4, 5, 6, 7, 10, 4, 6, 8, 4, 6, 8, 3, 4, 6, 7, 8, 5, 1, 3, 4, 5, 6, 7, 9, 5, 3, 5, 6, 8, 1, 2, 4, 5, 6, 10, 1, 1, 2, 3, 4, 5, 6, 7, 8, 9, 10, 1, 2, 3, 4, 5, 7, 8, 9, 10, 2, 3, 4, 5, 6, 9, 10, 2, 3, 4, 5, 6, 10, 1, 4, 5, 6, 8, 10, 7, 3, 8, 5, 6, 9, 10, 4, 5, 7, 5, 5, 6, 7, 9, 10, 4, 5, 7, 10, 1, 2, 3, 4, 5, 6, 7, 9, 10, 1, 4, 5, 5, 6, 9, 10, 1, 3, 4, 5, 6, 10, 6, 5, 3, 3, 6, 7, 5, 9, 3, 1, 2, 3, 4, 5, 6, 7, 10, 1, 2, 3, 4, 5, 6, 10, 3, 3, 7, 1, 2, 3, 4, 5, 7, 8, 9, 10, 2, 3, 4, 5, 6, 7, 8, 10, 3, 6, 7, 6, 4, 5, 7, 9, 3, 7, 3, 9, 1, 3, 4, 10, 3, 10, 6, 7, 2, 5, 1, 1, 2, 3, 4, 5, 6, 7, 8, 10, 1, 2, 3, 4, 5, 6, 8, 10, 1, 2, 3, 4, 6, 10, 10, 1, 2, 3, 4, 5, 6, 8, 10, 2, 6, 1, 1, 2, 4, 7, 5, 10, 2, 3, 9, 9, 6, 9, 1, 5, 6, 10, 1, 4, 5, 6, 7, 10, 1, 2, 3, 4, 5, 6, 7, 8, 10, 1, 2, 3, 4, 5, 6, 7, 8, 10, 1, 2, 3, 4, 5, 6, 7, 8, 9, 10, 1, 2, 3, 4, 5, 6, 8, 10, 7, 6, 3, 6, 3, 1, 3, 4, 6, 1, 2, 4, 5, 6, 10, 10, 4, 6, 10, 6, 4, 7, 9, 10, 7, 9, 1, 2, 3, 4, 5, 6, 7, 8, 10, 1, 1, 2, 4, 5, 6, 7, 9, 10, 4, 8, 1, 3, 4, 5, 6, 7, 9, 10, 3, 10, 3, 8, 2, 5, 4, 9, 10, 1, 2, 3, 4, 5, 6, 7, 8, 10, 4, 6, 7, 8, 4, 9, 1, 2, 3, 4, 5, 6, 7, 10, 4, 5, 3, 4, 8, 4, 5, 2, 3, 5, 1, 8, 1, 2, 5, 6, 10], \"Freq\": [0.24954973831370938, 0.17468481681959658, 0.02495497383137094, 0.1996397906509675, 0.34936963363919316, 0.2456617808452901, 0.2456617808452901, 0.4913235616905802, 0.025481077851996464, 0.025481077851996464, 0.05096215570399293, 0.025481077851996464, 0.8153944912638869, 0.05096215570399293, 0.8992326289941955, 0.6207234885361163, 0.07759043606701453, 0.3103617442680581, 0.8966678758357177, 0.32390403099686427, 0.16195201549843213, 0.4858560464952964, 0.12939944166462986, 0.7763966499877791, 0.4075020265401618, 0.27166801769344123, 0.27166801769344123, 0.2532925612421532, 0.14473860642408753, 0.14473860642408753, 0.036184651606021884, 0.21710790963613133, 0.18092325803010942, 0.050825010115550746, 0.011728848488204017, 0.0860115555801628, 0.4496058587144873, 0.05864424244102009, 0.23457696976408035, 0.023457696976408034, 0.08210193941742812, 0.06821113859093227, 0.12884326178287206, 0.33347667755566884, 0.08336916938891721, 0.09094818478790968, 0.07579015398992474, 0.11368523098488711, 0.11368523098488711, 0.03539523420824566, 0.1345018899913335, 0.14158093683298265, 0.2831618736659653, 0.10618570262473698, 0.04247428104989479, 0.056632374733193054, 0.021237140524947396, 0.03539523420824566, 0.1345018899913335, 0.004078867097636903, 0.004078867097636903, 0.04894640517164284, 0.293678431029857, 0.2855206968345832, 0.07341960775746426, 0.11420827873383328, 0.008157734195273806, 0.16723355100311302, 0.02550012925414725, 0.00850004308471575, 0.07650038776244175, 0.35700180955806154, 0.14450073244016776, 0.22950116328732525, 0.02550012925414725, 0.1190006031860205, 0.5991107425554477, 0.38125229071710304, 0.19926405614905826, 0.7572034133664214, 0.46234744790751614, 0.18493897916300645, 0.09246948958150322, 0.18493897916300645, 0.06792137565039902, 0.02716855026015961, 0.3396068782519951, 0.06792137565039902, 0.06792137565039902, 0.4075282539023941, 0.8076980999782507, 0.7599599647126051, 0.276892072018913, 0.553784144037826, 0.2109113578300194, 0.09039058192715117, 0.5724736855386241, 0.06026038795143412, 0.06026038795143412, 0.45435335883896927, 0.8572556289136085, 0.8942662102799822, 0.08942662102799823, 0.9404921810240452, 0.18900378445782062, 0.7560151378312825, 0.7698004354466166, 0.19245010886165415, 0.8662573294261258, 0.7535446913588355, 0.015291037587783888, 0.010194025058522592, 0.3873729522238585, 0.17329842599488407, 0.1223283007022711, 0.06116415035113555, 0.020388050117045184, 0.21407452622897444, 0.03477407233413395, 0.014903173857485979, 0.05464497081078192, 0.43219204186709337, 0.10432221700240185, 0.1291608400982118, 0.08445131852575388, 0.014903173857485979, 0.1341285647173738, 0.2374535093660459, 0.7123605280981377, 0.07915116978868196, 0.008102919282539561, 0.008102919282539561, 0.05266897533650714, 0.44971202018094564, 0.202572982063489, 0.06887481390158627, 0.02430875784761868, 0.016205838565079123, 0.166109845292061, 0.22732701580948353, 0.09742586391835008, 0.03247528797278336, 0.6170304714828838, 0.05849965087602212, 0.26324842894209954, 0.02924982543801106, 0.05849965087602212, 0.08774947631403318, 0.2339986035040885, 0.26324842894209954, 0.030162309275056597, 0.060324618550113195, 0.45243463912584897, 0.1809738556503396, 0.12064923710022639, 0.015081154637528299, 0.060324618550113195, 0.0754057731876415, 0.019213804713518544, 0.03202300785586424, 0.5507957351208649, 0.23697025813339537, 0.08966442199641987, 0.006404601571172848, 0.05764141414055563, 0.6751877264005635, 0.2250625754668545, 0.7682827572910434, 0.0061643654848490695, 0.025890335036366095, 0.9468465384728171, 0.011095857872728326, 0.008630111678788698, 0.048929898372801706, 0.9405413798327439, 0.005436655374755745, 0.00362443691650383, 0.07928075929356423, 0.9205377051308291, 0.004362011121421269, 0.013086033364263805, 0.03489608897137015, 0.9465564133484153, 0.8259389263372969, 0.4062701056194003, 0.4062701056194003, 0.4543545736887375, 0.02303597987337992, 0.034553969810069876, 0.18428783898703935, 0.35705768803738874, 0.16125185911365944, 0.04607195974675984, 0.20732381886041926, 0.032056460074909844, 0.9296373421723856, 0.8035268879113922, 0.08035268879113922, 0.08035268879113922, 0.9037383758405128, 0.7837145083300396, 0.8877660788542713, 0.08203476123469318, 0.16406952246938636, 0.13672460205782197, 0.27344920411564394, 0.027344920411564395, 0.13672460205782197, 0.16406952246938636, 0.4543545736887375, 0.029277981574305566, 0.05855596314861113, 0.14638990787152784, 0.7612275209319448, 0.861077622361147, 0.1353182865223604, 0.8119097191341623, 0.25658082784621644, 0.6157939868309195, 0.10263233113848659, 0.012734209328508174, 0.01910131399276226, 0.01910131399276226, 0.48389995448331063, 0.17191182593486035, 0.09550656996381131, 0.10187367462806539, 0.09550656996381131, 0.7682827572910434, 0.9258340572844019, 0.019961804163422255, 0.02495225520427782, 0.1347421781031002, 0.354322023900745, 0.1097899228988224, 0.1097899228988224, 0.09980902081711128, 0.009980902081711127, 0.1397326291439558, 0.8135589069279682, 0.06057786092114116, 0.3331782350662764, 0.06057786092114116, 0.3786116307571323, 0.15144465230285292, 0.7775100112434514, 0.9037383748051905, 0.8631956981203197, 0.9877004814147962, 0.8798019426164745, 0.9240873055126024, 0.4543545736887375, 0.1429190330093127, 0.07145951650465635, 0.11909919417442724, 0.6431356485419071, 0.8254944279294264, 0.11169117224833004, 0.03723039074944335, 0.11169117224833004, 0.744607814988867, 0.14404640562560683, 0.09603093708373789, 0.24007734270934472, 0.024007734270934472, 0.5041624196896239, 0.7535446913588355, 0.9239200735741364, 0.039383830625769944, 0.07876766125153989, 0.3544544756319295, 0.5119897981350093, 0.15739519437816074, 0.01124251388415434, 0.07869759718908037, 0.2248502776830868, 0.19112273603062377, 0.08994011107323471, 0.01124251388415434, 0.01124251388415434, 0.0562125694207717, 0.17988022214646943, 0.7775100112434514, 0.22948952305287978, 0.6884685691586393, 0.8661933683938334, 0.5875983813391101, 0.05875983813391101, 0.23503935253564404, 0.11751967626782202, 0.8135588513944417, 0.2166985345107591, 0.10834926725537955, 0.4333970690215182, 0.2166985345107591, 0.11926502043421855, 0.8348551430395298, 0.7535446913588354, 0.009830209749415158, 0.2785226095667628, 0.3375038680632537, 0.14417640965808898, 0.019660419498830316, 0.2097111413208567, 0.942699659219532, 0.012829591722888254, 0.03421224459436868, 0.5773316275299715, 0.09408367263451387, 0.1967204064176199, 0.0855306114859217, 0.16986898936845232, 0.04246724734211308, 0.7219432048159223, 0.8574435985005949, 0.8254944279294264, 0.10343471093086776, 0.03447823697695592, 0.3160505056220959, 0.17239118488477959, 0.17239118488477959, 0.0976883381013751, 0.01723911848847796, 0.08044921961289714, 0.008388770580801164, 0.07549893522721048, 0.025166311742403493, 0.2600518880048361, 0.1426090998736198, 0.18455295277762562, 0.03355508232320466, 0.10066524696961397, 0.008388770580801164, 0.15099787045442095, 0.8255048992982571, 0.03792562518302254, 0.033711666829353365, 0.004213958353669171, 0.46774937725727794, 0.15170250073209016, 0.1432745840247518, 0.008427916707338341, 0.025283750122015024, 0.1306327089637443, 0.13242667727797167, 0.023369413637289116, 0.015579609091526078, 0.3193819863762846, 0.405069836379678, 0.054528631820341275, 0.054528631820341275, 0.17672607152565936, 0.17672607152565936, 0.6479955955940844, 0.005882495368874218, 0.04117746758211953, 0.42353966655894376, 0.06470744905761641, 0.11176741200861015, 0.023529981475496873, 0.32353724528808203, 0.8662573294261258, 0.0768950162077641, 0.0768950162077641, 0.768950162077641, 0.2048279421808914, 0.4411678754665353, 0.06302398220950504, 0.29936391549514896, 0.8325016866414017, 0.48628429477746576, 0.32418952985164384, 0.05862363439210465, 0.03256868577339147, 0.48853028660087205, 0.05862363439210465, 0.26706322334181004, 0.05210989723742635, 0.045596160082748055, 0.8798016367940111, 0.7535446913588355, 0.8798019426164745, 0.18577300991369994, 0.012384867327579995, 0.012384867327579995, 0.3220065505170799, 0.24769734655159992, 0.07430920396547998, 0.04953946931031998, 0.012384867327579995, 0.06192433663789998, 0.05251187902247995, 0.01050237580449599, 0.05776306692472795, 0.44635097169107957, 0.24680583140565576, 0.04200950321798396, 0.14178207336069587, 0.022715396368502967, 0.03407309455275445, 0.06246734001338315, 0.17036547276377223, 0.22147511459290392, 0.17036547276377223, 0.18172317094802373, 0.03407309455275445, 0.10221928365826334, 0.8254944279294264, 0.4543545736887375, 0.0754789357795304, 0.2415325944944973, 0.0754789357795304, 0.16605365871496688, 0.045287361467718244, 0.03019157431181216, 0.03019157431181216, 0.34720310458583986, 0.6189927733332822, 0.056272070303025654, 0.16881621090907697, 0.11254414060605131, 0.010946306236208691, 0.08757044988966953, 0.5418421586923302, 0.158721440425026, 0.09851675612587822, 0.010946306236208691, 0.0054731531181043454, 0.08757044988966953, 0.08019644362915362, 0.48690697917700415, 0.11456634804164804, 0.20049110907288406, 0.10883803063956564, 0.0033815668149516803, 0.0338156681495168, 0.5748663585417857, 0.1724599075625357, 0.1555520734877773, 0.06086820266913025, 0.0035814471506341408, 0.08237328446458524, 0.6088460156078039, 0.06088460156078039, 0.2184682761886826, 0.021488682903804845, 0.9571568398407441, 0.14692536704872983, 0.808089518768014, 0.05397989207647511, 0.242909514344138, 0.05397989207647511, 0.05397989207647511, 0.5937788128412262, 0.037883664011853946, 0.037883664011853946, 0.8713242722726406, 0.8572539393874934, 0.8725342421483707, 0.12034955064115457, 0.05470083359992436, 0.05470083359992436, 0.016088480470565988, 0.33785808988188576, 0.1641025007997731, 0.02895926484701878, 0.02574156875290558, 0.03861235312935837, 0.276721864093735, 0.9571567959289841, 0.098707348708306, 0.444183069187377, 0.098707348708306, 0.148061023062459, 0.027418707974529444, 0.18096347263189433, 0.45453601765587276, 0.15151200588529093, 0.15151200588529093, 0.7535446913588355, 0.9049297120071117, 0.8648026616906883, 0.12921114340687423, 0.7752668604412454, 0.2970549991928449, 0.2376439993542759, 0.2376439993542759, 0.17823299951570692, 0.07525364274863408, 0.03762682137431704, 0.09406705343579261, 0.31982798168169485, 0.19754081221516448, 0.12228716946653038, 0.02822011603073778, 0.12228716946653038, 0.015925398890103595, 0.015925398890103595, 0.03981349722525899, 0.24684368279660576, 0.16721668834608777, 0.03185079778020719, 0.22295558446145036, 0.023888098335155396, 0.015925398890103595, 0.22295558446145036, 0.1641228351740351, 0.7385527582831578, 0.8560599312274655, 0.10700749140343319, 0.9037383752839908, 0.768282665890456, 0.8571940250779015, 0.9258340572844019, 0.7493588785469604, 0.14987177570939209, 0.04995725856979736, 0.5336328746040969, 0.18471907197834123, 0.2770786079675118, 0.9406528145876901, 0.6854057341740252, 0.20562172025220754, 0.06854057341740251, 0.3530841047381063, 0.40352469112926437, 0.17654205236905315, 0.050440586391158046, 0.12246591585565557, 0.7347954951339334, 0.19600467332104565, 0.6860163566236598, 0.2719028416822185, 0.06797571042055463, 0.16993927605138656, 0.2379149864719412, 0.2039271312616639, 0.7837146448631062, 0.879971399271303, 0.5239382092382944, 0.05821535658203271, 0.05821535658203271, 0.23286142632813084, 0.05821535658203271, 0.10339262172390278, 0.06892841448260185, 0.06892841448260185, 0.6892841448260185, 0.03699267884407285, 0.026423342031480605, 0.4122041356910975, 0.19553273103295649, 0.05813135246925733, 0.06341602087555345, 0.026423342031480605, 0.17967872581406813, 0.09092251980331777, 0.21821404752796264, 0.09092251980331777, 0.4364280950559253, 0.163660535645972, 0.9416378368348672, 0.006652644891834624, 0.5122536566712661, 0.11974760805302323, 0.1729687671877002, 0.013305289783669247, 0.1729687671877002, 0.04079634190221219, 0.4623585415584048, 0.35356829648583893, 0.10879024507256582, 0.027197561268141456, 0.009162140988345488, 0.06871605741259115, 0.11452676235431859, 0.13285104433100958, 0.2702831591561919, 0.07787819840093664, 0.041229634447554696, 0.02290535247086372, 0.009162140988345488, 0.2519588771795009, 0.9240869714877404, 0.054854231811653546, 0.12799320756052493, 0.09142371968608924, 0.16456269543496063, 0.40226436661879267, 0.09142371968608924, 0.036569487874435695, 0.7682827572910434, 0.023700203927212636, 0.03160027190295018, 0.01580013595147509, 0.3555030589081895, 0.1896016314177011, 0.12640108761180072, 0.0711006117816379, 0.023700203927212636, 0.1580013595147509, 0.8877660724559321, 0.037640496916579086, 0.11292149074973727, 0.24089918026610616, 0.09033719259978981, 0.2183148821161587, 0.052696695683210726, 0.24089918026610616, 0.10259803224505455, 0.2564950806126364, 0.051299016122527276, 0.2564950806126364, 0.30779409673516367, 0.6878002001437317, 0.15872312311009193, 0.10581541540672795, 0.052907707703363976, 0.7601364014994209, 0.19427344120699128, 0.0176612219279083, 0.0883061096395415, 0.24725710699071618, 0.1412897754232664, 0.12362855349535809, 0.0176612219279083, 0.12362855349535809, 0.0353224438558166, 0.2846330414661848, 0.5692660829323696, 0.27688488853152643, 0.5537697770630529, 0.8076981245298627, 0.9258340572844019, 0.7682827572910434, 0.033833233301482066, 0.019333276172275465, 0.0579998285168264, 0.25133259023958104, 0.20783271885196125, 0.217499356938099, 0.07733310468910186, 0.0144999571292066, 0.12083297607672165, 0.05697979939392809, 0.02191530745920311, 0.07451204536129058, 0.4339230876922216, 0.17093939818178427, 0.07451204536129058, 0.008766122983681244, 0.026298368951043732, 0.13149184475521866, 0.027752534268711996, 0.027752534268711996, 0.8048234937926478, 0.11101013707484798, 0.032900537023212745, 0.1645026851160637, 0.21933691348808496, 0.12063530241844672, 0.24127060483689344, 0.21933691348808496, 0.12367813907568298, 0.1700574412290641, 0.1082183716912226, 0.12367813907568298, 0.44833325414935077, 0.9037383757237859, 0.8254944279294264, 0.04708546767604005, 0.020179486146874308, 0.11435042149895441, 0.2825128060562403, 0.1479828984104116, 0.2085213568510345, 0.04708546767604005, 0.026905981529165745, 0.10762392611666298, 0.9159575010353149, 0.45435335883896927, 0.22902957098136809, 0.22902957098136809, 0.45805914196273617, 0.050308785329479196, 0.0055898650366088, 0.5813459638073152, 0.2571337916840048, 0.09502770562234959, 0.0167695951098264, 0.9344597636747236, 0.7775100112434514, 0.014584267921763079, 0.007292133960881539, 0.06562920564793386, 0.8313032715404954, 0.051044937726170775, 0.007292133960881539, 0.029168535843526158, 0.8046491531676537, 0.08940546146307263, 0.07160656171555159, 0.859278740586619, 0.9571567601620947, 0.2440882287619341, 0.040681371460322344, 0.6509019433651575, 0.7682827276178429, 0.1334983648956701, 0.8009901893740207, 0.06674918244783505, 0.8992346098152328, 0.7837151082317937, 0.5482350483214589, 0.3654900322143059, 0.04623464655866846, 0.14640971410245013, 0.12329239082311591, 0.05394042098511321, 0.18493858623467385, 0.23117323279334231, 0.030823097705778978, 0.015411548852889489, 0.1772328118082291, 0.960647666663033, 0.06633935907909078, 0.1525805258819088, 0.1525805258819088, 0.03980361544745447, 0.19901807723727236, 0.18575020542145418, 0.013267871815818157, 0.18575020542145418, 0.9097398038549752, 0.9240887387692325, 0.4625714799567357, 0.4625714799567357, 0.9037384184077664, 0.977388618194911, 0.7682827572910434, 0.120492576509048, 0.120492576509048, 0.2754116034492526, 0.29262482866483086, 0.051639675646734856, 0.03442645043115657, 0.017213225215578287, 0.08606612607789144, 0.08615690875928443, 0.05169414525557066, 0.3963217802927084, 0.13210726009756946, 0.08615690875928443, 0.03446276350371377, 0.21252037493956827, 0.8255043306752328, 0.8992307805804461, 0.8974481798189713, 0.06410344141564081, 0.028557883280469626, 0.028557883280469626, 0.07139470820117406, 0.31413671608516586, 0.07139470820117406, 0.08567364984140888, 0.07139470820117406, 0.1213710039419959, 0.20704465378340478, 0.034725669716968846, 0.04630089295595847, 0.057876116194948084, 0.08102656267292731, 0.13890267886787538, 0.5208850457545328, 0.011575223238989617, 0.023150446477979234, 0.057876116194948084, 0.015731273311787707, 0.06292509324715083, 0.07865636655893853, 0.09438763987072624, 0.7551011189658099, 0.029059223764219606, 0.023247379011375687, 0.4010172879462306, 0.1336724293154102, 0.2382856348666008, 0.04068291326990745, 0.011623689505687844, 0.12204873980972235, 0.7775100112434514, 0.03556267884581479, 0.14225071538325915, 0.07112535769162957, 0.5690028615330366, 0.10668803653744437, 0.1279541530665541, 0.038386245919966235, 0.07677249183993247, 0.2559083061331082, 0.33268079797304073, 0.012795415306655412, 0.012795415306655412, 0.1023633224532433, 0.038386245919966235, 0.056400945877457316, 0.03133385882080962, 0.12533543528323848, 0.3509392187930677, 0.2068034682173435, 0.09400157646242886, 0.012533543528323848, 0.05013417411329539, 0.08146803293410501, 0.4543545736887375, 0.7535446913588355, 0.0894711462658639, 0.04473557313293195, 0.04473557313293195, 0.13420671939879586, 0.6710335969939794, 0.08925009990835546, 0.8032508991751991, 0.10713837751208334, 0.4821226988043751, 0.21427675502416668, 0.16070756626812502, 0.16383918603819836, 0.7372763371718927, 0.6483671669675378, 0.2161223889891793, 0.9258340572844019, 0.09571855242726354, 0.015953092071210588, 0.2552494731393694, 0.27120256521058, 0.09571855242726354, 0.20739019692573765, 0.031906184142421176, 0.015953092071210588, 0.9417585770340055, 0.6867428975574458, 0.22891429918581524, 0.8445050254530196, 0.07037541878775164, 0.07037541878775164, 0.8135588513944417, 0.027515894999019477, 0.10089161499640475, 0.3210187749885606, 0.04585982499836579, 0.3393627049879069, 0.00917196499967316, 0.14675143999477056, 0.059525305445792695, 0.32738917995185984, 0.14881326361448174, 0.08928795816868905, 0.20833856906027445, 0.029762652722896348, 0.029762652722896348, 0.08928795816868905, 0.8649209943155264, 0.3485355722676108, 0.16401673989064036, 0.08200836994532018, 0.3485355722676108, 0.04100418497266009, 0.8135588492051415, 0.27689091572225155, 0.5537818314445031, 0.5708145288504177, 0.1902715096168059, 0.037980665769292626, 0.037980665769292626, 0.08070891475974683, 0.38930182413524944, 0.17091299596181683, 0.12343716375020104, 0.05697099865393894, 0.02373791610580789, 0.07596133153858525, 0.0300602757346901, 0.601205514693802, 0.0601205514693802, 0.0300602757346901, 0.1503013786734505, 0.0901808272040703, 0.03870143418022872, 0.3918520210748158, 0.16448109526597207, 0.13545501963080053, 0.07740286836045744, 0.01935071709011436, 0.00483767927252859, 0.16448109526597207, 0.8798022783701966, 0.9417586112247848, 0.571598757725584, 0.7682827572910434, 0.7682827572910434, 0.7302874280536243, 0.12171457134227072, 0.8798130505106093, 0.1071836858323026, 0.1071836858323026, 0.714557905548684, 0.0357278952774342, 0.019019630620624894, 0.057058891861874676, 0.17117667558562402, 0.2282355674474987, 0.057058891861874676, 0.13313741434437426, 0.057058891861874676, 0.2852944593093734, 0.07730089605727682, 0.019325224014319204, 0.028987836021478808, 0.26089052419330927, 0.14493918010739404, 0.03865044802863841, 0.019325224014319204, 0.14493918010739404, 0.019325224014319204, 0.25122791218614965, 0.7034409834970038, 0.16233253465315473, 0.05411084488438491, 0.05411084488438491, 0.7682726196926869, 0.04402918005829931, 0.08805836011659862, 0.08805836011659862, 0.18712401524777206, 0.1981313102623469, 0.18712401524777206, 0.011007295014574828, 0.011007295014574828, 0.18712401524777206, 0.7682809162760186, 0.8680154263915785, 0.0708693468852772, 0.1417386937705544, 0.1063040203279158, 0.0354346734426386, 0.2834773875411088, 0.24804271409847023, 0.0354346734426386, 0.1063040203279158, 0.9344599020430688, 0.05730690225774158, 0.17192070677322474, 0.14326725564435394, 0.07163362782217697, 0.3008612368531433, 0.042980176693306185, 0.21490088346653094, 0.06296636269725207, 0.01574159067431302, 0.22038226944038222, 0.15741590674313016, 0.12593272539450415, 0.01574159067431302, 0.11019113472019111, 0.0944495440458781, 0.06296636269725207, 0.11019113472019111, 0.05316568485288212, 0.15949705455864635, 0.7443195879403496, 0.7837148783357465, 0.05477602124225377, 0.8079463133232431, 0.04108201593169033, 0.027388010621126883, 0.06847002655281721, 0.9528988408518576, 0.07371938166483075, 0.1474387633296615, 0.7371938166483074, 0.8254944279294264, 0.7837145116734029, 0.4543545736887375, 0.8798130484603504, 0.07175867334493015, 0.13554416076264583, 0.42257885414236646, 0.15946371854428923, 0.007973185927214462, 0.05581230149050123, 0.1435173466898603, 0.014559478461740785, 0.1019163492321855, 0.3348680046200381, 0.05823791384696314, 0.07279739230870393, 0.05823791384696314, 0.3639869615435196, 0.857254080675844, 0.8844401675386163, 0.06803385904143203, 0.7775100112434514, 0.27790239961888813, 0.5558047992377763, 0.13895119980944406, 0.8662573294261258, 0.8076981375962129, 0.03956728960292186, 0.09891822400730464, 0.13848551361022648, 0.04945911200365232, 0.04945911200365232, 0.5638338768416364, 0.029675467202191393, 0.029675467202191393, 0.12347987731750973, 0.32927967284669263, 0.5350794683758755, 0.9975648877821719, 0.9875411033112904, 0.07859667867816574, 0.07859667867816574, 0.7859667867816574, 0.11139928943436751, 0.03038162439119114, 0.010127208130397048, 0.3848339089550878, 0.24305299512952913, 0.11139928943436751, 0.10127208130397047, 0.7535446913588355, 0.023421810436100813, 0.11710905218050406, 0.25763991479710896, 0.07026543130830244, 0.046843620872201626, 0.4918580191581171, 0.8992323187299184, 0.6962003815731679, 0.6575469169321689, 0.16438672923304223, 0.7730398899351667, 0.34301016884573776, 0.588017432306979, 0.049001452692248246, 0.01918376186059528, 0.44122652279369146, 0.24459296372258982, 0.18224573767565516, 0.00959188093029764, 0.10551069023327404, 0.036215460022780394, 0.036215460022780394, 0.07243092004556079, 0.10864638006834118, 0.07243092004556079, 0.21729276013668236, 0.14486184009112157, 0.2535082201594627, 0.0030924680328703862, 0.992682238551394, 0.9159558827437108, 0.517165728113563, 0.36940409150968784, 0.07388081830193757, 0.041192084424797125, 0.12357625327439137, 0.6178812663719568, 0.20596042212398563, 0.00695425608058097, 0.03477128040290484, 0.0452026645237763, 0.26773885910236733, 0.1356079935713289, 0.09735958512813357, 0.08692820100726212, 0.05215692060435727, 0.01738564020145242, 0.26078460302178635, 0.8803436039704567, 0.08579855459704797, 0.9008848232690037, 0.3668550804372314, 0.5502826206558471, 0.8135597393147737, 0.22761711466251813, 0.6373279210550508, 0.09104684586500725, 0.17256467795123262, 0.11504311863415509, 0.2588470169268489, 0.08628233897561631, 0.057521559317077545, 0.08628233897561631, 0.20132545760977139, 0.03252978963035737, 0.03252978963035737, 0.04066223703794671, 0.23584097482009092, 0.19517873778214423, 0.26023831704285894, 0.04879468444553606, 0.008132447407589342, 0.1545165007441975, 0.8325016333368702, 0.6867426937830701, 0.22891423126102334, 0.9357110132556911, 0.4543545736887375, 0.04726351334246296, 0.035447635006847215, 0.05317145251027083, 0.40173986341093515, 0.15360641836300462, 0.06498733084588657, 0.02953969583903935, 0.05317145251027083, 0.17133023586642823, 0.009624027232686452, 0.009624027232686452, 0.2790967897479071, 0.12511235402492388, 0.12511235402492388, 0.36571303484208517, 0.06736819062880516, 0.009624027232686452, 0.061298981249050935, 0.061298981249050935, 0.1838969437471528, 0.6129898124905093, 0.061298981249050935, 0.048897719239157186, 0.13039391797108582, 0.5541741513771148, 0.06519695898554291, 0.06519695898554291, 0.016299239746385728, 0.13039391797108582, 0.8034884881643068, 0.08034884881643067, 0.08034884881643067, 0.8937030505688159, 0.005755665116065488, 0.02877832558032744, 0.9626349906619529, 0.001438916279016372, 0.28279663115960435, 0.5655932623192087, 0.7837145156667936, 0.6856472448282883, 0.2609889301994409, 0.6959704805318424, 0.7837146667929445, 0.13393902630653465, 0.13393902630653465, 0.07653658646087694, 0.09567073307609618, 0.5548902518413579, 0.8798016035222299, 0.1263070138379758, 0.18946052075696368, 0.6946885761088669, 0.04675603123374166, 0.9351206246748333, 0.8798021167400384, 0.5420763125185124, 0.42161490973662075, 0.005814442767132635, 0.029072213835663174, 0.41863987923354967, 0.2325777106853054, 0.22676326791817275, 0.03488665660279581, 0.05232998490419371, 0.05108352456343361, 0.20433409825373444, 0.35758467194403526, 0.30650114738060164, 0.05108352456343361, 0.4543545736887375, 0.686742900465894, 0.228914300155298, 0.09886289202795899, 0.6920402441957129, 0.09886289202795899, 0.7601364014726267, 0.8680144608495733, 0.5519275579945042, 0.44154204639560335, 0.8662573294261258, 0.7682801506718446, 0.03996649235077207, 0.10277098033055676, 0.07993298470154414, 0.2797654464554045, 0.0856424836087973, 0.06280448797978469, 0.017128496721759458, 0.14273747268132883, 0.028547494536265764, 0.15986596940308828, 0.8255049218575233, 0.777510004455547, 0.1250877670041507, 0.1250877670041507, 0.6254388350207535, 0.017985279478559078, 0.026977919217838618, 0.5575436638353315, 0.1348895960891931, 0.0449631986963977, 0.11690431661063401, 0.0899263973927954, 0.23113577224843992, 0.11556788612421996, 0.17335182918632994, 0.05778394306210998, 0.23113577224843992, 0.23113577224843992, 0.915957501035315, 0.9865441467162019, 0.7535446913588356, 0.048483635462966634, 0.01020708115009824, 0.012758851437622799, 0.5129058277924365, 0.2347628664522595, 0.10972612236355607, 0.02041416230019648, 0.022965932587721036, 0.028069473162770156, 0.5064681127245481, 0.20919335090796548, 0.04404070545430853, 0.09909158727219418, 0.12111193999934844, 0.022020352727154264, 0.09727056667803287, 0.048635283339016434, 0.09727056667803287, 0.5836234000681972, 0.1459058500170493, 0.9258340572844019, 0.12428373395962053, 0.04142791131987351, 0.26928142357917784, 0.4142791131987351, 0.020713955659936754, 0.020713955659936754, 0.10356977829968378, 0.09133462537823951, 0.7306770030259161, 0.09133462537823951, 0.899232982995798, 0.9159575835772236, 0.01824788840656991, 0.012165258937713273, 0.17639625459684247, 0.12773521884598937, 0.17639625459684247, 0.13990047778370265, 0.05474366521970973, 0.012165258937713273, 0.28588358503626193, 0.9612049013289253, 0.8825306547806863, 0.8825306547806863, 0.044180040750541, 0.24299022412797552, 0.01104501018763525, 0.09940509168871726, 0.088360081501082, 0.088360081501082, 0.01104501018763525, 0.01104501018763525, 0.03313503056290575, 0.36448533619196327, 0.1138033235461835, 0.7966232648232845, 0.08123927847413999, 0.09929245146839331, 0.3881432193764466, 0.07221269197701331, 0.036106345988506656, 0.018053172994253328, 0.3069039409023066, 0.13959539823710906, 0.11632949853092421, 0.11632949853092421, 0.6281792920669907, 0.9473744134467832, 0.8799713424369066, 0.04084083050022008, 0.017503213071522892, 0.07584725664326587, 0.2975546222158892, 0.14586010892935744, 0.14002570457218314, 0.035006426143045784, 0.2450449830013205, 0.11309255640577899, 0.18094809024924638, 0.045237022562311595, 0.022618511281155797, 0.022618511281155797, 0.09047404512462319, 0.5202257594665833, 0.7535446913588355, 0.045245796053611495, 0.045245796053611495, 0.22622898026805746, 0.06786869408041724, 0.5203266546165322, 0.045245796053611495, 0.045245796053611495, 0.4571965930039719, 0.13062759800113485, 0.2612551960022697, 0.16328449750141855, 0.8798019426164745, 0.9058023502270668, 0.40947848121731345, 0.40947848121731345, 0.027916914570384053, 0.05583382914076811, 0.24659941203839247, 0.06513946733089612, 0.19076558289762438, 0.2559050502285205, 0.009305638190128019, 0.1488902110420483, 0.9506711566290275, 0.0785710661387071, 0.032737944224461295, 0.0785710661387071, 0.3404746199343974, 0.1702373099671987, 0.06547588844892259, 0.05892829960403033, 0.12440418805295292, 0.006547588844892259, 0.05238071075913807, 0.02363348252036973, 0.16543437764258812, 0.21664025643672255, 0.09847284383487388, 0.2560293939706721, 0.06302262005431929, 0.17331220514937803, 0.023478750670425572, 0.023478750670425572, 0.5556637658667386, 0.1721775049164542, 0.039131251117375955, 0.10174125290517748, 0.07043625201127672, 0.03762313468917099, 0.045147761627005185, 0.07524626937834197, 0.22573880813502592, 0.06772164244050777, 0.12791865794318136, 0.030098507751336788, 0.015049253875668394, 0.36870671995387566, 0.7535446913588355, 0.09797899552407323, 0.16329832587345539, 0.7185126338432036, 0.901285846830733, 0.08213830489323856, 0.7392447440391471, 0.08213830489323856, 0.1438216210626086, 0.7910189158443474, 0.8880953247793042, 0.17225664754913408, 0.018456069380264367, 0.0061520231267547885, 0.3875774569855517, 0.14149653191536013, 0.12919248566185057, 0.018456069380264367, 0.012304046253509577, 0.11688843940834098, 0.10914169373544752, 0.04677501160090608, 0.03118334106727072, 0.24946672853816576, 0.45215844547542544, 0.04677501160090608, 0.03118334106727072, 0.03118334106727072, 0.9159575010353151, 0.9417586095857292, 0.09498280762407402, 0.18996561524814803, 0.28494842287222205, 0.37993123049629607, 0.05172497165282315, 0.020689988661129262, 0.15000241779318715, 0.29483233842109197, 0.2068998866112926, 0.14482992062790484, 0.010344994330564631, 0.0051724971652823155, 0.11379493763621093, 0.4543545736887375, 0.7837144721293581, 0.7682827572910434, 0.9258340572844019, 0.5581484380210544, 0.2790742190105272, 0.04934154500080792, 0.037006158750605936, 0.09868309000161583, 0.17269540750282772, 0.0616769312510099, 0.20970156625343364, 0.23437233875383762, 0.16036002125262572, 0.9426987378805051, 0.11406345884449141, 0.1710951882667371, 0.11406345884449141, 0.2851586471112285, 0.2851586471112285, 0.028583007162182653, 0.028583007162182653, 0.08574902148654796, 0.3620514240543136, 0.01905533810812177, 0.28583007162182655, 0.09527669054060885, 0.01905533810812177, 0.0666936833784262, 0.31433991788443943, 0.31433991788443943, 0.4543545736887375, 0.7837148005350342, 0.9357110132556912, 0.1420193492599696, 0.006762826155236648, 0.08791674001807642, 0.24346174158851933, 0.2772758723647026, 0.07439108770760312, 0.1690706538809162, 0.45435016835252934, 0.036498682071854555, 0.10949604621556366, 0.036498682071854555, 0.5839789131496729, 0.21899209243112733, 0.2293714981623535, 0.6881144944870605, 0.8135588513944417, 0.6492962422157369, 0.16232406055393422, 0.01798391439126891, 0.01798391439126891, 0.01798391439126891, 0.26975871586903366, 0.43161394539045383, 0.01798391439126891, 0.10790348634761346, 0.10790348634761346, 0.05122098852640885, 0.1024419770528177, 0.8195358164225416, 0.11154876772423752, 0.14873169029898337, 0.14873169029898337, 0.03718292257474584, 0.5577438386211876, 0.8325016333338611, 0.10098126541011367, 0.0605887592460682, 0.20196253082022733, 0.605887592460682, 0.1560355145927982, 0.46810654377839467, 0.3120710291855964, 0.7682827572910434, 0.9201710830876925, 0.9037383758149364, 0.9613291769216242, 0.8451059657708436, 0.06036471184077455, 0.06036471184077455, 0.06104692489134306, 0.12209384978268611, 0.06104692489134306, 0.06104692489134306, 0.12209384978268611, 0.39680501179372984, 0.15261731222835764, 0.7010786545670792, 0.8798019426164745, 0.8255055549620698, 0.2401056087820922, 0.2401056087820922, 0.2401056087820922, 0.31367982503895814, 0.31367982503895814, 0.924087222903981, 0.019594909003615938, 0.5388599975994383, 0.1910503627852554, 0.14696181752711954, 0.009797454501807969, 0.0930758177671757, 0.0599545181031867, 0.8993177715478005, 0.7837146521192864, 0.23317995839878233, 0.699539875196347, 0.7837145083300396, 0.9164010208620419, 0.10787046082947632, 0.8629636866358106, 0.052583830568728555, 0.019718936463273207, 0.046010851747637485, 0.2563461740225517, 0.07230276703200177, 0.23662723755927847, 0.052583830568728555, 0.06572978821091069, 0.019718936463273207, 0.18404340699054994, 0.9416383205346694, 0.08421769950387308, 0.025265309851161922, 0.48846265712246384, 0.1179047793054223, 0.03368707980154923, 0.050530619702323844, 0.19370070885890806, 0.09187555629524978, 0.206720001664312, 0.2985955579595618, 0.04593777814762489, 0.04593777814762489, 0.2756266688857493, 0.04593777814762489, 0.9571567959289841, 0.7682827572910434, 0.07041409433842818, 0.023471364779476058, 0.07041409433842818, 0.1173568238973803, 0.046942729558952116, 0.6806695786048057, 0.09878929387381492, 0.7903143509905194, 0.09878929387381492, 0.9037383754347695, 0.37500649737734154, 0.37500649737734154, 0.8798019426164745, 0.9258340572844019, 0.0943008167919385, 0.2829024503758155, 0.188601633583877, 0.0943008167919385, 0.04715040839596925, 0.188601633583877, 0.11787602098992313, 0.22937244576525972, 0.6881173372957792, 0.4677982279213209, 0.3118654852808806, 0.1559327426404403, 0.9731106778661488, 0.05858505797179093, 0.05858505797179093, 0.4686804637743274, 0.4100954058025365, 0.8255040734463753, 0.8803435626745659, 0.8992327030033224, 0.9344597636749239, 0.8662581677250688, 0.2766523530797271, 0.5533047061594542, 0.48138678411716795, 0.24069339205858398, 0.09098006953179377, 0.07960756084031954, 0.10235257822326799, 0.3639202781271751, 0.09098006953179377, 0.022745017382948443, 0.06823505214884533, 0.09098006953179377, 0.022745017382948443, 0.0568625434573711, 0.165446817576135, 0.66178727030454, 0.025179029809846983, 0.07553708942954096, 0.08393009936615661, 0.20143223847877587, 0.08393009936615661, 0.1342881589858506, 0.20143223847877587, 0.20143223847877587, 0.12567171729804613, 0.8168661624372998, 0.819847726150699, 0.9258340572844019, 0.8803436039704567, 0.8576319975329334, 0.14603434905605864, 0.2920686981121173, 0.07301717452802932, 0.07301717452802932, 0.3650858726401466, 0.8323938436591901, 0.11965609604519423, 0.023931219209038845, 0.023931219209038845, 0.3828995073446215, 0.33503706892654384, 0.023931219209038845, 0.09572487683615538, 0.7837145487863125, 0.38437886920259445, 0.21964506811576825, 0.054911267028942064, 0.3294676021736524, 0.13944542595001408, 0.027889085190002813, 0.5159480760150521, 0.12550088335501267, 0.09761179816500985, 0.08366725557000844, 0.7535446913588355, 0.06494859864754869, 0.032474299323774346, 0.1234023374303425, 0.1234023374303425, 0.07793831837705842, 0.07793831837705842, 0.12989719729509738, 0.07144345851230356, 0.019484579594264605, 0.28577383404921425, 0.03782049068630076, 0.13237171740205264, 0.28365368014725567, 0.09455122671575189, 0.13237171740205264, 0.07564098137260152, 0.09455122671575189, 0.01891024534315038, 0.11346147205890228, 0.013223590287895956, 0.008815726858597304, 0.2997347131923083, 0.34381334748529485, 0.06171008801018113, 0.02644718057579191, 0.2380246251821272, 0.039257069999254136, 0.09421696799820993, 0.6359645339879171, 0.06281131199880662, 0.06281131199880662, 0.10206838199806076, 0.034435543507542105, 0.49357612360810355, 0.34435543507542105, 0.08034960151759825, 0.022957029005028072, 0.022957029005028072, 0.9012859279114266, 0.7017079652079151, 0.290361916637758, 0.2672775418460548, 0.4009163127690822, 0.2004581563845411, 0.1336387709230274, 0.14788370525265065, 0.7394185262632532, 0.9612048430141917, 0.9182442529873244, 0.026370949898791723, 0.026370949898791723, 0.5537899478746262, 0.10548379959516689, 0.26370949898791723, 0.07123622814749493, 0.035618114073747466, 0.8192166236961916, 0.035618114073747466, 0.031519806163428817, 0.02363985462257161, 0.05515966078600043, 0.44127728628800345, 0.2048787400622873, 0.13395917619457245, 0.04727970924514322, 0.031519806163428817, 0.03939975770428602, 0.5082619551740234, 0.3811964663805175, 0.06353274439675292, 0.10498016017639776, 0.1312252002204972, 0.05249008008819888, 0.7086160811906849, 0.09458084585794503, 0.031526948619315015, 0.34679643481246514, 0.09458084585794503, 0.4256138063607527, 0.015763474309657508, 0.8992331048188053, 0.7837145674887714, 0.8798016367940111, 0.5864022087342986, 0.0837717441048998, 0.2932011043671493, 0.7837143535010037, 0.4543545736887375, 0.8798019426164745, 0.07127837752513382, 0.1568124305552944, 0.07127837752513382, 0.25660215909048173, 0.09978972853518735, 0.014255675505026764, 0.1995794570703747, 0.12830107954524086, 0.07000466890756715, 0.22751517394959325, 0.05250350168067537, 0.3150210100840522, 0.10500700336135074, 0.017501167226891788, 0.1925128394958097, 0.9159575556891322, 0.7511062125316432, 0.20484714887226632, 0.03188162217449281, 0.04782243326173921, 0.09564486652347842, 0.19128973304695684, 0.20723054413420322, 0.09564486652347842, 0.19128973304695684, 0.03188162217449281, 0.11158567761072481, 0.01168330583463294, 0.08762479375974705, 0.3738657867082541, 0.28039934003119055, 0.00584165291731647, 0.040891570421215294, 0.02336661166926588, 0.18109124043681057, 0.0898303493088363, 0.8084731437795266, 0.8135588513944417, 0.9240874632651437, 0.11020104020331249, 0.16530156030496873, 0.6061057211182187, 0.11020104020331249, 0.7826164272316029, 0.15652328544632055, 0.3212113919203304, 0.3212113919203304, 0.14527280775474843, 0.653727634896368, 0.07263640387737422, 0.07263640387737422, 0.1142530073091926, 0.8568975548189446, 0.8069328507660374, 0.08965920564067081, 0.5599789045082065, 0.27998945225410327, 0.7535446913588355, 0.0427657743124187, 0.014255258104139567, 0.09978680672897697, 0.3848919688117683, 0.1615595918469151, 0.038014021611038847, 0.05226927971517841, 0.047517527013798556, 0.1615595918469151, 0.04708635582752743, 0.04708635582752743, 0.04708635582752743, 0.39552538895123046, 0.19776269447561523, 0.04708635582752743, 0.11300725398606584, 0.10358998282056035, 0.24213094093225598, 0.02201190372111418, 0.11005951860557091, 0.17609522976891345, 0.3742023632589411, 0.08804761488445673, 0.8572544089844757, 0.02112713683355515, 0.028169515778073532, 0.04929665261162868, 0.422542736671103, 0.23944088411362502, 0.056339031556147064, 0.014084757889036766, 0.1690170946684412, 0.5723333482890073, 0.19077778276300245, 0.8076980097736847, 0.5640097466849143, 0.2115036550068429, 0.07050121833561429, 0.07050121833561429, 0.08516670985267219, 0.8516670985267218, 0.7682807433513824, 0.32121151168560436, 0.32121151168560436, 0.4543533588389694, 0.9240887387690788, 0.4543545736887375, 0.03067683852075172, 0.0766920963018793, 0.1533841926037586, 0.7362441244980413, 0.17401832633131117, 0.029003054388551865, 0.05800610877710373, 0.11601221755420746, 0.029003054388551865, 0.6090641421595892, 0.024241857422958295, 0.024241857422958295, 0.05656433398690269, 0.27070074122303434, 0.2504991933705691, 0.11716897754429843, 0.21009609766563858, 0.008080619140986098, 0.032322476563944394, 0.042591770591523616, 0.038332593532371256, 0.021295885295761808, 0.3748075812054078, 0.18314461354355155, 0.15758955118863738, 0.021295885295761808, 0.017036708236609445, 0.14907119707033264, 0.0495134092607039, 0.01485402277821117, 0.06436743203891507, 0.3069831374163642, 0.23271302352530834, 0.07427011389105585, 0.01485402277821117, 0.02475670463035195, 0.00990268185214078, 0.2079563188949564, 0.08163710300204544, 0.018839331462010486, 0.1444348745420804, 0.2763101947761538, 0.17583376031209788, 0.19467309177410835, 0.006279777154003495, 0.10047643446405592, 0.9262563858921589, 0.8963884169446342, 0.11973036910858498, 0.8381125837600949, 0.9417585289022197, 0.7733783288938698, 0.08593092543265221, 0.08593092543265221, 0.8803436039704567, 0.02396767444806356, 0.02396767444806356, 0.11983837224031779, 0.14380604668838134, 0.09587069779225424, 0.5752241867535254, 0.8798136821343493, 0.07141205548151676, 0.8569446657782012, 0.8572540989057431, 0.8963884326090898, 0.20806246060886793, 0.041612492121773585, 0.12483747636532076, 0.5825748897048302, 0.49248335584488645, 0.24624167792244323, 0.02157614349785775, 0.02157614349785775, 0.026970179372322187, 0.5609797309443015, 0.09169860986589544, 0.05933439461910881, 0.08091053811696657, 0.005394035874464438, 0.12945686098714648, 0.7535446913588354, 0.027695248756590952, 0.04154287313488642, 0.4985144776186371, 0.15232386816125024, 0.11078099502636381, 0.027695248756590952, 0.055390497513181904, 0.06923812189147738, 0.9038154684863358, 0.06455824774902398, 0.03397773574810079, 0.28314779790083994, 0.16988867874050395, 0.23784415023670555, 0.04530364766413439, 0.11325911916033597, 0.022651823832067194, 0.10193320724430238, 0.2396613396185593, 0.7189840188556779, 0.3749721683956447, 0.3749721683956447, 0.7682827572910434, 0.783714653168813, 0.934459763674522, 0.2395199516261721, 0.4790399032523442, 0.020788683748353902, 0.015591512811265426, 0.041577367496707804, 0.3482104527849279, 0.12473210249012341, 0.015591512811265426, 0.06756322218215019, 0.2130840084206275, 0.15591512811265426, 0.1710381685494649, 0.08551908427473245, 0.08551908427473245, 0.5986335899231272, 0.3143354094659669, 0.3143354094659669, 0.04303972669807428, 0.06455959004711141, 0.026899829186296423, 0.5379965837259285, 0.1775388726295564, 0.07531952172162998, 0.04303972669807428, 0.026899829186296423, 0.6293243914320489, 0.3618615250734281, 0.023373810343633852, 0.9349524137453541, 0.046747620687267705, 0.9706322086252106, 0.7836663883067215, 0.5696942788649245, 0.3797961859099497, 0.7837145156617504, 0.28463307840006175, 0.5692661568001235, 0.09985643343097782, 0.39942573372391127, 0.09985643343097782, 0.04992821671548891, 0.29956930029293344], \"Term\": [\"15\", \"15\", \"15\", \"15\", \"15\", \"17\", \"17\", \"17\", \"19\", \"19\", \"19\", \"19\", \"19\", \"19\", \"1974\", \"1993\", \"1993\", \"1993\", \"1996\", \"2002\", \"2002\", \"2002\", \"2005\", \"2005\", \"2006\", \"2006\", \"2006\", \"2012\", \"2012\", \"2012\", \"2012\", \"2012\", \"2012\", \"2014\", \"2014\", \"2014\", \"2014\", \"2014\", \"2014\", \"2014\", \"2014\", \"2016\", \"2016\", \"2016\", \"2016\", \"2016\", \"2016\", \"2016\", \"2016\", \"2017\", \"2017\", \"2017\", \"2017\", \"2017\", \"2017\", \"2017\", \"2017\", \"2017\", \"2017\", \"2018\", \"2018\", \"2018\", \"2018\", \"2018\", \"2018\", \"2018\", \"2018\", \"2018\", \"2019\", \"2019\", \"2019\", \"2019\", \"2019\", \"2019\", \"2019\", \"2019\", \"2020\", \"2020\", \"26\", \"26\", \"31\", \"31\", \"31\", \"31\", \"40\", \"40\", \"40\", \"40\", \"40\", \"40\", \"54\", \"abdallah\", \"afh\\u00f8ringerne\", \"afh\\u00f8ringerne\", \"afh\\u00f8rt\", \"afh\\u00f8rt\", \"afh\\u00f8rt\", \"afh\\u00f8rt\", \"afh\\u00f8rt\", \"afsk\\u00e5ret\", \"afvist\", \"aktive\", \"aktive\", \"algeriet\", \"altid\", \"altid\", \"amhari\", \"amhari\", \"analyse\", \"anbefaler\", \"andet\", \"andet\", \"andet\", \"andet\", \"andet\", \"andet\", \"andet\", \"andet\", \"andre\", \"andre\", \"andre\", \"andre\", \"andre\", \"andre\", \"andre\", \"andre\", \"andre\", \"angivelig\", \"angivelig\", \"angivelig\", \"angiveligt\", \"angiveligt\", \"angiveligt\", \"angiveligt\", \"angiveligt\", \"angiveligt\", \"angiveligt\", \"angiveligt\", \"angiveligt\", \"angiven\", \"angiven\", \"angiven\", \"angiven\", \"angivet\", \"angivet\", \"angivet\", \"angivet\", \"angivet\", \"angivet\", \"angivet\", \"ang\\u00e5r\", \"ang\\u00e5r\", \"ang\\u00e5r\", \"ang\\u00e5r\", \"ang\\u00e5r\", \"ang\\u00e5r\", \"ang\\u00e5r\", \"ang\\u00e5r\", \"anholdt\", \"anholdt\", \"anholdt\", \"anholdt\", \"anholdt\", \"anholdt\", \"anholdt\", \"anklaget\", \"anklaget\", \"anser\", \"ans\\u00f8ger\", \"ans\\u00f8ger\", \"ans\\u00f8ger\", \"ans\\u00f8ger\", \"ans\\u00f8ger\", \"ans\\u00f8gerne\", \"ans\\u00f8gerne\", \"ans\\u00f8gerne\", \"ans\\u00f8gerne\", \"ans\\u00f8gernes\", \"ans\\u00f8gernes\", \"ans\\u00f8gers\", \"ans\\u00f8gers\", \"ans\\u00f8gers\", \"ans\\u00f8gers\", \"ans\\u00f8gt\", \"anvende\", \"anvende\", \"applikationerne\", \"araber\", \"araber\", \"araber\", \"araber\", \"araber\", \"araber\", \"araber\", \"arabere\", \"arabere\", \"arabic\", \"arabic\", \"arabic\", \"arabien\", \"arbejdsgiverens\", \"arbejdspladsen\", \"asylans\\u00f8ger\", \"asylans\\u00f8ger\", \"asylans\\u00f8ger\", \"asylans\\u00f8ger\", \"asylans\\u00f8ger\", \"asylans\\u00f8ger\", \"asylans\\u00f8ger\", \"asylans\\u00f8gningsskema\", \"asylgrundlag\", \"asylgrundlag\", \"asylgrundlag\", \"asylgrundlag\", \"asylretligt\", \"asylsagen\", \"asylsagen\", \"asylsamtale\", \"asylsamtale\", \"asylsamtale\", \"asylsamtalen\", \"asylsamtalen\", \"asylsamtalen\", \"asylsamtalen\", \"asylsamtalen\", \"asylsamtalen\", \"asylsamtalen\", \"asylsamtalen\", \"autov\\u00e6rkstedet\", \"avlingstiden\", \"baggrund\", \"baggrund\", \"baggrund\", \"baggrund\", \"baggrund\", \"baggrund\", \"baggrund\", \"baggrund\", \"baggrund\", \"baggrundsmateriale\", \"baggrundsoplysninger\", \"baggrundsoplysninger\", \"baggrundsoplysninger\", \"baggrundsoplysninger\", \"baggrundsoplysninger\", \"bagrund\", \"bahrain\", \"bangladesh\", \"bar\", \"bedoon\", \"bedoonbefolkningen\", \"bedstefarens\", \"bed\\u00f8mmelse\", \"bed\\u00f8mmelse\", \"bed\\u00f8mmelse\", \"bed\\u00f8mmelse\", \"begivenhed\", \"begrunde\", \"begrunde\", \"begrunde\", \"begrunde\", \"begyndelsen\", \"begyndelsen\", \"begyndelsen\", \"begyndelsen\", \"begyndelsen\", \"behovet\", \"belastende\", \"bem\\u00e6rkelsesv\\u00e6rdigt\", \"bem\\u00e6rkelsesv\\u00e6rdigt\", \"bem\\u00e6rkelsesv\\u00e6rdigt\", \"bem\\u00e6rkelsesv\\u00e6rdigt\", \"bem\\u00e6rker\", \"bem\\u00e6rker\", \"bem\\u00e6rker\", \"bem\\u00e6rker\", \"bem\\u00e6rker\", \"bem\\u00e6rker\", \"bem\\u00e6rker\", \"bem\\u00e6rker\", \"bem\\u00e6rker\", \"bem\\u00e6rker\", \"beskedent\", \"beskeder\", \"beskeder\", \"beskikkede\", \"bestemt\", \"bestemt\", \"bestemt\", \"bestemt\", \"best\\u00e5et\", \"betalte\", \"betalte\", \"betalte\", \"betalte\", \"bevidst\", \"bevidst\", \"bevismidler\", \"bidoon\", \"bidoon\", \"bidoon\", \"bidoon\", \"bidoon\", \"bidoon\", \"bidoonbefolkningen\", \"bidoonere\", \"bidoonere\", \"bidoonere\", \"bidoonere\", \"bidoonere\", \"bidoonere\", \"bidun\", \"bidun\", \"bidun\", \"biologiske\", \"biometriske\", \"blevet\", \"blevet\", \"blevet\", \"blevet\", \"blevet\", \"blevet\", \"blevet\", \"blevet\", \"boede\", \"boede\", \"boede\", \"boede\", \"boede\", \"boede\", \"boede\", \"boede\", \"boede\", \"boede\", \"boligomr\\u00e5de\", \"bop\\u00e6l\", \"bop\\u00e6l\", \"bop\\u00e6l\", \"bop\\u00e6l\", \"bop\\u00e6l\", \"bop\\u00e6l\", \"bop\\u00e6l\", \"bop\\u00e6l\", \"bop\\u00e6l\", \"bop\\u00e6len\", \"bop\\u00e6len\", \"bop\\u00e6len\", \"bop\\u00e6len\", \"bop\\u00e6len\", \"bop\\u00e6len\", \"bop\\u00e6len\", \"bor\", \"bor\", \"bor\", \"bror\", \"bror\", \"bror\", \"bror\", \"bror\", \"bror\", \"bror\", \"bruger\", \"br\\u00e6ndt\", \"br\\u00e6ndt\", \"br\\u00e6ndt\", \"br\\u00f8dre\", \"br\\u00f8dre\", \"br\\u00f8dre\", \"br\\u00f8dre\", \"br\\u00f8dres\", \"burmesiske\", \"burmesiske\", \"b\\u00f8rn\", \"b\\u00f8rn\", \"b\\u00f8rn\", \"b\\u00f8rn\", \"b\\u00f8rn\", \"b\\u00f8rn\", \"b\\u00f8rn\", \"cma\", \"comments\", \"crackdown\", \"dag\", \"dag\", \"dag\", \"dag\", \"dag\", \"dag\", \"dag\", \"dag\", \"dag\", \"dage\", \"dage\", \"dage\", \"dage\", \"dage\", \"dage\", \"dage\", \"danmark\", \"danmark\", \"danmark\", \"danmark\", \"danmark\", \"danmark\", \"danmark\", \"danmark\", \"danmark\", \"danner\", \"dateret\", \"dato\", \"dato\", \"dato\", \"dato\", \"dato\", \"dato\", \"dato\", \"dato\", \"dav\\u00e6rende\", \"dav\\u00e6rende\", \"dav\\u00e6rende\", \"dav\\u00e6rende\", \"deltaget\", \"deltaget\", \"deltaget\", \"deltaget\", \"deltaget\", \"deltaget\", \"deltaget\", \"deltaget\", \"deltog\", \"deltog\", \"deltog\", \"deltog\", \"deltog\", \"demonstration\", \"demonstration\", \"demonstration\", \"demonstration\", \"demonstration\", \"demonstration\", \"demonstrationen\", \"demonstrationen\", \"demonstrationen\", \"demonstrationen\", \"demonstrationen\", \"demonstrationen\", \"demonstrationens\", \"dertil\", \"dertil\", \"derudover\", \"derudover\", \"derudover\", \"derudover\", \"derudover\", \"dialekt\", \"dialekt\", \"dialekt\", \"dinar\", \"dinarer\", \"dinarer\", \"divergerende\", \"divergerende\", \"divergerende\", \"divergerende\", \"divergerende\", \"divergerende\", \"divergerende\", \"divergerende\", \"divergerende\", \"diwaniyaen\", \"dokumenter\", \"dokumenter\", \"dokumenter\", \"dokumenter\", \"dokumenter\", \"dokumenter\", \"dokumentet\", \"dokumentet\", \"dokumentet\", \"drager\", \"dreng\", \"drengen\", \"dyr\", \"dyr\", \"d\\u00f8de\", \"d\\u00f8de\", \"d\\u00f8de\", \"d\\u00f8de\", \"efterf\\u00f8lgende\", \"efterf\\u00f8lgende\", \"efterf\\u00f8lgende\", \"efterf\\u00f8lgende\", \"efterf\\u00f8lgende\", \"efterf\\u00f8lgende\", \"efterf\\u00f8lgende\", \"efterf\\u00f8lgende\", \"efter\\u00e5ret\", \"efter\\u00e5ret\", \"efter\\u00e5ret\", \"efter\\u00e5ret\", \"efter\\u00e5ret\", \"efter\\u00e5ret\", \"efter\\u00e5ret\", \"efter\\u00e5ret\", \"efter\\u00e5ret\", \"efter\\u00e5ret\", \"eksempler\", \"eksempler\", \"elektricitet\", \"elektricitet\", \"emirater\", \"endelige\", \"engelsk\", \"enkeltvis\", \"episoden\", \"episoden\", \"episoden\", \"eritrea\", \"eritrea\", \"eritrea\", \"eritreisk\", \"eritreiske\", \"eritreiske\", \"eritreiske\", \"etiopien\", \"etiopien\", \"etiopien\", \"etiopien\", \"etiopisk\", \"etiopisk\", \"etnicitet\", \"etnicitet\", \"facebook\", \"facebook\", \"facebook\", \"facebook\", \"facebook\", \"facebookprofil\", \"fader\", \"faderen\", \"faderen\", \"faderen\", \"faderen\", \"faderen\", \"fald\", \"fald\", \"fald\", \"fald\", \"familie\", \"familie\", \"familie\", \"familie\", \"familie\", \"familie\", \"familie\", \"familie\", \"familiemedlemmer\", \"familiemedlemmer\", \"familiemedlemmer\", \"familiemedlemmer\", \"familiemedlemmer\", \"familiemedlemmers\", \"familien\", \"familien\", \"familien\", \"familien\", \"familien\", \"familien\", \"fandt\", \"fandt\", \"fandt\", \"fandt\", \"fandt\", \"far\", \"far\", \"far\", \"far\", \"far\", \"far\", \"far\", \"far\", \"far\", \"far\", \"farbroren\", \"fars\", \"fars\", \"fars\", \"fars\", \"fars\", \"fars\", \"fars\", \"fattig\", \"fik\", \"fik\", \"fik\", \"fik\", \"fik\", \"fik\", \"fik\", \"fik\", \"fik\", \"finansieringen\", \"flere\", \"flere\", \"flere\", \"flere\", \"flere\", \"flere\", \"flere\", \"flertal\", \"flertal\", \"flertal\", \"flertal\", \"flertal\", \"flertallet\", \"flertallet\", \"flertallet\", \"flertallet\", \"fleste\", \"flygtede\", \"flygtede\", \"flygtede\", \"flygtede\", \"flygtede\", \"flygtede\", \"flygtede\", \"flygtede\", \"flygtede\", \"flygtningelejr\", \"flygtningelejr\", \"flyttet\", \"flyttet\", \"fn\", \"folkenes\", \"foranledning\", \"forbindelse\", \"forbindelse\", \"forbindelse\", \"forbindelse\", \"forbindelse\", \"forbindelse\", \"forbindelse\", \"forbindelse\", \"forbindelse\", \"fordi\", \"fordi\", \"fordi\", \"fordi\", \"fordi\", \"fordi\", \"fordi\", \"fordi\", \"fordi\", \"foreholdt\", \"foreholdt\", \"foreholdt\", \"foreholdt\", \"forekommer\", \"forekommer\", \"forekommer\", \"forekommer\", \"forekommer\", \"forekommer\", \"foreliggende\", \"foreliggende\", \"foreliggende\", \"foreliggende\", \"foreliggende\", \"forenede\", \"forfalske\", \"forf\\u00f8lgelse\", \"forf\\u00f8lgelse\", \"forf\\u00f8lgelse\", \"forf\\u00f8lgelse\", \"forf\\u00f8lgelse\", \"forf\\u00f8lgelse\", \"forf\\u00f8lgelse\", \"forf\\u00f8lgelse\", \"forf\\u00f8lgelse\", \"forhandling\", \"forholde\", \"forholdet\", \"forholdet\", \"forholdet\", \"forklarede\", \"forklarede\", \"forklarede\", \"forklarede\", \"forklarede\", \"forklarede\", \"forklarer\", \"forklaringens\", \"forklaringer\", \"forklaringer\", \"forklaringer\", \"forklaringer\", \"forklaringer\", \"forklaringer\", \"forklaringer\", \"forl\\u00e6nge\", \"forl\\u00e6nge\", \"forl\\u00e6ngelse\", \"forl\\u00e6ngelse\", \"forl\\u00f8b\", \"formelle\", \"formelle\", \"formelle\", \"formodning\", \"fornavn\", \"fornavn\", \"fornavn\", \"forretningsorden\", \"forst\\u00e5et\", \"fort\\u00e6lle\", \"fort\\u00e6lle\", \"for\\u00e5ret\", \"for\\u00e5ret\", \"for\\u00e5ret\", \"for\\u00e5ret\", \"for\\u00e5ret\", \"for\\u00e5ret\", \"for\\u00e5ret\", \"for\\u00e5ret\", \"for\\u00e5ret\", \"for\\u00e6ldres\", \"fremg\\u00e5r\", \"fremg\\u00e5r\", \"fremg\\u00e5r\", \"fremg\\u00e5r\", \"fremg\\u00e5r\", \"fremg\\u00e5r\", \"fremg\\u00e5r\", \"fremg\\u00e5r\", \"fremh\\u00e6vede\", \"fremme\", \"fremm\\u00f8de\", \"fremm\\u00f8de\", \"fremsat\", \"fremskaffe\", \"fremskaffelsen\", \"f\\u00e5et\", \"f\\u00e5et\", \"f\\u00e5et\", \"f\\u00e5et\", \"f\\u00e5et\", \"f\\u00e5et\", \"f\\u00e5et\", \"f\\u00e5et\", \"f\\u00e6ngslet\", \"f\\u00e6ngslet\", \"f\\u00e6ngslet\", \"f\\u00e6ngslet\", \"f\\u00e6ngslet\", \"f\\u00e6ngslet\", \"f\\u00e6ngslet\", \"f\\u00f8dedatoen\", \"f\\u00f8dselsdatoen\", \"f\\u00f8dselsdatoer\", \"f\\u00f8dselsdatoer\", \"f\\u00f8dt\", \"f\\u00f8dt\", \"f\\u00f8dt\", \"f\\u00f8dt\", \"f\\u00f8dt\", \"f\\u00f8dt\", \"f\\u00f8dt\", \"f\\u00f8dt\", \"f\\u00f8dt\", \"f\\u00f8lge\", \"f\\u00f8lge\", \"f\\u00f8lge\", \"f\\u00f8lge\", \"f\\u00f8lge\", \"f\\u00f8lge\", \"f\\u00f8lge\", \"f\\u00f8lge\", \"f\\u00f8lge\", \"f\\u00f8lger\", \"f\\u00f8lger\", \"f\\u00f8lger\", \"f\\u00f8lger\", \"f\\u00f8lger\", \"f\\u00f8re\", \"f\\u00f8re\", \"f\\u00f8re\", \"f\\u00f8re\", \"f\\u00f8re\", \"f\\u00f8re\", \"f\\u00f8re\", \"f\\u00f8re\", \"gadenumre\", \"gammel\", \"gammel\", \"gammel\", \"gammel\", \"gammel\", \"gang\", \"gang\", \"gang\", \"gang\", \"gang\", \"gang\", \"gang\", \"gang\", \"gang\", \"gange\", \"gange\", \"gange\", \"gange\", \"gange\", \"gange\", \"gange\", \"gange\", \"gange\", \"gemt\", \"general\", \"generelt\", \"generelt\", \"generelt\", \"generelt\", \"generelt\", \"genindrejse\", \"genindrejse\", \"gensamtalen\", \"gensamtalen\", \"gensamtalen\", \"gensamtalen\", \"ghana\", \"ghana\", \"giver\", \"giver\", \"graviditet\", \"grundlag\", \"grundlag\", \"grundlag\", \"grundlag\", \"grundlag\", \"grundlag\", \"grundlag\", \"grundlag\", \"grundl\\u00e6ggende\", \"gruppen\", \"gruppen\", \"gulf\", \"gulf\", \"gulf\", \"g\\u00e5r\", \"heller\", \"heller\", \"heller\", \"heller\", \"heller\", \"heller\", \"heller\", \"helt\", \"helt\", \"helt\", \"helt\", \"helt\", \"helt\", \"helt\", \"helt\", \"henses\", \"henset\", \"henset\", \"henset\", \"henset\", \"henset\", \"hensynet\", \"hentet\", \"hentet\", \"henvise\", \"henvise\", \"herefter\", \"herefter\", \"herefter\", \"herefter\", \"herefter\", \"herefter\", \"herefter\", \"herefter\", \"herefter\", \"herudover\", \"herudover\", \"herudover\", \"herudover\", \"herudover\", \"herudover\", \"herunder\", \"herunder\", \"herunder\", \"herunder\", \"herunder\", \"herunder\", \"herunder\", \"herunder\", \"historie\", \"hjemmeh\\u00f8rende\", \"hjemomr\\u00e5det\", \"hjertefejl\", \"hjerteoperation\", \"holland\", \"holland\", \"husstanden\", \"hvert\", \"hvert\", \"hvert\", \"hvert\", \"hvordan\", \"hvordan\", \"hvordan\", \"hvordan\", \"hvordan\", \"hvordan\", \"hvordan\", \"hvordan\", \"hvorefter\", \"hvorefter\", \"hvorefter\", \"hvorefter\", \"hvorefter\", \"hvorefter\", \"hvorefter\", \"hvorefter\", \"hvorefter\", \"hvorefter\", \"hvori\", \"hvori\", \"hvori\", \"hvori\", \"hvorp\\u00e5\", \"hvorvidt\", \"hvorvidt\", \"hvorvidt\", \"hvorvidt\", \"hvorvidt\", \"hvorvidt\", \"hvorvidt\", \"hvorvidt\", \"hvorvidt\", \"h\\u00e6ndelsesforl\\u00f8bet\", \"h\\u00e6vder\", \"id\", \"id\", \"id\", \"id\", \"id\", \"id\", \"id\", \"id\", \"identificere\", \"if\\u00f8lge\", \"if\\u00f8lge\", \"if\\u00f8lge\", \"if\\u00f8lge\", \"if\\u00f8lge\", \"if\\u00f8lge\", \"if\\u00f8lge\", \"ihjel\", \"ihjel\", \"ihjel\", \"ihjel\", \"ihjel\", \"ihjel\", \"ihjel\", \"ihjel\", \"ihjel\", \"ihjel\", \"illegale\", \"illegale\", \"illegale\", \"imens\", \"indbyrdes\", \"indbyrdes\", \"indbyrdes\", \"indbyrdes\", \"indbyrdes\", \"inddrage\", \"inddraget\", \"inddraget\", \"inddraget\", \"indkomstforhold\", \"indt\\u00e6gtsforhold\", \"instruktioner\", \"ipad\", \"irak\", \"irak\", \"irak\", \"irak\", \"irak\", \"irak\", \"irak\", \"irakisk\", \"irakisk\", \"irakisk\", \"irakisk\", \"irakisk\", \"irakisk\", \"irakisk\", \"iransk\", \"isil\", \"isil\", \"isoleret\", \"israel\", \"israel\", \"israel\", \"italienske\", \"iv\\u00e6rks\\u00e6ttes\", \"jf\", \"jf\", \"jf\", \"jf\", \"jf\", \"jf\", \"jf\", \"jf\", \"jordan\", \"jordan\", \"jordan\", \"klageren\", \"klagerens\", \"knytter\", \"knytter\", \"knytter\", \"kom\", \"kom\", \"kom\", \"kom\", \"kom\", \"kom\", \"kom\", \"komit\\u00e9\", \"konstrueret\", \"konstrueret\", \"konstrueret\", \"konstrueret\", \"konstrueret\", \"konstrueret\", \"kopier\", \"kroatien\", \"kurder\", \"kurder\", \"kurdere\", \"kuwaitisk\", \"kuwaitisk\", \"kuwaitisk\", \"kuwaitiske\", \"kuwaitiske\", \"kuwaitiske\", \"kuwaitiske\", \"kuwaitiske\", \"kuwaitiske\", \"kvinde\", \"kvinde\", \"kvinde\", \"kvinde\", \"kvinde\", \"kvinde\", \"kvinde\", \"kvinde\", \"kvindelige\", \"kvindelige\", \"k\\u00e6reste\", \"k\\u00f8rekort\", \"k\\u00f8rekort\", \"k\\u00f8rekort\", \"k\\u00f8rte\", \"k\\u00f8rte\", \"k\\u00f8rte\", \"k\\u00f8rte\", \"lagt\", \"lagt\", \"lagt\", \"lagt\", \"lagt\", \"lagt\", \"lagt\", \"lagt\", \"lagt\", \"lagt\", \"landinfo\", \"levede\", \"levede\", \"lgbt\", \"lgbt\", \"libanesiske\", \"libanon\", \"libanon\", \"libanon\", \"ligeledes\", \"ligeledes\", \"ligeledes\", \"ligeledes\", \"ligeledes\", \"ligeledes\", \"ligeledes\", \"ligesom\", \"ligesom\", \"ligesom\", \"ligesom\", \"ligesom\", \"ligesom\", \"ligesom\", \"ligesom\", \"ligesom\", \"linb\", \"liste\", \"liste\", \"liyu\", \"lyde\", \"l\\u00e6gge\", \"l\\u00e6gge\", \"l\\u00e6gge\", \"l\\u00e6gge\", \"l\\u00e6gge\", \"l\\u00e6gge\", \"l\\u00e6gge\", \"l\\u00e6gge\", \"l\\u00e6gge\", \"l\\u00e6gges\", \"l\\u00e6gges\", \"l\\u00e6gges\", \"l\\u00e6gges\", \"l\\u00e6gges\", \"l\\u00e6gges\", \"l\\u00e6gges\", \"l\\u00e6gges\", \"l\\u00e6nge\", \"l\\u00e6nge\", \"l\\u00e6nge\", \"l\\u00e6nge\", \"l\\u00e6nge\", \"mand\", \"mand\", \"mand\", \"mand\", \"mand\", \"mand\", \"mand\", \"manden\", \"manden\", \"manden\", \"mandens\", \"mandlige\", \"mandlige\", \"mandlige\", \"mandlige\", \"mands\", \"mands\", \"markedsplads\", \"marokkansk\", \"marokko\", \"marokko\", \"maven\", \"meddele\", \"meddele\", \"meddele\", \"meddele\", \"meddele\", \"meddelelse\", \"meddelte\", \"meddelte\", \"meddelte\", \"medf\\u00f8re\", \"medf\\u00f8re\", \"medgav\", \"medio\", \"medio\", \"mens\", \"mens\", \"mens\", \"mens\", \"mens\", \"mens\", \"mens\", \"mere\", \"mere\", \"mere\", \"mere\", \"mere\", \"messenger\", \"militser\", \"militser\", \"milit\\u00e6rtjeneste\", \"milit\\u00e6rtjeneste\", \"milit\\u00e6rtjeneste\", \"milj\\u00f8et\", \"mindre\\u00e5rig\", \"mistet\", \"mistet\", \"mobiludl\\u00e6sningen\", \"moden\", \"mor\", \"mor\", \"mor\", \"mor\", \"mor\", \"mor\", \"mor\", \"mor\", \"mor\", \"mor\", \"morbrorens\", \"mosk\\u00e9en\", \"moster\", \"moster\", \"moster\", \"motivsamtalen\", \"motivsamtalen\", \"motivsamtalen\", \"motivsamtalen\", \"motivsamtalen\", \"motivsamtalen\", \"motivsamtalen\", \"muligt\", \"muligt\", \"muligt\", \"muligt\", \"muligt\", \"muligt\", \"mundtlige\", \"muslimer\", \"myndighed\", \"myndighederne\", \"myndighederne\", \"myndighederne\", \"myndighederne\", \"myndighederne\", \"myndighederne\", \"myndighederne\", \"myndighederne\", \"myndighederne\", \"m\\u00e5neder\", \"m\\u00e5neder\", \"m\\u00e5neder\", \"m\\u00e5neder\", \"m\\u00e5neder\", \"m\\u00e5neder\", \"m\\u00e6nd\", \"m\\u00e6nd\", \"m\\u00e6nd\", \"m\\u00e6nd\", \"m\\u00e6nd\", \"m\\u00e6ndene\", \"m\\u00f8det\", \"m\\u00f8det\", \"m\\u00f8det\", \"m\\u00f8det\", \"m\\u00f8det\", \"m\\u00f8det\", \"m\\u00f8det\", \"nabo\", \"nabo\", \"nabo\", \"nationale\", \"nationaltjeneste\", \"navn\", \"navn\", \"navn\", \"navn\", \"navn\", \"navn\", \"navn\", \"navn\", \"navn\", \"nr\", \"n\\u00e6gte\", \"n\\u00e6gtelse\", \"n\\u00e6rmere\", \"n\\u00e6rmere\", \"n\\u00e6rmere\", \"n\\u00e6rmere\", \"n\\u00e6rmere\", \"n\\u00e6rmere\", \"n\\u00e6rmere\", \"n\\u00e6rmere\", \"n\\u00e6rmere\", \"n\\u00e6rmere\", \"n\\u00e6vnsbehandlingen\", \"n\\u00e6vnsbehandlingen\", \"n\\u00e6vnsm\\u00f8det\", \"n\\u00e6vnsm\\u00f8det\", \"n\\u00e6vnsm\\u00f8det\", \"n\\u00e6vnsm\\u00f8det\", \"n\\u00e6vnsm\\u00f8det\", \"n\\u00e6vnsm\\u00f8det\", \"n\\u00e6vnsm\\u00f8det\", \"n\\u00f8dvendige\", \"n\\u00f8dvendige\", \"n\\u00f8dvendige\", \"n\\u00f8dvendige\", \"officeren\", \"ogaden\", \"omfattet\", \"omfattet\", \"omfattet\", \"omfattet\", \"omfattet\", \"omfattet\", \"omfattet\", \"omfattet\", \"omr\\u00e5de\", \"omr\\u00e5de\", \"omr\\u00e5de\", \"omr\\u00e5de\", \"omr\\u00e5de\", \"omr\\u00e5de\", \"omr\\u00e5de\", \"omsorg\", \"omst\\u00e6ndighed\", \"omst\\u00e6ndighed\", \"omst\\u00e6ndighed\", \"omst\\u00e6ndighed\", \"omst\\u00e6ndighed\", \"omst\\u00e6ndighed\", \"omst\\u00e6ndighed\", \"omst\\u00e6ndigheder\", \"omst\\u00e6ndigheder\", \"omst\\u00e6ndigheder\", \"omst\\u00e6ndigheder\", \"on\", \"onlf\", \"opdaget\", \"opdaget\", \"opholdstilladelse\", \"opholdstilladelse\", \"opholdstilladelse\", \"opholdstilladelse\", \"opholdstilladelse\", \"opholdstilladelse\", \"opholdstilladelse\", \"opholdstilladelse\", \"opholdstilladelsen\", \"opholdt\", \"opholdt\", \"opholdt\", \"opholdt\", \"opholdt\", \"opholdt\", \"opholdt\", \"opholdt\", \"opholdt\", \"opholdt\", \"oplysninger\", \"oplysninger\", \"oplysninger\", \"oplysninger\", \"oplysninger\", \"oplysninger\", \"oplysninger\", \"oplysnings\", \"oplysnings\", \"oplysnings\", \"oplysnings\", \"oplysnings\", \"oplysnings\", \"oplysnings\", \"oplyste\", \"oplyste\", \"oplyste\", \"oplyste\", \"oplyste\", \"oplyste\", \"oplyste\", \"oplyste\", \"oplyste\", \"opm\\u00e6rksomt\", \"opn\\u00e5et\", \"opn\\u00e5et\", \"opn\\u00e5et\", \"oprettet\", \"oprindelige\", \"oprindelige\", \"oprindelige\", \"oprindelse\", \"oprindelse\", \"ops\\u00f8gningerne\", \"ops\\u00f8gt\", \"ops\\u00f8gt\", \"ops\\u00f8gt\", \"ops\\u00f8gt\", \"ops\\u00f8gt\", \"ops\\u00f8gt\", \"ops\\u00f8gt\", \"ops\\u00f8gt\", \"ops\\u00f8gt\", \"ops\\u00f8gte\", \"ops\\u00f8gte\", \"ops\\u00f8gte\", \"ops\\u00f8gte\", \"ops\\u00f8gte\", \"ops\\u00f8gte\", \"ops\\u00f8gte\", \"ops\\u00f8gte\", \"optr\\u00e6den\", \"ortodoks\", \"ovenn\\u00e6vnte\", \"ovenn\\u00e6vnte\", \"ovenn\\u00e6vnte\", \"ovenn\\u00e6vnte\", \"overgreb\", \"overgreb\", \"overgreb\", \"overgreb\", \"overgreb\", \"overgreb\", \"overgreb\", \"overgreb\", \"overgreb\", \"overh\\u00f8rte\", \"overnatning\", \"oversatte\", \"overs\\u00e6ttelse\", \"partiet\", \"partiet\", \"pas\", \"pas\", \"pas\", \"pas\", \"pas\", \"pas\", \"pas\", \"pas\", \"pege\", \"penge\", \"penge\", \"penge\", \"penge\", \"penge\", \"personer\", \"personer\", \"personer\", \"personer\", \"personer\", \"personer\", \"personer\", \"personer\", \"personer\", \"pige\", \"pige\", \"pigens\", \"plausibel\", \"police\", \"politiet\", \"politiet\", \"politiet\", \"politiet\", \"politiet\", \"politiet\", \"politiet\", \"privat\", \"profil\", \"profil\", \"profil\", \"profil\", \"profil\", \"provinsen\", \"provinsen\", \"pr\\u00f8ve\", \"punkt\", \"punkt\", \"punkter\", \"punkter\", \"punkter\", \"punkter\", \"punkter\", \"punkter\", \"punkter\", \"punkter\", \"p\\u00e5ber\\u00e5ber\", \"p\\u00e5ber\\u00e5ber\", \"p\\u00e5ber\\u00e5ber\", \"p\\u00e5ber\\u00e5bt\", \"p\\u00e5ber\\u00e5bt\", \"p\\u00e5ber\\u00e5bt\", \"p\\u00e5ber\\u00e5bt\", \"p\\u00e5ber\\u00e5bt\", \"p\\u00e5f\\u00f8rt\", \"p\\u00e5g\\u00e6ldende\", \"p\\u00e5g\\u00e6ldende\", \"p\\u00e5g\\u00e6ldende\", \"p\\u00e5g\\u00e6ldende\", \"p\\u00e5lagt\", \"p\\u00e5lagt\", \"p\\u00e5lagt\", \"p\\u00e5st\\u00e5et\", \"p\\u00e5st\\u00e5r\", \"qatar\", \"ransagninger\", \"rejse\", \"rejse\", \"rejse\", \"rejste\", \"rejste\", \"rejste\", \"rejste\", \"rejste\", \"rejste\", \"rejste\", \"relateret\", \"renews\", \"repr\\u00e6sentanter\", \"restaurant\", \"restaurant\", \"restaurant\", \"restauranten\", \"restauranten\", \"rettelig\", \"rettigheder\", \"rettigheder\", \"rettigheder\", \"rettigheder\", \"rettigheder\", \"rettigheder\", \"rimelig\", \"rimelig\", \"rimelige\", \"ringe\", \"ringe\", \"rum\", \"sahara\", \"sambehandlede\", \"sambehandlede\", \"sammen\", \"sammen\", \"sammen\", \"sammen\", \"sammen\", \"sammen\", \"sammen\", \"sammen\", \"sammen\", \"sammen\", \"samstemmende\", \"samt\", \"samt\", \"samt\", \"samt\", \"samt\", \"samt\", \"samt\", \"samtalen\", \"samtalen\", \"samtalen\", \"samtalen\", \"samtalen\", \"samtalen\", \"samtalen\", \"samtalereferaterne\", \"samtalereferatet\", \"sandsynligg\\u00f8re\", \"sandsynligg\\u00f8re\", \"sandsynligg\\u00f8re\", \"sandsynligg\\u00f8re\", \"sandsynligg\\u00f8re\", \"sandsynligg\\u00f8re\", \"sandsynlighed\", \"sandsynlighed\", \"sandsynlighed\", \"saudi\", \"schweiz\", \"schweiz\", \"security\", \"seddel\", \"seks\", \"seks\", \"seks\", \"seks\", \"seks\", \"seks\", \"seks\", \"selvoplevet\", \"selvoplevet\", \"senest\", \"senest\", \"senest\", \"shabaab\", \"shiamuslim\", \"shiamuslim\", \"shiamuslim\", \"shiamuslim\", \"sikkerhedspolitiet\", \"situationen\", \"skabt\", \"skjulested\", \"skyld\", \"sk\\u00e6ndtes\", \"sk\\u00e6ndtes\", \"slettet\", \"slettet\", \"sl\\u00e5et\", \"sl\\u00e5et\", \"sl\\u00e5et\", \"sl\\u00e5et\", \"sl\\u00e5et\", \"sl\\u00e5et\", \"sl\\u00e5et\", \"sl\\u00e5et\", \"sl\\u00e5et\", \"sl\\u00e5et\", \"soldater\", \"soldater\", \"sommeren\", \"sommeren\", \"sommeren\", \"sommeren\", \"sommeren\", \"sommeren\", \"sommeren\", \"sommeren\", \"sov\", \"sov\", \"spanien\", \"sparsomt\", \"spise\", \"sproget\", \"sprogtest\", \"sprogtest\", \"sprogtest\", \"sprogtest\", \"sprogtest\", \"sp\\u00f8rge\", \"sp\\u00f8rgsm\\u00e5l\", \"sp\\u00f8rgsm\\u00e5l\", \"sp\\u00f8rgsm\\u00e5l\", \"sp\\u00f8rgsm\\u00e5l\", \"sp\\u00f8rgsm\\u00e5l\", \"sp\\u00f8rgsm\\u00e5l\", \"sp\\u00f8rgsm\\u00e5l\", \"ssm\", \"stammer\", \"stammer\", \"stammer\", \"stammer\", \"stand\", \"stand\", \"stand\", \"stand\", \"stand\", \"stand\", \"standard\", \"statsborger\", \"statsborger\", \"statsborger\", \"statsborger\", \"statsborger\", \"statsborger\", \"statsborger\", \"statsborger\", \"statsborger\", \"statsborger\", \"statsborgerskab\", \"statsborgerskab\", \"statsborgerskab\", \"statsborgerskab\", \"statsborgerskab\", \"statsborgerskab\", \"statsborgerskab\", \"statsborgerskab\", \"statsborgerskab\", \"statsl\\u00f8s\", \"statsl\\u00f8s\", \"statsl\\u00f8s\", \"statsl\\u00f8s\", \"statsl\\u00f8s\", \"statsl\\u00f8s\", \"statsl\\u00f8s\", \"statsl\\u00f8se\", \"statsl\\u00f8se\", \"statsl\\u00f8se\", \"statsl\\u00f8se\", \"statsl\\u00f8se\", \"statsl\\u00f8se\", \"sted\", \"sted\", \"sted\", \"sted\", \"sted\", \"sted\", \"styrelsen\", \"sudan\", \"sudan\", \"svare\", \"svare\", \"svare\", \"svare\", \"svarede\", \"svarede\", \"svig\", \"svigerfaren\", \"syrien\", \"syrien\", \"syrien\", \"syrien\", \"syrien\", \"syriske\", \"syriske\", \"syriske\", \"syriske\", \"s\\u00e5\", \"s\\u00e5\", \"s\\u00e5\", \"s\\u00e5\", \"s\\u00e5\", \"s\\u00e5\", \"s\\u00e5\", \"s\\u00e5\", \"s\\u00e5\", \"s\\u00e5danne\", \"s\\u00e5danne\", \"s\\u00e5danne\", \"s\\u00f8ger\", \"s\\u00f8ger\", \"s\\u00f8ger\", \"s\\u00f8ger\", \"s\\u00f8n\", \"s\\u00f8n\", \"s\\u00f8n\", \"s\\u00f8n\", \"s\\u00f8n\", \"s\\u00f8n\", \"s\\u00f8nnerne\", \"s\\u00f8steren\", \"s\\u00f8sters\", \"taler\", \"taler\", \"taler\", \"telefonisk\", \"telefonsamtale\", \"tensions\", \"tidligere\", \"tidligere\", \"tidligere\", \"tidligere\", \"tidligere\", \"tidligere\", \"tidligere\", \"tidligere\", \"tidspunkt\", \"tidspunkt\", \"tidspunkt\", \"tidspunkt\", \"tidspunkt\", \"tidspunkt\", \"tidspunkt\", \"tigre\", \"tigrinya\", \"tigrinya\", \"tilbage\", \"tilbage\", \"tilbage\", \"tilbage\", \"tilbage\", \"tilbage\", \"tilbage\", \"tilbage\", \"tilbage\", \"tilbageholdt\", \"tilbageholdt\", \"tilbageholdt\", \"tilbageholdt\", \"tilbageholdt\", \"tilbageholdt\", \"tilbageholdt\", \"tilbageholdt\", \"tilbageholdte\", \"tilbageholdte\", \"tilg\\u00e6ngelige\", \"tilh\\u00f8rsforhold\", \"tilknytning\", \"tilknytning\", \"tilknytning\", \"tilknytning\", \"tilladelse\", \"tilladelse\", \"tilsendt\", \"tilsendt\", \"tilsides\\u00e6tte\", \"tilsides\\u00e6tte\", \"tilsides\\u00e6tte\", \"tilsides\\u00e6tte\", \"tilsides\\u00e6tter\", \"tilsides\\u00e6tter\", \"tilstr\\u00e6kkeligt\", \"tilstr\\u00e6kkeligt\", \"tiltr\\u00e6der\", \"tiltr\\u00e6der\", \"tilvejebringelse\", \"to\", \"to\", \"to\", \"to\", \"to\", \"to\", \"to\", \"to\", \"to\", \"tog\", \"tog\", \"tog\", \"tog\", \"tog\", \"tog\", \"tog\", \"tog\", \"tortur\", \"tortur\", \"tortur\", \"tortur\", \"tortur\", \"tortur\", \"transporterede\", \"tre\", \"tre\", \"tre\", \"tre\", \"tre\", \"tre\", \"tre\", \"tre\", \"tripoli\", \"tripoli\", \"tr\\u00e6ffer\", \"tvunget\", \"tvunget\", \"tvunget\", \"tvunget\", \"tyske\", \"tyske\", \"uafklaret\", \"udbygning\", \"udbygning\", \"udeblive\", \"udeblivelse\", \"udf\\u00f8rlige\", \"udl\\u00e6nding\", \"udl\\u00e6nding\", \"udl\\u00e6nding\", \"udl\\u00e6nding\", \"udl\\u00e6ndingen\", \"udl\\u00e6ndingen\", \"udl\\u00e6ndingen\", \"udl\\u00e6ndingen\", \"udl\\u00e6ndingen\", \"udl\\u00e6ndingen\", \"udl\\u00e6ndingestyrelsen\", \"udl\\u00e6ndingestyrelsen\", \"udl\\u00e6ndingestyrelsen\", \"udl\\u00e6ndingestyrelsen\", \"udl\\u00e6ndingestyrelsen\", \"udl\\u00e6ndingestyrelsen\", \"udl\\u00e6ndingestyrelsen\", \"udl\\u00e6ndingestyrelsen\", \"udl\\u00e6ndingestyrelsen\", \"udrejse\", \"udrejse\", \"udrejse\", \"udrejse\", \"udrejse\", \"udrejse\", \"udrejse\", \"udrejse\", \"udrejse\", \"udrejste\", \"udrejste\", \"udrejste\", \"udrejste\", \"udrejste\", \"udrejste\", \"udrejste\", \"udrejste\", \"udrejste\", \"udrejste\", \"udsat\", \"udsat\", \"udsat\", \"udsat\", \"udsat\", \"udsat\", \"udsat\", \"udsat\", \"udsendes\", \"uds\\u00e6ttes\", \"ulovligt\", \"ulovligt\", \"umiddelbare\", \"unders\\u00f8gelser\", \"unders\\u00f8gelser\", \"unders\\u00f8gelser\", \"utreise\", \"utrov\\u00e6rdig\", \"utrov\\u00e6rdig\", \"utrov\\u00e6rdig\", \"utrov\\u00e6rdig\", \"utrov\\u00e6rdig\", \"utrov\\u00e6rdig\", \"vandmeloner\", \"vanskelige\", \"vanskelige\", \"varer\", \"varet\\u00e6gtsf\\u00e6ngslet\", \"venner\", \"venner\", \"venner\", \"venner\", \"viber\", \"viber\", \"videre\", \"videre\", \"videre\", \"videre\", \"videre\", \"videre\", \"videre\", \"videre\", \"videre\", \"vidner\", \"vidt\", \"vidt\", \"vidt\", \"vidt\", \"vidt\", \"vidt\", \"vidt\", \"vidt\", \"vinter\", \"vinter\", \"vinteren\", \"vinteren\", \"vinteren\", \"vinteren\", \"vinteren\", \"vinteren\", \"vinteren\", \"vinteren\", \"visum\", \"visum\", \"voksede\", \"voksede\", \"voksenalderen\", \"voldsud\\u00f8velse\", \"vriste\", \"whatsapp\", \"whatsapp\", \"\\u00e5r\", \"\\u00e5r\", \"\\u00e5r\", \"\\u00e5r\", \"\\u00e5r\", \"\\u00e5r\", \"\\u00e5r\", \"\\u00e5r\", \"\\u00e5r\", \"\\u00e5rig\", \"\\u00e5rig\", \"\\u00e5rig\", \"\\u00e5rig\", \"\\u00e5rr\\u00e6kke\", \"\\u00e5rr\\u00e6kke\", \"\\u00e6gtef\\u00e6lle\", \"\\u00e6gtef\\u00e6lle\", \"\\u00e6gtef\\u00e6lle\", \"\\u00e6gtef\\u00e6lle\", \"\\u00e6gtef\\u00e6lle\", \"\\u00e6gtef\\u00e6lle\", \"\\u00e6gtef\\u00e6lle\", \"\\u00e6gtef\\u00e6lle\", \"\\u00e6gtef\\u00e6llen\", \"\\u00e6gtef\\u00e6llen\", \"\\u00e6gtepar\", \"\\u00e6gtepar\", \"\\u00e6gtepar\", \"\\u00e6ldste\", \"\\u00e6ndre\", \"\\u00e6ndrer\", \"\\u00e6ndrer\", \"\\u00f8jenskade\", \"\\u00f8konomisk\", \"\\u00f8konomisk\", \"\\u00f8nskede\", \"\\u00f8nskede\", \"\\u00f8nskede\", \"\\u00f8nskede\", \"\\u00f8nskede\"]}, \"R\": 30, \"lambda.step\": 0.01, \"plot.opts\": {\"xlab\": \"PC1\", \"ylab\": \"PC2\"}, \"topic.order\": [1, 2, 3, 4, 5, 6, 7, 8, 9, 10]};\n",
       "\n",
       "function LDAvis_load_lib(url, callback){\n",
       "  var s = document.createElement('script');\n",
       "  s.src = url;\n",
       "  s.async = true;\n",
       "  s.onreadystatechange = s.onload = callback;\n",
       "  s.onerror = function(){console.warn(\"failed to load library \" + url);};\n",
       "  document.getElementsByTagName(\"head\")[0].appendChild(s);\n",
       "}\n",
       "\n",
       "if(typeof(LDAvis) !== \"undefined\"){\n",
       "   // already loaded: just create the visualization\n",
       "   !function(LDAvis){\n",
       "       new LDAvis(\"#\" + \"ldavis_el153851628209928006407508\", ldavis_el153851628209928006407508_data);\n",
       "   }(LDAvis);\n",
       "}else if(typeof define === \"function\" && define.amd){\n",
       "   // require.js is available: use it to load d3/LDAvis\n",
       "   require.config({paths: {d3: \"https://d3js.org/d3.v5\"}});\n",
       "   require([\"d3\"], function(d3){\n",
       "      window.d3 = d3;\n",
       "      LDAvis_load_lib(\"https://cdn.jsdelivr.net/gh/bmabey/pyLDAvis@3.3.1/pyLDAvis/js/ldavis.v3.0.0.js\", function(){\n",
       "        new LDAvis(\"#\" + \"ldavis_el153851628209928006407508\", ldavis_el153851628209928006407508_data);\n",
       "      });\n",
       "    });\n",
       "}else{\n",
       "    // require.js not available: dynamically load d3 & LDAvis\n",
       "    LDAvis_load_lib(\"https://d3js.org/d3.v5.js\", function(){\n",
       "         LDAvis_load_lib(\"https://cdn.jsdelivr.net/gh/bmabey/pyLDAvis@3.3.1/pyLDAvis/js/ldavis.v3.0.0.js\", function(){\n",
       "                 new LDAvis(\"#\" + \"ldavis_el153851628209928006407508\", ldavis_el153851628209928006407508_data);\n",
       "            })\n",
       "         });\n",
       "}\n",
       "</script>"
      ],
      "text/plain": [
       "<IPython.core.display.HTML object>"
      ]
     },
     "execution_count": 63,
     "metadata": {},
     "output_type": "execute_result"
    }
   ],
   "source": [
    "lda_display = pyLDAvis.sklearn.prepare(lda_text_model, count_text_vectors, count_text_vectorizer, sort_topics=False)\n",
    "\n",
    "pyLDAvis.display(lda_display)"
   ]
  }
 ],
 "metadata": {
  "interpreter": {
   "hash": "b6672ba510bd43d5df0d34395a84685a825e41d35f5301d8abef98bca1680e82"
  },
  "kernelspec": {
   "display_name": "Python 3.9.9 64-bit ('base': conda)",
   "language": "python",
   "name": "python3"
  },
  "language_info": {
   "codemirror_mode": {
    "name": "ipython",
    "version": 3
   },
   "file_extension": ".py",
   "mimetype": "text/x-python",
   "name": "python",
   "nbconvert_exporter": "python",
   "pygments_lexer": "ipython3",
   "version": "3.9.9"
  },
  "orig_nbformat": 4
 },
 "nbformat": 4,
 "nbformat_minor": 2
}
