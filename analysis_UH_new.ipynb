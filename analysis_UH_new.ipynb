{
 "cells": [
  {
   "cell_type": "code",
   "execution_count": 2,
   "metadata": {},
   "outputs": [],
   "source": [
    "import matplotlib.pyplot as plt\n",
    "import seaborn as sns\n",
    "import pandas as pd\n",
    "import numpy as np\n",
    "import random\n",
    "import regex as re\n",
    "\n",
    "from nltk.corpus import stopwords\n",
    "# Need to uncomment the following line in order to download nltk stopwords:\n",
    "# nltk.download('stopwords')\n",
    "import spacy\n",
    "from textacy.extract import keyword_in_context\n",
    "\n",
    "from collections import Counter\n",
    "\n",
    "from sklearn.decomposition import NMF, TruncatedSVD\n",
    "\n",
    "import warnings\n",
    "warnings.filterwarnings(\"ignore\", category=DeprecationWarning)\n",
    "\n",
    "plt.style.use(style='seaborn')\n",
    "%matplotlib inline\n",
    "sns.set()"
   ]
  },
  {
   "cell_type": "markdown",
   "metadata": {},
   "source": [
    "# Import data set:"
   ]
  },
  {
   "cell_type": "code",
   "execution_count": 3,
   "metadata": {},
   "outputs": [
    {
     "data": {
      "text/plain": [
       "(9324, 5)"
      ]
     },
     "execution_count": 3,
     "metadata": {},
     "output_type": "execute_result"
    }
   ],
   "source": [
    "pd.options.mode.chained_assignment = None\n",
    "\n",
    "with open('data/dk_asylum_data.json', encoding='utf-8') as inputfile:\n",
    "    df_full = pd.read_json(inputfile)\n",
    "\n",
    "# Convert json to csv:\n",
    "df_full.to_csv('data/dk_asylum_data.csv', encoding='utf-8', index=False)\n",
    "\n",
    "df_full.shape\n"
   ]
  },
  {
   "cell_type": "markdown",
   "metadata": {},
   "source": [
    "## Keep cases marked as Unknown Homeland (Ukendt hjemland):"
   ]
  },
  {
   "cell_type": "code",
   "execution_count": 4,
   "metadata": {},
   "outputs": [
    {
     "data": {
      "text/plain": [
       "(192, 1)"
      ]
     },
     "execution_count": 4,
     "metadata": {},
     "output_type": "execute_result"
    }
   ],
   "source": [
    "df_ALL = df_full[df_full.country == \"Ukendt hjemland\"]\n",
    "\n",
    "# Drop redundant column:\n",
    "df_ALL.drop('hasText', axis=1, inplace=True)\n",
    "\n",
    "# Keep column 'text':\n",
    "df = df_ALL[['text']]\n",
    "\n",
    "df[\"text\"] = df[\"text\"].astype(str)\n",
    "\n",
    "df.shape\n",
    "\n",
    "#df.head()\n"
   ]
  },
  {
   "cell_type": "markdown",
   "metadata": {},
   "source": [
    "## Length of texts\n",
    "\n",
    "Create a numeric column in order to get a feel about the length of the texts. "
   ]
  },
  {
   "cell_type": "code",
   "execution_count": 5,
   "metadata": {},
   "outputs": [
    {
     "data": {
      "text/html": [
       "<div>\n",
       "<style scoped>\n",
       "    .dataframe tbody tr th:only-of-type {\n",
       "        vertical-align: middle;\n",
       "    }\n",
       "\n",
       "    .dataframe tbody tr th {\n",
       "        vertical-align: top;\n",
       "    }\n",
       "\n",
       "    .dataframe thead th {\n",
       "        text-align: right;\n",
       "    }\n",
       "</style>\n",
       "<table border=\"1\" class=\"dataframe\">\n",
       "  <thead>\n",
       "    <tr style=\"text-align: right;\">\n",
       "      <th></th>\n",
       "      <th>count</th>\n",
       "      <th>mean</th>\n",
       "      <th>std</th>\n",
       "      <th>min</th>\n",
       "      <th>25%</th>\n",
       "      <th>50%</th>\n",
       "      <th>75%</th>\n",
       "      <th>max</th>\n",
       "    </tr>\n",
       "  </thead>\n",
       "  <tbody>\n",
       "    <tr>\n",
       "      <th>length</th>\n",
       "      <td>192.0</td>\n",
       "      <td>5016.598958</td>\n",
       "      <td>2045.83413</td>\n",
       "      <td>1104.0</td>\n",
       "      <td>3522.0</td>\n",
       "      <td>4789.0</td>\n",
       "      <td>6148.75</td>\n",
       "      <td>13105.0</td>\n",
       "    </tr>\n",
       "  </tbody>\n",
       "</table>\n",
       "</div>"
      ],
      "text/plain": [
       "        count         mean         std     min     25%     50%      75%  \\\n",
       "length  192.0  5016.598958  2045.83413  1104.0  3522.0  4789.0  6148.75   \n",
       "\n",
       "            max  \n",
       "length  13105.0  "
      ]
     },
     "execution_count": 5,
     "metadata": {},
     "output_type": "execute_result"
    }
   ],
   "source": [
    "df['length'] = df['text'].str.len()\n",
    "\n",
    "df.describe().T"
   ]
  },
  {
   "cell_type": "markdown",
   "metadata": {},
   "source": [
    "## Boxplot:"
   ]
  },
  {
   "cell_type": "code",
   "execution_count": 6,
   "metadata": {},
   "outputs": [
    {
     "data": {
      "text/plain": [
       "<AxesSubplot:>"
      ]
     },
     "execution_count": 6,
     "metadata": {},
     "output_type": "execute_result"
    },
    {
     "data": {
      "image/png": "[encoded data removed]",
      "text/plain": [
       "<Figure size 432x288 with 1 Axes>"
      ]
     },
     "metadata": {},
     "output_type": "display_data"
    }
   ],
   "source": [
    "# Box plot:\n",
    "df['length'].plot(kind='box', vert=False)"
   ]
  },
  {
   "cell_type": "markdown",
   "metadata": {},
   "source": [
    "## Histogram:"
   ]
  },
  {
   "cell_type": "code",
   "execution_count": 7,
   "metadata": {},
   "outputs": [
    {
     "data": {
      "text/plain": [
       "<AxesSubplot:ylabel='Frequency'>"
      ]
     },
     "execution_count": 7,
     "metadata": {},
     "output_type": "execute_result"
    },
    {
     "data": {
      "image/png": "[encoded data removed]",
      "text/plain": [
       "<Figure size 432x288 with 1 Axes>"
      ]
     },
     "metadata": {},
     "output_type": "display_data"
    }
   ],
   "source": [
    "# Histogram:\n",
    "df['length'].plot(kind='hist', bins=30)\n"
   ]
  },
  {
   "cell_type": "markdown",
   "metadata": {},
   "source": [
    "# Create a pipeline:\n",
    "\n",
    "Below are the steps taken to process the texts."
   ]
  },
  {
   "cell_type": "code",
   "execution_count": 8,
   "metadata": {},
   "outputs": [],
   "source": [
    "stopwords_lower = list(map(lambda x: x.lower(), stopwords.words('danish')))\n",
    "\n",
    "STOPWORDS_DANISH = set(stopwords_lower)\n",
    "\n",
    "nlp = spacy.load(\"da_core_news_sm\")\n",
    "\n",
    "PUNCTUATION_TO_REMOVE = '–«!\"#$%&\\'()*+,-./:;<=>?@[\\\\]^_`{|}~»●·’“”'\n",
    "\n",
    "\n",
    "def remove_punctuation(text):\n",
    "    \"\"\"custom function to remove the punctuation\"\"\"\n",
    "    return text.translate(str.maketrans('', '', PUNCTUATION_TO_REMOVE))\n",
    "\n",
    "\n",
    "def remove_stopwords(tokens):\n",
    "    \"\"\"custom function to remove stopwords\"\"\"\n",
    "    return [t for t in tokens if t.lower() not in STOPWORDS_DANISH]\n",
    "\n",
    "\n",
    "def tokenize(text):\n",
    "    \"\"\"the following expression matches tokens consisting of at least one letter (\\p{L}), \n",
    "    preceded and followed by an arbitrary sequence of alphanumeric characters \n",
    "    (\\w includes digits, letters, and underscore) and hyphens (-)\"\"\"\n",
    "    return re.findall(r'[\\w-]*\\p{L}[\\w-]*', text)\n",
    "\n",
    "\n",
    "def drop_single_letter_words(text):\n",
    "    return [w for w in text if len(w) > 1]\n",
    "\n",
    "\n",
    "def lemmatize(text):\n",
    "    \"\"\"custom function to lemmatize text\"\"\"\n",
    "    doc = nlp(' '.join(text))\n",
    "    # pos_tagged_text = text.pos\n",
    "    return [token.lemma_ for token in doc]\n",
    "\n",
    "\n",
    "# def remove_junk(text):\n",
    "#     # Creating a spacy object\n",
    "#     doc = nlp(' '.join(text))\n",
    "#     # Checking if POS tag is X and printing them\n",
    "#     for token in doc:\n",
    "#         if token.pos_ == 'X':\n",
    "#             print(token.text)\n",
    "#     # Removing the tokens whose POS tag is junk.\n",
    "#     clean_doc = [token.text for token in doc if not token.pos_ == 'X']\n",
    "\n",
    "#     return clean_doc\n"
   ]
  },
  {
   "cell_type": "markdown",
   "metadata": {},
   "source": [
    "Steps can be added or removed from the pipeline."
   ]
  },
  {
   "cell_type": "code",
   "execution_count": 9,
   "metadata": {},
   "outputs": [],
   "source": [
    "pipeline = [str.lower, remove_punctuation, tokenize,\n",
    "            drop_single_letter_words, remove_stopwords, lemmatize]\n",
    "\n",
    "\n",
    "def process(text, pipeline):\n",
    "    tokens = text\n",
    "    for transform in pipeline:\n",
    "        tokens = transform(tokens)\n",
    "    return tokens\n"
   ]
  },
  {
   "cell_type": "code",
   "execution_count": 10,
   "metadata": {},
   "outputs": [],
   "source": [
    "# Apply the process pipeline:\n",
    "df['tokens'] = df['text'].apply(process, pipeline=pipeline)\n",
    "\n",
    "# Add column to see the number of tokens:\n",
    "df['num_tokens'] = df['tokens'].map(len)"
   ]
  },
  {
   "cell_type": "code",
   "execution_count": 11,
   "metadata": {},
   "outputs": [
    {
     "data": {
      "text/html": [
       "<div>\n",
       "<style scoped>\n",
       "    .dataframe tbody tr th:only-of-type {\n",
       "        vertical-align: middle;\n",
       "    }\n",
       "\n",
       "    .dataframe tbody tr th {\n",
       "        vertical-align: top;\n",
       "    }\n",
       "\n",
       "    .dataframe thead th {\n",
       "        text-align: right;\n",
       "    }\n",
       "</style>\n",
       "<table border=\"1\" class=\"dataframe\">\n",
       "  <thead>\n",
       "    <tr style=\"text-align: right;\">\n",
       "      <th></th>\n",
       "      <th>text</th>\n",
       "      <th>length</th>\n",
       "      <th>tokens</th>\n",
       "      <th>num_tokens</th>\n",
       "    </tr>\n",
       "  </thead>\n",
       "  <tbody>\n",
       "    <tr>\n",
       "      <th>201</th>\n",
       "      <td>Nævnet stadfæstede i november 2021 Udl...</td>\n",
       "      <td>4753</td>\n",
       "      <td>[nævn, stadfæste, november, udlændingestyrelse...</td>\n",
       "      <td>373</td>\n",
       "    </tr>\n",
       "    <tr>\n",
       "      <th>428</th>\n",
       "      <td>Nævnet stadfæstede i juni 2021 Udlændi...</td>\n",
       "      <td>3149</td>\n",
       "      <td>[nævn, stadfæste, juni, udlændingestyrelse, af...</td>\n",
       "      <td>243</td>\n",
       "    </tr>\n",
       "    <tr>\n",
       "      <th>464</th>\n",
       "      <td>Nævnet stadfæstede i juni 2021 Udlændi...</td>\n",
       "      <td>4433</td>\n",
       "      <td>[nævn, stadfæste, juni, udlændingestyrelse, af...</td>\n",
       "      <td>350</td>\n",
       "    </tr>\n",
       "    <tr>\n",
       "      <th>901</th>\n",
       "      <td>Nævnet stadfæstede i december 2020 Udl...</td>\n",
       "      <td>2664</td>\n",
       "      <td>[nævn, stadfæste, december, udlændingestyrelse...</td>\n",
       "      <td>207</td>\n",
       "    </tr>\n",
       "    <tr>\n",
       "      <th>1291</th>\n",
       "      <td>Nævnet hjemviste i juni 2020 Udlænding...</td>\n",
       "      <td>4626</td>\n",
       "      <td>[nævn, hjemviste, juni, udlændingestyrelse, af...</td>\n",
       "      <td>354</td>\n",
       "    </tr>\n",
       "  </tbody>\n",
       "</table>\n",
       "</div>"
      ],
      "text/plain": [
       "                                                   text  length  \\\n",
       "201           Nævnet stadfæstede i november 2021 Udl...    4753   \n",
       "428           Nævnet stadfæstede i juni 2021 Udlændi...    3149   \n",
       "464           Nævnet stadfæstede i juni 2021 Udlændi...    4433   \n",
       "901           Nævnet stadfæstede i december 2020 Udl...    2664   \n",
       "1291          Nævnet hjemviste i juni 2020 Udlænding...    4626   \n",
       "\n",
       "                                                 tokens  num_tokens  \n",
       "201   [nævn, stadfæste, november, udlændingestyrelse...         373  \n",
       "428   [nævn, stadfæste, juni, udlændingestyrelse, af...         243  \n",
       "464   [nævn, stadfæste, juni, udlændingestyrelse, af...         350  \n",
       "901   [nævn, stadfæste, december, udlændingestyrelse...         207  \n",
       "1291  [nævn, hjemviste, juni, udlændingestyrelse, af...         354  "
      ]
     },
     "execution_count": 11,
     "metadata": {},
     "output_type": "execute_result"
    }
   ],
   "source": [
    "df.head()"
   ]
  },
  {
   "cell_type": "markdown",
   "metadata": {},
   "source": [
    "# Frequency analysis:\n",
    "\n",
    "Here we count the most frequent tokens in the **whole** corpus.\n"
   ]
  },
  {
   "cell_type": "code",
   "execution_count": 12,
   "metadata": {},
   "outputs": [],
   "source": [
    "# Transform the counter into a Pandas DataFrame with the following function:\n",
    "\n",
    "\"\"\"\n",
    "The tokens make up the index of the DataFrame, while the frequency values are stored in a column named freq. \n",
    "The rows are sorted so that the most frequent words appear at the head.\n",
    "The last parameter of count_words defines a minimum frequency of tokens to be included in the result. \n",
    "Its default is set to 2 to cut down on tokens occurring only once.\n",
    "\"\"\"\n",
    "\n",
    "def count_words(df, column='tokens', preprocess=None, min_freq=2):\n",
    "    # process tokens and update counter\n",
    "    def update(doc):\n",
    "        tokens = doc if preprocess is None else preprocess(doc)\n",
    "        counter.update(tokens)\n",
    "    # create counter and run through all data\n",
    "    counter = Counter() \n",
    "    df[column].map(update)\n",
    "    # transform counter into a DataFrame\n",
    "    freq_df = pd.DataFrame.from_dict(counter, orient='index', columns=['freq']) \n",
    "    freq_df = freq_df.query('freq >= @min_freq')\n",
    "    freq_df.index.name = 'token'\n",
    "    return freq_df.sort_values('freq', ascending=False)"
   ]
  },
  {
   "cell_type": "code",
   "execution_count": 13,
   "metadata": {},
   "outputs": [
    {
     "data": {
      "text/html": [
       "<div>\n",
       "<style scoped>\n",
       "    .dataframe tbody tr th:only-of-type {\n",
       "        vertical-align: middle;\n",
       "    }\n",
       "\n",
       "    .dataframe tbody tr th {\n",
       "        vertical-align: top;\n",
       "    }\n",
       "\n",
       "    .dataframe thead th {\n",
       "        text-align: right;\n",
       "    }\n",
       "</style>\n",
       "<table border=\"1\" class=\"dataframe\">\n",
       "  <thead>\n",
       "    <tr style=\"text-align: right;\">\n",
       "      <th></th>\n",
       "      <th>freq</th>\n",
       "    </tr>\n",
       "    <tr>\n",
       "      <th>token</th>\n",
       "      <th></th>\n",
       "    </tr>\n",
       "  </thead>\n",
       "  <tbody>\n",
       "    <tr>\n",
       "      <th>ansøger</th>\n",
       "      <td>4889</td>\n",
       "    </tr>\n",
       "    <tr>\n",
       "      <th>flygtningenævn</th>\n",
       "      <td>1510</td>\n",
       "    </tr>\n",
       "    <tr>\n",
       "      <th>kuwait</th>\n",
       "      <td>1453</td>\n",
       "    </tr>\n",
       "    <tr>\n",
       "      <th>forklare</th>\n",
       "      <td>1252</td>\n",
       "    </tr>\n",
       "    <tr>\n",
       "      <th>oplyse</th>\n",
       "      <td>845</td>\n",
       "    </tr>\n",
       "    <tr>\n",
       "      <th>ansøge</th>\n",
       "      <td>838</td>\n",
       "    </tr>\n",
       "    <tr>\n",
       "      <th>vide</th>\n",
       "      <td>823</td>\n",
       "    </tr>\n",
       "    <tr>\n",
       "      <th>myndighed</th>\n",
       "      <td>817</td>\n",
       "    </tr>\n",
       "    <tr>\n",
       "      <th>mandlig</th>\n",
       "      <td>807</td>\n",
       "    </tr>\n",
       "    <tr>\n",
       "      <th>demonstration</th>\n",
       "      <td>745</td>\n",
       "    </tr>\n",
       "  </tbody>\n",
       "</table>\n",
       "</div>"
      ],
      "text/plain": [
       "                freq\n",
       "token               \n",
       "ansøger         4889\n",
       "flygtningenævn  1510\n",
       "kuwait          1453\n",
       "forklare        1252\n",
       "oplyse           845\n",
       "ansøge           838\n",
       "vide             823\n",
       "myndighed        817\n",
       "mandlig          807\n",
       "demonstration    745"
      ]
     },
     "execution_count": 13,
     "metadata": {},
     "output_type": "execute_result"
    }
   ],
   "source": [
    "# See ten most frequent words in the whole corpus:\n",
    "\n",
    "freq_df = count_words(df) \n",
    "freq_df.head(10)"
   ]
  },
  {
   "cell_type": "code",
   "execution_count": 14,
   "metadata": {},
   "outputs": [
    {
     "data": {
      "text/plain": [
       "[Text(0.5, 0, 'Frequency'), Text(0, 0.5, 'Token'), Text(0.5, 1.0, 'Top Words')]"
      ]
     },
     "execution_count": 14,
     "metadata": {},
     "output_type": "execute_result"
    },
    {
     "data": {
      "image/png": "[encoded data removed]",
      "text/plain": [
       "<Figure size 432x288 with 1 Axes>"
      ]
     },
     "metadata": {},
     "output_type": "display_data"
    }
   ],
   "source": [
    "# Plot the results:\n",
    "ax = freq_df.head(15).plot(kind='barh', width=0.95) \n",
    "ax.invert_yaxis()\n",
    "ax.set(xlabel='Frequency', ylabel='Token', title='Top Words')"
   ]
  },
  {
   "cell_type": "markdown",
   "metadata": {},
   "source": [
    "# TF-IDF Ranking:\n",
    "\n",
    "Rank tokens based on their TF-IDF score."
   ]
  },
  {
   "cell_type": "code",
   "execution_count": 15,
   "metadata": {},
   "outputs": [],
   "source": [
    "\"\"\"\n",
    "Each token is counted only once per document (counter.update(set(tokens))), \n",
    "and the IDF values are computed after counting. \n",
    "The parameter min_df serves as a filter for the long tail of infrequent words. \n",
    "The result of this function is a DataFrame.\n",
    "\"\"\"\n",
    "\n",
    "def compute_idf(df, column='tokens', preprocess=None, min_df=2):\n",
    "    def update(doc):\n",
    "        tokens = doc if preprocess is None else preprocess(doc) \n",
    "        counter.update(set(tokens))\n",
    "        # count tokens\n",
    "    counter = Counter() \n",
    "    df[column].map(update)\n",
    "        # create DataFrame and compute idf\n",
    "    idf_df = pd.DataFrame.from_dict(counter, orient='index', columns=['df']) \n",
    "    idf_df = idf_df.query('df >= @min_df')\n",
    "    idf_df['idf'] = np.log(len(df)/idf_df['df'])+0.1\n",
    "    idf_df.index.name = 'token'\n",
    "    return idf_df"
   ]
  },
  {
   "cell_type": "code",
   "execution_count": 16,
   "metadata": {},
   "outputs": [],
   "source": [
    "# Create a DataFrame containing the IDF values for each token (idf_df):\n",
    "\n",
    "idf_df = compute_idf(df)\n",
    "\n",
    "# Both the IDF and the frequency DataFrame have an index consisting of the tokens, \n",
    "# we can simply multiply the columns of both DataFrames to calculate the TF-IDF score for the terms:\n",
    "freq_df['tfidf'] = freq_df['freq'] * idf_df['idf']\n"
   ]
  },
  {
   "cell_type": "code",
   "execution_count": 17,
   "metadata": {},
   "outputs": [
    {
     "data": {
      "text/html": [
       "<div>\n",
       "<style scoped>\n",
       "    .dataframe tbody tr th:only-of-type {\n",
       "        vertical-align: middle;\n",
       "    }\n",
       "\n",
       "    .dataframe tbody tr th {\n",
       "        vertical-align: top;\n",
       "    }\n",
       "\n",
       "    .dataframe thead th {\n",
       "        text-align: right;\n",
       "    }\n",
       "</style>\n",
       "<table border=\"1\" class=\"dataframe\">\n",
       "  <thead>\n",
       "    <tr style=\"text-align: right;\">\n",
       "      <th></th>\n",
       "      <th>freq</th>\n",
       "      <th>tfidf</th>\n",
       "    </tr>\n",
       "    <tr>\n",
       "      <th>token</th>\n",
       "      <th></th>\n",
       "      <th></th>\n",
       "    </tr>\n",
       "  </thead>\n",
       "  <tbody>\n",
       "    <tr>\n",
       "      <th>klager</th>\n",
       "      <td>344</td>\n",
       "      <td>1050.889136</td>\n",
       "    </tr>\n",
       "    <tr>\n",
       "      <th>ansøger</th>\n",
       "      <td>4889</td>\n",
       "      <td>750.406181</td>\n",
       "    </tr>\n",
       "    <tr>\n",
       "      <th>ansøge</th>\n",
       "      <td>838</td>\n",
       "      <td>622.110129</td>\n",
       "    </tr>\n",
       "    <tr>\n",
       "      <th>kuwait</th>\n",
       "      <td>1453</td>\n",
       "      <td>523.491342</td>\n",
       "    </tr>\n",
       "    <tr>\n",
       "      <th>demonstration</th>\n",
       "      <td>745</td>\n",
       "      <td>449.909360</td>\n",
       "    </tr>\n",
       "    <tr>\n",
       "      <th>kvindelig</th>\n",
       "      <td>358</td>\n",
       "      <td>358.281583</td>\n",
       "    </tr>\n",
       "    <tr>\n",
       "      <th>ægtefælle</th>\n",
       "      <td>313</td>\n",
       "      <td>347.117041</td>\n",
       "    </tr>\n",
       "    <tr>\n",
       "      <th>eritrea</th>\n",
       "      <td>107</td>\n",
       "      <td>307.366993</td>\n",
       "    </tr>\n",
       "    <tr>\n",
       "      <th>forklare</th>\n",
       "      <td>1252</td>\n",
       "      <td>299.855953</td>\n",
       "    </tr>\n",
       "    <tr>\n",
       "      <th>bror</th>\n",
       "      <td>285</td>\n",
       "      <td>281.593543</td>\n",
       "    </tr>\n",
       "    <tr>\n",
       "      <th>mandlig</th>\n",
       "      <td>807</td>\n",
       "      <td>269.227185</td>\n",
       "    </tr>\n",
       "    <tr>\n",
       "      <th>deltage</th>\n",
       "      <td>409</td>\n",
       "      <td>246.997219</td>\n",
       "    </tr>\n",
       "    <tr>\n",
       "      <th>far</th>\n",
       "      <td>274</td>\n",
       "      <td>238.067367</td>\n",
       "    </tr>\n",
       "    <tr>\n",
       "      <th>familie</th>\n",
       "      <td>505</td>\n",
       "      <td>228.371400</td>\n",
       "    </tr>\n",
       "    <tr>\n",
       "      <th>bopæl</th>\n",
       "      <td>382</td>\n",
       "      <td>224.161706</td>\n",
       "    </tr>\n",
       "  </tbody>\n",
       "</table>\n",
       "</div>"
      ],
      "text/plain": [
       "               freq        tfidf\n",
       "token                           \n",
       "klager          344  1050.889136\n",
       "ansøger        4889   750.406181\n",
       "ansøge          838   622.110129\n",
       "kuwait         1453   523.491342\n",
       "demonstration   745   449.909360\n",
       "kvindelig       358   358.281583\n",
       "ægtefælle       313   347.117041\n",
       "eritrea         107   307.366993\n",
       "forklare       1252   299.855953\n",
       "bror            285   281.593543\n",
       "mandlig         807   269.227185\n",
       "deltage         409   246.997219\n",
       "far             274   238.067367\n",
       "familie         505   228.371400\n",
       "bopæl           382   224.161706"
      ]
     },
     "execution_count": 17,
     "metadata": {},
     "output_type": "execute_result"
    }
   ],
   "source": [
    "# Sort values based on their score:\n",
    "freq_df = freq_df.sort_values('tfidf', ascending=False)\n",
    "\n",
    "# See the top 15:\n",
    "freq_df.head(15)"
   ]
  },
  {
   "cell_type": "code",
   "execution_count": 18,
   "metadata": {},
   "outputs": [
    {
     "data": {
      "text/plain": [
       "[Text(0.5, 0, 'Weights'),\n",
       " Text(0, 0.5, 'Token'),\n",
       " Text(0.5, 1.0, 'Top 15 Words based on TF-IDF Ranking')]"
      ]
     },
     "execution_count": 18,
     "metadata": {},
     "output_type": "execute_result"
    },
    {
     "data": {
      "image/png": "[encoded data removed]",
      "text/plain": [
       "<Figure size 432x288 with 1 Axes>"
      ]
     },
     "metadata": {},
     "output_type": "display_data"
    }
   ],
   "source": [
    "# Plot the results:\n",
    "ax_tf_idf = freq_df['tfidf'].head(15).plot(kind='barh', width=0.95) \n",
    "ax_tf_idf.invert_yaxis()\n",
    "ax_tf_idf.set(xlabel='Weights', ylabel='Token', title='Top 15 Words based on TF-IDF Ranking')"
   ]
  },
  {
   "cell_type": "markdown",
   "metadata": {},
   "source": [
    "# Keyword in context (KWIC):\n",
    "\n",
    "KWIC analysis produces a list of text fragments of equal length showing the left and right context of a keyword."
   ]
  },
  {
   "cell_type": "code",
   "execution_count": 19,
   "metadata": {},
   "outputs": [],
   "source": [
    "\"\"\"\n",
    "The function iteratively collects the keyword contexts by applying the add_kwic function to each document with map. \n",
    "By default, the function returns a list of tuples of the form (left context, keyword, right context). \n",
    "If print_samples is greater than 0, a random sample of the results is printed. \n",
    "Sampling is especially useful with lots of documents because the first entries of the list \n",
    "would otherwise stem from a single or a very small number of documents.\n",
    "\"\"\"\n",
    "\n",
    "def kwic(doc_series, keyword, window=35, print_samples=5):\n",
    "    def add_kwic(text):\n",
    "        kwic_list.extend(keyword_in_context(text, keyword, ignore_case=True, window_width=window))\n",
    "\n",
    "    kwic_list = []\n",
    "    doc_series.map(add_kwic)\n",
    "\n",
    "    if print_samples is None or print_samples == 0:\n",
    "        return kwic_list\n",
    "    else:\n",
    "        k = min(print_samples, len(kwic_list))\n",
    "        print(f'{k} random samples out of {len(kwic_list)} ' +\n",
    "              f\"contexts for '{keyword}':\")\n",
    "        for sample in random.sample(list(kwic_list), k):\n",
    "            print(re.sub(r'[\\n\\t]', ' ', sample[0]) + ' ' +\n",
    "                  sample[1]+' ' +\n",
    "                  re.sub(r'[\\n\\t]', ' ', sample[2]))\n"
   ]
  },
  {
   "cell_type": "markdown",
   "metadata": {},
   "source": [
    "Bellow we apply KWIC for `stk` keyword found from the frequency analysis and print 10 random context appearances.\n",
    "\n",
    "The call is made to the original untokenized & unprocessed dataset."
   ]
  },
  {
   "cell_type": "code",
   "execution_count": 20,
   "metadata": {},
   "outputs": [
    {
     "name": "stdout",
     "output_type": "stream",
     "text": [
      "10 random samples out of 380 contexts for 'stk':\n",
      " omfattet af udlændingelovens § 7,  stk . 2. Nævnet har ikke fundet anledni\n",
      "ende stoffer § 3, stk. 1, jf. § 2,  stk . 4, jf. bekendtgørelse om euforise\n",
      "udlændingelovens § 7, stk. 1 eller  stk . 2. En ansøgning om humanitær opho\n",
      "jf. § 19, stk. 2, nr. 1 og § 19 a,  stk . 2, jf. § 26, stk. 1. Udlændingest\n",
      "dlændingelovens § 7, stk. 1, eller  stk . 2, er opfyldt. Flygtningenævnet s\n",
      "ingelovens § 11, stk. 2, jf. § 19,  stk . 2, nr. 1 og § 19 a, stk. 2, jf. §\n",
      "vens § 19, stk. 2, nr. 1, og § 19,  stk . 7, 1. pkt., jf. § 26, stk. 1, ide\n",
      "i medfør af udlændingelovens §§ 7,  stk . 1 eller 8, stk. 1. Klageren har t\n",
      "siko for overgreb omfattet af § 7,  stk . 2. Det bemærkes at Flygtningenævn\n",
      "ølgelse, jf. udlændingelovens § 7,  stk . 1, eller har behov for beskyttels\n"
     ]
    }
   ],
   "source": [
    "kwic(df['text'], 'stk', print_samples=10)"
   ]
  },
  {
   "cell_type": "markdown",
   "metadata": {},
   "source": [
    "# N-gram analysis:"
   ]
  },
  {
   "cell_type": "code",
   "execution_count": 21,
   "metadata": {},
   "outputs": [],
   "source": [
    "\"\"\"\n",
    "Create the bigrams on all tokens but keep only those that do not contain any stop words.\n",
    "\"\"\"\n",
    "\n",
    "def ngrams(tokens, n=2, sep=' ', stopwords=set()):\n",
    "    return [sep.join(ngram) for ngram in zip(*[tokens[i:] for i in range(n)]) \n",
    "            if len([t for t in ngram if t in stopwords]) == 0]\n"
   ]
  },
  {
   "cell_type": "markdown",
   "metadata": {},
   "source": [
    "Add a column to the dataset containing all 'bigrams'.\n",
    "\n",
    "Then apply `count_words` in order to determing the 10 most popular ones."
   ]
  },
  {
   "cell_type": "code",
   "execution_count": 22,
   "metadata": {},
   "outputs": [
    {
     "data": {
      "text/html": [
       "<div>\n",
       "<style scoped>\n",
       "    .dataframe tbody tr th:only-of-type {\n",
       "        vertical-align: middle;\n",
       "    }\n",
       "\n",
       "    .dataframe tbody tr th {\n",
       "        vertical-align: top;\n",
       "    }\n",
       "\n",
       "    .dataframe thead th {\n",
       "        text-align: right;\n",
       "    }\n",
       "</style>\n",
       "<table border=\"1\" class=\"dataframe\">\n",
       "  <thead>\n",
       "    <tr style=\"text-align: right;\">\n",
       "      <th></th>\n",
       "      <th>freq</th>\n",
       "    </tr>\n",
       "    <tr>\n",
       "      <th>token</th>\n",
       "      <th></th>\n",
       "    </tr>\n",
       "  </thead>\n",
       "  <tbody>\n",
       "    <tr>\n",
       "      <th>mandlige ansøger</th>\n",
       "      <td>502</td>\n",
       "    </tr>\n",
       "    <tr>\n",
       "      <th>udlændingestyrelsens afgørelse</th>\n",
       "      <td>398</td>\n",
       "    </tr>\n",
       "    <tr>\n",
       "      <th>lagt vægt</th>\n",
       "      <td>282</td>\n",
       "    </tr>\n",
       "    <tr>\n",
       "      <th>kvindelige ansøger</th>\n",
       "      <td>280</td>\n",
       "    </tr>\n",
       "    <tr>\n",
       "      <th>flygtningenævnet finder</th>\n",
       "      <td>251</td>\n",
       "    </tr>\n",
       "    <tr>\n",
       "      <th>asylmotiv henvist</th>\n",
       "      <td>237</td>\n",
       "    </tr>\n",
       "    <tr>\n",
       "      <th>udlændingelovens stk</th>\n",
       "      <td>235</td>\n",
       "    </tr>\n",
       "    <tr>\n",
       "      <th>ansøgerens forklaring</th>\n",
       "      <td>230</td>\n",
       "    </tr>\n",
       "    <tr>\n",
       "      <th>forklaret divergerende</th>\n",
       "      <td>228</td>\n",
       "    </tr>\n",
       "    <tr>\n",
       "      <th>afgørelse vedrørende</th>\n",
       "      <td>189</td>\n",
       "    </tr>\n",
       "  </tbody>\n",
       "</table>\n",
       "</div>"
      ],
      "text/plain": [
       "                                freq\n",
       "token                               \n",
       "mandlige ansøger                 502\n",
       "udlændingestyrelsens afgørelse   398\n",
       "lagt vægt                        282\n",
       "kvindelige ansøger               280\n",
       "flygtningenævnet finder          251\n",
       "asylmotiv henvist                237\n",
       "udlændingelovens stk             235\n",
       "ansøgerens forklaring            230\n",
       "forklaret divergerende           228\n",
       "afgørelse vedrørende             189"
      ]
     },
     "execution_count": 22,
     "metadata": {},
     "output_type": "execute_result"
    }
   ],
   "source": [
    "df['bigrams'] = df['text'].apply(process, pipeline=[str.lower, tokenize]).apply(ngrams, n=2, stopwords=STOPWORDS_DANISH)\n",
    "\n",
    "count_words(df, 'bigrams').head(10)"
   ]
  },
  {
   "cell_type": "markdown",
   "metadata": {},
   "source": [
    "# Topic Modelling:"
   ]
  },
  {
   "cell_type": "markdown",
   "metadata": {},
   "source": [
    "## NMF:"
   ]
  },
  {
   "cell_type": "code",
   "execution_count": 23,
   "metadata": {},
   "outputs": [
    {
     "data": {
      "text/plain": [
       "(192, 1470)"
      ]
     },
     "execution_count": 23,
     "metadata": {},
     "output_type": "execute_result"
    }
   ],
   "source": [
    "from sklearn.feature_extraction.text import TfidfVectorizer\n",
    "\n",
    "tfidf_text = TfidfVectorizer(stop_words = STOPWORDS_DANISH, min_df = 5, max_df = 0.7)\n",
    "vectors_text = tfidf_text.fit_transform(df['text'])\n",
    "vectors_text.shape"
   ]
  },
  {
   "cell_type": "code",
   "execution_count": 24,
   "metadata": {},
   "outputs": [
    {
     "name": "stderr",
     "output_type": "stream",
     "text": [
      "/Users/jnap/opt/anaconda3/lib/python3.9/site-packages/sklearn/decomposition/_nmf.py:289: FutureWarning: The 'init' value, when 'init=None' and n_components is less than n_samples and n_features, will be changed from 'nndsvd' to 'nndsvda' in 1.1 (renaming of 0.26).\n",
      "  warnings.warn(\n"
     ]
    }
   ],
   "source": [
    "nmf_text_model = NMF(n_components=10, random_state=42)\n",
    "\n",
    "W_text_matrix = nmf_text_model.fit_transform(vectors_text)\n",
    "H_text_matrix = nmf_text_model.components_\n",
    "\n",
    "def display_topics(model, features, num_top_words=5):\n",
    "    for topic, word_vector in enumerate(model.components_):\n",
    "        total = word_vector.sum()\n",
    "        largest = word_vector.argsort()[::-1] # inverts sort order\n",
    "        print(\"\\nTopic %02d\" % topic)\n",
    "        for i in range(0, num_top_words):\n",
    "            print(\" %s (%2.2f)\" % (features[largest[i]], word_vector[largest[i]]*100.0/total))"
   ]
  },
  {
   "cell_type": "markdown",
   "metadata": {},
   "source": [
    "Display topics:\n",
    "\n",
    "Presenting topics, along with words and percentages with which the words contribute to each of the topic."
   ]
  },
  {
   "cell_type": "code",
   "execution_count": 25,
   "metadata": {},
   "outputs": [
    {
     "name": "stdout",
     "output_type": "stream",
     "text": [
      "\n",
      "Topic 00\n",
      " mandlige (6.08)\n",
      " ansøger (5.02)\n",
      " ansøgerne (4.57)\n",
      " kvindelige (2.29)\n",
      " ansøgernes (1.77)\n",
      "\n",
      "Topic 01\n",
      " demonstrationer (1.25)\n",
      " demonstration (1.15)\n",
      " demonstrationen (1.12)\n",
      " deltaget (0.95)\n",
      " rettigheder (0.92)\n",
      "\n",
      "Topic 02\n",
      " klageren (11.00)\n",
      " klagerens (5.27)\n",
      " jf (1.60)\n",
      " 19 (1.31)\n",
      " svig (1.30)\n",
      "\n",
      "Topic 03\n",
      " eritrea (7.68)\n",
      " sudan (3.50)\n",
      " etiopien (1.93)\n",
      " tigrinya (1.44)\n",
      " eritreiske (1.20)\n",
      "\n",
      "Topic 04\n",
      " mandlige (1.86)\n",
      " kvindelige (1.68)\n",
      " ansøger (1.65)\n",
      " ansøgerne (1.41)\n",
      " ansøgers (1.40)\n",
      "\n",
      "Topic 05\n",
      " børn (0.96)\n",
      " lægges (0.94)\n",
      " søn (0.77)\n",
      " familiemedlemmer (0.77)\n",
      " bidoonere (0.76)\n",
      "\n",
      "Topic 06\n",
      " brødre (1.52)\n",
      " bror (1.46)\n",
      " udlænding (1.20)\n",
      " far (1.14)\n",
      " divergerende (1.12)\n",
      "\n",
      "Topic 07\n",
      " navn (0.81)\n",
      " 2017 (0.80)\n",
      " statsborger (0.76)\n",
      " ihjel (0.76)\n",
      " ægtefælle (0.72)\n",
      "\n",
      "Topic 08\n",
      " hjemlandet (1.55)\n",
      " begyndelsen (1.28)\n",
      " individuel (1.20)\n",
      " bemærkes (1.13)\n",
      " 2018 (1.10)\n",
      "\n",
      "Topic 09\n",
      " forklarede (1.79)\n",
      " bopælen (1.21)\n",
      " far (1.08)\n",
      " kom (1.01)\n",
      " tog (0.99)\n"
     ]
    }
   ],
   "source": [
    "display_topics(nmf_text_model, tfidf_text.get_feature_names_out())"
   ]
  },
  {
   "cell_type": "markdown",
   "metadata": {},
   "source": [
    "See how many documents could be assigned mainly to each topic: \n",
    "\n",
    "- Calculate using the document - topic matrix and summing the individual topic contributions over all documents.\n",
    "\n",
    "Normalizing them with the total sum and multiplying by 100 gives a percentage value:"
   ]
  },
  {
   "cell_type": "code",
   "execution_count": 26,
   "metadata": {},
   "outputs": [
    {
     "data": {
      "text/plain": [
       "array([13.14753303, 12.42013457,  6.14324739,  6.3761418 ,  8.12267854,\n",
       "        8.30309525, 12.12598638, 15.16226955,  7.90400961, 10.29490388])"
      ]
     },
     "execution_count": 26,
     "metadata": {},
     "output_type": "execute_result"
    }
   ],
   "source": [
    "W_text_matrix.sum(axis=0)/W_text_matrix.sum()*100.0"
   ]
  },
  {
   "cell_type": "markdown",
   "metadata": {},
   "source": [
    "## Latent Semantic Analysis/Indexing:"
   ]
  },
  {
   "cell_type": "markdown",
   "metadata": {},
   "source": [
    "Similar analysis to NMF but using a different algorithm: Singular Value Decomposition (SVD)."
   ]
  },
  {
   "cell_type": "code",
   "execution_count": 27,
   "metadata": {},
   "outputs": [],
   "source": [
    "svd_model = TruncatedSVD(n_components=10, random_state=42)\n",
    "\n",
    "W_svd_text_matrix = svd_model.fit_transform(vectors_text)\n",
    "H_svd_text_matrix = svd_model.components_"
   ]
  },
  {
   "cell_type": "code",
   "execution_count": 28,
   "metadata": {},
   "outputs": [
    {
     "name": "stdout",
     "output_type": "stream",
     "text": [
      "\n",
      "Topic 00\n",
      " mandlige (1.51)\n",
      " ansøger (1.35)\n",
      " ansøgerne (1.18)\n",
      " kvindelige (0.70)\n",
      " ansøgers (0.55)\n",
      "\n",
      "Topic 01\n",
      " mandlige (-3.24)\n",
      " ansøger (-2.51)\n",
      " ansøgerne (-2.34)\n",
      " kvindelige (-1.36)\n",
      " ansøgers (-1.08)\n",
      "\n",
      "Topic 02\n",
      " klageren (-79.60)\n",
      " klagerens (-38.18)\n",
      " jf (-10.63)\n",
      " svig (-9.47)\n",
      " 19 (-9.33)\n",
      "\n",
      "Topic 03\n",
      " eritrea (41.21)\n",
      " sudan (19.04)\n",
      " etiopien (10.51)\n",
      " tigrinya (7.74)\n",
      " år (7.36)\n",
      "\n",
      "Topic 04\n",
      " bar (52.49)\n",
      " oplysnings (41.49)\n",
      " motivsamtalen (40.14)\n",
      " videre (36.77)\n",
      " resultat (36.10)\n",
      "\n",
      "Topic 05\n",
      " eritrea (9.94)\n",
      " lægges (9.08)\n",
      " demonstrationen (7.89)\n",
      " børn (7.19)\n",
      " hvert (6.75)\n",
      "\n",
      "Topic 06\n",
      " bror (-46.76)\n",
      " brødre (-45.90)\n",
      " udlænding (-43.03)\n",
      " ansøgerne (-40.08)\n",
      " følger (-39.35)\n",
      "\n",
      "Topic 07\n",
      " ægtefælle (8.26)\n",
      " 2017 (6.67)\n",
      " danmark (6.62)\n",
      " oplyste (6.46)\n",
      " navn (6.44)\n",
      "\n",
      "Topic 08\n",
      " hjemlandet (-44.72)\n",
      " individuel (-31.39)\n",
      " konkret (-30.32)\n",
      " efteråret (-30.27)\n",
      " bemærkes (-28.84)\n",
      "\n",
      "Topic 09\n",
      " far (25.61)\n",
      " bopælen (20.47)\n",
      " hjemlandet (15.80)\n",
      " begyndelsen (13.66)\n",
      " libyen (13.64)\n"
     ]
    }
   ],
   "source": [
    "display_topics(svd_model, tfidf_text.get_feature_names_out())"
   ]
  },
  {
   "cell_type": "markdown",
   "metadata": {},
   "source": [
    "The results are pretty much the same as with NMF. \n",
    "\n",
    "The main difference is that SVD allows for negative values. This means that contributions of individual words can be negative.\n",
    "\n",
    "SVD presents words in documents which \"reject\" the corresponding topic."
   ]
  }
 ],
 "metadata": {
  "interpreter": {
   "hash": "b6672ba510bd43d5df0d34395a84685a825e41d35f5301d8abef98bca1680e82"
  },
  "kernelspec": {
   "display_name": "Python 3.9.9 64-bit ('base': conda)",
   "language": "python",
   "name": "python3"
  },
  "language_info": {
   "codemirror_mode": {
    "name": "ipython",
    "version": 3
   },
   "file_extension": ".py",
   "mimetype": "text/x-python",
   "name": "python",
   "nbconvert_exporter": "python",
   "pygments_lexer": "ipython3",
   "version": "3.9.9"
  },
  "orig_nbformat": 4
 },
 "nbformat": 4,
 "nbformat_minor": 2
}
