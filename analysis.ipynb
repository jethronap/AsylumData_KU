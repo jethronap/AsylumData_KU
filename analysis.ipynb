{
 "cells": [
  {
   "cell_type": "code",
   "execution_count": 17,
   "metadata": {},
   "outputs": [],
   "source": [
    "import pandas as pd\n",
    "import numpy as np\n",
    "import csv\n",
    "import json"
   ]
  },
  {
   "cell_type": "markdown",
   "metadata": {},
   "source": [
    "# Import data set:"
   ]
  },
  {
   "cell_type": "code",
   "execution_count": 18,
   "metadata": {},
   "outputs": [
    {
     "data": {
      "text/plain": [
       "(9324, 5)"
      ]
     },
     "execution_count": 18,
     "metadata": {},
     "output_type": "execute_result"
    }
   ],
   "source": [
    "pd.options.mode.chained_assignment = None\n",
    "\n",
    "with open('data/dk_asylum_data.json', encoding='utf-8') as inputfile:\n",
    "    df = pd.read_json(inputfile)\n",
    "\n",
    "# Convert json to csv:\n",
    "df.to_csv('data/dk_asylum_data.csv', encoding='utf-8', index=False)\n",
    "\n",
    "df.shape"
   ]
  },
  {
   "cell_type": "markdown",
   "metadata": {},
   "source": [
    "# Data preprocessing:\n",
    "\n",
    "Keep cases of Unknown Homeland (Ukendt hjemland):"
   ]
  },
  {
   "cell_type": "code",
   "execution_count": 19,
   "metadata": {},
   "outputs": [
    {
     "data": {
      "text/plain": [
       "<bound method NDFrame.head of         id                                      asylum_motive  \\\n",
       "201    201                                  [Etniske forhold]   \n",
       "428    428            [Kriminelle forhold,  Militære forhold]   \n",
       "464    464  [Sur Place,  LGBT,  Politiske forhold,  Etnisk...   \n",
       "901    901  [Agents of Persecution,  Anden kønsrelateret f...   \n",
       "1291  1291                  [Militære forhold,  Nationalitet]   \n",
       "...    ...                                                ...   \n",
       "6446  6446                            [Agents of Persecution]   \n",
       "7007  7007  [Privatretlig forhold,  Tilknyt bistand oprørs...   \n",
       "7018  7018                                 [Militære forhold]   \n",
       "7177  7177              [Privatretlig forhold,  Nationalitet]   \n",
       "7178  7178                      [Beviskrav og bevisvurdering]   \n",
       "\n",
       "              country                                               text  \n",
       "201   Ukendt hjemland          Nævnet stadfæstede i november 2021 Udl...  \n",
       "428   Ukendt hjemland          Nævnet stadfæstede i juni 2021 Udlændi...  \n",
       "464   Ukendt hjemland          Nævnet stadfæstede i juni 2021 Udlændi...  \n",
       "901   Ukendt hjemland          Nævnet stadfæstede i december 2020 Udl...  \n",
       "1291  Ukendt hjemland          Nævnet hjemviste i juni 2020 Udlænding...  \n",
       "...               ...                                                ...  \n",
       "6446  Ukendt hjemland          Nævnet stadfæstede i februar 2016 Udlæ...  \n",
       "7007  Ukendt hjemland          Nævnet stadfæstede i juli 2015 Udlændi...  \n",
       "7018  Ukendt hjemland          Nævnet hjemviste i juli 2015 Udlænding...  \n",
       "7177  Ukendt hjemland          Nævnet stadfæstede i maj 2015 Udlændin...  \n",
       "7178  Ukendt hjemland          Nævnet stadfæstede i maj 2015 Udlændin...  \n",
       "\n",
       "[192 rows x 4 columns]>"
      ]
     },
     "execution_count": 19,
     "metadata": {},
     "output_type": "execute_result"
    }
   ],
   "source": [
    "df = df[df.country == \"Ukendt hjemland\"]\n",
    "\n",
    "# Drop redundant column:\n",
    "df.drop('hasText', axis=1, inplace=True)\n",
    "\n",
    "df[\"text\"] = df[\"text\"].astype(str)\n",
    "df.shape\n",
    "df.head"
   ]
  },
  {
   "cell_type": "markdown",
   "metadata": {},
   "source": [
    "## Lower casing:"
   ]
  },
  {
   "cell_type": "code",
   "execution_count": 20,
   "metadata": {},
   "outputs": [
    {
     "data": {
      "text/html": [
       "<div>\n",
       "<style scoped>\n",
       "    .dataframe tbody tr th:only-of-type {\n",
       "        vertical-align: middle;\n",
       "    }\n",
       "\n",
       "    .dataframe tbody tr th {\n",
       "        vertical-align: top;\n",
       "    }\n",
       "\n",
       "    .dataframe thead th {\n",
       "        text-align: right;\n",
       "    }\n",
       "</style>\n",
       "<table border=\"1\" class=\"dataframe\">\n",
       "  <thead>\n",
       "    <tr style=\"text-align: right;\">\n",
       "      <th></th>\n",
       "      <th>id</th>\n",
       "      <th>asylum_motive</th>\n",
       "      <th>country</th>\n",
       "      <th>text</th>\n",
       "      <th>text_lower</th>\n",
       "    </tr>\n",
       "  </thead>\n",
       "  <tbody>\n",
       "    <tr>\n",
       "      <th>201</th>\n",
       "      <td>201</td>\n",
       "      <td>[Etniske forhold]</td>\n",
       "      <td>Ukendt hjemland</td>\n",
       "      <td>Nævnet stadfæstede i november 2021 Udl...</td>\n",
       "      <td>nævnet stadfæstede i november 2021 udl...</td>\n",
       "    </tr>\n",
       "    <tr>\n",
       "      <th>428</th>\n",
       "      <td>428</td>\n",
       "      <td>[Kriminelle forhold,  Militære forhold]</td>\n",
       "      <td>Ukendt hjemland</td>\n",
       "      <td>Nævnet stadfæstede i juni 2021 Udlændi...</td>\n",
       "      <td>nævnet stadfæstede i juni 2021 udlændi...</td>\n",
       "    </tr>\n",
       "    <tr>\n",
       "      <th>464</th>\n",
       "      <td>464</td>\n",
       "      <td>[Sur Place,  LGBT,  Politiske forhold,  Etnisk...</td>\n",
       "      <td>Ukendt hjemland</td>\n",
       "      <td>Nævnet stadfæstede i juni 2021 Udlændi...</td>\n",
       "      <td>nævnet stadfæstede i juni 2021 udlændi...</td>\n",
       "    </tr>\n",
       "    <tr>\n",
       "      <th>901</th>\n",
       "      <td>901</td>\n",
       "      <td>[Agents of Persecution,  Anden kønsrelateret f...</td>\n",
       "      <td>Ukendt hjemland</td>\n",
       "      <td>Nævnet stadfæstede i december 2020 Udl...</td>\n",
       "      <td>nævnet stadfæstede i december 2020 udl...</td>\n",
       "    </tr>\n",
       "    <tr>\n",
       "      <th>1291</th>\n",
       "      <td>1291</td>\n",
       "      <td>[Militære forhold,  Nationalitet]</td>\n",
       "      <td>Ukendt hjemland</td>\n",
       "      <td>Nævnet hjemviste i juni 2020 Udlænding...</td>\n",
       "      <td>nævnet hjemviste i juni 2020 udlænding...</td>\n",
       "    </tr>\n",
       "  </tbody>\n",
       "</table>\n",
       "</div>"
      ],
      "text/plain": [
       "        id                                      asylum_motive  \\\n",
       "201    201                                  [Etniske forhold]   \n",
       "428    428            [Kriminelle forhold,  Militære forhold]   \n",
       "464    464  [Sur Place,  LGBT,  Politiske forhold,  Etnisk...   \n",
       "901    901  [Agents of Persecution,  Anden kønsrelateret f...   \n",
       "1291  1291                  [Militære forhold,  Nationalitet]   \n",
       "\n",
       "              country                                               text  \\\n",
       "201   Ukendt hjemland          Nævnet stadfæstede i november 2021 Udl...   \n",
       "428   Ukendt hjemland          Nævnet stadfæstede i juni 2021 Udlændi...   \n",
       "464   Ukendt hjemland          Nævnet stadfæstede i juni 2021 Udlændi...   \n",
       "901   Ukendt hjemland          Nævnet stadfæstede i december 2020 Udl...   \n",
       "1291  Ukendt hjemland          Nævnet hjemviste i juni 2020 Udlænding...   \n",
       "\n",
       "                                             text_lower  \n",
       "201           nævnet stadfæstede i november 2021 udl...  \n",
       "428           nævnet stadfæstede i juni 2021 udlændi...  \n",
       "464           nævnet stadfæstede i juni 2021 udlændi...  \n",
       "901           nævnet stadfæstede i december 2020 udl...  \n",
       "1291          nævnet hjemviste i juni 2020 udlænding...  "
      ]
     },
     "execution_count": 20,
     "metadata": {},
     "output_type": "execute_result"
    }
   ],
   "source": [
    "df[\"text_lower\"] = df[\"text\"].str.lower()\n",
    "df.head()"
   ]
  },
  {
   "cell_type": "markdown",
   "metadata": {},
   "source": [
    "## Punctuation removal:"
   ]
  },
  {
   "cell_type": "code",
   "execution_count": 21,
   "metadata": {},
   "outputs": [
    {
     "data": {
      "text/html": [
       "<div>\n",
       "<style scoped>\n",
       "    .dataframe tbody tr th:only-of-type {\n",
       "        vertical-align: middle;\n",
       "    }\n",
       "\n",
       "    .dataframe tbody tr th {\n",
       "        vertical-align: top;\n",
       "    }\n",
       "\n",
       "    .dataframe thead th {\n",
       "        text-align: right;\n",
       "    }\n",
       "</style>\n",
       "<table border=\"1\" class=\"dataframe\">\n",
       "  <thead>\n",
       "    <tr style=\"text-align: right;\">\n",
       "      <th></th>\n",
       "      <th>id</th>\n",
       "      <th>asylum_motive</th>\n",
       "      <th>country</th>\n",
       "      <th>text</th>\n",
       "      <th>text_lower</th>\n",
       "      <th>text_wo_punct</th>\n",
       "    </tr>\n",
       "  </thead>\n",
       "  <tbody>\n",
       "    <tr>\n",
       "      <th>201</th>\n",
       "      <td>201</td>\n",
       "      <td>[Etniske forhold]</td>\n",
       "      <td>Ukendt hjemland</td>\n",
       "      <td>Nævnet stadfæstede i november 2021 Udl...</td>\n",
       "      <td>nævnet stadfæstede i november 2021 udl...</td>\n",
       "      <td>nævnet stadfæstede i november 2021 udl...</td>\n",
       "    </tr>\n",
       "    <tr>\n",
       "      <th>428</th>\n",
       "      <td>428</td>\n",
       "      <td>[Kriminelle forhold,  Militære forhold]</td>\n",
       "      <td>Ukendt hjemland</td>\n",
       "      <td>Nævnet stadfæstede i juni 2021 Udlændi...</td>\n",
       "      <td>nævnet stadfæstede i juni 2021 udlændi...</td>\n",
       "      <td>nævnet stadfæstede i juni 2021 udlændi...</td>\n",
       "    </tr>\n",
       "    <tr>\n",
       "      <th>464</th>\n",
       "      <td>464</td>\n",
       "      <td>[Sur Place,  LGBT,  Politiske forhold,  Etnisk...</td>\n",
       "      <td>Ukendt hjemland</td>\n",
       "      <td>Nævnet stadfæstede i juni 2021 Udlændi...</td>\n",
       "      <td>nævnet stadfæstede i juni 2021 udlændi...</td>\n",
       "      <td>nævnet stadfæstede i juni 2021 udlændi...</td>\n",
       "    </tr>\n",
       "    <tr>\n",
       "      <th>901</th>\n",
       "      <td>901</td>\n",
       "      <td>[Agents of Persecution,  Anden kønsrelateret f...</td>\n",
       "      <td>Ukendt hjemland</td>\n",
       "      <td>Nævnet stadfæstede i december 2020 Udl...</td>\n",
       "      <td>nævnet stadfæstede i december 2020 udl...</td>\n",
       "      <td>nævnet stadfæstede i december 2020 udl...</td>\n",
       "    </tr>\n",
       "    <tr>\n",
       "      <th>1291</th>\n",
       "      <td>1291</td>\n",
       "      <td>[Militære forhold,  Nationalitet]</td>\n",
       "      <td>Ukendt hjemland</td>\n",
       "      <td>Nævnet hjemviste i juni 2020 Udlænding...</td>\n",
       "      <td>nævnet hjemviste i juni 2020 udlænding...</td>\n",
       "      <td>nævnet hjemviste i juni 2020 udlænding...</td>\n",
       "    </tr>\n",
       "  </tbody>\n",
       "</table>\n",
       "</div>"
      ],
      "text/plain": [
       "        id                                      asylum_motive  \\\n",
       "201    201                                  [Etniske forhold]   \n",
       "428    428            [Kriminelle forhold,  Militære forhold]   \n",
       "464    464  [Sur Place,  LGBT,  Politiske forhold,  Etnisk...   \n",
       "901    901  [Agents of Persecution,  Anden kønsrelateret f...   \n",
       "1291  1291                  [Militære forhold,  Nationalitet]   \n",
       "\n",
       "              country                                               text  \\\n",
       "201   Ukendt hjemland          Nævnet stadfæstede i november 2021 Udl...   \n",
       "428   Ukendt hjemland          Nævnet stadfæstede i juni 2021 Udlændi...   \n",
       "464   Ukendt hjemland          Nævnet stadfæstede i juni 2021 Udlændi...   \n",
       "901   Ukendt hjemland          Nævnet stadfæstede i december 2020 Udl...   \n",
       "1291  Ukendt hjemland          Nævnet hjemviste i juni 2020 Udlænding...   \n",
       "\n",
       "                                             text_lower  \\\n",
       "201           nævnet stadfæstede i november 2021 udl...   \n",
       "428           nævnet stadfæstede i juni 2021 udlændi...   \n",
       "464           nævnet stadfæstede i juni 2021 udlændi...   \n",
       "901           nævnet stadfæstede i december 2020 udl...   \n",
       "1291          nævnet hjemviste i juni 2020 udlænding...   \n",
       "\n",
       "                                          text_wo_punct  \n",
       "201           nævnet stadfæstede i november 2021 udl...  \n",
       "428           nævnet stadfæstede i juni 2021 udlændi...  \n",
       "464           nævnet stadfæstede i juni 2021 udlændi...  \n",
       "901           nævnet stadfæstede i december 2020 udl...  \n",
       "1291          nævnet hjemviste i juni 2020 udlænding...  "
      ]
     },
     "execution_count": 21,
     "metadata": {},
     "output_type": "execute_result"
    }
   ],
   "source": [
    "PUNCTUATION_TO_REMOVE = '–«!\"#$%&\\'()*+,-./:;<=>?@[\\\\]^_`{|}~»●·’“”'\n",
    "\n",
    "\n",
    "def remove_punctuation(text):\n",
    "    \"\"\"custom function to remove the punctuation\"\"\"\n",
    "    return text.translate(str.maketrans('', '', PUNCTUATION_TO_REMOVE))\n",
    "\n",
    "\n",
    "df[\"text_wo_punct\"] = df[\"text_lower\"].apply(\n",
    "    lambda text: remove_punctuation(text))\n",
    "df.head()"
   ]
  }
 ],
 "metadata": {
  "interpreter": {
   "hash": "b6672ba510bd43d5df0d34395a84685a825e41d35f5301d8abef98bca1680e82"
  },
  "kernelspec": {
   "display_name": "Python 3.9.9 64-bit ('base': conda)",
   "language": "python",
   "name": "python3"
  },
  "language_info": {
   "codemirror_mode": {
    "name": "ipython",
    "version": 3
   },
   "file_extension": ".py",
   "mimetype": "text/x-python",
   "name": "python",
   "nbconvert_exporter": "python",
   "pygments_lexer": "ipython3",
   "version": "3.9.9"
  },
  "orig_nbformat": 4
 },
 "nbformat": 4,
 "nbformat_minor": 2
}
