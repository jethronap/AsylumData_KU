{
 "cells": [
  {
   "cell_type": "code",
   "execution_count": 80,
   "metadata": {},
   "outputs": [],
   "source": [
    "import matplotlib.pyplot as plt\n",
    "import seaborn as sns\n",
    "import pandas as pd\n",
    "import numpy as np\n",
    "import random\n",
    "import regex as re\n",
    "import pprint\n",
    "\n",
    "from nltk.corpus import stopwords\n",
    "# Need to uncomment the following line in order to download nltk stopwords:\n",
    "# nltk.download('stopwords')\n",
    "import spacy\n",
    "from textacy.extract import keyword_in_context\n",
    "\n",
    "from sklearn.feature_extraction.text import CountVectorizer, TfidfTransformer\n",
    "from sklearn.decomposition import NMF, TruncatedSVD, LatentDirichletAllocation\n",
    "\n",
    "from collections import defaultdict\n",
    "from collections import Counter, ChainMap\n",
    "\n",
    "from tmtoolkit.topicmod.evaluate import metric_coherence_gensim\n",
    "\n",
    "import pyLDAvis.sklearn\n",
    "\n",
    "import warnings\n",
    "warnings.filterwarnings(\"ignore\", category=DeprecationWarning)\n",
    "\n",
    "plt.style.use(style='seaborn')\n",
    "%matplotlib inline\n",
    "sns.set()\n"
   ]
  },
  {
   "cell_type": "markdown",
   "metadata": {},
   "source": [
    "# Import data set:"
   ]
  },
  {
   "cell_type": "code",
   "execution_count": 81,
   "metadata": {},
   "outputs": [
    {
     "data": {
      "text/plain": [
       "(9324, 5)"
      ]
     },
     "execution_count": 81,
     "metadata": {},
     "output_type": "execute_result"
    }
   ],
   "source": [
    "pd.options.mode.chained_assignment = None\n",
    "\n",
    "with open('data/dk_asylum_data.json', encoding='utf-8') as inputfile:\n",
    "    df_full = pd.read_json(inputfile)\n",
    "\n",
    "# Convert json to csv:\n",
    "df_full.to_csv('data/dk_asylum_data.csv', encoding='utf-8', index=False)\n",
    "\n",
    "df_full.shape\n"
   ]
  },
  {
   "cell_type": "markdown",
   "metadata": {},
   "source": [
    "# Dataset preprocessing:\n",
    "\n",
    "## Keep cases of Unknown Homeland (Ukendt hjemland):"
   ]
  },
  {
   "cell_type": "code",
   "execution_count": 82,
   "metadata": {},
   "outputs": [
    {
     "data": {
      "text/html": [
       "<div>\n",
       "<style scoped>\n",
       "    .dataframe tbody tr th:only-of-type {\n",
       "        vertical-align: middle;\n",
       "    }\n",
       "\n",
       "    .dataframe tbody tr th {\n",
       "        vertical-align: top;\n",
       "    }\n",
       "\n",
       "    .dataframe thead th {\n",
       "        text-align: right;\n",
       "    }\n",
       "</style>\n",
       "<table border=\"1\" class=\"dataframe\">\n",
       "  <thead>\n",
       "    <tr style=\"text-align: right;\">\n",
       "      <th></th>\n",
       "      <th>text</th>\n",
       "    </tr>\n",
       "  </thead>\n",
       "  <tbody>\n",
       "    <tr>\n",
       "      <th>201</th>\n",
       "      <td>Nævnet stadfæstede i november 2021 Udl...</td>\n",
       "    </tr>\n",
       "    <tr>\n",
       "      <th>428</th>\n",
       "      <td>Nævnet stadfæstede i juni 2021 Udlændi...</td>\n",
       "    </tr>\n",
       "    <tr>\n",
       "      <th>464</th>\n",
       "      <td>Nævnet stadfæstede i juni 2021 Udlændi...</td>\n",
       "    </tr>\n",
       "    <tr>\n",
       "      <th>901</th>\n",
       "      <td>Nævnet stadfæstede i december 2020 Udl...</td>\n",
       "    </tr>\n",
       "    <tr>\n",
       "      <th>1291</th>\n",
       "      <td>Nævnet hjemviste i juni 2020 Udlænding...</td>\n",
       "    </tr>\n",
       "  </tbody>\n",
       "</table>\n",
       "</div>"
      ],
      "text/plain": [
       "                                                   text\n",
       "201           Nævnet stadfæstede i november 2021 Udl...\n",
       "428           Nævnet stadfæstede i juni 2021 Udlændi...\n",
       "464           Nævnet stadfæstede i juni 2021 Udlændi...\n",
       "901           Nævnet stadfæstede i december 2020 Udl...\n",
       "1291          Nævnet hjemviste i juni 2020 Udlænding..."
      ]
     },
     "execution_count": 82,
     "metadata": {},
     "output_type": "execute_result"
    }
   ],
   "source": [
    "df_UH = df_full[df_full.country == \"Ukendt hjemland\"]\n",
    "\n",
    "# Drop redundant column:\n",
    "df_UH.drop('hasText', axis=1, inplace=True)\n",
    "\n",
    "# Keep column 'text':\n",
    "df = df_UH[['text']]\n",
    "\n",
    "df[\"text\"] = df[\"text\"].astype(str)\n",
    "\n",
    "df.shape\n",
    "\n",
    "df.head()\n"
   ]
  },
  {
   "cell_type": "markdown",
   "metadata": {},
   "source": [
    "Check for potential duplicates and drop them:"
   ]
  },
  {
   "cell_type": "code",
   "execution_count": 83,
   "metadata": {},
   "outputs": [
    {
     "data": {
      "text/html": [
       "<div>\n",
       "<style scoped>\n",
       "    .dataframe tbody tr th:only-of-type {\n",
       "        vertical-align: middle;\n",
       "    }\n",
       "\n",
       "    .dataframe tbody tr th {\n",
       "        vertical-align: top;\n",
       "    }\n",
       "\n",
       "    .dataframe thead th {\n",
       "        text-align: right;\n",
       "    }\n",
       "</style>\n",
       "<table border=\"1\" class=\"dataframe\">\n",
       "  <thead>\n",
       "    <tr style=\"text-align: right;\">\n",
       "      <th></th>\n",
       "      <th>text</th>\n",
       "    </tr>\n",
       "  </thead>\n",
       "  <tbody>\n",
       "    <tr>\n",
       "      <th>1333</th>\n",
       "      <td>Nævnet stadfæstede i maj 2020 Udlændin...</td>\n",
       "    </tr>\n",
       "    <tr>\n",
       "      <th>1352</th>\n",
       "      <td>Nævnet stadfæstede i maj 2020 Udlændin...</td>\n",
       "    </tr>\n",
       "    <tr>\n",
       "      <th>4000</th>\n",
       "      <td>Nævnet stadfæstede i januar 2018 Udlæn...</td>\n",
       "    </tr>\n",
       "    <tr>\n",
       "      <th>4001</th>\n",
       "      <td>Nævnet stadfæstede i januar 2018 Udlæn...</td>\n",
       "    </tr>\n",
       "    <tr>\n",
       "      <th>4055</th>\n",
       "      <td>Nævnet stadfæstede i januar 2018 Udlæn...</td>\n",
       "    </tr>\n",
       "    <tr>\n",
       "      <th>4058</th>\n",
       "      <td>Nævnet stadfæstede i januar 2018 Udlæn...</td>\n",
       "    </tr>\n",
       "  </tbody>\n",
       "</table>\n",
       "</div>"
      ],
      "text/plain": [
       "                                                   text\n",
       "1333          Nævnet stadfæstede i maj 2020 Udlændin...\n",
       "1352          Nævnet stadfæstede i maj 2020 Udlændin...\n",
       "4000          Nævnet stadfæstede i januar 2018 Udlæn...\n",
       "4001          Nævnet stadfæstede i januar 2018 Udlæn...\n",
       "4055          Nævnet stadfæstede i januar 2018 Udlæn...\n",
       "4058          Nævnet stadfæstede i januar 2018 Udlæn..."
      ]
     },
     "execution_count": 83,
     "metadata": {},
     "output_type": "execute_result"
    }
   ],
   "source": [
    "duplicates_df = df[df.duplicated(['text'], keep=False)]\n",
    "#pd.concat(g for _, g in df.groupby(\"text\") if len(g) > 1)\n",
    "\n",
    "# See all duplicates:\n",
    "duplicates_df"
   ]
  },
  {
   "cell_type": "code",
   "execution_count": 84,
   "metadata": {},
   "outputs": [
    {
     "data": {
      "text/plain": [
       "(189, 1)"
      ]
     },
     "execution_count": 84,
     "metadata": {},
     "output_type": "execute_result"
    }
   ],
   "source": [
    "# Drop duplicates from original dataframe:\n",
    "df = df.drop_duplicates()\n",
    "\n",
    "# Check shape again:\n",
    "df.shape"
   ]
  },
  {
   "cell_type": "markdown",
   "metadata": {},
   "source": [
    "## Length of texts\n",
    "\n",
    "Create a numeric column in order to get a feel about the length of the texts. "
   ]
  },
  {
   "cell_type": "code",
   "execution_count": 85,
   "metadata": {},
   "outputs": [
    {
     "data": {
      "text/html": [
       "<div>\n",
       "<style scoped>\n",
       "    .dataframe tbody tr th:only-of-type {\n",
       "        vertical-align: middle;\n",
       "    }\n",
       "\n",
       "    .dataframe tbody tr th {\n",
       "        vertical-align: top;\n",
       "    }\n",
       "\n",
       "    .dataframe thead th {\n",
       "        text-align: right;\n",
       "    }\n",
       "</style>\n",
       "<table border=\"1\" class=\"dataframe\">\n",
       "  <thead>\n",
       "    <tr style=\"text-align: right;\">\n",
       "      <th></th>\n",
       "      <th>count</th>\n",
       "      <th>mean</th>\n",
       "      <th>std</th>\n",
       "      <th>min</th>\n",
       "      <th>25%</th>\n",
       "      <th>50%</th>\n",
       "      <th>75%</th>\n",
       "      <th>max</th>\n",
       "    </tr>\n",
       "  </thead>\n",
       "  <tbody>\n",
       "    <tr>\n",
       "      <th>length</th>\n",
       "      <td>189.0</td>\n",
       "      <td>5008.539683</td>\n",
       "      <td>2046.292952</td>\n",
       "      <td>1104.0</td>\n",
       "      <td>3532.0</td>\n",
       "      <td>4753.0</td>\n",
       "      <td>6057.0</td>\n",
       "      <td>13105.0</td>\n",
       "    </tr>\n",
       "  </tbody>\n",
       "</table>\n",
       "</div>"
      ],
      "text/plain": [
       "        count         mean          std     min     25%     50%     75%  \\\n",
       "length  189.0  5008.539683  2046.292952  1104.0  3532.0  4753.0  6057.0   \n",
       "\n",
       "            max  \n",
       "length  13105.0  "
      ]
     },
     "execution_count": 85,
     "metadata": {},
     "output_type": "execute_result"
    }
   ],
   "source": [
    "df['length'] = df['text'].str.len()\n",
    "\n",
    "df.describe().T"
   ]
  },
  {
   "cell_type": "markdown",
   "metadata": {},
   "source": [
    "## Boxplot:"
   ]
  },
  {
   "cell_type": "code",
   "execution_count": 86,
   "metadata": {},
   "outputs": [
    {
     "data": {
      "text/plain": [
       "<AxesSubplot:>"
      ]
     },
     "execution_count": 86,
     "metadata": {},
     "output_type": "execute_result"
    },
    {
     "data": {
      "image/png": "[encoded data removed]",
      "text/plain": [
       "<Figure size 432x288 with 1 Axes>"
      ]
     },
     "metadata": {},
     "output_type": "display_data"
    }
   ],
   "source": [
    "# Box plot:\n",
    "df['length'].plot(kind='box', vert=False)"
   ]
  },
  {
   "cell_type": "markdown",
   "metadata": {},
   "source": [
    "## Histogram:"
   ]
  },
  {
   "cell_type": "code",
   "execution_count": 87,
   "metadata": {},
   "outputs": [
    {
     "data": {
      "text/plain": [
       "<AxesSubplot:ylabel='Frequency'>"
      ]
     },
     "execution_count": 87,
     "metadata": {},
     "output_type": "execute_result"
    },
    {
     "data": {
      "image/png": "[encoded data removed]",
      "text/plain": [
       "<Figure size 432x288 with 1 Axes>"
      ]
     },
     "metadata": {},
     "output_type": "display_data"
    }
   ],
   "source": [
    "# Histogram:\n",
    "df['length'].plot(kind='hist', bins=30)\n"
   ]
  },
  {
   "cell_type": "markdown",
   "metadata": {},
   "source": [
    "# Create a pipeline:\n",
    "\n",
    "Below are the steps taken to process the texts."
   ]
  },
  {
   "cell_type": "code",
   "execution_count": 88,
   "metadata": {},
   "outputs": [],
   "source": [
    "nlp = spacy.load(\"da_core_news_md\")\n",
    "\n",
    "STOPWORDS_DANISH = set(stopwords.words('danish'))\n",
    "\n",
    "stopwords_to_include = {'nævnet', 'stadfæstede', 'januar', 'februar', 'marts', 'april',\n",
    "'maj', 'juni', 'juli', 'august', 'september', 'oktober', 'november', 'december', 'jf', 'ansøger'}\n",
    "\n",
    "STOPWORDS_DANISH |= stopwords_to_include \n",
    "\n",
    "PUNCTUATION_TO_REMOVE = '–«!\"#$%&\\'()*+,-./:;<=>?@[\\\\]^_`{|}~»●·’“”'"
   ]
  },
  {
   "cell_type": "code",
   "execution_count": 89,
   "metadata": {},
   "outputs": [],
   "source": [
    "def remove_punctuation(text):\n",
    "    \"\"\"custom function to remove the punctuation\"\"\"\n",
    "    return text.translate(str.maketrans('', '', PUNCTUATION_TO_REMOVE))\n",
    "\n",
    "\n",
    "def remove_stopwords(tokens):\n",
    "    \"\"\"custom function to remove stopwords\"\"\"\n",
    "    return [t for t in tokens if t.lower() not in STOPWORDS_DANISH]\n",
    "\n",
    "\n",
    "def tokenize(text):\n",
    "    \"\"\"the following expression matches tokens consisting of at least one letter (\\p{L}), \n",
    "    preceded and followed by an arbitrary sequence of alphanumeric characters \n",
    "    (\\w includes digits, letters, and underscore) and hyphens (-)\"\"\"\n",
    "    return re.findall(r'[\\w-]*\\p{L}[\\w-]*', text)\n",
    "\n",
    "# def tokenize(text):\n",
    "#     doc = nlp.tokenizer(' '.join(text))\n",
    "#     return [token.text for token in doc]\n",
    "\n",
    "def drop_single_letter_words(text):\n",
    "    return [w for w in text if len(w) > 1]\n",
    "\n",
    "\n",
    "def lemmatize(text):\n",
    "    \"\"\"custom function to lemmatize text\"\"\"\n",
    "    doc = nlp(' '.join(text))\n",
    "    # pos_tagged_text = text.pos\n",
    "    return [token.lemma_ for token in doc]\n",
    "\n",
    "\n",
    "# def remove_junk(text):\n",
    "#     # Creating a spacy object\n",
    "#     doc = nlp(' '.join(text))\n",
    "#     # Checking if POS tag is X and printing them\n",
    "#     for token in doc:\n",
    "#         if token.pos_ == 'X':\n",
    "#             print(token.text)\n",
    "#     # Removing the tokens whose POS tag is junk.\n",
    "#     clean_doc = [token.text for token in doc if not token.pos_ == 'X']\n",
    "\n",
    "#     return clean_doc\n"
   ]
  },
  {
   "cell_type": "markdown",
   "metadata": {},
   "source": [
    "Steps can be added or removed from the pipeline."
   ]
  },
  {
   "cell_type": "code",
   "execution_count": 90,
   "metadata": {},
   "outputs": [],
   "source": [
    "pipeline = [str.lower, remove_punctuation, tokenize, remove_stopwords,\n",
    "            lemmatize, drop_single_letter_words]\n",
    "\n",
    "\n",
    "def process(text, pipeline):\n",
    "    tokens = text\n",
    "    for transform in pipeline:\n",
    "        tokens = transform(tokens)\n",
    "    return tokens\n"
   ]
  },
  {
   "cell_type": "code",
   "execution_count": 91,
   "metadata": {},
   "outputs": [],
   "source": [
    "# Apply the process pipeline:\n",
    "df['tokens'] = df['text'].apply(process, pipeline=pipeline)\n",
    "\n",
    "# Add column to see the number of tokens:\n",
    "df['num_tokens'] = df['tokens'].map(len)"
   ]
  },
  {
   "cell_type": "code",
   "execution_count": 92,
   "metadata": {},
   "outputs": [],
   "source": [
    "# df.head()\n",
    "df['stadfæster'] = df['text'].str.contains('stadfæster')"
   ]
  },
  {
   "cell_type": "markdown",
   "metadata": {},
   "source": [
    "# Analysis:"
   ]
  },
  {
   "cell_type": "markdown",
   "metadata": {},
   "source": [
    "# Frequency analysis:\n",
    "\n",
    "Here we count the most frequent tokens in the **whole** corpus.\n"
   ]
  },
  {
   "cell_type": "code",
   "execution_count": 93,
   "metadata": {},
   "outputs": [],
   "source": [
    "# Transform the counter into a Pandas DataFrame with the following function:\n",
    "\n",
    "\"\"\"\n",
    "The tokens make up the index of the DataFrame, while the frequency values are stored in a column named freq. \n",
    "The rows are sorted so that the most frequent words appear at the head.\n",
    "The last parameter of count_words defines a minimum frequency of tokens to be included in the result. \n",
    "Its default is set to 2 to cut down on tokens occurring only once.\n",
    "\"\"\"\n",
    "\n",
    "def count_words(df, column='tokens', preprocess=None, min_freq=2):\n",
    "    # process tokens and update counter\n",
    "    def update(doc):\n",
    "        tokens = doc if preprocess is None else preprocess(doc)\n",
    "        counter.update(tokens)\n",
    "    # create counter and run through all data\n",
    "    counter = Counter() \n",
    "    df[column].map(update)\n",
    "    # transform counter into a DataFrame\n",
    "    freq_df = pd.DataFrame.from_dict(counter, orient='index', columns=['freq']) \n",
    "    freq_df = freq_df.query('freq >= @min_freq')\n",
    "    freq_df.index.name = 'token'\n",
    "    return freq_df.sort_values('freq', ascending=False)"
   ]
  },
  {
   "cell_type": "code",
   "execution_count": 94,
   "metadata": {},
   "outputs": [
    {
     "data": {
      "text/html": [
       "<div>\n",
       "<style scoped>\n",
       "    .dataframe tbody tr th:only-of-type {\n",
       "        vertical-align: middle;\n",
       "    }\n",
       "\n",
       "    .dataframe tbody tr th {\n",
       "        vertical-align: top;\n",
       "    }\n",
       "\n",
       "    .dataframe thead th {\n",
       "        text-align: right;\n",
       "    }\n",
       "</style>\n",
       "<table border=\"1\" class=\"dataframe\">\n",
       "  <thead>\n",
       "    <tr style=\"text-align: right;\">\n",
       "      <th></th>\n",
       "      <th>freq</th>\n",
       "    </tr>\n",
       "    <tr>\n",
       "      <th>token</th>\n",
       "      <th></th>\n",
       "    </tr>\n",
       "  </thead>\n",
       "  <tbody>\n",
       "    <tr>\n",
       "      <th>ansøger</th>\n",
       "      <td>4331</td>\n",
       "    </tr>\n",
       "    <tr>\n",
       "      <th>Kuwait</th>\n",
       "      <td>1378</td>\n",
       "    </tr>\n",
       "    <tr>\n",
       "      <th>forklare</th>\n",
       "      <td>1237</td>\n",
       "    </tr>\n",
       "    <tr>\n",
       "      <th>flygtningenævn</th>\n",
       "      <td>1128</td>\n",
       "    </tr>\n",
       "    <tr>\n",
       "      <th>oplyse</th>\n",
       "      <td>817</td>\n",
       "    </tr>\n",
       "    <tr>\n",
       "      <th>myndighed</th>\n",
       "      <td>795</td>\n",
       "    </tr>\n",
       "    <tr>\n",
       "      <th>mandlig</th>\n",
       "      <td>794</td>\n",
       "    </tr>\n",
       "    <tr>\n",
       "      <th>asylmotiv</th>\n",
       "      <td>747</td>\n",
       "    </tr>\n",
       "    <tr>\n",
       "      <th>ved</th>\n",
       "      <td>737</td>\n",
       "    </tr>\n",
       "    <tr>\n",
       "      <th>forklaring</th>\n",
       "      <td>675</td>\n",
       "    </tr>\n",
       "  </tbody>\n",
       "</table>\n",
       "</div>"
      ],
      "text/plain": [
       "                freq\n",
       "token               \n",
       "ansøger         4331\n",
       "Kuwait          1378\n",
       "forklare        1237\n",
       "flygtningenævn  1128\n",
       "oplyse           817\n",
       "myndighed        795\n",
       "mandlig          794\n",
       "asylmotiv        747\n",
       "ved              737\n",
       "forklaring       675"
      ]
     },
     "execution_count": 94,
     "metadata": {},
     "output_type": "execute_result"
    }
   ],
   "source": [
    "# See ten most frequent words in the whole corpus:\n",
    "\n",
    "freq_df = count_words(df) \n",
    "freq_df.head(10)"
   ]
  },
  {
   "cell_type": "code",
   "execution_count": 95,
   "metadata": {},
   "outputs": [
    {
     "data": {
      "text/plain": [
       "[Text(0.5, 0, 'Frequency'), Text(0, 0.5, 'Token'), Text(0.5, 1.0, 'Top Words')]"
      ]
     },
     "execution_count": 95,
     "metadata": {},
     "output_type": "execute_result"
    },
    {
     "data": {
      "image/png": "[encoded data removed]",
      "text/plain": [
       "<Figure size 432x288 with 1 Axes>"
      ]
     },
     "metadata": {},
     "output_type": "display_data"
    }
   ],
   "source": [
    "# Plot the results:\n",
    "ax = freq_df.head(15).plot(kind='barh', width=0.95) \n",
    "ax.invert_yaxis()\n",
    "ax.set(xlabel='Frequency', ylabel='Token', title='Top Words')"
   ]
  },
  {
   "cell_type": "markdown",
   "metadata": {},
   "source": [
    "# Keyword in context (KWIC):\n",
    "\n",
    "KWIC analysis produces a list of text fragments of equal length showing the left and right context of a keyword."
   ]
  },
  {
   "cell_type": "code",
   "execution_count": 96,
   "metadata": {},
   "outputs": [],
   "source": [
    "\"\"\"\n",
    "The function iteratively collects the keyword contexts by applying the add_kwic function to each document with map. \n",
    "By default, the function returns a list of tuples of the form (left context, keyword, right context). \n",
    "If print_samples is greater than 0, a random sample of the results is printed. \n",
    "Sampling is especially useful with lots of documents because the first entries of the list \n",
    "would otherwise stem from a single or a very small number of documents.\n",
    "\"\"\"\n",
    "\n",
    "def kwic(doc_series, keyword, window=35, print_samples=5):\n",
    "    def add_kwic(text):\n",
    "        kwic_list.extend(keyword_in_context(text, keyword, ignore_case=True, window_width=window))\n",
    "\n",
    "    kwic_list = []\n",
    "    doc_series.map(add_kwic)\n",
    "\n",
    "    if print_samples is None or print_samples == 0:\n",
    "        return kwic_list\n",
    "    else:\n",
    "        k = min(print_samples, len(kwic_list))\n",
    "        print(f'{k} random samples out of {len(kwic_list)} ' +\n",
    "              f\"contexts for '{keyword}':\")\n",
    "        for sample in random.sample(list(kwic_list), k):\n",
    "            print(re.sub(r'[\\n\\t]', ' ', sample[0]) + ' ' +\n",
    "                  sample[1]+' ' +\n",
    "                  re.sub(r'[\\n\\t]', ' ', sample[2]))\n"
   ]
  },
  {
   "cell_type": "markdown",
   "metadata": {},
   "source": [
    "Bellow we apply KWIC for `stk` keyword found from the frequency analysis and print 10 random context appearances.\n",
    "\n",
    "The call is made to the original untokenized & unprocessed dataset."
   ]
  },
  {
   "cell_type": "code",
   "execution_count": 97,
   "metadata": {},
   "outputs": [
    {
     "name": "stdout",
     "output_type": "stream",
     "text": [
      "10 random samples out of 363 contexts for 'stk':\n",
      " i medfør af udlændingelovens § 7,  stk . 1 og stk. 2, er opfyldt. Flygtnin\n",
      "t følger af udlændingelovens § 40,  stk . 1, at det påhviler en asylansøger\n",
      "adelse efter udlændingelovens § 7,  stk . 1 eller stk. 2, ikke er opfyldt. \n",
      "udlændingelovens § 7, stk. 1 eller  stk . 2.” hjem/2018/100/JAH\n",
      " som nævnt i udlændingelovens § 7,  stk . 1 eller stk. 2. Det tilføjes, at \n",
      "dlændingelovens § 7, stk. 1, eller  stk . 2, er opfyldt, stadfæster Flygtni\n",
      "adelse efter udlændingelovens § 7,  stk . 1 eller stk. 2, er opfyldt.  Flyg\n",
      "ngenævnets forretningsordens § 36,  stk . 1, og nævnet har derfor besluttet\n",
      " omfattet af udlændingelovens § 7,  stk . 1 eller stk. 2. Flygtningenævnet \n",
      "anmark efter udlændingelovens § 7,  stk . 1, eller § 7, stk. 2. Flygtningen\n"
     ]
    }
   ],
   "source": [
    "kwic(df['text'], 'stk', print_samples=10)"
   ]
  },
  {
   "cell_type": "markdown",
   "metadata": {},
   "source": [
    "KWIC for `opholdstilladelse`."
   ]
  },
  {
   "cell_type": "code",
   "execution_count": 98,
   "metadata": {},
   "outputs": [
    {
     "name": "stdout",
     "output_type": "stream",
     "text": [
      "10 random samples out of 228 contexts for 'opholdstilladelse':\n",
      ". [F’s] ægtefælle, [B], fik i 2015  opholdstilladelse  i Danmark. Det lægges derfor til g\n",
      "dsynliggjort, at betingelserne for  opholdstilladelse  efter udlændingelovens § 7, stk. 1\n",
      " at klageren [i sommeren] 2016 fik  opholdstilladelse  på grundlag af oplysninger om, at \n",
      "ageren at nægte at forlænge hendes  opholdstilladelse , navnlig på grund de hensyn, der e\n",
      "landet kan ikke i sig selv medføre  opholdstilladelse  efter udlændingelovens § 7. Ansøge\n",
      "beråbt af ansøgerne, ikke føre til  opholdstilladelse  i medfør af udlændingelovens § 7. \n",
      ". [F’s] ægtefælle, [B], fik i 2015  opholdstilladelse  i Danmark. Det lægges derfor til g\n",
      "landet kan ikke i sig selv medføre  opholdstilladelse  efter udlændingelovens § 7. Ansøge\n",
      "dsynliggjort, at betingelserne for  opholdstilladelse  efter udlændingelovens § 7, stk. 1\n",
      "raf, at en udlænding, der søger om  opholdstilladelse  efter udlændingelovens § 7, må san\n"
     ]
    }
   ],
   "source": [
    "kwic(df['text'], 'opholdstilladelse', print_samples=10)"
   ]
  },
  {
   "cell_type": "markdown",
   "metadata": {},
   "source": [
    "# N-gram analysis:"
   ]
  },
  {
   "cell_type": "markdown",
   "metadata": {},
   "source": [
    "**N-grams** are neighboring sequences of items (words, letters, symbols) in a document. \n",
    "\n",
    "Most of the times a probability is assigned to the occurrence of a N-gram (or a word occurring next in a sequence of words). This can help decide which N-grams can be chunked together to form single entities or make predictions for next words (other possible use cases include spelling corrections).  \n",
    "\n",
    "[Here](https://web.stanford.edu/~jurafsky/slp3/slides/LM_4.pdf), are some slides from Stanford which provide an introduction to N-gram models and the math that goes with it. "
   ]
  },
  {
   "cell_type": "code",
   "execution_count": 99,
   "metadata": {},
   "outputs": [],
   "source": [
    "def generate_N_grams(text, ngram=1):\n",
    "    \"\"\"\"custom function to generate n-grams\"\"\"\n",
    "    words = [word for word in text.split(\n",
    "        \" \") if word not in set(STOPWORDS_DANISH)]\n",
    "    # print(\"Sentence after removing stopwords:\", words)\n",
    "    # Use the zip function to help us generate n-grams\n",
    "    temp = zip(*[words[i:] for i in range(0, ngram)])\n",
    "    # Concatentate the tokens into ngrams and return\n",
    "    ans = [' '.join(ngram) for ngram in temp]\n",
    "    return ans\n"
   ]
  },
  {
   "cell_type": "code",
   "execution_count": 100,
   "metadata": {},
   "outputs": [],
   "source": [
    "df['tokens_joined'] = [' '.join(token) for token in df['tokens']]"
   ]
  },
  {
   "cell_type": "code",
   "execution_count": 101,
   "metadata": {},
   "outputs": [],
   "source": [
    "values = defaultdict(int)\n",
    "\n",
    "# Get the count of every bigram in the data set from last processed column:\n",
    "for text in df['tokens_joined']:\n",
    "    for word in generate_N_grams(text, 2):\n",
    "        values[word] += 1"
   ]
  },
  {
   "cell_type": "code",
   "execution_count": 102,
   "metadata": {},
   "outputs": [],
   "source": [
    "# Focus on more frequently occuring words.\n",
    "# Sort in descending order with respect to the column of interest:\n",
    "df_processed = pd.DataFrame(\n",
    "    sorted(values.items(), key=lambda x: x[1], reverse=True))\n",
    "\n",
    "# Ten first values of the first column:\n",
    "c1 = df_processed[0][:10]\n",
    "# Ten first values of the second column:\n",
    "c2 = df_processed[1][:10]\n"
   ]
  },
  {
   "cell_type": "code",
   "execution_count": 103,
   "metadata": {},
   "outputs": [
    {
     "data": {
      "image/png": "[encoded data removed]",
      "text/plain": [
       "<Figure size 1152x288 with 1 Axes>"
      ]
     },
     "metadata": {},
     "output_type": "display_data"
    }
   ],
   "source": [
    "plt.figure(1, figsize=(16, 4))\n",
    "plt.bar(c1, c2, color='purple',\n",
    "        width=0.4)\n",
    "plt.xlabel(\"Combinations of Words in dataframe\")\n",
    "plt.xticks(rotation=90)\n",
    "plt.ylabel(\"Count\")\n",
    "plt.title(\"Top 10 bi-grams in dataframe-BIGRAM ANALYSIS\")\n",
    "# plt.savefig(\"dataset-bigram.png\")\n",
    "plt.show()\n"
   ]
  },
  {
   "cell_type": "markdown",
   "metadata": {},
   "source": [
    "# TF-IDF"
   ]
  },
  {
   "cell_type": "markdown",
   "metadata": {},
   "source": [
    "**Term Frequency (TF):**\n",
    "\n",
    "The number of times a word appears in a document divded by the total number of words in the document. Every document has its own term frequency.\n",
    "\n",
    "A value close to 1 indicates this term is very important to the document — and primarily composed of it. A low value could mean this term is not very important.\n",
    "\n",
    "**Inverse Data Frequency (IDF):**\n",
    "\n",
    "The log of the number of documents divided by the number of documents that contain the word w. Inverse data frequency determines the weight of rare words across all documents in the corpus.\n",
    "\n",
    "A value close to 0 indicates the term is very common — and not very helpful in differentiating this document from another. A higher value indicates the term is not very common and could be crucial to understanding the theme of this document.\n",
    "\n",
    "The **TF-IDF** is the multiplication of TF by IDF.\n",
    "\n",
    "A value close to 0 indicates the term is not important either in the corpus or the document or both. A larger value indicates the term is unique for the document or the corpus or both. This value works best in relation to other terms in the same document, and other documents."
   ]
  },
  {
   "cell_type": "code",
   "execution_count": 104,
   "metadata": {},
   "outputs": [
    {
     "data": {
      "text/plain": [
       "(189, 4244)"
      ]
     },
     "execution_count": 104,
     "metadata": {},
     "output_type": "execute_result"
    }
   ],
   "source": [
    "# Get the column of interest:\n",
    "docs = df['tokens_joined'].tolist()\n",
    "\n",
    "# Create a vocabulary of words,eliminate stop words if any:\n",
    "\n",
    "cv = CountVectorizer(stop_words=STOPWORDS_DANISH)\n",
    "word_count_vector = cv.fit_transform(docs)\n",
    "\n",
    "# Get shape of resulting vector:\n",
    "word_count_vector.shape\n"
   ]
  },
  {
   "cell_type": "code",
   "execution_count": 105,
   "metadata": {},
   "outputs": [
    {
     "data": {
      "text/plain": [
       "['udlændingestyrels',\n",
       " 'afgørelse',\n",
       " 'vedrørende',\n",
       " 'mandlig',\n",
       " 'statsborger',\n",
       " 'ukendt',\n",
       " 'hjemland',\n",
       " 'indrejst',\n",
       " 'flygtningenævne',\n",
       " 'udtalteflygtningenævn']"
      ]
     },
     "execution_count": 105,
     "metadata": {},
     "output_type": "execute_result"
    }
   ],
   "source": [
    "word_count_vector = cv.fit_transform(docs)\n",
    "\n",
    "# Look at 10 words from our vocabulary:\n",
    "list(cv.vocabulary_.keys())[:10]\n"
   ]
  },
  {
   "cell_type": "code",
   "execution_count": 106,
   "metadata": {},
   "outputs": [
    {
     "name": "stdout",
     "output_type": "stream",
     "text": [
      "array([5.55387689, 5.55387689, 5.55387689, ..., 5.55387689, 3.2512918 ,\n",
      "       1.09373248])\n"
     ]
    }
   ],
   "source": [
    "tfidf_transformer = TfidfTransformer(smooth_idf=True, use_idf=True)\n",
    "tfidf_transformer.fit(word_count_vector)\n",
    "\n",
    "# Add pretty printer:\n",
    "pp = pprint.PrettyPrinter(indent=4)\n",
    "\n",
    "# Look at the IDF values:\n",
    "pp.pprint(tfidf_transformer.idf_)\n"
   ]
  },
  {
   "cell_type": "code",
   "execution_count": 107,
   "metadata": {},
   "outputs": [],
   "source": [
    "# Sorts the values in the vector while preserving the column index\n",
    "def sort_coo(coo_matrix):\n",
    "    tuples = zip(coo_matrix.col, coo_matrix.data)\n",
    "    return sorted(tuples, key=lambda x: (x[1], x[0]), reverse=True)\n",
    "\n",
    "\n",
    "def extract_top_n_from_vector(feature_names, sorted_items, topn=10):\n",
    "    \"\"\"get the feature names and tf-idf score of top n items\"\"\"\n",
    "\n",
    "    # Use only topn items from vector\n",
    "    sorted_items = sorted_items[:topn]\n",
    "\n",
    "    score_vals = []\n",
    "    feature_vals = []\n",
    "\n",
    "    for idx, score in sorted_items:\n",
    "        fname = feature_names[idx]\n",
    "\n",
    "        # Keep track of feature name and its corresponding score\n",
    "        score_vals.append(round(score, 3))\n",
    "        feature_vals.append(fname)\n",
    "\n",
    "    # Create a tuples of feature,score\n",
    "    # results = zip(feature_vals,score_vals)\n",
    "    results = {}\n",
    "    for idx in range(len(feature_vals)):\n",
    "        results[feature_vals[idx]] = score_vals[idx]\n",
    "\n",
    "    return results\n"
   ]
  },
  {
   "cell_type": "code",
   "execution_count": 108,
   "metadata": {},
   "outputs": [
    {
     "data": {
      "text/html": [
       "<div>\n",
       "<style scoped>\n",
       "    .dataframe tbody tr th:only-of-type {\n",
       "        vertical-align: middle;\n",
       "    }\n",
       "\n",
       "    .dataframe tbody tr th {\n",
       "        vertical-align: top;\n",
       "    }\n",
       "\n",
       "    .dataframe thead th {\n",
       "        text-align: right;\n",
       "    }\n",
       "</style>\n",
       "<table border=\"1\" class=\"dataframe\">\n",
       "  <thead>\n",
       "    <tr style=\"text-align: right;\">\n",
       "      <th></th>\n",
       "      <th>doc</th>\n",
       "      <th>keywords</th>\n",
       "    </tr>\n",
       "  </thead>\n",
       "  <tbody>\n",
       "    <tr>\n",
       "      <th>0</th>\n",
       "      <td>udlændingestyrels afgørelse vedrørende mandlig...</td>\n",
       "      <td>{'myanmar': 0.412, 'rohingya': 0.308, 'lejr': ...</td>\n",
       "    </tr>\n",
       "    <tr>\n",
       "      <th>1</th>\n",
       "      <td>udlændingestyrels afgørelse vedrørende mandlig...</td>\n",
       "      <td>{'algeri': 0.345, 'algerium': 0.329, 'frankrig...</td>\n",
       "    </tr>\n",
       "    <tr>\n",
       "      <th>2</th>\n",
       "      <td>udlændingestyrels afgørelse vedrørende mandlig...</td>\n",
       "      <td>{'sudan': 0.314, 'sydsudan': 0.221, 'bla': 0.1...</td>\n",
       "    </tr>\n",
       "    <tr>\n",
       "      <th>3</th>\n",
       "      <td>udlændingestyrels afgørelse vedrørende mandlig...</td>\n",
       "      <td>{'somalia': 0.453, 'alshabaab': 0.436, 'kenya'...</td>\n",
       "    </tr>\n",
       "    <tr>\n",
       "      <th>4</th>\n",
       "      <td>hjemvise udlændingestyrels afgørelse vedrørend...</td>\n",
       "      <td>{'eritreisk': 0.418, 'eritrea': 0.365, 'etiopi...</td>\n",
       "    </tr>\n",
       "    <tr>\n",
       "      <th>...</th>\n",
       "      <td>...</td>\n",
       "      <td>...</td>\n",
       "    </tr>\n",
       "    <tr>\n",
       "      <th>184</th>\n",
       "      <td>udlændingestyrels afgørelse vedrørende mandlig...</td>\n",
       "      <td>{'fader': 0.515, 'liyu': 0.354, 'police': 0.30...</td>\n",
       "    </tr>\n",
       "    <tr>\n",
       "      <th>185</th>\n",
       "      <td>udlændingestyrels afgørelse vedrørende mandlig...</td>\n",
       "      <td>{'onlf': 0.446, 'police': 0.318, 'liyu': 0.318...</td>\n",
       "    </tr>\n",
       "    <tr>\n",
       "      <th>186</th>\n",
       "      <td>hjemvise udlændingestyrels afgørelse vedrørend...</td>\n",
       "      <td>{'burde': 0.464, 'hjemvise': 0.249, 'etiopien'...</td>\n",
       "    </tr>\n",
       "    <tr>\n",
       "      <th>187</th>\n",
       "      <td>udlændingestyrels afgørelse vedrørende mandlig...</td>\n",
       "      <td>{'soldat': 0.546, 'burmesisk': 0.221, 'burma':...</td>\n",
       "    </tr>\n",
       "    <tr>\n",
       "      <th>188</th>\n",
       "      <td>udlændingestyrels afgørelse vedrørende mandlig...</td>\n",
       "      <td>{'algeri': 0.329, 'algerium': 0.314, 'ukendt':...</td>\n",
       "    </tr>\n",
       "  </tbody>\n",
       "</table>\n",
       "<p>189 rows × 2 columns</p>\n",
       "</div>"
      ],
      "text/plain": [
       "                                                   doc  \\\n",
       "0    udlændingestyrels afgørelse vedrørende mandlig...   \n",
       "1    udlændingestyrels afgørelse vedrørende mandlig...   \n",
       "2    udlændingestyrels afgørelse vedrørende mandlig...   \n",
       "3    udlændingestyrels afgørelse vedrørende mandlig...   \n",
       "4    hjemvise udlændingestyrels afgørelse vedrørend...   \n",
       "..                                                 ...   \n",
       "184  udlændingestyrels afgørelse vedrørende mandlig...   \n",
       "185  udlændingestyrels afgørelse vedrørende mandlig...   \n",
       "186  hjemvise udlændingestyrels afgørelse vedrørend...   \n",
       "187  udlændingestyrels afgørelse vedrørende mandlig...   \n",
       "188  udlændingestyrels afgørelse vedrørende mandlig...   \n",
       "\n",
       "                                              keywords  \n",
       "0    {'myanmar': 0.412, 'rohingya': 0.308, 'lejr': ...  \n",
       "1    {'algeri': 0.345, 'algerium': 0.329, 'frankrig...  \n",
       "2    {'sudan': 0.314, 'sydsudan': 0.221, 'bla': 0.1...  \n",
       "3    {'somalia': 0.453, 'alshabaab': 0.436, 'kenya'...  \n",
       "4    {'eritreisk': 0.418, 'eritrea': 0.365, 'etiopi...  \n",
       "..                                                 ...  \n",
       "184  {'fader': 0.515, 'liyu': 0.354, 'police': 0.30...  \n",
       "185  {'onlf': 0.446, 'police': 0.318, 'liyu': 0.318...  \n",
       "186  {'burde': 0.464, 'hjemvise': 0.249, 'etiopien'...  \n",
       "187  {'soldat': 0.546, 'burmesisk': 0.221, 'burma':...  \n",
       "188  {'algeri': 0.329, 'algerium': 0.314, 'ukendt':...  \n",
       "\n",
       "[189 rows x 2 columns]"
      ]
     },
     "execution_count": 108,
     "metadata": {},
     "output_type": "execute_result"
    }
   ],
   "source": [
    "# We only need to do this once:\n",
    "feature_names = cv.get_feature_names_out()\n",
    "\n",
    "# Generate tf-idf for all documents in list. docs has 192 documents:\n",
    "tf_idf_vector = tfidf_transformer.transform(cv.transform(docs))\n",
    "\n",
    "results = []\n",
    "for i in range(tf_idf_vector.shape[0]):\n",
    "\n",
    "    # get vector for a single document\n",
    "    curr_vector = tf_idf_vector[i]\n",
    "\n",
    "    # sort the tf-idf vector by descending order of scores\n",
    "    sorted_items = sort_coo(curr_vector.tocoo())\n",
    "\n",
    "    # extract only the top n; n here is 10\n",
    "    keywords = extract_top_n_from_vector(feature_names, sorted_items, 10)\n",
    "\n",
    "    results.append(keywords)\n",
    "\n",
    "df_tfIDF = pd.DataFrame(zip(docs, results), columns=['doc', 'keywords'])\n",
    "# df_tfIDF.shape\n",
    "df_tfIDF\n"
   ]
  },
  {
   "cell_type": "code",
   "execution_count": 109,
   "metadata": {},
   "outputs": [
    {
     "name": "stdout",
     "output_type": "stream",
     "text": [
      "[   ('klager', 0.826),\n",
      "    ('officer', 0.647),\n",
      "    ('taliban', 0.596),\n",
      "    ('libyen', 0.549),\n",
      "    ('soldat', 0.546),\n",
      "    ('ægtefælle', 0.524),\n",
      "    ('police', 0.52),\n",
      "    ('liyu', 0.52),\n",
      "    ('senegal', 0.484),\n",
      "    ('tjetjenie', 0.482),\n",
      "    ('israel', 0.476),\n",
      "    ('sierra', 0.475),\n",
      "    ('leone', 0.475),\n",
      "    ('burde', 0.464),\n",
      "    ('libysk', 0.456),\n",
      "    ('somalia', 0.453),\n",
      "    ('bøde', 0.444),\n",
      "    ('ghanesisk', 0.44),\n",
      "    ('hær', 0.44),\n",
      "    ('holland', 0.44)]\n"
     ]
    }
   ],
   "source": [
    "# Create a dictionary from results list of dictionaries:\n",
    "my_dict = dict(ChainMap(*results))\n",
    "\n",
    "c = Counter(my_dict)\n",
    "\n",
    "# Returns top 20 most common pairs:\n",
    "most_common = c.most_common(20)\n",
    "\n",
    "# For getting the keys from `most_common`:\n",
    "my_keys = [key for key, val in most_common]\n",
    "\n",
    "pp.pprint(most_common)\n"
   ]
  },
  {
   "cell_type": "markdown",
   "metadata": {},
   "source": [
    "# Topic Modelling:"
   ]
  },
  {
   "cell_type": "markdown",
   "metadata": {},
   "source": [
    "## Latent Dirichlet Allocation (LDA):"
   ]
  },
  {
   "cell_type": "markdown",
   "metadata": {},
   "source": [
    "For a given corpus, a topic model estimates a topic distribution for each of its documents (i.e., a a distribution of weights over a set of topics), where a topic is itself a distribution of weights over the vocabulary of the corpus. The most weighted words of each topic are syntactically and/or semantically related, given that collection of documents. This means that two distinct topics share the exact same vocabulary, but have different weight distributions."
   ]
  },
  {
   "cell_type": "code",
   "execution_count": 110,
   "metadata": {},
   "outputs": [],
   "source": [
    "# Utility function to display topics produced by Topic Modelling\n",
    "def display_topics(model, features, num_top_words=5):\n",
    "    for topic, word_vector in enumerate(model.components_):\n",
    "        total = word_vector.sum()\n",
    "        largest = word_vector.argsort()[::-1] # inverts sort order\n",
    "        print(\"\\nTopic %02d\" % topic)\n",
    "        for i in range(0, num_top_words):\n",
    "            print(\" %s (%2.2f)\" % (features[largest[i]], word_vector[largest[i]]*100.0/total))"
   ]
  },
  {
   "cell_type": "code",
   "execution_count": 111,
   "metadata": {},
   "outputs": [],
   "source": [
    "count_text_vectorizer = CountVectorizer(stop_words=STOPWORDS_DANISH, min_df=2, max_df=0.7)\n",
    "count_text_vectors = count_text_vectorizer.fit_transform(df['tokens_joined'])"
   ]
  },
  {
   "cell_type": "markdown",
   "metadata": {},
   "source": [
    "### Coherence Score:\n",
    "\n",
    "Compute the coherence score is essentially a measure of how similar the words assigned to each topic are in terms of semantic value. The higher the score, the better.\n",
    "\n",
    "Compute the coherence score for LDA models with 2 to 10 topics and see which number of topics leads to the highest coherence score.\n",
    "\n",
    "Topic coherence in essence measures the human interpretability of a topic model. Traditionally perplexity has been used to evaluate topic models however this does not correlate with human annotations at times. Topic coherence is another way to evaluate topic models with a much higher guarantee on human interpretability. Thus this can be used to compare different topic models among many other use-cases."
   ]
  },
  {
   "cell_type": "code",
   "execution_count": 112,
   "metadata": {},
   "outputs": [
    {
     "name": "stdout",
     "output_type": "stream",
     "text": [
      "The coherence score (0.76) is highest with 9 topics.\n"
     ]
    }
   ],
   "source": [
    "best_num = float('NaN')\n",
    "best_score = 0\n",
    "\n",
    "# Compute the coherence scores for each number of topics\n",
    "for i in range(2, 11):\n",
    "\n",
    "    # Create lda model with i topics\n",
    "    lda_text_model = LatentDirichletAllocation(n_components=i, random_state=42)\n",
    "    W_lda_text_matrix = lda_text_model.fit_transform(count_text_vectors)\n",
    "    H_lda_text_matrix = lda_text_model.components_\n",
    "\n",
    "    # Obtain the coherence score\n",
    "    coherence_model = metric_coherence_gensim(measure='c_v', \n",
    "                        top_n=25, \n",
    "                        topic_word_distrib=H_lda_text_matrix, \n",
    "                        dtm=W_lda_text_matrix, \n",
    "                        vocab=np.array([x for x in count_text_vectorizer.vocabulary_.keys()]), \n",
    "                        texts=df['tokens'])\n",
    "    coherence_score = np.around(coherence_model, 2)\n",
    "    for score in coherence_score:\n",
    "        if score > best_score:\n",
    "            best_num = i\n",
    "            best_score = score\n",
    "\n",
    "print(f'The coherence score ({best_score}) is highest with {best_num} topics.')"
   ]
  },
  {
   "cell_type": "markdown",
   "metadata": {},
   "source": [
    "Build the model with the best number of topics and see them:"
   ]
  },
  {
   "cell_type": "code",
   "execution_count": 113,
   "metadata": {},
   "outputs": [],
   "source": [
    "lda_model = LatentDirichletAllocation(n_components=best_num, random_state=42)\n",
    "W_lda_model_matrix = lda_model.fit_transform(count_text_vectors)\n",
    "H_lda_model_matrix = lda_model.components_"
   ]
  },
  {
   "cell_type": "code",
   "execution_count": 114,
   "metadata": {},
   "outputs": [
    {
     "name": "stdout",
     "output_type": "stream",
     "text": [
      "\n",
      "Topic 00\n",
      " eritrea (6.50)\n",
      " sudan (2.99)\n",
      " etiopien (2.38)\n",
      " eritreisk (1.79)\n",
      " statsborgerskab (1.16)\n",
      "\n",
      "Topic 01\n",
      " demonstration (1.25)\n",
      " bidoon (1.01)\n",
      " bidooner (0.88)\n",
      " kvindelig (0.85)\n",
      " deltage (0.83)\n",
      "\n",
      "Topic 02\n",
      " demonstration (2.30)\n",
      " kvindelig (2.07)\n",
      " deltage (1.54)\n",
      " dag (1.53)\n",
      " bopæl (1.41)\n",
      "\n",
      "Topic 03\n",
      " klager (5.15)\n",
      " syrien (1.43)\n",
      " syrisk (1.40)\n",
      " sommer (1.24)\n",
      " fremgå (1.17)\n",
      "\n",
      "Topic 04\n",
      " far (1.57)\n",
      " ansøgere (1.50)\n",
      " divergere (1.03)\n",
      " bopæl (0.98)\n",
      " dag (0.91)\n",
      "\n",
      "Topic 05\n",
      " demonstration (2.13)\n",
      " kvindelig (2.11)\n",
      " videre (1.47)\n",
      " oplysnings (1.40)\n",
      " bopæl (1.40)\n",
      "\n",
      "Topic 06\n",
      " klager (4.97)\n",
      " ægtefælle (2.11)\n",
      " opholdstilladelse (1.73)\n",
      " danmark (1.34)\n",
      " navn (1.04)\n",
      "\n",
      "Topic 07\n",
      " demonstration (3.71)\n",
      " bidoon (2.87)\n",
      " deltage (2.67)\n",
      " rettighed (1.36)\n",
      " tilbageholde (1.21)\n",
      "\n",
      "Topic 08\n",
      " demonstration (1.90)\n",
      " oplysning (1.77)\n",
      " barn (1.49)\n",
      " følge (1.17)\n",
      " ansøgere (1.17)\n"
     ]
    }
   ],
   "source": [
    "display_topics(lda_model, count_text_vectorizer.get_feature_names_out())"
   ]
  },
  {
   "cell_type": "markdown",
   "metadata": {},
   "source": [
    "Visualise the topics produced by LDA:"
   ]
  },
  {
   "cell_type": "code",
   "execution_count": 115,
   "metadata": {},
   "outputs": [
    {
     "name": "stderr",
     "output_type": "stream",
     "text": [
      "/Users/jnap/opt/anaconda3/lib/python3.9/site-packages/sklearn/utils/deprecation.py:87: FutureWarning: Function get_feature_names is deprecated; get_feature_names is deprecated in 1.0 and will be removed in 1.2. Please use get_feature_names_out instead.\n",
      "  warnings.warn(msg, category=FutureWarning)\n",
      "/Users/jnap/opt/anaconda3/lib/python3.9/site-packages/pyLDAvis/_prepare.py:246: FutureWarning: In a future version of pandas all arguments of DataFrame.drop except for the argument 'labels' will be keyword-only.\n",
      "  default_term_info = default_term_info.sort_values(\n",
      "/Users/jnap/opt/anaconda3/lib/python3.9/site-packages/past/builtins/misc.py:45: DeprecationWarning: the imp module is deprecated in favour of importlib; see the module's documentation for alternative uses\n",
      "  from imp import reload\n",
      "/Users/jnap/opt/anaconda3/lib/python3.9/site-packages/past/builtins/misc.py:45: DeprecationWarning: the imp module is deprecated in favour of importlib; see the module's documentation for alternative uses\n",
      "  from imp import reload\n",
      "/Users/jnap/opt/anaconda3/lib/python3.9/site-packages/past/builtins/misc.py:45: DeprecationWarning: the imp module is deprecated in favour of importlib; see the module's documentation for alternative uses\n",
      "  from imp import reload\n",
      "/Users/jnap/opt/anaconda3/lib/python3.9/site-packages/past/builtins/misc.py:45: DeprecationWarning: the imp module is deprecated in favour of importlib; see the module's documentation for alternative uses\n",
      "  from imp import reload\n"
     ]
    },
    {
     "data": {
      "text/html": [
       "\n",
       "<link rel=\"stylesheet\" type=\"text/css\" href=\"https://cdn.jsdelivr.net/gh/bmabey/pyLDAvis@3.3.1/pyLDAvis/js/ldavis.v1.0.0.css\">\n",
       "\n",
       "\n",
       "<div id=\"ldavis_el576353852914729223293113\"></div>\n",
       "<script type=\"text/javascript\">\n",
       "\n",
       "var ldavis_el576353852914729223293113_data = {\"mdsDat\": {\"x\": [-0.19757426826108032, 0.04053588027637843, 0.06148523172167547, -0.10487923339497829, 0.0066310336775828186, 0.12208520369724535, -0.1569388470429857, 0.07780391355363914, 0.07721694410259948, 0.07363414166992385], \"y\": [0.17281306772853317, -0.02325632677932955, -0.017689308177069662, -0.1343438757087872, -0.002341791872711979, 0.1524514305131483, -0.06281269567118226, -0.001372490430764629, -0.03321427930854796, -0.05023373029328823], \"topics\": [1, 2, 3, 4, 5, 6, 7, 8, 9, 10], \"cluster\": [1, 1, 1, 1, 1, 1, 1, 1, 1, 1], \"Freq\": [2.529675096474369, 15.327723550559469, 14.308462677223735, 6.961593338026567, 23.24283325413432, 6.646896888179876, 3.898702767841645, 11.427072879230433, 8.316185854059153, 7.340853694270434]}, \"tinfo\": {\"Term\": [\"klager\", \"demonstration\", \"eritrea\", \"kvindelig\", \"deltage\", \"ans\\u00f8gere\", \"\\u00e6gtef\\u00e6lle\", \"opholdstilladelse\", \"sudan\", \"bidoon\", \"oplysning\", \"hjemland\", \"divergere\", \"oplysnings\", \"etiopien\", \"videre\", \"dokument\", \"danmark\", \"n\\u00e6vnsm\\u00f8de\", \"forf\\u00f8lgelse\", \"fremg\\u00e5\", \"sag\", \"bop\\u00e6l\", \"tale\", \"statsborgerskab\", \"f\\u00f8de\", \"sandsynligg\\u00f8re\", \"dag\", \"bror\", \"f\\u00f8lge\", \"sudan\", \"eritreisk\", \"etiopien\", \"eritrea\", \"soldat\", \"tigrinya\", \"etiopisk\", \"ortodoks\", \"d\\u00e5bsattest\", \"sudanesisk\", \"nationaltjeneste\", \"kristen\", \"retur\", \"people\", \"liberation\", \"krist\", \"tvivlsom\", \"eritrean\", \"hvortil\", \"idkort\", \"burmesisk\", \"k\\u00f8ret\\u00f8j\", \"aftjene\", \"landekod\", \"syg\", \"egentlig\", \"indkalde\", \"lejr\", \"front\", \"genoptage\", \"stamme\", \"burma\", \"statsborgerskab\", \"flertal\", \"freml\\u00e6gge\", \"advokat\", \"for\\u00e6lder\", \"tale\", \"n\\u00e6vnsm\\u00f8de\", \"udstede\", \"ans\\u00f8gere\", \"f\\u00f8de\", \"forf\\u00f8lgelse\", \"sandsynligg\\u00f8re\", \"fremg\\u00e5\", \"statsborger\", \"sag\", \"flygte\", \"risiko\", \"hjemland\", \"herefter\", \"opholde\", \"dokument\", \"land\", \"tysk\", \"sprogtests\", \"v\\u00e5gne\", \"fattig\", \"kv\\u00e6g\", \"forholde\", \"udgift\", \"kritisere\", \"kroatien\", \"frugt\", \"forene\", \"arabien\", \"saudi\", \"qatar\", \"emirat\", \"bahrain\", \"sikkerhedspoliti\", \"myndighedspersone\", \"in\", \"sye\", \"tiger\", \"israel\", \"gulf\", \"hoved\", \"n\\u00e6vnsbehandling\", \"arabic\", \"p\\u00e5k\\u00f8rt\", \"udstr\\u00e6kke\", \"menneskesmugler\", \"besvime\", \"n\\u00e5\", \"\\u00f8strig\", \"fingeraftryk\", \"tyskland\", \"n\\u00e6vne\", \"fremst\\u00e5\", \"otte\", \"skole\", \"flertal\", \"ans\\u00f8g\", \"angiv\", \"bem\\u00e6rke\", \"kvindelig\", \"herved\", \"land\", \"\\u00e5r\", \"gennem\", \"ops\\u00f8gt\", \"mor\", \"bidooner\", \"komme\", \"\\u00e6gtepar\", \"hvorefter\", \"s\\u00f8ge\", \"demonstration\", \"utrov\\u00e6rdig\", \"ang\\u00e5\", \"deltage\", \"f\\u00f8re\", \"barn\", \"gang\", \"sag\", \"fordi\", \"bop\\u00e6l\", \"dokument\", \"sandsynliggjore\", \"forbindelse\", \"fremg\\u00e5\", \"generel\", \"dag\", \"bidoon\", \"divergere\", \"oplysning\", \"angiveligt\", \"bo\", \"opholdstilladelse\", \"fremm\\u00f8de\", \"fremm\\u00f8d\", \"aa\", \"bem\\u00e6rkning\", \"br\\u00e6kke\", \"referat\", \"abdullah\", \"akhbar\", \"indk\\u00f8b\", \"grundl\\u00e6ggende\", \"hjemmeh\\u00f8re\", \"personligt\", \"bod\", \"adspurgt\", \"minutters\", \"indvillige\", \"l\\u00f8bende\", \"frieri\", \"group\", \"kvarter\", \"proteste\", \"small\", \"indledningsvis\", \"korrigere\", \"anmodning\", \"bagrund\", \"beskedent\", \"gadenumr\", \"isolere\", \"myndighedsops\\u00f8gning\", \"bind\", \"henrette\", \"medio\", \"divergensen\", \"heroverfor\", \"ovenfor\", \"dinare\", \"\\u00f8je\", \"l\\u00f8sladelse\", \"kvindelig\", \"dag\", \"hvori\", \"ans\\u00f8gers\", \"foran\", \"tilbageholdelse\", \"vinter\", \"hver\", \"opm\\u00e6rksom\", \"demonstration\", \"m\\u00e5ned\", \"deltage\", \"side\", \"omkring\", \"samt\", \"bidooner\", \"f\\u00e6ngsel\", \"bop\\u00e6l\", \"l\\u00f8slade\", \"oplysning\", \"sag\", \"l\\u00f8sladels\", \"uds\\u00e6tte\", \"sommer\", \"bem\\u00e6rke\", \"bidoon\", \"fordi\", \"for\\u00e5r\", \"to\", \"udl\\u00e6ndingestyrelse\", \"asylsamtale\", \"herunder\", \"\\u00e6gtef\\u00e6lle\", \"barn\", \"kuwaitisk\", \"tilbageholde\", \"angiveligt\", \"gang\", \"divergere\", \"alshabaab\", \"rohingya\", \"myanmar\", \"bangladesh\", \"hollandsk\", \"etnicitet\", \"holland\", \"damaskus\", \"syrien\", \"bruger\", \"kommentere\", \"lik\", \"profilbillede\", \"ipad\", \"klagerens\", \"indikere\", \"opfyldte\", \"samstemmende\", \"tvangshverv\", \"iddokument\", \"fornavn\", \"syrisk\", \"nationalitetspas\", \"urigtig\", \"hedde\", \"b\\u00e6re\", \"belaste\", \"klager\", \"klagere\", \"bro\", \"forl\\u00e6ngelse\", \"fs\", \"inddrage\", \"profil\", \"jordan\", \"svig\", \"somalia\", \"asylsag\", \"s\\u00f8ster\", \"opholdstilladelse\", \"oprindelig\", \"nr\", \"sommer\", \"pas\", \"indrejse\", \"udl\\u00e6ndingestyrelse\", \"fremg\\u00e5\", \"danmark\", \"navn\", \"samme\", \"efter\\u00e5r\", \"person\", \"for\\u00e5r\", \"statsborger\", \"opholde\", \"n\\u00e6rmere\", \"samtale\", \"videre\", \"oplysning\", \"dato\", \"far\", \"\\u00e6gtef\\u00e6lle\", \"kvindelig\", \"herunder\", \"liyu\", \"police\", \"morbror\", \"isil\", \"dreng\", \"episod\", \"onlf\", \"ung\", \"seksuel\", \"kniv\", \"uddele\", \"cder\", \"fortalt\", \"mellemrum\", \"belgisk\", \"restaurant\", \"besvare\", \"selve\", \"styrke\", \"h\\u00e6ndelse\", \"pige\", \"libysk\", \"direkte\", \"vandmelone\", \"minut\", \"\\u00e5bne\", \"officer\", \"episode\", \"seksuelt\", \"beskede\", \"mand\", \"fader\", \"fare\", \"hvorfra\", \"far\", \"opdage\", \"true\", \"hus\", \"umenneskelig\", \"ans\\u00f8gere\", \"gade\", \"d\\u00f8r\", \"libyen\", \"m\\u00f8de\", \"asylans\\u00f8ger\", \"tage\", \"mor\", \"gang\", \"politi\", \"hjem\", \"dag\", \"arbejde\", \"bop\\u00e6l\", \"sp\\u00f8rgsm\\u00e5l\", \"ihjel\", \"sl\\u00e5\", \"divergere\", \"to\", \"bo\", \"komme\", \"bror\", \"opholde\", \"herefter\", \"\\u00e5r\", \"tre\", \"sandsynliggjore\", \"s\\u00e5\", \"bidoon\", \"kuwaitisk\", \"flygtningen\\u00e6vne\", \"forbindelse\", \"konflikt\", \"angiveligt\", \"fordi\", \"navn\", \"oplysning\", \"danmark\", \"bar\", \"vriste\", \"comr\\u00e5den\", \"avlingstid\", \"betjente\", \"efterstr\\u00e6be\", \"enkeltvis\", \"folke\", \"graviditet\", \"m\\u00e6ndene\", \"p\\u00e5kl\\u00e6dning\", \"seddel\", \"sparsomt\", \"tidligt\", \"underrette\", \"undslap\", \"yng\", \"comr\\u00e5d\", \"adskille\", \"overs\\u00e6ttelse\", \"skjulested\", \"filmoptagelse\", \"lytte\", \"v\\u00e5ben\", \"identificere\", \"yderst\", \"gram\", \"fremskaffe\", \"s\\u00f8stre\", \"knap\", \"medf\\u00f8re\", \"n\\u00e6vn\", \"lokalomr\\u00e5d\", \"ransage\", \"oplysnings\", \"resultat\", \"motivsamta\", \"videre\", \"kvindelig\", \"n\\u00e6vnsm\\u00f8de\", \"angiveligt\", \"demonstration\", \"hjemland\", \"fremlagt\", \"bop\\u00e6l\", \"falsk\", \"dokument\", \"divergense\", \"ans\\u00f8gerne\", \"enkelt\", \"baggrund\", \"sandsynligg\\u00f8re\", \"indbyrdes\", \"bo\", \"\\u00e5r\", \"herefter\", \"to\", \"navn\", \"mor\", \"fordi\", \"bror\", \"f\\u00f8de\", \"kurder\", \"algerium\", \"algeri\", \"drab\", \"forlove\", \"udsende\", \"amharisk\", \"v\\u00e6rnepligt\", \"advokatindl\\u00e6gg\", \"etiopie\", \"udrejseforhold\", \"journalist\", \"interessere\", \"libanon\", \"italien\", \"udseende\", \"liste\", \"tilladelse\", \"tiltr\\u00e6de\", \"amhari\", \"medvirke\", \"ghana\", \"italiensk\", \"bestemt\", \"farbr\\u00f8der\", \"oprindeligt\", \"fange\", \"fremsende\", \"offentligt\", \"anklaget\", \"nr\", \"libanesisk\", \"dokumentation\", \"traf\", \"veninde\", \"klager\", \"svig\", \"kvinde\", \"tilbagevende\", \"opn\\u00e5\", \"ukendt\", \"\\u00e6gtef\\u00e6lle\", \"bem\\u00e6rkelsesv\\u00e6rdigt\", \"ihjel\", \"klagere\", \"hjemland\", \"efter\\u00e5r\", \"opholdstilladelse\", \"danmark\", \"statsborgerskab\", \"f\\u00f8de\", \"sl\\u00e5\", \"flygtningen\\u00e6vnet\", \"risiko\", \"sag\", \"fordi\", \"forf\\u00f8lgelse\", \"statsborger\", \"oplysning\", \"\\u00e5r\", \"forekomme\", \"land\", \"baggrund\", \"barn\", \"tidspunkt\", \"person\", \"alfarwaniyah\", \"avis\", \"fremtidig\", \"optage\", \"grov\", \"mosk\\u00e9\", \"bydel\", \"asylskema\", \"plausibel\", \"omgang\", \"kl\", \"iransk\", \"d\\u00e5rligt\", \"lige\", \"forfald\", \"sk\\u00e6ldsord\", \"navngive\", \"opl\\u00f8sning\", \"sulaybia\", \"konfrontere\", \"lide\", \"politibil\", \"anderledes\", \"indvilge\", \"verbalt\", \"daglig\", \"relatere\", \"ejendom\", \"1990er\", \"ansvarlig\", \"r\\u00e5be\", \"fordel\", \"moske\", \"forkert\", \"opgive\", \"ops\\u00f8gte\", \"emir\", \"fysisk\", \"angivet\", \"ret\", \"forretningsord\", \"prim\\u00e6rt\", \"deltage\", \"fly\", \"taima\", \"bidoon\", \"demonstration\", \"tilbageholde\", \"shiamuslim\", \"angivelig\", \"rettighed\", \"demonstrant\", \"slutning\", \"gr\\u00e6sk\", \"politi\", \"erkl\\u00e6ring\", \"kuwaitisk\", \"overgreb\", \"by\", \"navn\", \"arab\", \"fordi\", \"sandsynligg\\u00f8re\", \"omkring\", \"hel\", \"demonstratione\", \"dag\", \"irak\", \"forbindelse\", \"generel\", \"hjemland\", \"divergere\", \"uds\\u00e6tte\", \"flygtningen\\u00e6vne\", \"l\\u00f8slade\", \"udl\\u00e6ndingestyrelse\", \"forf\\u00f8lgelse\", \"far\", \"videre\", \"\\u00e5r\", \"mens\", \"land\", \"sandsynliggjore\", \"genindrejs\", \"landinfo\", \"utreis\", \"varet\\u00e6gtsf\\u00e6ngslet\", \"asylretligt\", \"sambehandlet\", \"diwaniya\", \"samtalereferaterne\", \"aircondition\", \"bidoonbefolkning\", \"husnumm\", \"bedoonbefolkning\", \"oprindelse\", \"eventuelt\", \"l\\u00e6gehj\\u00e6lp\", \"baggrundsoplysninge\", \"diskrimination\", \"tilstr\\u00e6kkeligt\", \"d\\u00f8trene\", \"enslydende\", \"farbroder\", \"hvilke\", \"identiten\", \"medf\\u00f8lgende\", \"rolle\", \"sparsom\", \"svogers\", \"svogre\", \"udf\\u00f8relse\", \"lokalomr\\u00e5de\", \"elektricit\", \"ulovligt\", \"vanskelig\", \"fald\", \"spise\", \"sove\", \"farbror\", \"bidune\", \"begrunde\", \"tilsvarende\", \"situation\", \"formel\", \"bidun\", \"familiemedlem\", \"barn\", \"f\\u00f8lge\", \"oplysning\", \"behandle\", \"omst\\u00e6ndighed\", \"s\\u00f8n\", \"illegal\", \"if\\u00f8lge\", \"bidooner\", \"demonstration\", \"mens\", \"ans\\u00f8gere\", \"uds\\u00e6tte\", \"sammen\", \"udrejst\", \"forbindelse\", \"adgang\", \"deltage\", \"herunder\", \"hver\", \"bidoon\", \"sag\", \"ligesom\", \"navn\", \"f\\u00f8re\", \"person\", \"opholdstilladelse\", \"m\\u00e5tte\", \"baggrundsoplysning\", \"heller\", \"komme\", \"bop\\u00e6l\", \"overgreb\", \"kuwaitisk\", \"fremg\\u00e5\", \"hovedstad\", \"tilf\\u00e6ldighed\", \"fremh\\u00e6ve\", \"bevism\\u00e6ssig\", \"najaf\", \"p\\u00e5st\\u00e5\", \"bero\", \"persisk\", \"antallet\", \"motiv\", \"spinkle\", \"badtoilet\", \"fortrinsvis\", \"koordinere\", \"m\\u00f8der\", \"regione\", \"respektive\", \"till\\u00e6rt\", \"uafh\\u00e6ngigt\", \"rut\", \"diverse\", \"beskrivelse\", \"henrettet\", \"knytte\", \"hvorefte\", \"dialekt\", \"s\\u00e5som\", \"derudover\", \"rimelig\", \"lokalkendskab\", \"forfalsket\", \"dav\\u00e6rende\", \"udl\\u00e6ndin\", \"relativt\", \"udl\\u00e6nding\", \"golf\", \"asylgrundlag\", \"p\\u00e5ber\\u00e5ber\", \"divergere\", \"viden\", \"hinanden\", \"bror\", \"dertil\", \"dato\", \"indbyrdes\", \"foreliggende\", \"\\u00e6gtef\\u00e6lle\", \"dokument\", \"oplysning\", \"omfattet\", \"n\\u00f8dvendig\", \"s\\u00f8ge\", \"sulaibiya\", \"demonstration\", \"ans\\u00f8g\", \"opholdstilladelse\", \"deltage\", \"give\", \"bop\\u00e6l\", \"far\", \"f\\u00f8lge\", \"irakisk\", \"heller\", \"ans\\u00f8gere\", \"bo\", \"angiveligt\", \"bidooner\", \"kvindelig\", \"sag\", \"to\", \"f\\u00f8re\", \"bidoon\"], \"Freq\": [243.0, 612.0, 85.0, 341.0, 387.0, 305.0, 209.0, 216.0, 39.0, 433.0, 303.0, 173.0, 316.0, 128.0, 31.0, 179.0, 211.0, 169.0, 81.0, 144.0, 149.0, 201.0, 350.0, 99.0, 53.0, 135.0, 158.0, 319.0, 194.0, 166.0, 38.4511202680717, 22.208998952683274, 29.180770794571817, 76.97520452771761, 11.537084195187656, 11.125901724649276, 11.103949764871034, 5.200701215355381, 4.348128145014745, 3.495554771704015, 3.4955480589645442, 3.4955440083341145, 2.6429789482479094, 2.642466176078193, 3.9060475219883237, 4.3481285945133665, 1.7904066882803336, 1.790405851581866, 2.6429826035230928, 10.25128076823251, 3.4955589732932872, 1.7904084631778725, 4.002731287333092, 1.7904091777011941, 3.403310449258353, 1.2618935923343646, 3.471853067898521, 2.642984632214401, 1.4694505282770178, 1.7904089735680027, 9.779452478670624, 3.495558686569749, 13.878697033952273, 8.44528016527535, 9.99274204836082, 4.309478170656525, 10.320817572089418, 12.074809713831446, 10.378425469767148, 8.13129759452988, 15.279016520976263, 9.820318691478246, 9.633067174144218, 9.603800815615156, 9.421319908593476, 9.665215744351752, 9.371339143399265, 7.337432519170291, 7.780530304973932, 8.168907544462423, 8.216197369715854, 7.41277857537951, 7.429094724969016, 6.918750240735079, 10.496264777117606, 5.7661780382031305, 4.822664121706035, 4.82265672820111, 4.822652498500175, 4.822607283443039, 4.822590198514509, 3.87704407563259, 3.8770440755971007, 3.877043893213723, 3.8770337554413326, 3.877033755440979, 3.877033755440952, 3.877033755440893, 3.877033755440801, 3.8770337554407845, 3.877023828207902, 3.8769998736260445, 3.8769856954504607, 3.8769612393827617, 3.876540904212226, 7.647521556238053, 12.237684473772863, 9.857531268300775, 6.713879630635823, 10.313296095225912, 2.9314233175056206, 2.931422758476264, 2.9314078061516056, 2.9314068429625815, 5.117784222644576, 16.64224544052612, 7.515118770765137, 7.457964605480971, 14.286079585390043, 35.934028741869284, 8.242872045678677, 13.419695153765598, 18.32232376146238, 34.49772278996878, 11.866885575134038, 54.89917355644443, 82.22103410068418, 35.066189595429584, 43.90150711770921, 54.10236124483415, 7.694946654591445, 41.264254457331454, 51.97707814215643, 55.66867582631279, 55.6926757630189, 17.214010177619727, 29.712370182093913, 26.43251781617522, 85.0096280511009, 22.002740396250843, 22.147344020727243, 57.71045302768874, 37.03645183229036, 40.39240453049507, 42.903135017528605, 38.9980252443676, 40.64658417219314, 50.14459679051527, 38.06943120844416, 33.37433897848183, 37.263938965672104, 31.91902727061615, 33.22972009742812, 44.03497849544111, 50.0142232409913, 42.90989200045939, 40.8744142048402, 35.782412829054316, 34.988484032274, 33.99227703980433, 9.778930049491755, 9.778929913003465, 6.874223648132819, 6.874084298387666, 5.9059545831775795, 12.393580636607208, 4.9378290150219515, 4.937827323233325, 4.937811902069035, 4.93780481136859, 3.969667665025962, 3.9696591051902423, 3.9696487962739435, 3.9696299884680584, 3.9696052549683656, 3.9695739641031973, 3.96956032129133, 3.9695278334622413, 3.9695260787430495, 3.969180904069462, 3.962467715621623, 3.9273963573665998, 7.732337636661166, 3.001458250462039, 3.0014528008868053, 3.0014520505161744, 3.0014520505161744, 3.0014520505161744, 3.0014520505161744, 3.0014520505161744, 8.135731790811983, 9.559605290502107, 12.802973216189097, 5.838181583376561, 7.127154892434014, 8.422434922426975, 14.082412066466661, 9.429680347122282, 34.49002829372039, 133.3589867805863, 106.85440205891143, 9.808566698067558, 22.873714385509814, 7.69485159891515, 26.130864471659116, 37.60131078254244, 28.59703189296229, 8.954649440741413, 132.95021531029957, 47.79451731817613, 86.97918485931002, 16.61806059830633, 40.43862176900594, 35.03664872707482, 53.66853431663053, 37.20408325895645, 68.43492305558496, 33.02182814241605, 58.48794764518488, 45.715294964648294, 22.355991557077417, 41.36742452093928, 32.139443051732435, 41.592651716868794, 61.979794873557026, 43.38380337457991, 31.36221383740165, 37.01135158866196, 37.30516421220633, 30.694439787229353, 36.216402401837584, 36.05344887697359, 35.931177406339735, 36.784875762428115, 33.01671014716392, 34.91182933011262, 34.502083566906386, 32.34767906756254, 17.779482485082905, 14.986901699325443, 22.433816647787044, 8.470859111722616, 8.47084254455703, 7.53997540412099, 7.539974097602698, 5.6782500369164906, 33.78260845132242, 3.8165407534914797, 3.8165407534914797, 3.8165407534914797, 3.8165407534914797, 3.8164874333848133, 2.8856787250359797, 2.8856787250324425, 2.8856787250324425, 2.8856787250324425, 2.885647518204762, 2.8856209309016556, 10.332601195108321, 33.86898446421797, 7.539993476151239, 6.6091119296092415, 17.4849982220243, 4.710609214121122, 8.47086543352746, 170.5694501561775, 19.95930495538746, 1.9548146201733845, 7.539967061058974, 7.366468358336686, 14.30603822438845, 10.450456636982324, 13.30948100925731, 10.332590848967325, 8.585869280206932, 9.141216046292355, 25.226423143615587, 50.7629367595047, 7.132568121208955, 10.33259028940781, 30.392512303414538, 21.50652115130235, 15.573333627301526, 35.07000795722853, 28.777611704991784, 29.683069873910068, 32.767501042622285, 24.91498780140912, 22.87690443061838, 23.025741550720216, 21.970453285668476, 23.305640051530336, 20.691995578452648, 15.546141967348769, 17.069289277479704, 18.860199256011498, 20.811084221549955, 14.680684993034834, 19.357741560758818, 17.31702238796613, 16.695036903276726, 15.775213382304653, 21.35727116819996, 20.390878001041475, 16.525000756926485, 15.55890555823052, 14.592510727077839, 12.659744347576881, 12.659735705380225, 11.693342536707373, 10.726940254170268, 9.760539621749661, 9.76053366182608, 8.794156763456185, 8.793982575989517, 7.827722973222506, 7.82768648412296, 6.861383214560264, 6.861268580018947, 6.860644417100148, 5.894998662410413, 5.894997213989647, 5.894990170868443, 5.894972863520744, 5.8949650301992795, 5.894954332093116, 5.894944668551148, 5.894458889908705, 21.71808320934033, 11.646651994391862, 16.481862681386566, 4.9286054390021885, 80.2178625989955, 27.655495554641988, 22.321069248383616, 9.456011799063326, 159.6846403159807, 8.743336052086907, 20.303036866348933, 34.695216446875534, 10.827936223102027, 151.9624208391352, 15.134424664239356, 12.659704756691744, 15.371193076383179, 44.023146584688504, 27.132924471057354, 73.23768727510179, 81.12978639122974, 87.25132999120216, 64.39973874199667, 52.085148500384165, 104.32083759099419, 49.16514582203273, 107.50003108221301, 29.970155014245993, 33.325745113955335, 54.757321907115504, 93.41866939159911, 66.41389463119833, 66.03011154916034, 69.5067042648168, 60.45177770230764, 56.1032918964325, 60.720789498210934, 57.3582510819197, 47.360465403651716, 50.47914322957918, 44.794064500402705, 80.00462979210994, 59.024209597901496, 52.804607475583914, 54.420382175459316, 46.081272334350295, 54.98626361145872, 54.861256675373525, 50.750623133581705, 50.56878611812495, 47.446729572794126, 25.328658398887256, 10.374468682204252, 9.439831610915348, 8.505195114835038, 8.505195114835038, 8.505195114835038, 8.505195114835038, 8.505195114835038, 8.505195114835038, 8.505195114835038, 8.505195114835038, 8.505195114835038, 8.505195114835038, 8.505195114835038, 8.505195114835038, 8.505195114835038, 8.505195114835038, 7.57055800218513, 8.50519943611766, 8.50519898523367, 8.500572468529294, 8.500571935500197, 8.500571202643016, 18.589152747670603, 9.439770277276278, 15.043515144172629, 16.916929985315836, 17.654299258037106, 8.5052006475867, 8.505200206946723, 20.30951385547035, 16.36017594991984, 15.041068323505998, 21.586308159348757, 42.07348636774008, 24.10683443562026, 25.28944794782289, 45.048971300413086, 63.424676572552116, 25.205808996992612, 39.65289906799334, 63.327432573030634, 32.20114750525404, 15.047669717557175, 42.60433910093372, 24.348567708918658, 32.091489335002386, 16.916237496414183, 17.608160725856063, 15.037388236585514, 25.98110052599175, 23.730640618416988, 17.281313995111386, 25.2971896498592, 23.774270399770987, 23.945223921026024, 20.681022234177437, 19.378309769314985, 18.921084515686957, 18.811124090092363, 17.471774111857762, 17.243696094957247, 9.067913225291862, 7.272301812166336, 6.374488508885017, 3.6810334340725372, 3.6809689042132536, 7.272308614012662, 2.78320683654247, 2.7832019973889337, 2.7831978206295895, 2.78296651431577, 1.8854137402110016, 1.8854034490485534, 1.885282147536223, 15.352673332960297, 3.006955799301677, 1.7515526580946943, 2.7832298776247684, 3.6491230390289093, 7.617302690321053, 5.476684703670627, 6.365216898243558, 6.854634034195712, 1.8854138850433824, 9.702561597704518, 1.8854056573942062, 5.648193354263717, 1.8854079325757578, 1.8853748393279686, 1.8853480389032045, 1.8854146600494757, 10.863575516293178, 2.783230654708217, 4.578849697418879, 2.7832283895318635, 2.749597983894375, 71.79138603484367, 7.272310830543101, 12.646175010959528, 4.381119043687746, 10.237608676107184, 15.014904929408472, 30.803008649165903, 6.374502837355645, 13.949317239581552, 7.8633447551718545, 21.525671123674382, 15.741948155097822, 19.45354117130988, 17.16418815186696, 9.54277471949926, 13.893972005604262, 13.448909217867266, 13.296247771385065, 12.320246064225797, 13.422446866112955, 13.616033976163893, 11.919150886573574, 12.019183874266078, 12.919665543803445, 10.875178103490969, 8.804636954754187, 9.1885199838013, 9.259786081110672, 9.25059756168081, 8.523935211590842, 8.696214804841764, 5.012132310409339, 5.012122018788709, 5.72373396026307, 4.029322140139434, 4.029139327411334, 6.977551714872647, 3.0465830317741873, 3.046579339054797, 3.046576109827677, 3.752967869322072, 5.813218830110439, 7.188568555048213, 5.66306826523003, 4.902183094132929, 5.4533404948730055, 2.0638152222605326, 2.0638146766520635, 2.063810878959674, 2.063810171751056, 2.0638081661884904, 2.0638006584987125, 2.063793268237692, 2.0637905015127154, 2.063781371080313, 2.063777595913927, 2.063776146414493, 2.0637622084057914, 2.06368334259157, 2.0636828448753377, 2.75271783029393, 7.872131885488741, 13.51987274099513, 5.244113496658849, 3.941567806154954, 17.495854316579038, 5.7103055709172335, 7.4402190163183315, 23.89892726707607, 13.905468222609496, 5.922914015333891, 3.7742423369011013, 2.662304800561635, 140.85852215060615, 7.395559214490361, 15.949830743888405, 151.14854484699273, 201.51553629847623, 65.83423074774768, 28.827437058349297, 30.72818791929934, 67.20803053302369, 19.370899371463594, 13.184644826446426, 25.14851247807945, 44.76582836365124, 11.789544168227073, 54.339569437611715, 47.867388114573, 29.953224537064965, 51.48338300671343, 20.680939161645874, 42.9415026230023, 33.38633108399681, 30.460778111315925, 22.12750836090083, 23.15837237155659, 46.079127346198646, 27.60430541639802, 36.35560521433213, 32.34660069875435, 32.08564228186888, 42.406336415793895, 32.31942187215356, 31.721781644741213, 25.18313843684983, 31.893152956032818, 27.42503289629572, 34.559257863107874, 28.854180951256584, 28.872365906715032, 26.836469429495082, 25.804755021155113, 25.819244882962764, 9.36881470261986, 9.36881470261986, 9.36881470261986, 9.36881470261986, 8.441219841222438, 8.441165885092651, 7.513614317137128, 7.513614317137128, 7.513599333403496, 6.585967347425983, 9.825676597389066, 5.658396606934825, 12.070921630971085, 10.318185709847803, 4.729686680264024, 10.236401697547128, 10.186573616082386, 9.368815116043992, 3.8031874938464387, 3.8031874938464387, 3.8031874938464387, 3.8031874938464387, 3.8031874938464387, 3.8031874938464387, 3.8031874938464387, 3.8031874938464387, 3.8031874938464387, 3.8031874938464387, 3.8031874938464387, 3.8030954164744752, 7.513609349862904, 11.906366994833549, 11.901108259990602, 20.417133256636333, 9.245430100525143, 11.224048609714256, 18.925003574705364, 9.987137615667185, 20.170195512621586, 7.513615473118162, 9.254655770145956, 14.268049197213015, 14.301015300122167, 23.75999069562329, 54.57123263492366, 45.7323208083268, 62.03867963413222, 15.919461717544333, 28.945789064952518, 23.53909662088882, 13.343014852239653, 22.667593361201032, 41.62095068730898, 68.47708610510533, 35.36412966697904, 46.12938735649903, 33.73201781171151, 29.05565426778239, 21.30733910696117, 32.601961338711476, 18.10054226528345, 41.59986482406453, 31.676550180402174, 20.645072233269392, 42.6082155055869, 30.782928705745647, 24.928182224561585, 30.925601470539988, 28.138012887418526, 25.221955652740185, 29.614183992041905, 25.481199500839192, 20.27848621492567, 22.911255706752435, 26.59281556029361, 26.366903121031257, 24.28609516710064, 23.98734797399262, 22.536119293832726, 5.115690839078345, 4.112642846667511, 8.864264893505167, 3.1095507987314144, 3.7572227346249476, 8.819445915025483, 5.1157252218223155, 5.084853581391412, 2.1064755142510507, 2.1064755142510507, 2.1064755142510507, 2.106474867506519, 2.106474867506519, 2.106474867506519, 2.106474867506519, 2.106474867506519, 2.106474867506519, 2.106474867506519, 2.106474867506519, 2.106467996678332, 2.1064625108832917, 4.110106196241076, 3.109546002743298, 9.953979761521078, 3.536318986448362, 16.03340514175763, 2.8356546399619296, 21.28493999965518, 11.060045023891186, 5.396800723299037, 12.9116429291564, 9.224446727674458, 15.562798625551236, 11.556503826792916, 26.496689925726713, 7.643352365772471, 13.769827391648889, 14.365096647929157, 66.09403002098783, 5.749567874177834, 5.113937613130412, 45.193723816064896, 6.414234522242432, 20.89208778137833, 20.48752110801596, 18.475044697820962, 41.4865348988829, 39.17628764682796, 44.43437978468084, 14.511231791901846, 12.782450123219032, 19.683896240749714, 12.75637399290558, 52.89158007404865, 18.25078808588303, 29.020915389281946, 37.212303240767206, 19.164754659470496, 33.01491232495908, 28.954824371792636, 22.839619542725067, 20.320507674068327, 18.723625797399343, 24.01499519770692, 21.791524927203863, 21.55988776926663, 21.241191669247907, 23.328419092454652, 20.036885537741767, 19.767450370603775, 19.185932050662192, 19.438067480282864], \"Total\": [243.0, 612.0, 85.0, 341.0, 387.0, 305.0, 209.0, 216.0, 39.0, 433.0, 303.0, 173.0, 316.0, 128.0, 31.0, 179.0, 211.0, 169.0, 81.0, 144.0, 149.0, 201.0, 350.0, 99.0, 53.0, 135.0, 158.0, 319.0, 194.0, 166.0, 39.30684171901964, 24.008021323587176, 31.76332612528991, 85.74467270306216, 12.92147504472773, 12.924524339941582, 12.926658496574774, 6.05640956140496, 5.2038344320962535, 4.351259096354043, 4.351259456158818, 4.351259847799419, 3.4986840131739916, 3.4987398528733054, 5.262850696895205, 6.101650469935557, 2.6461085247349767, 2.6461086398236913, 4.444304163973208, 17.957029163396992, 6.212986855021614, 3.591728861071162, 8.060686143470068, 3.6125014669557163, 7.297330308946468, 2.716664391229621, 8.219996618091004, 6.291276635247457, 3.6553490702334086, 4.512136678853461, 25.587154909946403, 9.005579195930155, 53.3340989179033, 35.940764419102955, 46.99877390011053, 13.913255791865566, 59.974330115732194, 99.04535430117446, 81.87051632922629, 59.42123053113485, 305.6777680822334, 135.7044285356671, 144.5390640937835, 158.40021903839207, 149.785808416526, 184.51830417935895, 201.49636387439725, 82.5979463463385, 125.90927215930398, 173.15348055910647, 202.78812293009483, 172.2012290802539, 211.96980193644362, 143.0540028001294, 11.342787043111333, 6.614761123984817, 5.669060673959703, 5.669060837197203, 5.669060112613343, 5.6690619782556695, 5.669062166838504, 4.723440152090037, 4.723440152089052, 4.723440156097654, 4.72344038895122, 4.723440388951229, 4.723440388951229, 4.7234403889512295, 4.723440388951232, 4.723440388951231, 4.723440962843323, 4.72344198676263, 4.7234397467461156, 4.723441886088088, 4.72340061612206, 9.47257227206526, 15.171919075974099, 12.326257259057606, 8.528515039341828, 13.240806371454948, 3.7778196513583975, 3.7778196733213023, 3.777820265133003, 3.777820302973473, 6.640236557146887, 22.69108673349207, 10.450415064561735, 10.364507620963701, 24.647727316775452, 81.0111136180618, 12.403074808769757, 23.637595808516608, 35.940764419102955, 84.71007634871032, 21.697647617273425, 190.0752474510745, 341.1973953692976, 104.00040698472641, 143.0540028001294, 197.42897108203493, 12.418810633452004, 140.38670743898388, 206.33641197540987, 230.35489773806046, 245.5889423958432, 41.371616718899766, 98.11897573254844, 90.16678594692591, 612.1475086543569, 67.22548413571752, 68.30290854587363, 387.57425819912555, 179.54528926639261, 211.5963547328348, 236.73641955868484, 201.49636387439725, 227.2197215982162, 350.6252560406422, 211.96980193644362, 160.66294149451173, 206.66772932981016, 149.785808416526, 165.298540024689, 319.8568960384726, 433.35640152450344, 316.972744626032, 303.98848769173935, 227.91371998360333, 222.88380710291602, 216.09309389783985, 10.623081013410724, 10.62308160115189, 7.718444341412149, 7.718443862746838, 6.750232943355352, 14.4665723809543, 5.7820179476766995, 5.78201787675523, 5.782017395760984, 5.782016545291621, 4.813807359897832, 4.813807460956312, 4.813807810264736, 4.81380631252994, 4.813805471917807, 4.8138082278863115, 4.813806829597937, 4.813803087801491, 4.813801619285861, 4.813787384805191, 4.813505604195543, 4.812034756408723, 9.652842214083046, 3.845595143662211, 3.845595133420343, 3.845595105208865, 3.845595105208865, 3.845595105208865, 3.845595105208865, 3.845595105208865, 10.584436899098634, 12.509202220508017, 17.339261295609223, 7.694268249833659, 9.615586653426224, 11.53704819628079, 20.202084699189438, 13.39055126038671, 61.88451099133831, 341.1973953692976, 319.8568960384726, 15.29500868267088, 48.474688800601335, 11.55885088759885, 59.78182762367518, 98.3792773440039, 70.62280192611773, 14.47686254268912, 612.1475086543569, 152.47754558204363, 387.57425819912555, 36.026236064100274, 136.42487636187897, 115.69560311236859, 230.35489773806046, 130.36984713739182, 350.6252560406422, 109.92515131791319, 303.98848769173935, 201.49636387439725, 60.694905992830165, 179.95431595948023, 119.31016219576641, 190.0752474510745, 433.35640152450344, 227.2197215982162, 127.32134175839592, 206.1584488598326, 211.9634759771682, 136.2286011902931, 202.01135119980893, 209.50066663005873, 211.5963547328348, 226.32413322647298, 179.54284629742662, 227.91371998360333, 236.73641955868484, 316.972744626032, 18.627375341236686, 15.834784256439322, 24.13427236581319, 9.318735252685117, 9.318735642775497, 8.387870505777403, 8.38787158124572, 6.526142997906028, 39.1079335235524, 4.664414662259241, 4.664414662259241, 4.664414662259241, 4.664414662259241, 4.664417110191618, 3.733550441611855, 3.7335504416118126, 3.7335504416118126, 3.7335504416118126, 3.733549333691398, 3.7335486515990346, 13.992108370976577, 45.944039197169985, 10.324295795968462, 9.207398705091448, 24.419382052655337, 6.58010302245203, 12.012185577086242, 243.11892720232552, 28.580741240986775, 2.802686336751874, 11.08132044360593, 11.345865195473186, 25.607072198427286, 17.74783502776798, 24.688631216899207, 18.362991789407875, 14.911938696936955, 16.523251095813308, 70.66327841118952, 216.09309389783985, 12.035936381430432, 21.95425604070989, 119.31016219576641, 70.82915729699072, 46.141232743305586, 211.9634759771682, 149.785808416526, 169.94455557208713, 237.03341472881291, 142.29971506258636, 122.74275850389873, 130.62675226410522, 127.32134175839592, 184.51830417935895, 172.2012290802539, 80.81614562164583, 120.65556364064108, 179.44747695539306, 303.98848769173935, 72.0877617568197, 289.7641426736516, 209.50066663005873, 341.1973953692976, 202.01135119980893, 22.201606811331065, 21.235213595358495, 17.369633055457978, 16.403248717969404, 15.43685595767218, 13.504070013461435, 13.504068241186603, 12.53767722983271, 11.571283921326152, 10.604889873090382, 10.6048904569581, 9.638496738438892, 9.638494032192268, 8.672103429245947, 8.672103976544708, 7.705709964913636, 7.7057113482179815, 7.705692558650343, 6.739317467232978, 6.739317491784863, 6.7393173905497425, 6.739315636495427, 6.739317140616938, 6.739318749937806, 6.739318188259282, 6.739315792753174, 25.04622584025108, 13.48229520746138, 19.297690317400942, 5.772924243862877, 102.181582420512, 37.33785438750982, 30.001605387333107, 11.524560261254802, 289.7641426736516, 10.567498141198506, 27.896392633280456, 52.16455317885423, 13.573612282394766, 305.6777680822334, 20.272758754167192, 16.40870655743192, 20.87900789064018, 79.4663914984421, 45.85632296738393, 176.45977313011298, 206.33641197540987, 236.73641955868484, 156.28532998044915, 117.99479787734369, 319.8568960384726, 111.28444571127952, 350.6252560406422, 54.53525843622222, 64.93016613484671, 137.82001344435065, 316.972744626032, 206.1584488598326, 222.88380710291602, 245.5889423958432, 194.67944689145745, 172.2012290802539, 202.78812293009483, 197.42897108203493, 138.2249939254508, 160.66294149451173, 125.37969797240835, 433.35640152450344, 226.32413322647298, 190.86229497096295, 206.66772932981016, 142.71530889121817, 227.91371998360333, 227.2197215982162, 237.03341472881291, 303.98848769173935, 169.94455557208713, 26.176153054279006, 11.221963480973473, 10.287326643663189, 9.352689776728287, 9.352689776728287, 9.352689776728287, 9.352689776728287, 9.352689776728287, 9.352689776728287, 9.352689776728287, 9.352689776728287, 9.352689776728287, 9.352689776728287, 9.352689776728287, 9.352689776728287, 9.352689776728287, 9.352689776728287, 8.418052941548144, 10.298310963963596, 10.298312023308174, 10.335700365393048, 10.335700279548368, 10.335700366147124, 23.505961782661196, 12.223749381374116, 19.617557480275398, 22.418742136366657, 23.41419498084833, 11.285476547876165, 11.285476050437955, 27.11731135712603, 26.045638106565875, 24.359341720631623, 44.501402753088485, 128.84851299045545, 54.60332788296609, 65.76498020276156, 179.44747695539306, 341.1973953692976, 81.87051632922629, 227.91371998360333, 612.1475086543569, 173.15348055910647, 32.98777996596188, 350.6252560406422, 102.7342539584624, 211.96980193644362, 48.605526842510606, 58.43731414486078, 42.25164107906017, 200.9354236305506, 158.40021903839207, 71.04176546649775, 222.88380710291602, 197.42897108203493, 202.78812293009483, 206.1584488598326, 237.03341472881291, 206.33641197540987, 227.2197215982162, 194.67944689145745, 135.7044285356671, 9.919120483123965, 8.123487226337193, 7.225670937702741, 4.532223224861616, 4.532226822713062, 9.054350864524064, 3.6344053121706015, 3.634407028448839, 3.6344088891635824, 3.6344188278494296, 2.73659026060903, 2.7365908390990743, 2.736597066603219, 22.734636189781163, 4.568114542378157, 2.7437157288353515, 4.48698174298771, 6.467445986893776, 13.90074596650092, 10.110327832364998, 11.913791316500587, 12.873828507222903, 3.5891656630930595, 18.841114939211018, 3.664197711057092, 10.98534697517476, 3.6674554860226793, 3.6674551734816525, 3.6674617538589174, 3.6822107135548188, 21.95425604070989, 5.496134392029258, 9.235114878781753, 5.531664418218262, 5.573443888328277, 243.11892720232552, 18.362991789407875, 40.535836336745646, 10.091638624350894, 36.895269249748985, 68.042075714636, 209.50066663005873, 18.705028790922945, 64.93016613484671, 28.580741240986775, 173.15348055910647, 122.74275850389873, 216.09309389783985, 169.94455557208713, 53.3340989179033, 135.7044285356671, 137.82001344435065, 154.70356153103538, 125.90927215930398, 201.49636387439725, 227.2197215982162, 144.5390640937835, 184.51830417935895, 303.98848769173935, 197.42897108203493, 82.7069083054601, 143.0540028001294, 200.9354236305506, 211.5963547328348, 68.6958519071713, 130.62675226410522, 5.854820811579069, 5.8548199911630485, 6.827342443369104, 4.872046990435956, 4.872052488145504, 8.7867561714013, 3.889275695799416, 3.889275682643174, 3.889275476838719, 4.86795113882521, 7.776346724091217, 9.756664591609816, 7.748377104284457, 6.821404299224158, 7.659770327503929, 2.9065031566849506, 2.9065028902131242, 2.906502889311204, 2.90650286257737, 2.906502882268205, 2.9065027738795224, 2.9065031716366634, 2.906502389912166, 2.906501747554052, 2.9065025274805656, 2.9065008347964216, 2.906500518306855, 2.9064997341601324, 2.906499825399007, 3.8843763610264532, 11.636661811907922, 21.220817214316682, 7.765194319019744, 5.794727627104079, 28.99600977408477, 8.731441426402965, 11.642927083549132, 43.67913040297812, 24.039856804930963, 9.585154955038329, 5.785486102652151, 3.8835797366306997, 387.57425819912555, 12.65929588476942, 30.968898146121244, 433.35640152450344, 612.1475086543569, 179.54284629742662, 66.05100464266573, 72.94691929554216, 203.484773455493, 41.5248854965531, 27.655069426215828, 67.29991056870732, 156.28532998044915, 24.216465406075752, 226.32413322647298, 191.8791349207776, 95.72230205491032, 237.03341472881291, 63.81376074355281, 227.2197215982162, 158.40021903839207, 136.42487636187897, 79.82322332321432, 87.9356414397018, 319.8568960384726, 122.44522967921819, 206.66772932981016, 165.298540024689, 173.15348055910647, 316.972744626032, 179.95431595948023, 190.86229497096295, 109.92515131791319, 211.9634759771682, 144.5390640937835, 289.7641426736516, 179.44747695539306, 197.42897108203493, 169.95258923416495, 143.0540028001294, 160.66294149451173, 10.21702587513896, 10.21702587513896, 10.21702587513896, 10.21702587513896, 9.2894185311634, 9.289420893070066, 8.361811773611095, 8.361811773611095, 8.361812310465682, 7.434206959926804, 11.164320650412845, 6.5065985619181985, 13.971587957581061, 11.998968031560826, 5.579081254519674, 12.091411995634015, 12.117653565246233, 11.14788997854573, 4.651384950321615, 4.651384950321615, 4.651384950321615, 4.651384950321615, 4.651384950321615, 4.651384950321615, 4.651384950321615, 4.651384950321615, 4.651384950321615, 4.651384950321615, 4.651384950321615, 4.651390775994948, 9.307434138245206, 14.89501744133245, 14.947237600368148, 28.03129321226615, 12.121502999323608, 15.854721973296646, 29.161217105791803, 14.061719772306564, 31.58616466053449, 10.253052763688844, 14.088786018716185, 24.624081484845302, 25.581773030500827, 55.95418511685856, 211.5963547328348, 166.67744296177204, 303.98848769173935, 32.17183549498311, 100.62335278387516, 70.55455048114766, 24.491012674651447, 68.78946011504091, 230.35489773806046, 612.1475086543569, 169.95258923416495, 305.6777680822334, 179.95431595948023, 152.03377786459063, 73.00773945669357, 206.66772932981016, 50.53681196784825, 387.57425819912555, 202.01135119980893, 70.62280192611773, 433.35640152450344, 201.49636387439725, 123.12901665539503, 237.03341472881291, 179.54528926639261, 130.62675226410522, 216.09309389783985, 139.25909260309237, 71.0779596590136, 109.17830416648962, 245.5889423958432, 350.6252560406422, 191.8791349207776, 226.32413322647298, 149.785808416526, 5.956375694037242, 4.953293016796386, 10.899464564031458, 3.950208986469452, 4.927703820947206, 11.842272390327583, 6.924588308447024, 6.923514362962912, 2.947125568070063, 2.947125568070063, 2.947125568070063, 2.9471255459868555, 2.9471255459868555, 2.9471255459868555, 2.9471255459868555, 2.9471255459868555, 2.9471255459868555, 2.9471255459868555, 2.9471255459868555, 2.947125191606431, 2.9471248144588262, 5.880709531110199, 4.884845516338595, 15.689166103338671, 5.924366248164728, 27.603913010609844, 4.883474230337324, 37.16350897920332, 19.655324875972724, 9.79083721039633, 25.36676135281222, 18.25392817879584, 34.146196548281736, 24.344748246530315, 72.00954479933017, 15.688619176395534, 34.08471584076574, 38.946375600922245, 316.972744626032, 11.526951301580965, 9.821865095657852, 194.67944689145745, 13.565169268751148, 72.0877617568197, 71.04176546649775, 63.894827227814595, 209.50066663005873, 211.96980193644362, 303.98848769173935, 52.26605146690129, 42.52857147768665, 90.16678594692591, 42.892520539463746, 612.1475086543569, 84.71007634871032, 216.09309389783985, 387.57425819912555, 100.76013523213612, 350.6252560406422, 289.7641426736516, 166.67744296177204, 129.56905072990622, 109.17830416648962, 305.6777680822334, 222.88380710291602, 227.91371998360333, 230.35489773806046, 341.1973953692976, 201.49636387439725, 206.1584488598326, 179.54528926639261, 433.35640152450344], \"Category\": [\"Default\", \"Default\", \"Default\", \"Default\", \"Default\", \"Default\", \"Default\", \"Default\", \"Default\", \"Default\", \"Default\", \"Default\", \"Default\", \"Default\", \"Default\", \"Default\", \"Default\", \"Default\", \"Default\", \"Default\", \"Default\", \"Default\", \"Default\", \"Default\", \"Default\", \"Default\", \"Default\", \"Default\", \"Default\", \"Default\", \"Topic1\", \"Topic1\", \"Topic1\", \"Topic1\", \"Topic1\", \"Topic1\", \"Topic1\", \"Topic1\", \"Topic1\", \"Topic1\", \"Topic1\", \"Topic1\", \"Topic1\", \"Topic1\", \"Topic1\", \"Topic1\", \"Topic1\", \"Topic1\", \"Topic1\", \"Topic1\", \"Topic1\", \"Topic1\", \"Topic1\", \"Topic1\", \"Topic1\", \"Topic1\", \"Topic1\", \"Topic1\", \"Topic1\", \"Topic1\", \"Topic1\", \"Topic1\", \"Topic1\", \"Topic1\", \"Topic1\", \"Topic1\", \"Topic1\", \"Topic1\", \"Topic1\", \"Topic1\", \"Topic1\", \"Topic1\", \"Topic1\", \"Topic1\", \"Topic1\", \"Topic1\", \"Topic1\", \"Topic1\", \"Topic1\", \"Topic1\", \"Topic1\", \"Topic1\", \"Topic1\", \"Topic1\", \"Topic2\", \"Topic2\", \"Topic2\", \"Topic2\", \"Topic2\", \"Topic2\", \"Topic2\", \"Topic2\", \"Topic2\", \"Topic2\", \"Topic2\", \"Topic2\", \"Topic2\", \"Topic2\", \"Topic2\", \"Topic2\", \"Topic2\", \"Topic2\", \"Topic2\", \"Topic2\", \"Topic2\", \"Topic2\", \"Topic2\", \"Topic2\", \"Topic2\", \"Topic2\", \"Topic2\", \"Topic2\", \"Topic2\", \"Topic2\", \"Topic2\", \"Topic2\", \"Topic2\", \"Topic2\", \"Topic2\", \"Topic2\", \"Topic2\", \"Topic2\", \"Topic2\", \"Topic2\", \"Topic2\", \"Topic2\", \"Topic2\", \"Topic2\", \"Topic2\", \"Topic2\", \"Topic2\", \"Topic2\", \"Topic2\", \"Topic2\", \"Topic2\", \"Topic2\", \"Topic2\", \"Topic2\", \"Topic2\", \"Topic2\", \"Topic2\", \"Topic2\", \"Topic2\", \"Topic2\", \"Topic2\", \"Topic2\", \"Topic2\", \"Topic2\", \"Topic2\", \"Topic2\", \"Topic2\", \"Topic2\", \"Topic2\", \"Topic2\", \"Topic2\", \"Topic2\", \"Topic2\", \"Topic2\", \"Topic2\", \"Topic2\", \"Topic3\", \"Topic3\", \"Topic3\", \"Topic3\", \"Topic3\", \"Topic3\", \"Topic3\", \"Topic3\", \"Topic3\", \"Topic3\", \"Topic3\", \"Topic3\", \"Topic3\", \"Topic3\", \"Topic3\", \"Topic3\", \"Topic3\", \"Topic3\", \"Topic3\", \"Topic3\", \"Topic3\", \"Topic3\", \"Topic3\", \"Topic3\", \"Topic3\", \"Topic3\", \"Topic3\", \"Topic3\", \"Topic3\", \"Topic3\", \"Topic3\", \"Topic3\", \"Topic3\", \"Topic3\", \"Topic3\", \"Topic3\", \"Topic3\", \"Topic3\", \"Topic3\", \"Topic3\", \"Topic3\", \"Topic3\", \"Topic3\", \"Topic3\", \"Topic3\", \"Topic3\", \"Topic3\", \"Topic3\", \"Topic3\", \"Topic3\", \"Topic3\", \"Topic3\", \"Topic3\", \"Topic3\", \"Topic3\", \"Topic3\", \"Topic3\", \"Topic3\", \"Topic3\", \"Topic3\", \"Topic3\", \"Topic3\", \"Topic3\", \"Topic3\", \"Topic3\", \"Topic3\", \"Topic3\", \"Topic3\", \"Topic3\", \"Topic3\", \"Topic3\", \"Topic3\", \"Topic3\", \"Topic3\", \"Topic3\", \"Topic3\", \"Topic3\", \"Topic3\", \"Topic4\", \"Topic4\", \"Topic4\", \"Topic4\", \"Topic4\", \"Topic4\", \"Topic4\", \"Topic4\", \"Topic4\", \"Topic4\", \"Topic4\", \"Topic4\", \"Topic4\", \"Topic4\", \"Topic4\", \"Topic4\", \"Topic4\", \"Topic4\", \"Topic4\", \"Topic4\", \"Topic4\", \"Topic4\", \"Topic4\", \"Topic4\", \"Topic4\", \"Topic4\", \"Topic4\", \"Topic4\", \"Topic4\", \"Topic4\", \"Topic4\", \"Topic4\", \"Topic4\", \"Topic4\", \"Topic4\", \"Topic4\", \"Topic4\", \"Topic4\", \"Topic4\", \"Topic4\", \"Topic4\", \"Topic4\", \"Topic4\", \"Topic4\", \"Topic4\", \"Topic4\", \"Topic4\", \"Topic4\", \"Topic4\", \"Topic4\", \"Topic4\", \"Topic4\", \"Topic4\", \"Topic4\", \"Topic4\", \"Topic4\", \"Topic4\", \"Topic4\", \"Topic4\", \"Topic4\", \"Topic4\", \"Topic4\", \"Topic4\", \"Topic4\", \"Topic5\", \"Topic5\", \"Topic5\", \"Topic5\", \"Topic5\", \"Topic5\", \"Topic5\", \"Topic5\", \"Topic5\", \"Topic5\", \"Topic5\", \"Topic5\", \"Topic5\", \"Topic5\", \"Topic5\", \"Topic5\", \"Topic5\", \"Topic5\", \"Topic5\", \"Topic5\", \"Topic5\", \"Topic5\", \"Topic5\", \"Topic5\", \"Topic5\", \"Topic5\", \"Topic5\", \"Topic5\", \"Topic5\", \"Topic5\", \"Topic5\", \"Topic5\", \"Topic5\", \"Topic5\", \"Topic5\", \"Topic5\", \"Topic5\", \"Topic5\", \"Topic5\", \"Topic5\", \"Topic5\", \"Topic5\", \"Topic5\", \"Topic5\", \"Topic5\", \"Topic5\", \"Topic5\", \"Topic5\", \"Topic5\", \"Topic5\", \"Topic5\", \"Topic5\", \"Topic5\", \"Topic5\", \"Topic5\", \"Topic5\", \"Topic5\", \"Topic5\", \"Topic5\", \"Topic5\", \"Topic5\", \"Topic5\", \"Topic5\", \"Topic5\", \"Topic5\", \"Topic5\", \"Topic5\", \"Topic5\", \"Topic5\", \"Topic5\", \"Topic5\", \"Topic5\", \"Topic5\", \"Topic5\", \"Topic5\", \"Topic5\", \"Topic5\", \"Topic6\", \"Topic6\", \"Topic6\", \"Topic6\", \"Topic6\", \"Topic6\", \"Topic6\", \"Topic6\", \"Topic6\", \"Topic6\", \"Topic6\", \"Topic6\", \"Topic6\", \"Topic6\", \"Topic6\", \"Topic6\", \"Topic6\", \"Topic6\", \"Topic6\", \"Topic6\", \"Topic6\", \"Topic6\", \"Topic6\", \"Topic6\", \"Topic6\", \"Topic6\", \"Topic6\", \"Topic6\", \"Topic6\", \"Topic6\", \"Topic6\", \"Topic6\", \"Topic6\", \"Topic6\", \"Topic6\", \"Topic6\", \"Topic6\", \"Topic6\", \"Topic6\", \"Topic6\", \"Topic6\", \"Topic6\", \"Topic6\", \"Topic6\", \"Topic6\", \"Topic6\", \"Topic6\", \"Topic6\", \"Topic6\", \"Topic6\", \"Topic6\", \"Topic6\", \"Topic6\", \"Topic6\", \"Topic6\", \"Topic6\", \"Topic6\", \"Topic6\", \"Topic6\", \"Topic6\", \"Topic6\", \"Topic6\", \"Topic7\", \"Topic7\", \"Topic7\", \"Topic7\", \"Topic7\", \"Topic7\", \"Topic7\", \"Topic7\", \"Topic7\", \"Topic7\", \"Topic7\", \"Topic7\", \"Topic7\", \"Topic7\", \"Topic7\", \"Topic7\", \"Topic7\", \"Topic7\", \"Topic7\", \"Topic7\", \"Topic7\", \"Topic7\", \"Topic7\", \"Topic7\", \"Topic7\", \"Topic7\", \"Topic7\", \"Topic7\", \"Topic7\", \"Topic7\", \"Topic7\", \"Topic7\", \"Topic7\", \"Topic7\", \"Topic7\", \"Topic7\", \"Topic7\", \"Topic7\", \"Topic7\", \"Topic7\", \"Topic7\", \"Topic7\", \"Topic7\", \"Topic7\", \"Topic7\", \"Topic7\", \"Topic7\", \"Topic7\", \"Topic7\", \"Topic7\", \"Topic7\", \"Topic7\", \"Topic7\", \"Topic7\", \"Topic7\", \"Topic7\", \"Topic7\", \"Topic7\", \"Topic7\", \"Topic7\", \"Topic7\", \"Topic7\", \"Topic7\", \"Topic7\", \"Topic7\", \"Topic7\", \"Topic8\", \"Topic8\", \"Topic8\", \"Topic8\", \"Topic8\", \"Topic8\", \"Topic8\", \"Topic8\", \"Topic8\", \"Topic8\", \"Topic8\", \"Topic8\", \"Topic8\", \"Topic8\", \"Topic8\", \"Topic8\", \"Topic8\", \"Topic8\", \"Topic8\", \"Topic8\", \"Topic8\", \"Topic8\", \"Topic8\", \"Topic8\", \"Topic8\", \"Topic8\", \"Topic8\", \"Topic8\", \"Topic8\", \"Topic8\", \"Topic8\", \"Topic8\", \"Topic8\", \"Topic8\", \"Topic8\", \"Topic8\", \"Topic8\", \"Topic8\", \"Topic8\", \"Topic8\", \"Topic8\", \"Topic8\", \"Topic8\", \"Topic8\", \"Topic8\", \"Topic8\", \"Topic8\", \"Topic8\", \"Topic8\", \"Topic8\", \"Topic8\", \"Topic8\", \"Topic8\", \"Topic8\", \"Topic8\", \"Topic8\", \"Topic8\", \"Topic8\", \"Topic8\", \"Topic8\", \"Topic8\", \"Topic8\", \"Topic8\", \"Topic8\", \"Topic8\", \"Topic8\", \"Topic8\", \"Topic8\", \"Topic8\", \"Topic8\", \"Topic8\", \"Topic8\", \"Topic8\", \"Topic8\", \"Topic8\", \"Topic8\", \"Topic8\", \"Topic8\", \"Topic8\", \"Topic8\", \"Topic8\", \"Topic8\", \"Topic8\", \"Topic9\", \"Topic9\", \"Topic9\", \"Topic9\", \"Topic9\", \"Topic9\", \"Topic9\", \"Topic9\", \"Topic9\", \"Topic9\", \"Topic9\", \"Topic9\", \"Topic9\", \"Topic9\", \"Topic9\", \"Topic9\", \"Topic9\", \"Topic9\", \"Topic9\", \"Topic9\", \"Topic9\", \"Topic9\", \"Topic9\", \"Topic9\", \"Topic9\", \"Topic9\", \"Topic9\", \"Topic9\", \"Topic9\", \"Topic9\", \"Topic9\", \"Topic9\", \"Topic9\", \"Topic9\", \"Topic9\", \"Topic9\", \"Topic9\", \"Topic9\", \"Topic9\", \"Topic9\", \"Topic9\", \"Topic9\", \"Topic9\", \"Topic9\", \"Topic9\", \"Topic9\", \"Topic9\", \"Topic9\", \"Topic9\", \"Topic9\", \"Topic9\", \"Topic9\", \"Topic9\", \"Topic9\", \"Topic9\", \"Topic9\", \"Topic9\", \"Topic9\", \"Topic9\", \"Topic9\", \"Topic9\", \"Topic9\", \"Topic9\", \"Topic9\", \"Topic9\", \"Topic9\", \"Topic9\", \"Topic9\", \"Topic9\", \"Topic9\", \"Topic9\", \"Topic9\", \"Topic9\", \"Topic9\", \"Topic9\", \"Topic9\", \"Topic9\", \"Topic9\", \"Topic9\", \"Topic10\", \"Topic10\", \"Topic10\", \"Topic10\", \"Topic10\", \"Topic10\", \"Topic10\", \"Topic10\", \"Topic10\", \"Topic10\", \"Topic10\", \"Topic10\", \"Topic10\", \"Topic10\", \"Topic10\", \"Topic10\", \"Topic10\", \"Topic10\", \"Topic10\", \"Topic10\", \"Topic10\", \"Topic10\", \"Topic10\", \"Topic10\", \"Topic10\", \"Topic10\", \"Topic10\", \"Topic10\", \"Topic10\", \"Topic10\", \"Topic10\", \"Topic10\", \"Topic10\", \"Topic10\", \"Topic10\", \"Topic10\", \"Topic10\", \"Topic10\", \"Topic10\", \"Topic10\", \"Topic10\", \"Topic10\", \"Topic10\", \"Topic10\", \"Topic10\", \"Topic10\", \"Topic10\", \"Topic10\", \"Topic10\", \"Topic10\", \"Topic10\", \"Topic10\", \"Topic10\", \"Topic10\", \"Topic10\", \"Topic10\", \"Topic10\", \"Topic10\", \"Topic10\", \"Topic10\", \"Topic10\", \"Topic10\", \"Topic10\", \"Topic10\", \"Topic10\", \"Topic10\", \"Topic10\", \"Topic10\", \"Topic10\", \"Topic10\", \"Topic10\", \"Topic10\"], \"logprob\": [30.0, 29.0, 28.0, 27.0, 26.0, 25.0, 24.0, 23.0, 22.0, 21.0, 20.0, 19.0, 18.0, 17.0, 16.0, 15.0, 14.0, 13.0, 12.0, 11.0, 10.0, 9.0, 8.0, 7.0, 6.0, 5.0, 4.0, 3.0, 2.0, 1.0, -3.387, -3.9358, -3.6628, -2.6929, -4.5908, -4.6271, -4.629, -5.3875, -5.5666, -5.7848, -5.7848, -5.7848, -6.0644, -6.0646, -5.6738, -5.5666, -6.4539, -6.4539, -6.0644, -4.7089, -5.7848, -6.4539, -5.6494, -6.4539, -5.8116, -6.8037, -5.7916, -6.0644, -6.6514, -6.4539, -4.7561, -5.7848, -4.406, -4.9027, -4.7345, -5.5755, -4.7022, -4.5452, -4.6966, -4.9406, -4.3099, -4.7519, -4.7711, -4.7742, -4.7934, -4.7678, -4.7987, -5.0433, -4.9847, -4.936, -4.9302, -5.0331, -5.0309, -5.1021, -6.4869, -7.0859, -7.2646, -7.2646, -7.2646, -7.2646, -7.2646, -7.4828, -7.4828, -7.4828, -7.4828, -7.4828, -7.4828, -7.4828, -7.4828, -7.4828, -7.4828, -7.4828, -7.4829, -7.4829, -7.483, -6.8035, -6.3334, -6.5497, -6.9337, -6.5045, -7.7624, -7.7624, -7.7624, -7.7624, -7.2052, -6.026, -6.821, -6.8286, -6.1786, -5.2562, -6.7286, -6.2412, -5.9298, -5.297, -6.3642, -4.8324, -4.4285, -5.2807, -5.056, -4.847, -6.7973, -5.1179, -4.8871, -4.8185, -4.8181, -5.9922, -5.4463, -5.5633, -4.3951, -5.7467, -5.7402, -4.7825, -5.226, -5.1393, -5.079, -5.1744, -5.133, -4.923, -5.1985, -5.3301, -5.2199, -5.3747, -5.3345, -5.0529, -4.9256, -5.0788, -5.1274, -5.2605, -5.2829, -5.3118, -6.4889, -6.4889, -6.8413, -6.8413, -6.9931, -6.2519, -7.1722, -7.1722, -7.1722, -7.1722, -7.3904, -7.3904, -7.3904, -7.3904, -7.3904, -7.3904, -7.3904, -7.3905, -7.3905, -7.3905, -7.3922, -7.4011, -6.7237, -7.67, -7.67, -7.67, -7.67, -7.67, -7.67, -7.67, -6.6728, -6.5116, -6.2194, -7.0047, -6.8052, -6.6382, -6.1242, -6.5252, -5.2284, -3.8761, -4.0976, -6.4858, -5.6391, -6.7285, -5.506, -5.1421, -5.4158, -6.5769, -3.8791, -4.9022, -4.3034, -5.9586, -5.0693, -5.2127, -4.7863, -5.1527, -4.5432, -5.2719, -4.7003, -4.9467, -5.662, -5.0466, -5.299, -5.0412, -4.6423, -4.999, -5.3235, -5.1579, -5.15, -5.345, -5.1796, -5.1841, -5.1875, -5.164, -5.2721, -5.2163, -5.2281, -5.2926, -5.1706, -5.3415, -4.9381, -5.912, -5.912, -6.0284, -6.0284, -6.312, -4.5287, -6.7093, -6.7093, -6.7093, -6.7093, -6.7093, -6.9889, -6.9889, -6.9889, -6.9889, -6.9889, -6.9889, -5.7134, -4.5262, -6.0284, -6.1602, -5.1873, -6.4988, -5.912, -2.9095, -5.055, -7.3784, -6.0284, -6.0517, -5.388, -5.702, -5.4602, -5.7134, -5.8985, -5.8359, -4.8208, -4.1215, -6.084, -5.7134, -4.6345, -4.9803, -5.3031, -4.4913, -4.6891, -4.6581, -4.5592, -4.8332, -4.9185, -4.912, -4.959, -4.9, -5.0189, -5.3048, -5.2114, -5.1116, -5.0132, -5.3621, -5.0856, -5.197, -5.2335, -5.2902, -6.1929, -6.2392, -6.4494, -6.5096, -6.5737, -6.7158, -6.7158, -6.7952, -6.8815, -6.9759, -6.9759, -7.0802, -7.0802, -7.1966, -7.1966, -7.3283, -7.3284, -7.3284, -7.4801, -7.4801, -7.4801, -7.4801, -7.4801, -7.4801, -7.4801, -7.4802, -6.1761, -6.7992, -6.452, -7.6592, -4.8695, -5.9344, -6.1487, -7.0076, -4.181, -7.086, -6.2435, -5.7076, -6.8721, -4.2306, -6.5373, -6.7158, -6.5217, -5.4695, -5.9535, -4.9605, -4.8582, -4.7855, -5.0891, -5.3014, -4.6068, -5.3591, -4.5768, -5.854, -5.7479, -5.2513, -4.7172, -5.0583, -5.0641, -5.0128, -5.1524, -5.227, -5.148, -5.2049, -5.3965, -5.3327, -5.4522, -4.8722, -5.1763, -5.2876, -5.2575, -5.4238, -5.2472, -5.2494, -5.3273, -5.3309, -5.3946, -4.7705, -5.663, -5.7575, -5.8617, -5.8617, -5.8617, -5.8617, -5.8617, -5.8617, -5.8617, -5.8617, -5.8617, -5.8617, -5.8617, -5.8617, -5.8617, -5.8617, -5.9781, -5.8617, -5.8617, -5.8623, -5.8623, -5.8623, -5.0798, -5.7575, -5.2915, -5.1741, -5.1314, -5.8617, -5.8617, -4.9913, -5.2075, -5.2916, -4.9303, -4.263, -4.8199, -4.772, -4.1946, -3.8525, -4.7753, -4.3222, -3.8541, -4.5304, -5.2912, -4.2504, -4.8099, -4.5338, -5.1741, -5.134, -5.2919, -4.745, -4.8356, -5.1528, -4.7717, -4.8338, -4.8266, -4.9732, -5.0382, -5.0621, -5.0679, -5.1418, -5.155, -5.2641, -5.4848, -5.6166, -6.1657, -6.1657, -5.4848, -6.4453, -6.4453, -6.4453, -6.4454, -6.8347, -6.8347, -6.8348, -4.7376, -6.368, -6.9084, -6.4453, -6.1744, -5.4385, -5.7684, -5.618, -5.544, -6.8347, -5.1965, -6.8347, -5.7376, -6.8347, -6.8348, -6.8348, -6.8347, -5.0835, -6.4453, -5.9474, -6.4453, -6.4574, -3.1951, -5.4848, -4.9315, -5.9916, -5.1428, -4.7598, -4.0413, -5.6166, -4.8335, -5.4067, -4.3996, -4.7126, -4.5009, -4.6261, -5.2131, -4.8374, -4.87, -4.8814, -4.9576, -4.872, -4.8576, -4.9907, -4.9824, -4.9101, -5.0824, -5.2936, -5.2509, -5.2432, -5.2442, -5.326, -5.306, -6.9324, -6.9324, -6.7996, -7.1506, -7.1507, -6.6015, -7.4302, -7.4302, -7.4302, -7.2217, -6.7841, -6.5717, -6.8103, -6.9546, -6.848, -7.8197, -7.8197, -7.8197, -7.8197, -7.8197, -7.8197, -7.8197, -7.8197, -7.8197, -7.8197, -7.8197, -7.8197, -7.8197, -7.8197, -7.5316, -6.4809, -5.9401, -6.8871, -7.1727, -5.6823, -6.802, -6.5373, -5.3704, -5.912, -6.7654, -7.216, -7.565, -3.5965, -6.5434, -5.7748, -3.526, -3.2384, -4.3571, -5.1829, -5.1191, -4.3364, -5.5805, -5.9652, -5.3194, -4.7428, -6.077, -4.549, -4.6758, -5.1446, -4.603, -5.515, -4.7844, -5.0361, -5.1278, -5.4474, -5.4019, -4.7139, -5.2263, -4.9509, -5.0677, -5.0758, -4.7969, -5.0686, -5.0872, -5.3181, -5.0818, -5.2328, -5.0016, -5.182, -5.1813, -5.2545, -5.2937, -5.2931, -5.9891, -5.9891, -5.9891, -5.9891, -6.0933, -6.0933, -6.2097, -6.2097, -6.2097, -6.3415, -5.9415, -6.4933, -5.7357, -5.8925, -6.6726, -5.9005, -5.9054, -5.9891, -6.8906, -6.8906, -6.8906, -6.8906, -6.8906, -6.8906, -6.8906, -6.8906, -6.8906, -6.8906, -6.8906, -6.8906, -6.2097, -5.7494, -5.7498, -5.2101, -6.0023, -5.8084, -5.286, -5.9252, -5.2222, -6.2097, -6.0013, -5.5684, -5.5661, -5.0584, -4.2269, -4.4036, -4.0987, -5.4589, -4.861, -5.0678, -5.6355, -5.1055, -4.4978, -4.0, -4.6608, -4.395, -4.708, -4.8572, -5.1674, -4.7421, -5.3305, -4.4984, -4.7709, -5.199, -4.4744, -4.7995, -5.0105, -4.7949, -4.8893, -4.9987, -4.8382, -4.9885, -5.2169, -5.0948, -4.9458, -4.9543, -5.0365, -5.0489, -5.1113, -6.4694, -6.6876, -5.9197, -6.9672, -6.778, -5.9247, -6.4694, -6.4754, -7.3567, -7.3567, -7.3567, -7.3567, -7.3567, -7.3567, -7.3567, -7.3567, -7.3567, -7.3567, -7.3567, -7.3567, -7.3567, -6.6883, -6.9672, -5.8037, -6.8386, -5.327, -7.0594, -5.0437, -5.6984, -6.4159, -5.5436, -5.8798, -5.3568, -5.6545, -4.8247, -6.0679, -5.4792, -5.4369, -3.9106, -6.3526, -6.4697, -4.2907, -6.2432, -5.0623, -5.0819, -5.1853, -4.3763, -4.4336, -4.3077, -5.4268, -5.5536, -5.1219, -5.5557, -4.1335, -5.1975, -4.7337, -4.4851, -5.1486, -4.6047, -4.736, -4.9732, -5.0901, -5.1719, -4.923, -5.0202, -5.0309, -5.0458, -4.952, -5.1041, -5.1177, -5.1475, -5.1345], \"loglift\": [30.0, 29.0, 28.0, 27.0, 26.0, 25.0, 24.0, 23.0, 22.0, 21.0, 20.0, 19.0, 18.0, 17.0, 16.0, 15.0, 14.0, 13.0, 12.0, 11.0, 10.0, 9.0, 8.0, 7.0, 6.0, 5.0, 4.0, 3.0, 2.0, 1.0, 3.6551, 3.5992, 3.5923, 3.5692, 3.5638, 3.5272, 3.5251, 3.5248, 3.4974, 3.4581, 3.4581, 3.4581, 3.3966, 3.3964, 3.3789, 3.3383, 3.2864, 3.2864, 3.1574, 3.1165, 3.1019, 2.9809, 2.9771, 2.9751, 2.9143, 2.9103, 2.8152, 2.8098, 2.7658, 2.7528, 2.7153, 2.7307, 2.3309, 2.2288, 2.1288, 2.5051, 1.9173, 1.5726, 1.6117, 1.6881, 0.681, 1.0511, 0.9687, 0.8741, 0.9108, 0.7279, 0.609, 1.2561, 0.8931, 0.6232, 0.471, 0.5316, 0.326, 0.6481, 1.7979, 1.7382, 1.7138, 1.7138, 1.7138, 1.7138, 1.7138, 1.678, 1.678, 1.678, 1.678, 1.678, 1.678, 1.678, 1.678, 1.678, 1.678, 1.678, 1.678, 1.678, 1.6779, 1.6615, 1.6606, 1.652, 1.6363, 1.6256, 1.6218, 1.6218, 1.6218, 1.6218, 1.6151, 1.5655, 1.5458, 1.5464, 1.3301, 1.0626, 1.4669, 1.3094, 1.2018, 0.9772, 1.2721, 0.6336, 0.4525, 0.7883, 0.6942, 0.581, 1.3969, 0.6511, 0.4968, 0.4553, 0.3917, 0.9986, 0.6809, 0.6484, -0.0987, 0.7586, 0.7493, -0.029, 0.297, 0.2195, 0.1675, 0.2332, 0.1545, -0.0693, 0.1585, 0.304, 0.1624, 0.3295, 0.2712, -0.1074, -0.2837, -0.1242, -0.131, 0.024, 0.0239, 0.0259, 1.8615, 1.8615, 1.8285, 1.8285, 1.8107, 1.7897, 1.7865, 1.7865, 1.7865, 1.7865, 1.7515, 1.7515, 1.7515, 1.7515, 1.7515, 1.7515, 1.7515, 1.7515, 1.7515, 1.7514, 1.7498, 1.7412, 1.7225, 1.6965, 1.6965, 1.6965, 1.6965, 1.6965, 1.6965, 1.6965, 1.6812, 1.6754, 1.641, 1.6683, 1.6448, 1.6297, 1.5835, 1.5936, 1.3597, 1.0049, 0.8479, 1.5, 1.1933, 1.5374, 1.1167, 0.9825, 1.0403, 1.4639, 0.4173, 0.7842, 0.4501, 1.1706, 0.7283, 0.7498, 0.4875, 0.6904, 0.3105, 0.7417, 0.2961, 0.461, 0.9456, 0.4741, 0.6327, 0.4248, -0.0004, 0.2885, 0.5432, 0.2269, 0.207, 0.4541, 0.2255, 0.1846, 0.1712, 0.1274, 0.2509, 0.0682, 0.0184, -0.338, 2.6182, 2.6097, 2.5917, 2.5694, 2.5694, 2.5582, 2.5582, 2.5256, 2.5184, 2.4641, 2.4641, 2.4641, 2.4641, 2.4641, 2.4072, 2.4072, 2.4072, 2.4072, 2.4072, 2.4071, 2.3616, 2.3598, 2.3505, 2.3332, 2.3307, 2.3305, 2.3155, 2.3104, 2.3057, 2.3045, 2.2797, 2.2328, 2.0826, 2.1351, 2.0469, 2.0897, 2.1127, 2.0728, 1.6347, 1.2162, 2.1415, 1.9111, 1.2972, 1.4728, 1.5786, 0.8657, 1.0152, 0.9199, 0.686, 0.9223, 0.9848, 0.929, 0.9077, 0.5957, 0.5458, 1.0164, 0.7091, 0.4119, -0.0167, 1.0734, -0.0412, 0.1717, -0.3526, 0.1149, 1.4204, 1.4186, 1.4093, 1.4063, 1.4029, 1.3946, 1.3946, 1.3895, 1.3834, 1.3762, 1.3762, 1.3675, 1.3675, 1.3567, 1.3567, 1.3431, 1.3431, 1.343, 1.3253, 1.3253, 1.3253, 1.3253, 1.3253, 1.3253, 1.3253, 1.3252, 1.3166, 1.3128, 1.3014, 1.3011, 1.2172, 1.159, 1.1635, 1.2613, 0.8633, 1.2697, 1.1414, 1.0514, 1.2332, 0.7603, 1.1669, 1.1998, 1.1529, 0.8686, 0.9344, 0.5798, 0.5257, 0.461, 0.5726, 0.6414, 0.3388, 0.6423, 0.2769, 0.8605, 0.7922, 0.5361, 0.2374, 0.3264, 0.2426, 0.1969, 0.2897, 0.3377, 0.2533, 0.2231, 0.3881, 0.3014, 0.4299, -0.2303, 0.1152, 0.1742, 0.1248, 0.3287, 0.0373, 0.0381, -0.0821, -0.3345, 0.1833, 2.6781, 2.6325, 2.625, 2.616, 2.616, 2.616, 2.616, 2.616, 2.616, 2.616, 2.616, 2.616, 2.616, 2.616, 2.616, 2.616, 2.616, 2.6049, 2.5197, 2.5197, 2.5155, 2.5155, 2.5155, 2.4763, 2.4526, 2.4455, 2.4294, 2.4287, 2.4282, 2.4282, 2.4219, 2.246, 2.2289, 1.9876, 1.5918, 1.8934, 1.7553, 1.3289, 1.0284, 1.533, 0.9622, 0.4424, 1.0288, 1.9261, 0.6033, 1.2713, 0.8232, 1.6556, 1.5114, 1.6779, 0.6654, 0.8127, 1.2974, 0.5351, 0.5942, 0.5746, 0.4116, 0.207, 0.3218, 0.2196, 0.3003, 0.648, 3.1548, 3.1338, 3.1192, 3.0365, 3.0365, 3.0254, 2.9777, 2.9777, 2.9777, 2.9776, 2.872, 2.872, 2.8719, 2.8519, 2.8264, 2.7957, 2.767, 2.6722, 2.643, 2.6315, 2.6177, 2.6143, 2.6008, 2.5809, 2.5801, 2.5793, 2.5792, 2.5792, 2.5791, 2.5752, 2.541, 2.5641, 2.543, 2.5576, 2.538, 2.0247, 2.3183, 2.0797, 2.4101, 1.9625, 1.7334, 1.3274, 2.168, 1.7066, 1.954, 1.1596, 1.1908, 0.8368, 0.9519, 1.5237, 0.9655, 0.9175, 0.7905, 0.9202, 0.5357, 0.4299, 0.7491, 0.5133, 0.0863, 0.3456, 1.0045, 0.4993, 0.1672, 0.1145, 1.1577, 0.5351, 2.0138, 2.0138, 1.9929, 1.9793, 1.9792, 1.9386, 1.925, 1.925, 1.925, 1.9091, 1.8782, 1.8637, 1.8557, 1.8388, 1.8294, 1.8268, 1.8268, 1.8268, 1.8268, 1.8268, 1.8268, 1.8268, 1.8268, 1.8268, 1.8268, 1.8268, 1.8268, 1.8267, 1.8267, 1.8248, 1.7784, 1.7184, 1.7766, 1.7838, 1.664, 1.7445, 1.7214, 1.5661, 1.6218, 1.6878, 1.742, 1.7916, 1.157, 1.6317, 1.5056, 1.1159, 1.0581, 1.1659, 1.3401, 1.3046, 1.0614, 1.4067, 1.4284, 1.1848, 0.9189, 1.4494, 0.7425, 0.7808, 1.0074, 0.6422, 1.0424, 0.5031, 0.6122, 0.6699, 0.8862, 0.8349, 0.2317, 0.6795, 0.4314, 0.5379, 0.4834, 0.1577, 0.4522, 0.3746, 0.6956, 0.2752, 0.5071, 0.0428, 0.3416, 0.2467, 0.3234, 0.4565, 0.341, 2.4003, 2.4003, 2.4003, 2.4003, 2.3912, 2.3912, 2.38, 2.38, 2.38, 2.3658, 2.3592, 2.3473, 2.3407, 2.3361, 2.3218, 2.3204, 2.3134, 2.3131, 2.2856, 2.2856, 2.2856, 2.2856, 2.2856, 2.2856, 2.2856, 2.2856, 2.2856, 2.2856, 2.2856, 2.2856, 2.2729, 2.263, 2.2591, 2.17, 2.2161, 2.1416, 2.0546, 2.1448, 2.0385, 2.1761, 2.0667, 1.9413, 1.9054, 1.6304, 1.1318, 1.1937, 0.8977, 1.7834, 1.241, 1.3892, 1.8797, 1.3769, 0.7759, 0.2965, 0.9171, 0.5959, 0.8127, 0.8321, 1.2555, 0.6402, 1.4602, 0.2552, 0.6342, 1.2571, 0.1675, 0.6082, 0.8897, 0.4503, 0.6337, 0.8423, 0.4995, 0.7886, 1.2327, 0.9256, 0.2639, -0.1006, 0.42, 0.2425, 0.5929, 2.4596, 2.4257, 2.405, 2.3724, 2.3405, 2.317, 2.309, 2.3031, 2.2759, 2.2759, 2.2759, 2.2759, 2.2759, 2.2759, 2.2759, 2.2759, 2.2759, 2.2759, 2.2759, 2.2759, 2.2759, 2.2535, 2.1601, 2.1567, 2.0957, 2.0684, 2.0681, 2.0544, 2.0367, 2.0161, 1.9364, 1.9292, 1.8259, 1.8666, 1.6119, 1.8926, 1.7053, 1.6143, 1.044, 1.9162, 1.9591, 1.1513, 1.8627, 1.3732, 1.3683, 1.3709, 0.9924, 0.9233, 0.6887, 1.3303, 1.4096, 1.0899, 1.399, 0.163, 1.0767, 0.604, 0.2684, 0.952, 0.249, 0.3084, 0.6242, 0.7591, 0.8485, 0.0679, 0.2866, 0.2536, 0.228, -0.0711, 0.3035, 0.2671, 0.3755, -0.4926]}, \"token.table\": {\"Topic\": [8, 3, 3, 2, 3, 5, 6, 8, 9, 10, 2, 6, 3, 1, 3, 5, 7, 1, 2, 4, 9, 3, 8, 7, 7, 4, 2, 7, 7, 8, 2, 4, 10, 2, 3, 4, 5, 7, 8, 9, 10, 2, 3, 4, 5, 6, 7, 8, 9, 10, 4, 5, 7, 8, 2, 3, 4, 5, 8, 10, 2, 7, 3, 8, 2, 3, 6, 8, 10, 1, 2, 3, 4, 5, 6, 7, 8, 9, 10, 2, 3, 6, 10, 2, 3, 8, 10, 10, 2, 3, 4, 5, 8, 10, 2, 5, 9, 2, 1, 2, 3, 4, 5, 7, 8, 1, 2, 5, 7, 9, 10, 2, 5, 10, 9, 1, 2, 4, 7, 2, 3, 4, 5, 6, 8, 8, 8, 6, 10, 1, 2, 3, 4, 5, 6, 7, 8, 9, 10, 1, 2, 3, 5, 6, 8, 9, 10, 2, 9, 3, 2, 4, 6, 1, 2, 3, 4, 5, 6, 7, 8, 9, 10, 9, 1, 5, 7, 9, 2, 3, 4, 8, 9, 10, 4, 7, 5, 1, 2, 3, 4, 5, 7, 8, 9, 10, 2, 3, 5, 7, 3, 3, 10, 5, 3, 9, 10, 2, 7, 10, 5, 2, 6, 10, 2, 3, 4, 5, 6, 8, 9, 10, 9, 2, 3, 4, 5, 6, 8, 9, 10, 2, 5, 9, 10, 2, 9, 10, 2, 3, 2, 3, 4, 5, 6, 7, 8, 9, 10, 3, 1, 2, 3, 5, 6, 7, 8, 9, 10, 4, 1, 2, 3, 4, 5, 6, 8, 9, 10, 4, 3, 1, 4, 1, 4, 1, 2, 3, 4, 5, 7, 8, 9, 8, 4, 8, 5, 6, 6, 1, 2, 3, 5, 6, 8, 9, 10, 8, 4, 2, 3, 4, 5, 7, 8, 9, 10, 2, 3, 4, 5, 7, 9, 10, 2, 4, 7, 10, 2, 3, 4, 5, 6, 7, 8, 9, 10, 2, 3, 6, 8, 9, 2, 3, 4, 5, 6, 8, 9, 10, 2, 3, 4, 6, 8, 9, 2, 5, 9, 10, 2, 3, 4, 5, 7, 10, 2, 3, 5, 10, 2, 3, 5, 5, 3, 9, 2, 4, 5, 6, 9, 10, 2, 3, 1, 2, 3, 4, 5, 6, 7, 8, 9, 10, 10, 9, 1, 2, 3, 4, 5, 6, 8, 9, 10, 2, 3, 7, 7, 5, 1, 8, 9, 3, 5, 9, 6, 2, 3, 4, 5, 7, 8, 9, 10, 1, 5, 8, 2, 9, 2, 3, 8, 2, 2, 5, 6, 8, 10, 6, 9, 5, 2, 5, 1, 7, 1, 1, 7, 2, 3, 4, 5, 8, 7, 1, 5, 7, 1, 7, 4, 1, 9, 1, 3, 4, 5, 7, 8, 9, 3, 5, 7, 9, 1, 2, 3, 4, 5, 6, 7, 8, 9, 10, 2, 3, 5, 8, 9, 10, 4, 7, 2, 3, 4, 5, 7, 8, 9, 10, 9, 2, 5, 9, 10, 7, 9, 2, 5, 8, 10, 2, 6, 8, 2, 3, 1, 2, 4, 5, 5, 8, 1, 2, 3, 4, 5, 6, 7, 9, 1, 2, 3, 4, 5, 6, 7, 8, 9, 10, 1, 2, 3, 4, 5, 6, 7, 8, 9, 10, 6, 3, 4, 8, 1, 2, 3, 4, 5, 7, 8, 9, 3, 8, 9, 1, 2, 3, 4, 5, 6, 7, 8, 9, 10, 2, 3, 4, 5, 7, 8, 9, 10, 1, 2, 3, 4, 5, 8, 9, 10, 2, 1, 8, 9, 2, 4, 5, 9, 10, 1, 2, 3, 5, 6, 7, 8, 9, 10, 2, 8, 9, 7, 4, 7, 2, 9, 10, 2, 3, 4, 7, 8, 9, 5, 10, 2, 3, 4, 5, 7, 8, 9, 10, 1, 2, 3, 4, 5, 7, 8, 9, 1, 2, 3, 4, 5, 7, 8, 9, 10, 2, 10, 1, 2, 4, 5, 6, 9, 10, 1, 2, 3, 4, 5, 7, 8, 10, 3, 3, 4, 7, 2, 4, 6, 1, 2, 3, 5, 8, 9, 10, 8, 3, 1, 5, 2, 4, 8, 1, 2, 3, 5, 8, 2, 3, 5, 7, 8, 9, 10, 1, 2, 3, 4, 5, 6, 7, 8, 9, 10, 1, 2, 3, 5, 6, 7, 8, 9, 10, 2, 3, 4, 5, 6, 7, 8, 9, 10, 2, 3, 5, 8, 3, 1, 2, 3, 4, 5, 6, 7, 8, 9, 10, 1, 2, 3, 4, 5, 6, 7, 8, 9, 10, 9, 2, 4, 10, 1, 3, 7, 2, 7, 1, 2, 3, 4, 5, 6, 7, 8, 9, 10, 2, 3, 5, 10, 4, 6, 6, 3, 8, 3, 2, 3, 4, 6, 8, 9, 10, 2, 3, 5, 2, 3, 4, 5, 2, 3, 4, 5, 6, 7, 8, 10, 1, 2, 3, 4, 5, 7, 8, 9, 10, 2, 3, 6, 10, 1, 2, 3, 4, 5, 6, 7, 8, 9, 10, 2, 3, 1, 2, 3, 4, 5, 6, 7, 8, 9, 10, 2, 3, 4, 5, 7, 8, 10, 5, 10, 1, 2, 3, 5, 6, 8, 10, 1, 2, 3, 4, 5, 6, 7, 8, 9, 10, 3, 4, 4, 2, 3, 10, 2, 3, 5, 8, 10, 5, 9, 2, 3, 4, 5, 8, 9, 10, 9, 8, 10, 2, 3, 4, 5, 6, 7, 8, 9, 10, 4, 5, 2, 3, 4, 9, 1, 2, 5, 4, 3, 6, 9, 1, 4, 5, 8, 2, 3, 5, 7, 8, 9, 10, 1, 2, 3, 4, 5, 6, 7, 8, 1, 3, 5, 8, 9, 2, 2, 3, 4, 5, 6, 9, 10, 2, 4, 5, 8, 10, 4, 1, 5, 3, 3, 5, 1, 2, 3, 4, 5, 7, 8, 8, 3, 7, 4, 2, 3, 4, 5, 8, 10, 2, 3, 4, 5, 6, 7, 8, 9, 10, 5, 8, 5, 3, 2, 5, 2, 7, 1, 7, 4, 5, 8, 7, 2, 8, 4, 7, 4, 7, 4, 5, 6, 5, 2, 5, 9, 10, 1, 2, 3, 4, 5, 6, 7, 8, 9, 10, 4, 2, 3, 4, 5, 6, 7, 8, 9, 10, 8, 10, 3, 1, 7, 1, 2, 2, 7, 2, 3, 4, 5, 6, 8, 9, 10, 3, 3, 4, 5, 7, 8, 10, 1, 2, 3, 4, 5, 6, 7, 8, 9, 10, 2, 1, 2, 1, 2, 3, 4, 5, 6, 7, 8, 9, 10, 1, 5, 9, 1, 4, 4, 7, 2, 4, 7, 1, 5, 5, 7, 5, 8, 3, 8, 1, 2, 3, 4, 5, 7, 8, 9, 10, 4, 1, 7, 5, 5, 9, 10, 6, 8, 9, 9, 6, 8, 9, 3, 2, 3, 4, 5, 8, 10, 2, 3, 5, 7, 8, 10, 2, 3, 5, 8, 10, 2, 3, 4, 5, 6, 7, 8, 9, 1, 6, 7, 8, 2, 3, 5, 3, 4, 7, 9, 5, 2, 2, 3, 4, 5, 6, 8, 9, 10, 5, 3, 2, 3, 4, 5, 6, 7, 9, 10, 5, 3, 8, 9, 5, 8, 10, 2, 3, 5, 6, 8, 1, 4, 3, 2, 2, 3, 4, 5, 6, 7, 8, 10, 1, 2, 3, 4, 5, 6, 7, 8, 9, 10, 6, 1, 2, 3, 4, 5, 8, 10, 10, 10, 3, 4, 1, 2, 3, 4, 5, 6, 7, 8, 9, 10, 8, 4, 7, 2, 8, 2, 3, 4, 5, 7, 8, 9, 10, 1, 5, 6, 7, 9, 2, 3, 4, 7, 9, 10, 2, 3, 1, 2, 4, 5, 6, 7, 8, 10, 2, 5, 7, 10, 4, 7, 2, 5, 2, 3, 5, 7, 8, 9, 10, 8, 1, 2, 3, 4, 5, 6, 7, 8, 10, 2, 3, 4, 5, 7, 9, 10, 5, 4, 5, 4, 2, 5, 7, 8, 1, 2, 3, 4, 5, 6, 7, 8, 9, 10, 1, 2, 3, 4, 5, 6, 7, 8, 9, 10, 2, 3, 4, 5, 7, 8, 9, 10, 2, 3, 4, 5, 6, 8, 8, 3, 4, 5, 10, 1, 4, 5, 7, 3, 4, 7, 4, 7, 9, 3, 9, 1, 2, 3, 5, 6, 7, 8, 9, 10, 3, 4, 8, 8, 1, 2, 9, 10, 2, 3, 1, 2, 3, 5, 6, 7, 8, 9, 2, 6, 2, 3, 4, 5, 7, 8, 9, 10, 1, 3, 10, 1, 2, 3, 4, 5, 6, 7, 8, 9, 10, 3, 5, 8, 5, 2, 3, 5, 6, 7, 8, 9, 8, 8, 4, 5, 7, 8, 4, 3, 2, 5, 10, 6, 2, 2, 10, 2, 5, 6, 8, 9, 10, 2, 3, 10, 8, 2, 5, 9, 10, 10, 5, 2, 3, 4, 5, 6, 7, 9, 10, 2, 7, 8, 2, 3, 4, 5, 6, 8, 9, 10, 1, 2, 5, 10, 1, 2, 3, 5, 6, 7, 8, 9, 10, 4, 9, 10, 2, 8, 1, 2, 3, 4, 5, 6, 7, 8, 9, 10, 9, 2, 3, 4, 5, 6, 7, 8, 9, 10, 2, 3, 4, 5, 6, 7, 8, 9, 10, 4, 1, 2, 3, 4, 5, 7, 8, 10, 2, 3, 4, 5, 6, 8, 9, 1, 2, 3, 4, 5, 6, 8, 10, 1, 2, 3, 4, 5, 6, 7, 8, 10, 2, 6, 5, 2, 5, 8, 5, 2, 3, 4, 5, 8, 10, 3, 5, 8, 10, 2, 2, 5, 9, 10, 6, 8, 2, 3, 5, 7, 8, 8, 1, 2, 3, 4, 8, 1, 2, 3, 4, 5, 6, 7, 8, 3, 1, 4, 4, 5, 7, 2, 3, 4, 5, 7, 8, 10, 2, 9, 9, 6, 10, 3, 4, 9, 2, 3, 4, 5, 8, 9, 1, 3, 5, 7, 9, 10, 1, 2, 3, 4, 5, 6, 7, 8, 9, 10, 1, 2, 3, 4, 5, 7, 10, 5, 1, 1, 2, 3, 4, 5, 8, 9, 10, 8, 4, 7, 9, 9, 2, 1, 3, 8, 2, 4, 7, 2, 3, 4, 5, 7, 8, 2, 3, 4, 5, 7, 8, 10, 2, 10, 1, 2, 3, 4, 5, 7, 8, 9, 10, 2, 3, 5, 6, 7, 9, 10, 2, 4, 5, 6, 9, 10, 5, 6, 1, 2, 3, 4, 5, 6, 7, 8, 10, 2, 3, 8, 1, 2, 3, 4, 5, 7, 9, 10, 6, 1, 2, 3, 4, 5, 7, 8, 10, 2, 1, 7, 2, 3, 4, 5, 6, 7, 8, 9, 10, 2, 3, 4, 5, 8, 9, 4, 7, 10, 5, 7, 10, 4, 9, 2, 9, 3, 5, 7, 1, 2, 3, 4, 5, 6, 7, 8, 10, 4, 5, 7, 2, 3, 5, 6, 8, 10, 2, 3, 5, 6, 4, 1, 2, 2, 4, 10, 5, 9, 2, 2, 3, 5, 10, 2, 5, 7, 8, 9, 10, 2, 3, 4, 5, 7, 8, 9, 10, 7, 2, 3, 5, 7, 8, 9, 10, 7, 4, 7, 1, 2, 3, 4, 5, 6, 7, 8, 2, 1, 2, 3, 4, 5, 7, 8, 9, 10, 2, 3, 4, 5, 7, 8, 10, 7, 8, 9, 5, 10, 6, 6, 5, 1, 4, 7, 9, 2, 3, 5, 7, 8, 9, 10, 5, 3, 9, 9, 3, 7, 8, 1, 5, 7, 10, 1, 2, 3, 4, 5, 6, 7, 8, 10, 2, 3, 4, 5, 7, 8, 9, 10, 6, 5, 6, 2, 7, 1, 4, 6, 8, 6, 5, 2, 3, 4, 5, 6, 7, 8, 1, 2, 3, 4, 5, 6, 7, 8, 9, 10, 2, 3, 6, 8, 10, 2, 3, 7, 9, 2, 5, 9], \"Freq\": [0.6881128918442092, 0.9069185046062398, 0.86474999649717, 0.23745067274196985, 0.05936266818549246, 0.07915022424732328, 0.03957511212366164, 0.01978755606183082, 0.3561760091129548, 0.21766311668013902, 0.09710330203654306, 0.8739297183288876, 0.8309432786251351, 0.2874956128053517, 0.5031173224093655, 0.14374780640267584, 0.8254437217960954, 0.4962356713566357, 0.24811783567831786, 0.12405891783915893, 0.9567303956329136, 0.8647500071040796, 0.8539971010063209, 0.8303727157975977, 0.8616988991261375, 0.9663197133389039, 0.3956350443153062, 0.4945438053941328, 0.8254445342003666, 0.6881122846970856, 0.5530553455226566, 0.36870356368177104, 0.04608794546022138, 0.082251588661218, 0.205628971653045, 0.027417196220406, 0.109668784881624, 0.013708598110203, 0.424966541416293, 0.013708598110203, 0.109668784881624, 0.15795451016546933, 0.15356688488309517, 0.008775250564748295, 0.24131939053057813, 0.1755050112949659, 0.01755050112949659, 0.07897725508273466, 0.07897725508273466, 0.09652775621223125, 0.20798792773900462, 0.12479275664340278, 0.08319517109560186, 0.5823661976692129, 0.3220946291800202, 0.10248465473909733, 0.01464066496272819, 0.42457928391911753, 0.05856265985091276, 0.05856265985091276, 0.27157598458959364, 0.5431519691791873, 0.7801133234043139, 0.7723247495016793, 0.4013690161255254, 0.23609942125030906, 0.10624473956263908, 0.023609942125030908, 0.21248947912527816, 0.04907128213512964, 0.03271418809008642, 0.05561411975314692, 0.01635709404504321, 0.4972556589693137, 0.029442769281077783, 0.009814256427025927, 0.08178547022521607, 0.15048526521439756, 0.07851405141620742, 0.29091001612186607, 0.18823589278473685, 0.3080223700113876, 0.20534824667425838, 0.24755187288280514, 0.4744744230253765, 0.061887968220701285, 0.20629322740233763, 0.6786273451218123, 0.07835300633813776, 0.09402360760576531, 0.10969420887339286, 0.3604238291554337, 0.32908262662017856, 0.0313412025352551, 0.7552410117225484, 0.07552410117225485, 0.07552410117225485, 0.8468403685916193, 0.017971963531982483, 0.1258037447238774, 0.17971963531982485, 0.0629018723619387, 0.44031310653357086, 0.026957945297973726, 0.13478972648986862, 0.06542173043690833, 0.1526507043527861, 0.588795573932175, 0.021807243478969444, 0.04361448695793889, 0.10903621739484722, 0.26404796924361884, 0.2933866324929098, 0.41074128549007377, 0.8611949147475957, 0.1210415546191611, 0.1210415546191611, 0.5446869957862249, 0.1210415546191611, 0.22021807269454394, 0.22755867511769542, 0.01468120484630293, 0.2936240969260586, 0.1247902411935749, 0.11744963877042344, 0.7713518518083509, 0.8539972206740313, 0.9622900165462707, 0.6786273502068582, 0.019906893108875567, 0.15427842159378563, 0.14432497503934785, 0.05474395604940781, 0.1642318681482234, 0.12939480520769117, 0.04479050949497002, 0.1194413586532534, 0.09953446554437782, 0.07465084915828338, 0.042207176660557975, 0.0703452944342633, 0.0703452944342633, 0.0703452944342633, 0.21103588330278986, 0.0703452944342633, 0.2813811777370532, 0.15475964775537923, 0.08270332698621811, 0.8270332698621811, 0.7801133291272643, 0.8468403685916188, 0.8584855973555924, 0.9550677652350165, 0.0047259793358095286, 0.18903917343238114, 0.170135256089143, 0.04253381402228575, 0.09924556605200009, 0.05671175202971434, 0.04253381402228575, 0.047259793358095284, 0.25992886346952404, 0.0850676280445715, 0.9221407995134021, 0.031659430980218235, 0.1899565858813094, 0.12663772392087294, 0.6331886196043647, 0.09324926457701867, 0.18649852915403733, 0.06216617638467911, 0.15541544096169777, 0.4973294110774329, 0.031083088192339556, 0.6659903769102886, 0.24974639134135826, 0.9224981644174775, 0.02104429721197445, 0.28935908666464866, 0.22096512072573168, 0.010522148605987224, 0.18939867490777001, 0.015783222908980835, 0.13678793187783392, 0.10522148605987224, 0.015783222908980835, 0.32076935390292693, 0.21384623593528462, 0.10692311796764231, 0.32076935390292693, 0.9069185608494976, 0.14441291748422655, 0.7220645874211328, 0.866112179683535, 0.7801133291272643, 0.1700475078236373, 0.6801900312945492, 0.053075415293967504, 0.530754152939675, 0.42460332235174003, 0.9084171056600525, 0.7941087080395908, 0.9622900165462707, 0.7594534897459405, 0.11537847329381802, 0.14306930688433434, 0.027690833590516325, 0.18460555727010883, 0.036921111454021764, 0.3484429893473304, 0.0992254870326835, 0.043843819851650846, 0.9415933720614257, 0.24310314453864282, 0.23442088937654845, 0.02604676548628316, 0.07379916887780229, 0.0651169137157079, 0.08248142403989668, 0.18232735840398212, 0.09116367920199106, 0.1563613278575668, 0.0781806639287834, 0.5472646475014838, 0.1954516598219585, 0.14223011355544438, 0.7111505677772219, 0.07111505677772219, 0.18895667469757593, 0.7558266987903037, 0.15703249354422075, 0.08075956810845637, 0.040379784054228186, 0.2961184163976734, 0.11216606681730053, 0.03589314138153617, 0.08973285345384042, 0.08973285345384042, 0.09870613879922446, 0.8309430200912029, 0.017112286969152384, 0.1426023914096032, 0.19393925231706036, 0.3080211654447429, 0.12263805661225875, 0.008556143484576192, 0.039928669594688895, 0.07415324353299366, 0.09411757833033811, 0.7136010811391282, 0.005136649070908574, 0.020546596283634297, 0.12327957770180578, 0.07704973606362861, 0.30819894425451444, 0.08732303420544577, 0.11300627955998863, 0.030819894425451445, 0.23114920819088583, 0.857556690309899, 0.8888582142792791, 0.33312682446408054, 0.5552113741068009, 0.482859544049295, 0.32190636269953, 0.052234431189628006, 0.1671501798068096, 0.0104468862379256, 0.0313406587137768, 0.3760879045653216, 0.0313406587137768, 0.31340658713776803, 0.0104468862379256, 0.771351849199101, 0.7598665222929571, 0.15197330445859142, 0.9337555683457847, 0.9503385231180002, 0.87486285910284, 0.006252796249731125, 0.13756151749408477, 0.33452459936061524, 0.3251454049860185, 0.00937919437459669, 0.1438143137438159, 0.006252796249731125, 0.03439037937352119, 0.6881126528697814, 0.9193791803098943, 0.12356971324740212, 0.05884272059400101, 0.17652816178200303, 0.27656078679180474, 0.10003262500980172, 0.05295844853460091, 0.11768544118800202, 0.08826408089100152, 0.2080797022190935, 0.22195168236703305, 0.2080797022190935, 0.013871980147939566, 0.0416159404438187, 0.013871980147939566, 0.2913115831067309, 0.1095654579337747, 0.16434818690066205, 0.2191309158675494, 0.4930445607019861, 0.14964874155858182, 0.22447311233787273, 0.01806105501569091, 0.007740452149581818, 0.0283816578818, 0.005160301433054545, 0.36380125103034544, 0.10836633009414545, 0.0954655765115091, 0.048163889582934945, 0.2889833374976097, 0.09632777916586989, 0.45755695103788196, 0.12040972395733736, 0.13885542095376627, 0.2172678939629519, 0.006534372750765471, 0.006534372750765471, 0.10291637082455617, 0.3299858239136563, 0.111084336763013, 0.08658043894764249, 0.09097562568512867, 0.2842988302660271, 0.09097562568512867, 0.09097562568512867, 0.26155492384474494, 0.17057929815961625, 0.2211546306989938, 0.07371821023299793, 0.2211546306989938, 0.4423092613979876, 0.053816231430654164, 0.16144869429196249, 0.026908115715327082, 0.08072434714598124, 0.08072434714598124, 0.5650704300218687, 0.0362267479837239, 0.0362267479837239, 0.32604073185351506, 0.5796279677395824, 0.19799936786526248, 0.6929977875284187, 0.04949984196631562, 0.8902979151758306, 0.08252422753428336, 0.8252422753428336, 0.08229516805692932, 0.02057379201423233, 0.34975446424194967, 0.34975446424194967, 0.08229516805692932, 0.123442752085394, 0.1299668750204568, 0.7798012501227408, 0.018929072299509117, 0.13565835147981534, 0.10095505226404862, 0.03154845383251519, 0.2934006206423913, 0.053632371515275834, 0.018929072299509117, 0.13250350609656383, 0.0031548453832515194, 0.2082197952946003, 0.6786275186540599, 0.956730457058011, 0.033023571924168986, 0.17927081901691735, 0.14624724709274836, 0.04245887818821727, 0.11794132830060351, 0.1509649002247725, 0.03774122505619312, 0.1037883689045311, 0.18398847214894148, 0.32484706897287063, 0.10828235632429022, 0.5414117816214511, 0.8825690619248203, 0.9717004577311573, 0.7686639635052119, 0.7743557030390669, 0.12905928383984447, 0.1828297672031452, 0.7922623245469625, 0.8599589246474696, 0.9622900165462707, 0.13850104240129182, 0.14664816254254429, 0.1873837632488066, 0.22811936395506888, 0.13035392226003936, 0.0814712014125246, 0.00814712014125246, 0.0814712014125246, 0.368098467822659, 0.368098467822659, 0.6881129134449839, 0.10744099664276935, 0.8595279731421548, 0.17177810920295972, 0.08588905460147986, 0.601223382210359, 0.8468403685916186, 0.1893417579930353, 0.11833859874564706, 0.3550157962369412, 0.07100315924738825, 0.2603449172404235, 0.9622900165462707, 0.8599589246474696, 0.9626727340010118, 0.07417134728266292, 0.890056167391955, 0.8980149736725291, 0.09330025700493809, 0.7558268658739797, 0.9163603990298712, 0.04165274541044869, 0.041294217931123284, 0.20647108965561642, 0.12388265379336985, 0.12388265379336985, 0.4955306151734794, 0.8254414645367578, 0.9130026208719447, 0.031482848995584296, 0.031482848995584296, 0.8509546378837742, 0.07735951253488857, 0.9537581671640918, 0.08334050039717623, 0.8334050039717623, 0.02678247093744406, 0.02678247093744406, 0.02678247093744406, 0.7499091862484337, 0.02678247093744406, 0.05356494187488812, 0.08034741281233218, 0.17837207731151203, 0.035674415462302406, 0.035674415462302406, 0.7134883092460481, 0.019467703545193813, 0.1849431836793412, 0.038935407090387626, 0.038935407090387626, 0.058403110635581436, 0.23361244254232574, 0.009733851772596907, 0.11680622127116287, 0.1460077765889536, 0.1557416283615505, 0.196589405725896, 0.1429741132551971, 0.0893588207844982, 0.0893588207844982, 0.4289223397655913, 0.05361529247069891, 0.2726686128328419, 0.5453372256656838, 0.06211948736622183, 0.05866840473476506, 0.0655705699976786, 0.552173221033083, 0.017255413157283843, 0.1207878921009869, 0.02415757842019738, 0.10008139631224629, 0.8599589246474696, 0.03429212149726723, 0.27433697197813783, 0.6515503084480774, 0.03429212149726723, 0.5458220755841845, 0.27291103779209225, 0.09999464899523748, 0.7332940926317415, 0.06666309933015832, 0.09999464899523748, 0.8819803038966877, 0.8707682843521143, 0.09675203159467936, 0.7655198334780687, 0.19137995836951718, 0.22258847660312708, 0.500824072357036, 0.1669413574523453, 0.08347067872617266, 0.3949666747275867, 0.5529533446186213, 0.08474786976722823, 0.18160257807263191, 0.06053419269087731, 0.036320515614526386, 0.3995256717597902, 0.10896154684357914, 0.09685470830540369, 0.036320515614526386, 0.010478759046171337, 0.13622386760022737, 0.12574510855405605, 0.06287255427702802, 0.2776871147235404, 0.06811193380011368, 0.020957518092342673, 0.16766014473874138, 0.06287255427702802, 0.07335131332319936, 0.038783851778333676, 0.14220745652055683, 0.13574348122416788, 0.012927950592777893, 0.27148696244833576, 0.012927950592777893, 0.0840316788530563, 0.1551354071133347, 0.05817577766750052, 0.0840316788530563, 0.9622900165462707, 0.6921103211551042, 0.08651379014438802, 0.17302758028877605, 0.019354739189187155, 0.17903133749998118, 0.10645106554052934, 0.07258027195945183, 0.2612889790540266, 0.024193423986483942, 0.1741926527026844, 0.159676598310794, 0.047123538641355774, 0.6597295409789808, 0.28274123184813466, 0.008802052858494926, 0.18044208359914596, 0.18924413645764088, 0.004401026429247463, 0.24205645360861044, 0.08361950215570178, 0.06161437000946447, 0.18924413645764088, 0.008802052858494926, 0.0352082114339797, 0.08463621894977638, 0.07254533052837976, 0.03627266526418988, 0.4110902063274853, 0.10881799579256964, 0.0483635536855865, 0.03627266526418988, 0.193454214742346, 0.06260287684538454, 0.10955503447942294, 0.10955503447942294, 0.015650719211346135, 0.07825359605673067, 0.2660622265928843, 0.06260287684538454, 0.28171294580423045, 0.8468403685916208, 0.13055221726548394, 0.6527610863274197, 0.13055221726548394, 0.19710833127090102, 0.07884333250836041, 0.15768666501672082, 0.039421666254180206, 0.5124816613043426, 0.06918544867228105, 0.07610399353950915, 0.131452352477334, 0.17296362168070262, 0.10377817300842157, 0.08302253840673726, 0.18680071141515883, 0.1522079870790183, 0.01383708973445621, 0.881980126373299, 0.690282659928747, 0.17257066498218676, 0.8825683613084346, 0.7219356249747391, 0.2707258593655271, 0.16244260735011654, 0.5685491257254078, 0.24366391102517482, 0.07146885755075132, 0.07146885755075132, 0.7146885755075131, 0.07146885755075132, 0.6913852922689316, 0.1728463230672329, 0.9337558305208554, 0.6786273502068582, 0.0471248568161146, 0.24347842688325874, 0.17279114165908685, 0.2748949980940018, 0.06283314242148613, 0.007854142802685767, 0.14922871325102957, 0.031416571210743066, 0.1667380024204196, 0.1333904019363357, 0.06669520096816785, 0.0833690012102098, 0.31680220459879727, 0.05002140072612589, 0.15006420217837765, 0.033347600484083924, 0.06008579914976125, 0.21363839697692888, 0.08011439886634833, 0.1936097972603418, 0.10014299858293542, 0.04673339933870319, 0.06008579914976125, 0.15355259782716765, 0.09346679867740638, 0.09174762614486846, 0.8257286353038162, 0.030314255795080493, 0.060628511590160986, 0.09094276738524147, 0.060628511590160986, 0.45471383692620737, 0.15157127897540246, 0.15157127897540246, 0.21277150806643666, 0.10638575403321833, 0.08510860322657467, 0.08510860322657467, 0.255325809679724, 0.021277150806643667, 0.063831452419931, 0.17021720645314933, 0.9413464355687217, 0.9413464876504154, 0.27266863606969804, 0.5453372721393961, 0.17083653754791933, 0.04270913438697983, 0.768764418965637, 0.024687970707689307, 0.4443834727384075, 0.13578383889229118, 0.27156767778458235, 0.024687970707689307, 0.06171992676922327, 0.03703195606153396, 0.8788192550422543, 0.8309438352674368, 0.27357168379438684, 0.27357168379438684, 0.8468404103386935, 0.6169648483742681, 0.2644135064461149, 0.022894228680244474, 0.06868268604073342, 0.1831538294419558, 0.1602596007617113, 0.5494614883258674, 0.18409164793073135, 0.28380795722654417, 0.16108019193938994, 0.04602291198268284, 0.18409164793073135, 0.02301145599134142, 0.1150572799567071, 0.07368956273502679, 0.036844781367513395, 0.1400101691965509, 0.1031653878290375, 0.25791346957259376, 0.12527225664954555, 0.1031653878290375, 0.08105851900852946, 0.044213737641016077, 0.036844781367513395, 0.023998448313833395, 0.14399068988300037, 0.03599767247075009, 0.25198370729525066, 0.023998448313833395, 0.02999806039229174, 0.07799495701995852, 0.275982155609084, 0.137991077804542, 0.2060761390687496, 0.12253175836520247, 0.022278501520945904, 0.233924265969932, 0.08354438070354714, 0.022278501520945904, 0.03898737766165533, 0.15594951064662133, 0.10582288222449304, 0.04932727765995063, 0.09865455531990126, 0.7399091648992595, 0.09865455531990126, 0.7801133291272643, 0.029568749975390933, 0.18163660699168716, 0.14784374987695467, 0.02112053569670781, 0.3674973211227159, 0.0549133928114403, 0.029568749975390933, 0.09715446420485592, 0.0549133928114403, 0.01689642855736625, 0.006049660207831478, 0.19963878685843878, 0.1633408256114499, 0.04234762145482035, 0.139142184780124, 0.0846952429096407, 0.006049660207831478, 0.1935891266506073, 0.06049660207831478, 0.10284422353313513, 0.8808825689577293, 0.6441840717379772, 0.08052300896724715, 0.24156902690174145, 0.44324898431671667, 0.22162449215835833, 0.22162449215835833, 0.38838485359617253, 0.5437387950346416, 0.019849119846775735, 0.13894383892743015, 0.148868398850818, 0.009924559923387867, 0.13894383892743015, 0.10917015915726654, 0.03969823969355147, 0.12901927900404228, 0.07939647938710294, 0.18856663854436947, 0.06374047255252137, 0.06374047255252137, 0.3187023627626069, 0.509923780420171, 0.22302767789497116, 0.7582941048429019, 0.9622900165462707, 0.8309440887581507, 0.8210092173129602, 0.8647502062358454, 0.07429430377764674, 0.19316518982188152, 0.04457658226658805, 0.13372974679976413, 0.3714715188882337, 0.13372974679976413, 0.04457658226658805, 0.7909348804135743, 0.06591124003446452, 0.06591124003446452, 0.040951077215783234, 0.08190215443156647, 0.696168312668315, 0.12285323164734971, 0.06263841263029893, 0.12527682526059786, 0.06263841263029893, 0.175387555364837, 0.21297060294301637, 0.012527682526059786, 0.2756090155733153, 0.06263841263029893, 0.0274779867932845, 0.1373899339664225, 0.12823060503532765, 0.018318657862189665, 0.2473018811395605, 0.009159328931094833, 0.054955973586569, 0.21066456541518117, 0.17402724969080183, 0.159882298226911, 0.7994114911345549, 0.2047147646031483, 0.6141442938094449, 0.039450042164243325, 0.1578001686569733, 0.10355636068113873, 0.04931255270530416, 0.30080657150235535, 0.11835012649272998, 0.039450042164243325, 0.05917506324636499, 0.09862510541060832, 0.029587531623182495, 0.20799562960491447, 0.7279847036172007, 0.01980086750691356, 0.1485065063018517, 0.17820780756222204, 0.07920347002765424, 0.15840694005530848, 0.05940260252074068, 0.01980086750691356, 0.10890477128802457, 0.15840694005530848, 0.06930303627419745, 0.33653714456271433, 0.07692277590004899, 0.048076734937530625, 0.2692297156501715, 0.009615346987506124, 0.12499951083757962, 0.13461485782508575, 0.407254626391515, 0.5090682829893937, 0.016949899792014663, 0.23729859708820528, 0.09322444885608065, 0.4406973945923813, 0.10169939875208799, 0.05932464927205132, 0.05932464927205132, 0.04620178568844405, 0.06352745532161057, 0.15593102669849868, 0.011550446422111012, 0.16748147312060968, 0.1848071427537762, 0.12705491064322114, 0.1848071427537762, 0.040426562477388545, 0.023100892844222023, 0.8309430978320029, 0.9537580448760142, 0.8584855614186385, 0.8112762690111615, 0.1622552538022323, 0.8394366401376188, 0.17253095160505086, 0.03834021146778908, 0.6709537006863089, 0.01917010573389454, 0.09585052866947269, 0.08957105687958013, 0.8957105687958012, 0.09911812911817167, 0.41063224920385405, 0.014159732731167381, 0.09911812911817167, 0.07079866365583691, 0.297354387354515, 0.014159732731167381, 0.8599589246474696, 0.3375888519079264, 0.6751777038158528, 0.3057512553104269, 0.05095854255173782, 0.05095854255173782, 0.2853678382897318, 0.03057512553104269, 0.08153366808278051, 0.13249221063451833, 0.03057512553104269, 0.03057512553104269, 0.08677120665175986, 0.7809408598658387, 0.13076161259496266, 0.6538080629748133, 0.06538080629748133, 0.13076161259496266, 0.6750213057690453, 0.2250071019230151, 0.8902978687847721, 0.8035250856353876, 0.1636159199277671, 0.7362716396749519, 0.8599589246474696, 0.556884989660966, 0.05568849896609661, 0.11137699793219322, 0.22275399586438643, 0.08722266448909216, 0.13083399673363824, 0.2325937719709124, 0.014537110748182026, 0.07268555374091012, 0.3343535472081866, 0.1162968859854562, 0.04620348566134286, 0.09240697132268572, 0.015401161887114287, 0.030802323774228573, 0.5082383422747715, 0.061604647548457146, 0.21561626641960002, 0.015401161887114287, 0.04083130466201647, 0.20415652331008233, 0.08166260932403294, 0.1224939139860494, 0.530806960606214, 0.8468404837291554, 0.2674483084033169, 0.07038113379034656, 0.07038113379034656, 0.056304907032277245, 0.2392958548871783, 0.014076226758069311, 0.28152453516138626, 0.15620684664784398, 0.5467239632674539, 0.07810342332392199, 0.039051711661960996, 0.15620684664784398, 0.8035247003934595, 0.3649636538046063, 0.4866182050728084, 0.8647500790408706, 0.8287714460232628, 0.10359643075290785, 0.043345179161693954, 0.13003553748508187, 0.08669035832338791, 0.34676143329355164, 0.17338071664677582, 0.08669035832338791, 0.13003553748508187, 0.6881124367749262, 0.8309429480028029, 0.7308346648498331, 0.8575562402556398, 0.19600600254395506, 0.21233983608928464, 0.10616991804464232, 0.19600600254395506, 0.22867366963461422, 0.057168417408653555, 0.2161009889496492, 0.12348627939979953, 0.03858946231243736, 0.17751152663721184, 0.06946103216238723, 0.007717892462487471, 0.09261470954984966, 0.12348627939979953, 0.15435784924974943, 0.2049880859612503, 0.717458300864376, 0.9754165333402733, 0.7801133291272643, 0.8445435696059141, 0.10556794620073927, 0.21890869651429554, 0.6567260895428866, 0.27861628408041306, 0.5572325681608261, 0.5265581508261821, 0.20252236570237772, 0.24302683884285328, 0.7308363279687179, 0.12859508911838868, 0.7715705347103321, 0.7033594708884694, 0.2961513561635661, 0.6997719139389781, 0.27990876557559125, 0.8035247003934504, 0.17721893086844007, 0.7974851889079803, 0.94296123011845, 0.19121475164709978, 0.06373825054903326, 0.06373825054903326, 0.6373825054903326, 0.024431067382215964, 0.22802329556734902, 0.10993980321997184, 0.057005823891837254, 0.28502911945918624, 0.06922135758294523, 0.016287378254810643, 0.04071844563702661, 0.10993980321997184, 0.06514951301924257, 0.857556690309899, 0.11911826511168401, 0.16816696251061272, 0.04204174062765318, 0.3223200114786744, 0.06306261094147977, 0.03503478385637765, 0.12612522188295955, 0.09109043802658189, 0.04204174062765318, 0.6881121681321783, 0.6786273502068582, 0.7801133213266596, 0.6555603307185582, 0.16389008267963956, 0.6894554921874415, 0.8468404110571979, 0.8468404110573745, 0.9073385100334527, 0.0883688350635893, 0.16348234486764018, 0.030929092272256254, 0.26068806343758844, 0.06185818454451251, 0.2385958546716911, 0.10604260207630715, 0.05302130103815358, 0.8309465458790462, 0.1233476462274817, 0.09867811698198536, 0.37004293868244514, 0.32070388019145246, 0.07400858773648902, 0.04933905849099268, 0.005861709459520594, 0.24033008784034435, 0.3898036790581195, 0.04982453040592505, 0.02051598310832208, 0.18464384797489872, 0.002930854729760297, 0.026377692567842673, 0.011723418919041188, 0.06740965878448683, 0.8819804166259022, 0.5568349052393502, 0.2784174526196751, 0.04893256995947315, 0.30757615403097405, 0.11883624133014907, 0.02796146854827037, 0.08388440564481112, 0.08388440564481112, 0.06291330423360833, 0.18174954556375741, 0.05592293709654074, 0.02796146854827037, 0.5536329931750632, 0.2768164965875316, 0.8808825689577293, 0.4768507528650423, 0.4768507528650423, 0.3638921207786495, 0.5458381811679742, 0.043985748953813616, 0.2639144937228817, 0.6597862343072043, 0.7600443619576329, 0.19001109048940823, 0.7184249404266151, 0.23947498014220506, 0.8902981138779418, 0.6881121937931108, 0.1465973802657814, 0.7329869013289071, 0.02436468739449282, 0.08933718711314034, 0.12994499943729504, 0.11370187450763317, 0.21928218655043538, 0.01624312492966188, 0.07309406218347847, 0.2030390616207735, 0.138066561902126, 0.857556690309899, 0.2228669643157804, 0.6686008929473412, 0.9458774843846979, 0.3064089347552906, 0.10213631158509685, 0.5106815579254843, 0.6157801870029787, 0.08210402493373048, 0.2873640872680567, 0.8599578475847122, 0.8707682770562902, 0.09675203078403226, 0.8962049075642061, 0.8309431893705822, 0.10916518973255672, 0.30020427176453096, 0.018194198288759452, 0.18194198288759453, 0.22742747860949314, 0.15465068545445534, 0.2965652505026752, 0.3624686395032697, 0.11533093075104035, 0.016475847250148622, 0.13180677800118898, 0.049427541750445864, 0.1615913229305416, 0.5494104979638414, 0.14543219063748744, 0.06463652917221664, 0.06463652917221664, 0.039145997793796516, 0.039145997793796516, 0.009786499448449129, 0.7829199558759304, 0.019572998896898258, 0.019572998896898258, 0.07829199558759303, 0.8599589246474696, 0.036876812263219254, 0.7375362452643851, 0.07375362452643851, 0.11063043678965777, 0.17301775138250453, 0.7497435893241863, 0.057672583794168175, 0.08393633675746873, 0.08393633675746873, 0.5036180205448124, 0.2518090102724062, 0.9224982226365827, 0.7941087159937666, 0.13533185992424054, 0.09414390255599342, 0.03530396345849753, 0.22947576248023394, 0.100027896465743, 0.15886783556323888, 0.2059397868412356, 0.04118795736824712, 0.8902977767769943, 0.8309434237288384, 0.25201562585181086, 0.12600781292590543, 0.024232271716520273, 0.3925628018076284, 0.09208263252277704, 0.03877163474643244, 0.024232271716520273, 0.04846454343304055, 0.9787195817967018, 0.12877977793171788, 0.6438988896585894, 0.12877977793171788, 0.1138076419207751, 0.7966534934454257, 0.6786273451218123, 0.10643962757105886, 0.07602830540789919, 0.3193188827131766, 0.38014152703949594, 0.10643962757105886, 0.041434851850620756, 0.9115667407136566, 0.7801133291272643, 0.8468400821286544, 0.20330862411029446, 0.3148004502352947, 0.06558342713235306, 0.23610033767647098, 0.026233370852941224, 0.03279171356617653, 0.09837514069852958, 0.019675028139705918, 0.0359042982870116, 0.1292554738332418, 0.1723406317776557, 0.07898945623142553, 0.15797891246285106, 0.0646277369166209, 0.050266017601816246, 0.0718085965740232, 0.17952149143505802, 0.05744687725921857, 0.9622900165462707, 0.03775180857506048, 0.22651085145036287, 0.050335744766747306, 0.03775180857506048, 0.5536931924342203, 0.07550361715012097, 0.012583936191686827, 0.6786273502068582, 0.8117370981178649, 0.19371781277140285, 0.7748712510856114, 0.6894555542427535, 0.06328221705433945, 0.08015747493549663, 0.1392208775195468, 0.21515953798475412, 0.08015747493549663, 0.02531288682173578, 0.21515953798475412, 0.1307832485789682, 0.05062577364347156, 0.6881121662512253, 0.45549254693290214, 0.5010418016261924, 0.7529852222837603, 0.15059704445675207, 0.23510153638051048, 0.06186882536329223, 0.19798024116253515, 0.09899012058126758, 0.09899012058126758, 0.012373765072658447, 0.08661635550860912, 0.19798024116253515, 0.038394144766524606, 0.038394144766524606, 0.6143063162643937, 0.038394144766524606, 0.23036486859914762, 0.568003687320554, 0.08114338390293628, 0.12171507585440441, 0.04057169195146814, 0.04057169195146814, 0.08114338390293628, 0.8207759460714056, 0.11725370658162937, 0.12214409348277411, 0.048857637393109644, 0.024428818696554822, 0.15878732152760633, 0.30536023370693527, 0.048857637393109644, 0.2320737776172708, 0.061072046741387054, 0.3056768555421777, 0.3291904598146529, 0.04702720854495041, 0.3056768555421777, 0.27266814683146895, 0.5453362936629379, 0.11977852548062491, 0.8783758535245827, 0.15306302610340078, 0.05739863478877529, 0.28699317394387647, 0.038265756525850195, 0.09566439131462548, 0.07653151305170039, 0.28699317394387647, 0.8217009345260862, 0.007330041460674753, 0.03665020730337377, 0.29320165842699014, 0.029320165842699013, 0.2638814925842911, 0.029320165842699013, 0.029320165842699013, 0.21990124382024262, 0.0806304560674223, 0.20869906854629514, 0.14907076324735366, 0.09938050883156911, 0.13913271236419675, 0.01987610176631382, 0.2882034756115504, 0.09938050883156911, 0.9626728603422468, 0.0946297777050364, 0.8516679993453277, 0.8035247003934595, 0.206925023365198, 0.103462511682599, 0.06897500778839932, 0.5862875662013943, 0.0406501163632094, 0.09291455168733577, 0.14517898701146215, 0.12195034908962821, 0.3252009309056752, 0.07549307324596032, 0.046457275843667885, 0.11614318960916972, 0.011614318960916971, 0.023228637921833942, 0.018510540655644645, 0.15733959557297947, 0.018510540655644645, 0.23600939335946922, 0.14808432524515716, 0.04627635163911161, 0.08792506811431205, 0.013882905491733483, 0.13882905491733483, 0.13420141975342367, 0.13487352863696667, 0.19079669904741628, 0.06908156344820245, 0.16776951123134878, 0.04276477737269675, 0.046054375632134964, 0.20395509208516913, 0.14474232341528132, 0.10865472697412551, 0.13969893468101852, 0.02328315578016975, 0.30268102514220674, 0.3259641809223765, 0.10089367504740225, 0.6881121664647541, 0.621681664342737, 0.06907574048252633, 0.207227221447579, 0.06907574048252633, 0.10841498331191102, 0.27103745827977754, 0.2981412041077553, 0.27103745827977754, 0.08308452024911361, 0.5815916417437953, 0.24925356074734087, 0.1820607036372816, 0.5461821109118449, 0.1820607036372816, 0.07157382561209834, 0.85888590734518, 0.014246363038817317, 0.292050442295755, 0.10684772279112988, 0.2065722640628511, 0.11397090431053854, 0.014246363038817317, 0.1210940858299472, 0.06410863367467792, 0.05698545215526927, 0.11452862719505907, 0.11452862719505907, 0.6871717631703544, 0.8210101437552177, 0.8255716442730311, 0.6450013503380222, 0.08062516879225277, 0.16125033758450555, 0.17335456747461123, 0.6934182698984449, 0.03126968444212165, 0.09380905332636494, 0.1615600362842952, 0.21888779109485154, 0.07817421110530412, 0.03648129851580859, 0.2501574755369732, 0.1250787377684866, 0.09710329204792975, 0.8739296284313678, 0.15530327367691768, 0.05647391770069734, 0.31060654735383536, 0.05647391770069734, 0.05647391770069734, 0.12706631482656902, 0.1976587119524407, 0.05647391770069734, 0.8574515757541332, 0.1444353181889047, 0.7221765909445235, 0.015310799398551515, 0.07655399699275757, 0.0535877978949303, 0.17607419308334243, 0.13014179488768787, 0.06124319759420606, 0.06889859729348181, 0.15310799398551514, 0.19138499248189395, 0.06124319759420606, 0.8309430803876313, 0.890297882158443, 0.7713518926251168, 0.9418318261875885, 0.03839131926682167, 0.13436961743387585, 0.4095074055127645, 0.07678263853364334, 0.03199276605568473, 0.28793489450116255, 0.01279710642227389, 0.6881120996244405, 0.772483173630607, 0.5634490057155793, 0.1690347017146738, 0.1690347017146738, 0.056344900571557936, 0.857556690309899, 0.8309951891431319, 0.23108697179479984, 0.3851449529913331, 0.3594686227919109, 0.9622900165462707, 0.79410884501098, 0.16888650540022543, 0.7599892743010145, 0.8468403685916192, 0.24718321939270957, 0.49436643878541914, 0.022471201762973597, 0.15729841234081518, 0.06741360528892079, 0.06912487448073959, 0.829498493768875, 0.6786273502068582, 0.6881127277985398, 0.36968959008572644, 0.12322986336190882, 0.04107662112063627, 0.49291945344763527, 0.6786273502068582, 0.9084172687361787, 0.0915695103916878, 0.018313902078337562, 0.05494170623501268, 0.1465112166267005, 0.43953364988010146, 0.036627804156675124, 0.1465112166267005, 0.05494170623501268, 0.10432799518534244, 0.20865599037068489, 0.6259679711120546, 0.15725992395691055, 0.14743117870960362, 0.014743117870960363, 0.08354433460210872, 0.07862996197845527, 0.3292629657847814, 0.10320182509672254, 0.08845870722576218, 0.8574652608534409, 0.10175359667775635, 0.30526079003326906, 0.55964478172766, 0.06353781467244266, 0.06353781467244266, 0.1509023098470513, 0.1747289903492173, 0.11913340251082997, 0.09530672200866398, 0.19061344401732797, 0.10324894884271932, 0.03176890733622133, 0.9472816147716158, 0.8599589246474696, 0.6786274318091767, 0.25780589386296915, 0.6874823836345844, 0.04466581841452062, 0.19355187979625602, 0.22829196078532762, 0.0744430306908677, 0.07940589940359222, 0.034740080989071595, 0.06451729326541868, 0.024814343563622568, 0.1538489300944599, 0.09925737425449027, 0.861194695782169, 0.15460326108400108, 0.07730163054200054, 0.17568552395909215, 0.21082262875091057, 0.10541131437545528, 0.014054841916727371, 0.06324678862527316, 0.07027420958363685, 0.12649357725054633, 0.1775921139317319, 0.07235234271292781, 0.026309942804701024, 0.29598685655288653, 0.006577485701175256, 0.026309942804701024, 0.13812719972468038, 0.1907470853340824, 0.059197371310577306, 0.8035247003934595, 0.017286741640972415, 0.1987975288711828, 0.3025179787170173, 0.025930112461458626, 0.1037204498458345, 0.03457348328194483, 0.2160842705121552, 0.1037204498458345, 0.19891333044103363, 0.22377749674616282, 0.14089694239573214, 0.19891333044103363, 0.06630444348034455, 0.16576110870086136, 0.956730457058011, 0.012448421405681287, 0.20539895319374124, 0.07469052843408772, 0.031121053514203217, 0.3112105351420322, 0.09336316054260965, 0.16182947827385671, 0.09958737124545029, 0.06313122583230937, 0.1325755742478497, 0.05681810324907843, 0.02525249033292375, 0.2651511484956994, 0.15151494199754248, 0.02525249033292375, 0.20833304524662094, 0.07575747099877124, 0.8468403685916193, 0.9622900165462707, 0.9506291674104321, 0.051819672901388045, 0.8291147664222087, 0.051819672901388045, 0.9084193207451369, 0.10597870596927061, 0.1513981513846723, 0.045419445415401695, 0.196817596800074, 0.4390546390155497, 0.06055926055386893, 0.47187832694352166, 0.11103019457494627, 0.38860568101231197, 0.027757548643736567, 0.846840265701587, 0.0709784362308828, 0.1419568724617656, 0.6388059260779453, 0.0709784362308828, 0.8707682771198201, 0.09675203079109113, 0.5499713297964132, 0.042305486907416395, 0.12691646072224919, 0.12691646072224919, 0.08461097381483279, 0.6881121031642455, 0.07231947131197888, 0.14463894262395777, 0.07231947131197888, 0.21695841393593665, 0.47007656352786276, 0.029023360976634435, 0.11609344390653774, 0.0798142426857447, 0.03627920122079305, 0.3990712134287235, 0.10158176341822053, 0.09432592317406192, 0.13786096463901357, 0.8312491913473307, 0.9286865437933332, 0.07739054531611109, 0.6035432536916665, 0.20118108456388883, 0.20118108456388883, 0.11734122008005093, 0.26820850304011645, 0.25144547160010916, 0.09219667292004002, 0.05867061004002547, 0.16763031440007278, 0.03352606288001456, 0.2522907690678531, 0.6937996149365959, 0.8599589246474696, 0.9622900165462707, 0.6786273451218123, 0.08249802025836243, 0.08249802025836243, 0.7424821823252619, 0.9070622336223569, 0.11002056599799316, 0.03667352199933105, 0.5501028299899657, 0.05501028299899658, 0.22004113199598632, 0.3908210989144688, 0.1954105494572344, 0.1954105494572344, 0.07816421978289377, 0.07816421978289377, 0.07816421978289377, 0.05419516532234987, 0.13548791330587467, 0.10839033064469974, 0.1246488802414047, 0.23303921088610446, 0.04877564879011489, 0.06503419838681986, 0.08129274798352482, 0.09213178104799478, 0.06503419838681986, 0.2624962319425341, 0.09374865426519075, 0.0374994617060763, 0.09374865426519075, 0.24374650108949594, 0.1874973085303815, 0.0749989234121526, 0.8902978720282001, 0.9667528180370877, 0.6894556112537003, 0.069942264111987, 0.139884528223974, 0.069942264111987, 0.16319861626130297, 0.23314088037328998, 0.046628176074657995, 0.30308314448527696, 0.6881121727939673, 0.5445735702919712, 0.38120149920437985, 0.8599589246474696, 0.8599589246474696, 0.8468401001780429, 0.4111092513274374, 0.1370364171091458, 0.2740728342182916, 0.07671077783215718, 0.8693888154311148, 0.025570259277385727, 0.04353121830270409, 0.021765609151352044, 0.7400307111459694, 0.08706243660540817, 0.021765609151352044, 0.06529682745405613, 0.19141855011711348, 0.23129741472484547, 0.039878864607731976, 0.3589097814695878, 0.007975772921546396, 0.08773350213701035, 0.07178195629391755, 0.20477224877890374, 0.6143167463367112, 0.011090558341389936, 0.28835451687613833, 0.05545279170694968, 0.06654335004833961, 0.22181116682779872, 0.02218111668277987, 0.033271675024169806, 0.07763390838972956, 0.22181116682779872, 0.15590773273992053, 0.05669372099633473, 0.11338744199266947, 0.14173430249083685, 0.09921401174358578, 0.34016232597800844, 0.08504058149450211, 0.18397108501466655, 0.353790548105128, 0.2122743288630768, 0.15566784116625632, 0.0707581096210256, 0.01415162192420512, 0.17721892305703155, 0.797485153756642, 0.02266805589198277, 0.10200625151392245, 0.147342363297888, 0.03400208383797415, 0.4136920200286855, 0.073671181648944, 0.03400208383797415, 0.13034132137890092, 0.04533611178396554, 0.29061414963926385, 0.16145230535514657, 0.516647377136469, 0.12115661642756835, 0.1615421552367578, 0.18173492464135252, 0.10096384702297362, 0.2927951563666235, 0.030289154106892088, 0.04038553880918945, 0.07067469291608153, 0.9622900165462707, 0.01455691970093478, 0.20379687581308692, 0.07278459850467389, 0.04367075910280434, 0.2765814743177608, 0.13101227730841303, 0.2329107152149565, 0.01455691970093478, 0.8468474993095174, 0.8510951514096278, 0.07737228649178433, 0.09468491978699159, 0.1838001384100425, 0.016709103491822044, 0.1503819314263984, 0.07240611513122887, 0.02784850581970341, 0.367600276820085, 0.044557609311525456, 0.044557609311525456, 0.15054742147822464, 0.43491477315931565, 0.06690996510143318, 0.10036494765214976, 0.21745738657965782, 0.016727491275358296, 0.4954596756898442, 0.3963677405518754, 0.8075435849315166, 0.3092410828096567, 0.6184821656193134, 0.6786273502068582, 0.0897030740278666, 0.8073276662507994, 0.1950638552337304, 0.7802554209349216, 0.2158157560198301, 0.2158157560198301, 0.5755086827195469, 0.019402551882409656, 0.13581786317686761, 0.17947360491228934, 0.033954465794216904, 0.32014210605975935, 0.10186339738265071, 0.033954465794216904, 0.07761020752963863, 0.09701275941204829, 0.18077741605339429, 0.18077741605339429, 0.5423322481601829, 0.21703744849632597, 0.1953337036466934, 0.3400253359775774, 0.021703744849632597, 0.14469163233088397, 0.08681497939853039, 0.07169385756400617, 0.10754078634600925, 0.7169385756400617, 0.07169385756400617, 0.8035249388371868, 0.7558268987475908, 0.8816175391455638, 0.6753818180268879, 0.19296623372196797, 0.6786273502068582, 0.9429611782023435, 0.8599589246474696, 0.8819800970339996, 0.29285838573149103, 0.058571677146298205, 0.1757150314388946, 0.46857341717038564, 0.2083057189404637, 0.37495029409283465, 0.013887047929364247, 0.013887047929364247, 0.027774095858728493, 0.3610632461634704, 0.13681602392255426, 0.17455837534946578, 0.1651227874927379, 0.19342955106292153, 0.03774235142691152, 0.15096940570764608, 0.09907367249564274, 0.04246014535527546, 0.7308364824608046, 0.2739435592559816, 0.15066895759078988, 0.05478871185119632, 0.05478871185119632, 0.15066895759078988, 0.28764073721878064, 0.02739435592559816, 0.7289384898664254, 0.1104441406084791, 0.7731089842593537, 0.13463201499686633, 0.20194802249529953, 0.11780301312225805, 0.15146101687147465, 0.05048700562382488, 0.26926402999373267, 0.05048700562382488, 0.01682900187460829, 0.7941088403943125, 0.0055569659147556485, 0.15559504561315815, 0.22783560250498158, 0.022227863659022594, 0.16670897744266944, 0.016670897744266944, 0.17782290927218075, 0.18893684110169204, 0.03334179548853389, 0.2792389826507462, 0.1322710970450903, 0.07348394280282794, 0.11757430848452471, 0.22045182840848382, 0.14696788560565588, 0.01469678856056559, 0.06713654441417988, 0.06713654441417988, 0.8056385329701585, 0.8103959190190816, 0.14734471254892392, 0.9622900165462707, 0.9622900165462707, 0.9571150843990993, 0.10860830860371307, 0.7602581602259915, 0.10860830860371307, 0.8808825689577293, 0.3272568473524938, 0.04462593372988551, 0.34213215859578894, 0.014875311243295171, 0.014875311243295171, 0.08925186745977103, 0.1636284236762469, 0.8902977025764468, 0.1338039879656921, 0.8028239277941526, 0.8808825689577293, 0.35884455644890123, 0.5382668346733519, 0.6881122521278705, 0.08675320766409815, 0.1735064153281963, 0.1735064153281963, 0.520519245984589, 0.02786330621546101, 0.12259854734802846, 0.11702588610493625, 0.10588056361875184, 0.13931653107730504, 0.25076975593914913, 0.03343596745855321, 0.16160717604967387, 0.03900862870164542, 0.030494226843218893, 0.38626020668077266, 0.12197690737287557, 0.24395381474575115, 0.010164742281072964, 0.1728006187782404, 0.010164742281072964, 0.02032948456214593, 0.8911096544695339, 0.17016959514290275, 0.808305576928788, 0.8819803292928279, 0.8254441444001931, 0.050974745505675545, 0.10194949101135109, 0.7646211825851331, 0.10194949101135109, 0.9622900165462707, 0.8902980932354937, 0.27351608887006823, 0.07597669135279674, 0.03545578929797181, 0.2887114271406276, 0.12156270616447477, 0.05571624032538427, 0.14688826994874035, 0.004773254501217525, 0.06682556301704536, 0.1718371620438309, 0.08114532652069793, 0.1479708895377433, 0.004773254501217525, 0.1479708895377433, 0.10501159902678556, 0.07159881751826287, 0.19570343454991854, 0.4109097334896729, 0.29005392952212206, 0.04834232158702034, 0.12085580396755087, 0.12085580396755087, 0.14935904886280546, 0.6721157198826246, 0.07467952443140273, 0.07467952443140273, 0.7491928526679148, 0.13221050341198495, 0.13221050341198495], \"Term\": [\"1990er\", \"aa\", \"abdullah\", \"adgang\", \"adgang\", \"adgang\", \"adgang\", \"adgang\", \"adgang\", \"adgang\", \"adskille\", \"adskille\", \"adspurgt\", \"advokat\", \"advokat\", \"advokat\", \"advokatindl\\u00e6gg\", \"aftjene\", \"aftjene\", \"aftjene\", \"aircondition\", \"akhbar\", \"alfarwaniyah\", \"algeri\", \"algerium\", \"alshabaab\", \"amhari\", \"amhari\", \"amharisk\", \"anderledes\", \"angiv\", \"angiv\", \"angiv\", \"angivelig\", \"angivelig\", \"angivelig\", \"angivelig\", \"angivelig\", \"angivelig\", \"angivelig\", \"angivelig\", \"angiveligt\", \"angiveligt\", \"angiveligt\", \"angiveligt\", \"angiveligt\", \"angiveligt\", \"angiveligt\", \"angiveligt\", \"angiveligt\", \"angivet\", \"angivet\", \"angivet\", \"angivet\", \"ang\\u00e5\", \"ang\\u00e5\", \"ang\\u00e5\", \"ang\\u00e5\", \"ang\\u00e5\", \"ang\\u00e5\", \"anklaget\", \"anklaget\", \"anmodning\", \"ansvarlig\", \"ans\\u00f8g\", \"ans\\u00f8g\", \"ans\\u00f8g\", \"ans\\u00f8g\", \"ans\\u00f8g\", \"ans\\u00f8gere\", \"ans\\u00f8gere\", \"ans\\u00f8gere\", \"ans\\u00f8gere\", \"ans\\u00f8gere\", \"ans\\u00f8gere\", \"ans\\u00f8gere\", \"ans\\u00f8gere\", \"ans\\u00f8gere\", \"ans\\u00f8gere\", \"ans\\u00f8gerne\", \"ans\\u00f8gerne\", \"ans\\u00f8gerne\", \"ans\\u00f8gerne\", \"ans\\u00f8gers\", \"ans\\u00f8gers\", \"ans\\u00f8gers\", \"ans\\u00f8gers\", \"antallet\", \"arab\", \"arab\", \"arab\", \"arab\", \"arab\", \"arab\", \"arabic\", \"arabic\", \"arabic\", \"arabien\", \"arbejde\", \"arbejde\", \"arbejde\", \"arbejde\", \"arbejde\", \"arbejde\", \"arbejde\", \"asylans\\u00f8ger\", \"asylans\\u00f8ger\", \"asylans\\u00f8ger\", \"asylans\\u00f8ger\", \"asylans\\u00f8ger\", \"asylans\\u00f8ger\", \"asylgrundlag\", \"asylgrundlag\", \"asylgrundlag\", \"asylretligt\", \"asylsag\", \"asylsag\", \"asylsag\", \"asylsag\", \"asylsamtale\", \"asylsamtale\", \"asylsamtale\", \"asylsamtale\", \"asylsamtale\", \"asylsamtale\", \"asylskema\", \"avis\", \"avlingstid\", \"badtoilet\", \"baggrund\", \"baggrund\", \"baggrund\", \"baggrund\", \"baggrund\", \"baggrund\", \"baggrund\", \"baggrund\", \"baggrund\", \"baggrund\", \"baggrundsoplysning\", \"baggrundsoplysning\", \"baggrundsoplysning\", \"baggrundsoplysning\", \"baggrundsoplysning\", \"baggrundsoplysning\", \"baggrundsoplysning\", \"baggrundsoplysning\", \"baggrundsoplysninge\", \"baggrundsoplysninge\", \"bagrund\", \"bahrain\", \"bangladesh\", \"bar\", \"barn\", \"barn\", \"barn\", \"barn\", \"barn\", \"barn\", \"barn\", \"barn\", \"barn\", \"barn\", \"bedoonbefolkning\", \"begrunde\", \"begrunde\", \"begrunde\", \"begrunde\", \"behandle\", \"behandle\", \"behandle\", \"behandle\", \"behandle\", \"behandle\", \"belaste\", \"belaste\", \"belgisk\", \"bem\\u00e6rke\", \"bem\\u00e6rke\", \"bem\\u00e6rke\", \"bem\\u00e6rke\", \"bem\\u00e6rke\", \"bem\\u00e6rke\", \"bem\\u00e6rke\", \"bem\\u00e6rke\", \"bem\\u00e6rke\", \"bem\\u00e6rkelsesv\\u00e6rdigt\", \"bem\\u00e6rkelsesv\\u00e6rdigt\", \"bem\\u00e6rkelsesv\\u00e6rdigt\", \"bem\\u00e6rkelsesv\\u00e6rdigt\", \"bem\\u00e6rkning\", \"bero\", \"bero\", \"beskede\", \"beskedent\", \"beskrivelse\", \"beskrivelse\", \"bestemt\", \"bestemt\", \"bestemt\", \"besvare\", \"besvime\", \"betjente\", \"bevism\\u00e6ssig\", \"bidoon\", \"bidoon\", \"bidoon\", \"bidoon\", \"bidoon\", \"bidoon\", \"bidoon\", \"bidoon\", \"bidoonbefolkning\", \"bidooner\", \"bidooner\", \"bidooner\", \"bidooner\", \"bidooner\", \"bidooner\", \"bidooner\", \"bidooner\", \"bidun\", \"bidun\", \"bidun\", \"bidun\", \"bidune\", \"bidune\", \"bidune\", \"bind\", \"bind\", \"bo\", \"bo\", \"bo\", \"bo\", \"bo\", \"bo\", \"bo\", \"bo\", \"bo\", \"bod\", \"bop\\u00e6l\", \"bop\\u00e6l\", \"bop\\u00e6l\", \"bop\\u00e6l\", \"bop\\u00e6l\", \"bop\\u00e6l\", \"bop\\u00e6l\", \"bop\\u00e6l\", \"bop\\u00e6l\", \"bro\", \"bror\", \"bror\", \"bror\", \"bror\", \"bror\", \"bror\", \"bror\", \"bror\", \"bror\", \"bruger\", \"br\\u00e6kke\", \"burma\", \"burma\", \"burmesisk\", \"burmesisk\", \"by\", \"by\", \"by\", \"by\", \"by\", \"by\", \"by\", \"by\", \"bydel\", \"b\\u00e6re\", \"b\\u00e6re\", \"cder\", \"comr\\u00e5d\", \"comr\\u00e5den\", \"dag\", \"dag\", \"dag\", \"dag\", \"dag\", \"dag\", \"dag\", \"dag\", \"daglig\", \"damaskus\", \"danmark\", \"danmark\", \"danmark\", \"danmark\", \"danmark\", \"danmark\", \"danmark\", \"danmark\", \"dato\", \"dato\", \"dato\", \"dato\", \"dato\", \"dato\", \"dato\", \"dav\\u00e6rende\", \"dav\\u00e6rende\", \"dav\\u00e6rende\", \"dav\\u00e6rende\", \"deltage\", \"deltage\", \"deltage\", \"deltage\", \"deltage\", \"deltage\", \"deltage\", \"deltage\", \"deltage\", \"demonstrant\", \"demonstrant\", \"demonstrant\", \"demonstrant\", \"demonstrant\", \"demonstration\", \"demonstration\", \"demonstration\", \"demonstration\", \"demonstration\", \"demonstration\", \"demonstration\", \"demonstration\", \"demonstratione\", \"demonstratione\", \"demonstratione\", \"demonstratione\", \"demonstratione\", \"demonstratione\", \"dertil\", \"dertil\", \"dertil\", \"dertil\", \"derudover\", \"derudover\", \"derudover\", \"derudover\", \"derudover\", \"derudover\", \"dialekt\", \"dialekt\", \"dialekt\", \"dialekt\", \"dinare\", \"dinare\", \"dinare\", \"direkte\", \"diskrimination\", \"diskrimination\", \"divergense\", \"divergense\", \"divergense\", \"divergense\", \"divergense\", \"divergense\", \"divergensen\", \"divergensen\", \"divergere\", \"divergere\", \"divergere\", \"divergere\", \"divergere\", \"divergere\", \"divergere\", \"divergere\", \"divergere\", \"divergere\", \"diverse\", \"diwaniya\", \"dokument\", \"dokument\", \"dokument\", \"dokument\", \"dokument\", \"dokument\", \"dokument\", \"dokument\", \"dokument\", \"dokumentation\", \"dokumentation\", \"dokumentation\", \"drab\", \"dreng\", \"d\\u00e5bsattest\", \"d\\u00e5rligt\", \"d\\u00e5rligt\", \"d\\u00f8r\", \"d\\u00f8r\", \"d\\u00f8trene\", \"efterstr\\u00e6be\", \"efter\\u00e5r\", \"efter\\u00e5r\", \"efter\\u00e5r\", \"efter\\u00e5r\", \"efter\\u00e5r\", \"efter\\u00e5r\", \"efter\\u00e5r\", \"efter\\u00e5r\", \"egentlig\", \"egentlig\", \"ejendom\", \"elektricit\", \"elektricit\", \"emir\", \"emir\", \"emir\", \"emirat\", \"enkelt\", \"enkelt\", \"enkelt\", \"enkelt\", \"enkelt\", \"enkeltvis\", \"enslydende\", \"episod\", \"episode\", \"episode\", \"eritrea\", \"eritrea\", \"eritrean\", \"eritreisk\", \"eritreisk\", \"erkl\\u00e6ring\", \"erkl\\u00e6ring\", \"erkl\\u00e6ring\", \"erkl\\u00e6ring\", \"erkl\\u00e6ring\", \"etiopie\", \"etiopien\", \"etiopien\", \"etiopien\", \"etiopisk\", \"etiopisk\", \"etnicitet\", \"eventuelt\", \"eventuelt\", \"fader\", \"fader\", \"fader\", \"fader\", \"fader\", \"fader\", \"fader\", \"fald\", \"fald\", \"fald\", \"fald\", \"falsk\", \"falsk\", \"falsk\", \"falsk\", \"falsk\", \"falsk\", \"falsk\", \"falsk\", \"falsk\", \"falsk\", \"familiemedlem\", \"familiemedlem\", \"familiemedlem\", \"familiemedlem\", \"familiemedlem\", \"familiemedlem\", \"fange\", \"fange\", \"far\", \"far\", \"far\", \"far\", \"far\", \"far\", \"far\", \"far\", \"farbroder\", \"farbror\", \"farbror\", \"farbror\", \"farbror\", \"farbr\\u00f8der\", \"farbr\\u00f8der\", \"fare\", \"fare\", \"fare\", \"fare\", \"fattig\", \"filmoptagelse\", \"filmoptagelse\", \"fingeraftryk\", \"fingeraftryk\", \"flertal\", \"flertal\", \"flertal\", \"flertal\", \"fly\", \"fly\", \"flygte\", \"flygte\", \"flygte\", \"flygte\", \"flygte\", \"flygte\", \"flygte\", \"flygte\", \"flygtningen\\u00e6vne\", \"flygtningen\\u00e6vne\", \"flygtningen\\u00e6vne\", \"flygtningen\\u00e6vne\", \"flygtningen\\u00e6vne\", \"flygtningen\\u00e6vne\", \"flygtningen\\u00e6vne\", \"flygtningen\\u00e6vne\", \"flygtningen\\u00e6vne\", \"flygtningen\\u00e6vne\", \"flygtningen\\u00e6vnet\", \"flygtningen\\u00e6vnet\", \"flygtningen\\u00e6vnet\", \"flygtningen\\u00e6vnet\", \"flygtningen\\u00e6vnet\", \"flygtningen\\u00e6vnet\", \"flygtningen\\u00e6vnet\", \"flygtningen\\u00e6vnet\", \"flygtningen\\u00e6vnet\", \"flygtningen\\u00e6vnet\", \"folke\", \"foran\", \"foran\", \"foran\", \"forbindelse\", \"forbindelse\", \"forbindelse\", \"forbindelse\", \"forbindelse\", \"forbindelse\", \"forbindelse\", \"forbindelse\", \"fordel\", \"fordel\", \"fordel\", \"fordi\", \"fordi\", \"fordi\", \"fordi\", \"fordi\", \"fordi\", \"fordi\", \"fordi\", \"fordi\", \"fordi\", \"forekomme\", \"forekomme\", \"forekomme\", \"forekomme\", \"forekomme\", \"forekomme\", \"forekomme\", \"forekomme\", \"foreliggende\", \"foreliggende\", \"foreliggende\", \"foreliggende\", \"foreliggende\", \"foreliggende\", \"foreliggende\", \"foreliggende\", \"forene\", \"forfald\", \"forfald\", \"forfald\", \"forfalsket\", \"forfalsket\", \"forfalsket\", \"forfalsket\", \"forfalsket\", \"forf\\u00f8lgelse\", \"forf\\u00f8lgelse\", \"forf\\u00f8lgelse\", \"forf\\u00f8lgelse\", \"forf\\u00f8lgelse\", \"forf\\u00f8lgelse\", \"forf\\u00f8lgelse\", \"forf\\u00f8lgelse\", \"forf\\u00f8lgelse\", \"forholde\", \"forkert\", \"forkert\", \"forlove\", \"forl\\u00e6ngelse\", \"forl\\u00e6ngelse\", \"formel\", \"formel\", \"formel\", \"fornavn\", \"fornavn\", \"fornavn\", \"fornavn\", \"forretningsord\", \"forretningsord\", \"fortalt\", \"fortrinsvis\", \"for\\u00e5r\", \"for\\u00e5r\", \"for\\u00e5r\", \"for\\u00e5r\", \"for\\u00e5r\", \"for\\u00e5r\", \"for\\u00e5r\", \"for\\u00e5r\", \"for\\u00e6lder\", \"for\\u00e6lder\", \"for\\u00e6lder\", \"for\\u00e6lder\", \"for\\u00e6lder\", \"for\\u00e6lder\", \"for\\u00e6lder\", \"for\\u00e6lder\", \"fremg\\u00e5\", \"fremg\\u00e5\", \"fremg\\u00e5\", \"fremg\\u00e5\", \"fremg\\u00e5\", \"fremg\\u00e5\", \"fremg\\u00e5\", \"fremg\\u00e5\", \"fremg\\u00e5\", \"fremh\\u00e6ve\", \"fremh\\u00e6ve\", \"fremlagt\", \"fremlagt\", \"fremlagt\", \"fremlagt\", \"fremlagt\", \"fremlagt\", \"fremlagt\", \"freml\\u00e6gge\", \"freml\\u00e6gge\", \"freml\\u00e6gge\", \"freml\\u00e6gge\", \"freml\\u00e6gge\", \"freml\\u00e6gge\", \"freml\\u00e6gge\", \"freml\\u00e6gge\", \"fremm\\u00f8d\", \"fremm\\u00f8de\", \"fremsende\", \"fremsende\", \"fremskaffe\", \"fremskaffe\", \"fremskaffe\", \"fremst\\u00e5\", \"fremst\\u00e5\", \"fremst\\u00e5\", \"fremst\\u00e5\", \"fremst\\u00e5\", \"fremst\\u00e5\", \"fremst\\u00e5\", \"fremtidig\", \"frieri\", \"front\", \"front\", \"frugt\", \"fs\", \"fs\", \"fysisk\", \"fysisk\", \"fysisk\", \"fysisk\", \"fysisk\", \"f\\u00e6ngsel\", \"f\\u00e6ngsel\", \"f\\u00e6ngsel\", \"f\\u00e6ngsel\", \"f\\u00e6ngsel\", \"f\\u00e6ngsel\", \"f\\u00e6ngsel\", \"f\\u00f8de\", \"f\\u00f8de\", \"f\\u00f8de\", \"f\\u00f8de\", \"f\\u00f8de\", \"f\\u00f8de\", \"f\\u00f8de\", \"f\\u00f8de\", \"f\\u00f8de\", \"f\\u00f8de\", \"f\\u00f8lge\", \"f\\u00f8lge\", \"f\\u00f8lge\", \"f\\u00f8lge\", \"f\\u00f8lge\", \"f\\u00f8lge\", \"f\\u00f8lge\", \"f\\u00f8lge\", \"f\\u00f8lge\", \"f\\u00f8re\", \"f\\u00f8re\", \"f\\u00f8re\", \"f\\u00f8re\", \"f\\u00f8re\", \"f\\u00f8re\", \"f\\u00f8re\", \"f\\u00f8re\", \"f\\u00f8re\", \"gade\", \"gade\", \"gade\", \"gade\", \"gadenumr\", \"gang\", \"gang\", \"gang\", \"gang\", \"gang\", \"gang\", \"gang\", \"gang\", \"gang\", \"gang\", \"generel\", \"generel\", \"generel\", \"generel\", \"generel\", \"generel\", \"generel\", \"generel\", \"generel\", \"generel\", \"genindrejs\", \"gennem\", \"gennem\", \"gennem\", \"genoptage\", \"genoptage\", \"genoptage\", \"ghana\", \"ghana\", \"give\", \"give\", \"give\", \"give\", \"give\", \"give\", \"give\", \"give\", \"give\", \"give\", \"golf\", \"golf\", \"golf\", \"golf\", \"gram\", \"gram\", \"graviditet\", \"group\", \"grov\", \"grundl\\u00e6ggende\", \"gr\\u00e6sk\", \"gr\\u00e6sk\", \"gr\\u00e6sk\", \"gr\\u00e6sk\", \"gr\\u00e6sk\", \"gr\\u00e6sk\", \"gr\\u00e6sk\", \"gulf\", \"gulf\", \"gulf\", \"hedde\", \"hedde\", \"hedde\", \"hedde\", \"hel\", \"hel\", \"hel\", \"hel\", \"hel\", \"hel\", \"hel\", \"hel\", \"heller\", \"heller\", \"heller\", \"heller\", \"heller\", \"heller\", \"heller\", \"heller\", \"heller\", \"henrette\", \"henrette\", \"henrettet\", \"henrettet\", \"herefter\", \"herefter\", \"herefter\", \"herefter\", \"herefter\", \"herefter\", \"herefter\", \"herefter\", \"herefter\", \"herefter\", \"heroverfor\", \"heroverfor\", \"herunder\", \"herunder\", \"herunder\", \"herunder\", \"herunder\", \"herunder\", \"herunder\", \"herunder\", \"herunder\", \"herunder\", \"herved\", \"herved\", \"herved\", \"herved\", \"herved\", \"herved\", \"herved\", \"hinanden\", \"hinanden\", \"hjem\", \"hjem\", \"hjem\", \"hjem\", \"hjem\", \"hjem\", \"hjem\", \"hjemland\", \"hjemland\", \"hjemland\", \"hjemland\", \"hjemland\", \"hjemland\", \"hjemland\", \"hjemland\", \"hjemland\", \"hjemland\", \"hjemmeh\\u00f8re\", \"holland\", \"hollandsk\", \"hoved\", \"hoved\", \"hovedstad\", \"hus\", \"hus\", \"hus\", \"hus\", \"hus\", \"husnumm\", \"husnumm\", \"hver\", \"hver\", \"hver\", \"hver\", \"hver\", \"hver\", \"hver\", \"hvilke\", \"hvorefte\", \"hvorefte\", \"hvorefter\", \"hvorefter\", \"hvorefter\", \"hvorefter\", \"hvorefter\", \"hvorefter\", \"hvorefter\", \"hvorefter\", \"hvorefter\", \"hvorfra\", \"hvorfra\", \"hvori\", \"hvori\", \"hvori\", \"hvori\", \"hvortil\", \"hvortil\", \"h\\u00e6ndelse\", \"iddokument\", \"identificere\", \"identificere\", \"identiten\", \"idkort\", \"idkort\", \"idkort\", \"idkort\", \"if\\u00f8lge\", \"if\\u00f8lge\", \"if\\u00f8lge\", \"if\\u00f8lge\", \"if\\u00f8lge\", \"if\\u00f8lge\", \"if\\u00f8lge\", \"ihjel\", \"ihjel\", \"ihjel\", \"ihjel\", \"ihjel\", \"ihjel\", \"ihjel\", \"ihjel\", \"illegal\", \"illegal\", \"illegal\", \"illegal\", \"illegal\", \"in\", \"indbyrdes\", \"indbyrdes\", \"indbyrdes\", \"indbyrdes\", \"indbyrdes\", \"indbyrdes\", \"indbyrdes\", \"inddrage\", \"inddrage\", \"inddrage\", \"inddrage\", \"inddrage\", \"indikere\", \"indkalde\", \"indkalde\", \"indk\\u00f8b\", \"indledningsvis\", \"indledningsvis\", \"indrejse\", \"indrejse\", \"indrejse\", \"indrejse\", \"indrejse\", \"indrejse\", \"indrejse\", \"indvilge\", \"indvillige\", \"interessere\", \"ipad\", \"irak\", \"irak\", \"irak\", \"irak\", \"irak\", \"irak\", \"irakisk\", \"irakisk\", \"irakisk\", \"irakisk\", \"irakisk\", \"irakisk\", \"irakisk\", \"irakisk\", \"irakisk\", \"iransk\", \"iransk\", \"isil\", \"isolere\", \"israel\", \"israel\", \"italien\", \"italien\", \"italiensk\", \"italiensk\", \"jordan\", \"jordan\", \"jordan\", \"journalist\", \"kl\", \"kl\", \"klager\", \"klager\", \"klagere\", \"klagere\", \"klagerens\", \"knap\", \"knap\", \"kniv\", \"knytte\", \"knytte\", \"knytte\", \"knytte\", \"komme\", \"komme\", \"komme\", \"komme\", \"komme\", \"komme\", \"komme\", \"komme\", \"komme\", \"komme\", \"kommentere\", \"konflikt\", \"konflikt\", \"konflikt\", \"konflikt\", \"konflikt\", \"konflikt\", \"konflikt\", \"konflikt\", \"konflikt\", \"konfrontere\", \"koordinere\", \"korrigere\", \"krist\", \"krist\", \"kristen\", \"kritisere\", \"kroatien\", \"kurder\", \"kuwaitisk\", \"kuwaitisk\", \"kuwaitisk\", \"kuwaitisk\", \"kuwaitisk\", \"kuwaitisk\", \"kuwaitisk\", \"kuwaitisk\", \"kvarter\", \"kvinde\", \"kvinde\", \"kvinde\", \"kvinde\", \"kvinde\", \"kvinde\", \"kvindelig\", \"kvindelig\", \"kvindelig\", \"kvindelig\", \"kvindelig\", \"kvindelig\", \"kvindelig\", \"kvindelig\", \"kvindelig\", \"kvindelig\", \"kv\\u00e6g\", \"k\\u00f8ret\\u00f8j\", \"k\\u00f8ret\\u00f8j\", \"land\", \"land\", \"land\", \"land\", \"land\", \"land\", \"land\", \"land\", \"land\", \"land\", \"landekod\", \"landekod\", \"landinfo\", \"lejr\", \"lejr\", \"libanesisk\", \"libanesisk\", \"libanon\", \"libanon\", \"libanon\", \"liberation\", \"liberation\", \"libyen\", \"libyen\", \"libysk\", \"lide\", \"lige\", \"lige\", \"ligesom\", \"ligesom\", \"ligesom\", \"ligesom\", \"ligesom\", \"ligesom\", \"ligesom\", \"ligesom\", \"ligesom\", \"lik\", \"liste\", \"liste\", \"liyu\", \"lokalkendskab\", \"lokalkendskab\", \"lokalkendskab\", \"lokalomr\\u00e5d\", \"lokalomr\\u00e5d\", \"lokalomr\\u00e5d\", \"lokalomr\\u00e5de\", \"lytte\", \"lytte\", \"l\\u00e6gehj\\u00e6lp\", \"l\\u00f8bende\", \"l\\u00f8slade\", \"l\\u00f8slade\", \"l\\u00f8slade\", \"l\\u00f8slade\", \"l\\u00f8slade\", \"l\\u00f8slade\", \"l\\u00f8sladels\", \"l\\u00f8sladels\", \"l\\u00f8sladels\", \"l\\u00f8sladels\", \"l\\u00f8sladels\", \"l\\u00f8sladels\", \"l\\u00f8sladelse\", \"l\\u00f8sladelse\", \"l\\u00f8sladelse\", \"l\\u00f8sladelse\", \"l\\u00f8sladelse\", \"mand\", \"mand\", \"mand\", \"mand\", \"mand\", \"mand\", \"mand\", \"medf\\u00f8lgende\", \"medf\\u00f8re\", \"medf\\u00f8re\", \"medf\\u00f8re\", \"medf\\u00f8re\", \"medio\", \"medio\", \"medio\", \"medvirke\", \"medvirke\", \"medvirke\", \"medvirke\", \"mellemrum\", \"menneskesmugler\", \"mens\", \"mens\", \"mens\", \"mens\", \"mens\", \"mens\", \"mens\", \"mens\", \"minut\", \"minutters\", \"mor\", \"mor\", \"mor\", \"mor\", \"mor\", \"mor\", \"mor\", \"mor\", \"morbror\", \"moske\", \"moske\", \"moske\", \"mosk\\u00e9\", \"mosk\\u00e9\", \"motiv\", \"motivsamta\", \"motivsamta\", \"motivsamta\", \"motivsamta\", \"motivsamta\", \"myanmar\", \"myanmar\", \"myndighedsops\\u00f8gning\", \"myndighedspersone\", \"m\\u00e5ned\", \"m\\u00e5ned\", \"m\\u00e5ned\", \"m\\u00e5ned\", \"m\\u00e5ned\", \"m\\u00e5ned\", \"m\\u00e5ned\", \"m\\u00e5ned\", \"m\\u00e5tte\", \"m\\u00e5tte\", \"m\\u00e5tte\", \"m\\u00e5tte\", \"m\\u00e5tte\", \"m\\u00e5tte\", \"m\\u00e5tte\", \"m\\u00e5tte\", \"m\\u00e5tte\", \"m\\u00e5tte\", \"m\\u00e6ndene\", \"m\\u00f8de\", \"m\\u00f8de\", \"m\\u00f8de\", \"m\\u00f8de\", \"m\\u00f8de\", \"m\\u00f8de\", \"m\\u00f8de\", \"m\\u00f8der\", \"najaf\", \"nationalitetspas\", \"nationalitetspas\", \"nationaltjeneste\", \"navn\", \"navn\", \"navn\", \"navn\", \"navn\", \"navn\", \"navn\", \"navn\", \"navn\", \"navngive\", \"nr\", \"nr\", \"n\\u00e5\", \"n\\u00e5\", \"n\\u00e6rmere\", \"n\\u00e6rmere\", \"n\\u00e6rmere\", \"n\\u00e6rmere\", \"n\\u00e6rmere\", \"n\\u00e6rmere\", \"n\\u00e6rmere\", \"n\\u00e6rmere\", \"n\\u00e6vn\", \"n\\u00e6vn\", \"n\\u00e6vn\", \"n\\u00e6vn\", \"n\\u00e6vn\", \"n\\u00e6vne\", \"n\\u00e6vne\", \"n\\u00e6vne\", \"n\\u00e6vne\", \"n\\u00e6vne\", \"n\\u00e6vne\", \"n\\u00e6vnsbehandling\", \"n\\u00e6vnsbehandling\", \"n\\u00e6vnsm\\u00f8de\", \"n\\u00e6vnsm\\u00f8de\", \"n\\u00e6vnsm\\u00f8de\", \"n\\u00e6vnsm\\u00f8de\", \"n\\u00e6vnsm\\u00f8de\", \"n\\u00e6vnsm\\u00f8de\", \"n\\u00e6vnsm\\u00f8de\", \"n\\u00e6vnsm\\u00f8de\", \"n\\u00f8dvendig\", \"n\\u00f8dvendig\", \"n\\u00f8dvendig\", \"n\\u00f8dvendig\", \"offentligt\", \"offentligt\", \"officer\", \"officer\", \"omfattet\", \"omfattet\", \"omfattet\", \"omfattet\", \"omfattet\", \"omfattet\", \"omfattet\", \"omgang\", \"omkring\", \"omkring\", \"omkring\", \"omkring\", \"omkring\", \"omkring\", \"omkring\", \"omkring\", \"omkring\", \"omst\\u00e6ndighed\", \"omst\\u00e6ndighed\", \"omst\\u00e6ndighed\", \"omst\\u00e6ndighed\", \"omst\\u00e6ndighed\", \"omst\\u00e6ndighed\", \"omst\\u00e6ndighed\", \"onlf\", \"opdage\", \"opdage\", \"opfyldte\", \"opgive\", \"opgive\", \"opgive\", \"opgive\", \"opholde\", \"opholde\", \"opholde\", \"opholde\", \"opholde\", \"opholde\", \"opholde\", \"opholde\", \"opholde\", \"opholde\", \"opholdstilladelse\", \"opholdstilladelse\", \"opholdstilladelse\", \"opholdstilladelse\", \"opholdstilladelse\", \"opholdstilladelse\", \"opholdstilladelse\", \"opholdstilladelse\", \"opholdstilladelse\", \"opholdstilladelse\", \"oplysning\", \"oplysning\", \"oplysning\", \"oplysning\", \"oplysning\", \"oplysning\", \"oplysning\", \"oplysning\", \"oplysnings\", \"oplysnings\", \"oplysnings\", \"oplysnings\", \"oplysnings\", \"oplysnings\", \"opl\\u00f8sning\", \"opm\\u00e6rksom\", \"opm\\u00e6rksom\", \"opm\\u00e6rksom\", \"opm\\u00e6rksom\", \"opn\\u00e5\", \"opn\\u00e5\", \"opn\\u00e5\", \"opn\\u00e5\", \"oprindelig\", \"oprindelig\", \"oprindelig\", \"oprindeligt\", \"oprindeligt\", \"oprindeligt\", \"oprindelse\", \"oprindelse\", \"ops\\u00f8gt\", \"ops\\u00f8gt\", \"ops\\u00f8gt\", \"ops\\u00f8gt\", \"ops\\u00f8gt\", \"ops\\u00f8gt\", \"ops\\u00f8gt\", \"ops\\u00f8gt\", \"ops\\u00f8gt\", \"ops\\u00f8gte\", \"ops\\u00f8gte\", \"ops\\u00f8gte\", \"optage\", \"ortodoks\", \"otte\", \"otte\", \"otte\", \"ovenfor\", \"ovenfor\", \"overgreb\", \"overgreb\", \"overgreb\", \"overgreb\", \"overgreb\", \"overgreb\", \"overgreb\", \"overgreb\", \"overs\\u00e6ttelse\", \"overs\\u00e6ttelse\", \"pas\", \"pas\", \"pas\", \"pas\", \"pas\", \"pas\", \"pas\", \"pas\", \"people\", \"persisk\", \"persisk\", \"person\", \"person\", \"person\", \"person\", \"person\", \"person\", \"person\", \"person\", \"person\", \"person\", \"personligt\", \"pige\", \"plausibel\", \"police\", \"politi\", \"politi\", \"politi\", \"politi\", \"politi\", \"politi\", \"politi\", \"politibil\", \"prim\\u00e6rt\", \"profil\", \"profil\", \"profil\", \"profil\", \"profilbillede\", \"proteste\", \"p\\u00e5ber\\u00e5ber\", \"p\\u00e5ber\\u00e5ber\", \"p\\u00e5ber\\u00e5ber\", \"p\\u00e5kl\\u00e6dning\", \"p\\u00e5k\\u00f8rt\", \"p\\u00e5st\\u00e5\", \"p\\u00e5st\\u00e5\", \"qatar\", \"ransage\", \"ransage\", \"ransage\", \"ransage\", \"ransage\", \"referat\", \"referat\", \"regione\", \"relatere\", \"relativt\", \"relativt\", \"relativt\", \"relativt\", \"respektive\", \"restaurant\", \"resultat\", \"resultat\", \"resultat\", \"resultat\", \"resultat\", \"resultat\", \"resultat\", \"resultat\", \"ret\", \"ret\", \"ret\", \"rettighed\", \"rettighed\", \"rettighed\", \"rettighed\", \"rettighed\", \"rettighed\", \"rettighed\", \"rettighed\", \"retur\", \"rimelig\", \"rimelig\", \"rimelig\", \"risiko\", \"risiko\", \"risiko\", \"risiko\", \"risiko\", \"risiko\", \"risiko\", \"risiko\", \"risiko\", \"rohingya\", \"rolle\", \"rut\", \"r\\u00e5be\", \"r\\u00e5be\", \"sag\", \"sag\", \"sag\", \"sag\", \"sag\", \"sag\", \"sag\", \"sag\", \"sag\", \"sag\", \"sambehandlet\", \"samme\", \"samme\", \"samme\", \"samme\", \"samme\", \"samme\", \"samme\", \"samme\", \"samme\", \"sammen\", \"sammen\", \"sammen\", \"sammen\", \"sammen\", \"sammen\", \"sammen\", \"sammen\", \"sammen\", \"samstemmende\", \"samt\", \"samt\", \"samt\", \"samt\", \"samt\", \"samt\", \"samt\", \"samt\", \"samtale\", \"samtale\", \"samtale\", \"samtale\", \"samtale\", \"samtale\", \"samtalereferaterne\", \"sandsynliggjore\", \"sandsynliggjore\", \"sandsynliggjore\", \"sandsynliggjore\", \"sandsynliggjore\", \"sandsynliggjore\", \"sandsynliggjore\", \"sandsynliggjore\", \"sandsynligg\\u00f8re\", \"sandsynligg\\u00f8re\", \"sandsynligg\\u00f8re\", \"sandsynligg\\u00f8re\", \"sandsynligg\\u00f8re\", \"sandsynligg\\u00f8re\", \"sandsynligg\\u00f8re\", \"sandsynligg\\u00f8re\", \"sandsynligg\\u00f8re\", \"saudi\", \"seddel\", \"seksuel\", \"seksuelt\", \"seksuelt\", \"seksuelt\", \"selve\", \"shiamuslim\", \"shiamuslim\", \"shiamuslim\", \"shiamuslim\", \"shiamuslim\", \"shiamuslim\", \"side\", \"side\", \"side\", \"side\", \"sikkerhedspoliti\", \"situation\", \"situation\", \"situation\", \"situation\", \"skjulested\", \"skjulested\", \"skole\", \"skole\", \"skole\", \"skole\", \"skole\", \"sk\\u00e6ldsord\", \"slutning\", \"slutning\", \"slutning\", \"slutning\", \"slutning\", \"sl\\u00e5\", \"sl\\u00e5\", \"sl\\u00e5\", \"sl\\u00e5\", \"sl\\u00e5\", \"sl\\u00e5\", \"sl\\u00e5\", \"sl\\u00e5\", \"small\", \"soldat\", \"soldat\", \"somalia\", \"somalia\", \"somalia\", \"sommer\", \"sommer\", \"sommer\", \"sommer\", \"sommer\", \"sommer\", \"sommer\", \"sove\", \"sove\", \"sparsom\", \"sparsomt\", \"spinkle\", \"spise\", \"spise\", \"spise\", \"sprogtests\", \"sp\\u00f8rgsm\\u00e5l\", \"sp\\u00f8rgsm\\u00e5l\", \"sp\\u00f8rgsm\\u00e5l\", \"sp\\u00f8rgsm\\u00e5l\", \"sp\\u00f8rgsm\\u00e5l\", \"stamme\", \"stamme\", \"stamme\", \"stamme\", \"stamme\", \"stamme\", \"statsborger\", \"statsborger\", \"statsborger\", \"statsborger\", \"statsborger\", \"statsborger\", \"statsborger\", \"statsborger\", \"statsborger\", \"statsborger\", \"statsborgerskab\", \"statsborgerskab\", \"statsborgerskab\", \"statsborgerskab\", \"statsborgerskab\", \"statsborgerskab\", \"statsborgerskab\", \"styrke\", \"sudan\", \"sudanesisk\", \"sulaibiya\", \"sulaibiya\", \"sulaibiya\", \"sulaibiya\", \"sulaibiya\", \"sulaibiya\", \"sulaibiya\", \"sulaybia\", \"svig\", \"svig\", \"svogers\", \"svogre\", \"sye\", \"syg\", \"syg\", \"syg\", \"syrien\", \"syrien\", \"syrien\", \"syrisk\", \"syrisk\", \"syrisk\", \"syrisk\", \"syrisk\", \"syrisk\", \"s\\u00e5\", \"s\\u00e5\", \"s\\u00e5\", \"s\\u00e5\", \"s\\u00e5\", \"s\\u00e5\", \"s\\u00e5\", \"s\\u00e5som\", \"s\\u00e5som\", \"s\\u00f8ge\", \"s\\u00f8ge\", \"s\\u00f8ge\", \"s\\u00f8ge\", \"s\\u00f8ge\", \"s\\u00f8ge\", \"s\\u00f8ge\", \"s\\u00f8ge\", \"s\\u00f8ge\", \"s\\u00f8n\", \"s\\u00f8n\", \"s\\u00f8n\", \"s\\u00f8n\", \"s\\u00f8n\", \"s\\u00f8n\", \"s\\u00f8n\", \"s\\u00f8ster\", \"s\\u00f8ster\", \"s\\u00f8ster\", \"s\\u00f8ster\", \"s\\u00f8ster\", \"s\\u00f8ster\", \"s\\u00f8stre\", \"s\\u00f8stre\", \"tage\", \"tage\", \"tage\", \"tage\", \"tage\", \"tage\", \"tage\", \"tage\", \"tage\", \"taima\", \"taima\", \"taima\", \"tale\", \"tale\", \"tale\", \"tale\", \"tale\", \"tale\", \"tale\", \"tale\", \"tidligt\", \"tidspunkt\", \"tidspunkt\", \"tidspunkt\", \"tidspunkt\", \"tidspunkt\", \"tidspunkt\", \"tidspunkt\", \"tidspunkt\", \"tiger\", \"tigrinya\", \"tigrinya\", \"tilbageholde\", \"tilbageholde\", \"tilbageholde\", \"tilbageholde\", \"tilbageholde\", \"tilbageholde\", \"tilbageholde\", \"tilbageholde\", \"tilbageholde\", \"tilbageholdelse\", \"tilbageholdelse\", \"tilbageholdelse\", \"tilbageholdelse\", \"tilbageholdelse\", \"tilbageholdelse\", \"tilbagevende\", \"tilbagevende\", \"tilf\\u00e6ldighed\", \"tilladelse\", \"tilladelse\", \"till\\u00e6rt\", \"tilstr\\u00e6kkeligt\", \"tilstr\\u00e6kkeligt\", \"tilsvarende\", \"tilsvarende\", \"tiltr\\u00e6de\", \"tiltr\\u00e6de\", \"tiltr\\u00e6de\", \"to\", \"to\", \"to\", \"to\", \"to\", \"to\", \"to\", \"to\", \"to\", \"traf\", \"traf\", \"traf\", \"tre\", \"tre\", \"tre\", \"tre\", \"tre\", \"tre\", \"true\", \"true\", \"true\", \"true\", \"tvangshverv\", \"tvivlsom\", \"tysk\", \"tyskland\", \"tyskland\", \"uafh\\u00e6ngigt\", \"uddele\", \"udf\\u00f8relse\", \"udgift\", \"udl\\u00e6ndin\", \"udl\\u00e6ndin\", \"udl\\u00e6ndin\", \"udl\\u00e6ndin\", \"udl\\u00e6nding\", \"udl\\u00e6nding\", \"udl\\u00e6nding\", \"udl\\u00e6nding\", \"udl\\u00e6nding\", \"udl\\u00e6nding\", \"udl\\u00e6ndingestyrelse\", \"udl\\u00e6ndingestyrelse\", \"udl\\u00e6ndingestyrelse\", \"udl\\u00e6ndingestyrelse\", \"udl\\u00e6ndingestyrelse\", \"udl\\u00e6ndingestyrelse\", \"udl\\u00e6ndingestyrelse\", \"udl\\u00e6ndingestyrelse\", \"udrejseforhold\", \"udrejst\", \"udrejst\", \"udrejst\", \"udrejst\", \"udrejst\", \"udrejst\", \"udrejst\", \"udseende\", \"udsende\", \"udsende\", \"udstede\", \"udstede\", \"udstede\", \"udstede\", \"udstede\", \"udstede\", \"udstede\", \"udstede\", \"udstr\\u00e6kke\", \"uds\\u00e6tte\", \"uds\\u00e6tte\", \"uds\\u00e6tte\", \"uds\\u00e6tte\", \"uds\\u00e6tte\", \"uds\\u00e6tte\", \"uds\\u00e6tte\", \"uds\\u00e6tte\", \"uds\\u00e6tte\", \"ukendt\", \"ukendt\", \"ukendt\", \"ukendt\", \"ukendt\", \"ukendt\", \"ukendt\", \"ulovligt\", \"ulovligt\", \"ulovligt\", \"umenneskelig\", \"umenneskelig\", \"underrette\", \"undslap\", \"ung\", \"urigtig\", \"urigtig\", \"urigtig\", \"utreis\", \"utrov\\u00e6rdig\", \"utrov\\u00e6rdig\", \"utrov\\u00e6rdig\", \"utrov\\u00e6rdig\", \"utrov\\u00e6rdig\", \"utrov\\u00e6rdig\", \"utrov\\u00e6rdig\", \"vandmelone\", \"vanskelig\", \"vanskelig\", \"varet\\u00e6gtsf\\u00e6ngslet\", \"veninde\", \"veninde\", \"verbalt\", \"viden\", \"viden\", \"viden\", \"viden\", \"videre\", \"videre\", \"videre\", \"videre\", \"videre\", \"videre\", \"videre\", \"videre\", \"videre\", \"vinter\", \"vinter\", \"vinter\", \"vinter\", \"vinter\", \"vinter\", \"vinter\", \"vinter\", \"vriste\", \"v\\u00e5ben\", \"v\\u00e5ben\", \"v\\u00e5gne\", \"v\\u00e6rnepligt\", \"yderst\", \"yderst\", \"yderst\", \"yderst\", \"yng\", \"\\u00e5bne\", \"\\u00e5r\", \"\\u00e5r\", \"\\u00e5r\", \"\\u00e5r\", \"\\u00e5r\", \"\\u00e5r\", \"\\u00e5r\", \"\\u00e6gtef\\u00e6lle\", \"\\u00e6gtef\\u00e6lle\", \"\\u00e6gtef\\u00e6lle\", \"\\u00e6gtef\\u00e6lle\", \"\\u00e6gtef\\u00e6lle\", \"\\u00e6gtef\\u00e6lle\", \"\\u00e6gtef\\u00e6lle\", \"\\u00e6gtef\\u00e6lle\", \"\\u00e6gtef\\u00e6lle\", \"\\u00e6gtef\\u00e6lle\", \"\\u00e6gtepar\", \"\\u00e6gtepar\", \"\\u00e6gtepar\", \"\\u00e6gtepar\", \"\\u00e6gtepar\", \"\\u00f8je\", \"\\u00f8je\", \"\\u00f8je\", \"\\u00f8je\", \"\\u00f8strig\", \"\\u00f8strig\", \"\\u00f8strig\"]}, \"R\": 30, \"lambda.step\": 0.01, \"plot.opts\": {\"xlab\": \"PC1\", \"ylab\": \"PC2\"}, \"topic.order\": [1, 2, 3, 4, 5, 6, 7, 8, 9, 10]};\n",
       "\n",
       "function LDAvis_load_lib(url, callback){\n",
       "  var s = document.createElement('script');\n",
       "  s.src = url;\n",
       "  s.async = true;\n",
       "  s.onreadystatechange = s.onload = callback;\n",
       "  s.onerror = function(){console.warn(\"failed to load library \" + url);};\n",
       "  document.getElementsByTagName(\"head\")[0].appendChild(s);\n",
       "}\n",
       "\n",
       "if(typeof(LDAvis) !== \"undefined\"){\n",
       "   // already loaded: just create the visualization\n",
       "   !function(LDAvis){\n",
       "       new LDAvis(\"#\" + \"ldavis_el576353852914729223293113\", ldavis_el576353852914729223293113_data);\n",
       "   }(LDAvis);\n",
       "}else if(typeof define === \"function\" && define.amd){\n",
       "   // require.js is available: use it to load d3/LDAvis\n",
       "   require.config({paths: {d3: \"https://d3js.org/d3.v5\"}});\n",
       "   require([\"d3\"], function(d3){\n",
       "      window.d3 = d3;\n",
       "      LDAvis_load_lib(\"https://cdn.jsdelivr.net/gh/bmabey/pyLDAvis@3.3.1/pyLDAvis/js/ldavis.v3.0.0.js\", function(){\n",
       "        new LDAvis(\"#\" + \"ldavis_el576353852914729223293113\", ldavis_el576353852914729223293113_data);\n",
       "      });\n",
       "    });\n",
       "}else{\n",
       "    // require.js not available: dynamically load d3 & LDAvis\n",
       "    LDAvis_load_lib(\"https://d3js.org/d3.v5.js\", function(){\n",
       "         LDAvis_load_lib(\"https://cdn.jsdelivr.net/gh/bmabey/pyLDAvis@3.3.1/pyLDAvis/js/ldavis.v3.0.0.js\", function(){\n",
       "                 new LDAvis(\"#\" + \"ldavis_el576353852914729223293113\", ldavis_el576353852914729223293113_data);\n",
       "            })\n",
       "         });\n",
       "}\n",
       "</script>"
      ],
      "text/plain": [
       "<IPython.core.display.HTML object>"
      ]
     },
     "execution_count": 115,
     "metadata": {},
     "output_type": "execute_result"
    }
   ],
   "source": [
    "lda_display = pyLDAvis.sklearn.prepare(lda_text_model, count_text_vectors, count_text_vectorizer, sort_topics=False)\n",
    "\n",
    "pyLDAvis.display(lda_display)"
   ]
  },
  {
   "cell_type": "markdown",
   "metadata": {},
   "source": [
    "Each bubble in the plot represents a topic. The size of the bubble represents the proportion of cases that contain the topic, with a larger bubble corresponding to a higher proportion. \n",
    "\n",
    "The distance between the bubbles represents the similarity between the topics; the shorter the distance, the more similar the topics.\n",
    "\n",
    "The bars in the bar chart represent the term frequency for each of the words. The blue bars show the overall term frequency in the collection of documents, whereas the red bars show the term frequency for the selected topic."
   ]
  }
 ],
 "metadata": {
  "interpreter": {
   "hash": "b6672ba510bd43d5df0d34395a84685a825e41d35f5301d8abef98bca1680e82"
  },
  "kernelspec": {
   "display_name": "Python 3 (ipykernel)",
   "language": "python",
   "name": "python3"
  },
  "language_info": {
   "codemirror_mode": {
    "name": "ipython",
    "version": 3
   },
   "file_extension": ".py",
   "mimetype": "text/x-python",
   "name": "python",
   "nbconvert_exporter": "python",
   "pygments_lexer": "ipython3",
   "version": "3.9.12"
  }
 },
 "nbformat": 4,
 "nbformat_minor": 2
}
