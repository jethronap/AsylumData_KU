{
 "cells": [
  {
   "cell_type": "code",
   "execution_count": 1,
   "metadata": {},
   "outputs": [],
   "source": [
    "import warnings\n",
    "warnings.filterwarnings(\"ignore\", category=DeprecationWarning)\n",
    "\n",
    "import matplotlib.pyplot as plt\n",
    "import seaborn as sns\n",
    "import pandas as pd\n",
    "import numpy as np\n",
    "import random\n",
    "import regex as re\n",
    "import pprint\n",
    "\n",
    "from nltk.corpus import stopwords\n",
    "# Need to uncomment the following line in order to download nltk stopwords:\n",
    "# nltk.download('stopwords')\n",
    "import spacy\n",
    "from textacy.extract import keyword_in_context\n",
    "\n",
    "from sklearn.feature_extraction.text import CountVectorizer, TfidfTransformer\n",
    "\n",
    "from collections import defaultdict\n",
    "from collections import Counter, ChainMap\n",
    "\n",
    "\n",
    "plt.style.use(style='seaborn')\n",
    "%matplotlib inline\n",
    "sns.set()\n"
   ]
  },
  {
   "cell_type": "markdown",
   "metadata": {},
   "source": [
    "# Import data set:"
   ]
  },
  {
   "cell_type": "code",
   "execution_count": 2,
   "metadata": {},
   "outputs": [
    {
     "data": {
      "text/plain": [
       "(9324, 5)"
      ]
     },
     "execution_count": 2,
     "metadata": {},
     "output_type": "execute_result"
    }
   ],
   "source": [
    "pd.options.mode.chained_assignment = None\n",
    "\n",
    "with open('data/dk_asylum_data.json', encoding='utf-8') as inputfile:\n",
    "    df_full = pd.read_json(inputfile)\n",
    "\n",
    "# Convert json to csv:\n",
    "df_full.to_csv('data/dk_asylum_data.csv', encoding='utf-8', index=False)\n",
    "\n",
    "df_full.shape\n"
   ]
  },
  {
   "cell_type": "markdown",
   "metadata": {},
   "source": [
    "# Dataset preprocessing:\n",
    "\n",
    "## Keep cases of Unknown Homeland (Ukendt hjemland):"
   ]
  },
  {
   "cell_type": "code",
   "execution_count": 3,
   "metadata": {},
   "outputs": [
    {
     "data": {
      "text/plain": [
       "(192, 1)"
      ]
     },
     "execution_count": 3,
     "metadata": {},
     "output_type": "execute_result"
    }
   ],
   "source": [
    "df_UH = df_full[df_full.country == \"Ukendt hjemland\"]\n",
    "\n",
    "# Drop redundant column:\n",
    "df_UH.drop('hasText', axis=1, inplace=True)\n",
    "\n",
    "# Keep column 'text':\n",
    "df = df_UH[['text']]\n",
    "\n",
    "df[\"text\"] = df[\"text\"].astype(str)\n",
    "\n",
    "df.shape"
   ]
  },
  {
   "cell_type": "code",
   "execution_count": 4,
   "metadata": {},
   "outputs": [
    {
     "data": {
      "text/html": [
       "<div>\n",
       "<style scoped>\n",
       "    .dataframe tbody tr th:only-of-type {\n",
       "        vertical-align: middle;\n",
       "    }\n",
       "\n",
       "    .dataframe tbody tr th {\n",
       "        vertical-align: top;\n",
       "    }\n",
       "\n",
       "    .dataframe thead th {\n",
       "        text-align: right;\n",
       "    }\n",
       "</style>\n",
       "<table border=\"1\" class=\"dataframe\">\n",
       "  <thead>\n",
       "    <tr style=\"text-align: right;\">\n",
       "      <th></th>\n",
       "      <th>text</th>\n",
       "    </tr>\n",
       "  </thead>\n",
       "  <tbody>\n",
       "    <tr>\n",
       "      <th>201</th>\n",
       "      <td>Nævnet stadfæstede i november 2021 Udl...</td>\n",
       "    </tr>\n",
       "    <tr>\n",
       "      <th>428</th>\n",
       "      <td>Nævnet stadfæstede i juni 2021 Udlændi...</td>\n",
       "    </tr>\n",
       "    <tr>\n",
       "      <th>464</th>\n",
       "      <td>Nævnet stadfæstede i juni 2021 Udlændi...</td>\n",
       "    </tr>\n",
       "    <tr>\n",
       "      <th>901</th>\n",
       "      <td>Nævnet stadfæstede i december 2020 Udl...</td>\n",
       "    </tr>\n",
       "    <tr>\n",
       "      <th>1291</th>\n",
       "      <td>Nævnet hjemviste i juni 2020 Udlænding...</td>\n",
       "    </tr>\n",
       "  </tbody>\n",
       "</table>\n",
       "</div>"
      ],
      "text/plain": [
       "                                                   text\n",
       "201           Nævnet stadfæstede i november 2021 Udl...\n",
       "428           Nævnet stadfæstede i juni 2021 Udlændi...\n",
       "464           Nævnet stadfæstede i juni 2021 Udlændi...\n",
       "901           Nævnet stadfæstede i december 2020 Udl...\n",
       "1291          Nævnet hjemviste i juni 2020 Udlænding..."
      ]
     },
     "execution_count": 4,
     "metadata": {},
     "output_type": "execute_result"
    }
   ],
   "source": [
    "\n",
    "df.head()"
   ]
  },
  {
   "cell_type": "markdown",
   "metadata": {},
   "source": [
    "Check for potential duplicates and drop them:"
   ]
  },
  {
   "cell_type": "code",
   "execution_count": 5,
   "metadata": {},
   "outputs": [
    {
     "data": {
      "text/html": [
       "<div>\n",
       "<style scoped>\n",
       "    .dataframe tbody tr th:only-of-type {\n",
       "        vertical-align: middle;\n",
       "    }\n",
       "\n",
       "    .dataframe tbody tr th {\n",
       "        vertical-align: top;\n",
       "    }\n",
       "\n",
       "    .dataframe thead th {\n",
       "        text-align: right;\n",
       "    }\n",
       "</style>\n",
       "<table border=\"1\" class=\"dataframe\">\n",
       "  <thead>\n",
       "    <tr style=\"text-align: right;\">\n",
       "      <th></th>\n",
       "      <th>text</th>\n",
       "    </tr>\n",
       "  </thead>\n",
       "  <tbody>\n",
       "    <tr>\n",
       "      <th>1333</th>\n",
       "      <td>Nævnet stadfæstede i maj 2020 Udlændin...</td>\n",
       "    </tr>\n",
       "    <tr>\n",
       "      <th>1352</th>\n",
       "      <td>Nævnet stadfæstede i maj 2020 Udlændin...</td>\n",
       "    </tr>\n",
       "    <tr>\n",
       "      <th>4000</th>\n",
       "      <td>Nævnet stadfæstede i januar 2018 Udlæn...</td>\n",
       "    </tr>\n",
       "    <tr>\n",
       "      <th>4001</th>\n",
       "      <td>Nævnet stadfæstede i januar 2018 Udlæn...</td>\n",
       "    </tr>\n",
       "    <tr>\n",
       "      <th>4055</th>\n",
       "      <td>Nævnet stadfæstede i januar 2018 Udlæn...</td>\n",
       "    </tr>\n",
       "    <tr>\n",
       "      <th>4058</th>\n",
       "      <td>Nævnet stadfæstede i januar 2018 Udlæn...</td>\n",
       "    </tr>\n",
       "  </tbody>\n",
       "</table>\n",
       "</div>"
      ],
      "text/plain": [
       "                                                   text\n",
       "1333          Nævnet stadfæstede i maj 2020 Udlændin...\n",
       "1352          Nævnet stadfæstede i maj 2020 Udlændin...\n",
       "4000          Nævnet stadfæstede i januar 2018 Udlæn...\n",
       "4001          Nævnet stadfæstede i januar 2018 Udlæn...\n",
       "4055          Nævnet stadfæstede i januar 2018 Udlæn...\n",
       "4058          Nævnet stadfæstede i januar 2018 Udlæn..."
      ]
     },
     "execution_count": 5,
     "metadata": {},
     "output_type": "execute_result"
    }
   ],
   "source": [
    "duplicates_df = df[df.duplicated(['text'], keep=False)]\n",
    "#pd.concat(g for _, g in df.groupby(\"text\") if len(g) > 1)\n",
    "\n",
    "# See all duplicates:\n",
    "duplicates_df"
   ]
  },
  {
   "cell_type": "code",
   "execution_count": 6,
   "metadata": {},
   "outputs": [
    {
     "data": {
      "text/plain": [
       "(189, 1)"
      ]
     },
     "execution_count": 6,
     "metadata": {},
     "output_type": "execute_result"
    }
   ],
   "source": [
    "# Drop duplicates from original dataframe:\n",
    "df = df.drop_duplicates()\n",
    "\n",
    "# Check shape again:\n",
    "df.shape"
   ]
  },
  {
   "cell_type": "markdown",
   "metadata": {},
   "source": [
    "## Length of texts\n",
    "\n",
    "Create a numeric column in order to get a feel about the length of the texts. "
   ]
  },
  {
   "cell_type": "code",
   "execution_count": 7,
   "metadata": {},
   "outputs": [
    {
     "data": {
      "text/html": [
       "<div>\n",
       "<style scoped>\n",
       "    .dataframe tbody tr th:only-of-type {\n",
       "        vertical-align: middle;\n",
       "    }\n",
       "\n",
       "    .dataframe tbody tr th {\n",
       "        vertical-align: top;\n",
       "    }\n",
       "\n",
       "    .dataframe thead th {\n",
       "        text-align: right;\n",
       "    }\n",
       "</style>\n",
       "<table border=\"1\" class=\"dataframe\">\n",
       "  <thead>\n",
       "    <tr style=\"text-align: right;\">\n",
       "      <th></th>\n",
       "      <th>count</th>\n",
       "      <th>mean</th>\n",
       "      <th>std</th>\n",
       "      <th>min</th>\n",
       "      <th>25%</th>\n",
       "      <th>50%</th>\n",
       "      <th>75%</th>\n",
       "      <th>max</th>\n",
       "    </tr>\n",
       "  </thead>\n",
       "  <tbody>\n",
       "    <tr>\n",
       "      <th>length</th>\n",
       "      <td>189.0</td>\n",
       "      <td>5008.539683</td>\n",
       "      <td>2046.292952</td>\n",
       "      <td>1104.0</td>\n",
       "      <td>3532.0</td>\n",
       "      <td>4753.0</td>\n",
       "      <td>6057.0</td>\n",
       "      <td>13105.0</td>\n",
       "    </tr>\n",
       "  </tbody>\n",
       "</table>\n",
       "</div>"
      ],
      "text/plain": [
       "        count         mean          std     min     25%     50%     75%  \\\n",
       "length  189.0  5008.539683  2046.292952  1104.0  3532.0  4753.0  6057.0   \n",
       "\n",
       "            max  \n",
       "length  13105.0  "
      ]
     },
     "execution_count": 7,
     "metadata": {},
     "output_type": "execute_result"
    }
   ],
   "source": [
    "df['length'] = df['text'].str.len()\n",
    "\n",
    "df.describe().T"
   ]
  },
  {
   "cell_type": "markdown",
   "metadata": {},
   "source": [
    "## Boxplot:"
   ]
  },
  {
   "cell_type": "code",
   "execution_count": 8,
   "metadata": {},
   "outputs": [
    {
     "data": {
      "text/plain": [
       "<AxesSubplot:>"
      ]
     },
     "execution_count": 8,
     "metadata": {},
     "output_type": "execute_result"
    },
    {
     "data": {
      "image/png": "[encoded data removed]",
      "text/plain": [
       "<Figure size 432x288 with 1 Axes>"
      ]
     },
     "metadata": {},
     "output_type": "display_data"
    }
   ],
   "source": [
    "# Box plot:\n",
    "df['length'].plot(kind='box', vert=False)"
   ]
  },
  {
   "cell_type": "markdown",
   "metadata": {},
   "source": [
    "## Histogram:"
   ]
  },
  {
   "cell_type": "code",
   "execution_count": 9,
   "metadata": {},
   "outputs": [
    {
     "data": {
      "text/plain": [
       "<AxesSubplot:ylabel='Frequency'>"
      ]
     },
     "execution_count": 9,
     "metadata": {},
     "output_type": "execute_result"
    },
    {
     "data": {
      "image/png": "[encoded data removed]",
      "text/plain": [
       "<Figure size 432x288 with 1 Axes>"
      ]
     },
     "metadata": {},
     "output_type": "display_data"
    }
   ],
   "source": [
    "# Histogram:\n",
    "df['length'].plot(kind='hist', bins=30)\n"
   ]
  },
  {
   "cell_type": "markdown",
   "metadata": {},
   "source": [
    "# Create a pipeline:\n",
    "\n",
    "Below are the steps taken to process the texts."
   ]
  },
  {
   "cell_type": "code",
   "execution_count": 10,
   "metadata": {},
   "outputs": [],
   "source": [
    "# Load danish model from spacy:\n",
    "nlp = spacy.load(\"da_core_news_md\")\n",
    "\n",
    "STOPWORDS_DANISH = set(stopwords.words('danish'))\n",
    "\n",
    "# domain specific words included:\n",
    "domain_stopwords = {'nævnet', 'nævnets', 'nævnt', '​nævnet', 'flygtningenævnet', 'januar', 'februar', 'marts', 'april',\n",
    "'maj', 'juni', 'juli', 'august', 'september', 'oktober', 'november', 'december', 'jf', 'ansøger'}\n",
    "\n",
    "def import_additional_danish_stopwords(STOPWORDS_DANISH):\n",
    "    additional_stopwords = open('misc/stopwords_dk.txt', 'r')\n",
    "    for line in additional_stopwords:\n",
    "        words = line.strip()\n",
    "        STOPWORDS_DANISH.add(words)\n",
    "    return STOPWORDS_DANISH\n",
    "\n",
    "\n",
    "STOPWORDS_DANISH = import_additional_danish_stopwords(STOPWORDS_DANISH)\n",
    "STOPWORDS_DANISH |= domain_stopwords \n",
    "\n",
    "PUNCTUATION_TO_REMOVE = '–«!\"#$%&\\'()*+,-./:;<=>?@[\\\\]^_`{|}~»●·’“”'"
   ]
  },
  {
   "cell_type": "code",
   "execution_count": 11,
   "metadata": {},
   "outputs": [],
   "source": [
    "# print(STOPWORDS_DANISH)"
   ]
  },
  {
   "cell_type": "code",
   "execution_count": 12,
   "metadata": {},
   "outputs": [],
   "source": [
    "def remove_punctuation(text):\n",
    "    \"\"\"custom function to remove the punctuation\"\"\"\n",
    "    return text.translate(str.maketrans('', '', PUNCTUATION_TO_REMOVE))\n",
    "\n",
    "\n",
    "def remove_stopwords(text):\n",
    "    \"\"\"custom function to remove stopwords\"\"\"\n",
    "    return [word for word in str(text).split() if word not in STOPWORDS_DANISH] \n",
    "    # [t for t in text if t not in STOPWORDS_DANISH]\n",
    "\n",
    "\n",
    "# def tokenize(text):\n",
    "#     \"\"\"the following expression matches tokens consisting of at least one letter (\\p{L}), \n",
    "#     preceded and followed by an arbitrary sequence of alphanumeric characters \n",
    "#     (\\w includes digits, letters, and underscore) and hyphens (-)\"\"\"\n",
    "#     return re.findall(r'[\\w-]*\\p{L}[\\w-]*', text)\n",
    "\n",
    "def tokenize(text):\n",
    "    doc = nlp.tokenizer(' '.join(text))\n",
    "    return [token.text for token in doc]\n",
    "\n",
    "def drop_single_letter_words(text):\n",
    "    return [w for w in text if len(w) > 1]\n",
    "\n",
    "\n",
    "def lemmatize(text):\n",
    "    \"\"\"custom function to lemmatize text\"\"\"\n",
    "    doc = nlp(' '.join(text))\n",
    "    # pos_tagged_text = text.pos\n",
    "    return [token.lemma_ for token in doc]\n",
    "\n",
    "# def remove_junk(text):\n",
    "#     # Creating a spacy object\n",
    "#     doc = nlp(' '.join(text))\n",
    "#     # Checking if POS tag is X and printing them\n",
    "#     for token in doc:\n",
    "#         if token.pos_ == 'X':\n",
    "#             print(token.text)\n",
    "#     # Removing the tokens whose POS tag is junk.\n",
    "#     clean_doc = [token.text for token in doc if not token.pos_ == 'X']\n",
    "\n",
    "#     return clean_doc\n"
   ]
  },
  {
   "cell_type": "markdown",
   "metadata": {},
   "source": [
    "Steps can be added or removed from the pipeline."
   ]
  },
  {
   "cell_type": "code",
   "execution_count": 13,
   "metadata": {},
   "outputs": [],
   "source": [
    "pipeline = [str.lower, remove_punctuation, remove_stopwords, drop_single_letter_words,\n",
    "            tokenize, lemmatize]\n",
    "\n",
    "\n",
    "def process(text, pipeline):\n",
    "    tokens = text\n",
    "    for transform in pipeline:\n",
    "        tokens = transform(tokens)\n",
    "    return tokens\n"
   ]
  },
  {
   "cell_type": "code",
   "execution_count": 14,
   "metadata": {},
   "outputs": [],
   "source": [
    "# Apply the process pipeline:\n",
    "df['tokens'] = df['text'].apply(process, pipeline=pipeline)\n",
    "\n",
    "# Add column to see the number of tokens:\n",
    "df['num_tokens'] = df['tokens'].map(len)"
   ]
  },
  {
   "cell_type": "code",
   "execution_count": 15,
   "metadata": {},
   "outputs": [
    {
     "data": {
      "text/html": [
       "<div>\n",
       "<style scoped>\n",
       "    .dataframe tbody tr th:only-of-type {\n",
       "        vertical-align: middle;\n",
       "    }\n",
       "\n",
       "    .dataframe tbody tr th {\n",
       "        vertical-align: top;\n",
       "    }\n",
       "\n",
       "    .dataframe thead th {\n",
       "        text-align: right;\n",
       "    }\n",
       "</style>\n",
       "<table border=\"1\" class=\"dataframe\">\n",
       "  <thead>\n",
       "    <tr style=\"text-align: right;\">\n",
       "      <th></th>\n",
       "      <th>text</th>\n",
       "      <th>length</th>\n",
       "      <th>tokens</th>\n",
       "      <th>num_tokens</th>\n",
       "    </tr>\n",
       "  </thead>\n",
       "  <tbody>\n",
       "    <tr>\n",
       "      <th>201</th>\n",
       "      <td>Nævnet stadfæstede i november 2021 Udl...</td>\n",
       "      <td>4753</td>\n",
       "      <td>[stadfæste, 2021, udlændingestyrels, afgørelse...</td>\n",
       "      <td>333</td>\n",
       "    </tr>\n",
       "    <tr>\n",
       "      <th>428</th>\n",
       "      <td>Nævnet stadfæstede i juni 2021 Udlændi...</td>\n",
       "      <td>3149</td>\n",
       "      <td>[stadfæste, 2021, udlændingestyrels, afgørelse...</td>\n",
       "      <td>225</td>\n",
       "    </tr>\n",
       "    <tr>\n",
       "      <th>464</th>\n",
       "      <td>Nævnet stadfæstede i juni 2021 Udlændi...</td>\n",
       "      <td>4433</td>\n",
       "      <td>[stadfæste, 2021, udlændingestyrels, afgørelse...</td>\n",
       "      <td>324</td>\n",
       "    </tr>\n",
       "    <tr>\n",
       "      <th>901</th>\n",
       "      <td>Nævnet stadfæstede i december 2020 Udl...</td>\n",
       "      <td>2664</td>\n",
       "      <td>[stadfæste, 2020, udlændingestyrels, afgørelse...</td>\n",
       "      <td>187</td>\n",
       "    </tr>\n",
       "    <tr>\n",
       "      <th>1291</th>\n",
       "      <td>Nævnet hjemviste i juni 2020 Udlænding...</td>\n",
       "      <td>4626</td>\n",
       "      <td>[hjemvise, 2020, udlændingestyrels, afgørelse,...</td>\n",
       "      <td>330</td>\n",
       "    </tr>\n",
       "  </tbody>\n",
       "</table>\n",
       "</div>"
      ],
      "text/plain": [
       "                                                   text  length  \\\n",
       "201           Nævnet stadfæstede i november 2021 Udl...    4753   \n",
       "428           Nævnet stadfæstede i juni 2021 Udlændi...    3149   \n",
       "464           Nævnet stadfæstede i juni 2021 Udlændi...    4433   \n",
       "901           Nævnet stadfæstede i december 2020 Udl...    2664   \n",
       "1291          Nævnet hjemviste i juni 2020 Udlænding...    4626   \n",
       "\n",
       "                                                 tokens  num_tokens  \n",
       "201   [stadfæste, 2021, udlændingestyrels, afgørelse...         333  \n",
       "428   [stadfæste, 2021, udlændingestyrels, afgørelse...         225  \n",
       "464   [stadfæste, 2021, udlændingestyrels, afgørelse...         324  \n",
       "901   [stadfæste, 2020, udlændingestyrels, afgørelse...         187  \n",
       "1291  [hjemvise, 2020, udlændingestyrels, afgørelse,...         330  "
      ]
     },
     "execution_count": 15,
     "metadata": {},
     "output_type": "execute_result"
    }
   ],
   "source": [
    "df.head()"
   ]
  },
  {
   "cell_type": "markdown",
   "metadata": {},
   "source": [
    "# Analysis:"
   ]
  },
  {
   "cell_type": "markdown",
   "metadata": {},
   "source": [
    "## Quantitative analysis:"
   ]
  },
  {
   "cell_type": "markdown",
   "metadata": {},
   "source": [
    "## Decision extraction:"
   ]
  },
  {
   "cell_type": "code",
   "execution_count": 16,
   "metadata": {},
   "outputs": [],
   "source": [
    "df['tokens_joined'] = [' '.join(token) for token in df['tokens']]\n",
    "\n",
    "df_stad = df['tokens_joined'].str.contains('stadfæste', regex=True)\n",
    "df_hem = df['tokens_joined'].str.contains('hjemvise', regex=True)\n",
    "df_med = df['tokens_joined'].str.contains('meddele', regex=True)\n",
    "\n",
    "# df['decision'] = np.where(df_stad & (df_hem | df_med), \"check\", np.nan)\n",
    "df['decision'] = np.where((df_hem | df_med) & df_stad, \"denied\", np.where(\n",
    "    df_hem | df_med, \"granted\", np.where(df_stad, \"denied\", np.nan)))\n"
   ]
  },
  {
   "cell_type": "markdown",
   "metadata": {},
   "source": [
    "Plot decision:"
   ]
  },
  {
   "cell_type": "code",
   "execution_count": 17,
   "metadata": {},
   "outputs": [
    {
     "data": {
      "text/plain": [
       "Text(0, 0.5, 'outcomes')"
      ]
     },
     "execution_count": 17,
     "metadata": {},
     "output_type": "execute_result"
    },
    {
     "data": {
      "image/png": "[encoded data removed]",
      "text/plain": [
       "<Figure size 432x288 with 1 Axes>"
      ]
     },
     "metadata": {},
     "output_type": "display_data"
    }
   ],
   "source": [
    "colors = ['blue', 'orange']\n",
    "\n",
    "# Plot with normalized values:\n",
    "ax = df['decision'].value_counts(normalize=True).mul(100).round(1).plot(\n",
    "    kind='barh', color=colors, title='Decision Outcomes for Unknown Homeland')\n",
    "\n",
    "for container in ax.containers:\n",
    "    ax.bar_label(container, fmt='%.0f%%')\n",
    "ax.set_xlabel('% of outcomes')\n",
    "ax.set_ylabel('outcomes')\n",
    "\n",
    "# Uncomment to plot frequencies:\n",
    "# ax = df['decision'].value_counts().plot(\n",
    "#     kind='barh', color=colors, title='Decision Outcomes for Unknown Homeland')\n",
    "# ax.bar_label(container)\n"
   ]
  },
  {
   "cell_type": "markdown",
   "metadata": {},
   "source": [
    "## Year extraction:"
   ]
  },
  {
   "cell_type": "code",
   "execution_count": 18,
   "metadata": {},
   "outputs": [],
   "source": [
    "df['year'] = df['tokens'].str[1]"
   ]
  },
  {
   "cell_type": "markdown",
   "metadata": {},
   "source": [
    "Plot decision outcome rate by year:"
   ]
  },
  {
   "cell_type": "code",
   "execution_count": 45,
   "metadata": {},
   "outputs": [
    {
     "data": {
      "text/plain": [
       "Text(0, 0.5, 'no. of outcomes')"
      ]
     },
     "execution_count": 45,
     "metadata": {},
     "output_type": "execute_result"
    },
    {
     "data": {
      "image/png": "[encoded data removed]",
      "text/plain": [
       "<Figure size 360x504 with 1 Axes>"
      ]
     },
     "metadata": {},
     "output_type": "display_data"
    }
   ],
   "source": [
    "ax = df.groupby(['year'])['decision'].value_counts().unstack().plot(\n",
    "    kind='bar', title='Decision Outcomes per Year for Unknown Homeland', stacked=True, figsize=(5, 7))\n",
    "ax.set_xlabel('year')\n",
    "ax.set_ylabel('no. of outcomes')"
   ]
  },
  {
   "cell_type": "markdown",
   "metadata": {},
   "source": [
    "## Gender of applicants extraction:"
   ]
  },
  {
   "cell_type": "code",
   "execution_count": 20,
   "metadata": {},
   "outputs": [],
   "source": [
    "male_pat = 'mandl.*?statsborg.*?|mand.*?ansøg.*?|mand.*?klag.*?'\n",
    "female_pat = 'kvinde.*?statsborg.*?|kvinde.*?ansøg.*?|kvinde.*?klag.*?'\n",
    "\n",
    "df_female = df['text'].str.contains(female_pat)\n",
    "df_male = df['text'].str.contains(male_pat)\n",
    "\n",
    "df['gender'] = np.where(df_male, \"male\", np.where(df_female, \"female\", \"unidentified\"))"
   ]
  },
  {
   "cell_type": "markdown",
   "metadata": {},
   "source": [
    "Plot gender distribution:"
   ]
  },
  {
   "cell_type": "code",
   "execution_count": 21,
   "metadata": {},
   "outputs": [
    {
     "data": {
      "image/png": "[encoded data removed]",
      "text/plain": [
       "<Figure size 432x288 with 1 Axes>"
      ]
     },
     "metadata": {},
     "output_type": "display_data"
    }
   ],
   "source": [
    "# Plot with normalized values:\n",
    "ax = df['gender'].value_counts(normalize=True).mul(100).round(1).plot(\n",
    "    kind='barh', color=colors, title='Gender Distribution for Unknown Homeland')\n",
    "\n",
    "for container in ax.containers:\n",
    "    ax.bar_label(container, fmt='%.0f%%')"
   ]
  },
  {
   "cell_type": "markdown",
   "metadata": {},
   "source": [
    "Plot decision outcome rate by gender:"
   ]
  },
  {
   "cell_type": "code",
   "execution_count": 49,
   "metadata": {},
   "outputs": [
    {
     "data": {
      "image/png": "[encoded data removed]",
      "text/plain": [
       "<Figure size 360x504 with 1 Axes>"
      ]
     },
     "metadata": {},
     "output_type": "display_data"
    }
   ],
   "source": [
    "ax = df.groupby(['gender'])['decision'].value_counts().unstack().plot(\n",
    "    kind='bar', title='Decision Outcomes by Gender for Unknown Homeland', figsize=(5, 7))\n",
    "ax.set_xlabel('gender')\n",
    "ax.set_ylabel('no. of outcomes')\n",
    "\n",
    "for container in ax.containers:\n",
    "    ax.bar_label(container)"
   ]
  },
  {
   "cell_type": "markdown",
   "metadata": {},
   "source": [
    "## Natural Language Processing:"
   ]
  },
  {
   "cell_type": "markdown",
   "metadata": {},
   "source": [
    "## Frequency analysis:\n",
    "\n",
    "Here we count the most frequent tokens in the **whole** corpus.\n"
   ]
  },
  {
   "cell_type": "code",
   "execution_count": 22,
   "metadata": {},
   "outputs": [],
   "source": [
    "# Transform the counter into a Pandas DataFrame with the following function:\n",
    "\n",
    "\"\"\"\n",
    "The tokens make up the index of the DataFrame, while the frequency values are stored in a column named freq. \n",
    "The rows are sorted so that the most frequent words appear at the head.\n",
    "The last parameter of count_words defines a minimum frequency of tokens to be included in the result. \n",
    "Its default is set to 2 to cut down on tokens occurring only once.\n",
    "\"\"\"\n",
    "\n",
    "def count_words(df, column='tokens', process=None, min_freq=2):\n",
    "    # create counter and run through all data\n",
    "    counter = Counter() \n",
    "    \n",
    "    # process tokens and update counter\n",
    "    def update(text):\n",
    "        tokens = text if process is None else process(text, pipeline=pipeline)\n",
    "        counter.update(tokens)\n",
    "    \n",
    "    df[column].map(update)\n",
    "    # transform counter into a DataFrame\n",
    "    freq_df = pd.DataFrame.from_dict(counter, orient='index', columns=['freq']) \n",
    "    freq_df = freq_df.query('freq >= @min_freq')\n",
    "    freq_df.index.name = 'token'\n",
    "    return freq_df.sort_values('freq', ascending=False)"
   ]
  },
  {
   "cell_type": "code",
   "execution_count": 23,
   "metadata": {},
   "outputs": [
    {
     "data": {
      "text/html": [
       "<div>\n",
       "<style scoped>\n",
       "    .dataframe tbody tr th:only-of-type {\n",
       "        vertical-align: middle;\n",
       "    }\n",
       "\n",
       "    .dataframe tbody tr th {\n",
       "        vertical-align: top;\n",
       "    }\n",
       "\n",
       "    .dataframe thead th {\n",
       "        text-align: right;\n",
       "    }\n",
       "</style>\n",
       "<table border=\"1\" class=\"dataframe\">\n",
       "  <thead>\n",
       "    <tr style=\"text-align: right;\">\n",
       "      <th></th>\n",
       "      <th>freq</th>\n",
       "    </tr>\n",
       "    <tr>\n",
       "      <th>token</th>\n",
       "      <th></th>\n",
       "    </tr>\n",
       "  </thead>\n",
       "  <tbody>\n",
       "    <tr>\n",
       "      <th>ansøger</th>\n",
       "      <td>4307</td>\n",
       "    </tr>\n",
       "    <tr>\n",
       "      <th>Kuwait</th>\n",
       "      <td>1370</td>\n",
       "    </tr>\n",
       "    <tr>\n",
       "      <th>forklare</th>\n",
       "      <td>1237</td>\n",
       "    </tr>\n",
       "    <tr>\n",
       "      <th>oplyse</th>\n",
       "      <td>815</td>\n",
       "    </tr>\n",
       "    <tr>\n",
       "      <th>myndighed</th>\n",
       "      <td>795</td>\n",
       "    </tr>\n",
       "    <tr>\n",
       "      <th>mandlig</th>\n",
       "      <td>794</td>\n",
       "    </tr>\n",
       "    <tr>\n",
       "      <th>asylmotiv</th>\n",
       "      <td>748</td>\n",
       "    </tr>\n",
       "    <tr>\n",
       "      <th>forklaring</th>\n",
       "      <td>675</td>\n",
       "    </tr>\n",
       "    <tr>\n",
       "      <th>lægge</th>\n",
       "      <td>649</td>\n",
       "    </tr>\n",
       "    <tr>\n",
       "      <th>demonstration</th>\n",
       "      <td>628</td>\n",
       "    </tr>\n",
       "  </tbody>\n",
       "</table>\n",
       "</div>"
      ],
      "text/plain": [
       "               freq\n",
       "token              \n",
       "ansøger        4307\n",
       "Kuwait         1370\n",
       "forklare       1237\n",
       "oplyse          815\n",
       "myndighed       795\n",
       "mandlig         794\n",
       "asylmotiv       748\n",
       "forklaring      675\n",
       "lægge           649\n",
       "demonstration   628"
      ]
     },
     "execution_count": 23,
     "metadata": {},
     "output_type": "execute_result"
    }
   ],
   "source": [
    "# See ten most frequent words in the whole corpus:\n",
    "freq_df = count_words(df) \n",
    "freq_df.head(10)\n",
    "\n",
    "# See all words with their frequencies:\n",
    "# pd.value_counts(np.hstack(df['tokens']))"
   ]
  },
  {
   "cell_type": "code",
   "execution_count": 24,
   "metadata": {},
   "outputs": [
    {
     "data": {
      "text/plain": [
       "[Text(0.5, 0, 'Frequency'), Text(0, 0.5, 'Token'), Text(0.5, 1.0, 'Top Words')]"
      ]
     },
     "execution_count": 24,
     "metadata": {},
     "output_type": "execute_result"
    },
    {
     "data": {
      "image/png": "[encoded data removed]",
      "text/plain": [
       "<Figure size 432x288 with 1 Axes>"
      ]
     },
     "metadata": {},
     "output_type": "display_data"
    }
   ],
   "source": [
    "# Plot the results:\n",
    "ax = freq_df.head(15).plot(kind='barh', width=0.95) \n",
    "ax.invert_yaxis()\n",
    "ax.set(xlabel='Frequency', ylabel='Token', title='Top Words')"
   ]
  },
  {
   "cell_type": "markdown",
   "metadata": {},
   "source": [
    "## Keyword in context (KWIC):\n",
    "\n",
    "KWIC analysis produces a list of text fragments of equal length showing the left and right context of a keyword."
   ]
  },
  {
   "cell_type": "code",
   "execution_count": 25,
   "metadata": {},
   "outputs": [],
   "source": [
    "\"\"\"\n",
    "The function iteratively collects the keyword contexts by applying the add_kwic function to each document with map. \n",
    "By default, the function returns a list of tuples of the form (left context, keyword, right context). \n",
    "If print_samples is greater than 0, a random sample of the results is printed. \n",
    "Sampling is especially useful with lots of documents because the first entries of the list \n",
    "would otherwise stem from a single or a very small number of documents.\n",
    "\"\"\"\n",
    "\n",
    "def kwic(doc_series, keyword, window=50, print_samples=5):\n",
    "    def add_kwic(text):\n",
    "        kwic_list.extend(keyword_in_context(text, keyword, ignore_case=True, window_width=window))\n",
    "\n",
    "    kwic_list = []\n",
    "    doc_series.map(add_kwic)\n",
    "\n",
    "    if print_samples is None or print_samples == 0:\n",
    "        return kwic_list\n",
    "    else:\n",
    "        k = min(print_samples, len(kwic_list))\n",
    "        print(f'{k} random samples out of {len(kwic_list)} ' +\n",
    "              f\"contexts for '{keyword}':\")\n",
    "        for sample in random.sample(list(kwic_list), k):\n",
    "            print(re.sub(r'[\\n\\t]', ' ', sample[0]) + ' ' +\n",
    "                  sample[1]+' ' +\n",
    "                  re.sub(r'[\\n\\t]', ' ', sample[2]))\n"
   ]
  },
  {
   "cell_type": "markdown",
   "metadata": {},
   "source": [
    "Bellow we apply KWIC for `stk` keyword found from the frequency analysis and print 10 random context appearances.\n",
    "\n",
    "The call is made to the original untokenized & unprocessed dataset."
   ]
  },
  {
   "cell_type": "code",
   "execution_count": 26,
   "metadata": {},
   "outputs": [
    {
     "name": "stdout",
     "output_type": "stream",
     "text": [
      "10 random samples out of 363 contexts for 'stk':\n",
      "lladelse efter udlændingelovens § 7, stk. 1 eller  stk . 2, er opfyldt. Flygtningenævnet stadfæster derfo\n",
      "o for overgreb omfattet af udlændin-gelovens § 7,  stk . 2. Flygtningenævnet stadfæster derfor Udlændinge\n",
      "lgelse eller overgreb efter udlændingelovens § 7,  stk . 1, eller stk. 2, stadfæster Flygtningenævnet på \n",
      "vens § 7, stk. 1, eller overgreb omfattet af § 7,  stk . 2. Flygtningenævnet stadfæster derfor Udlændinge\n",
      "ren opholdstilladelse efter udlændingelovens § 7,  stk . 1. Det fremgår af den oprindelige sag, at klager\n",
      "ko for overgreb omfattet af udlændingelovens § 7,  stk . 2. Flygtningenævnet stadfæster derfor Udlændinge\n",
      "e i medfør af udlændingelovens § 7, stk. 1, eller  stk . 2, er derfor ikke opfyldt. Flygtningenævnet stad\n",
      "nde forfølgelse omfattet af udlændingelovens § 7,  stk . 1, eller overgreb omfattet af udlændingelovens §\n",
      " eller overgreb omfattet af udlændingelovens § 7,  stk . 1 eller 2. Flygtningenævnet stadfæster derfor Ud\n",
      "r andre forhold omfattet af udlændingelovens § 7,  stk . 2. Flygtningenævnet stadfæster derfor Udlændinge\n"
     ]
    }
   ],
   "source": [
    "kwic(df['text'], 'stk', print_samples=10)"
   ]
  },
  {
   "cell_type": "markdown",
   "metadata": {},
   "source": [
    "KWIC for `opholdstilladelse`."
   ]
  },
  {
   "cell_type": "code",
   "execution_count": 27,
   "metadata": {},
   "outputs": [
    {
     "name": "stdout",
     "output_type": "stream",
     "text": [
      "10 random samples out of 228 contexts for 'opholdstilladelse':\n",
      "plysninger om sin identitet og således har opnået  opholdstilladelse  ved svig. Betingelserne for at inddrage klagerens\n",
      "åbt sig, ikke kunne føre til, at hun blev meddelt  opholdstilladelse  efter udlændingelovens § 7. Det kan således i hve\n",
      "ne ikke har sandsynliggjort, at betingelserne for  opholdstilladelse  efter udlændingelovens § 7, stk. 1 eller stk. 2, \n",
      "§ 7. Det følger heraf, at en udlænding, der søger  opholdstilladelse  efter udlændingelovens § 7 må sandsynliggøre den \n",
      "inger, som er nødvendige til bedømmelse af, om en  opholdstilladelse  i henhold til loven kan gives. I forhold til iden\n",
      "r endvidere fremlagt bl.a. ansøgerens sudanesiske  opholdstilladelse , hvoraf fremgår, at ansøgeren er eritreisk statsb\n",
      "statsløs) fra Kuwait kan ikke i sig selv begrunde  opholdstilladelse , idet ansøgeren har forklaret, at hans familie ha\n",
      "r sig i Danmark. [F’s] ægtefælle, [B], fik i 2015  opholdstilladelse  i Danmark. Det lægges derfor til grund, at [D] og\n",
      "det ikke er sandsynliggjort, at betingelserne for  opholdstilladelse  i medfør af udlændingelovens § 7, stk. 1 og stk. \n",
      ". Det følger heraf, at en udlænding, der søger om  opholdstilladelse  efter udlændingelovens § 7, må sandsynliggøre den\n"
     ]
    }
   ],
   "source": [
    "kwic(df['text'], 'opholdstilladelse', print_samples=10)"
   ]
  },
  {
   "cell_type": "markdown",
   "metadata": {},
   "source": [
    "## N-gram analysis:"
   ]
  },
  {
   "cell_type": "markdown",
   "metadata": {},
   "source": [
    "**N-grams** are neighboring sequences of items (words, letters, symbols) in a document. \n",
    "\n",
    "Most of the times a probability is assigned to the occurrence of a N-gram (or a word occurring next in a sequence of words). This can help decide which N-grams can be chunked together to form single entities or make predictions for next words (other possible use cases include spelling corrections).  \n",
    "\n",
    "[Here](https://web.stanford.edu/~jurafsky/slp3/slides/LM_4.pdf), are some slides from Stanford which provide an introduction to N-gram models and the math that goes with it. "
   ]
  },
  {
   "cell_type": "code",
   "execution_count": 28,
   "metadata": {},
   "outputs": [],
   "source": [
    "def generate_N_grams(text, ngram=1):\n",
    "    \"\"\"\"custom function to generate n-grams\"\"\"\n",
    "    words = [word for word in text.split(\n",
    "        \" \") if word not in set(STOPWORDS_DANISH)]\n",
    "    # print(\"Sentence after removing stopwords:\", words)\n",
    "    # Use the zip function to help us generate n-grams\n",
    "    temp = zip(*[words[i:] for i in range(0, ngram)])\n",
    "    # Concatentate the tokens into ngrams and return\n",
    "    ans = [' '.join(ngram) for ngram in temp]\n",
    "    return ans"
   ]
  },
  {
   "cell_type": "code",
   "execution_count": 29,
   "metadata": {},
   "outputs": [],
   "source": [
    "df['tokens_joined'] = [' '.join(token) for token in df['tokens']]"
   ]
  },
  {
   "cell_type": "code",
   "execution_count": 30,
   "metadata": {},
   "outputs": [],
   "source": [
    "values = defaultdict(int)\n",
    "\n",
    "# Get the count of every bigram in the data set from last processed column:\n",
    "for text in df['tokens_joined']:\n",
    "    for word in generate_N_grams(text, 2):\n",
    "        values[word] += 1"
   ]
  },
  {
   "cell_type": "code",
   "execution_count": 31,
   "metadata": {},
   "outputs": [],
   "source": [
    "# Focus on more frequently occuring words.\n",
    "# Sort in descending order with respect to the column of interest:\n",
    "df_processed = pd.DataFrame(\n",
    "    sorted(values.items(), key=lambda x: x[1], reverse=True))\n",
    "\n",
    "# Ten first values of the first column:\n",
    "c1 = df_processed[0][:10]\n",
    "# Ten first values of the second column:\n",
    "c2 = df_processed[1][:10]\n"
   ]
  },
  {
   "cell_type": "code",
   "execution_count": 32,
   "metadata": {},
   "outputs": [
    {
     "data": {
      "image/png": "[encoded data removed]",
      "text/plain": [
       "<Figure size 1152x288 with 1 Axes>"
      ]
     },
     "metadata": {},
     "output_type": "display_data"
    }
   ],
   "source": [
    "plt.figure(1, figsize=(16, 4))\n",
    "plt.bar(c1, c2, color='purple',\n",
    "        width=0.4)\n",
    "plt.xlabel(\"Combinations of Words in dataframe\")\n",
    "plt.xticks(rotation=90)\n",
    "plt.ylabel(\"Count\")\n",
    "plt.title(\"Top 10 bi-grams in dataframe-BIGRAM ANALYSIS\")\n",
    "# plt.savefig(\"dataset-bigram.png\")\n",
    "plt.show()\n"
   ]
  },
  {
   "cell_type": "markdown",
   "metadata": {},
   "source": [
    "## TF-IDF"
   ]
  },
  {
   "cell_type": "markdown",
   "metadata": {},
   "source": [
    "**Term Frequency (TF):**\n",
    "\n",
    "The number of times a word appears in a document divded by the total number of words in the document. Every document has its own term frequency.\n",
    "\n",
    "A value close to 1 indicates this term is very important to the document — and primarily composed of it. A low value could mean this term is not very important.\n",
    "\n",
    "**Inverse Data Frequency (IDF):**\n",
    "\n",
    "The log of the number of documents divided by the number of documents that contain the word w. Inverse data frequency determines the weight of rare words across all documents in the corpus.\n",
    "\n",
    "A value close to 0 indicates the term is very common — and not very helpful in differentiating this document from another. A higher value indicates the term is not very common and could be crucial to understanding the theme of this document.\n",
    "\n",
    "The **TF-IDF** is the multiplication of TF by IDF.\n",
    "\n",
    "A value close to 0 indicates the term is not important either in the corpus or the document or both. A larger value indicates the term is unique for the document or the corpus or both. This value works best in relation to other terms in the same document, and other documents."
   ]
  },
  {
   "cell_type": "code",
   "execution_count": 33,
   "metadata": {},
   "outputs": [
    {
     "data": {
      "text/plain": [
       "(189, 4309)"
      ]
     },
     "execution_count": 33,
     "metadata": {},
     "output_type": "execute_result"
    }
   ],
   "source": [
    "# Get the column of interest:\n",
    "docs = df['tokens_joined'].tolist()\n",
    "\n",
    "# Create a vocabulary of words,eliminate stop words if any:\n",
    "\n",
    "cv = CountVectorizer()\n",
    "word_count_vector = cv.fit_transform(docs)\n",
    "\n",
    "# Get shape of resulting vector:\n",
    "word_count_vector.shape\n"
   ]
  },
  {
   "cell_type": "code",
   "execution_count": 34,
   "metadata": {},
   "outputs": [
    {
     "data": {
      "text/plain": [
       "['stadfæste',\n",
       " '2021',\n",
       " 'udlændingestyrels',\n",
       " 'afgørelse',\n",
       " 'vedrørende',\n",
       " 'mandlig',\n",
       " 'statsborger',\n",
       " 'ukendt',\n",
       " 'hjemland',\n",
       " 'indrejst']"
      ]
     },
     "execution_count": 34,
     "metadata": {},
     "output_type": "execute_result"
    }
   ],
   "source": [
    "word_count_vector = cv.fit_transform(docs)\n",
    "\n",
    "# Look at 10 words from our vocabulary:\n",
    "list(cv.vocabulary_.keys())[:10]\n"
   ]
  },
  {
   "cell_type": "code",
   "execution_count": 35,
   "metadata": {},
   "outputs": [
    {
     "data": {
      "text/plain": [
       "array([5.55387689, 5.55387689, 3.11152986, ..., 4.63758616, 5.55387689,\n",
       "       3.35665231])"
      ]
     },
     "execution_count": 35,
     "metadata": {},
     "output_type": "execute_result"
    }
   ],
   "source": [
    "tfidf_transformer = TfidfTransformer(smooth_idf=True, use_idf=True)\n",
    "tfidf_transformer.fit(word_count_vector)\n",
    "\n",
    "\n",
    "# Peek at the IDF values:\n",
    "tfidf_transformer.idf_"
   ]
  },
  {
   "cell_type": "code",
   "execution_count": 36,
   "metadata": {},
   "outputs": [],
   "source": [
    "# Sorts the values in the vector while preserving the column index\n",
    "def sort_coo(coo_matrix):\n",
    "    tuples = zip(coo_matrix.col, coo_matrix.data)\n",
    "    return sorted(tuples, key=lambda x: (x[1], x[0]), reverse=True)\n",
    "\n",
    "\n",
    "def extract_top_n_from_vector(feature_names, sorted_items, topn=10):\n",
    "    \"\"\"get the feature names and tf-idf score of top n items\"\"\"\n",
    "\n",
    "    # Use only topn items from vector\n",
    "    sorted_items = sorted_items[:topn]\n",
    "\n",
    "    score_vals = []\n",
    "    feature_vals = []\n",
    "\n",
    "    for idx, score in sorted_items:\n",
    "        fname = feature_names[idx]\n",
    "\n",
    "        # Keep track of feature name and its corresponding score\n",
    "        score_vals.append(round(score, 3))\n",
    "        feature_vals.append(fname)\n",
    "\n",
    "    # Create a tuples of feature,score\n",
    "    # results = zip(feature_vals,score_vals)\n",
    "    results = {}\n",
    "    for idx in range(len(feature_vals)):\n",
    "        results[feature_vals[idx]] = score_vals[idx]\n",
    "\n",
    "    return results\n"
   ]
  },
  {
   "cell_type": "code",
   "execution_count": 37,
   "metadata": {},
   "outputs": [
    {
     "data": {
      "text/html": [
       "<div>\n",
       "<style scoped>\n",
       "    .dataframe tbody tr th:only-of-type {\n",
       "        vertical-align: middle;\n",
       "    }\n",
       "\n",
       "    .dataframe tbody tr th {\n",
       "        vertical-align: top;\n",
       "    }\n",
       "\n",
       "    .dataframe thead th {\n",
       "        text-align: right;\n",
       "    }\n",
       "</style>\n",
       "<table border=\"1\" class=\"dataframe\">\n",
       "  <thead>\n",
       "    <tr style=\"text-align: right;\">\n",
       "      <th></th>\n",
       "      <th>doc</th>\n",
       "      <th>keywords</th>\n",
       "    </tr>\n",
       "  </thead>\n",
       "  <tbody>\n",
       "    <tr>\n",
       "      <th>0</th>\n",
       "      <td>stadfæste 2021 udlændingestyrels afgørelse ved...</td>\n",
       "      <td>{'myanmar': 0.392, 'rohingya': 0.293, 'ansøger...</td>\n",
       "    </tr>\n",
       "    <tr>\n",
       "      <th>1</th>\n",
       "      <td>stadfæste 2021 udlændingestyrels afgørelse ved...</td>\n",
       "      <td>{'ansøger': 0.417, 'algerium': 0.387, 'frankri...</td>\n",
       "    </tr>\n",
       "    <tr>\n",
       "      <th>2</th>\n",
       "      <td>stadfæste 2021 udlændingestyrels afgørelse ved...</td>\n",
       "      <td>{'ansøger': 0.378, 'sudan': 0.285, '2020': 0.2...</td>\n",
       "    </tr>\n",
       "    <tr>\n",
       "      <th>3</th>\n",
       "      <td>stadfæste 2020 udlændingestyrels afgørelse ved...</td>\n",
       "      <td>{'somalia': 0.433, 'alshabaab': 0.417, 'kenya'...</td>\n",
       "    </tr>\n",
       "    <tr>\n",
       "      <th>4</th>\n",
       "      <td>hjemvise 2020 udlændingestyrels afgørelse vedr...</td>\n",
       "      <td>{'eritreisk': 0.4, 'eritrea': 0.35, 'etiopisk'...</td>\n",
       "    </tr>\n",
       "    <tr>\n",
       "      <th>...</th>\n",
       "      <td>...</td>\n",
       "      <td>...</td>\n",
       "    </tr>\n",
       "    <tr>\n",
       "      <th>184</th>\n",
       "      <td>stadfæste 2016 udlændingestyrels afgørelse ved...</td>\n",
       "      <td>{'fader': 0.499, 'liyu': 0.343, 'police': 0.29...</td>\n",
       "    </tr>\n",
       "    <tr>\n",
       "      <th>185</th>\n",
       "      <td>stadfæste 2015 udlændingestyrels afgørelse ved...</td>\n",
       "      <td>{'onlf': 0.43, 'ansøger': 0.318, 'police': 0.3...</td>\n",
       "    </tr>\n",
       "    <tr>\n",
       "      <th>186</th>\n",
       "      <td>hjemvise 2015 udlændingestyrels afgørelse vedr...</td>\n",
       "      <td>{'etiopien': 0.196, 'hjemvise': 0.187, 'foreta...</td>\n",
       "    </tr>\n",
       "    <tr>\n",
       "      <th>187</th>\n",
       "      <td>stadfæste 2015 udlændingestyrels afgørelse ved...</td>\n",
       "      <td>{'soldat': 0.531, 'ansøger': 0.218, 'burmesisk...</td>\n",
       "    </tr>\n",
       "    <tr>\n",
       "      <th>188</th>\n",
       "      <td>stadfæste 2015 udlændingestyrels afgørelse ved...</td>\n",
       "      <td>{'algerium': 0.469, 'ukendt': 0.293, 'ansøger'...</td>\n",
       "    </tr>\n",
       "  </tbody>\n",
       "</table>\n",
       "<p>189 rows × 2 columns</p>\n",
       "</div>"
      ],
      "text/plain": [
       "                                                   doc  \\\n",
       "0    stadfæste 2021 udlændingestyrels afgørelse ved...   \n",
       "1    stadfæste 2021 udlændingestyrels afgørelse ved...   \n",
       "2    stadfæste 2021 udlændingestyrels afgørelse ved...   \n",
       "3    stadfæste 2020 udlændingestyrels afgørelse ved...   \n",
       "4    hjemvise 2020 udlændingestyrels afgørelse vedr...   \n",
       "..                                                 ...   \n",
       "184  stadfæste 2016 udlændingestyrels afgørelse ved...   \n",
       "185  stadfæste 2015 udlændingestyrels afgørelse ved...   \n",
       "186  hjemvise 2015 udlændingestyrels afgørelse vedr...   \n",
       "187  stadfæste 2015 udlændingestyrels afgørelse ved...   \n",
       "188  stadfæste 2015 udlændingestyrels afgørelse ved...   \n",
       "\n",
       "                                              keywords  \n",
       "0    {'myanmar': 0.392, 'rohingya': 0.293, 'ansøger...  \n",
       "1    {'ansøger': 0.417, 'algerium': 0.387, 'frankri...  \n",
       "2    {'ansøger': 0.378, 'sudan': 0.285, '2020': 0.2...  \n",
       "3    {'somalia': 0.433, 'alshabaab': 0.417, 'kenya'...  \n",
       "4    {'eritreisk': 0.4, 'eritrea': 0.35, 'etiopisk'...  \n",
       "..                                                 ...  \n",
       "184  {'fader': 0.499, 'liyu': 0.343, 'police': 0.29...  \n",
       "185  {'onlf': 0.43, 'ansøger': 0.318, 'police': 0.3...  \n",
       "186  {'etiopien': 0.196, 'hjemvise': 0.187, 'foreta...  \n",
       "187  {'soldat': 0.531, 'ansøger': 0.218, 'burmesisk...  \n",
       "188  {'algerium': 0.469, 'ukendt': 0.293, 'ansøger'...  \n",
       "\n",
       "[189 rows x 2 columns]"
      ]
     },
     "execution_count": 37,
     "metadata": {},
     "output_type": "execute_result"
    }
   ],
   "source": [
    "# We only need to do this once:\n",
    "feature_names = cv.get_feature_names_out()\n",
    "\n",
    "# Generate tf-idf for all documents in list. docs has 192 documents:\n",
    "tf_idf_vector = tfidf_transformer.transform(cv.transform(docs))\n",
    "\n",
    "results = []\n",
    "for i in range(tf_idf_vector.shape[0]):\n",
    "\n",
    "    # get vector for a single document\n",
    "    curr_vector = tf_idf_vector[i]\n",
    "\n",
    "    # sort the tf-idf vector by descending order of scores\n",
    "    sorted_items = sort_coo(curr_vector.tocoo())   # tocoo() Return a COOrdinate representation of this matrix.\n",
    "\n",
    "    # extract only the top n; n here is 10\n",
    "    keywords = extract_top_n_from_vector(feature_names, sorted_items, 10)\n",
    "\n",
    "    results.append(keywords)\n",
    "\n",
    "df_tfIDF = pd.DataFrame(zip(docs, results), columns=['doc', 'keywords'])\n",
    "# df_tfIDF.shape\n",
    "df_tfIDF\n"
   ]
  },
  {
   "cell_type": "code",
   "execution_count": 38,
   "metadata": {},
   "outputs": [
    {
     "name": "stdout",
     "output_type": "stream",
     "text": [
      "[   ('klager', 0.81),\n",
      "    ('officer', 0.622),\n",
      "    ('taliban', 0.569),\n",
      "    ('soldat', 0.531),\n",
      "    ('libyen', 0.508),\n",
      "    ('police', 0.492),\n",
      "    ('liyu', 0.492),\n",
      "    ('tjetjenie', 0.465),\n",
      "    ('georgien', 0.465),\n",
      "    ('senegal', 0.464),\n",
      "    ('sierra', 0.462),\n",
      "    ('leone', 0.462),\n",
      "    ('ægtefælle', 0.462),\n",
      "    ('avis', 0.453),\n",
      "    ('libysk', 0.443),\n",
      "    ('hær', 0.436),\n",
      "    ('holland', 0.436),\n",
      "    ('somalia', 0.433),\n",
      "    ('ghanesisk', 0.43),\n",
      "    ('bøde', 0.426)]\n"
     ]
    }
   ],
   "source": [
    "# Create a dictionary from results list of dictionaries:\n",
    "my_dict = dict(ChainMap(*results))\n",
    "\n",
    "c = Counter(my_dict)\n",
    "\n",
    "# Returns top 20 most common pairs:\n",
    "most_common = c.most_common(20)\n",
    "\n",
    "# For getting the keys from `most_common`:\n",
    "my_keys = [key for key, val in most_common]\n",
    "\n",
    "# Add pretty printer:\n",
    "pp = pprint.PrettyPrinter(indent=4)\n",
    "\n",
    "pp.pprint(most_common)\n"
   ]
  },
  {
   "cell_type": "markdown",
   "metadata": {},
   "source": [
    "Plot the pairs:"
   ]
  },
  {
   "cell_type": "code",
   "execution_count": 39,
   "metadata": {},
   "outputs": [
    {
     "data": {
      "image/png": "[encoded data removed]",
      "text/plain": [
       "<Figure size 432x288 with 1 Axes>"
      ]
     },
     "metadata": {},
     "output_type": "display_data"
    }
   ],
   "source": [
    "# plt.bar(range(len(most_common)), [val[1] for val in most_common], align='center')\n",
    "# plt.xticks(range(len(most_common)), [val[0] for val in most_common])\n",
    "# plt.xticks(rotation=70)\n",
    "\n",
    "# sort values in tuple:\n",
    "sorted_most_common = sorted(most_common, key=lambda x: x[1])\n",
    "\n",
    "fig, ax = plt.subplots()\n",
    "bars = ax.barh([val[0] for val in sorted_most_common], [val[1] for val in sorted_most_common])\n",
    "\n",
    "ax.bar_label(bars)\n",
    "plt.show()"
   ]
  }
 ],
 "metadata": {
  "interpreter": {
   "hash": "b6672ba510bd43d5df0d34395a84685a825e41d35f5301d8abef98bca1680e82"
  },
  "kernelspec": {
   "display_name": "Python 3 (ipykernel)",
   "language": "python",
   "name": "python3"
  },
  "language_info": {
   "codemirror_mode": {
    "name": "ipython",
    "version": 3
   },
   "file_extension": ".py",
   "mimetype": "text/x-python",
   "name": "python",
   "nbconvert_exporter": "python",
   "pygments_lexer": "ipython3",
   "version": "3.9.12"
  }
 },
 "nbformat": 4,
 "nbformat_minor": 2
}
