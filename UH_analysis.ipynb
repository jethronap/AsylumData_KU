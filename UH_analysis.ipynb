{
 "cells": [
  {
   "cell_type": "code",
   "execution_count": 1,
   "metadata": {},
   "outputs": [
    {
     "name": "stderr",
     "output_type": "stream",
     "text": [
      "/Users/jnap/opt/anaconda3/lib/python3.9/site-packages/past/builtins/misc.py:45: DeprecationWarning: the imp module is deprecated in favour of importlib; see the module's documentation for alternative uses\n",
      "  from imp import reload\n"
     ]
    }
   ],
   "source": [
    "import matplotlib.pyplot as plt\n",
    "import seaborn as sns\n",
    "import pandas as pd\n",
    "import numpy as np\n",
    "import random\n",
    "import regex as re\n",
    "import pprint\n",
    "\n",
    "from nltk.corpus import stopwords\n",
    "# Need to uncomment the following line in order to download nltk stopwords:\n",
    "# nltk.download('stopwords')\n",
    "import spacy\n",
    "from textacy.extract import keyword_in_context\n",
    "\n",
    "from sklearn.feature_extraction.text import CountVectorizer, TfidfTransformer\n",
    "from sklearn.decomposition import NMF, TruncatedSVD, LatentDirichletAllocation\n",
    "\n",
    "from collections import defaultdict\n",
    "from collections import Counter, ChainMap\n",
    "\n",
    "from tmtoolkit.topicmod.evaluate import metric_coherence_gensim\n",
    "\n",
    "import pyLDAvis.sklearn\n",
    "\n",
    "import warnings\n",
    "warnings.filterwarnings(\"ignore\", category=DeprecationWarning)\n",
    "\n",
    "plt.style.use(style='seaborn')\n",
    "%matplotlib inline\n",
    "sns.set()\n"
   ]
  },
  {
   "cell_type": "markdown",
   "metadata": {},
   "source": [
    "# Import data set:"
   ]
  },
  {
   "cell_type": "code",
   "execution_count": 2,
   "metadata": {},
   "outputs": [
    {
     "data": {
      "text/plain": [
       "(9324, 5)"
      ]
     },
     "execution_count": 2,
     "metadata": {},
     "output_type": "execute_result"
    }
   ],
   "source": [
    "pd.options.mode.chained_assignment = None\n",
    "\n",
    "with open('data/dk_asylum_data.json', encoding='utf-8') as inputfile:\n",
    "    df_full = pd.read_json(inputfile)\n",
    "\n",
    "# Convert json to csv:\n",
    "df_full.to_csv('data/dk_asylum_data.csv', encoding='utf-8', index=False)\n",
    "\n",
    "df_full.shape\n"
   ]
  },
  {
   "cell_type": "markdown",
   "metadata": {},
   "source": [
    "# Dataset preprocessing:\n",
    "\n",
    "## Keep cases of Unknown Homeland (Ukendt hjemland):"
   ]
  },
  {
   "cell_type": "code",
   "execution_count": 3,
   "metadata": {},
   "outputs": [
    {
     "data": {
      "text/html": [
       "<div>\n",
       "<style scoped>\n",
       "    .dataframe tbody tr th:only-of-type {\n",
       "        vertical-align: middle;\n",
       "    }\n",
       "\n",
       "    .dataframe tbody tr th {\n",
       "        vertical-align: top;\n",
       "    }\n",
       "\n",
       "    .dataframe thead th {\n",
       "        text-align: right;\n",
       "    }\n",
       "</style>\n",
       "<table border=\"1\" class=\"dataframe\">\n",
       "  <thead>\n",
       "    <tr style=\"text-align: right;\">\n",
       "      <th></th>\n",
       "      <th>text</th>\n",
       "    </tr>\n",
       "  </thead>\n",
       "  <tbody>\n",
       "    <tr>\n",
       "      <th>201</th>\n",
       "      <td>Nævnet stadfæstede i november 2021 Udl...</td>\n",
       "    </tr>\n",
       "    <tr>\n",
       "      <th>428</th>\n",
       "      <td>Nævnet stadfæstede i juni 2021 Udlændi...</td>\n",
       "    </tr>\n",
       "    <tr>\n",
       "      <th>464</th>\n",
       "      <td>Nævnet stadfæstede i juni 2021 Udlændi...</td>\n",
       "    </tr>\n",
       "    <tr>\n",
       "      <th>901</th>\n",
       "      <td>Nævnet stadfæstede i december 2020 Udl...</td>\n",
       "    </tr>\n",
       "    <tr>\n",
       "      <th>1291</th>\n",
       "      <td>Nævnet hjemviste i juni 2020 Udlænding...</td>\n",
       "    </tr>\n",
       "  </tbody>\n",
       "</table>\n",
       "</div>"
      ],
      "text/plain": [
       "                                                   text\n",
       "201           Nævnet stadfæstede i november 2021 Udl...\n",
       "428           Nævnet stadfæstede i juni 2021 Udlændi...\n",
       "464           Nævnet stadfæstede i juni 2021 Udlændi...\n",
       "901           Nævnet stadfæstede i december 2020 Udl...\n",
       "1291          Nævnet hjemviste i juni 2020 Udlænding..."
      ]
     },
     "execution_count": 3,
     "metadata": {},
     "output_type": "execute_result"
    }
   ],
   "source": [
    "df_UH = df_full[df_full.country == \"Ukendt hjemland\"]\n",
    "\n",
    "# Drop redundant column:\n",
    "df_UH.drop('hasText', axis=1, inplace=True)\n",
    "\n",
    "# Keep column 'text':\n",
    "df = df_UH[['text']]\n",
    "\n",
    "df[\"text\"] = df[\"text\"].astype(str)\n",
    "\n",
    "df.shape\n",
    "\n",
    "df.head()\n"
   ]
  },
  {
   "cell_type": "markdown",
   "metadata": {},
   "source": [
    "## Length of texts\n",
    "\n",
    "Create a numeric column in order to get a feel about the length of the texts. "
   ]
  },
  {
   "cell_type": "code",
   "execution_count": 4,
   "metadata": {},
   "outputs": [
    {
     "data": {
      "text/html": [
       "<div>\n",
       "<style scoped>\n",
       "    .dataframe tbody tr th:only-of-type {\n",
       "        vertical-align: middle;\n",
       "    }\n",
       "\n",
       "    .dataframe tbody tr th {\n",
       "        vertical-align: top;\n",
       "    }\n",
       "\n",
       "    .dataframe thead th {\n",
       "        text-align: right;\n",
       "    }\n",
       "</style>\n",
       "<table border=\"1\" class=\"dataframe\">\n",
       "  <thead>\n",
       "    <tr style=\"text-align: right;\">\n",
       "      <th></th>\n",
       "      <th>count</th>\n",
       "      <th>mean</th>\n",
       "      <th>std</th>\n",
       "      <th>min</th>\n",
       "      <th>25%</th>\n",
       "      <th>50%</th>\n",
       "      <th>75%</th>\n",
       "      <th>max</th>\n",
       "    </tr>\n",
       "  </thead>\n",
       "  <tbody>\n",
       "    <tr>\n",
       "      <th>length</th>\n",
       "      <td>192.0</td>\n",
       "      <td>5016.598958</td>\n",
       "      <td>2045.83413</td>\n",
       "      <td>1104.0</td>\n",
       "      <td>3522.0</td>\n",
       "      <td>4789.0</td>\n",
       "      <td>6148.75</td>\n",
       "      <td>13105.0</td>\n",
       "    </tr>\n",
       "  </tbody>\n",
       "</table>\n",
       "</div>"
      ],
      "text/plain": [
       "        count         mean         std     min     25%     50%      75%  \\\n",
       "length  192.0  5016.598958  2045.83413  1104.0  3522.0  4789.0  6148.75   \n",
       "\n",
       "            max  \n",
       "length  13105.0  "
      ]
     },
     "execution_count": 4,
     "metadata": {},
     "output_type": "execute_result"
    }
   ],
   "source": [
    "df['length'] = df['text'].str.len()\n",
    "\n",
    "df.describe().T"
   ]
  },
  {
   "cell_type": "markdown",
   "metadata": {},
   "source": [
    "## Boxplot:"
   ]
  },
  {
   "cell_type": "code",
   "execution_count": 5,
   "metadata": {},
   "outputs": [
    {
     "data": {
      "text/plain": [
       "<AxesSubplot:>"
      ]
     },
     "execution_count": 5,
     "metadata": {},
     "output_type": "execute_result"
    },
    {
     "data": {
      "image/png": "[encoded data removed]",
      "text/plain": [
       "<Figure size 432x288 with 1 Axes>"
      ]
     },
     "metadata": {},
     "output_type": "display_data"
    }
   ],
   "source": [
    "# Box plot:\n",
    "df['length'].plot(kind='box', vert=False)"
   ]
  },
  {
   "cell_type": "markdown",
   "metadata": {},
   "source": [
    "## Histogram:"
   ]
  },
  {
   "cell_type": "code",
   "execution_count": 6,
   "metadata": {},
   "outputs": [
    {
     "data": {
      "text/plain": [
       "<AxesSubplot:ylabel='Frequency'>"
      ]
     },
     "execution_count": 6,
     "metadata": {},
     "output_type": "execute_result"
    },
    {
     "data": {
      "image/png": "[encoded data removed]",
      "text/plain": [
       "<Figure size 432x288 with 1 Axes>"
      ]
     },
     "metadata": {},
     "output_type": "display_data"
    }
   ],
   "source": [
    "# Histogram:\n",
    "df['length'].plot(kind='hist', bins=30)\n"
   ]
  },
  {
   "cell_type": "markdown",
   "metadata": {},
   "source": [
    "# Create a pipeline:\n",
    "\n",
    "Below are the steps taken to process the texts."
   ]
  },
  {
   "cell_type": "code",
   "execution_count": 7,
   "metadata": {},
   "outputs": [],
   "source": [
    "nlp = spacy.load(\"da_core_news_md\")\n",
    "\n",
    "STOPWORDS_DANISH = set(stopwords.words('danish'))\n",
    "\n",
    "stopwords_to_include = {'nævnet', 'stadfæstede', 'januar', 'februar', 'marts', 'april',\n",
    "'maj', 'juni', 'juli', 'august', 'september', 'oktober', 'november', 'december', 'jf'}\n",
    "\n",
    "STOPWORDS_DANISH |= stopwords_to_include \n",
    "\n",
    "PUNCTUATION_TO_REMOVE = '–«!\"#$%&\\'()*+,-./:;<=>?@[\\\\]^_`{|}~»●·’“”'"
   ]
  },
  {
   "cell_type": "code",
   "execution_count": 8,
   "metadata": {},
   "outputs": [],
   "source": [
    "def remove_punctuation(text):\n",
    "    \"\"\"custom function to remove the punctuation\"\"\"\n",
    "    return text.translate(str.maketrans('', '', PUNCTUATION_TO_REMOVE))\n",
    "\n",
    "\n",
    "def remove_stopwords(tokens):\n",
    "    \"\"\"custom function to remove stopwords\"\"\"\n",
    "    return [t for t in tokens if t.lower() not in STOPWORDS_DANISH]\n",
    "\n",
    "\n",
    "def tokenize(text):\n",
    "    \"\"\"the following expression matches tokens consisting of at least one letter (\\p{L}), \n",
    "    preceded and followed by an arbitrary sequence of alphanumeric characters \n",
    "    (\\w includes digits, letters, and underscore) and hyphens (-)\"\"\"\n",
    "    return re.findall(r'[\\w-]*\\p{L}[\\w-]*', text)\n",
    "\n",
    "# def tokenize(text):\n",
    "#     doc = nlp.tokenizer(' '.join(text))\n",
    "#     return [token.text for token in doc]\n",
    "\n",
    "def drop_single_letter_words(text):\n",
    "    return [w for w in text if len(w) > 1]\n",
    "\n",
    "\n",
    "def lemmatize(text):\n",
    "    \"\"\"custom function to lemmatize text\"\"\"\n",
    "    doc = nlp(' '.join(text))\n",
    "    # pos_tagged_text = text.pos\n",
    "    return [token.lemma_ for token in doc]\n",
    "\n",
    "\n",
    "# def remove_junk(text):\n",
    "#     # Creating a spacy object\n",
    "#     doc = nlp(' '.join(text))\n",
    "#     # Checking if POS tag is X and printing them\n",
    "#     for token in doc:\n",
    "#         if token.pos_ == 'X':\n",
    "#             print(token.text)\n",
    "#     # Removing the tokens whose POS tag is junk.\n",
    "#     clean_doc = [token.text for token in doc if not token.pos_ == 'X']\n",
    "\n",
    "#     return clean_doc\n"
   ]
  },
  {
   "cell_type": "markdown",
   "metadata": {},
   "source": [
    "Steps can be added or removed from the pipeline."
   ]
  },
  {
   "cell_type": "code",
   "execution_count": 9,
   "metadata": {},
   "outputs": [],
   "source": [
    "pipeline = [str.lower, remove_punctuation, tokenize, remove_stopwords,\n",
    "            lemmatize, drop_single_letter_words]\n",
    "\n",
    "\n",
    "def process(text, pipeline):\n",
    "    tokens = text\n",
    "    for transform in pipeline:\n",
    "        tokens = transform(tokens)\n",
    "    return tokens\n"
   ]
  },
  {
   "cell_type": "code",
   "execution_count": 10,
   "metadata": {},
   "outputs": [],
   "source": [
    "# Apply the process pipeline:\n",
    "df['tokens'] = df['text'].apply(process, pipeline=pipeline)\n",
    "\n",
    "# Add column to see the number of tokens:\n",
    "df['num_tokens'] = df['tokens'].map(len)"
   ]
  },
  {
   "cell_type": "code",
   "execution_count": 11,
   "metadata": {},
   "outputs": [
    {
     "data": {
      "text/html": [
       "<div>\n",
       "<style scoped>\n",
       "    .dataframe tbody tr th:only-of-type {\n",
       "        vertical-align: middle;\n",
       "    }\n",
       "\n",
       "    .dataframe tbody tr th {\n",
       "        vertical-align: top;\n",
       "    }\n",
       "\n",
       "    .dataframe thead th {\n",
       "        text-align: right;\n",
       "    }\n",
       "</style>\n",
       "<table border=\"1\" class=\"dataframe\">\n",
       "  <thead>\n",
       "    <tr style=\"text-align: right;\">\n",
       "      <th></th>\n",
       "      <th>text</th>\n",
       "      <th>length</th>\n",
       "      <th>tokens</th>\n",
       "      <th>num_tokens</th>\n",
       "    </tr>\n",
       "  </thead>\n",
       "  <tbody>\n",
       "    <tr>\n",
       "      <th>201</th>\n",
       "      <td>Nævnet stadfæstede i november 2021 Udl...</td>\n",
       "      <td>4753</td>\n",
       "      <td>[udlændingestyrels, afgørelse, vedrørende, man...</td>\n",
       "      <td>368</td>\n",
       "    </tr>\n",
       "    <tr>\n",
       "      <th>428</th>\n",
       "      <td>Nævnet stadfæstede i juni 2021 Udlændi...</td>\n",
       "      <td>3149</td>\n",
       "      <td>[udlændingestyrels, afgørelse, vedrørende, man...</td>\n",
       "      <td>239</td>\n",
       "    </tr>\n",
       "    <tr>\n",
       "      <th>464</th>\n",
       "      <td>Nævnet stadfæstede i juni 2021 Udlændi...</td>\n",
       "      <td>4433</td>\n",
       "      <td>[udlændingestyrels, afgørelse, vedrørende, man...</td>\n",
       "      <td>342</td>\n",
       "    </tr>\n",
       "    <tr>\n",
       "      <th>901</th>\n",
       "      <td>Nævnet stadfæstede i december 2020 Udl...</td>\n",
       "      <td>2664</td>\n",
       "      <td>[udlændingestyrels, afgørelse, vedrørende, man...</td>\n",
       "      <td>202</td>\n",
       "    </tr>\n",
       "    <tr>\n",
       "      <th>1291</th>\n",
       "      <td>Nævnet hjemviste i juni 2020 Udlænding...</td>\n",
       "      <td>4626</td>\n",
       "      <td>[hjemvise, udlændingestyrels, afgørelse, vedrø...</td>\n",
       "      <td>349</td>\n",
       "    </tr>\n",
       "  </tbody>\n",
       "</table>\n",
       "</div>"
      ],
      "text/plain": [
       "                                                   text  length  \\\n",
       "201           Nævnet stadfæstede i november 2021 Udl...    4753   \n",
       "428           Nævnet stadfæstede i juni 2021 Udlændi...    3149   \n",
       "464           Nævnet stadfæstede i juni 2021 Udlændi...    4433   \n",
       "901           Nævnet stadfæstede i december 2020 Udl...    2664   \n",
       "1291          Nævnet hjemviste i juni 2020 Udlænding...    4626   \n",
       "\n",
       "                                                 tokens  num_tokens  \n",
       "201   [udlændingestyrels, afgørelse, vedrørende, man...         368  \n",
       "428   [udlændingestyrels, afgørelse, vedrørende, man...         239  \n",
       "464   [udlændingestyrels, afgørelse, vedrørende, man...         342  \n",
       "901   [udlændingestyrels, afgørelse, vedrørende, man...         202  \n",
       "1291  [hjemvise, udlændingestyrels, afgørelse, vedrø...         349  "
      ]
     },
     "execution_count": 11,
     "metadata": {},
     "output_type": "execute_result"
    }
   ],
   "source": [
    "df.head()"
   ]
  },
  {
   "cell_type": "markdown",
   "metadata": {},
   "source": [
    "# Analysis:"
   ]
  },
  {
   "cell_type": "markdown",
   "metadata": {},
   "source": [
    "# Frequency analysis:\n",
    "\n",
    "Here we count the most frequent tokens in the **whole** corpus.\n"
   ]
  },
  {
   "cell_type": "code",
   "execution_count": 12,
   "metadata": {},
   "outputs": [],
   "source": [
    "# Transform the counter into a Pandas DataFrame with the following function:\n",
    "\n",
    "\"\"\"\n",
    "The tokens make up the index of the DataFrame, while the frequency values are stored in a column named freq. \n",
    "The rows are sorted so that the most frequent words appear at the head.\n",
    "The last parameter of count_words defines a minimum frequency of tokens to be included in the result. \n",
    "Its default is set to 2 to cut down on tokens occurring only once.\n",
    "\"\"\"\n",
    "\n",
    "def count_words(df, column='tokens', preprocess=None, min_freq=2):\n",
    "    # process tokens and update counter\n",
    "    def update(doc):\n",
    "        tokens = doc if preprocess is None else preprocess(doc)\n",
    "        counter.update(tokens)\n",
    "    # create counter and run through all data\n",
    "    counter = Counter() \n",
    "    df[column].map(update)\n",
    "    # transform counter into a DataFrame\n",
    "    freq_df = pd.DataFrame.from_dict(counter, orient='index', columns=['freq']) \n",
    "    freq_df = freq_df.query('freq >= @min_freq')\n",
    "    freq_df.index.name = 'token'\n",
    "    return freq_df.sort_values('freq', ascending=False)"
   ]
  },
  {
   "cell_type": "code",
   "execution_count": 13,
   "metadata": {},
   "outputs": [
    {
     "data": {
      "text/html": [
       "<div>\n",
       "<style scoped>\n",
       "    .dataframe tbody tr th:only-of-type {\n",
       "        vertical-align: middle;\n",
       "    }\n",
       "\n",
       "    .dataframe tbody tr th {\n",
       "        vertical-align: top;\n",
       "    }\n",
       "\n",
       "    .dataframe thead th {\n",
       "        text-align: right;\n",
       "    }\n",
       "</style>\n",
       "<table border=\"1\" class=\"dataframe\">\n",
       "  <thead>\n",
       "    <tr style=\"text-align: right;\">\n",
       "      <th></th>\n",
       "      <th>freq</th>\n",
       "    </tr>\n",
       "    <tr>\n",
       "      <th>token</th>\n",
       "      <th></th>\n",
       "    </tr>\n",
       "  </thead>\n",
       "  <tbody>\n",
       "    <tr>\n",
       "      <th>ansøger</th>\n",
       "      <td>4380</td>\n",
       "    </tr>\n",
       "    <tr>\n",
       "      <th>Kuwait</th>\n",
       "      <td>1395</td>\n",
       "    </tr>\n",
       "    <tr>\n",
       "      <th>forklare</th>\n",
       "      <td>1249</td>\n",
       "    </tr>\n",
       "    <tr>\n",
       "      <th>flygtningenævn</th>\n",
       "      <td>1143</td>\n",
       "    </tr>\n",
       "    <tr>\n",
       "      <th>oplyse</th>\n",
       "      <td>836</td>\n",
       "    </tr>\n",
       "    <tr>\n",
       "      <th>mandlig</th>\n",
       "      <td>807</td>\n",
       "    </tr>\n",
       "    <tr>\n",
       "      <th>myndighed</th>\n",
       "      <td>803</td>\n",
       "    </tr>\n",
       "    <tr>\n",
       "      <th>ved</th>\n",
       "      <td>756</td>\n",
       "    </tr>\n",
       "    <tr>\n",
       "      <th>asylmotiv</th>\n",
       "      <td>756</td>\n",
       "    </tr>\n",
       "    <tr>\n",
       "      <th>ansøg</th>\n",
       "      <td>726</td>\n",
       "    </tr>\n",
       "  </tbody>\n",
       "</table>\n",
       "</div>"
      ],
      "text/plain": [
       "                freq\n",
       "token               \n",
       "ansøger         4380\n",
       "Kuwait          1395\n",
       "forklare        1249\n",
       "flygtningenævn  1143\n",
       "oplyse           836\n",
       "mandlig          807\n",
       "myndighed        803\n",
       "ved              756\n",
       "asylmotiv        756\n",
       "ansøg            726"
      ]
     },
     "execution_count": 13,
     "metadata": {},
     "output_type": "execute_result"
    }
   ],
   "source": [
    "# See ten most frequent words in the whole corpus:\n",
    "\n",
    "freq_df = count_words(df) \n",
    "freq_df.head(10)"
   ]
  },
  {
   "cell_type": "code",
   "execution_count": 14,
   "metadata": {},
   "outputs": [
    {
     "data": {
      "text/plain": [
       "[Text(0.5, 0, 'Frequency'), Text(0, 0.5, 'Token'), Text(0.5, 1.0, 'Top Words')]"
      ]
     },
     "execution_count": 14,
     "metadata": {},
     "output_type": "execute_result"
    },
    {
     "data": {
      "image/png": "[encoded data removed]",
      "text/plain": [
       "<Figure size 432x288 with 1 Axes>"
      ]
     },
     "metadata": {},
     "output_type": "display_data"
    }
   ],
   "source": [
    "# Plot the results:\n",
    "ax = freq_df.head(15).plot(kind='barh', width=0.95) \n",
    "ax.invert_yaxis()\n",
    "ax.set(xlabel='Frequency', ylabel='Token', title='Top Words')"
   ]
  },
  {
   "cell_type": "markdown",
   "metadata": {},
   "source": [
    "# Keyword in context (KWIC):\n",
    "\n",
    "KWIC analysis produces a list of text fragments of equal length showing the left and right context of a keyword."
   ]
  },
  {
   "cell_type": "code",
   "execution_count": 15,
   "metadata": {},
   "outputs": [],
   "source": [
    "\"\"\"\n",
    "The function iteratively collects the keyword contexts by applying the add_kwic function to each document with map. \n",
    "By default, the function returns a list of tuples of the form (left context, keyword, right context). \n",
    "If print_samples is greater than 0, a random sample of the results is printed. \n",
    "Sampling is especially useful with lots of documents because the first entries of the list \n",
    "would otherwise stem from a single or a very small number of documents.\n",
    "\"\"\"\n",
    "\n",
    "def kwic(doc_series, keyword, window=35, print_samples=5):\n",
    "    def add_kwic(text):\n",
    "        kwic_list.extend(keyword_in_context(text, keyword, ignore_case=True, window_width=window))\n",
    "\n",
    "    kwic_list = []\n",
    "    doc_series.map(add_kwic)\n",
    "\n",
    "    if print_samples is None or print_samples == 0:\n",
    "        return kwic_list\n",
    "    else:\n",
    "        k = min(print_samples, len(kwic_list))\n",
    "        print(f'{k} random samples out of {len(kwic_list)} ' +\n",
    "              f\"contexts for '{keyword}':\")\n",
    "        for sample in random.sample(list(kwic_list), k):\n",
    "            print(re.sub(r'[\\n\\t]', ' ', sample[0]) + ' ' +\n",
    "                  sample[1]+' ' +\n",
    "                  re.sub(r'[\\n\\t]', ' ', sample[2]))\n"
   ]
  },
  {
   "cell_type": "markdown",
   "metadata": {},
   "source": [
    "Bellow we apply KWIC for `stk` keyword found from the frequency analysis and print 10 random context appearances.\n",
    "\n",
    "The call is made to the original untokenized & unprocessed dataset."
   ]
  },
  {
   "cell_type": "code",
   "execution_count": 16,
   "metadata": {},
   "outputs": [
    {
     "name": "stdout",
     "output_type": "stream",
     "text": [
      "10 random samples out of 380 contexts for 'stk':\n",
      "adelse efter udlændingelovens § 7,  stk . 1, eller stk. 2, er opfyldt. Flyg\n",
      "ov om eu-foriserende stoffers § 3,  stk . 1, jf. § 1, stk. 3, jf. bekendtgø\n",
      " i medfør af udlændingelovens § 7,  stk . 1, eller stk. 2 er derfor ikke op\n",
      "udlændingelovens § 7, stk. 1 eller  stk . 2. Flygtnin-genævnet stadfæster d\n",
      "udlændingelovens § 7, stk. 1 eller  stk . 2.” hjem/2018/101/JAH\n",
      " omfattet af udlændingelovens § 7,  stk . 1 eller 2. Det bemærkes, at helle\n",
      " omfattet af udlændingelovens § 7,  stk . 1 eller stk. 2. Flygtningenævnet \n",
      "ølgelse, jf. udlændingelovens § 7,  stk . 1, eller har behov for beskyttels\n",
      "adelse efter udlændingelovens § 7,  stk . 1, eller stk. 2, er opfyldt, og F\n",
      "nr. 1 og § 19 a, stk. 2, jf. § 26,  stk . 1. Udlændingestyrelsen har vurder\n"
     ]
    }
   ],
   "source": [
    "kwic(df['text'], 'stk', print_samples=10)"
   ]
  },
  {
   "cell_type": "markdown",
   "metadata": {},
   "source": [
    "KWIC for `opholdstilladelse`."
   ]
  },
  {
   "cell_type": "code",
   "execution_count": 17,
   "metadata": {},
   "outputs": [
    {
     "name": "stdout",
     "output_type": "stream",
     "text": [
      "10 random samples out of 242 contexts for 'opholdstilladelse':\n",
      "landet kan ikke i sig selv medføre  opholdstilladelse  efter udlændingelovens § 7. Ansøge\n",
      "ke føre til, at han kunne meddeles  opholdstilladelse  efter udlændingelovens § 7. Hereft\n",
      "inder derfor, at betingelserne for  opholdstilladelse  efter udlændingelovens § 7, stk. 1\n",
      "t belastende at inddrage klagerens  opholdstilladelse , jf. udlændingelovens § 26, stk. 1\n",
      "gtelse af forlængelse af klagerens  opholdstilladelse , idet Udlændingestyrelsen vurdered\n",
      "kt til sin ægtefælle, der har fået  opholdstilladelse  i England. Ansøgeren har ikke yder\n",
      "ageren at nægte at forlænge hendes  opholdstilladelse , navnlig på grund de hensyn, der e\n",
      "betingelserne for at blive meddelt  opholdstilladelse  i medfør af udlændingelovens § 7, \n",
      "en, og han har herefter opnået sin  opholdstilladelse  ved svig, jf. udlændingelovens § 1\n",
      "an karakter, at dette kan føre til  opholdstilladelse  efter den nævnte bestemmelse. Flyg\n"
     ]
    }
   ],
   "source": [
    "kwic(df['text'], 'opholdstilladelse', print_samples=10)"
   ]
  },
  {
   "cell_type": "markdown",
   "metadata": {},
   "source": [
    "# N-gram analysis:"
   ]
  },
  {
   "cell_type": "markdown",
   "metadata": {},
   "source": [
    "**N-grams** are neighboring sequences of items (words, letters, symbols) in a document. \n",
    "\n",
    "Most of the times a probability is assigned to the occurrence of a N-gram (or a word occurring next in a sequence of words). This can help decide which N-grams can be chunked together to form single entities or make predictions for next words (other possible use cases include spelling corrections).  \n",
    "\n",
    "[Here](https://web.stanford.edu/~jurafsky/slp3/slides/LM_4.pdf), are some slides from Stanford which provide an introduction to N-gram models and the math that goes with it. "
   ]
  },
  {
   "cell_type": "code",
   "execution_count": 18,
   "metadata": {},
   "outputs": [],
   "source": [
    "def generate_N_grams(text, ngram=1):\n",
    "    \"\"\"\"custom function to generate n-grams\"\"\"\n",
    "    words = [word for word in text.split(\n",
    "        \" \") if word not in set(STOPWORDS_DANISH)]\n",
    "    # print(\"Sentence after removing stopwords:\", words)\n",
    "    # Use the zip function to help us generate n-grams\n",
    "    temp = zip(*[words[i:] for i in range(0, ngram)])\n",
    "    # Concatentate the tokens into ngrams and return\n",
    "    ans = [' '.join(ngram) for ngram in temp]\n",
    "    return ans\n"
   ]
  },
  {
   "cell_type": "code",
   "execution_count": 19,
   "metadata": {},
   "outputs": [],
   "source": [
    "df['tokens_joined'] = [' '.join(token) for token in df['tokens']]"
   ]
  },
  {
   "cell_type": "code",
   "execution_count": 20,
   "metadata": {},
   "outputs": [],
   "source": [
    "values = defaultdict(int)\n",
    "\n",
    "# Get the count of every bigram in the data set from last processed column:\n",
    "for text in df['tokens_joined']:\n",
    "    for word in generate_N_grams(text, 2):\n",
    "        values[word] += 1"
   ]
  },
  {
   "cell_type": "code",
   "execution_count": 21,
   "metadata": {},
   "outputs": [],
   "source": [
    "# Focus on more frequently occuring words.\n",
    "# Sort in descending order with respect to the column of interest:\n",
    "df_processed = pd.DataFrame(\n",
    "    sorted(values.items(), key=lambda x: x[1], reverse=True))\n",
    "\n",
    "# Ten first values of the first column:\n",
    "c1 = df_processed[0][:10]\n",
    "# Ten first values of the second column:\n",
    "c2 = df_processed[1][:10]\n"
   ]
  },
  {
   "cell_type": "code",
   "execution_count": 22,
   "metadata": {},
   "outputs": [
    {
     "data": {
      "image/png": "[encoded data removed]",
      "text/plain": [
       "<Figure size 1152x288 with 1 Axes>"
      ]
     },
     "metadata": {},
     "output_type": "display_data"
    }
   ],
   "source": [
    "plt.figure(1, figsize=(16, 4))\n",
    "plt.bar(c1, c2, color='purple',\n",
    "        width=0.4)\n",
    "plt.xlabel(\"Combinations of Words in dataframe\")\n",
    "plt.xticks(rotation=90)\n",
    "plt.ylabel(\"Count\")\n",
    "plt.title(\"Top 10 bi-grams in dataframe-BIGRAM ANALYSIS\")\n",
    "# plt.savefig(\"dataset-bigram.png\")\n",
    "plt.show()\n"
   ]
  },
  {
   "cell_type": "markdown",
   "metadata": {},
   "source": [
    "# TF-IDF"
   ]
  },
  {
   "cell_type": "markdown",
   "metadata": {},
   "source": [
    "**Term Frequency (TF):**\n",
    "\n",
    "The number of times a word appears in a document divded by the total number of words in the document. Every document has its own term frequency.\n",
    "\n",
    "A value close to 1 indicates this term is very important to the document — and primarily composed of it. A low value could mean this term is not very important.\n",
    "\n",
    "**Inverse Data Frequency (IDF):**\n",
    "\n",
    "The log of the number of documents divided by the number of documents that contain the word w. Inverse data frequency determines the weight of rare words across all documents in the corpus.\n",
    "\n",
    "A value close to 0 indicates the term is very common — and not very helpful in differentiating this document from another. A higher value indicates the term is not very common and could be crucial to understanding the theme of this document.\n",
    "\n",
    "The **TF-IDF** is the multiplication of TF by IDF.\n",
    "\n",
    "A value close to 0 indicates the term is not important either in the corpus or the document or both. A larger value indicates the term is unique for the document or the corpus or both. This value works best in relation to other terms in the same document, and other documents."
   ]
  },
  {
   "cell_type": "code",
   "execution_count": 23,
   "metadata": {},
   "outputs": [
    {
     "data": {
      "text/plain": [
       "(192, 4242)"
      ]
     },
     "execution_count": 23,
     "metadata": {},
     "output_type": "execute_result"
    }
   ],
   "source": [
    "# Get the column of interest:\n",
    "docs = df['tokens_joined'].tolist()\n",
    "\n",
    "# Create a vocabulary of words,eliminate stop words if any:\n",
    "\n",
    "cv = CountVectorizer(stop_words=STOPWORDS_DANISH)\n",
    "word_count_vector = cv.fit_transform(docs)\n",
    "\n",
    "# Get shape of resulting vector:\n",
    "word_count_vector.shape\n"
   ]
  },
  {
   "cell_type": "code",
   "execution_count": 24,
   "metadata": {},
   "outputs": [
    {
     "data": {
      "text/plain": [
       "['udlændingestyrels',\n",
       " 'afgørelse',\n",
       " 'vedrørende',\n",
       " 'mandlig',\n",
       " 'statsborger',\n",
       " 'ukendt',\n",
       " 'hjemland',\n",
       " 'indrejst',\n",
       " 'flygtningenævne',\n",
       " 'udtalteflygtningenævn']"
      ]
     },
     "execution_count": 24,
     "metadata": {},
     "output_type": "execute_result"
    }
   ],
   "source": [
    "word_count_vector = cv.fit_transform(docs)\n",
    "\n",
    "# Look at 10 words from our vocabulary:\n",
    "list(cv.vocabulary_.keys())[:10]\n"
   ]
  },
  {
   "cell_type": "code",
   "execution_count": 25,
   "metadata": {},
   "outputs": [
    {
     "name": "stdout",
     "output_type": "stream",
     "text": [
      "array([5.56954301, 5.56954301, 5.56954301, ..., 5.56954301, 3.26695792,\n",
      "       1.09220619])\n"
     ]
    }
   ],
   "source": [
    "tfidf_transformer = TfidfTransformer(smooth_idf=True, use_idf=True)\n",
    "tfidf_transformer.fit(word_count_vector)\n",
    "\n",
    "# Add pretty printer:\n",
    "pp = pprint.PrettyPrinter(indent=4)\n",
    "\n",
    "# Look at the IDF values:\n",
    "pp.pprint(tfidf_transformer.idf_)\n"
   ]
  },
  {
   "cell_type": "code",
   "execution_count": 26,
   "metadata": {},
   "outputs": [],
   "source": [
    "# Sorts the values in the vector while preserving the column index\n",
    "def sort_coo(coo_matrix):\n",
    "    tuples = zip(coo_matrix.col, coo_matrix.data)\n",
    "    return sorted(tuples, key=lambda x: (x[1], x[0]), reverse=True)\n",
    "\n",
    "\n",
    "def extract_top_n_from_vector(feature_names, sorted_items, topn=10):\n",
    "    \"\"\"get the feature names and tf-idf score of top n items\"\"\"\n",
    "\n",
    "    # Use only topn items from vector\n",
    "    sorted_items = sorted_items[:topn]\n",
    "\n",
    "    score_vals = []\n",
    "    feature_vals = []\n",
    "\n",
    "    for idx, score in sorted_items:\n",
    "        fname = feature_names[idx]\n",
    "\n",
    "        # Keep track of feature name and its corresponding score\n",
    "        score_vals.append(round(score, 3))\n",
    "        feature_vals.append(fname)\n",
    "\n",
    "    # Create a tuples of feature,score\n",
    "    # results = zip(feature_vals,score_vals)\n",
    "    results = {}\n",
    "    for idx in range(len(feature_vals)):\n",
    "        results[feature_vals[idx]] = score_vals[idx]\n",
    "\n",
    "    return results\n"
   ]
  },
  {
   "cell_type": "code",
   "execution_count": 27,
   "metadata": {},
   "outputs": [
    {
     "data": {
      "text/html": [
       "<div>\n",
       "<style scoped>\n",
       "    .dataframe tbody tr th:only-of-type {\n",
       "        vertical-align: middle;\n",
       "    }\n",
       "\n",
       "    .dataframe tbody tr th {\n",
       "        vertical-align: top;\n",
       "    }\n",
       "\n",
       "    .dataframe thead th {\n",
       "        text-align: right;\n",
       "    }\n",
       "</style>\n",
       "<table border=\"1\" class=\"dataframe\">\n",
       "  <thead>\n",
       "    <tr style=\"text-align: right;\">\n",
       "      <th></th>\n",
       "      <th>doc</th>\n",
       "      <th>keywords</th>\n",
       "    </tr>\n",
       "  </thead>\n",
       "  <tbody>\n",
       "    <tr>\n",
       "      <th>0</th>\n",
       "      <td>udlændingestyrels afgørelse vedrørende mandlig...</td>\n",
       "      <td>{'myanmar': 0.394, 'rohingya': 0.295, 'ansøger...</td>\n",
       "    </tr>\n",
       "    <tr>\n",
       "      <th>1</th>\n",
       "      <td>udlændingestyrels afgørelse vedrørende mandlig...</td>\n",
       "      <td>{'ansøger': 0.423, 'algeri': 0.313, 'algerium'...</td>\n",
       "    </tr>\n",
       "    <tr>\n",
       "      <th>2</th>\n",
       "      <td>udlændingestyrels afgørelse vedrørende mandlig...</td>\n",
       "      <td>{'ansøger': 0.375, 'sudan': 0.292, 'sydsudan':...</td>\n",
       "    </tr>\n",
       "    <tr>\n",
       "      <th>3</th>\n",
       "      <td>udlændingestyrels afgørelse vedrørende mandlig...</td>\n",
       "      <td>{'somalia': 0.437, 'alshabaab': 0.421, 'kenya'...</td>\n",
       "    </tr>\n",
       "    <tr>\n",
       "      <th>4</th>\n",
       "      <td>hjemvise udlændingestyrels afgørelse vedrørend...</td>\n",
       "      <td>{'eritreisk': 0.406, 'eritrea': 0.356, 'etiopi...</td>\n",
       "    </tr>\n",
       "    <tr>\n",
       "      <th>...</th>\n",
       "      <td>...</td>\n",
       "      <td>...</td>\n",
       "    </tr>\n",
       "    <tr>\n",
       "      <th>187</th>\n",
       "      <td>udlændingestyrels afgørelse vedrørende mandlig...</td>\n",
       "      <td>{'fader': 0.503, 'liyu': 0.345, 'police': 0.29...</td>\n",
       "    </tr>\n",
       "    <tr>\n",
       "      <th>188</th>\n",
       "      <td>udlændingestyrels afgørelse vedrørende mandlig...</td>\n",
       "      <td>{'onlf': 0.423, 'ansøger': 0.314, 'police': 0....</td>\n",
       "    </tr>\n",
       "    <tr>\n",
       "      <th>189</th>\n",
       "      <td>hjemvise udlændingestyrels afgørelse vedrørend...</td>\n",
       "      <td>{'burde': 0.459, 'hjemvise': 0.246, 'etiopien'...</td>\n",
       "    </tr>\n",
       "    <tr>\n",
       "      <th>190</th>\n",
       "      <td>udlændingestyrels afgørelse vedrørende mandlig...</td>\n",
       "      <td>{'soldat': 0.533, 'ansøger': 0.219, 'burmesisk...</td>\n",
       "    </tr>\n",
       "    <tr>\n",
       "      <th>191</th>\n",
       "      <td>udlændingestyrels afgørelse vedrørende mandlig...</td>\n",
       "      <td>{'algeri': 0.317, 'algerium': 0.303, 'ukendt':...</td>\n",
       "    </tr>\n",
       "  </tbody>\n",
       "</table>\n",
       "<p>192 rows × 2 columns</p>\n",
       "</div>"
      ],
      "text/plain": [
       "                                                   doc  \\\n",
       "0    udlændingestyrels afgørelse vedrørende mandlig...   \n",
       "1    udlændingestyrels afgørelse vedrørende mandlig...   \n",
       "2    udlændingestyrels afgørelse vedrørende mandlig...   \n",
       "3    udlændingestyrels afgørelse vedrørende mandlig...   \n",
       "4    hjemvise udlændingestyrels afgørelse vedrørend...   \n",
       "..                                                 ...   \n",
       "187  udlændingestyrels afgørelse vedrørende mandlig...   \n",
       "188  udlændingestyrels afgørelse vedrørende mandlig...   \n",
       "189  hjemvise udlændingestyrels afgørelse vedrørend...   \n",
       "190  udlændingestyrels afgørelse vedrørende mandlig...   \n",
       "191  udlændingestyrels afgørelse vedrørende mandlig...   \n",
       "\n",
       "                                              keywords  \n",
       "0    {'myanmar': 0.394, 'rohingya': 0.295, 'ansøger...  \n",
       "1    {'ansøger': 0.423, 'algeri': 0.313, 'algerium'...  \n",
       "2    {'ansøger': 0.375, 'sudan': 0.292, 'sydsudan':...  \n",
       "3    {'somalia': 0.437, 'alshabaab': 0.421, 'kenya'...  \n",
       "4    {'eritreisk': 0.406, 'eritrea': 0.356, 'etiopi...  \n",
       "..                                                 ...  \n",
       "187  {'fader': 0.503, 'liyu': 0.345, 'police': 0.29...  \n",
       "188  {'onlf': 0.423, 'ansøger': 0.314, 'police': 0....  \n",
       "189  {'burde': 0.459, 'hjemvise': 0.246, 'etiopien'...  \n",
       "190  {'soldat': 0.533, 'ansøger': 0.219, 'burmesisk...  \n",
       "191  {'algeri': 0.317, 'algerium': 0.303, 'ukendt':...  \n",
       "\n",
       "[192 rows x 2 columns]"
      ]
     },
     "execution_count": 27,
     "metadata": {},
     "output_type": "execute_result"
    }
   ],
   "source": [
    "# We only need to do this once:\n",
    "feature_names = cv.get_feature_names_out()\n",
    "\n",
    "# Generate tf-idf for all documents in list. docs has 192 documents:\n",
    "tf_idf_vector = tfidf_transformer.transform(cv.transform(docs))\n",
    "\n",
    "results = []\n",
    "for i in range(tf_idf_vector.shape[0]):\n",
    "\n",
    "    # get vector for a single document\n",
    "    curr_vector = tf_idf_vector[i]\n",
    "\n",
    "    # sort the tf-idf vector by descending order of scores\n",
    "    sorted_items = sort_coo(curr_vector.tocoo())\n",
    "\n",
    "    # extract only the top n; n here is 10\n",
    "    keywords = extract_top_n_from_vector(feature_names, sorted_items, 10)\n",
    "\n",
    "    results.append(keywords)\n",
    "\n",
    "df_tfIDF = pd.DataFrame(zip(docs, results), columns=['doc', 'keywords'])\n",
    "# df_tfIDF.shape\n",
    "df_tfIDF\n"
   ]
  },
  {
   "cell_type": "code",
   "execution_count": 28,
   "metadata": {},
   "outputs": [
    {
     "name": "stdout",
     "output_type": "stream",
     "text": [
      "[   ('klager', 0.827),\n",
      "    ('officer', 0.608),\n",
      "    ('taliban', 0.553),\n",
      "    ('soldat', 0.533),\n",
      "    ('libyen', 0.496),\n",
      "    ('police', 0.49),\n",
      "    ('liyu', 0.49),\n",
      "    ('tjetjenie', 0.47),\n",
      "    ('senegal', 0.463),\n",
      "    ('sierra', 0.46),\n",
      "    ('leone', 0.46),\n",
      "    ('burde', 0.459),\n",
      "    ('israel', 0.457),\n",
      "    ('ægtefælle', 0.449),\n",
      "    ('somalia', 0.437),\n",
      "    ('libysk', 0.435),\n",
      "    ('hær', 0.433),\n",
      "    ('holland', 0.426),\n",
      "    ('ghanesisk', 0.423),\n",
      "    ('bøde', 0.423)]\n"
     ]
    }
   ],
   "source": [
    "# Create a dictionary from results list of dictionaries:\n",
    "my_dict = dict(ChainMap(*results))\n",
    "\n",
    "c = Counter(my_dict)\n",
    "\n",
    "# Returns top 20 most common pairs:\n",
    "most_common = c.most_common(20)\n",
    "\n",
    "# For getting the keys from `most_common`:\n",
    "my_keys = [key for key, val in most_common]\n",
    "\n",
    "pp.pprint(most_common)\n"
   ]
  },
  {
   "cell_type": "markdown",
   "metadata": {},
   "source": [
    "# Topic Modelling:"
   ]
  },
  {
   "cell_type": "markdown",
   "metadata": {},
   "source": [
    "## Latent Dirichlet Allocation (LDA):"
   ]
  },
  {
   "cell_type": "markdown",
   "metadata": {},
   "source": [
    "For a given corpus, a topic model estimates a topic distribution for each of its documents (i.e., a a distribution of weights over a set of topics), where a topic is itself a distribution of weights over the vocabulary of the corpus. The most weighted words of each topic are syntactically and/or semantically related, given that collection of documents. This means that two distinct topics share the exact same vocabulary, but have different weight distributions."
   ]
  },
  {
   "cell_type": "code",
   "execution_count": 29,
   "metadata": {},
   "outputs": [],
   "source": [
    "# Utility function to display topics produced by Topic Modelling\n",
    "def display_topics(model, features, num_top_words=5):\n",
    "    for topic, word_vector in enumerate(model.components_):\n",
    "        total = word_vector.sum()\n",
    "        largest = word_vector.argsort()[::-1] # inverts sort order\n",
    "        print(\"\\nTopic %02d\" % topic)\n",
    "        for i in range(0, num_top_words):\n",
    "            print(\" %s (%2.2f)\" % (features[largest[i]], word_vector[largest[i]]*100.0/total))"
   ]
  },
  {
   "cell_type": "code",
   "execution_count": 30,
   "metadata": {},
   "outputs": [],
   "source": [
    "count_text_vectorizer = CountVectorizer(stop_words=STOPWORDS_DANISH, min_df=2, max_df=0.7)\n",
    "count_text_vectors = count_text_vectorizer.fit_transform(df['tokens_joined'])"
   ]
  },
  {
   "cell_type": "markdown",
   "metadata": {},
   "source": [
    "### Coherence Score:\n",
    "\n",
    "Compute the coherence score is essentially a measure of how similar the words assigned to each topic are in terms of semantic value. The higher the score, the better.\n",
    "\n",
    "Compute the coherence score for LDA models with 2 to 10 topics and see which number of topics leads to the highest coherence score.\n",
    "\n",
    "Topic coherence in essence measures the human interpretability of a topic model. Traditionally perplexity has been used to evaluate topic models however this does not correlate with human annotations at times. Topic coherence is another way to evaluate topic models with a much higher guarantee on human interpretability. Thus this can be used to compare different topic models among many other use-cases."
   ]
  },
  {
   "cell_type": "code",
   "execution_count": 31,
   "metadata": {},
   "outputs": [
    {
     "name": "stdout",
     "output_type": "stream",
     "text": [
      "The coherence score (0.78) is highest with 10 topics.\n"
     ]
    }
   ],
   "source": [
    "best_num = float('NaN')\n",
    "best_score = 0\n",
    "\n",
    "# Compute the coherence scores for each number of topics\n",
    "for i in range(2, 11):\n",
    "\n",
    "    # Create lda model with i topics\n",
    "    lda_text_model = LatentDirichletAllocation(n_components=i, random_state=42)\n",
    "    W_lda_text_matrix = lda_text_model.fit_transform(count_text_vectors)\n",
    "    H_lda_text_matrix = lda_text_model.components_\n",
    "\n",
    "    # Obtain the coherence score\n",
    "    coherence_model = metric_coherence_gensim(measure='c_v', \n",
    "                        top_n=25, \n",
    "                        topic_word_distrib=H_lda_text_matrix, \n",
    "                        dtm=W_lda_text_matrix, \n",
    "                        vocab=np.array([x for x in count_text_vectorizer.vocabulary_.keys()]), \n",
    "                        texts=df['tokens'])\n",
    "    coherence_score = np.around(coherence_model, 2)\n",
    "    for score in coherence_score:\n",
    "        if score > best_score:\n",
    "            best_num = i\n",
    "            best_score = score\n",
    "\n",
    "print(f'The coherence score ({best_score}) is highest with {best_num} topics.')"
   ]
  },
  {
   "cell_type": "markdown",
   "metadata": {},
   "source": [
    "Build the model and see the topics:"
   ]
  },
  {
   "cell_type": "code",
   "execution_count": 37,
   "metadata": {},
   "outputs": [],
   "source": [
    "lda_model = LatentDirichletAllocation(n_components=best_num, random_state=42)\n",
    "W_lda_model_matrix = lda_model.fit_transform(count_text_vectors)\n",
    "H_lda_model_matrix = lda_model.components_"
   ]
  },
  {
   "cell_type": "code",
   "execution_count": 38,
   "metadata": {},
   "outputs": [
    {
     "name": "stdout",
     "output_type": "stream",
     "text": [
      "\n",
      "Topic 00\n",
      " demonstration (1.48)\n",
      " bidoon (1.20)\n",
      " klager (1.17)\n",
      " deltage (1.05)\n",
      " oplysning (0.99)\n",
      "\n",
      "Topic 01\n",
      " ansøg (2.48)\n",
      " kvindelig (1.27)\n",
      " demonstration (1.14)\n",
      " bopæl (1.10)\n",
      " dag (0.91)\n"
     ]
    }
   ],
   "source": [
    "display_topics(lda_model, count_text_vectorizer.get_feature_names_out())"
   ]
  },
  {
   "cell_type": "markdown",
   "metadata": {},
   "source": [
    "Visualise the topics produced by LDA:"
   ]
  },
  {
   "cell_type": "code",
   "execution_count": 34,
   "metadata": {},
   "outputs": [
    {
     "name": "stderr",
     "output_type": "stream",
     "text": [
      "/Users/jnap/opt/anaconda3/lib/python3.9/site-packages/sklearn/utils/deprecation.py:87: FutureWarning: Function get_feature_names is deprecated; get_feature_names is deprecated in 1.0 and will be removed in 1.2. Please use get_feature_names_out instead.\n",
      "  warnings.warn(msg, category=FutureWarning)\n",
      "/Users/jnap/opt/anaconda3/lib/python3.9/site-packages/pyLDAvis/_prepare.py:246: FutureWarning: In a future version of pandas all arguments of DataFrame.drop except for the argument 'labels' will be keyword-only.\n",
      "  default_term_info = default_term_info.sort_values(\n",
      "/Users/jnap/opt/anaconda3/lib/python3.9/site-packages/past/builtins/misc.py:45: DeprecationWarning: the imp module is deprecated in favour of importlib; see the module's documentation for alternative uses\n",
      "  from imp import reload\n",
      "/Users/jnap/opt/anaconda3/lib/python3.9/site-packages/past/builtins/misc.py:45: DeprecationWarning: the imp module is deprecated in favour of importlib; see the module's documentation for alternative uses\n",
      "  from imp import reload\n",
      "/Users/jnap/opt/anaconda3/lib/python3.9/site-packages/past/builtins/misc.py:45: DeprecationWarning: the imp module is deprecated in favour of importlib; see the module's documentation for alternative uses\n",
      "  from imp import reload\n",
      "/Users/jnap/opt/anaconda3/lib/python3.9/site-packages/past/builtins/misc.py:45: DeprecationWarning: the imp module is deprecated in favour of importlib; see the module's documentation for alternative uses\n",
      "  from imp import reload\n"
     ]
    },
    {
     "data": {
      "text/html": [
       "\n",
       "<link rel=\"stylesheet\" type=\"text/css\" href=\"https://cdn.jsdelivr.net/gh/bmabey/pyLDAvis@3.3.1/pyLDAvis/js/ldavis.v1.0.0.css\">\n",
       "\n",
       "\n",
       "<div id=\"ldavis_el1974856927096802344371606\"></div>\n",
       "<script type=\"text/javascript\">\n",
       "\n",
       "var ldavis_el1974856927096802344371606_data = {\"mdsDat\": {\"x\": [0.05701059364401499, 0.08074075324680863, 0.21443897387472063, -0.11499024647210929, -0.11666161558659453, -0.024914903667986592, 0.016702190960564026, -0.13382195183945814, 0.06927539620581667, -0.04777919036577649], \"y\": [0.1000975815258324, -0.017243689952976968, -0.11356899419354219, -0.035367008103965314, -0.08280205304778589, 0.15285086797357855, 0.08572256549822176, -0.028188367694902152, 0.016901572589728027, -0.07840247459418818], \"topics\": [1, 2, 3, 4, 5, 6, 7, 8, 9, 10], \"cluster\": [1, 1, 1, 1, 1, 1, 1, 1, 1, 1], \"Freq\": [15.43963477005142, 6.240101948712312, 7.249660528632909, 2.467692430025184, 2.4997812195340736, 6.262682638092612, 13.324684992545032, 2.8016362939728645, 33.426178717539536, 10.287946460894057]}, \"tinfo\": {\"Term\": [\"klager\", \"ans\\u00f8g\", \"demonstration\", \"kvindelig\", \"divergere\", \"far\", \"\\u00e6gtef\\u00e6lle\", \"sl\\u00e5\", \"dag\", \"mor\", \"danmark\", \"mand\", \"eritrea\", \"bop\\u00e6l\", \"ans\\u00f8gere\", \"bror\", \"gang\", \"\\u00e6gtef\\u00e6ll\", \"\\u00e5r\", \"videre\", \"bidoon\", \"tage\", \"sommer\", \"opholdstilladelse\", \"oplysning\", \"oplysnings\", \"fremg\\u00e5\", \"angiveligt\", \"hjemland\", \"statsborger\", \"spise\", \"skabe\", \"utreis\", \"landinfo\", \"varet\\u00e6gtsf\\u00e6ngslet\", \"genindrejs\", \"aircondition\", \"ubet\\u00e6nkeligt\", \"bidoonbefolkning\", \"hjemmeh\\u00f8re\", \"grundl\\u00e6ggende\", \"of\", \"abdullah\", \"akhbar\", \"atallah\", \"varighed\", \"v\\u00e6sentligt\", \"b\\u00f8rne\", \"bedoonbefolkning\", \"vanskelig\", \"forhandling\", \"optr\\u00e6den\", \"umiddelbare\", \"savne\", \"group\", \"proteste\", \"small\", \"uoverensstemme\", \"forretningsord\", \"l\\u00e6gehj\\u00e6lp\", \"fulgtes\", \"fald\", \"fremviste\", \"generelt\", \"tilstr\\u00e6kkeligt\", \"elektricit\", \"dele\", \"oprindelse\", \"baggrundsoplysninge\", \"diskrimination\", \"anledning\", \"begrunde\", \"hvori\", \"ulovligt\", \"helt\", \"uds\\u00e6tte\", \"illegal\", \"\\u00f8strig\", \"oplysning\", \"forskelligt\", \"demonstration\", \"bidooner\", \"if\\u00f8lge\", \"f\\u00f8lge\", \"hver\", \"bem\\u00e6rke\", \"findes\", \"omst\\u00e6ndighed\", \"deltage\", \"s\\u00f8n\", \"imidlertid\", \"barn\", \"baggrund\", \"heraf\", \"overgreb\", \"hertil\", \"irak\", \"forbindelse\", \"ans\\u00f8g\", \"heller\", \"bidoon\", \"mor\", \"fremg\\u00e5\", \"komme\", \"sag\", \"kuwaitisk\", \"bop\\u00e6l\", \"far\", \"f\\u00f8re\", \"dokument\", \"opholdstilladelse\", \"ans\\u00f8gere\", \"mens\", \"generel\", \"gang\", \"herunder\", \"sammenfattende\", \"rest\", \"f\\u00e5r\", \"n\\u00e6romr\\u00e5de\", \"unders\\u00f8gels\", \"p\\u00e5f\\u00f8re\", \"forene\", \"emirat\", \"bahrain\", \"qatar\", \"arabien\", \"saudi\", \"dreng\", \"arbejdsplads\", \"\\u00f8jenskade\", \"mave\", \"aljahraomr\\u00e5de\", \"rum\", \"voldt\\u00e6gt\", \"episod\", \"hjemrejse\", \"hyrevogn\", \"prins\", \"stange\", \"\\u00f8jeblikkeligt\", \"p\\u00e5vise\", \"forlange\", \"disses\", \"m\\u00e6rke\", \"stadig\", \"politibetjent\", \"baggrundsoplysningerne\", \"arabic\", \"cder\", \"kn\\u00e6\", \"svigerfar\", \"gulf\", \"beliggende\", \"\\u00e6gtef\\u00e6ll\", \"tilg\\u00e6ngelighed\", \"skade\", \"hjem\", \"ryg\", \"hus\", \"arbejdsgiver\", \"k\\u00f8re\", \"henvende\", \"derefter\", \"m\\u00f8de\", \"tage\", \"bop\\u00e6l\", \"gang\", \"dag\", \"hjemme\", \"asylsamtale\", \"komme\", \"ans\\u00f8g\", \"\\u00e6gtef\\u00e6lle\", \"sted\", \"vende\", \"to\", \"mens\", \"s\\u00e5\", \"kuwaitisk\", \"politi\", \"anholde\", \"kvindelig\", \"samme\", \"ops\\u00f8ge\", \"ans\\u00f8gere\", \"bem\\u00e6rke\", \"oplysnings\", \"opholde\", \"barn\", \"fordi\", \"bar\", \"rohingya\", \"vriste\", \"comr\\u00e5den\", \"lytte\", \"filmoptagelse\", \"adskille\", \"avlingstid\", \"betjente\", \"efterstr\\u00e6be\", \"enkeltvis\", \"folke\", \"graviditet\", \"m\\u00e6ndene\", \"p\\u00e5kl\\u00e6dning\", \"seddel\", \"sparsomt\", \"tidligt\", \"underrette\", \"undslap\", \"yng\", \"comr\\u00e5d\", \"yderst\", \"bangladesh\", \"skjulested\", \"overs\\u00e6ttelse\", \"knap\", \"v\\u00e5ben\", \"familiemedlemme\", \"kigge\", \"kilometer\", \"gram\", \"ransagning\", \"medf\\u00f8re\", \"fremskaffe\", \"myanmar\", \"lokalomr\\u00e5d\", \"ransage\", \"oplysnings\", \"resultat\", \"motivsamta\", \"videre\", \"n\\u00e6vn\", \"fremlagt\", \"n\\u00e6vnsm\\u00f8de\", \"kvindelig\", \"hjemland\", \"angiveligt\", \"falsk\", \"ans\\u00f8g\", \"demonstration\", \"dokument\", \"bop\\u00e6l\", \"sandsynligg\\u00f8re\", \"asylsamtale\", \"hel\", \"bo\", \"\\u00e5r\", \"baggrund\", \"ans\\u00f8ge\", \"herefter\", \"navn\", \"omfattee\", \"f\\u00f8de\", \"indbyrdes\", \"to\", \"mor\", \"divergere\", \"pige\", \"biseksuel\", \"overnatning\", \"seksuelt\", \"bedstefar\", \"datere\", \"instruktion\", \"lyde\", \"messeng\", \"overh\\u00f8re\", \"udf\\u00f8rlig\", \"fods\", \"velhavende\", \"beskede\", \"homoseksuel\", \"whatsapp\", \"udlejer\", \"seksuel\", \"overtr\\u00e6delse\", \"tilsende\", \"\\u00e5rr\\u00e6kke\", \"telefonsamtale\", \"slettet\", \"restaurant\", \"indlede\", \"leje\", \"samv\\u00e6r\", \"d\\u00f8\", \"asylans\\u00f8gningsskema\", \"smide\", \"flertal\", \"fri\", \"syrisk\", \"mand\", \"ung\", \"kvinde\", \"syrien\", \"hvordan\", \"k\\u00e6mpe\", \"bolig\", \"ihjel\", \"asylans\\u00f8ger\", \"opdage\", \"sammen\", \"sprogtest\", \"\\u00e5r\", \"navn\", \"sandsynliggjore\", \"mor\", \"sl\\u00e5\", \"statsborger\", \"ans\\u00f8gere\", \"flygtningen\\u00e6vnet\", \"bo\", \"bidoon\", \"irak\", \"bror\", \"udl\\u00e6ndingestyrelse\", \"sandsynligg\\u00f8re\", \"fremg\\u00e5\", \"irakisk\", \"far\", \"hollandsk\", \"holland\", \"iran\", \"officer\", \"forlove\", \"frieri\", \"fange\", \"tr\\u00e6ne\", \"gifte\", \"algeri\", \"afholdelse\", \"frie\", \"udrejseomst\\u00e6ndighede\", \"anderledes\", \"traumatiserende\", \"istanbul\", \"slagsm\\u00e5l\", \"sverig\", \"algerium\", \"islamisk\", \"v\\u00e6rende\", \"desertere\", \"meddelelse\", \"damaskus\", \"politirapport\", \"virksomhed\", \"forevisning\", \"s\\u00e5r\", \"eksempelvis\", \"betjent\", \"udsat\", \"ben\\u00e6gtet\", \"ihjel\", \"n\\u00e6gte\", \"sl\\u00e5\", \"danmark\", \"syrien\", \"angiv\", \"sommer\", \"vurdere\", \"overgreb\", \"far\", \"mor\", \"fremg\\u00e5\", \"risikere\", \"n\\u00e6rmere\", \"uge\", \"oplysning\", \"gang\", \"ans\\u00f8gere\", \"politi\", \"dato\", \"herefter\", \"tre\", \"to\", \"f\\u00f8de\", \"flygtningen\\u00e6vnet\", \"hjemland\", \"komme\", \"tage\", \"omfattee\", \"husstande\", \"ipad\", \"najaf\", \"offentligg\\u00f8re\", \"kvarter\", \"knytte\", \"bagrund\", \"beskedent\", \"gadenumr\", \"isolere\", \"myndighedsops\\u00f8gning\", \"sanktione\", \"uforholdsm\\u00e6ssig\", \"offentlig\", \"forg\\u00e6ves\", \"overbevisning\", \"p\\u00e5st\\u00e5\", \"dertil\", \"lillebror\", \"bruse\", \"frag\\u00e5\", \"leveforhold\", \"ipade\", \"konsekvenes\", \"maskere\", \"tro\", \"hjem201899jahflygtningen\\u00e6vn\", \"overdrage\", \"gave\", \"blokke\", \"placering\", \"asylgrundlag\", \"fremh\\u00e6ve\", \"udl\\u00e6nding\", \"tysk\", \"p\\u00e5ber\\u00e5ber\", \"altid\", \"husnumm\", \"udl\\u00e6ndin\", \"n\\u00f8dvendig\", \"bed\\u00f8mmelse\", \"omfattet\", \"foreliggende\", \"bror\", \"p\\u00e5g\\u00e6ldende\", \"f\\u00f8lge\", \"begyndelse\", \"analfab\", \"rimelig\", \"tilsides\\u00e6tte\", \"ghana\", \"mor\", \"derudover\", \"s\\u00f8ge\", \"divergere\", \"kendskab\", \"angiveligt\", \"statsborger\", \"dato\", \"bo\", \"ligesom\", \"bidoon\", \"ans\\u00f8gere\", \"navn\", \"opholdstilladelse\", \"n\\u00e6rmere\", \"by\", \"sandsynligg\\u00f8re\", \"bem\\u00e6rke\", \"herunder\", \"dokument\", \"sandsynliggjore\", \"sag\", \"oplysning\", \"bop\\u00e6l\", \"svig\", \"belaste\", \"forl\\u00e6ngelse\", \"forl\\u00e6nge\", \"opslag\", \"tilsvarende\", \"n\\u00e6gtelse\", \"beskyttelse\", \"urigtig\", \"samtalereferaterne\", \"diwaniya\", \"bevidst\", \"sammenholde\", \"fornavn\", \"oprette\", \"asylrelevan\", \"identitetssp\\u00f8rgsm\\u00e5le\", \"profil\", \"italiensk\", \"p\\u00e5ber\\u00e5bt\", \"holdepunkte\", \"unhcr\", \"konsistent\", \"tilknytte\", \"belgien\", \"mobiludl\\u00e6sning\", \"opholdstilladels\", \"bruger\", \"kommentere\", \"lik\", \"profile\", \"asylsag\", \"bem\\u00e6rkelsesv\\u00e6rdigt\", \"opn\\u00e5\", \"sove\", \"klager\", \"rapport\", \"landinfos\", \"svigerinde\", \"tidlig\", \"advokat\", \"facebook\", \"\\u00e6gtef\\u00e6lle\", \"antage\", \"opholdstilladelse\", \"danmark\", \"pas\", \"klagere\", \"dansk\", \"fremg\\u00e5\", \"sag\", \"s\\u00f8ster\", \"barn\", \"hense\", \"efter\\u00e5r\", \"forskellig\", \"samme\", \"navn\", \"udl\\u00e6ndingestyrelse\", \"for\\u00e5r\", \"omst\\u00e6ndighed\", \"oplysning\", \"forekomme\", \"person\", \"m\\u00e5tte\", \"herunder\", \"bo\", \"herefter\", \"bror\", \"ans\\u00f8gere\", \"statsborger\", \"bidoon\", \"f\\u00f8re\", \"baggrund\", \"far\", \"isil\", \"burma\", \"burmesisk\", \"lejr\", \"kurder\", \"udsende\", \"v\\u00e6rnepligt\", \"voldsom\", \"soldat\", \"pal\\u00e6stinenser\", \"tilslutte\", \"skil\", \"indrejseforbud\", \"libanon\", \"\\u00e6gte\", \"parti\", \"liste\", \"militse\", \"udsendelse\", \"genoptage\", \"styrke\", \"libanesisk\", \"politiker\", \"samtidigt\", \"uretm\\u00e6ssigt\", \"k\\u00f8ret\\u00f8j\", \"anklaget\", \"gruppe\", \"bestemt\", \"drab\", \"traf\", \"klager\", \"syrien\", \"klagere\", \"nr\", \"klan\", \"flertal\", \"myanmar\", \"modtage\", \"syrisk\", \"\\u00f8nske\", \"tidspunkt\", \"tvinge\", \"medvirke\", \"tiltr\\u00e6de\", \"divergere\", \"opholdstilladelse\", \"vende\", \"meddele\", \"ukendt\", \"hjemland\", \"far\", \"tage\", \"ophold\", \"herefter\", \"n\\u00e6rmere\", \"sl\\u00e5\", \"hvorfor\", \"flygtningen\\u00e6vnet\", \"land\", \"\\u00e5r\", \"komme\", \"usikkert\", \"fremm\\u00f8d\", \"registreret\", \"fremm\\u00f8de\", \"n\\u00e6vnsbehandling\", \"kabd\", \"kaution\", \"ops\\u00f8gte\", \"sikkerhedstjenest\", \"arrangere\", \"blankt\", \"kl\", \"aflevere\", \"divergensen\", \"hoved\", \"feks\", \"fremover\", \"erkende\", \"persisk\", \"tilbrage\", \"opfyldt\", \"forts\\u00e6tte\", \"registere\", \"r\\u00e5be\", \"vandmelone\", \"skaffe\", \"mandelig\", \"underskrev\", \"registrering\", \"endnu\", \"l\\u00f8sladelse\", \"ans\\u00f8gers\", \"bidoons\", \"\\u00e6gtepar\", \"l\\u00f8slade\", \"slutning\", \"ans\\u00f8g\", \"deltage\", \"demonstration\", \"politistation\", \"papir\", \"gentage\", \"ven\", \"taima\", \"hvem\", \"kvindelig\", \"ans\\u00f8ge\", \"underskrive\", \"dag\", \"omkring\", \"bidoonere\", \"bidoon\", \"rettighed\", \"fysisk\", \"m\\u00e5ned\", \"divergere\", \"fordi\", \"f\\u00e6ngsel\", \"tilbageholde\", \"tre\", \"samt\", \"anholde\", \"l\\u00f8sladels\", \"kuwaitisk\", \"vinter\", \"samtale\", \"forbindelse\", \"bop\\u00e6l\", \"bidooner\", \"generel\", \"udl\\u00e6ndingestyrelse\", \"videre\", \"to\", \"bem\\u00e6rke\", \"oplysning\", \"angiveligt\", \"herunder\", \"gang\", \"sudan\", \"liyu\", \"police\", \"alshabaab\", \"etiopisk\", \"onlf\", \"somalia\", \"libysk\", \"h\\u00e6ndelse\", \"spanien\", \"ortodoks\", \"liberation\", \"f\\u00e6tre\", \"farfar\", \"marokkansk\", \"ogaden\", \"spion\", \"repr\\u00e6sentant\", \"tiger\", \"nationaltjeneste\", \"historie\", \"ansigt\", \"kopie\", \"in\", \"etiopien\", \"krig\", \"libyen\", \"beskylde\", \"bev\\u00e6gelse\", \"gaddafi\", \"eritrea\", \"eritreisk\", \"farbror\", \"fader\", \"d\\u00f8d\", \"tigrinya\", \"hvorfra\", \"oprindeligt\", \"idkort\", \"landsby\", \"far\", \"besvare\", \"flygte\", \"\\u00e5r\", \"for\\u00e6lder\", \"ans\\u00f8gere\", \"tale\", \"mand\", \"sl\\u00e5\", \"ihjel\", \"f\\u00f8de\", \"gang\", \"mor\", \"hvorefter\", \"statsborger\", \"tage\", \"komme\", \"dag\", \"opholde\", \"n\\u00e6vnsm\\u00f8de\", \"divergere\", \"bop\\u00e6l\", \"arbejde\", \"flygtningen\\u00e6vne\", \"bo\", \"oplysnings\", \"forbindelse\", \"fordi\", \"to\"], \"Freq\": [276.0, 708.0, 633.0, 348.0, 317.0, 286.0, 215.0, 136.0, 323.0, 207.0, 175.0, 98.0, 102.0, 352.0, 304.0, 195.0, 240.0, 83.0, 201.0, 184.0, 437.0, 177.0, 124.0, 227.0, 313.0, 131.0, 155.0, 233.0, 175.0, 186.0, 11.705426892999792, 9.770705214640033, 9.770702235965773, 9.770702235965576, 9.770702235965153, 9.770702235964748, 7.835857613300305, 6.868517580370083, 6.868516526695734, 5.9011278075556834, 5.901127637721609, 5.901123354347403, 5.901122959646441, 5.901122959646441, 5.901122959646441, 5.901102183430385, 5.901096706137732, 5.886542540807257, 5.787873563127489, 13.217105804171496, 4.93372980630288, 4.93372980630288, 4.93372980630288, 4.9337272355472095, 4.93372438786646, 4.93372438786646, 4.93372438786646, 4.933710893021076, 4.933637313937293, 4.933523137502202, 13.580151525136495, 23.231023949972624, 7.154532643767877, 17.064391118942286, 9.186181385549611, 7.831793574464147, 7.828762605946802, 11.019151005942101, 9.711696210682094, 9.659423202695928, 27.103271065466824, 21.260650029832608, 13.640315824870072, 10.612535203684363, 20.34039696454745, 68.88111708227416, 15.48265562515927, 14.554308134370261, 96.0132635444472, 27.542907040732505, 147.06267222484814, 72.88078430031493, 30.623606457419566, 54.34213061924823, 30.85528822347777, 55.104861117589785, 18.82360809237914, 35.10571249804693, 77.70126796275703, 27.765588107278944, 29.11781236842479, 51.62513410096626, 48.902533756253156, 25.911350064211668, 46.26362869244522, 30.414498350887975, 36.30327944819429, 46.68173356110094, 85.57329662946427, 32.6302300242699, 63.19656192816731, 43.97308018580261, 38.17156355795956, 45.185453908458, 41.784978987015116, 43.472097714230756, 50.75008253236678, 44.66229489381597, 37.356289684847, 38.681061065758435, 37.77606740218559, 39.05620479731303, 34.38531231404379, 33.986832292496885, 35.132614647343516, 34.263902532311796, 10.280558346953859, 8.495907136015868, 6.62869598570873, 5.5574025543447085, 4.655639357338838, 3.8278759164269562, 3.8150671288059543, 3.8150321812381054, 3.814984336775013, 3.8149678117130206, 3.8149275250055013, 3.814913237799111, 11.742056000115118, 10.979548664167233, 2.8942476969039537, 2.8942364116395405, 2.894233975614497, 2.894209804681804, 2.894159018464439, 9.334409594738334, 1.960618890967721, 1.960618890967721, 1.960618890967721, 1.960618890967721, 1.960618890967721, 1.9606081274297034, 1.9605875461542799, 1.9605840788895599, 1.9605736910525056, 1.9605687744742708, 3.827783730543773, 3.8277748854937697, 8.845665502399822, 5.695139994067272, 3.827877929897002, 9.231326764011728, 9.715156357284602, 3.8277670576276304, 44.39608107274501, 4.314452861424425, 7.353228064679887, 42.83463926258745, 6.8858870495054765, 19.69324902300884, 13.217613572567783, 16.839541344047877, 10.452090155891748, 15.986976950633776, 22.91171130294824, 39.3298221115313, 54.505524977480555, 42.48566067168997, 45.26889035183291, 10.5020051358419, 27.602507240442424, 35.515412078855455, 62.50666189343973, 31.23125379884368, 22.310773509492275, 13.774888220687044, 28.032501207837413, 23.992925094925145, 20.50241413247956, 25.972844244945737, 21.20629196913931, 21.078270530884613, 26.535319619379344, 19.06145398871531, 15.814964961162497, 22.812227730174957, 19.036082284097844, 17.003724821592872, 17.347917641866378, 16.223566831364725, 16.063453680270282, 25.465258574868706, 15.128661938392428, 10.430417356131475, 9.490737928729317, 9.49073358284307, 9.49071305465515, 9.490702401314095, 8.551063469253634, 8.551063469253634, 8.551063469253634, 8.551063469253634, 8.551063469253634, 8.551063469253634, 8.551063469253634, 8.551063469253634, 8.551063469253634, 8.551063469253634, 8.551063469253634, 8.551063469253634, 8.551063469253634, 8.551063469253634, 7.611383703346852, 17.008154795654626, 7.845879521257675, 8.546566073000658, 8.546559275220682, 8.877899311282672, 18.284873020018047, 2.9129535766016192, 8.551063855801585, 9.369464208288209, 17.008166568480092, 14.080120749027977, 20.038306636287377, 16.732237371433936, 16.560005651549996, 16.81421308556665, 24.164194122325995, 46.392062693335085, 26.06186570056438, 29.070828543438896, 51.58599333742727, 15.976714311441995, 17.320374940039514, 29.35375940409426, 62.7130785024288, 39.39421530456807, 44.394730879807234, 29.02758781016805, 72.13717640308151, 68.17131745034703, 36.23941982895616, 44.97547071919966, 29.516945294092697, 28.18413066396727, 20.974140786350368, 30.97996383475256, 28.975656198557864, 29.228358808615486, 28.224351351394922, 24.95093041989124, 24.403233414908676, 20.738056972618622, 20.913968729056172, 19.249555788692327, 21.281384821097802, 20.566791562482823, 20.57033378038212, 5.099677267394617, 2.591639975788449, 2.5916257155165243, 11.722087340662558, 1.7556327460145547, 1.755632746014555, 1.7556327460145547, 1.7556327460145547, 1.7556327460145547, 1.7556327460145547, 1.7556327460145547, 1.7555817865555492, 1.7555320304011288, 3.427665184596669, 5.632333098184165, 2.5916312794358642, 2.5916528018521388, 5.826054591229263, 1.7552242422719138, 1.7556393068522274, 1.7556360298722782, 1.755633782830327, 1.755633286736542, 3.4276669718724673, 4.224294520863087, 2.591460380289323, 2.485810154364656, 2.749077942526255, 2.5916530128788744, 2.5916508816152106, 11.787818437006399, 5.935712446505268, 14.457198985729207, 24.659124570995, 4.2636894782264445, 10.176600502840117, 9.279796584619975, 9.777710977205437, 3.427669442063216, 5.003601069596345, 8.945525254347496, 6.859683952021146, 3.3667597226064134, 11.194295759864945, 5.353162537260418, 12.074062595321722, 11.193258949244594, 9.023073854440067, 9.636583637899934, 8.303715143443837, 8.986863131315477, 9.734780097692393, 7.720878606047117, 8.324443337776653, 9.442542445852585, 6.598794538025055, 7.245895771317886, 7.229287844221953, 6.712963282752862, 6.386012059879264, 5.91363576646423, 5.854497417875347, 7.703351925884287, 6.856842175709438, 11.881106445248465, 18.708199515159183, 3.4707458989508893, 3.470743293161574, 2.6242256601013123, 2.6241908885506637, 7.7033713080535815, 5.018316209740447, 1.7776967701087856, 1.777695818491471, 1.7776925648517228, 1.77769020927611, 1.7776593725192187, 1.7776571397376486, 1.7776548535221943, 3.442293907563881, 5.0183223020911, 2.6241889788724273, 2.624223887420784, 2.624236356775626, 2.624225440358835, 3.418466698086401, 4.317274935440475, 1.77769267044504, 1.777706615549911, 1.7776980487372733, 1.777658204015057, 3.09617317526326, 3.262747363066954, 4.227158116006466, 14.248686049726944, 6.574865380600696, 16.64087836334473, 17.455785339745063, 7.360081782270208, 5.163802048827007, 11.891401392194613, 6.508028257355032, 12.83318375173786, 14.297689237242075, 12.205652049848535, 10.394265854387283, 6.344480049702878, 7.922452158910144, 6.482693808696165, 12.020121355781283, 10.703508275462347, 11.43197610256502, 8.88937010624772, 7.044527304454703, 9.025363176112036, 8.128577197631166, 8.968684138240976, 7.675117495235915, 7.504847767960313, 7.42299371026984, 7.672161139218832, 6.602185738962444, 6.52244926126112, 4.928713872303183, 3.962300474468119, 3.962264936207629, 3.962231244973627, 3.962190124741504, 12.515009442450452, 2.995881855291332, 2.995881855291332, 2.995881855291332, 2.995881855291331, 2.995881855291332, 2.9958818552913313, 2.995881855291332, 2.99587476545448, 2.9958617512373427, 2.9958618118923583, 8.668440049283157, 9.706299062598934, 7.549049453310503, 2.029470974705281, 2.029470974705281, 2.029470974705281, 2.0294709747052804, 2.0294686308401744, 2.0294686308401744, 2.0294686308401744, 2.029468275490586, 2.029457967148017, 2.0294535194553225, 2.0294210344948636, 3.949629103139636, 20.49799780354322, 6.96695268854497, 39.84653956848426, 7.4082314650435075, 22.165021412348885, 6.693025695081267, 6.74225001451253, 15.855243054130815, 18.412534973139817, 17.95678671624424, 19.877616321399348, 23.07650043977271, 50.202716075041664, 18.51938236423698, 43.86622593267201, 16.11074639589769, 11.034831109173336, 8.795259780510177, 13.812095030804677, 6.861536427304536, 37.98544421058833, 12.738997650817298, 21.975562850978775, 43.95982105574892, 20.76220317376211, 33.949150353650154, 29.75492020342459, 17.200620977116717, 29.481395076119338, 21.906071286985505, 39.80904931934413, 33.470832710187025, 28.99254398047817, 26.948325548415962, 17.437462973026232, 18.613212887417795, 21.519491089877473, 22.621683562266334, 22.858713811737175, 22.89213684948517, 20.877035923613963, 21.654253099890283, 21.9315561280413, 18.56426056021854, 25.21353169022698, 13.118459740553611, 13.118452463728275, 11.256552282117402, 10.327310630615814, 9.396910207901161, 9.396903096465905, 9.396842239250358, 9.3967209777461, 7.5361277831899605, 7.536127781649212, 7.536075559371207, 6.605726998367461, 13.118443237610363, 5.675358849055554, 5.67535730500005, 5.67534049935106, 17.53382088204178, 4.744977099445502, 4.744958370071348, 4.7449572741780335, 4.744897679749336, 4.744882917808583, 4.711440967156986, 8.46650494408499, 3.8145953667117367, 3.8145953667117367, 3.814594479493535, 3.814594479493535, 3.814594479493535, 7.529693223719161, 13.772731948732892, 19.412462383770556, 33.201702686579075, 12.188030700907204, 184.0516841476481, 11.488205983922962, 11.488189665819167, 10.806263893234073, 23.841722189240873, 10.612353406919514, 14.114473190298538, 99.55513565024346, 14.398724661767412, 95.15013497977027, 69.76881143374088, 36.29449816488582, 19.8276559487571, 37.33570384749088, 55.644432813901446, 66.55319427258024, 31.944106375273986, 59.52971735193476, 23.994423302119557, 42.18210211986644, 22.736198421477738, 41.6900768835798, 53.20430961529211, 49.605437786399655, 38.59035597259136, 32.96065507195288, 56.55715891843264, 30.134459072032087, 34.818709202788355, 35.68694979559367, 41.645775169769436, 41.50866434139459, 39.70710968927029, 38.80875010327198, 45.537864853196695, 36.65222846884211, 46.71194004354431, 34.52758108754893, 33.516359550068195, 32.767081440259894, 13.694537853090614, 7.740391481375631, 5.188614617809608, 5.188574123994501, 7.593503644350785, 6.8889365949656085, 2.6368376651676657, 2.636773550241223, 9.441630476816936, 4.337978310549403, 4.338049470674431, 1.7862028592643229, 1.7861929910516776, 14.545184512162514, 4.338005027707359, 4.338004978841022, 2.636843392964058, 2.6368419850385036, 2.6108003211359176, 2.636824433768772, 3.4874348099984975, 2.6368403475018454, 1.786251077084257, 1.7862474836645508, 1.7862525467971597, 1.7862471430423226, 1.7862477492324789, 5.722444615731695, 8.591015865776345, 2.100299371694646, 2.541608087292163, 92.1853936479857, 13.078955290444581, 11.813766917018464, 9.347999783602573, 2.813373812832258, 10.073813719754392, 6.444829719363631, 6.376558465675128, 8.817715393577167, 7.378317620895608, 9.97719229656991, 5.363884576483403, 3.953415403195768, 4.338041990542901, 13.382935119172908, 11.672984990051754, 6.508551955692616, 8.320466127744517, 7.134884368636329, 9.148725293660625, 9.761966251960883, 8.452882434912402, 6.644304424927806, 8.16417843862862, 6.889825448781683, 7.307252303015417, 6.640280881186828, 6.942021395575411, 6.670931089719989, 6.707308423869725, 6.7023207155655795, 11.986957302732424, 10.99633977438459, 10.004384830827222, 9.015014032604583, 8.02435044983944, 8.024345935746119, 8.024310200709149, 8.024271083684491, 12.396509463009606, 9.683555846495706, 7.033643509315843, 7.033534644757996, 6.987419837224222, 6.98211405703561, 11.29351143191411, 6.043010958312526, 6.043005976156292, 6.0429994793347, 6.042967469708362, 6.0429179437916005, 6.042892115883988, 6.042859913215472, 6.035901023130514, 10.29818143553028, 5.973981271071169, 16.9920063591413, 5.052358004016145, 5.05234514558186, 5.05233822486982, 5.052330930856279, 53.91998781581417, 42.626523943934664, 14.959433430690584, 35.73751532710659, 85.51127132473827, 23.154115706863976, 465.54739064824963, 272.71939448606025, 393.8767853084642, 23.24602036055089, 17.9897131318091, 12.88139501878679, 65.66265363883343, 24.525266691624836, 20.796681763737602, 209.7020410622609, 120.272527450024, 35.220462323367556, 188.2148582459204, 88.81543266156045, 50.32076948997174, 236.98690714472812, 120.70006947012948, 32.399295137302815, 91.02317222462415, 161.1191970258939, 123.23489114807226, 78.27774137625882, 100.58502739402245, 78.2683014690923, 69.7725692937099, 85.62864607820879, 40.87678057981636, 106.92794962819721, 58.41367770926502, 65.30585872411102, 94.91580502964253, 126.55195753662133, 96.64811332653935, 76.76875982374784, 89.56815190417252, 80.47249810895622, 79.38327874253146, 76.01738263958023, 91.53230438530868, 81.29905301612355, 74.68167904321339, 76.06806708234765, 43.01227463494758, 21.33853440220723, 20.37298952853097, 18.441842673804565, 13.593008719477808, 12.648634268398544, 13.55600504722197, 5.8898206026144635, 5.8898027477881305, 5.88978243991767, 5.809370417606361, 4.924272718789769, 4.924260197788499, 4.923791472273569, 3.9587327191201798, 3.9587320649106195, 3.9587300650243122, 3.958726926209765, 3.958723312988343, 3.958716801949157, 3.9587011572499415, 3.9586835102853644, 3.9586835102853644, 3.9586624213889725, 30.04595173245476, 8.55867271269815, 18.356327022168134, 9.046286521676269, 2.9931886979469553, 2.9931877036772376, 78.55904533214462, 20.45827393091753, 20.066831413786254, 22.812130985978346, 16.064928062147708, 10.162010989911861, 8.0213117998249, 8.054635197555804, 11.756560940322268, 14.94218943789568, 79.33597328500998, 5.631978177058626, 30.494000604663313, 54.707671607349525, 23.924039130603393, 68.65407674332532, 33.249405068527615, 31.025021877196608, 37.88809885275681, 23.213199426557598, 34.55316360207844, 46.253818503391045, 41.36298767835421, 27.829791142564606, 38.37008865777205, 36.06744155551737, 41.01416977467487, 44.47569729848215, 34.002511887375825, 24.54755653219846, 36.77902381810698, 32.070681373958145, 25.498251053179406, 27.40051078296914, 28.026612376145323, 24.93429112596418, 25.443780422002806, 25.556710302363246, 24.595753979202335], \"Total\": [276.0, 708.0, 633.0, 348.0, 317.0, 286.0, 215.0, 136.0, 323.0, 207.0, 175.0, 98.0, 102.0, 352.0, 304.0, 195.0, 240.0, 83.0, 201.0, 184.0, 437.0, 177.0, 124.0, 227.0, 313.0, 131.0, 155.0, 233.0, 175.0, 186.0, 12.531456796498432, 10.596664260453785, 10.596664250187166, 10.596664250187159, 10.59666425018714, 10.596664250187127, 8.661866806619392, 7.694470527761663, 7.694470810984246, 6.727072813745738, 6.727072807817626, 6.727072805214572, 6.727072790114384, 6.727072790114384, 6.727072790114384, 6.72707254070073, 6.727072212024926, 6.726514838127299, 6.722740320294364, 15.380458866596749, 5.759674812494782, 5.759674812494782, 5.759674812494782, 5.759674809881622, 5.759674802114349, 5.759674802114349, 5.759674802114349, 5.75967484779473, 5.759670137607548, 5.759673402852063, 16.331201285757352, 29.87237353286999, 8.635801873629104, 22.90470469071736, 11.504689208242427, 9.652627968131169, 9.652694633453192, 14.430531934220484, 12.52851069887678, 12.580662940840567, 42.75549059459078, 32.21873071168745, 19.211334782240353, 14.350442959886553, 34.767849831825814, 186.01298703231853, 25.04472884785713, 23.134096462489467, 313.3107320952973, 56.08234989021792, 633.1380745394807, 237.29763055910942, 71.34518070803679, 168.21214736483807, 72.71640100979204, 195.15655767137318, 35.75593962849206, 103.49864237197336, 400.08428656897183, 72.20711244104304, 78.40417879783499, 220.57176178514993, 209.54275579578731, 66.08327592209201, 197.57986297482182, 89.77357264669226, 126.64985218367829, 212.7902952746134, 708.8219020776612, 109.66510127887292, 437.5862658039407, 207.04855886776735, 155.12043868276848, 247.3415959042709, 206.72071439480885, 228.80617757535867, 352.9304154526167, 286.4537483392007, 182.78997707115934, 215.00259083922373, 227.0319231550591, 304.00507724562794, 171.71877600045568, 167.5088600736259, 240.15680088041498, 206.62131554026016, 11.19764832179169, 9.325344131589322, 7.458085857036909, 6.532256371792391, 5.594656501550815, 4.657198705781824, 4.657662141137205, 4.6576634052054775, 4.657665135759874, 4.657665733478329, 4.6576671906655, 4.657667707439767, 15.007637526101718, 14.103709075441248, 3.7235702292611172, 3.7235706451649375, 3.723570698316608, 3.7235678918072734, 3.723566672242814, 13.158856839842246, 2.789941772786756, 2.789941772786756, 2.789941772786756, 2.789941772786756, 2.789941772786756, 2.7899424542899074, 2.7899428960413055, 2.789943463911193, 2.789942416942468, 2.7899435199088405, 5.503726173453387, 5.503728142693433, 13.180433154532862, 8.458268681374902, 5.622743394507594, 14.233729523301621, 15.083779482988696, 5.647856465424887, 83.76460561329029, 6.6087927899681045, 12.367117142871358, 117.34429233410535, 12.288077745725856, 51.321033224730364, 31.06256419091369, 43.818685495086356, 22.627419949344166, 41.970979512426354, 79.06686725204443, 177.29739562695474, 352.9304154526167, 240.15680088041498, 323.3637581161436, 26.546447524444492, 146.45412840959102, 247.3415959042709, 708.8219020776612, 215.97019953521038, 113.67522905928172, 46.93778214601643, 209.4133082407777, 171.71877600045568, 127.49287729487432, 228.80617757535867, 160.3154888651747, 157.84516161312877, 348.0369396413341, 143.9669452812048, 77.52872379807117, 304.00507724562794, 195.15655767137318, 131.00213077643394, 173.29493074081768, 220.57176178514993, 232.6056284429918, 26.293977385452738, 15.957518334801255, 11.259137339577396, 10.319459837746663, 10.319460173390695, 10.31946105817467, 10.319460384118408, 9.379782333341977, 9.379782333341977, 9.379782333341977, 9.379782333341977, 9.379782333341977, 9.379782333341977, 9.379782333341977, 9.379782333341977, 9.379782333341977, 9.379782333341977, 9.379782333341977, 9.379782333341977, 9.379782333341977, 9.379782333341977, 8.440104831191265, 19.733686118151823, 9.418002073979915, 10.370687852662423, 10.370685253200625, 11.303312258372209, 23.416840534248376, 3.7417181128791817, 11.072833293213224, 12.152716603044373, 22.404961366158833, 18.48673580561376, 28.280058540469327, 23.601403160515336, 23.74855376819502, 24.58366146452222, 44.027665271504745, 131.00213077643394, 54.79704492936979, 66.50333837292496, 184.2844831952808, 26.24893381956012, 32.74476678097753, 84.93219182308438, 348.0369396413341, 175.34613647477846, 233.9407410248358, 105.00154445252758, 708.8219020776612, 633.1380745394807, 215.00259083922373, 352.9304154526167, 161.68792475103592, 146.45412840959102, 80.3212615213771, 226.8192735366375, 201.82786947504286, 209.54275579578731, 188.96316925310347, 206.61553915808008, 242.39040071704272, 109.13637791532926, 139.34935971105307, 71.56052940924985, 209.4133082407777, 207.04855886776735, 317.76620013746754, 5.938781368018054, 3.4307327993972425, 3.430734931390943, 17.016012194168816, 2.594715992954145, 2.5947159929541455, 2.594715992954145, 2.594715992954145, 2.594715992954145, 2.594715992954145, 2.594715992954145, 2.5947251017916626, 2.594730458987199, 5.232291729677373, 8.752887720932197, 4.398132444245207, 4.42138972180305, 10.657546551219417, 3.445364663158972, 3.525107160949381, 3.5602594354295514, 3.560260573605955, 3.5602606531574987, 7.0764380793071275, 8.765219156408353, 5.412072377365035, 5.25919900252531, 6.239280879848007, 6.402713882574999, 6.402715519185968, 34.47278724917959, 16.08248500236799, 44.567881820897504, 98.97225400840338, 11.63167147605158, 41.073404436750295, 36.37053265698169, 52.86074595392617, 9.015091936870746, 17.31987879057544, 63.78071192957374, 44.32331773048601, 10.07784020775569, 154.36342515121464, 30.69601021925197, 201.82786947504286, 242.39040071704272, 161.4143130335554, 207.04855886776735, 136.79344899233655, 186.8121441659402, 304.00507724562794, 157.85792763356838, 226.8192735366375, 437.5862658039407, 126.64985218367829, 195.76834448589608, 215.30910410058294, 161.68792475103592, 155.12043868276848, 132.4002555881672, 286.4537483392007, 8.541410706351101, 7.694884470581148, 13.710885629530548, 22.44842430325607, 4.308785048181701, 4.308785685607294, 3.462259591137673, 3.462264509511303, 10.213440525983655, 6.85312676284516, 2.6157352420253024, 2.615735598511253, 2.6157357276645037, 2.6157362310898473, 2.6157384320823645, 2.615738793589459, 2.615739126786824, 5.304290859894284, 7.818670384177959, 4.298279386404082, 4.31285799508774, 4.392649691425824, 4.392654454753614, 6.144321181301554, 8.057503412274102, 3.4517513223279086, 3.5493658233244902, 3.5493637220808614, 3.5493672619321788, 6.206674985830823, 7.12057420028847, 10.85968906955087, 63.78071192957374, 25.56458772976759, 136.79344899233655, 175.31776783747594, 36.37053265698169, 21.477087999241625, 124.00121541870547, 41.54437219964101, 197.57986297482182, 286.4537483392007, 207.04855886776735, 155.12043868276848, 43.18227289625887, 80.00954051687326, 49.951416577632564, 313.3107320952973, 240.15680088041498, 304.00507724562794, 160.3154888651747, 71.55890954673511, 206.61553915808008, 137.48487327276592, 209.4133082407777, 139.34935971105307, 157.85792763356838, 175.34613647477846, 247.3415959042709, 177.29739562695474, 109.13637791532926, 5.754758579858812, 4.788343805762426, 4.788342501710741, 4.788337311007297, 4.788332767991187, 15.3967880668924, 3.821928990140191, 3.821928990140191, 3.821928990140191, 3.8219289901401896, 3.821928990140191, 3.82192899014019, 3.821928990140191, 3.821928994714823, 3.8219286693909824, 3.821928837321613, 11.555341895380264, 13.486343138282475, 10.505874655945846, 2.8555143060032946, 2.8555143060032946, 2.8555143060032946, 2.8555143060032946, 2.8555142707043384, 2.8555142707043384, 2.8555142707043384, 2.8555142053668825, 2.855514326664897, 2.8555144082161448, 2.8555135580546502, 5.779321781497432, 33.61783758443633, 10.65692773389228, 71.09605311606148, 11.63651757992122, 38.308408132897654, 10.546502032764122, 11.404698867036782, 33.76232305170406, 41.90069378435049, 41.12578235074752, 52.67076662771252, 65.01350057097193, 195.76834448589608, 49.02844306568496, 168.21214736483807, 41.88514334773106, 25.81776552606672, 19.485901369699693, 39.68633001142684, 13.631535601013702, 207.04855886776735, 37.01930798663524, 91.59924481640327, 317.76620013746754, 85.82998019413097, 233.9407410248358, 186.8121441659402, 71.55890954673511, 226.8192735366375, 124.01396937228157, 437.5862658039407, 304.00507724562794, 242.39040071704272, 227.0319231550591, 80.00954051687326, 95.14703692341104, 161.68792475103592, 195.15655767137318, 206.62131554026016, 215.00259083922373, 161.4143130335554, 206.72071439480885, 313.3107320952973, 352.9304154526167, 26.0431900725352, 13.948132038976174, 13.948130668484538, 12.087426413647776, 11.156965454900043, 10.226576754355834, 10.226574290201318, 10.22657527233965, 10.226560535034837, 8.3657986732174, 8.365798673278688, 8.365794090819275, 7.4354084450608235, 14.915533212057781, 6.50502014858103, 6.505020137270108, 6.505021182625988, 20.596728875581118, 5.5746306543707975, 5.574631407240279, 5.574631442973342, 5.574625624918734, 5.574628422079728, 5.575897860575763, 10.26173317376883, 4.644241261625477, 4.644241261625477, 4.644241319096532, 4.644241319096532, 4.644241319096532, 9.333452652049983, 17.547548790356824, 25.09378719239224, 43.93042696380778, 15.735596857066852, 276.98166988981524, 14.940177950831, 14.940178577006135, 14.097920986214003, 34.757736309503514, 13.994416017796237, 19.492398145020374, 215.97019953521038, 20.69385162512618, 227.0319231550591, 175.31776783747594, 72.7609419202972, 32.38601463812176, 82.3249391865745, 155.12043868276848, 206.72071439480885, 71.06424437041103, 220.57176178514993, 49.84690030016072, 130.25374896169652, 47.95658018070956, 143.9669452812048, 242.39040071704272, 215.30910410058294, 137.1317191050544, 103.49864237197336, 313.3107320952973, 91.37520980482208, 133.6094191401981, 143.64569499781769, 206.62131554026016, 226.8192735366375, 206.61553915808008, 195.76834448589608, 304.00507724562794, 186.8121441659402, 437.5862658039407, 182.78997707115934, 209.54275579578731, 286.4537483392007, 14.53218297158167, 8.578027680512712, 6.026246665915477, 6.026249734035455, 9.423850246136876, 8.693966341692198, 3.474465633185833, 3.4744707327076787, 12.928186447775184, 6.011674856790321, 6.1060607207486415, 2.62387579406443, 2.623876158592734, 21.544140382913024, 6.858195595432143, 7.036434129276621, 4.40485617294376, 4.4400098755250035, 4.4073010576949905, 4.4651286083971335, 6.256148246743229, 5.146496601914878, 3.554265918318931, 3.5902865517462437, 3.5912696611789157, 3.5912684130601766, 3.5912696933335746, 11.64385056013788, 18.33844396436647, 4.51251946370576, 5.4714685297204095, 276.98166988981524, 36.37053265698169, 32.38601463812176, 25.174219270818533, 6.228223326567748, 34.47278724917959, 23.74855376819502, 24.313637429405432, 44.567881820897504, 33.321439210551546, 68.51936972654842, 19.57093260661391, 11.773484285538995, 14.885654870518795, 317.76620013746754, 227.0319231550591, 46.93778214601643, 97.30131790076118, 69.20616604042212, 175.34613647477846, 286.4537483392007, 177.29739562695474, 64.1743269137458, 206.61553915808008, 80.00954051687326, 136.79344899233655, 77.45611395526309, 157.85792763356838, 147.63162844790108, 201.82786947504286, 247.3415959042709, 12.810619378655376, 11.819961176281225, 10.829266446387841, 9.838638005147711, 8.847976374352358, 8.84797620538342, 8.847975713388418, 8.847971498225894, 13.765928131022468, 10.782436363942645, 7.857312833363324, 7.8573052065077995, 7.854497932270823, 7.856006669100886, 12.768430866196294, 6.866652635381597, 6.866652575283748, 6.866652420295709, 6.866651908320531, 6.866639260643301, 6.86664012367668, 6.866637424406626, 6.866219437860432, 11.777484342922625, 6.863101793050317, 19.631734363023604, 5.875991601409868, 5.8759916033176065, 5.875990485673733, 5.875988429190275, 62.9987284002957, 51.09084276599388, 17.66905556238889, 43.28801893465075, 111.00010660359581, 28.542352503512703, 708.8219020776612, 400.08428656897183, 633.1380745394807, 29.503923277408177, 22.34879516994287, 15.617005131118724, 92.17505508387349, 31.479744545133247, 26.360568055424284, 348.0369396413341, 188.96316925310347, 47.83734652127193, 323.3637581161436, 138.09361477273362, 72.19520140045641, 437.5862658039407, 205.13272830197175, 44.90704882270477, 156.07557608456784, 317.76620013746754, 232.6056284429918, 136.33092535078467, 186.3977822419589, 137.48487327276592, 119.77531845839185, 157.84516161312877, 62.4800243533696, 228.80617757535867, 104.91341904218932, 123.01174477342092, 212.7902952746134, 352.9304154526167, 237.29763055910942, 167.5088600736259, 215.30910410058294, 184.2844831952808, 209.4133082407777, 195.15655767137318, 313.3107320952973, 233.9407410248358, 206.62131554026016, 240.15680088041498, 44.30059124781901, 22.164668623329494, 21.199123860805308, 19.26802885854857, 14.439540304809942, 13.474766263472908, 15.40781760513036, 6.71595316959364, 6.715951894441044, 6.715950058186622, 6.7130233838070055, 5.750408315141584, 5.750406687473624, 5.750391279545974, 4.784863745217889, 4.784863726257942, 4.784863728700686, 4.784863534294705, 4.78486364317553, 4.784863245792707, 4.784863351462367, 4.784863551577268, 4.784863551577268, 4.78486378600126, 36.36380134826659, 10.424766869804156, 22.986475551445626, 11.49211585804365, 3.819319030140089, 3.8193189939369145, 102.8897685717584, 27.715245235879795, 29.605801615246165, 37.39176006651158, 25.317518417957004, 15.197456405504411, 11.543898337915032, 11.611193967824189, 18.876275596306535, 25.882910942369683, 286.4537483392007, 7.71332086411495, 83.38689352217172, 201.82786947504286, 61.407716054613545, 304.00507724562794, 103.50924168629246, 98.97225400840338, 136.79344899233655, 63.78071192957374, 139.34935971105307, 240.15680088041498, 207.04855886776735, 99.72262981781567, 186.8121441659402, 177.29739562695474, 247.3415959042709, 323.3637581161436, 173.29493074081768, 84.93219182308438, 317.76620013746754, 352.9304154526167, 112.96535582089619, 192.55022381882856, 226.8192735366375, 131.00213077643394, 212.7902952746134, 232.6056284429918, 209.4133082407777], \"Category\": [\"Default\", \"Default\", \"Default\", \"Default\", \"Default\", \"Default\", \"Default\", \"Default\", \"Default\", \"Default\", \"Default\", \"Default\", \"Default\", \"Default\", \"Default\", \"Default\", \"Default\", \"Default\", \"Default\", \"Default\", \"Default\", \"Default\", \"Default\", \"Default\", \"Default\", \"Default\", \"Default\", \"Default\", \"Default\", \"Default\", \"Topic1\", \"Topic1\", \"Topic1\", \"Topic1\", \"Topic1\", \"Topic1\", \"Topic1\", \"Topic1\", \"Topic1\", \"Topic1\", \"Topic1\", \"Topic1\", \"Topic1\", \"Topic1\", \"Topic1\", \"Topic1\", \"Topic1\", \"Topic1\", \"Topic1\", \"Topic1\", \"Topic1\", \"Topic1\", \"Topic1\", \"Topic1\", \"Topic1\", \"Topic1\", \"Topic1\", \"Topic1\", \"Topic1\", \"Topic1\", \"Topic1\", \"Topic1\", \"Topic1\", \"Topic1\", \"Topic1\", \"Topic1\", \"Topic1\", \"Topic1\", \"Topic1\", \"Topic1\", \"Topic1\", \"Topic1\", \"Topic1\", \"Topic1\", \"Topic1\", \"Topic1\", \"Topic1\", \"Topic1\", \"Topic1\", \"Topic1\", \"Topic1\", \"Topic1\", \"Topic1\", \"Topic1\", \"Topic1\", \"Topic1\", \"Topic1\", \"Topic1\", \"Topic1\", \"Topic1\", \"Topic1\", \"Topic1\", \"Topic1\", \"Topic1\", \"Topic1\", \"Topic1\", \"Topic1\", \"Topic1\", \"Topic1\", \"Topic1\", \"Topic1\", \"Topic1\", \"Topic1\", \"Topic1\", \"Topic1\", \"Topic1\", \"Topic1\", \"Topic1\", \"Topic1\", \"Topic1\", \"Topic1\", \"Topic1\", \"Topic1\", \"Topic1\", \"Topic1\", \"Topic1\", \"Topic2\", \"Topic2\", \"Topic2\", \"Topic2\", \"Topic2\", \"Topic2\", \"Topic2\", \"Topic2\", \"Topic2\", \"Topic2\", \"Topic2\", \"Topic2\", \"Topic2\", \"Topic2\", \"Topic2\", \"Topic2\", \"Topic2\", \"Topic2\", \"Topic2\", \"Topic2\", \"Topic2\", \"Topic2\", \"Topic2\", \"Topic2\", \"Topic2\", \"Topic2\", \"Topic2\", \"Topic2\", \"Topic2\", \"Topic2\", \"Topic2\", \"Topic2\", \"Topic2\", \"Topic2\", \"Topic2\", \"Topic2\", \"Topic2\", \"Topic2\", \"Topic2\", \"Topic2\", \"Topic2\", \"Topic2\", \"Topic2\", \"Topic2\", \"Topic2\", \"Topic2\", \"Topic2\", \"Topic2\", \"Topic2\", \"Topic2\", \"Topic2\", \"Topic2\", \"Topic2\", \"Topic2\", \"Topic2\", \"Topic2\", \"Topic2\", \"Topic2\", \"Topic2\", \"Topic2\", \"Topic2\", \"Topic2\", \"Topic2\", \"Topic2\", \"Topic2\", \"Topic2\", \"Topic2\", \"Topic2\", \"Topic2\", \"Topic2\", \"Topic2\", \"Topic2\", \"Topic2\", \"Topic2\", \"Topic2\", \"Topic3\", \"Topic3\", \"Topic3\", \"Topic3\", \"Topic3\", \"Topic3\", \"Topic3\", \"Topic3\", \"Topic3\", \"Topic3\", \"Topic3\", \"Topic3\", \"Topic3\", \"Topic3\", \"Topic3\", \"Topic3\", \"Topic3\", \"Topic3\", \"Topic3\", \"Topic3\", \"Topic3\", \"Topic3\", \"Topic3\", \"Topic3\", \"Topic3\", \"Topic3\", \"Topic3\", \"Topic3\", \"Topic3\", \"Topic3\", \"Topic3\", \"Topic3\", \"Topic3\", \"Topic3\", \"Topic3\", \"Topic3\", \"Topic3\", \"Topic3\", \"Topic3\", \"Topic3\", \"Topic3\", \"Topic3\", \"Topic3\", \"Topic3\", \"Topic3\", \"Topic3\", \"Topic3\", \"Topic3\", \"Topic3\", \"Topic3\", \"Topic3\", \"Topic3\", \"Topic3\", \"Topic3\", \"Topic3\", \"Topic3\", \"Topic3\", \"Topic3\", \"Topic3\", \"Topic3\", \"Topic3\", \"Topic3\", \"Topic3\", \"Topic3\", \"Topic3\", \"Topic3\", \"Topic3\", \"Topic3\", \"Topic4\", \"Topic4\", \"Topic4\", \"Topic4\", \"Topic4\", \"Topic4\", \"Topic4\", \"Topic4\", \"Topic4\", \"Topic4\", \"Topic4\", \"Topic4\", \"Topic4\", \"Topic4\", \"Topic4\", \"Topic4\", \"Topic4\", \"Topic4\", \"Topic4\", \"Topic4\", \"Topic4\", \"Topic4\", \"Topic4\", \"Topic4\", \"Topic4\", \"Topic4\", \"Topic4\", \"Topic4\", \"Topic4\", \"Topic4\", \"Topic4\", \"Topic4\", \"Topic4\", \"Topic4\", \"Topic4\", \"Topic4\", \"Topic4\", \"Topic4\", \"Topic4\", \"Topic4\", \"Topic4\", \"Topic4\", \"Topic4\", \"Topic4\", \"Topic4\", \"Topic4\", \"Topic4\", \"Topic4\", \"Topic4\", \"Topic4\", \"Topic4\", \"Topic4\", \"Topic4\", \"Topic4\", \"Topic4\", \"Topic4\", \"Topic4\", \"Topic4\", \"Topic4\", \"Topic4\", \"Topic4\", \"Topic4\", \"Topic5\", \"Topic5\", \"Topic5\", \"Topic5\", \"Topic5\", \"Topic5\", \"Topic5\", \"Topic5\", \"Topic5\", \"Topic5\", \"Topic5\", \"Topic5\", \"Topic5\", \"Topic5\", \"Topic5\", \"Topic5\", \"Topic5\", \"Topic5\", \"Topic5\", \"Topic5\", \"Topic5\", \"Topic5\", \"Topic5\", \"Topic5\", \"Topic5\", \"Topic5\", \"Topic5\", \"Topic5\", \"Topic5\", \"Topic5\", \"Topic5\", \"Topic5\", \"Topic5\", \"Topic5\", \"Topic5\", \"Topic5\", \"Topic5\", \"Topic5\", \"Topic5\", \"Topic5\", \"Topic5\", \"Topic5\", \"Topic5\", \"Topic5\", \"Topic5\", \"Topic5\", \"Topic5\", \"Topic5\", \"Topic5\", \"Topic5\", \"Topic5\", \"Topic5\", \"Topic5\", \"Topic5\", \"Topic5\", \"Topic5\", \"Topic5\", \"Topic5\", \"Topic5\", \"Topic5\", \"Topic5\", \"Topic6\", \"Topic6\", \"Topic6\", \"Topic6\", \"Topic6\", \"Topic6\", \"Topic6\", \"Topic6\", \"Topic6\", \"Topic6\", \"Topic6\", \"Topic6\", \"Topic6\", \"Topic6\", \"Topic6\", \"Topic6\", \"Topic6\", \"Topic6\", \"Topic6\", \"Topic6\", \"Topic6\", \"Topic6\", \"Topic6\", \"Topic6\", \"Topic6\", \"Topic6\", \"Topic6\", \"Topic6\", \"Topic6\", \"Topic6\", \"Topic6\", \"Topic6\", \"Topic6\", \"Topic6\", \"Topic6\", \"Topic6\", \"Topic6\", \"Topic6\", \"Topic6\", \"Topic6\", \"Topic6\", \"Topic6\", \"Topic6\", \"Topic6\", \"Topic6\", \"Topic6\", \"Topic6\", \"Topic6\", \"Topic6\", \"Topic6\", \"Topic6\", \"Topic6\", \"Topic6\", \"Topic6\", \"Topic6\", \"Topic6\", \"Topic6\", \"Topic6\", \"Topic6\", \"Topic6\", \"Topic6\", \"Topic6\", \"Topic6\", \"Topic6\", \"Topic6\", \"Topic6\", \"Topic6\", \"Topic6\", \"Topic6\", \"Topic6\", \"Topic6\", \"Topic6\", \"Topic6\", \"Topic6\", \"Topic6\", \"Topic7\", \"Topic7\", \"Topic7\", \"Topic7\", \"Topic7\", \"Topic7\", \"Topic7\", \"Topic7\", \"Topic7\", \"Topic7\", \"Topic7\", \"Topic7\", \"Topic7\", \"Topic7\", \"Topic7\", \"Topic7\", \"Topic7\", \"Topic7\", \"Topic7\", \"Topic7\", \"Topic7\", \"Topic7\", \"Topic7\", \"Topic7\", \"Topic7\", \"Topic7\", \"Topic7\", \"Topic7\", \"Topic7\", \"Topic7\", \"Topic7\", \"Topic7\", \"Topic7\", \"Topic7\", \"Topic7\", \"Topic7\", \"Topic7\", \"Topic7\", \"Topic7\", \"Topic7\", \"Topic7\", \"Topic7\", \"Topic7\", \"Topic7\", \"Topic7\", \"Topic7\", \"Topic7\", \"Topic7\", \"Topic7\", \"Topic7\", \"Topic7\", \"Topic7\", \"Topic7\", \"Topic7\", \"Topic7\", \"Topic7\", \"Topic7\", \"Topic7\", \"Topic7\", \"Topic7\", \"Topic7\", \"Topic7\", \"Topic7\", \"Topic7\", \"Topic7\", \"Topic7\", \"Topic7\", \"Topic7\", \"Topic7\", \"Topic7\", \"Topic7\", \"Topic7\", \"Topic7\", \"Topic7\", \"Topic7\", \"Topic8\", \"Topic8\", \"Topic8\", \"Topic8\", \"Topic8\", \"Topic8\", \"Topic8\", \"Topic8\", \"Topic8\", \"Topic8\", \"Topic8\", \"Topic8\", \"Topic8\", \"Topic8\", \"Topic8\", \"Topic8\", \"Topic8\", \"Topic8\", \"Topic8\", \"Topic8\", \"Topic8\", \"Topic8\", \"Topic8\", \"Topic8\", \"Topic8\", \"Topic8\", \"Topic8\", \"Topic8\", \"Topic8\", \"Topic8\", \"Topic8\", \"Topic8\", \"Topic8\", \"Topic8\", \"Topic8\", \"Topic8\", \"Topic8\", \"Topic8\", \"Topic8\", \"Topic8\", \"Topic8\", \"Topic8\", \"Topic8\", \"Topic8\", \"Topic8\", \"Topic8\", \"Topic8\", \"Topic8\", \"Topic8\", \"Topic8\", \"Topic8\", \"Topic8\", \"Topic8\", \"Topic8\", \"Topic8\", \"Topic8\", \"Topic8\", \"Topic8\", \"Topic8\", \"Topic8\", \"Topic8\", \"Topic8\", \"Topic9\", \"Topic9\", \"Topic9\", \"Topic9\", \"Topic9\", \"Topic9\", \"Topic9\", \"Topic9\", \"Topic9\", \"Topic9\", \"Topic9\", \"Topic9\", \"Topic9\", \"Topic9\", \"Topic9\", \"Topic9\", \"Topic9\", \"Topic9\", \"Topic9\", \"Topic9\", \"Topic9\", \"Topic9\", \"Topic9\", \"Topic9\", \"Topic9\", \"Topic9\", \"Topic9\", \"Topic9\", \"Topic9\", \"Topic9\", \"Topic9\", \"Topic9\", \"Topic9\", \"Topic9\", \"Topic9\", \"Topic9\", \"Topic9\", \"Topic9\", \"Topic9\", \"Topic9\", \"Topic9\", \"Topic9\", \"Topic9\", \"Topic9\", \"Topic9\", \"Topic9\", \"Topic9\", \"Topic9\", \"Topic9\", \"Topic9\", \"Topic9\", \"Topic9\", \"Topic9\", \"Topic9\", \"Topic9\", \"Topic9\", \"Topic9\", \"Topic9\", \"Topic9\", \"Topic9\", \"Topic9\", \"Topic9\", \"Topic9\", \"Topic9\", \"Topic9\", \"Topic9\", \"Topic9\", \"Topic9\", \"Topic9\", \"Topic9\", \"Topic9\", \"Topic9\", \"Topic9\", \"Topic9\", \"Topic9\", \"Topic9\", \"Topic9\", \"Topic9\", \"Topic10\", \"Topic10\", \"Topic10\", \"Topic10\", \"Topic10\", \"Topic10\", \"Topic10\", \"Topic10\", \"Topic10\", \"Topic10\", \"Topic10\", \"Topic10\", \"Topic10\", \"Topic10\", \"Topic10\", \"Topic10\", \"Topic10\", \"Topic10\", \"Topic10\", \"Topic10\", \"Topic10\", \"Topic10\", \"Topic10\", \"Topic10\", \"Topic10\", \"Topic10\", \"Topic10\", \"Topic10\", \"Topic10\", \"Topic10\", \"Topic10\", \"Topic10\", \"Topic10\", \"Topic10\", \"Topic10\", \"Topic10\", \"Topic10\", \"Topic10\", \"Topic10\", \"Topic10\", \"Topic10\", \"Topic10\", \"Topic10\", \"Topic10\", \"Topic10\", \"Topic10\", \"Topic10\", \"Topic10\", \"Topic10\", \"Topic10\", \"Topic10\", \"Topic10\", \"Topic10\", \"Topic10\", \"Topic10\", \"Topic10\", \"Topic10\", \"Topic10\", \"Topic10\", \"Topic10\", \"Topic10\", \"Topic10\", \"Topic10\", \"Topic10\", \"Topic10\", \"Topic10\", \"Topic10\", \"Topic10\", \"Topic10\"], \"logprob\": [30.0, 29.0, 28.0, 27.0, 26.0, 25.0, 24.0, 23.0, 22.0, 21.0, 20.0, 19.0, 18.0, 17.0, 16.0, 15.0, 14.0, 13.0, 12.0, 11.0, 10.0, 9.0, 8.0, 7.0, 6.0, 5.0, 4.0, 3.0, 2.0, 1.0, -6.4233, -6.604, -6.604, -6.604, -6.604, -6.604, -6.8246, -6.9564, -6.9564, -7.1082, -7.1082, -7.1082, -7.1082, -7.1082, -7.1082, -7.1082, -7.1082, -7.1107, -7.1276, -6.3018, -7.2873, -7.2873, -7.2873, -7.2873, -7.2873, -7.2873, -7.2873, -7.2873, -7.2873, -7.2873, -6.2747, -5.7379, -6.9156, -6.0464, -6.6657, -6.8252, -6.8255, -6.4837, -6.61, -6.6154, -5.5837, -5.8265, -6.2703, -6.5213, -5.8707, -4.651, -6.1436, -6.2055, -4.3189, -5.5676, -3.8925, -4.5945, -5.4616, -4.8881, -5.454, -4.8741, -5.9482, -5.325, -4.5305, -5.5596, -5.512, -4.9393, -4.9935, -5.6287, -5.049, -5.4684, -5.2914, -5.04, -4.434, -5.3981, -4.7371, -5.0998, -5.2413, -5.0726, -5.1508, -5.1112, -4.9564, -5.0842, -5.2629, -5.228, -5.2517, -5.2184, -5.3457, -5.3574, -5.3242, -5.3493, -5.6472, -5.8378, -6.086, -6.2623, -6.4393, -6.6351, -6.6385, -6.6385, -6.6385, -6.6385, -6.6385, -6.6385, -5.5142, -5.5814, -6.9147, -6.9147, -6.9147, -6.9147, -6.9147, -5.7437, -7.3042, -7.3042, -7.3042, -7.3042, -7.3042, -7.3042, -7.3042, -7.3042, -7.3042, -7.3042, -6.6351, -6.6351, -5.7975, -6.2378, -6.6351, -5.7548, -5.7037, -6.6351, -4.1843, -6.5154, -5.9823, -4.2201, -6.0479, -4.9971, -5.3959, -5.1537, -5.6306, -5.2056, -4.8458, -4.3054, -3.9791, -4.2282, -4.1648, -5.6258, -4.6595, -4.4074, -3.8421, -4.536, -4.8723, -5.3546, -4.644, -4.7997, -4.9569, -4.7204, -4.9231, -4.9292, -4.6989, -5.0297, -5.2165, -4.8501, -5.0311, -5.144, -5.1239, -5.1909, -5.2009, -4.8901, -5.4108, -5.7826, -5.8771, -5.8771, -5.8771, -5.8771, -5.9813, -5.9813, -5.9813, -5.9813, -5.9813, -5.9813, -5.9813, -5.9813, -5.9813, -5.9813, -5.9813, -5.9813, -5.9813, -5.9813, -6.0977, -5.2937, -6.0674, -5.9818, -5.9818, -5.9438, -5.2213, -7.0582, -5.9813, -5.8899, -5.2937, -5.4826, -5.1297, -5.31, -5.3204, -5.3051, -4.9425, -4.2902, -4.8669, -4.7576, -4.1841, -5.3562, -5.2755, -4.7479, -3.9888, -4.4538, -4.3342, -4.7591, -3.8488, -3.9053, -4.5372, -4.3213, -4.7424, -4.7886, -5.0841, -4.694, -4.7609, -4.7522, -4.7872, -4.9105, -4.9327, -5.0954, -5.087, -5.1699, -5.0695, -5.1037, -5.1035, -5.4205, -6.0974, -6.0974, -4.5882, -6.4869, -6.4869, -6.4869, -6.4869, -6.4869, -6.4869, -6.4869, -6.4869, -6.4869, -5.8178, -5.3212, -6.0974, -6.0974, -5.2874, -6.4871, -6.4869, -6.4869, -6.4869, -6.4869, -5.8178, -5.6088, -6.0975, -6.1391, -6.0384, -6.0974, -6.0974, -4.5826, -5.2687, -4.3785, -3.8446, -5.5996, -4.7296, -4.8219, -4.7696, -5.8178, -5.4395, -4.8585, -5.124, -5.8357, -4.6343, -5.372, -4.5586, -4.6344, -4.8499, -4.7841, -4.933, -4.8539, -4.774, -5.0058, -4.9305, -4.8045, -5.1628, -5.0693, -5.0716, -5.1457, -5.1956, -5.2724, -5.2825, -5.021, -5.1374, -4.5877, -4.1337, -5.8182, -5.8182, -6.0978, -6.0978, -5.021, -5.4495, -6.4873, -6.4873, -6.4873, -6.4873, -6.4873, -6.4873, -6.4873, -5.8265, -5.4495, -6.0978, -6.0978, -6.0978, -6.0978, -5.8334, -5.6, -6.4873, -6.4873, -6.4873, -6.4873, -5.9325, -5.88, -5.6211, -4.406, -5.1794, -4.2508, -4.2029, -5.0665, -5.4209, -4.5868, -5.1896, -4.5106, -4.4025, -4.5607, -4.7214, -5.215, -4.9929, -5.1935, -4.576, -4.692, -4.6262, -4.8778, -5.1104, -4.8626, -4.9672, -4.8689, -5.0246, -5.0471, -5.058, -5.025, -5.1752, -5.1874, -6.3859, -6.6042, -6.6042, -6.6042, -6.6042, -5.4541, -6.8838, -6.8838, -6.8838, -6.8838, -6.8838, -6.8838, -6.8838, -6.8838, -6.8838, -6.8838, -5.8213, -5.7082, -5.9596, -7.2732, -7.2732, -7.2732, -7.2732, -7.2732, -7.2732, -7.2732, -7.2732, -7.2733, -7.2733, -7.2733, -6.6074, -4.9607, -6.0398, -4.296, -5.9784, -4.8825, -6.08, -6.0726, -5.2175, -5.068, -5.0931, -4.9914, -4.8422, -4.065, -5.0622, -4.1999, -5.2015, -5.58, -5.8068, -5.3555, -6.0551, -4.3438, -5.4364, -4.8911, -4.1977, -4.9479, -4.4562, -4.588, -5.1361, -4.5973, -4.8943, -4.2969, -4.4703, -4.614, -4.6871, -5.1224, -5.0572, -4.9121, -4.8621, -4.8517, -4.8502, -4.9424, -4.9058, -4.8931, -5.0598, -5.5087, -6.162, -6.162, -6.3151, -6.4012, -6.4957, -6.4957, -6.4957, -6.4957, -6.7163, -6.7163, -6.7163, -6.8481, -6.162, -6.9999, -6.9999, -6.9999, -5.8719, -7.1789, -7.179, -7.179, -7.179, -7.179, -7.186, -6.5999, -7.3972, -7.3972, -7.3972, -7.3972, -7.3972, -6.7172, -6.1133, -5.7701, -5.2334, -6.2356, -3.5208, -6.2947, -6.2947, -6.3559, -5.5646, -6.374, -6.0888, -4.1353, -6.0689, -4.1806, -4.4908, -5.1444, -5.749, -5.1161, -4.7171, -4.538, -5.272, -4.6496, -5.5582, -4.994, -5.6121, -5.0058, -4.7619, -4.8319, -5.083, -5.2407, -4.7008, -5.3304, -5.1859, -5.1612, -5.0068, -5.0101, -5.0545, -5.0774, -4.9175, -5.1346, -4.892, -5.1943, -5.224, -5.2466, -4.5596, -5.1302, -5.5302, -5.5302, -5.1493, -5.2467, -6.207, -6.2071, -4.9315, -5.7092, -5.7092, -6.5965, -6.5965, -4.4994, -5.7092, -5.7092, -6.207, -6.207, -6.217, -6.207, -5.9275, -6.207, -6.5965, -6.5965, -6.5965, -6.5965, -6.5965, -5.4322, -5.0259, -6.4345, -6.2438, -2.6528, -4.6056, -4.7074, -4.9415, -6.1422, -4.8667, -5.3133, -5.324, -4.9999, -5.1781, -4.8763, -5.4969, -5.802, -5.7092, -4.5826, -4.7193, -5.3035, -5.0579, -5.2116, -4.963, -4.8981, -5.0421, -5.2829, -5.0769, -5.2466, -5.1878, -5.2835, -5.239, -5.2789, -5.2734, -5.2742, -7.1719, -7.2582, -7.3527, -7.4569, -7.5733, -7.5733, -7.5733, -7.5733, -7.1383, -7.3853, -7.705, -7.7051, -7.7116, -7.7124, -7.2315, -7.8569, -7.8569, -7.8569, -7.8569, -7.8569, -7.8569, -7.8569, -7.858, -7.3238, -7.8683, -6.823, -8.0359, -8.0359, -8.0359, -8.0359, -5.6683, -5.9033, -6.9504, -6.0796, -5.2071, -6.5136, -3.5125, -4.0473, -3.6797, -6.5096, -6.766, -7.1, -5.4712, -6.4561, -6.621, -4.3101, -4.866, -6.0941, -4.4182, -5.1692, -5.7373, -4.1877, -4.8624, -6.1776, -5.1446, -4.5736, -4.8417, -5.2955, -5.0448, -5.2956, -5.4105, -5.2057, -5.9452, -4.9836, -5.5882, -5.4767, -5.1028, -4.8151, -5.0847, -5.315, -5.1608, -5.2678, -5.2815, -5.3248, -5.1391, -5.2576, -5.3425, -5.3241, -4.7159, -5.4169, -5.4632, -5.5628, -5.8678, -5.9398, -5.8706, -6.7042, -6.7042, -6.7042, -6.7179, -6.8832, -6.8832, -6.8833, -7.1015, -7.1015, -7.1015, -7.1015, -7.1015, -7.1015, -7.1015, -7.1015, -7.1015, -7.1015, -5.0747, -6.3304, -5.5674, -6.275, -7.381, -7.381, -4.1135, -5.459, -5.4783, -5.3501, -5.7007, -6.1587, -6.3953, -6.3911, -6.013, -5.7732, -4.1037, -6.7489, -5.0599, -4.4754, -5.3025, -4.2483, -4.9734, -5.0426, -4.8428, -5.3327, -4.9349, -4.6432, -4.755, -5.1513, -4.8301, -4.892, -4.7635, -4.6824, -4.951, -5.2768, -4.8725, -5.0094, -5.2388, -5.1668, -5.1442, -5.2611, -5.2409, -5.2365, -5.2748], \"loglift\": [30.0, 29.0, 28.0, 27.0, 26.0, 25.0, 24.0, 23.0, 22.0, 21.0, 20.0, 19.0, 18.0, 17.0, 16.0, 15.0, 14.0, 13.0, 12.0, 11.0, 10.0, 9.0, 8.0, 7.0, 6.0, 5.0, 4.0, 3.0, 2.0, 1.0, 1.8, 1.7871, 1.7871, 1.7871, 1.7871, 1.7871, 1.768, 1.7547, 1.7547, 1.7372, 1.7372, 1.7372, 1.7372, 1.7372, 1.7372, 1.7372, 1.7372, 1.7348, 1.7185, 1.7166, 1.7134, 1.7134, 1.7134, 1.7134, 1.7134, 1.7134, 1.7134, 1.7134, 1.7134, 1.7134, 1.6838, 1.6168, 1.6801, 1.5739, 1.6432, 1.6592, 1.6588, 1.5985, 1.6136, 1.604, 1.4124, 1.4525, 1.5258, 1.5665, 1.3321, 0.8748, 1.3873, 1.4048, 0.6855, 1.1572, 0.4084, 0.6877, 1.0225, 0.7383, 1.011, 0.6037, 1.2266, 0.787, 0.2294, 0.9125, 0.8777, 0.416, 0.4131, 0.932, 0.4164, 0.7859, 0.6187, 0.3513, -0.246, 0.656, -0.0668, 0.3189, 0.4661, 0.1682, 0.2694, 0.2075, -0.0711, 0.0098, 0.2804, 0.1529, 0.0748, -0.1838, 0.26, 0.2732, -0.0539, 0.0714, 2.6887, 2.681, 2.6563, 2.6126, 2.5904, 2.5781, 2.5746, 2.5746, 2.5746, 2.5746, 2.5746, 2.5746, 2.5288, 2.5238, 2.5222, 2.5222, 2.5222, 2.5222, 2.5222, 2.4308, 2.4214, 2.4214, 2.4214, 2.4214, 2.4214, 2.4214, 2.4214, 2.4214, 2.4214, 2.4214, 2.411, 2.411, 2.3754, 2.3786, 2.3897, 2.3412, 2.3342, 2.3852, 2.1393, 2.3477, 2.2543, 1.7664, 2.195, 1.8163, 1.9197, 1.8178, 2.0018, 1.809, 1.5355, 1.2683, 0.9062, 1.042, 0.808, 1.8468, 1.1054, 0.8334, 0.3458, 0.8405, 1.1459, 1.5482, 0.7632, 0.8061, 0.9467, 0.5983, 0.7513, 0.7608, 0.2003, 0.7523, 1.1845, 0.1844, 0.4467, 0.7324, 0.4727, 0.1644, 0.1014, 2.5922, 2.5709, 2.5478, 2.5405, 2.5405, 2.5405, 2.5405, 2.5317, 2.5317, 2.5317, 2.5317, 2.5317, 2.5317, 2.5317, 2.5317, 2.5317, 2.5317, 2.5317, 2.5317, 2.5317, 2.5317, 2.5209, 2.4756, 2.4416, 2.4308, 2.4308, 2.3827, 2.3768, 2.3738, 2.3658, 2.3641, 2.3486, 2.3519, 2.2797, 2.2802, 2.2637, 2.2444, 2.0243, 1.5861, 1.8811, 1.7967, 1.351, 2.1277, 1.9874, 1.5618, 0.9105, 1.1311, 0.9623, 1.3385, 0.3392, 0.3956, 0.8437, 0.5641, 0.9235, 0.9763, 1.2815, 0.6334, 0.6833, 0.6544, 0.7228, 0.5103, 0.3284, 0.9636, 0.7276, 1.3112, 0.3377, 0.3149, -0.1133, 3.5496, 3.4214, 3.4214, 3.3292, 3.3112, 3.3112, 3.3112, 3.3112, 3.3112, 3.3112, 3.3112, 3.3112, 3.3112, 3.2789, 3.261, 3.173, 3.1677, 3.098, 3.0275, 3.0048, 2.9949, 2.9949, 2.9949, 2.977, 2.9719, 2.9655, 2.9525, 2.8823, 2.7975, 2.7975, 2.6288, 2.7051, 2.5761, 2.3122, 2.6983, 2.3066, 2.336, 2.0143, 2.7349, 2.4602, 1.7376, 1.836, 2.6055, 1.078, 1.9554, 0.8855, 0.6266, 0.8177, 0.6345, 0.9001, 0.6675, 0.2605, 0.6841, 0.3969, -0.1342, 0.7473, 0.4054, 0.308, 0.5203, 0.5118, 0.5933, -0.1885, 3.5857, 3.5737, 3.5457, 3.5067, 3.4727, 3.4727, 3.4118, 3.4118, 3.4069, 3.3774, 3.3027, 3.3027, 3.3027, 3.3027, 3.3027, 3.3027, 3.3027, 3.2566, 3.2455, 3.1955, 3.1922, 3.1738, 3.1738, 3.1026, 3.065, 3.0254, 2.9975, 2.9975, 2.9975, 2.9935, 2.9085, 2.7454, 2.1902, 2.331, 1.5824, 1.382, 2.0913, 2.2637, 1.3445, 1.8352, 0.9549, 0.6915, 0.8579, 0.986, 1.7711, 1.3765, 1.6471, 0.4284, 0.5782, 0.4083, 0.7967, 1.3707, 0.5581, 0.8608, 0.5384, 0.79, 0.6428, 0.5268, 0.2158, 0.3985, 0.8716, 2.6156, 2.5812, 2.5812, 2.5812, 2.5812, 2.5633, 2.527, 2.527, 2.527, 2.527, 2.527, 2.527, 2.527, 2.527, 2.527, 2.527, 2.4831, 2.4417, 2.44, 2.4291, 2.4291, 2.4291, 2.4291, 2.4291, 2.4291, 2.4291, 2.4291, 2.4291, 2.4291, 2.4291, 2.3899, 2.2758, 2.3455, 2.1916, 2.319, 2.2234, 2.3158, 2.2449, 2.0147, 1.9483, 1.9419, 1.7961, 1.7348, 1.4097, 1.797, 1.4265, 1.8151, 1.9206, 1.9751, 1.7151, 2.0841, 1.0748, 1.7038, 1.3431, 0.7925, 1.3513, 0.8404, 0.9335, 1.345, 0.7302, 1.0369, 0.3734, 0.5642, 0.6471, 0.6394, 1.247, 1.139, 0.7539, 0.6157, 0.569, 0.5307, 0.7252, 0.5144, 0.1113, -0.1745, 1.9832, 1.9542, 1.9542, 1.9443, 1.9383, 1.9309, 1.9309, 1.9309, 1.9309, 1.9111, 1.9111, 1.9111, 1.8972, 1.8872, 1.8791, 1.8791, 1.8791, 1.8546, 1.8544, 1.8544, 1.8544, 1.8544, 1.8544, 1.8471, 1.8232, 1.8188, 1.8188, 1.8188, 1.8188, 1.8188, 1.8008, 1.7733, 1.7588, 1.7355, 1.7601, 1.6068, 1.7528, 1.7528, 1.7497, 1.6386, 1.7389, 1.6927, 1.2411, 1.6529, 1.1459, 1.0941, 1.32, 1.5249, 1.2248, 0.9903, 0.8822, 1.216, 0.7058, 1.2844, 0.8881, 1.2692, 0.7762, 0.4991, 0.5476, 0.7476, 0.8713, 0.3036, 0.9062, 0.6708, 0.623, 0.4139, 0.3173, 0.3662, 0.3973, 0.1171, 0.3869, -0.2217, 0.349, 0.1827, -0.1526, 3.5156, 3.4722, 3.4253, 3.4253, 3.359, 3.3423, 3.2991, 3.2991, 3.2607, 3.2487, 3.2331, 3.1904, 3.1904, 3.1821, 3.1169, 3.0913, 3.0618, 3.0539, 3.0514, 3.0482, 2.9906, 2.9062, 2.8869, 2.8769, 2.8766, 2.8766, 2.8766, 2.8646, 2.8167, 2.8102, 2.8082, 2.4748, 2.5522, 2.5665, 2.5843, 2.7803, 2.3447, 2.2707, 2.2366, 1.9547, 2.0673, 1.6482, 2.2806, 2.4837, 2.342, 0.4076, 0.6072, 1.5993, 1.1159, 1.3029, 0.6218, 0.1959, 0.5316, 1.3071, 0.3439, 1.1229, 0.6454, 1.1184, 0.4509, 0.478, 0.1707, -0.0333, 1.0294, 1.0236, 1.0166, 1.0084, 0.9981, 0.9981, 0.9981, 0.9981, 0.991, 0.9883, 0.9851, 0.9851, 0.9789, 0.9779, 0.9731, 0.9681, 0.9681, 0.9681, 0.968, 0.968, 0.968, 0.968, 0.9669, 0.9616, 0.9571, 0.9514, 0.9448, 0.9448, 0.9448, 0.9448, 0.9402, 0.9147, 0.9294, 0.9042, 0.8349, 0.8866, 0.6754, 0.7126, 0.6212, 0.8574, 0.8789, 0.9033, 0.7567, 0.8462, 0.8588, 0.5892, 0.644, 0.7897, 0.5546, 0.6545, 0.7349, 0.4826, 0.5655, 0.7694, 0.5566, 0.4167, 0.4606, 0.541, 0.479, 0.5325, 0.5555, 0.4842, 0.6715, 0.3351, 0.5102, 0.4626, 0.2885, 0.0702, 0.1976, 0.3156, 0.2188, 0.2673, 0.1258, 0.153, -0.1347, 0.0389, 0.0782, -0.0538, 2.2447, 2.2362, 2.2344, 2.2304, 2.2138, 2.2109, 2.1462, 2.1429, 2.1429, 2.1429, 2.1296, 2.1191, 2.1191, 2.119, 2.0847, 2.0847, 2.0847, 2.0847, 2.0847, 2.0847, 2.0847, 2.0847, 2.0847, 2.0846, 2.0834, 2.077, 2.0493, 2.0349, 2.0305, 2.0305, 2.0044, 1.9706, 1.8853, 1.78, 1.8193, 1.8717, 1.9101, 1.9085, 1.8007, 1.7248, 0.9903, 1.9597, 1.2682, 0.9688, 1.3315, 0.7862, 1.1386, 1.1142, 0.9904, 1.2635, 0.8797, 0.627, 0.6636, 0.9979, 0.6914, 0.6818, 0.4773, 0.2904, 0.6456, 1.033, 0.1178, -0.1241, 0.7857, 0.3244, 0.1832, 0.6152, 0.1504, 0.0658, 0.1325]}, \"token.table\": {\"Topic\": [1, 3, 1, 2, 7, 5, 9, 1, 1, 5, 8, 5, 8, 10, 2, 10, 1, 6, 7, 1, 2, 5, 6, 7, 9, 10, 5, 1, 5, 6, 1, 2, 3, 4, 5, 6, 7, 8, 9, 10, 1, 2, 3, 7, 8, 9, 10, 1, 8, 1, 6, 9, 10, 10, 1, 2, 3, 7, 8, 9, 1, 2, 3, 7, 9, 10, 1, 2, 3, 4, 5, 6, 7, 8, 9, 10, 1, 2, 7, 9, 1, 7, 9, 10, 1, 2, 10, 2, 1, 2, 4, 6, 7, 8, 9, 10, 1, 2, 4, 7, 9, 1, 2, 9, 9, 1, 2, 4, 5, 6, 7, 8, 9, 10, 4, 9, 1, 2, 6, 8, 9, 7, 5, 7, 10, 1, 2, 3, 6, 7, 9, 10, 1, 3, 1, 2, 3, 4, 5, 6, 7, 9, 10, 1, 6, 10, 2, 5, 6, 2, 3, 9, 3, 1, 2, 3, 4, 6, 7, 9, 10, 1, 4, 1, 2, 5, 6, 7, 8, 9, 10, 1, 2, 5, 7, 8, 10, 6, 9, 10, 7, 7, 10, 2, 9, 1, 2, 4, 6, 7, 8, 9, 10, 1, 5, 7, 9, 1, 5, 7, 10, 4, 10, 6, 3, 7, 10, 7, 8, 9, 9, 10, 5, 7, 3, 7, 10, 1, 2, 3, 4, 5, 6, 7, 9, 10, 1, 1, 2, 3, 6, 7, 9, 10, 1, 2, 7, 9, 1, 2, 9, 4, 9, 6, 1, 2, 3, 4, 6, 7, 8, 9, 10, 1, 3, 4, 9, 1, 2, 3, 5, 6, 7, 8, 9, 10, 1, 3, 4, 5, 6, 7, 9, 10, 7, 6, 8, 8, 1, 2, 4, 5, 6, 7, 8, 9, 10, 1, 1, 2, 6, 3, 3, 1, 2, 3, 4, 5, 6, 8, 9, 10, 4, 5, 9, 1, 2, 4, 5, 6, 7, 8, 9, 10, 1, 3, 5, 7, 9, 10, 4, 1, 5, 6, 7, 8, 9, 10, 1, 9, 1, 3, 4, 7, 8, 9, 10, 1, 3, 7, 9, 2, 3, 8, 9, 10, 1, 6, 10, 6, 8, 9, 10, 5, 7, 1, 9, 2, 9, 1, 2, 3, 6, 7, 8, 9, 10, 7, 1, 2, 3, 4, 6, 7, 8, 9, 10, 8, 10, 2, 10, 4, 7, 10, 4, 6, 7, 9, 10, 3, 1, 4, 5, 6, 7, 8, 9, 10, 2, 5, 1, 9, 2, 9, 3, 2, 10, 4, 7, 10, 7, 10, 9, 4, 7, 10, 10, 1, 4, 7, 9, 1, 5, 10, 1, 5, 7, 9, 1, 3, 4, 6, 7, 8, 9, 10, 3, 5, 1, 2, 4, 5, 6, 7, 8, 9, 10, 1, 5, 7, 10, 10, 9, 3, 1, 4, 6, 7, 9, 10, 1, 4, 8, 1, 2, 3, 4, 5, 7, 8, 9, 10, 1, 2, 3, 4, 5, 6, 7, 8, 9, 10, 1, 2, 3, 4, 5, 6, 7, 8, 9, 10, 4, 3, 1, 2, 4, 5, 6, 7, 8, 9, 10, 1, 2, 3, 4, 5, 7, 8, 9, 10, 1, 2, 4, 6, 7, 9, 10, 1, 2, 6, 8, 9, 10, 2, 2, 5, 6, 1, 2, 5, 7, 7, 1, 7, 1, 1, 2, 4, 5, 7, 8, 10, 1, 2, 7, 9, 10, 9, 1, 4, 5, 6, 7, 9, 10, 1, 2, 4, 5, 6, 7, 8, 9, 10, 6, 1, 2, 4, 5, 6, 7, 9, 10, 6, 9, 1, 2, 3, 5, 7, 10, 9, 9, 9, 1, 3, 5, 9, 1, 7, 3, 4, 8, 5, 5, 1, 2, 1, 2, 7, 8, 9, 10, 2, 1, 2, 6, 7, 8, 9, 10, 10, 1, 2, 3, 4, 5, 6, 7, 8, 9, 10, 1, 2, 3, 4, 5, 6, 7, 8, 9, 10, 1, 2, 3, 4, 5, 6, 7, 8, 9, 10, 10, 6, 1, 2, 3, 4, 5, 6, 7, 8, 9, 10, 6, 1, 3, 5, 6, 7, 8, 9, 10, 1, 2, 8, 1, 8, 9, 1, 8, 9, 6, 9, 4, 5, 3, 5, 7, 3, 1, 1, 5, 8, 9, 10, 1, 2, 10, 1, 2, 3, 5, 6, 7, 9, 1, 2, 4, 5, 6, 7, 8, 9, 10, 1, 4, 7, 9, 10, 2, 3, 4, 7, 9, 10, 2, 5, 7, 9, 1, 2, 6, 7, 8, 9, 10, 1, 2, 3, 4, 5, 6, 7, 8, 9, 10, 1, 2, 3, 4, 6, 7, 8, 9, 10, 1, 2, 3, 4, 5, 6, 7, 9, 10, 10, 1, 2, 3, 5, 6, 8, 9, 10, 6, 1, 2, 3, 4, 5, 6, 7, 8, 9, 10, 2, 3, 4, 8, 9, 10, 1, 2, 7, 5, 5, 4, 10, 7, 9, 1, 2, 6, 7, 8, 9, 10, 6, 7, 6, 4, 7, 9, 10, 1, 2, 7, 8, 9, 1, 3, 4, 6, 7, 9, 10, 1, 2, 3, 4, 5, 6, 7, 8, 9, 10, 1, 3, 6, 7, 8, 9, 6, 10, 1, 4, 6, 9, 2, 10, 7, 2, 3, 4, 10, 1, 2, 4, 6, 7, 9, 10, 2, 3, 4, 5, 7, 8, 9, 10, 1, 6, 8, 9, 1, 2, 4, 5, 7, 9, 10, 10, 1, 2, 3, 7, 9, 1, 4, 5, 8, 9, 8, 4, 6, 6, 1, 4, 6, 7, 8, 9, 10, 1, 2, 3, 4, 5, 6, 7, 8, 9, 5, 7, 8, 4, 5, 6, 5, 7, 9, 9, 1, 2, 3, 4, 5, 6, 7, 9, 10, 3, 5, 3, 4, 9, 9, 7, 8, 7, 8, 5, 8, 10, 3, 6, 1, 6, 7, 2, 10, 1, 2, 3, 4, 5, 6, 7, 8, 9, 10, 7, 6, 7, 10, 4, 10, 5, 8, 1, 2, 3, 4, 7, 9, 10, 6, 4, 6, 7, 8, 9, 10, 1, 2, 3, 5, 7, 9, 2, 4, 10, 1, 2, 7, 8, 9, 10, 1, 8, 1, 3, 4, 5, 6, 7, 8, 9, 10, 1, 1, 2, 7, 1, 4, 7, 9, 10, 4, 9, 8, 6, 4, 8, 4, 8, 9, 10, 7, 10, 10, 1, 2, 4, 5, 6, 7, 8, 9, 10, 7, 6, 7, 7, 8, 10, 1, 3, 7, 10, 4, 3, 1, 1, 2, 6, 7, 8, 9, 10, 1, 2, 6, 7, 8, 9, 1, 2, 9, 1, 2, 3, 4, 5, 6, 7, 8, 9, 10, 9, 10, 6, 2, 1, 2, 5, 6, 7, 8, 9, 10, 5, 7, 3, 6, 7, 8, 9, 1, 5, 8, 9, 1, 2, 3, 4, 5, 7, 9, 10, 4, 8, 10, 7, 1, 4, 6, 8, 9, 10, 1, 2, 3, 4, 5, 6, 7, 8, 9, 10, 1, 2, 3, 7, 9, 10, 3, 8, 6, 1, 2, 3, 6, 7, 8, 9, 10, 1, 2, 3, 6, 7, 8, 9, 10, 3, 2, 1, 2, 4, 5, 7, 8, 9, 10, 6, 10, 1, 2, 3, 4, 5, 6, 7, 8, 9, 10, 7, 8, 1, 5, 6, 7, 8, 9, 7, 1, 4, 5, 6, 7, 8, 9, 10, 2, 1, 3, 7, 8, 10, 9, 1, 2, 3, 4, 6, 7, 9, 10, 1, 2, 5, 6, 7, 8, 9, 1, 6, 6, 1, 5, 10, 1, 2, 3, 4, 5, 6, 7, 8, 9, 10, 1, 2, 4, 6, 8, 9, 1, 2, 3, 4, 5, 6, 7, 8, 9, 10, 1, 6, 7, 8, 9, 10, 10, 4, 5, 9, 9, 1, 2, 3, 4, 7, 8, 9, 10, 1, 2, 3, 4, 5, 7, 8, 9, 10, 7, 1, 2, 3, 4, 5, 6, 7, 8, 9, 10, 1, 2, 4, 5, 6, 7, 8, 9, 10, 1, 2, 3, 7, 9, 10, 1, 4, 7, 9, 7, 9, 10, 1, 7, 9, 7, 1, 2, 3, 4, 5, 6, 7, 8, 9, 10, 9, 1, 10, 6, 6, 1, 2, 3, 5, 6, 7, 8, 9, 10, 4, 4, 3, 9, 4, 8, 4, 8, 1, 7, 8, 9, 7, 8, 1, 2, 5, 7, 9, 10, 9, 1, 3, 4, 6, 7, 8, 9, 10, 4, 6, 9, 10, 1, 2, 3, 4, 5, 8, 9, 10, 2, 5, 7, 8, 1, 5, 1, 9, 10, 2, 7, 9, 1, 7, 1, 1, 2, 4, 6, 8, 9, 10, 7, 2, 1, 2, 4, 6, 8, 9, 3, 1, 6, 2, 2, 2, 3, 7, 10, 3, 5, 7, 1, 2, 7, 9, 9, 9, 10, 2, 4, 5, 10, 3, 4, 7, 8, 9, 10, 1, 2, 3, 4, 6, 7, 9, 10, 6, 9, 10, 1, 4, 5, 8, 9, 10, 3, 2, 2, 5, 9, 7, 9, 1, 2, 3, 4, 5, 6, 7, 8, 9, 10, 1, 2, 3, 6, 7, 8, 9, 10, 1, 2, 4, 6, 7, 8, 9, 10, 2, 7, 1, 2, 6, 7, 9, 10, 1, 2, 3, 4, 7, 9, 10, 7, 6, 8, 4, 5, 10, 1, 2, 3, 4, 5, 6, 7, 9, 10, 1, 2, 3, 4, 5, 6, 7, 8, 9, 10, 6, 2, 1, 3, 4, 6, 4, 5, 9, 7, 9, 1, 2, 9, 2, 7, 9, 8, 3, 9, 5, 4, 10, 9, 10, 1, 2, 3, 4, 5, 7, 8, 9, 10, 1, 4, 9, 4, 5, 6, 8, 1, 10, 1, 4, 5, 7, 9, 10, 2, 7, 8, 10, 3, 10, 1, 4, 5, 7, 8, 9, 10, 2, 2, 1, 2, 3, 4, 5, 6, 7, 8, 9, 10, 1, 2, 3, 7, 8, 9, 10, 8, 10, 4, 10, 5, 9, 7, 2, 9, 7, 9, 1, 4, 5, 8, 9, 4, 6, 7, 8, 9, 10, 1, 2, 4, 6, 7, 9, 10, 2, 5, 1, 2, 4, 5, 6, 7, 8, 9, 1, 2, 3, 6, 7, 9, 1, 2, 3, 6, 7, 9, 1, 2, 3, 4, 5, 6, 7, 8, 9, 10, 1, 6, 9, 10, 1, 2, 4, 7, 8, 9, 10, 4, 10, 2, 7, 9, 10, 3, 1, 4, 5, 7, 8, 9, 10, 10, 4, 7, 10, 1, 2, 3, 6, 7, 8, 9, 10, 9, 2, 9, 7, 4, 7, 1, 6, 7, 9, 7, 8, 1, 7, 7, 1, 8, 9, 10, 1, 2, 3, 5, 6, 7, 8, 9, 10, 8, 9, 5, 1, 2, 3, 4, 5, 8, 9, 10, 6, 5, 1, 7, 8, 9, 10, 6, 9, 1, 4, 4, 9, 1, 2, 6, 9, 1, 2, 6, 8, 9, 10, 1, 2, 4, 6, 7, 8, 9, 10, 5, 5, 7, 6, 8, 7, 8, 1, 2, 4, 5, 6, 7, 8, 9, 10, 6, 1, 2, 3, 5, 7, 9, 10, 4, 5, 6, 7, 8, 9, 10, 1, 7, 1, 3, 9, 1, 2, 7, 8, 9, 2, 3, 4, 8, 10, 7, 1, 1, 8, 7, 9, 1, 9, 1, 7, 1, 1, 4, 1, 4, 5, 9, 10, 1, 2, 4, 5, 6, 7, 8, 9, 10, 1, 2, 3, 5, 7, 8, 9, 10, 1, 2, 4, 5, 7, 9, 10, 4, 5, 8, 2, 3, 1, 2, 4, 5, 6, 7, 3, 4, 9, 10, 5, 8, 8, 1, 1, 4, 3, 6, 7, 3, 1, 2, 3, 4, 5, 6, 7, 8, 9, 10, 4, 10, 4, 5, 8, 1, 2, 7, 9, 1, 2, 6, 7, 9, 10, 1, 2, 9, 2, 2, 1, 4, 6, 7, 8, 9, 10, 1, 3, 6, 10], \"Freq\": [0.8919184000531647, 0.872138625954798, 0.07145707250151297, 0.14291414500302593, 0.7860277975166425, 0.7646033772330287, 0.8912090957768223, 0.9235884340643989, 0.8919184000531647, 0.7295939755715519, 0.14591879511431038, 0.639494921044135, 0.12789898420882698, 0.12789898420882698, 0.8056782704183036, 0.9341900062607604, 0.18963633570512117, 0.6637271749679241, 0.09481816785256059, 0.11619905669106305, 0.03873301889702102, 0.03873301889702102, 0.4260632078672312, 0.15493207558808408, 0.15493207558808408, 0.07746603779404204, 0.7646030881205095, 0.6052962115003226, 0.2328062351924318, 0.13968374111545906, 0.09831549604931043, 0.04274586784752628, 0.18808181852911562, 0.01709834713901051, 0.025647520708515767, 0.14533595068158933, 0.07266797534079467, 0.004274586784752628, 0.34624152956496285, 0.05984421498653679, 0.12670644950789864, 0.13304177198329356, 0.06968854722934426, 0.09502983713092397, 0.006335322475394932, 0.5448377328839641, 0.025341289901579727, 0.278453050144434, 0.556906100288868, 0.6314978409677261, 0.023388808924730598, 0.23388808924730597, 0.09355523569892239, 0.8359695019268527, 0.12132807937779766, 0.08887987210234015, 0.10157699668838874, 0.031037415654785447, 0.0014107916206720658, 0.6574288952331827, 0.11642480429893974, 0.026460182795213578, 0.14817702365319604, 0.06350443870851259, 0.6350443870851259, 0.005292036559042716, 0.1282873310977272, 0.07565663116019808, 0.03618360620705126, 0.03289418746095569, 0.03618360620705126, 0.10855081862115377, 0.15131326232039616, 0.016447093730477844, 0.190786287273543, 0.22696989348059424, 0.05871893743739149, 0.03914595829159433, 0.05871893743739149, 0.841638103269278, 0.09664706388305348, 0.6765294471813744, 0.04832353194152674, 0.09664706388305348, 0.22761012212775988, 0.6828303663832797, 0.0758700407092533, 0.8587990159572713, 0.16819315853016065, 0.05311362900952442, 0.04426135750793701, 0.017704543003174807, 0.10622725801904884, 0.02655681450476221, 0.3363863170603213, 0.22130678753968508, 0.09657927727929007, 0.4185102015435903, 0.09657927727929007, 0.09657927727929007, 0.2897378318378702, 0.07090333433928366, 0.7799366777321202, 0.07090333433928366, 0.9274341774407149, 0.09024595190104104, 0.06768446392578079, 0.15793041582682182, 0.1128074398763013, 0.09024595190104104, 0.1128074398763013, 0.02256148797526026, 0.18049190380208208, 0.15793041582682182, 0.4685513135554139, 0.4685513135554139, 0.17847667878488865, 0.11898445252325911, 0.5949222626162955, 0.029746113130814777, 0.059492226261629554, 0.922364554357545, 0.11397603300006727, 0.797832231000471, 0.056988016500033635, 0.10924922481701914, 0.19118614342978352, 0.19118614342978352, 0.013656153102127392, 0.10924922481701914, 0.27995113859361154, 0.10242114826595544, 0.8919184000531647, 0.9595105387475807, 0.23384249106542057, 0.004772295736028991, 0.13839657634484076, 0.014316887208086973, 0.028633774416173947, 0.06681214030440588, 0.1622580550249857, 0.2767931526896815, 0.07635673177646386, 0.7981794676438702, 0.07981794676438703, 0.07981794676438703, 0.7267800836620659, 0.18169502091551648, 0.7849439400207061, 0.8587993948490289, 0.8494370607649816, 0.1061796325956227, 0.9507880695840015, 0.23575093919162285, 0.07253875052049934, 0.04987039098284329, 0.004533671907531209, 0.04533671907531209, 0.2720203144518725, 0.303756017804591, 0.018134687630124834, 0.8924931968422785, 0.7707972685376456, 0.14589388108967954, 0.09726258739311969, 0.024315646848279922, 0.4376816432690386, 0.07294694054483977, 0.024315646848279922, 0.14589388108967954, 0.048631293696559844, 0.651794764602014, 0.031037845933429238, 0.031037845933429238, 0.09311353780028772, 0.09311353780028772, 0.09311353780028772, 0.38199702140608116, 0.38199702140608116, 0.21487332454092067, 0.9320244433930832, 0.7795954021148883, 0.09744942526436104, 0.7082332960278375, 0.17705832400695937, 0.281825016060261, 0.09735773282081744, 0.015372273603286964, 0.11785409762520006, 0.03586863840766958, 0.02049636480438262, 0.3894309312832698, 0.04099272960876524, 0.07970100266915255, 0.07970100266915255, 0.7571595253569492, 0.03985050133457627, 0.18416733547259057, 0.36833467094518113, 0.27625100320888585, 0.09208366773629528, 0.573362525446375, 0.19112084181545833, 0.7849439400207061, 0.08701617807830159, 0.08701617807830159, 0.7831456027047143, 0.8800600162150831, 0.4907722823969116, 0.4907722823969116, 0.12964584484645877, 0.7778750690787526, 0.48335058736741976, 0.3222337249116132, 0.9595105387475807, 0.956275030577109, 0.7854803372867133, 0.14397161182436877, 0.029708427836774506, 0.03884948255578204, 0.020567373117766966, 0.01371158207851131, 0.09141054719007541, 0.10740739294833859, 0.5416074921011967, 0.01371158207851131, 0.9097441749999423, 0.30763054746059143, 0.03371293670801002, 0.07163999050452129, 0.05478352215051628, 0.12220939556653632, 0.40876935758462146, 0.004214117088501252, 0.11081068886594206, 0.041554008324728275, 0.15236469719067033, 0.6925668054121379, 0.05659612062846431, 0.05659612062846431, 0.8489418094269646, 0.8744487476632049, 0.8908898179892945, 0.7003994060397745, 0.05290555697887672, 0.044087964149063935, 0.13667268886209819, 0.03527037131925115, 0.1278550960322854, 0.18516944942606853, 0.017635185659625574, 0.27334537772419637, 0.12344629961737902, 0.05773712461221998, 0.5196341215099798, 0.28868562306109985, 0.05773712461221998, 0.14450440587444097, 0.15583808476655397, 0.12750388753627145, 0.0056668394460565085, 0.05383497473753683, 0.05383497473753683, 0.01416709861514127, 0.3598443048245883, 0.09066943113690414, 0.13281003151085616, 0.09194540643059272, 0.035756546945230505, 0.005108078135032929, 0.2554039067516464, 0.19921504726628422, 0.1941069691312513, 0.08683732829555979, 0.8612816873990821, 0.7003992225832303, 0.9326153164758542, 0.8297038400834237, 0.010510048786962791, 0.05255024393481395, 0.042040195147851164, 0.06306029272177674, 0.199690926952293, 0.010510048786962791, 0.05255024393481395, 0.38887180511762326, 0.17867082937836745, 0.8919923830377567, 0.1182275046667646, 0.7093650280005875, 0.1182275046667646, 0.9478555254948003, 0.8721386721308488, 0.09586726781195323, 0.13916216295283534, 0.006184985020126015, 0.006184985020126015, 0.01236997004025203, 0.006184985020126015, 0.009277477530189022, 0.5813885918918453, 0.13606967044277232, 0.16275190871258616, 0.4882557261377585, 0.16275190871258616, 0.14259821071401982, 0.011407856857121585, 0.011407856857121585, 0.09696678328553347, 0.05703928428560793, 0.3992749899992555, 0.02281571371424317, 0.16541392442826297, 0.09126285485697268, 0.1457638489450224, 0.1457638489450224, 0.024293974824170398, 0.4494385342471524, 0.182204811181278, 0.0364409622362556, 0.7707972685376455, 0.23756650440428112, 0.09782150181352751, 0.23756650440428112, 0.02794900051815072, 0.04192350077722608, 0.3353880062178086, 0.01397450025907536, 0.8287841171598369, 0.10359801464497961, 0.19495891895407727, 0.029993679839088808, 0.0024994733199240676, 0.07498419959772203, 0.004998946639848135, 0.6823562163392703, 0.00999789327969627, 0.23217684405873382, 0.10740153330608095, 0.036326989206468555, 0.6222971194499396, 0.3812157873337904, 0.0476519734167238, 0.0476519734167238, 0.40504177404215236, 0.0953039468334476, 0.1482981694513451, 0.7414908472567256, 0.07414908472567255, 0.3511680986768655, 0.027012930667451193, 0.5672715440164751, 0.027012930667451193, 0.6829590818170207, 0.22765302727234024, 0.7948706715237582, 0.15897413430475163, 0.716860404474369, 0.89103794011941, 0.06923329161654912, 0.04720451701128349, 0.06608632381579689, 0.13846658323309824, 0.015734839003761162, 0.040910581409779025, 0.5066618159211095, 0.11643780862783261, 0.9562745067668087, 0.18139316297431837, 0.05116217417224364, 0.16743984274552465, 0.013953320228793722, 0.10697545508741853, 0.11162656183034977, 0.00465110674293124, 0.2883686180617369, 0.0697666011439686, 0.44321138470116755, 0.44321138470116755, 0.7995928725709994, 0.19989821814274986, 0.48082464273880904, 0.3205497618258727, 0.16027488091293635, 0.15799336783193224, 0.03949834195798306, 0.11849502587394918, 0.03949834195798306, 0.631973471327729, 0.9595105387475807, 0.10748251095726201, 0.015354644422466, 0.046063933267398, 0.130514477590961, 0.322447532871786, 0.007677322211233, 0.268706277393155, 0.092127866534796, 0.28174035714062096, 0.5634807142812419, 0.8287898411098577, 0.1035987301387322, 0.8587997139358626, 0.8509206681145578, 0.9595105387475807, 0.6839499896943857, 0.22798332989812856, 0.03887655746071856, 0.19438278730359282, 0.7678120098491916, 0.2164873501545813, 0.7216245005152709, 0.8737882206278345, 0.027499875230939476, 0.1374993761546974, 0.8249962569281843, 0.969559951665253, 0.0513020508077127, 0.1026041016154254, 0.7182287113079778, 0.1026041016154254, 0.3209263211641999, 0.05348772019403332, 0.6151087822313831, 0.769942166620674, 0.03347574637481192, 0.03347574637481192, 0.13390298549924767, 0.15237871103156758, 0.27618641374471625, 0.009523669439472974, 0.038094677757891895, 0.1904733887894595, 0.009523669439472974, 0.2571390748657703, 0.05714201663683785, 0.8017707132116257, 0.8664861547872041, 0.1570934234964655, 0.04887350953223371, 0.02094578979952873, 0.04887350953223371, 0.0628373693985862, 0.11520184389740803, 0.03490964966588122, 0.23389465276140417, 0.2757862323604616, 0.1351086537694055, 0.03377716344235138, 0.1351086537694055, 0.6755432688470274, 0.8695060487074852, 0.8737881932579461, 0.872138568987627, 0.5313802461188821, 0.027967381374678007, 0.11186952549871203, 0.027967381374678007, 0.19577166962274603, 0.08390214412403402, 0.3481006601891637, 0.3481006601891637, 0.29008388349096975, 0.023984584573452428, 0.15589979972744078, 0.10793063058053592, 0.023984584573452428, 0.023984584573452428, 0.05996146143363107, 0.03597687686017864, 0.19187667658761942, 0.3597687686017864, 0.15061005604068392, 0.08309520333279112, 0.07790175312449168, 0.015580350624898336, 0.015580350624898336, 0.08309520333279112, 0.1142559045825878, 0.015580350624898336, 0.30641356228966726, 0.14022315562408502, 0.17103987366839388, 0.01266962027173288, 0.01266962027173288, 0.05067848108693152, 0.05067848108693152, 0.08868734190213017, 0.11402658244559592, 0.04434367095106508, 0.37375379801611996, 0.08868734190213017, 0.7707945626374818, 0.9595105387475807, 0.22087473462708831, 0.014098387316622657, 0.009398924877748438, 0.014098387316622657, 0.05169408682761641, 0.11278709853298126, 0.014098387316622657, 0.44644893169305083, 0.11748656097185547, 0.11177717484326574, 0.06878595374970199, 0.0859824421871275, 0.008598244218712749, 0.017196488437425498, 0.03869209898420737, 0.02579473265613825, 0.5287920194508341, 0.11177717484326574, 0.1094388732059828, 0.12038276052658109, 0.02188777464119656, 0.12038276052658109, 0.3283166196179484, 0.25170940837376043, 0.0547194366029914, 0.24610273034803926, 0.015381420646752453, 0.3537726748753064, 0.015381420646752453, 0.2922469922882966, 0.07690710323376226, 0.85879994701019, 0.2817404713339344, 0.5634809426678687, 0.7849440058958622, 0.8681045654093565, 0.7168605503853974, 0.6962519518735321, 0.9100365639107448, 0.9320245349703515, 0.06704420055138194, 0.8715746071679653, 0.8681052700141089, 0.12511317482170026, 0.02085219580361671, 0.08340878321446683, 0.06255658741085013, 0.4796005034831843, 0.04170439160723342, 0.16681756642893367, 0.49926581277015747, 0.01783092188464848, 0.053492765653945444, 0.16047829696183633, 0.24963290638507873, 0.8737901288735198, 0.21147550828691622, 0.036461294532226934, 0.029169035625781548, 0.08021484797089926, 0.2843980973513701, 0.226060026099807, 0.13126066031601696, 0.08142299243881994, 0.03256919697552797, 0.016284598487763986, 0.06513839395105595, 0.1302767879021119, 0.08142299243881994, 0.08142299243881994, 0.1302767879021119, 0.39083036370633567, 0.7003992225832303, 0.24497094208012463, 0.045126226172654535, 0.03867962243370389, 0.06446603738950647, 0.03867962243370389, 0.3610098093812363, 0.13537867851796362, 0.06446603738950647, 0.6568497201813488, 0.2815070229348638, 0.061078462197564444, 0.061078462197564444, 0.5191669286792978, 0.030539231098782222, 0.27485307988904, 0.030539231098782222, 0.9306291142540623, 0.9147607621391372, 0.8737882009054556, 0.08474072437125091, 0.7202961571556327, 0.042370362185625454, 0.12711108655687636, 0.8105790408850967, 0.11579700584072809, 0.5596150096626757, 0.3730766731084505, 0.06217944551807508, 0.7646032730289334, 0.6962518488726298, 0.8572547576282449, 0.12246496537546356, 0.11134109524186826, 0.02226821904837365, 0.02226821904837365, 0.0445364380967473, 0.7125830095479568, 0.0890728761934946, 0.9385786291794037, 0.10269130033392986, 0.04401055728596994, 0.12469657897691483, 0.05134565016696493, 0.02200527864298497, 0.5721372447176092, 0.08068602169094488, 0.8695037189094348, 0.04305724843258168, 0.014352416144193893, 0.15070036951403587, 0.04305724843258168, 0.05740966457677557, 0.0932907049372603, 0.1076431210814542, 0.014352416144193893, 0.2368148663791992, 0.2511672825233931, 0.3210231891450652, 0.059448738730567635, 0.029724369365283818, 0.011889747746113528, 0.011889747746113528, 0.2615744504144976, 0.07728336034973793, 0.03566924323834058, 0.1307872252072488, 0.05350386485751087, 0.20241810077800962, 0.03282455688292048, 0.09847367064876143, 0.01641227844146024, 0.010941518960973493, 0.07111987324632771, 0.19147658181703614, 0.005470759480486746, 0.2790087335048241, 0.0930029111682747, 0.7854803447322506, 0.7849439400207061, 0.14573811722878544, 0.17488574067454252, 0.04996735447844072, 0.004163946206536727, 0.045803408271903996, 0.02498367723922036, 0.02914762344575709, 0.016655784826146908, 0.3164599116967912, 0.19154152550068942, 0.7003991975125108, 0.20297433810400137, 0.0955173355783536, 0.0059698334736471, 0.07760783515741229, 0.0955173355783536, 0.0119396669472942, 0.45967717747082665, 0.0477586677891768, 0.7422055961668708, 0.17463661086279314, 0.043659152715698285, 0.9436932004166698, 0.6718731447865111, 0.22395771492883704, 0.06403276374721695, 0.06403276374721695, 0.8324259287138203, 0.5135151464138382, 0.4401558397832899, 0.19582039910173954, 0.7832815964069582, 0.7587605138957009, 0.04463297140562946, 0.17853188562251784, 0.9595105387475807, 0.8681045669739069, 0.8919183977059555, 0.08588224271989957, 0.5152934563193975, 0.08588224271989957, 0.25764672815969875, 0.26518552624765906, 0.6629638156191476, 0.06629638156191477, 0.13695004027137206, 0.04980001464413529, 0.2614500768817103, 0.03735001098310147, 0.12450003661033823, 0.08715002562723677, 0.29880008786481177, 0.30091614939635747, 0.01823734238765803, 0.03647468477531606, 0.009118671193829015, 0.10942405432594818, 0.20061076626423832, 0.027356013581487044, 0.2462041222333834, 0.04559335596914507, 0.5752440860375665, 0.028762204301878324, 0.05752440860375665, 0.20133543011314828, 0.14381102150939162, 0.060184283916051795, 0.24073713566420718, 0.020061427972017265, 0.48147427132841436, 0.12036856783210359, 0.08024571188806906, 0.44194168059756367, 0.08838833611951273, 0.13258250417926912, 0.3093591764182946, 0.393442964762406, 0.105926952051417, 0.242118747546096, 0.015132421721631, 0.060529686886524, 0.121059373773048, 0.07566210860815499, 0.09195823352600423, 0.05323897730452876, 0.12099767569211083, 0.019359628110737732, 0.0435591632491599, 0.004839907027684433, 0.19359628110737734, 0.038719256221475463, 0.32427377085485704, 0.11131786163674197, 0.3341740683315154, 0.14480876294365666, 0.17822616977680822, 0.022278271222101027, 0.03341740683315154, 0.15594789855470717, 0.03341740683315154, 0.055695678055252565, 0.022278271222101027, 0.16455223852920975, 0.033878402050131415, 0.06291703237881549, 0.014519315164342036, 0.00967954344289469, 0.11131474959328894, 0.2032704123007885, 0.36298287910855087, 0.03871817377157876, 0.835969536889179, 0.09374124451388355, 0.36644304673609024, 0.07669738187499563, 0.025565793958331876, 0.0426096565972198, 0.008521931319443959, 0.3067895274999825, 0.06817545055555167, 0.7003992472672836, 0.0513270504896157, 0.0171090168298719, 0.22241721878833473, 0.028515028049786503, 0.0399210392697011, 0.0798420785394022, 0.07413907292944491, 0.0513270504896157, 0.30225929732773693, 0.13116912902901792, 0.41436806148434674, 0.0753396475426085, 0.03766982377130425, 0.03766982377130425, 0.33902841394173827, 0.0753396475426085, 0.8919183969199684, 0.7168608389996196, 0.8969202809456314, 0.9096952692093286, 0.9366134324920675, 0.6854880573472032, 0.2284960191157344, 0.07831815909717177, 0.8614997500688893, 0.03897037675064282, 0.3897037675064282, 0.11691113025192847, 0.11691113025192847, 0.01948518837532141, 0.1948518837532141, 0.11691113025192847, 0.6137820982044719, 0.35073262754541257, 0.8688461784477969, 0.03793544956608882, 0.07587089913217764, 0.7966444408878652, 0.11380634869826646, 0.4263137279831206, 0.1100164459311279, 0.04125616722417296, 0.013752055741390988, 0.4125616722417296, 0.11350577619978436, 0.03783525873326145, 0.18917629366630725, 0.05675288809989218, 0.11350577619978436, 0.43510547543250666, 0.05675288809989218, 0.04011125666569005, 0.13036158416349267, 0.010027814166422512, 0.06016688499853507, 0.04011125666569005, 0.030083442499267535, 0.07019469916495759, 0.030083442499267535, 0.3208900533255204, 0.28077879665983035, 0.06455268338000907, 0.12910536676001813, 0.11619483008401632, 0.14201590343601994, 0.09037375673201269, 0.43895824698406166, 0.2598775484834906, 0.6930067959559749, 0.7287364547382779, 0.05205260390987699, 0.10410520781975398, 0.10410520781975398, 0.7168608389996196, 0.8933953212152018, 0.9223644061337064, 0.052976552228113635, 0.21190620891245454, 0.10595310445622727, 0.6357186267373637, 0.4345072742454762, 0.04204909105601382, 0.0700818184266897, 0.12614727316804147, 0.18221272790939325, 0.11213090948270353, 0.04204909105601382, 0.015678721195589565, 0.06271488478235826, 0.14110849076030607, 0.2195020967382539, 0.06271488478235826, 0.03135744239117913, 0.09407232717353739, 0.36061058749856, 0.5989284248642774, 0.31942849326094797, 0.039928561657618496, 0.039928561657618496, 0.3698782443060393, 0.06377211108724816, 0.025508844434899265, 0.012754422217449633, 0.012754422217449633, 0.39538708874093864, 0.11478979995704669, 0.8359694609703455, 0.1676902071443995, 0.13974183928699957, 0.2655094946452992, 0.1676902071443995, 0.25153531071659924, 0.11408727861286713, 0.45634911445146853, 0.11408727861286713, 0.11408727861286713, 0.11408727861286713, 0.7622310959495366, 0.7707972685376456, 0.8353619042948188, 0.7003992225832303, 0.2842482591119788, 0.05527049482732921, 0.06316627980266196, 0.20529040935865134, 0.04737470985199647, 0.31583139901330975, 0.023687354925998234, 0.16616282122922255, 0.02265856653125762, 0.06797569959377286, 0.04531713306251524, 0.030211422041676827, 0.12084568816670731, 0.2039270987813186, 0.007552855510419207, 0.3398784979688643, 0.8752169862867475, 0.07293474885722895, 0.9633790069515105, 0.2326512332267435, 0.6979536996802305, 0.7849439400207064, 0.7646023390796951, 0.8969204078264347, 0.9041615635372662, 0.9041616138135083, 0.058254702945182535, 0.04660376235614603, 0.19806599001362063, 0.023301881178073015, 0.058254702945182535, 0.24466975236976665, 0.011650940589036507, 0.2796225741368762, 0.08155658412325555, 0.8128000992768755, 0.1806222442837501, 0.7405751564835645, 0.08228612849817384, 0.08228612849817384, 0.8908906827498901, 0.6643038872326684, 0.3321519436163342, 0.6175505144266158, 0.3705303086559695, 0.16055943205091852, 0.48167829615275554, 0.32111886410183704, 0.7962267868282434, 0.1769392859618319, 0.12989722215509256, 0.8443319440081015, 0.06494861107754628, 0.7113965051130162, 0.17784912627825405, 0.1819346229876209, 0.1455476983900967, 0.07277384919504835, 0.016171966487788524, 0.03234393297557705, 0.04042991621947131, 0.10107479054867827, 0.028300941353629917, 0.2223645392070922, 0.16576265649983238, 0.8612816873990821, 0.7003992312413421, 0.8969207669871293, 0.8359695019268527, 0.09592540653321933, 0.863328658798974, 0.10611374054993399, 0.8489099243994719, 0.18793198879360543, 0.11363329554962188, 0.06992818187669039, 0.008741022734586299, 0.12674482965150133, 0.46764471630036697, 0.017482045469172598, 0.8353638299198847, 0.2434665481747243, 0.07303996445241728, 0.09738661926988972, 0.14607992890483457, 0.14607992890483457, 0.26781320299219674, 0.057465164532853316, 0.07757797211935197, 0.18101526827848793, 0.005746516453285331, 0.0747047138927093, 0.6033842275949598, 0.2218502056335352, 0.3327753084503028, 0.3327753084503028, 0.022821314439296355, 0.38796234546803804, 0.04564262887859271, 0.04564262887859271, 0.31949840215014896, 0.15974920107507448, 0.27845314941187704, 0.5569062988237541, 0.1693404066786573, 0.09483062774004808, 0.006773616267146292, 0.020320848801438876, 0.054188930137170334, 0.12192509280863326, 0.04741531387002404, 0.3860961272273386, 0.10160424400719438, 0.9436932004166669, 0.13386720846015351, 0.06693360423007676, 0.7362696465308444, 0.07727106137532813, 0.038635530687664066, 0.1159065920629922, 0.15454212275065626, 0.579532960314961, 0.5543163119079726, 0.36954420793864845, 0.8297034176596876, 0.7003992225832303, 0.3886138774979181, 0.5829208162468771, 0.1856653330746238, 0.6962449990298393, 0.0928326665373119, 0.8695034727941562, 0.17401536790830202, 0.7830691555873591, 0.8933951515869548, 0.24190823140207718, 0.04031803856701286, 0.008063607713402572, 0.008063607713402572, 0.1773993696948566, 0.12901772341444115, 0.016127215426805144, 0.2741626622556875, 0.09676329256083087, 0.8612816873990821, 0.7614787213811242, 0.19036968034528104, 0.2270221684291002, 0.6810665052873005, 0.9474538219757719, 0.20338711575636215, 0.6915161935716313, 0.04067742315127243, 0.04067742315127243, 0.7707972685376456, 0.8721386437642352, 0.8681047778723201, 0.1531530060661157, 0.009009000356830336, 0.009009000356830336, 0.027027001070491007, 0.009009000356830336, 0.7747740306874089, 0.01801800071366067, 0.12804092320377838, 0.08002557700236149, 0.09603069240283378, 0.016005115400472298, 0.016005115400472298, 0.6562097314193642, 0.07936668131188075, 0.0634933450495046, 0.8571601581683121, 0.01010384182939891, 0.15155762744098364, 0.02020768365879782, 0.25259604573497274, 0.05051920914699455, 0.02020768365879782, 0.03031152548819673, 0.03031152548819673, 0.12124610195278691, 0.3132190967113662, 0.8509202087355461, 0.8359694680956588, 0.7003992312413421, 0.8056782819188633, 0.19526970867319943, 0.030832059264189384, 0.04110941235225251, 0.1849923555851363, 0.24665647411351507, 0.08221882470450502, 0.1849923555851363, 0.030832059264189384, 0.6829583412265628, 0.22765278040885428, 0.7072121145498904, 0.03536060572749452, 0.07072121145498904, 0.03536060572749452, 0.14144242290997808, 0.25480986997917066, 0.16987324665278042, 0.33974649330556084, 0.16987324665278042, 0.19799815018428607, 0.1397634001300843, 0.09899907509214304, 0.011646950010840356, 0.011646950010840356, 0.1339399251246641, 0.3435850253197905, 0.058234750054201784, 0.7707972685376456, 0.6756741728294622, 0.22522472427648738, 0.8612816980571777, 0.16451672488799698, 0.041129181221999246, 0.041129181221999246, 0.2467750873319955, 0.4112918122199925, 0.041129181221999246, 0.21251053492287686, 0.009659569769221676, 0.1014254825768276, 0.048297848846108375, 0.057957418615330054, 0.18353182561521184, 0.04346806396149754, 0.004829784884610838, 0.14489354653832512, 0.19802118026904436, 0.015036839119148987, 0.13533155207234088, 0.43606833445532067, 0.06014735647659595, 0.13533155207234088, 0.21051574766808584, 0.7158330636018374, 0.2526469636241779, 0.7849439400207061, 0.012814304775760186, 0.0961072858182014, 0.012814304775760186, 0.03203576193940046, 0.0961072858182014, 0.02562860955152037, 0.5830508672970884, 0.13455020014548197, 0.2158087647560267, 0.03480786528323011, 0.0626541575098142, 0.0626541575098142, 0.2506166300392568, 0.03480786528323011, 0.3202323606057171, 0.02088471916993807, 0.9595105387475807, 0.7168606734872415, 0.06323761360193153, 0.29089302256888505, 0.06323761360193153, 0.06323761360193153, 0.012647522720386307, 0.05059009088154523, 0.3541306361708166, 0.10118018176309046, 0.8353621317963182, 0.8359695553508596, 0.09076267020030203, 0.020627879590977734, 0.09901382203669312, 0.045381335100151014, 0.020627879590977734, 0.11964170162767085, 0.21865552366436397, 0.01237672775458664, 0.28879031427368823, 0.08251151836391094, 0.59584767410792, 0.35750860446475197, 0.1564664387426194, 0.2738162677995839, 0.03911660968565485, 0.3129328774852388, 0.0782332193713097, 0.11734982905696453, 0.8800601007341655, 0.3124627367998412, 0.024997018943987297, 0.09998807577594919, 0.212474661023892, 0.049994037887974595, 0.08748956630395553, 0.17497913260791106, 0.024997018943987297, 0.9185187565370548, 0.11429035634828212, 0.6095485671908379, 0.15238714179770949, 0.03809678544942737, 0.03809678544942737, 0.9041615462705813, 0.03532229577036074, 0.02354819718024049, 0.3414488591134871, 0.011774098590120245, 0.07064459154072147, 0.08241869013084172, 0.1530632816715632, 0.29435246475300614, 0.11932976636934477, 0.09546381309547582, 0.07159785982160687, 0.42958715892964117, 0.07159785982160687, 0.023865953273868954, 0.16706167291708268, 0.8919183980510851, 0.7849439390811728, 0.8353630373543048, 0.13363966929139254, 0.8463845721788195, 0.8359694714081745, 0.08246562852747803, 0.009162847614164225, 0.19241979989744873, 0.0366513904566569, 0.06413993329914958, 0.0733027809133138, 0.054977085684985355, 0.027488542842492678, 0.2932111236532552, 0.16493125705495607, 0.30377382036398276, 0.07594345509099569, 0.037971727545497845, 0.37971727545497846, 0.037971727545497845, 0.15188691018199138, 0.10138050208215912, 0.014482928868879875, 0.021724393303319812, 0.014482928868879875, 0.021724393303319812, 0.02896585773775975, 0.014482928868879875, 0.021724393303319812, 0.6444903346651544, 0.12310489538547893, 0.33816868702692987, 0.01932392497296742, 0.31884476205396245, 0.00966196248648371, 0.21256317470264163, 0.0966196248648371, 0.9647662709549261, 0.2976828306615999, 0.09922761022053331, 0.4961380511026665, 0.8737897853874064, 0.06233022132629834, 0.07791277665787293, 0.17140810864732042, 0.03116511066314917, 0.09349533198944751, 0.1090778873210221, 0.3116511066314917, 0.14024299798417125, 0.09232814792447579, 0.09809865716975552, 0.07501662018863657, 0.01731152773583921, 0.01731152773583921, 0.10963967566031499, 0.023082036981118947, 0.36931259169790315, 0.19619731433951104, 0.8612816980571777, 0.16737734267460977, 0.03964200221240758, 0.048451336037387036, 0.008809333824979462, 0.008809333824979462, 0.11892600663722273, 0.41844335668652444, 0.05285600294987677, 0.11011667281224327, 0.030832668387428114, 0.3064050802153832, 0.03510891544134599, 0.006383439171153817, 0.0383006350269229, 0.07021783088269198, 0.18192801637788378, 0.009575158756730725, 0.29363820187307554, 0.06064267212596126, 0.06106770899515113, 0.12976888161469616, 0.351139326722119, 0.030533854497575567, 0.22900390873181675, 0.19083659060984728, 0.11381633062932134, 0.045526532251728535, 0.7511877821535209, 0.09105306450345707, 0.9223645527537386, 0.25837136200749966, 0.6889902986866658, 0.762272662583883, 0.138595029560706, 0.069297514780353, 0.8963010632616135, 0.06449222630083322, 0.20637512416266632, 0.03869533578049993, 0.02579689052033329, 0.012898445260166645, 0.02579689052033329, 0.012898445260166645, 0.03869533578049993, 0.4256486935854993, 0.14188289786183308, 0.9041620445549672, 0.8681045654093565, 0.8937850588265575, 0.7849439714064335, 0.7003992175153622, 0.2328172482124958, 0.06073493431630325, 0.09616364600081348, 0.06579617884266185, 0.05567368978994465, 0.08604115694809628, 0.02024497810543442, 0.30367467158151623, 0.08097991242173767, 0.7707972685376456, 0.8744482042463397, 0.8678307923020225, 0.09642564358911362, 0.5804900774033737, 0.29024503870168683, 0.166342994892759, 0.665371979571036, 0.04474514140005679, 0.04474514140005679, 0.08949028280011358, 0.8054125452010222, 0.28423487852725904, 0.5684697570545181, 0.10994909891028144, 0.02748727472757036, 0.05497454945514072, 0.49477094509626646, 0.2611291099119184, 0.04123091209135554, 0.8737882857771803, 0.2020815611185956, 0.0673605203728652, 0.0074845022636516895, 0.014969004527303379, 0.2619575792278091, 0.037422511318258446, 0.23950407243685407, 0.17962805432764054, 0.8419235681795518, 0.6921227353711379, 0.17303068384278447, 0.9434352160646438, 0.15594251171217147, 0.13099170983822403, 0.07485240562184231, 0.006237700468486858, 0.056139304216381726, 0.012475400936973717, 0.42416363185710637, 0.1372294103067109, 0.7267803437048806, 0.18169508592622016, 0.28135204933483765, 0.5627040986696753, 0.3723237641364272, 0.49643168551523625, 0.03389379746542802, 0.7795573417048445, 0.13557518986171208, 0.7168608389996196, 0.8739251804853476, 0.09710279783170529, 0.10714148743020213, 0.857131899441617, 0.8681045669739069, 0.15662357932454654, 0.10441571954969771, 0.026103929887424427, 0.5742864575233374, 0.026103929887424427, 0.07831178966227327, 0.052207859774848854, 0.8969202866948381, 0.8588854057341542, 0.2039632379637812, 0.1019816189818906, 0.04079264759275624, 0.3875301521311843, 0.02039632379637812, 0.26515220935291556, 0.9595105387475807, 0.17308012329774375, 0.7788605548398468, 0.7168606638910183, 0.8587992846392636, 0.22712991793530612, 0.5451118030447347, 0.1817039343482449, 0.02271299179353061, 0.7572997281515054, 0.16227851317532258, 0.05409283772510753, 0.13386721407081742, 0.06693360703540871, 0.7362696773894959, 0.87384332153964, 0.9234235808590298, 0.8509203703087186, 0.8359695049463108, 0.8578771879206303, 0.4239420971933012, 0.14131403239776708, 0.28262806479553415, 0.4744781408105581, 0.018249159261944543, 0.16424243335750088, 0.018249159261944543, 0.1277441148336118, 0.18249159261944545, 0.14624677518956217, 0.014624677518956217, 0.07799828010109983, 0.009749785012637478, 0.03899914005054991, 0.112122527645331, 0.5898619932645675, 0.014624677518956217, 0.46187239836874444, 0.4105532429944395, 0.10263831074860988, 0.09263060352588673, 0.046315301762943364, 0.13894590528883008, 0.09263060352588673, 0.4631530176294336, 0.13894590528883008, 0.9399957866435263, 0.8056788776701794, 0.5696578541289584, 0.08137969344699407, 0.3255187737879763, 0.0849077757934719, 0.8490777579347191, 0.20317267247725174, 0.014512333748375125, 0.03869955666233367, 0.009674889165583418, 0.019349778331166835, 0.10642378082141758, 0.32410878704704443, 0.014512333748375125, 0.23703478455679372, 0.03869955666233367, 0.1180826610357995, 0.13197473880471708, 0.10419058326688191, 0.06946038884458794, 0.29173363314726936, 0.006946038884458793, 0.25005739984051656, 0.027784155537835174, 0.18139011862797913, 0.08421684079156173, 0.07126040374670609, 0.05830396670185043, 0.16195546306069564, 0.006478218522427826, 0.29799805203168, 0.13604258897098434, 0.8930446565765999, 0.9414412203071297, 0.15028137876546685, 0.05009379292182229, 0.05844275840879267, 0.12523448230455572, 0.5844275840879267, 0.03339586194788152, 0.1381981861269655, 0.040646525331460445, 0.08129305066292089, 0.016258610132584176, 0.09755166079550506, 0.5284048293089858, 0.08942235572921298, 0.9562745067738144, 0.27852929998404163, 0.5570585999680833, 0.3802860471793632, 0.1901430235896816, 0.1901430235896816, 0.07434284961771262, 0.06195237468142718, 0.10531903695842622, 0.055757137213284465, 0.006195237468142718, 0.1300999868309971, 0.03097618734071359, 0.4212761478337049, 0.11770951189471165, 0.043293276296164175, 0.06184753756594882, 0.18554261269784644, 0.043293276296164175, 0.03710852253956929, 0.1360645826450874, 0.043293276296164175, 0.024739015026379527, 0.32779194909952875, 0.10514081386211299, 0.7849439400207063, 0.8587989206724078, 0.8681045658032149, 0.9595105387475807, 0.5629813551519033, 0.37532090343460217, 0.7052181123913543, 0.1763045280978386, 0.05876817603261286, 0.07264312224225776, 0.8717174669070931, 0.9436931995023654, 0.5660171177431543, 0.3234383529960882, 0.05093793454558458, 0.05093793454558458, 0.8659448872749379, 0.762231201844339, 0.8678305747761436, 0.0964256194195715, 0.7646022416833292, 0.5617566225737585, 0.28087831128687923, 0.8058200527503608, 0.17517827233703498, 0.0073102915919315845, 0.021930874775794754, 0.10965437387897377, 0.058482332735452676, 0.12427495706283694, 0.021930874775794754, 0.05117204114352109, 0.31434253845305815, 0.27779108049340023, 0.8681045669739069, 0.4685511937880719, 0.4685511937880719, 0.07735036960053204, 0.07735036960053204, 0.07735036960053204, 0.6961533264047884, 0.06490211823814872, 0.908629655334082, 0.16935317874982836, 0.01612887416665032, 0.09677324499990192, 0.21773980124977932, 0.45160847666620896, 0.04838662249995096, 0.1271003583891259, 0.7626021503347554, 0.06355017919456295, 0.8933955654846045, 0.9595105387475807, 0.8359694709813996, 0.9575901824401667, 0.16288761843270733, 0.06515504737308293, 0.0977325710596244, 0.06515504737308293, 0.42350780792503906, 0.16288761843270733, 0.7168603900860863, 0.7168608389996196, 0.08564753684207826, 0.0053529710526298915, 0.053529710526298915, 0.048176739473669024, 0.021411884210519566, 0.16058913157889676, 0.198059928947306, 0.03211782631577935, 0.198059928947306, 0.2034128999999359, 0.07917292161607603, 0.1935338083948525, 0.07917292161607603, 0.04398495645337557, 0.01759398258135023, 0.43984956453375573, 0.14075186065080184, 0.47952827869155973, 0.3196855191277065, 0.02257306216086296, 0.9706416729171072, 0.5655798445524518, 0.1885266148508173, 0.9599438444510938, 0.6323009008472702, 0.28102262259878674, 0.7802568911229265, 0.21279733394261632, 0.10997914266818305, 0.24745307100341188, 0.19246349966932036, 0.35743221367159494, 0.054989571334091526, 0.31412756065592323, 0.04487536580798904, 0.22437682903994519, 0.20193914613595065, 0.08975073161597807, 0.11218841451997259, 0.235307262935277, 0.1647150840546939, 0.0470614525870554, 0.0156871508623518, 0.1176536314676385, 0.3608044698340914, 0.0627486034494072, 0.2817406381259052, 0.5634812762518104, 0.27292801430960145, 0.03275136171715218, 0.02183424114476812, 0.02183424114476812, 0.2401766525924493, 0.1637568085857609, 0.02183424114476812, 0.20742529087529712, 0.3877734346857028, 0.1246414611489759, 0.1523395636265261, 0.0276981024775502, 0.2492829222979518, 0.0553962049551004, 0.1266459677399641, 0.07035887096664671, 0.14071774193329342, 0.014071774193329343, 0.45029677418653896, 0.18293306451328145, 0.07896337084080418, 0.21996939019938308, 0.04512192619474525, 0.022560963097372624, 0.03948168542040209, 0.011280481548686312, 0.0507621669690884, 0.04512192619474525, 0.2820120387171578, 0.2030486678763536, 0.06353291708363622, 0.09529937562545432, 0.7941614635454527, 0.03176645854181811, 0.2028804351948121, 0.04830486552257431, 0.04830486552257431, 0.10627070414966348, 0.009660973104514862, 0.27050724692641614, 0.31881211244899044, 0.5617566351258191, 0.28087831756290954, 0.11508229317299683, 0.6904937590379809, 0.11508229317299683, 0.057541146586498414, 0.9595105387475807, 0.08756647972602773, 0.014594413287671288, 0.029188826575342577, 0.04378323986301386, 0.14594413287671287, 0.4670212252054812, 0.20432178602739803, 0.8359694859236059, 0.06580048485204452, 0.2632019394081781, 0.6580048485204453, 0.13412176743362775, 0.05901357767079621, 0.07510818976283154, 0.04828383627610599, 0.08047306046017665, 0.010729741394690219, 0.5418519404318561, 0.053648706973451095, 0.8737898952096531, 0.605254261575858, 0.302627130787929, 0.8967165692457114, 0.5673586386694016, 0.2836793193347008, 0.4535566779497444, 0.35276630507202344, 0.05039518643886049, 0.15118555931658148, 0.16377170908274127, 0.6550868363309651, 0.7822897113597849, 0.17384215807995218, 0.8800598886784481, 0.26871508407211864, 0.26871508407211864, 0.13435754203605932, 0.26871508407211864, 0.08117917692439043, 0.13370687964017247, 0.10028015973012935, 0.04297721131291258, 0.03342671991004312, 0.09072966832725989, 0.019100982805738922, 0.3772444104133437, 0.11938114253586828, 0.5482988677910388, 0.36553257852735915, 0.7646024447512586, 0.12364996668595317, 0.0945558568774936, 0.021820582356344678, 0.03636763726057446, 0.05818821961691914, 0.0072735274521148925, 0.5673351412649617, 0.08000880197326382, 0.7003992312413421, 0.8664849238868374, 0.10219237070614147, 0.051096185353070735, 0.25548092676535367, 0.1532885560592122, 0.4087694828245659, 0.6015545417194643, 0.3437454524111225, 0.9097442084863394, 0.7707972685376456, 0.6785196937528943, 0.22617323125096478, 0.2665693348830672, 0.11847525994802989, 0.47390103979211956, 0.11847525994802989, 0.18285121930436865, 0.11252382726422686, 0.5626191363211342, 0.028130956816056714, 0.05626191363211343, 0.07032739204014178, 0.13004559243774305, 0.0510893398862562, 0.03251139810943576, 0.023222427221025545, 0.23222427221025543, 0.027866912665230652, 0.4180036899784598, 0.08824522343989707, 0.7646032352762671, 0.42131433724522716, 0.42131433724522716, 0.11502229945433162, 0.8051560961803214, 0.22689623125564243, 0.6806886937669273, 0.3709418417543701, 0.06988759337401176, 0.005375968721077828, 0.016127906163233483, 0.02687984360538914, 0.08063953081616741, 0.02150387488431131, 0.3601899043122144, 0.048383718489700446, 0.7849439400207061, 0.08007780908041626, 0.020019452270104064, 0.26025287951135284, 0.12011671362062439, 0.14013616589072844, 0.26025287951135284, 0.12011671362062439, 0.028899159055160415, 0.043348738582740624, 0.10114705669306145, 0.07224789763790103, 0.10114705669306145, 0.3612394881895052, 0.2889915905516041, 0.7665268612786402, 0.20905278034872007, 0.8681045654093565, 0.9595105387475807, 0.8509202084592806, 0.14632918648377152, 0.020904169497681646, 0.04180833899536329, 0.04180833899536329, 0.7316459324188577, 0.8937099174210287, 0.9595105387475807, 0.34388866709617705, 0.17194433354808852, 0.42986083387022134, 0.8969212170320208, 0.8681045600889093, 0.2784530526375809, 0.5569061052751618, 0.8800612844530863, 0.9367228582244819, 0.9436932004166663, 0.874240275158922, 0.845228358448614, 0.06501756603450877, 0.9436932004166685, 0.8919184331220258, 0.7707929712208565, 0.16273383277450656, 0.054244610924835526, 0.03254676655490132, 0.716028864207829, 0.03254676655490132, 0.021304798699034167, 0.2982671817864783, 0.0639143960971025, 0.0639143960971025, 0.127828792194205, 0.0639143960971025, 0.14913359089323916, 0.14913359089323916, 0.042609597398068334, 0.016279178517819043, 0.010852785678546029, 0.28217242764219674, 0.010852785678546029, 0.11938064246400631, 0.021705571357092057, 0.43411142714184114, 0.10310146394618727, 0.25735506712580175, 0.057190014916844834, 0.019063338305614946, 0.019063338305614946, 0.03812667661122989, 0.5528368108628334, 0.04765834576403736, 0.2897080080860478, 0.5794160161720956, 0.8634408607212758, 0.8056791415508646, 0.8881675121635334, 0.24070648972489253, 0.048141297944978505, 0.048141297944978505, 0.16849454280742476, 0.07221194691746777, 0.4092010325323173, 0.7686775666287705, 0.04270430925715392, 0.04270430925715392, 0.08540861851430784, 0.695594430286585, 0.23186481009552834, 0.8634421280055137, 0.8919184766999745, 0.22736923289076091, 0.6821076986722827, 0.8614710854432173, 0.05067476973195396, 0.05067476973195396, 0.9595105387475807, 0.024773585595513, 0.0297283027146156, 0.14368679645397542, 0.0594566054292312, 0.0049547171191026, 0.024773585595513, 0.0792754739056416, 0.0346830198337182, 0.3319660469798742, 0.272509441550643, 0.5617568147133347, 0.28087840735666736, 0.14581094780470297, 0.14581094780470297, 0.5832437912188119, 0.023876433075244795, 0.5252815276553855, 0.10744394883860157, 0.33427006305342716, 0.050932952896617714, 0.14353832179955903, 0.041672416006323584, 0.4630268445147065, 0.29633718048941216, 0.004630268445147065, 0.11550540133398554, 0.046202160533594216, 0.8316388896046959, 0.7168608389996196, 0.8056783719090218, 0.06002141706312257, 0.030010708531561285, 0.09003212559468385, 0.30010708531561286, 0.210074959720929, 0.12004283412624514, 0.210074959720929, 0.6483935961934623, 0.04322623974623082, 0.17290495898492328, 0.12967871923869245], \"Term\": [\"abdullah\", \"adskille\", \"advokat\", \"advokat\", \"advokat\", \"afholdelse\", \"aflevere\", \"aircondition\", \"akhbar\", \"algeri\", \"algeri\", \"algerium\", \"algerium\", \"algerium\", \"aljahraomr\\u00e5de\", \"alshabaab\", \"altid\", \"altid\", \"altid\", \"analfab\", \"analfab\", \"analfab\", \"analfab\", \"analfab\", \"analfab\", \"analfab\", \"anderledes\", \"angiv\", \"angiv\", \"angiv\", \"angiveligt\", \"angiveligt\", \"angiveligt\", \"angiveligt\", \"angiveligt\", \"angiveligt\", \"angiveligt\", \"angiveligt\", \"angiveligt\", \"angiveligt\", \"anholde\", \"anholde\", \"anholde\", \"anholde\", \"anholde\", \"anholde\", \"anholde\", \"anklaget\", \"anklaget\", \"anledning\", \"anledning\", \"anledning\", \"anledning\", \"ansigt\", \"ans\\u00f8g\", \"ans\\u00f8g\", \"ans\\u00f8g\", \"ans\\u00f8g\", \"ans\\u00f8g\", \"ans\\u00f8g\", \"ans\\u00f8ge\", \"ans\\u00f8ge\", \"ans\\u00f8ge\", \"ans\\u00f8ge\", \"ans\\u00f8ge\", \"ans\\u00f8ge\", \"ans\\u00f8gere\", \"ans\\u00f8gere\", \"ans\\u00f8gere\", \"ans\\u00f8gere\", \"ans\\u00f8gere\", \"ans\\u00f8gere\", \"ans\\u00f8gere\", \"ans\\u00f8gere\", \"ans\\u00f8gere\", \"ans\\u00f8gere\", \"ans\\u00f8gers\", \"ans\\u00f8gers\", \"ans\\u00f8gers\", \"ans\\u00f8gers\", \"antage\", \"antage\", \"antage\", \"antage\", \"arabic\", \"arabic\", \"arabic\", \"arabien\", \"arbejde\", \"arbejde\", \"arbejde\", \"arbejde\", \"arbejde\", \"arbejde\", \"arbejde\", \"arbejde\", \"arbejdsgiver\", \"arbejdsgiver\", \"arbejdsgiver\", \"arbejdsgiver\", \"arbejdsgiver\", \"arbejdsplads\", \"arbejdsplads\", \"arbejdsplads\", \"arrangere\", \"asylans\\u00f8ger\", \"asylans\\u00f8ger\", \"asylans\\u00f8ger\", \"asylans\\u00f8ger\", \"asylans\\u00f8ger\", \"asylans\\u00f8ger\", \"asylans\\u00f8ger\", \"asylans\\u00f8ger\", \"asylans\\u00f8ger\", \"asylans\\u00f8gningsskema\", \"asylans\\u00f8gningsskema\", \"asylgrundlag\", \"asylgrundlag\", \"asylgrundlag\", \"asylgrundlag\", \"asylgrundlag\", \"asylrelevan\", \"asylsag\", \"asylsag\", \"asylsag\", \"asylsamtale\", \"asylsamtale\", \"asylsamtale\", \"asylsamtale\", \"asylsamtale\", \"asylsamtale\", \"asylsamtale\", \"atallah\", \"avlingstid\", \"baggrund\", \"baggrund\", \"baggrund\", \"baggrund\", \"baggrund\", \"baggrund\", \"baggrund\", \"baggrund\", \"baggrund\", \"baggrundsoplysninge\", \"baggrundsoplysninge\", \"baggrundsoplysninge\", \"baggrundsoplysningerne\", \"baggrundsoplysningerne\", \"bagrund\", \"bahrain\", \"bangladesh\", \"bangladesh\", \"bar\", \"barn\", \"barn\", \"barn\", \"barn\", \"barn\", \"barn\", \"barn\", \"barn\", \"bedoonbefolkning\", \"bedstefar\", \"bed\\u00f8mmelse\", \"bed\\u00f8mmelse\", \"bed\\u00f8mmelse\", \"bed\\u00f8mmelse\", \"bed\\u00f8mmelse\", \"bed\\u00f8mmelse\", \"bed\\u00f8mmelse\", \"bed\\u00f8mmelse\", \"begrunde\", \"begrunde\", \"begrunde\", \"begrunde\", \"begrunde\", \"begrunde\", \"begyndelse\", \"begyndelse\", \"begyndelse\", \"belaste\", \"belgien\", \"belgien\", \"beliggende\", \"beliggende\", \"bem\\u00e6rke\", \"bem\\u00e6rke\", \"bem\\u00e6rke\", \"bem\\u00e6rke\", \"bem\\u00e6rke\", \"bem\\u00e6rke\", \"bem\\u00e6rke\", \"bem\\u00e6rke\", \"bem\\u00e6rkelsesv\\u00e6rdigt\", \"bem\\u00e6rkelsesv\\u00e6rdigt\", \"bem\\u00e6rkelsesv\\u00e6rdigt\", \"bem\\u00e6rkelsesv\\u00e6rdigt\", \"ben\\u00e6gtet\", \"ben\\u00e6gtet\", \"ben\\u00e6gtet\", \"ben\\u00e6gtet\", \"beskede\", \"beskede\", \"beskedent\", \"beskylde\", \"beskylde\", \"beskylde\", \"beskyttelse\", \"bestemt\", \"bestemt\", \"besvare\", \"besvare\", \"betjent\", \"betjent\", \"betjente\", \"bevidst\", \"bev\\u00e6gelse\", \"bidoon\", \"bidoon\", \"bidoon\", \"bidoon\", \"bidoon\", \"bidoon\", \"bidoon\", \"bidoon\", \"bidoon\", \"bidoonbefolkning\", \"bidooner\", \"bidooner\", \"bidooner\", \"bidooner\", \"bidooner\", \"bidooner\", \"bidooner\", \"bidoonere\", \"bidoonere\", \"bidoonere\", \"bidoonere\", \"bidoons\", \"bidoons\", \"bidoons\", \"biseksuel\", \"blankt\", \"blokke\", \"bo\", \"bo\", \"bo\", \"bo\", \"bo\", \"bo\", \"bo\", \"bo\", \"bo\", \"bolig\", \"bolig\", \"bolig\", \"bolig\", \"bop\\u00e6l\", \"bop\\u00e6l\", \"bop\\u00e6l\", \"bop\\u00e6l\", \"bop\\u00e6l\", \"bop\\u00e6l\", \"bop\\u00e6l\", \"bop\\u00e6l\", \"bop\\u00e6l\", \"bror\", \"bror\", \"bror\", \"bror\", \"bror\", \"bror\", \"bror\", \"bror\", \"bruger\", \"bruse\", \"burma\", \"burmesisk\", \"by\", \"by\", \"by\", \"by\", \"by\", \"by\", \"by\", \"by\", \"by\", \"b\\u00f8rne\", \"cder\", \"cder\", \"cder\", \"comr\\u00e5d\", \"comr\\u00e5den\", \"dag\", \"dag\", \"dag\", \"dag\", \"dag\", \"dag\", \"dag\", \"dag\", \"dag\", \"damaskus\", \"damaskus\", \"damaskus\", \"danmark\", \"danmark\", \"danmark\", \"danmark\", \"danmark\", \"danmark\", \"danmark\", \"danmark\", \"danmark\", \"dansk\", \"dansk\", \"dansk\", \"dansk\", \"dansk\", \"dansk\", \"datere\", \"dato\", \"dato\", \"dato\", \"dato\", \"dato\", \"dato\", \"dato\", \"dele\", \"dele\", \"deltage\", \"deltage\", \"deltage\", \"deltage\", \"deltage\", \"deltage\", \"deltage\", \"demonstration\", \"demonstration\", \"demonstration\", \"demonstration\", \"derefter\", \"derefter\", \"derefter\", \"derefter\", \"derefter\", \"dertil\", \"dertil\", \"dertil\", \"derudover\", \"derudover\", \"derudover\", \"derudover\", \"desertere\", \"desertere\", \"diskrimination\", \"diskrimination\", \"disses\", \"divergensen\", \"divergere\", \"divergere\", \"divergere\", \"divergere\", \"divergere\", \"divergere\", \"divergere\", \"divergere\", \"diwaniya\", \"dokument\", \"dokument\", \"dokument\", \"dokument\", \"dokument\", \"dokument\", \"dokument\", \"dokument\", \"dokument\", \"drab\", \"drab\", \"dreng\", \"dreng\", \"d\\u00f8\", \"d\\u00f8\", \"d\\u00f8\", \"d\\u00f8d\", \"d\\u00f8d\", \"d\\u00f8d\", \"d\\u00f8d\", \"d\\u00f8d\", \"efterstr\\u00e6be\", \"efter\\u00e5r\", \"efter\\u00e5r\", \"efter\\u00e5r\", \"efter\\u00e5r\", \"efter\\u00e5r\", \"efter\\u00e5r\", \"efter\\u00e5r\", \"efter\\u00e5r\", \"eksempelvis\", \"eksempelvis\", \"elektricit\", \"elektricit\", \"emirat\", \"endnu\", \"enkeltvis\", \"episod\", \"episod\", \"eritrea\", \"eritrea\", \"eritrea\", \"eritreisk\", \"eritreisk\", \"erkende\", \"etiopien\", \"etiopien\", \"etiopien\", \"etiopisk\", \"facebook\", \"facebook\", \"facebook\", \"facebook\", \"fader\", \"fader\", \"fader\", \"fald\", \"fald\", \"fald\", \"fald\", \"falsk\", \"falsk\", \"falsk\", \"falsk\", \"falsk\", \"falsk\", \"falsk\", \"falsk\", \"familiemedlemme\", \"fange\", \"far\", \"far\", \"far\", \"far\", \"far\", \"far\", \"far\", \"far\", \"far\", \"farbror\", \"farbror\", \"farbror\", \"farbror\", \"farfar\", \"feks\", \"filmoptagelse\", \"findes\", \"findes\", \"findes\", \"findes\", \"findes\", \"findes\", \"flertal\", \"flertal\", \"flertal\", \"flygte\", \"flygte\", \"flygte\", \"flygte\", \"flygte\", \"flygte\", \"flygte\", \"flygte\", \"flygte\", \"flygtningen\\u00e6vne\", \"flygtningen\\u00e6vne\", \"flygtningen\\u00e6vne\", \"flygtningen\\u00e6vne\", \"flygtningen\\u00e6vne\", \"flygtningen\\u00e6vne\", \"flygtningen\\u00e6vne\", \"flygtningen\\u00e6vne\", \"flygtningen\\u00e6vne\", \"flygtningen\\u00e6vne\", \"flygtningen\\u00e6vnet\", \"flygtningen\\u00e6vnet\", \"flygtningen\\u00e6vnet\", \"flygtningen\\u00e6vnet\", \"flygtningen\\u00e6vnet\", \"flygtningen\\u00e6vnet\", \"flygtningen\\u00e6vnet\", \"flygtningen\\u00e6vnet\", \"flygtningen\\u00e6vnet\", \"flygtningen\\u00e6vnet\", \"fods\", \"folke\", \"forbindelse\", \"forbindelse\", \"forbindelse\", \"forbindelse\", \"forbindelse\", \"forbindelse\", \"forbindelse\", \"forbindelse\", \"forbindelse\", \"fordi\", \"fordi\", \"fordi\", \"fordi\", \"fordi\", \"fordi\", \"fordi\", \"fordi\", \"fordi\", \"forekomme\", \"forekomme\", \"forekomme\", \"forekomme\", \"forekomme\", \"forekomme\", \"forekomme\", \"foreliggende\", \"foreliggende\", \"foreliggende\", \"foreliggende\", \"foreliggende\", \"foreliggende\", \"forene\", \"forevisning\", \"forevisning\", \"forg\\u00e6ves\", \"forhandling\", \"forlange\", \"forlove\", \"forl\\u00e6nge\", \"forl\\u00e6ngelse\", \"fornavn\", \"fornavn\", \"forretningsord\", \"forskellig\", \"forskellig\", \"forskellig\", \"forskellig\", \"forskellig\", \"forskellig\", \"forskellig\", \"forskelligt\", \"forskelligt\", \"forskelligt\", \"forskelligt\", \"forskelligt\", \"forts\\u00e6tte\", \"for\\u00e5r\", \"for\\u00e5r\", \"for\\u00e5r\", \"for\\u00e5r\", \"for\\u00e5r\", \"for\\u00e5r\", \"for\\u00e5r\", \"for\\u00e6lder\", \"for\\u00e6lder\", \"for\\u00e6lder\", \"for\\u00e6lder\", \"for\\u00e6lder\", \"for\\u00e6lder\", \"for\\u00e6lder\", \"for\\u00e6lder\", \"for\\u00e6lder\", \"frag\\u00e5\", \"fremg\\u00e5\", \"fremg\\u00e5\", \"fremg\\u00e5\", \"fremg\\u00e5\", \"fremg\\u00e5\", \"fremg\\u00e5\", \"fremg\\u00e5\", \"fremg\\u00e5\", \"fremh\\u00e6ve\", \"fremh\\u00e6ve\", \"fremlagt\", \"fremlagt\", \"fremlagt\", \"fremlagt\", \"fremlagt\", \"fremlagt\", \"fremm\\u00f8d\", \"fremm\\u00f8de\", \"fremover\", \"fremskaffe\", \"fremskaffe\", \"fremskaffe\", \"fremskaffe\", \"fremviste\", \"fremviste\", \"fri\", \"fri\", \"fri\", \"frie\", \"frieri\", \"fulgtes\", \"fulgtes\", \"fysisk\", \"fysisk\", \"fysisk\", \"fysisk\", \"fysisk\", \"fysisk\", \"f\\u00e5r\", \"f\\u00e6ngsel\", \"f\\u00e6ngsel\", \"f\\u00e6ngsel\", \"f\\u00e6ngsel\", \"f\\u00e6ngsel\", \"f\\u00e6ngsel\", \"f\\u00e6ngsel\", \"f\\u00e6tre\", \"f\\u00f8de\", \"f\\u00f8de\", \"f\\u00f8de\", \"f\\u00f8de\", \"f\\u00f8de\", \"f\\u00f8de\", \"f\\u00f8de\", \"f\\u00f8de\", \"f\\u00f8de\", \"f\\u00f8de\", \"f\\u00f8lge\", \"f\\u00f8lge\", \"f\\u00f8lge\", \"f\\u00f8lge\", \"f\\u00f8lge\", \"f\\u00f8lge\", \"f\\u00f8lge\", \"f\\u00f8lge\", \"f\\u00f8lge\", \"f\\u00f8lge\", \"f\\u00f8re\", \"f\\u00f8re\", \"f\\u00f8re\", \"f\\u00f8re\", \"f\\u00f8re\", \"f\\u00f8re\", \"f\\u00f8re\", \"f\\u00f8re\", \"f\\u00f8re\", \"f\\u00f8re\", \"gaddafi\", \"gadenumr\", \"gang\", \"gang\", \"gang\", \"gang\", \"gang\", \"gang\", \"gang\", \"gang\", \"gang\", \"gang\", \"gave\", \"generel\", \"generel\", \"generel\", \"generel\", \"generel\", \"generel\", \"generel\", \"generel\", \"generelt\", \"generelt\", \"generelt\", \"genindrejs\", \"genoptage\", \"genoptage\", \"gentage\", \"gentage\", \"gentage\", \"ghana\", \"ghana\", \"gifte\", \"gifte\", \"gram\", \"gram\", \"gram\", \"graviditet\", \"group\", \"grundl\\u00e6ggende\", \"gruppe\", \"gruppe\", \"gruppe\", \"gruppe\", \"gulf\", \"gulf\", \"gulf\", \"hel\", \"hel\", \"hel\", \"hel\", \"hel\", \"hel\", \"hel\", \"heller\", \"heller\", \"heller\", \"heller\", \"heller\", \"heller\", \"heller\", \"heller\", \"heller\", \"helt\", \"helt\", \"helt\", \"helt\", \"helt\", \"hense\", \"hense\", \"hense\", \"hense\", \"hense\", \"hense\", \"henvende\", \"henvende\", \"henvende\", \"henvende\", \"heraf\", \"heraf\", \"heraf\", \"heraf\", \"heraf\", \"heraf\", \"heraf\", \"herefter\", \"herefter\", \"herefter\", \"herefter\", \"herefter\", \"herefter\", \"herefter\", \"herefter\", \"herefter\", \"herefter\", \"hertil\", \"hertil\", \"hertil\", \"hertil\", \"hertil\", \"hertil\", \"hertil\", \"hertil\", \"hertil\", \"herunder\", \"herunder\", \"herunder\", \"herunder\", \"herunder\", \"herunder\", \"herunder\", \"herunder\", \"herunder\", \"historie\", \"hjem\", \"hjem\", \"hjem\", \"hjem\", \"hjem\", \"hjem\", \"hjem\", \"hjem\", \"hjem201899jahflygtningen\\u00e6vn\", \"hjemland\", \"hjemland\", \"hjemland\", \"hjemland\", \"hjemland\", \"hjemland\", \"hjemland\", \"hjemland\", \"hjemland\", \"hjemland\", \"hjemme\", \"hjemme\", \"hjemme\", \"hjemme\", \"hjemme\", \"hjemme\", \"hjemmeh\\u00f8re\", \"hjemrejse\", \"holdepunkte\", \"holland\", \"hollandsk\", \"homoseksuel\", \"homoseksuel\", \"hoved\", \"hoved\", \"hus\", \"hus\", \"hus\", \"hus\", \"hus\", \"hus\", \"hus\", \"husnumm\", \"husnumm\", \"husstande\", \"hvem\", \"hvem\", \"hvem\", \"hvem\", \"hver\", \"hver\", \"hver\", \"hver\", \"hver\", \"hvordan\", \"hvordan\", \"hvordan\", \"hvordan\", \"hvordan\", \"hvordan\", \"hvordan\", \"hvorefter\", \"hvorefter\", \"hvorefter\", \"hvorefter\", \"hvorefter\", \"hvorefter\", \"hvorefter\", \"hvorefter\", \"hvorefter\", \"hvorefter\", \"hvorfor\", \"hvorfor\", \"hvorfor\", \"hvorfor\", \"hvorfor\", \"hvorfor\", \"hvorfra\", \"hvorfra\", \"hvori\", \"hvori\", \"hvori\", \"hvori\", \"hyrevogn\", \"h\\u00e6ndelse\", \"identitetssp\\u00f8rgsm\\u00e5le\", \"idkort\", \"idkort\", \"idkort\", \"idkort\", \"if\\u00f8lge\", \"if\\u00f8lge\", \"if\\u00f8lge\", \"if\\u00f8lge\", \"if\\u00f8lge\", \"if\\u00f8lge\", \"if\\u00f8lge\", \"ihjel\", \"ihjel\", \"ihjel\", \"ihjel\", \"ihjel\", \"ihjel\", \"ihjel\", \"ihjel\", \"illegal\", \"illegal\", \"illegal\", \"illegal\", \"imidlertid\", \"imidlertid\", \"imidlertid\", \"imidlertid\", \"imidlertid\", \"imidlertid\", \"imidlertid\", \"in\", \"indbyrdes\", \"indbyrdes\", \"indbyrdes\", \"indbyrdes\", \"indbyrdes\", \"indlede\", \"indlede\", \"indlede\", \"indlede\", \"indlede\", \"indrejseforbud\", \"instruktion\", \"ipad\", \"ipade\", \"irak\", \"irak\", \"irak\", \"irak\", \"irak\", \"irak\", \"irak\", \"irakisk\", \"irakisk\", \"irakisk\", \"irakisk\", \"irakisk\", \"irakisk\", \"irakisk\", \"irakisk\", \"irakisk\", \"iran\", \"iran\", \"isil\", \"islamisk\", \"islamisk\", \"isolere\", \"istanbul\", \"italiensk\", \"kabd\", \"kaution\", \"kendskab\", \"kendskab\", \"kendskab\", \"kendskab\", \"kendskab\", \"kendskab\", \"kendskab\", \"kendskab\", \"kendskab\", \"kigge\", \"kigge\", \"kilometer\", \"kilometer\", \"kilometer\", \"kl\", \"klager\", \"klager\", \"klagere\", \"klagere\", \"klan\", \"klan\", \"klan\", \"knap\", \"knap\", \"knytte\", \"knytte\", \"knytte\", \"kn\\u00e6\", \"kn\\u00e6\", \"komme\", \"komme\", \"komme\", \"komme\", \"komme\", \"komme\", \"komme\", \"komme\", \"komme\", \"komme\", \"kommentere\", \"konsekvenes\", \"konsistent\", \"kopie\", \"krig\", \"krig\", \"kurder\", \"kurder\", \"kuwaitisk\", \"kuwaitisk\", \"kuwaitisk\", \"kuwaitisk\", \"kuwaitisk\", \"kuwaitisk\", \"kuwaitisk\", \"kvarter\", \"kvinde\", \"kvinde\", \"kvinde\", \"kvinde\", \"kvinde\", \"kvinde\", \"kvindelig\", \"kvindelig\", \"kvindelig\", \"kvindelig\", \"kvindelig\", \"kvindelig\", \"k\\u00e6mpe\", \"k\\u00e6mpe\", \"k\\u00e6mpe\", \"k\\u00f8re\", \"k\\u00f8re\", \"k\\u00f8re\", \"k\\u00f8re\", \"k\\u00f8re\", \"k\\u00f8re\", \"k\\u00f8ret\\u00f8j\", \"k\\u00f8ret\\u00f8j\", \"land\", \"land\", \"land\", \"land\", \"land\", \"land\", \"land\", \"land\", \"land\", \"landinfo\", \"landinfos\", \"landinfos\", \"landinfos\", \"landsby\", \"landsby\", \"landsby\", \"landsby\", \"landsby\", \"leje\", \"leje\", \"lejr\", \"leveforhold\", \"libanesisk\", \"libanesisk\", \"libanon\", \"libanon\", \"libanon\", \"liberation\", \"libyen\", \"libyen\", \"libysk\", \"ligesom\", \"ligesom\", \"ligesom\", \"ligesom\", \"ligesom\", \"ligesom\", \"ligesom\", \"ligesom\", \"ligesom\", \"lik\", \"lillebror\", \"lillebror\", \"liste\", \"liste\", \"liyu\", \"lokalomr\\u00e5d\", \"lokalomr\\u00e5d\", \"lokalomr\\u00e5d\", \"lokalomr\\u00e5d\", \"lyde\", \"lytte\", \"l\\u00e6gehj\\u00e6lp\", \"l\\u00f8slade\", \"l\\u00f8slade\", \"l\\u00f8slade\", \"l\\u00f8slade\", \"l\\u00f8slade\", \"l\\u00f8slade\", \"l\\u00f8slade\", \"l\\u00f8sladels\", \"l\\u00f8sladels\", \"l\\u00f8sladels\", \"l\\u00f8sladels\", \"l\\u00f8sladels\", \"l\\u00f8sladels\", \"l\\u00f8sladelse\", \"l\\u00f8sladelse\", \"l\\u00f8sladelse\", \"mand\", \"mand\", \"mand\", \"mand\", \"mand\", \"mand\", \"mand\", \"mand\", \"mand\", \"mand\", \"mandelig\", \"marokkansk\", \"maskere\", \"mave\", \"meddele\", \"meddele\", \"meddele\", \"meddele\", \"meddele\", \"meddele\", \"meddele\", \"meddele\", \"meddelelse\", \"meddelelse\", \"medf\\u00f8re\", \"medf\\u00f8re\", \"medf\\u00f8re\", \"medf\\u00f8re\", \"medf\\u00f8re\", \"medvirke\", \"medvirke\", \"medvirke\", \"medvirke\", \"mens\", \"mens\", \"mens\", \"mens\", \"mens\", \"mens\", \"mens\", \"mens\", \"messeng\", \"militse\", \"militse\", \"mobiludl\\u00e6sning\", \"modtage\", \"modtage\", \"modtage\", \"modtage\", \"modtage\", \"modtage\", \"mor\", \"mor\", \"mor\", \"mor\", \"mor\", \"mor\", \"mor\", \"mor\", \"mor\", \"mor\", \"motivsamta\", \"motivsamta\", \"motivsamta\", \"motivsamta\", \"motivsamta\", \"motivsamta\", \"myanmar\", \"myanmar\", \"myndighedsops\\u00f8gning\", \"m\\u00e5ned\", \"m\\u00e5ned\", \"m\\u00e5ned\", \"m\\u00e5ned\", \"m\\u00e5ned\", \"m\\u00e5ned\", \"m\\u00e5ned\", \"m\\u00e5ned\", \"m\\u00e5tte\", \"m\\u00e5tte\", \"m\\u00e5tte\", \"m\\u00e5tte\", \"m\\u00e5tte\", \"m\\u00e5tte\", \"m\\u00e5tte\", \"m\\u00e5tte\", \"m\\u00e6ndene\", \"m\\u00e6rke\", \"m\\u00f8de\", \"m\\u00f8de\", \"m\\u00f8de\", \"m\\u00f8de\", \"m\\u00f8de\", \"m\\u00f8de\", \"m\\u00f8de\", \"m\\u00f8de\", \"najaf\", \"nationaltjeneste\", \"navn\", \"navn\", \"navn\", \"navn\", \"navn\", \"navn\", \"navn\", \"navn\", \"navn\", \"navn\", \"nr\", \"nr\", \"n\\u00e6gte\", \"n\\u00e6gte\", \"n\\u00e6gte\", \"n\\u00e6gte\", \"n\\u00e6gte\", \"n\\u00e6gte\", \"n\\u00e6gtelse\", \"n\\u00e6rmere\", \"n\\u00e6rmere\", \"n\\u00e6rmere\", \"n\\u00e6rmere\", \"n\\u00e6rmere\", \"n\\u00e6rmere\", \"n\\u00e6rmere\", \"n\\u00e6rmere\", \"n\\u00e6romr\\u00e5de\", \"n\\u00e6vn\", \"n\\u00e6vn\", \"n\\u00e6vn\", \"n\\u00e6vn\", \"n\\u00e6vn\", \"n\\u00e6vnsbehandling\", \"n\\u00e6vnsm\\u00f8de\", \"n\\u00e6vnsm\\u00f8de\", \"n\\u00e6vnsm\\u00f8de\", \"n\\u00e6vnsm\\u00f8de\", \"n\\u00e6vnsm\\u00f8de\", \"n\\u00e6vnsm\\u00f8de\", \"n\\u00e6vnsm\\u00f8de\", \"n\\u00e6vnsm\\u00f8de\", \"n\\u00f8dvendig\", \"n\\u00f8dvendig\", \"n\\u00f8dvendig\", \"n\\u00f8dvendig\", \"n\\u00f8dvendig\", \"n\\u00f8dvendig\", \"n\\u00f8dvendig\", \"of\", \"offentlig\", \"offentligg\\u00f8re\", \"officer\", \"officer\", \"ogaden\", \"omfattee\", \"omfattee\", \"omfattee\", \"omfattee\", \"omfattee\", \"omfattee\", \"omfattee\", \"omfattee\", \"omfattee\", \"omfattee\", \"omfattet\", \"omfattet\", \"omfattet\", \"omfattet\", \"omfattet\", \"omfattet\", \"omkring\", \"omkring\", \"omkring\", \"omkring\", \"omkring\", \"omkring\", \"omkring\", \"omkring\", \"omkring\", \"omkring\", \"omst\\u00e6ndighed\", \"omst\\u00e6ndighed\", \"omst\\u00e6ndighed\", \"omst\\u00e6ndighed\", \"omst\\u00e6ndighed\", \"omst\\u00e6ndighed\", \"onlf\", \"opdage\", \"opdage\", \"opdage\", \"opfyldt\", \"ophold\", \"ophold\", \"ophold\", \"ophold\", \"ophold\", \"ophold\", \"ophold\", \"ophold\", \"opholde\", \"opholde\", \"opholde\", \"opholde\", \"opholde\", \"opholde\", \"opholde\", \"opholde\", \"opholde\", \"opholdstilladels\", \"opholdstilladelse\", \"opholdstilladelse\", \"opholdstilladelse\", \"opholdstilladelse\", \"opholdstilladelse\", \"opholdstilladelse\", \"opholdstilladelse\", \"opholdstilladelse\", \"opholdstilladelse\", \"opholdstilladelse\", \"oplysning\", \"oplysning\", \"oplysning\", \"oplysning\", \"oplysning\", \"oplysning\", \"oplysning\", \"oplysning\", \"oplysning\", \"oplysnings\", \"oplysnings\", \"oplysnings\", \"oplysnings\", \"oplysnings\", \"oplysnings\", \"opn\\u00e5\", \"opn\\u00e5\", \"opn\\u00e5\", \"opn\\u00e5\", \"oprette\", \"oprindeligt\", \"oprindeligt\", \"oprindelse\", \"oprindelse\", \"oprindelse\", \"opslag\", \"ops\\u00f8ge\", \"ops\\u00f8ge\", \"ops\\u00f8ge\", \"ops\\u00f8ge\", \"ops\\u00f8ge\", \"ops\\u00f8ge\", \"ops\\u00f8ge\", \"ops\\u00f8ge\", \"ops\\u00f8ge\", \"ops\\u00f8ge\", \"ops\\u00f8gte\", \"optr\\u00e6den\", \"ortodoks\", \"overbevisning\", \"overdrage\", \"overgreb\", \"overgreb\", \"overgreb\", \"overgreb\", \"overgreb\", \"overgreb\", \"overgreb\", \"overgreb\", \"overgreb\", \"overh\\u00f8re\", \"overnatning\", \"overs\\u00e6ttelse\", \"overs\\u00e6ttelse\", \"overtr\\u00e6delse\", \"overtr\\u00e6delse\", \"pal\\u00e6stinenser\", \"pal\\u00e6stinenser\", \"papir\", \"papir\", \"papir\", \"papir\", \"parti\", \"parti\", \"pas\", \"pas\", \"pas\", \"pas\", \"pas\", \"pas\", \"persisk\", \"person\", \"person\", \"person\", \"person\", \"person\", \"person\", \"person\", \"person\", \"pige\", \"placering\", \"placering\", \"police\", \"politi\", \"politi\", \"politi\", \"politi\", \"politi\", \"politi\", \"politi\", \"politi\", \"politibetjent\", \"politibetjent\", \"politiker\", \"politiker\", \"politirapport\", \"politirapport\", \"politistation\", \"politistation\", \"politistation\", \"prins\", \"profil\", \"profil\", \"profile\", \"profile\", \"proteste\", \"p\\u00e5ber\\u00e5ber\", \"p\\u00e5ber\\u00e5ber\", \"p\\u00e5ber\\u00e5ber\", \"p\\u00e5ber\\u00e5ber\", \"p\\u00e5ber\\u00e5ber\", \"p\\u00e5ber\\u00e5ber\", \"p\\u00e5ber\\u00e5ber\", \"p\\u00e5ber\\u00e5bt\", \"p\\u00e5f\\u00f8re\", \"p\\u00e5g\\u00e6ldende\", \"p\\u00e5g\\u00e6ldende\", \"p\\u00e5g\\u00e6ldende\", \"p\\u00e5g\\u00e6ldende\", \"p\\u00e5g\\u00e6ldende\", \"p\\u00e5g\\u00e6ldende\", \"p\\u00e5kl\\u00e6dning\", \"p\\u00e5st\\u00e5\", \"p\\u00e5st\\u00e5\", \"p\\u00e5vise\", \"qatar\", \"ransage\", \"ransage\", \"ransage\", \"ransage\", \"ransagning\", \"ransagning\", \"ransagning\", \"rapport\", \"rapport\", \"rapport\", \"registere\", \"registreret\", \"registrering\", \"repr\\u00e6sentant\", \"rest\", \"restaurant\", \"restaurant\", \"restaurant\", \"resultat\", \"resultat\", \"resultat\", \"resultat\", \"resultat\", \"resultat\", \"rettighed\", \"rettighed\", \"rettighed\", \"rettighed\", \"rettighed\", \"rettighed\", \"rettighed\", \"rettighed\", \"rimelig\", \"rimelig\", \"rimelig\", \"risikere\", \"risikere\", \"risikere\", \"risikere\", \"risikere\", \"risikere\", \"rohingya\", \"rum\", \"ryg\", \"ryg\", \"ryg\", \"r\\u00e5be\", \"r\\u00e5be\", \"sag\", \"sag\", \"sag\", \"sag\", \"sag\", \"sag\", \"sag\", \"sag\", \"sag\", \"sag\", \"samme\", \"samme\", \"samme\", \"samme\", \"samme\", \"samme\", \"samme\", \"samme\", \"sammen\", \"sammen\", \"sammen\", \"sammen\", \"sammen\", \"sammen\", \"sammen\", \"sammen\", \"sammenfattende\", \"sammenholde\", \"samt\", \"samt\", \"samt\", \"samt\", \"samt\", \"samt\", \"samtale\", \"samtale\", \"samtale\", \"samtale\", \"samtale\", \"samtale\", \"samtale\", \"samtalereferaterne\", \"samtidigt\", \"samtidigt\", \"samv\\u00e6r\", \"samv\\u00e6r\", \"samv\\u00e6r\", \"sandsynliggjore\", \"sandsynliggjore\", \"sandsynliggjore\", \"sandsynliggjore\", \"sandsynliggjore\", \"sandsynliggjore\", \"sandsynliggjore\", \"sandsynliggjore\", \"sandsynliggjore\", \"sandsynligg\\u00f8re\", \"sandsynligg\\u00f8re\", \"sandsynligg\\u00f8re\", \"sandsynligg\\u00f8re\", \"sandsynligg\\u00f8re\", \"sandsynligg\\u00f8re\", \"sandsynligg\\u00f8re\", \"sandsynligg\\u00f8re\", \"sandsynligg\\u00f8re\", \"sandsynligg\\u00f8re\", \"sanktione\", \"saudi\", \"savne\", \"seddel\", \"seksuel\", \"seksuel\", \"seksuelt\", \"seksuelt\", \"seksuelt\", \"sikkerhedstjenest\", \"sikkerhedstjenest\", \"skabe\", \"skade\", \"skade\", \"skaffe\", \"skaffe\", \"skaffe\", \"skil\", \"skjulested\", \"skjulested\", \"slagsm\\u00e5l\", \"slettet\", \"slettet\", \"slutning\", \"slutning\", \"sl\\u00e5\", \"sl\\u00e5\", \"sl\\u00e5\", \"sl\\u00e5\", \"sl\\u00e5\", \"sl\\u00e5\", \"sl\\u00e5\", \"sl\\u00e5\", \"sl\\u00e5\", \"small\", \"smide\", \"smide\", \"soldat\", \"soldat\", \"soldat\", \"soldat\", \"somalia\", \"somalia\", \"sommer\", \"sommer\", \"sommer\", \"sommer\", \"sommer\", \"sommer\", \"sove\", \"sove\", \"sove\", \"spanien\", \"sparsomt\", \"spion\", \"spise\", \"sprogtest\", \"sprogtest\", \"sprogtest\", \"sprogtest\", \"sprogtest\", \"sprogtest\", \"stadig\", \"stange\", \"statsborger\", \"statsborger\", \"statsborger\", \"statsborger\", \"statsborger\", \"statsborger\", \"statsborger\", \"statsborger\", \"statsborger\", \"statsborger\", \"sted\", \"sted\", \"sted\", \"sted\", \"sted\", \"sted\", \"sted\", \"styrke\", \"styrke\", \"sudan\", \"sudan\", \"sverig\", \"sverig\", \"svig\", \"svigerfar\", \"svigerfar\", \"svigerinde\", \"svigerinde\", \"syrien\", \"syrien\", \"syrien\", \"syrien\", \"syrien\", \"syrisk\", \"syrisk\", \"syrisk\", \"syrisk\", \"syrisk\", \"syrisk\", \"s\\u00e5\", \"s\\u00e5\", \"s\\u00e5\", \"s\\u00e5\", \"s\\u00e5\", \"s\\u00e5\", \"s\\u00e5\", \"s\\u00e5r\", \"s\\u00e5r\", \"s\\u00f8ge\", \"s\\u00f8ge\", \"s\\u00f8ge\", \"s\\u00f8ge\", \"s\\u00f8ge\", \"s\\u00f8ge\", \"s\\u00f8ge\", \"s\\u00f8ge\", \"s\\u00f8n\", \"s\\u00f8n\", \"s\\u00f8n\", \"s\\u00f8n\", \"s\\u00f8n\", \"s\\u00f8n\", \"s\\u00f8ster\", \"s\\u00f8ster\", \"s\\u00f8ster\", \"s\\u00f8ster\", \"s\\u00f8ster\", \"s\\u00f8ster\", \"tage\", \"tage\", \"tage\", \"tage\", \"tage\", \"tage\", \"tage\", \"tage\", \"tage\", \"tage\", \"taima\", \"taima\", \"taima\", \"taima\", \"tale\", \"tale\", \"tale\", \"tale\", \"tale\", \"tale\", \"tale\", \"telefonsamtale\", \"telefonsamtale\", \"tidlig\", \"tidlig\", \"tidlig\", \"tidlig\", \"tidligt\", \"tidspunkt\", \"tidspunkt\", \"tidspunkt\", \"tidspunkt\", \"tidspunkt\", \"tidspunkt\", \"tidspunkt\", \"tiger\", \"tigrinya\", \"tigrinya\", \"tigrinya\", \"tilbageholde\", \"tilbageholde\", \"tilbageholde\", \"tilbageholde\", \"tilbageholde\", \"tilbageholde\", \"tilbageholde\", \"tilbageholde\", \"tilbrage\", \"tilg\\u00e6ngelighed\", \"tilg\\u00e6ngelighed\", \"tilknytte\", \"tilsende\", \"tilsende\", \"tilsides\\u00e6tte\", \"tilsides\\u00e6tte\", \"tilsides\\u00e6tte\", \"tilsides\\u00e6tte\", \"tilslutte\", \"tilslutte\", \"tilstr\\u00e6kkeligt\", \"tilstr\\u00e6kkeligt\", \"tilsvarende\", \"tiltr\\u00e6de\", \"tiltr\\u00e6de\", \"tiltr\\u00e6de\", \"tiltr\\u00e6de\", \"to\", \"to\", \"to\", \"to\", \"to\", \"to\", \"to\", \"to\", \"to\", \"traf\", \"traf\", \"traumatiserende\", \"tre\", \"tre\", \"tre\", \"tre\", \"tre\", \"tre\", \"tre\", \"tre\", \"tro\", \"tr\\u00e6ne\", \"tvinge\", \"tvinge\", \"tvinge\", \"tvinge\", \"tvinge\", \"tysk\", \"tysk\", \"ubet\\u00e6nkeligt\", \"udf\\u00f8rlig\", \"udlejer\", \"udlejer\", \"udl\\u00e6ndin\", \"udl\\u00e6ndin\", \"udl\\u00e6ndin\", \"udl\\u00e6ndin\", \"udl\\u00e6nding\", \"udl\\u00e6nding\", \"udl\\u00e6nding\", \"udl\\u00e6nding\", \"udl\\u00e6nding\", \"udl\\u00e6nding\", \"udl\\u00e6ndingestyrelse\", \"udl\\u00e6ndingestyrelse\", \"udl\\u00e6ndingestyrelse\", \"udl\\u00e6ndingestyrelse\", \"udl\\u00e6ndingestyrelse\", \"udl\\u00e6ndingestyrelse\", \"udl\\u00e6ndingestyrelse\", \"udl\\u00e6ndingestyrelse\", \"udrejseomst\\u00e6ndighede\", \"udsat\", \"udsat\", \"udsende\", \"udsende\", \"udsendelse\", \"udsendelse\", \"uds\\u00e6tte\", \"uds\\u00e6tte\", \"uds\\u00e6tte\", \"uds\\u00e6tte\", \"uds\\u00e6tte\", \"uds\\u00e6tte\", \"uds\\u00e6tte\", \"uds\\u00e6tte\", \"uds\\u00e6tte\", \"uforholdsm\\u00e6ssig\", \"uge\", \"uge\", \"uge\", \"uge\", \"uge\", \"uge\", \"uge\", \"ukendt\", \"ukendt\", \"ukendt\", \"ukendt\", \"ukendt\", \"ukendt\", \"ukendt\", \"ulovligt\", \"ulovligt\", \"umiddelbare\", \"underrette\", \"underskrev\", \"underskrive\", \"underskrive\", \"underskrive\", \"underskrive\", \"underskrive\", \"unders\\u00f8gels\", \"undslap\", \"ung\", \"ung\", \"ung\", \"unhcr\", \"uoverensstemme\", \"uretm\\u00e6ssigt\", \"uretm\\u00e6ssigt\", \"urigtig\", \"usikkert\", \"utreis\", \"vandmelone\", \"vanskelig\", \"vanskelig\", \"varet\\u00e6gtsf\\u00e6ngslet\", \"varighed\", \"velhavende\", \"ven\", \"ven\", \"ven\", \"ven\", \"ven\", \"vende\", \"vende\", \"vende\", \"vende\", \"vende\", \"vende\", \"vende\", \"vende\", \"vende\", \"videre\", \"videre\", \"videre\", \"videre\", \"videre\", \"videre\", \"videre\", \"videre\", \"vinter\", \"vinter\", \"vinter\", \"vinter\", \"vinter\", \"vinter\", \"vinter\", \"virksomhed\", \"virksomhed\", \"voldsom\", \"voldt\\u00e6gt\", \"vriste\", \"vurdere\", \"vurdere\", \"vurdere\", \"vurdere\", \"vurdere\", \"vurdere\", \"v\\u00e5ben\", \"v\\u00e5ben\", \"v\\u00e5ben\", \"v\\u00e5ben\", \"v\\u00e6rende\", \"v\\u00e6rende\", \"v\\u00e6rnepligt\", \"v\\u00e6sentligt\", \"whatsapp\", \"whatsapp\", \"yderst\", \"yderst\", \"yderst\", \"yng\", \"\\u00e5r\", \"\\u00e5r\", \"\\u00e5r\", \"\\u00e5r\", \"\\u00e5r\", \"\\u00e5r\", \"\\u00e5r\", \"\\u00e5r\", \"\\u00e5r\", \"\\u00e5r\", \"\\u00e5rr\\u00e6kke\", \"\\u00e5rr\\u00e6kke\", \"\\u00e6gte\", \"\\u00e6gte\", \"\\u00e6gte\", \"\\u00e6gtef\\u00e6ll\", \"\\u00e6gtef\\u00e6ll\", \"\\u00e6gtef\\u00e6ll\", \"\\u00e6gtef\\u00e6ll\", \"\\u00e6gtef\\u00e6lle\", \"\\u00e6gtef\\u00e6lle\", \"\\u00e6gtef\\u00e6lle\", \"\\u00e6gtef\\u00e6lle\", \"\\u00e6gtef\\u00e6lle\", \"\\u00e6gtef\\u00e6lle\", \"\\u00e6gtepar\", \"\\u00e6gtepar\", \"\\u00e6gtepar\", \"\\u00f8jeblikkeligt\", \"\\u00f8jenskade\", \"\\u00f8nske\", \"\\u00f8nske\", \"\\u00f8nske\", \"\\u00f8nske\", \"\\u00f8nske\", \"\\u00f8nske\", \"\\u00f8nske\", \"\\u00f8strig\", \"\\u00f8strig\", \"\\u00f8strig\", \"\\u00f8strig\"]}, \"R\": 30, \"lambda.step\": 0.01, \"plot.opts\": {\"xlab\": \"PC1\", \"ylab\": \"PC2\"}, \"topic.order\": [1, 2, 3, 4, 5, 6, 7, 8, 9, 10]};\n",
       "\n",
       "function LDAvis_load_lib(url, callback){\n",
       "  var s = document.createElement('script');\n",
       "  s.src = url;\n",
       "  s.async = true;\n",
       "  s.onreadystatechange = s.onload = callback;\n",
       "  s.onerror = function(){console.warn(\"failed to load library \" + url);};\n",
       "  document.getElementsByTagName(\"head\")[0].appendChild(s);\n",
       "}\n",
       "\n",
       "if(typeof(LDAvis) !== \"undefined\"){\n",
       "   // already loaded: just create the visualization\n",
       "   !function(LDAvis){\n",
       "       new LDAvis(\"#\" + \"ldavis_el1974856927096802344371606\", ldavis_el1974856927096802344371606_data);\n",
       "   }(LDAvis);\n",
       "}else if(typeof define === \"function\" && define.amd){\n",
       "   // require.js is available: use it to load d3/LDAvis\n",
       "   require.config({paths: {d3: \"https://d3js.org/d3.v5\"}});\n",
       "   require([\"d3\"], function(d3){\n",
       "      window.d3 = d3;\n",
       "      LDAvis_load_lib(\"https://cdn.jsdelivr.net/gh/bmabey/pyLDAvis@3.3.1/pyLDAvis/js/ldavis.v3.0.0.js\", function(){\n",
       "        new LDAvis(\"#\" + \"ldavis_el1974856927096802344371606\", ldavis_el1974856927096802344371606_data);\n",
       "      });\n",
       "    });\n",
       "}else{\n",
       "    // require.js not available: dynamically load d3 & LDAvis\n",
       "    LDAvis_load_lib(\"https://d3js.org/d3.v5.js\", function(){\n",
       "         LDAvis_load_lib(\"https://cdn.jsdelivr.net/gh/bmabey/pyLDAvis@3.3.1/pyLDAvis/js/ldavis.v3.0.0.js\", function(){\n",
       "                 new LDAvis(\"#\" + \"ldavis_el1974856927096802344371606\", ldavis_el1974856927096802344371606_data);\n",
       "            })\n",
       "         });\n",
       "}\n",
       "</script>"
      ],
      "text/plain": [
       "<IPython.core.display.HTML object>"
      ]
     },
     "execution_count": 34,
     "metadata": {},
     "output_type": "execute_result"
    }
   ],
   "source": [
    "lda_display = pyLDAvis.sklearn.prepare(lda_text_model, count_text_vectors, count_text_vectorizer, sort_topics=False)\n",
    "\n",
    "pyLDAvis.display(lda_display)"
   ]
  },
  {
   "cell_type": "markdown",
   "metadata": {},
   "source": [
    "Each bubble in the plot represents a topic. The size of the bubble represents the proportion of cases that contain the topic, with a larger bubble corresponding to a higher proportion. \n",
    "\n",
    "The distance between the bubbles represents the similarity between the topics; the shorter the distance, the more similar the topics.\n",
    "\n",
    "The bars in the bar chart represent the term frequency for each of the words. The blue bars show the overall term frequency in the collection of documents, whereas the red bars show the term frequency for the selected topic."
   ]
  }
 ],
 "metadata": {
  "interpreter": {
   "hash": "b6672ba510bd43d5df0d34395a84685a825e41d35f5301d8abef98bca1680e82"
  },
  "kernelspec": {
   "display_name": "Python 3 (ipykernel)",
   "language": "python",
   "name": "python3"
  },
  "language_info": {
   "codemirror_mode": {
    "name": "ipython",
    "version": 3
   },
   "file_extension": ".py",
   "mimetype": "text/x-python",
   "name": "python",
   "nbconvert_exporter": "python",
   "pygments_lexer": "ipython3",
   "version": "3.9.12"
  }
 },
 "nbformat": 4,
 "nbformat_minor": 2
}
