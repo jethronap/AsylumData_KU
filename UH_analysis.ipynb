{
 "cells": [
  {
   "cell_type": "code",
   "execution_count": 1,
   "metadata": {},
   "outputs": [
    {
     "name": "stderr",
     "output_type": "stream",
     "text": [
      "/Users/jnap/opt/anaconda3/lib/python3.9/site-packages/past/builtins/misc.py:45: DeprecationWarning: the imp module is deprecated in favour of importlib; see the module's documentation for alternative uses\n",
      "  from imp import reload\n",
      "/Users/jnap/opt/anaconda3/lib/python3.9/site-packages/matplotlib_inline/config.py:66: DeprecationWarning: InlineBackend._figure_formats_changed is deprecated in traitlets 4.1: use @observe and @unobserve instead.\n",
      "  def _figure_formats_changed(self, name, old, new):\n",
      "/Users/jnap/opt/anaconda3/lib/python3.9/site-packages/seaborn/rcmod.py:400: DeprecationWarning: distutils Version classes are deprecated. Use packaging.version instead.\n",
      "  if LooseVersion(mpl.__version__) >= \"3.0\":\n",
      "/Users/jnap/opt/anaconda3/lib/python3.9/site-packages/setuptools/_distutils/version.py:351: DeprecationWarning: distutils Version classes are deprecated. Use packaging.version instead.\n",
      "  other = LooseVersion(other)\n"
     ]
    }
   ],
   "source": [
    "import warnings\n",
    "warnings.filterwarnings(\"ignore\", category=DeprecationWarning)\n",
    "\n",
    "import matplotlib.pyplot as plt\n",
    "import seaborn as sns\n",
    "import pandas as pd\n",
    "import numpy as np\n",
    "import random\n",
    "import regex as re\n",
    "import pprint\n",
    "\n",
    "from nltk.corpus import stopwords\n",
    "# Need to uncomment the following line in order to download nltk stopwords:\n",
    "# nltk.download('stopwords')\n",
    "import spacy\n",
    "from textacy.extract import keyword_in_context\n",
    "\n",
    "from sklearn.feature_extraction.text import CountVectorizer, TfidfTransformer\n",
    "from sklearn.decomposition import NMF, TruncatedSVD, LatentDirichletAllocation\n",
    "\n",
    "from collections import defaultdict\n",
    "from collections import Counter, ChainMap\n",
    "\n",
    "from tmtoolkit.topicmod.evaluate import metric_coherence_gensim\n",
    "\n",
    "import pyLDAvis.sklearn\n",
    "\n",
    "plt.style.use(style='seaborn')\n",
    "%matplotlib inline\n",
    "sns.set()\n"
   ]
  },
  {
   "cell_type": "markdown",
   "metadata": {},
   "source": [
    "# Import data set:"
   ]
  },
  {
   "cell_type": "code",
   "execution_count": 2,
   "metadata": {},
   "outputs": [
    {
     "data": {
      "text/plain": [
       "(9324, 5)"
      ]
     },
     "execution_count": 2,
     "metadata": {},
     "output_type": "execute_result"
    }
   ],
   "source": [
    "pd.options.mode.chained_assignment = None\n",
    "\n",
    "with open('data/dk_asylum_data.json', encoding='utf-8') as inputfile:\n",
    "    df_full = pd.read_json(inputfile)\n",
    "\n",
    "# Convert json to csv:\n",
    "df_full.to_csv('data/dk_asylum_data.csv', encoding='utf-8', index=False)\n",
    "\n",
    "df_full.shape\n"
   ]
  },
  {
   "cell_type": "markdown",
   "metadata": {},
   "source": [
    "# Dataset preprocessing:\n",
    "\n",
    "## Keep cases of Unknown Homeland (Ukendt hjemland):"
   ]
  },
  {
   "cell_type": "code",
   "execution_count": 3,
   "metadata": {},
   "outputs": [
    {
     "data": {
      "text/plain": [
       "(192, 1)"
      ]
     },
     "execution_count": 3,
     "metadata": {},
     "output_type": "execute_result"
    }
   ],
   "source": [
    "df_UH = df_full[df_full.country == \"Ukendt hjemland\"]\n",
    "\n",
    "# Drop redundant column:\n",
    "df_UH.drop('hasText', axis=1, inplace=True)\n",
    "\n",
    "# Keep column 'text':\n",
    "df = df_UH[['text']]\n",
    "\n",
    "df[\"text\"] = df[\"text\"].astype(str)\n",
    "\n",
    "df.shape"
   ]
  },
  {
   "cell_type": "code",
   "execution_count": 4,
   "metadata": {},
   "outputs": [
    {
     "data": {
      "text/html": [
       "<div>\n",
       "<style scoped>\n",
       "    .dataframe tbody tr th:only-of-type {\n",
       "        vertical-align: middle;\n",
       "    }\n",
       "\n",
       "    .dataframe tbody tr th {\n",
       "        vertical-align: top;\n",
       "    }\n",
       "\n",
       "    .dataframe thead th {\n",
       "        text-align: right;\n",
       "    }\n",
       "</style>\n",
       "<table border=\"1\" class=\"dataframe\">\n",
       "  <thead>\n",
       "    <tr style=\"text-align: right;\">\n",
       "      <th></th>\n",
       "      <th>text</th>\n",
       "    </tr>\n",
       "  </thead>\n",
       "  <tbody>\n",
       "    <tr>\n",
       "      <th>201</th>\n",
       "      <td>Nævnet stadfæstede i november 2021 Udl...</td>\n",
       "    </tr>\n",
       "    <tr>\n",
       "      <th>428</th>\n",
       "      <td>Nævnet stadfæstede i juni 2021 Udlændi...</td>\n",
       "    </tr>\n",
       "    <tr>\n",
       "      <th>464</th>\n",
       "      <td>Nævnet stadfæstede i juni 2021 Udlændi...</td>\n",
       "    </tr>\n",
       "    <tr>\n",
       "      <th>901</th>\n",
       "      <td>Nævnet stadfæstede i december 2020 Udl...</td>\n",
       "    </tr>\n",
       "    <tr>\n",
       "      <th>1291</th>\n",
       "      <td>Nævnet hjemviste i juni 2020 Udlænding...</td>\n",
       "    </tr>\n",
       "  </tbody>\n",
       "</table>\n",
       "</div>"
      ],
      "text/plain": [
       "                                                   text\n",
       "201           Nævnet stadfæstede i november 2021 Udl...\n",
       "428           Nævnet stadfæstede i juni 2021 Udlændi...\n",
       "464           Nævnet stadfæstede i juni 2021 Udlændi...\n",
       "901           Nævnet stadfæstede i december 2020 Udl...\n",
       "1291          Nævnet hjemviste i juni 2020 Udlænding..."
      ]
     },
     "execution_count": 4,
     "metadata": {},
     "output_type": "execute_result"
    }
   ],
   "source": [
    "\n",
    "df.head()"
   ]
  },
  {
   "cell_type": "markdown",
   "metadata": {},
   "source": [
    "Check for potential duplicates and drop them:"
   ]
  },
  {
   "cell_type": "code",
   "execution_count": 5,
   "metadata": {},
   "outputs": [
    {
     "data": {
      "text/html": [
       "<div>\n",
       "<style scoped>\n",
       "    .dataframe tbody tr th:only-of-type {\n",
       "        vertical-align: middle;\n",
       "    }\n",
       "\n",
       "    .dataframe tbody tr th {\n",
       "        vertical-align: top;\n",
       "    }\n",
       "\n",
       "    .dataframe thead th {\n",
       "        text-align: right;\n",
       "    }\n",
       "</style>\n",
       "<table border=\"1\" class=\"dataframe\">\n",
       "  <thead>\n",
       "    <tr style=\"text-align: right;\">\n",
       "      <th></th>\n",
       "      <th>text</th>\n",
       "    </tr>\n",
       "  </thead>\n",
       "  <tbody>\n",
       "    <tr>\n",
       "      <th>1333</th>\n",
       "      <td>Nævnet stadfæstede i maj 2020 Udlændin...</td>\n",
       "    </tr>\n",
       "    <tr>\n",
       "      <th>1352</th>\n",
       "      <td>Nævnet stadfæstede i maj 2020 Udlændin...</td>\n",
       "    </tr>\n",
       "    <tr>\n",
       "      <th>4000</th>\n",
       "      <td>Nævnet stadfæstede i januar 2018 Udlæn...</td>\n",
       "    </tr>\n",
       "    <tr>\n",
       "      <th>4001</th>\n",
       "      <td>Nævnet stadfæstede i januar 2018 Udlæn...</td>\n",
       "    </tr>\n",
       "    <tr>\n",
       "      <th>4055</th>\n",
       "      <td>Nævnet stadfæstede i januar 2018 Udlæn...</td>\n",
       "    </tr>\n",
       "    <tr>\n",
       "      <th>4058</th>\n",
       "      <td>Nævnet stadfæstede i januar 2018 Udlæn...</td>\n",
       "    </tr>\n",
       "  </tbody>\n",
       "</table>\n",
       "</div>"
      ],
      "text/plain": [
       "                                                   text\n",
       "1333          Nævnet stadfæstede i maj 2020 Udlændin...\n",
       "1352          Nævnet stadfæstede i maj 2020 Udlændin...\n",
       "4000          Nævnet stadfæstede i januar 2018 Udlæn...\n",
       "4001          Nævnet stadfæstede i januar 2018 Udlæn...\n",
       "4055          Nævnet stadfæstede i januar 2018 Udlæn...\n",
       "4058          Nævnet stadfæstede i januar 2018 Udlæn..."
      ]
     },
     "execution_count": 5,
     "metadata": {},
     "output_type": "execute_result"
    }
   ],
   "source": [
    "duplicates_df = df[df.duplicated(['text'], keep=False)]\n",
    "#pd.concat(g for _, g in df.groupby(\"text\") if len(g) > 1)\n",
    "\n",
    "# See all duplicates:\n",
    "duplicates_df"
   ]
  },
  {
   "cell_type": "code",
   "execution_count": 6,
   "metadata": {},
   "outputs": [
    {
     "data": {
      "text/plain": [
       "(189, 1)"
      ]
     },
     "execution_count": 6,
     "metadata": {},
     "output_type": "execute_result"
    }
   ],
   "source": [
    "# Drop duplicates from original dataframe:\n",
    "df = df.drop_duplicates()\n",
    "\n",
    "# Check shape again:\n",
    "df.shape"
   ]
  },
  {
   "cell_type": "markdown",
   "metadata": {},
   "source": [
    "## Length of texts\n",
    "\n",
    "Create a numeric column in order to get a feel about the length of the texts. "
   ]
  },
  {
   "cell_type": "code",
   "execution_count": 7,
   "metadata": {},
   "outputs": [
    {
     "data": {
      "text/html": [
       "<div>\n",
       "<style scoped>\n",
       "    .dataframe tbody tr th:only-of-type {\n",
       "        vertical-align: middle;\n",
       "    }\n",
       "\n",
       "    .dataframe tbody tr th {\n",
       "        vertical-align: top;\n",
       "    }\n",
       "\n",
       "    .dataframe thead th {\n",
       "        text-align: right;\n",
       "    }\n",
       "</style>\n",
       "<table border=\"1\" class=\"dataframe\">\n",
       "  <thead>\n",
       "    <tr style=\"text-align: right;\">\n",
       "      <th></th>\n",
       "      <th>count</th>\n",
       "      <th>mean</th>\n",
       "      <th>std</th>\n",
       "      <th>min</th>\n",
       "      <th>25%</th>\n",
       "      <th>50%</th>\n",
       "      <th>75%</th>\n",
       "      <th>max</th>\n",
       "    </tr>\n",
       "  </thead>\n",
       "  <tbody>\n",
       "    <tr>\n",
       "      <th>length</th>\n",
       "      <td>189.0</td>\n",
       "      <td>5008.539683</td>\n",
       "      <td>2046.292952</td>\n",
       "      <td>1104.0</td>\n",
       "      <td>3532.0</td>\n",
       "      <td>4753.0</td>\n",
       "      <td>6057.0</td>\n",
       "      <td>13105.0</td>\n",
       "    </tr>\n",
       "  </tbody>\n",
       "</table>\n",
       "</div>"
      ],
      "text/plain": [
       "        count         mean          std     min     25%     50%     75%  \\\n",
       "length  189.0  5008.539683  2046.292952  1104.0  3532.0  4753.0  6057.0   \n",
       "\n",
       "            max  \n",
       "length  13105.0  "
      ]
     },
     "execution_count": 7,
     "metadata": {},
     "output_type": "execute_result"
    }
   ],
   "source": [
    "df['length'] = df['text'].str.len()\n",
    "\n",
    "df.describe().T"
   ]
  },
  {
   "cell_type": "markdown",
   "metadata": {},
   "source": [
    "## Boxplot:"
   ]
  },
  {
   "cell_type": "code",
   "execution_count": 8,
   "metadata": {},
   "outputs": [
    {
     "data": {
      "text/plain": [
       "<AxesSubplot:>"
      ]
     },
     "execution_count": 8,
     "metadata": {},
     "output_type": "execute_result"
    },
    {
     "data": {
      "image/png": "[encoded data removed]",
      "text/plain": [
       "<Figure size 432x288 with 1 Axes>"
      ]
     },
     "metadata": {},
     "output_type": "display_data"
    }
   ],
   "source": [
    "# Box plot:\n",
    "df['length'].plot(kind='box', vert=False)"
   ]
  },
  {
   "cell_type": "markdown",
   "metadata": {},
   "source": [
    "## Histogram:"
   ]
  },
  {
   "cell_type": "code",
   "execution_count": 9,
   "metadata": {},
   "outputs": [
    {
     "data": {
      "text/plain": [
       "<AxesSubplot:ylabel='Frequency'>"
      ]
     },
     "execution_count": 9,
     "metadata": {},
     "output_type": "execute_result"
    },
    {
     "data": {
      "image/png": "[encoded data removed]",
      "text/plain": [
       "<Figure size 432x288 with 1 Axes>"
      ]
     },
     "metadata": {},
     "output_type": "display_data"
    }
   ],
   "source": [
    "# Histogram:\n",
    "df['length'].plot(kind='hist', bins=30)\n"
   ]
  },
  {
   "cell_type": "markdown",
   "metadata": {},
   "source": [
    "# Create a pipeline:\n",
    "\n",
    "Below are the steps taken to process the texts."
   ]
  },
  {
   "cell_type": "code",
   "execution_count": 10,
   "metadata": {},
   "outputs": [],
   "source": [
    "# Load danish model from spacy:\n",
    "nlp = spacy.load(\"da_core_news_md\")\n",
    "\n",
    "STOPWORDS_DANISH = set(stopwords.words('danish'))\n",
    "\n",
    "# domain specific words included:\n",
    "domain_stopwords = {'nævnet', 'januar', 'februar', 'marts', 'april',\n",
    "'maj', 'juni', 'juli', 'august', 'september', 'oktober', 'november', 'december', 'jf', 'ansøger'}\n",
    "\n",
    "def import_additional_danish_stopwords(STOPWORDS_DANISH):\n",
    "    additional_stopwords = open('stopwords_dk.txt', 'r')\n",
    "    for line in additional_stopwords:\n",
    "        words = line.strip()\n",
    "        STOPWORDS_DANISH.add(words)\n",
    "    return STOPWORDS_DANISH\n",
    "\n",
    "\n",
    "STOPWORDS_DANISH = import_additional_danish_stopwords(STOPWORDS_DANISH)\n",
    "STOPWORDS_DANISH |= domain_stopwords \n",
    "\n",
    "PUNCTUATION_TO_REMOVE = '–«!\"#$%&\\'()*+,-./:;<=>?@[\\\\]^_`{|}~»●·’“”'"
   ]
  },
  {
   "cell_type": "code",
   "execution_count": 11,
   "metadata": {},
   "outputs": [],
   "source": [
    "# print(STOPWORDS_DANISH)"
   ]
  },
  {
   "cell_type": "code",
   "execution_count": 12,
   "metadata": {},
   "outputs": [],
   "source": [
    "def remove_punctuation(text):\n",
    "    \"\"\"custom function to remove the punctuation\"\"\"\n",
    "    return text.translate(str.maketrans('', '', PUNCTUATION_TO_REMOVE))\n",
    "\n",
    "\n",
    "def remove_stopwords(text):\n",
    "    \"\"\"custom function to remove stopwords\"\"\"\n",
    "    return [word for word in str(text).split() if word not in STOPWORDS_DANISH] \n",
    "    # [t for t in text if t not in STOPWORDS_DANISH]\n",
    "\n",
    "\n",
    "# def tokenize(text):\n",
    "#     \"\"\"the following expression matches tokens consisting of at least one letter (\\p{L}), \n",
    "#     preceded and followed by an arbitrary sequence of alphanumeric characters \n",
    "#     (\\w includes digits, letters, and underscore) and hyphens (-)\"\"\"\n",
    "#     return re.findall(r'[\\w-]*\\p{L}[\\w-]*', text)\n",
    "\n",
    "def tokenize(text):\n",
    "    doc = nlp.tokenizer(' '.join(text))\n",
    "    return [token.text for token in doc]\n",
    "\n",
    "def drop_single_letter_words(text):\n",
    "    return [w for w in text if len(w) > 1]\n",
    "\n",
    "\n",
    "def lemmatize(text):\n",
    "    \"\"\"custom function to lemmatize text\"\"\"\n",
    "    doc = nlp(' '.join(text))\n",
    "    # pos_tagged_text = text.pos\n",
    "    return [token.lemma_ for token in doc]\n",
    "\n",
    "# def remove_junk(text):\n",
    "#     # Creating a spacy object\n",
    "#     doc = nlp(' '.join(text))\n",
    "#     # Checking if POS tag is X and printing them\n",
    "#     for token in doc:\n",
    "#         if token.pos_ == 'X':\n",
    "#             print(token.text)\n",
    "#     # Removing the tokens whose POS tag is junk.\n",
    "#     clean_doc = [token.text for token in doc if not token.pos_ == 'X']\n",
    "\n",
    "#     return clean_doc\n"
   ]
  },
  {
   "cell_type": "markdown",
   "metadata": {},
   "source": [
    "Steps can be added or removed from the pipeline."
   ]
  },
  {
   "cell_type": "code",
   "execution_count": 13,
   "metadata": {},
   "outputs": [],
   "source": [
    "pipeline = [str.lower, remove_punctuation, remove_stopwords, drop_single_letter_words,\n",
    "            tokenize, lemmatize]\n",
    "\n",
    "\n",
    "def process(text, pipeline):\n",
    "    tokens = text\n",
    "    for transform in pipeline:\n",
    "        tokens = transform(tokens)\n",
    "    return tokens\n"
   ]
  },
  {
   "cell_type": "code",
   "execution_count": 14,
   "metadata": {},
   "outputs": [],
   "source": [
    "# Apply the process pipeline:\n",
    "df['tokens'] = df['text'].apply(process, pipeline=pipeline)\n",
    "\n",
    "# Add column to see the number of tokens:\n",
    "df['num_tokens'] = df['tokens'].map(len)"
   ]
  },
  {
   "cell_type": "code",
   "execution_count": 15,
   "metadata": {},
   "outputs": [
    {
     "data": {
      "text/html": [
       "<div>\n",
       "<style scoped>\n",
       "    .dataframe tbody tr th:only-of-type {\n",
       "        vertical-align: middle;\n",
       "    }\n",
       "\n",
       "    .dataframe tbody tr th {\n",
       "        vertical-align: top;\n",
       "    }\n",
       "\n",
       "    .dataframe thead th {\n",
       "        text-align: right;\n",
       "    }\n",
       "</style>\n",
       "<table border=\"1\" class=\"dataframe\">\n",
       "  <thead>\n",
       "    <tr style=\"text-align: right;\">\n",
       "      <th></th>\n",
       "      <th>text</th>\n",
       "      <th>length</th>\n",
       "      <th>tokens</th>\n",
       "      <th>num_tokens</th>\n",
       "    </tr>\n",
       "  </thead>\n",
       "  <tbody>\n",
       "    <tr>\n",
       "      <th>201</th>\n",
       "      <td>Nævnet stadfæstede i november 2021 Udl...</td>\n",
       "      <td>4753</td>\n",
       "      <td>[stadfæste, 2021, udlændingestyrels, afgørelse...</td>\n",
       "      <td>342</td>\n",
       "    </tr>\n",
       "    <tr>\n",
       "      <th>428</th>\n",
       "      <td>Nævnet stadfæstede i juni 2021 Udlændi...</td>\n",
       "      <td>3149</td>\n",
       "      <td>[stadfæste, 2021, udlændingestyrels, afgørelse...</td>\n",
       "      <td>232</td>\n",
       "    </tr>\n",
       "    <tr>\n",
       "      <th>464</th>\n",
       "      <td>Nævnet stadfæstede i juni 2021 Udlændi...</td>\n",
       "      <td>4433</td>\n",
       "      <td>[stadfæste, 2021, udlændingestyrels, afgørelse...</td>\n",
       "      <td>329</td>\n",
       "    </tr>\n",
       "    <tr>\n",
       "      <th>901</th>\n",
       "      <td>Nævnet stadfæstede i december 2020 Udl...</td>\n",
       "      <td>2664</td>\n",
       "      <td>[stadfæste, 2020, udlændingestyrels, afgørelse...</td>\n",
       "      <td>192</td>\n",
       "    </tr>\n",
       "    <tr>\n",
       "      <th>1291</th>\n",
       "      <td>Nævnet hjemviste i juni 2020 Udlænding...</td>\n",
       "      <td>4626</td>\n",
       "      <td>[hjemvise, 2020, udlændingestyrels, afgørelse,...</td>\n",
       "      <td>332</td>\n",
       "    </tr>\n",
       "  </tbody>\n",
       "</table>\n",
       "</div>"
      ],
      "text/plain": [
       "                                                   text  length  \\\n",
       "201           Nævnet stadfæstede i november 2021 Udl...    4753   \n",
       "428           Nævnet stadfæstede i juni 2021 Udlændi...    3149   \n",
       "464           Nævnet stadfæstede i juni 2021 Udlændi...    4433   \n",
       "901           Nævnet stadfæstede i december 2020 Udl...    2664   \n",
       "1291          Nævnet hjemviste i juni 2020 Udlænding...    4626   \n",
       "\n",
       "                                                 tokens  num_tokens  \n",
       "201   [stadfæste, 2021, udlændingestyrels, afgørelse...         342  \n",
       "428   [stadfæste, 2021, udlændingestyrels, afgørelse...         232  \n",
       "464   [stadfæste, 2021, udlændingestyrels, afgørelse...         329  \n",
       "901   [stadfæste, 2020, udlændingestyrels, afgørelse...         192  \n",
       "1291  [hjemvise, 2020, udlændingestyrels, afgørelse,...         332  "
      ]
     },
     "execution_count": 15,
     "metadata": {},
     "output_type": "execute_result"
    }
   ],
   "source": [
    "df.head()"
   ]
  },
  {
   "cell_type": "markdown",
   "metadata": {},
   "source": [
    "# Analysis:"
   ]
  },
  {
   "cell_type": "markdown",
   "metadata": {},
   "source": [
    "# Frequency analysis:\n",
    "\n",
    "Here we count the most frequent tokens in the **whole** corpus.\n"
   ]
  },
  {
   "cell_type": "code",
   "execution_count": 16,
   "metadata": {},
   "outputs": [],
   "source": [
    "# Transform the counter into a Pandas DataFrame with the following function:\n",
    "\n",
    "\"\"\"\n",
    "The tokens make up the index of the DataFrame, while the frequency values are stored in a column named freq. \n",
    "The rows are sorted so that the most frequent words appear at the head.\n",
    "The last parameter of count_words defines a minimum frequency of tokens to be included in the result. \n",
    "Its default is set to 2 to cut down on tokens occurring only once.\n",
    "\"\"\"\n",
    "\n",
    "def count_words(df, column='tokens', process=None, min_freq=2):\n",
    "    # create counter and run through all data\n",
    "    counter = Counter() \n",
    "    \n",
    "    # process tokens and update counter\n",
    "    def update(text):\n",
    "        tokens = text if process is None else process(text, pipeline=pipeline)\n",
    "        counter.update(tokens)\n",
    "    \n",
    "    df[column].map(update)\n",
    "    # transform counter into a DataFrame\n",
    "    freq_df = pd.DataFrame.from_dict(counter, orient='index', columns=['freq']) \n",
    "    freq_df = freq_df.query('freq >= @min_freq')\n",
    "    freq_df.index.name = 'token'\n",
    "    return freq_df.sort_values('freq', ascending=False)"
   ]
  },
  {
   "cell_type": "code",
   "execution_count": 17,
   "metadata": {},
   "outputs": [
    {
     "data": {
      "text/html": [
       "<div>\n",
       "<style scoped>\n",
       "    .dataframe tbody tr th:only-of-type {\n",
       "        vertical-align: middle;\n",
       "    }\n",
       "\n",
       "    .dataframe tbody tr th {\n",
       "        vertical-align: top;\n",
       "    }\n",
       "\n",
       "    .dataframe thead th {\n",
       "        text-align: right;\n",
       "    }\n",
       "</style>\n",
       "<table border=\"1\" class=\"dataframe\">\n",
       "  <thead>\n",
       "    <tr style=\"text-align: right;\">\n",
       "      <th></th>\n",
       "      <th>freq</th>\n",
       "    </tr>\n",
       "    <tr>\n",
       "      <th>token</th>\n",
       "      <th></th>\n",
       "    </tr>\n",
       "  </thead>\n",
       "  <tbody>\n",
       "    <tr>\n",
       "      <th>ansøger</th>\n",
       "      <td>4307</td>\n",
       "    </tr>\n",
       "    <tr>\n",
       "      <th>Kuwait</th>\n",
       "      <td>1392</td>\n",
       "    </tr>\n",
       "    <tr>\n",
       "      <th>forklare</th>\n",
       "      <td>1237</td>\n",
       "    </tr>\n",
       "    <tr>\n",
       "      <th>flygtningenævn</th>\n",
       "      <td>1119</td>\n",
       "    </tr>\n",
       "    <tr>\n",
       "      <th>oplyse</th>\n",
       "      <td>816</td>\n",
       "    </tr>\n",
       "    <tr>\n",
       "      <th>myndighed</th>\n",
       "      <td>795</td>\n",
       "    </tr>\n",
       "    <tr>\n",
       "      <th>mandlig</th>\n",
       "      <td>794</td>\n",
       "    </tr>\n",
       "    <tr>\n",
       "      <th>asylmotiv</th>\n",
       "      <td>745</td>\n",
       "    </tr>\n",
       "    <tr>\n",
       "      <th>forklaring</th>\n",
       "      <td>675</td>\n",
       "    </tr>\n",
       "    <tr>\n",
       "      <th>lægge</th>\n",
       "      <td>649</td>\n",
       "    </tr>\n",
       "  </tbody>\n",
       "</table>\n",
       "</div>"
      ],
      "text/plain": [
       "                freq\n",
       "token               \n",
       "ansøger         4307\n",
       "Kuwait          1392\n",
       "forklare        1237\n",
       "flygtningenævn  1119\n",
       "oplyse           816\n",
       "myndighed        795\n",
       "mandlig          794\n",
       "asylmotiv        745\n",
       "forklaring       675\n",
       "lægge            649"
      ]
     },
     "execution_count": 17,
     "metadata": {},
     "output_type": "execute_result"
    }
   ],
   "source": [
    "# See ten most frequent words in the whole corpus:\n",
    "freq_df = count_words(df) \n",
    "freq_df.head(10)\n",
    "\n",
    "# See all words with their frequencies:\n",
    "# pd.value_counts(np.hstack(df['tokens']))"
   ]
  },
  {
   "cell_type": "code",
   "execution_count": 18,
   "metadata": {},
   "outputs": [
    {
     "data": {
      "text/plain": [
       "[Text(0.5, 0, 'Frequency'), Text(0, 0.5, 'Token'), Text(0.5, 1.0, 'Top Words')]"
      ]
     },
     "execution_count": 18,
     "metadata": {},
     "output_type": "execute_result"
    },
    {
     "data": {
      "image/png": "[encoded data removed]",
      "text/plain": [
       "<Figure size 432x288 with 1 Axes>"
      ]
     },
     "metadata": {},
     "output_type": "display_data"
    }
   ],
   "source": [
    "# Plot the results:\n",
    "ax = freq_df.head(15).plot(kind='barh', width=0.95) \n",
    "ax.invert_yaxis()\n",
    "ax.set(xlabel='Frequency', ylabel='Token', title='Top Words')"
   ]
  },
  {
   "cell_type": "markdown",
   "metadata": {},
   "source": [
    "# Keyword in context (KWIC):\n",
    "\n",
    "KWIC analysis produces a list of text fragments of equal length showing the left and right context of a keyword."
   ]
  },
  {
   "cell_type": "code",
   "execution_count": 19,
   "metadata": {},
   "outputs": [],
   "source": [
    "\"\"\"\n",
    "The function iteratively collects the keyword contexts by applying the add_kwic function to each document with map. \n",
    "By default, the function returns a list of tuples of the form (left context, keyword, right context). \n",
    "If print_samples is greater than 0, a random sample of the results is printed. \n",
    "Sampling is especially useful with lots of documents because the first entries of the list \n",
    "would otherwise stem from a single or a very small number of documents.\n",
    "\"\"\"\n",
    "\n",
    "def kwic(doc_series, keyword, window=50, print_samples=5):\n",
    "    def add_kwic(text):\n",
    "        kwic_list.extend(keyword_in_context(text, keyword, ignore_case=True, window_width=window))\n",
    "\n",
    "    kwic_list = []\n",
    "    doc_series.map(add_kwic)\n",
    "\n",
    "    if print_samples is None or print_samples == 0:\n",
    "        return kwic_list\n",
    "    else:\n",
    "        k = min(print_samples, len(kwic_list))\n",
    "        print(f'{k} random samples out of {len(kwic_list)} ' +\n",
    "              f\"contexts for '{keyword}':\")\n",
    "        for sample in random.sample(list(kwic_list), k):\n",
    "            print(re.sub(r'[\\n\\t]', ' ', sample[0]) + ' ' +\n",
    "                  sample[1]+' ' +\n",
    "                  re.sub(r'[\\n\\t]', ' ', sample[2]))\n"
   ]
  },
  {
   "cell_type": "markdown",
   "metadata": {},
   "source": [
    "Bellow we apply KWIC for `stk` keyword found from the frequency analysis and print 10 random context appearances.\n",
    "\n",
    "The call is made to the original untokenized & unprocessed dataset."
   ]
  },
  {
   "cell_type": "code",
   "execution_count": 20,
   "metadata": {},
   "outputs": [
    {
     "name": "stdout",
     "output_type": "stream",
     "text": [
      "10 random samples out of 363 contexts for 'stk':\n",
      " eller overgreb omfattet af udlændingelovens § 7,  stk . 2. Flygtningenævnet stadfæster derfor Udlændinge\n",
      " eller overgreb omfattet af udlændingelovens § 7,  stk . 2. Flygtningenævnet stadfæster derfor Udlændinge\n",
      "holdstilladelse i medfør af udlændingelovens § 7,  stk . 1, eller stk. 2 er derfor ikke opfyldt. Flygtnin\n",
      "ken, jf. Flygtningenævnets forretningsorden § 36,  stk . 1, 1. pkt. Ansøgeren har oplyst at være etnisk r\n",
      " risikerer forfølgelse, jf. udlændingelovens § 7,  stk . 1, eller har behov for beskyttelsesstatus, jf. u\n",
      "for opholdstilladelse efter udlændingelovens § 7,  stk . 1 eller stk. 2, er opfyldt. Flygtningenævnet sta\n",
      "er for overgreb omfattet af udlændingelovens § 7,  stk . 2. Flygtningenævnet stadfæster derfor Udlændinge\n",
      "for opholdstilladelse efter udlændingelovens § 7,  stk . 1, eller stk. 2, er opfyldt. Flygtningenævnet st\n",
      "nde forfølgelse omfattet af udlændingelovens § 7,  stk . 1, eller overgreb omfattet af udlændingelovens §\n",
      "dstilladelse ved svig, jf. udlændingelovens § 19,  stk . 2, nr. 1. Klageren har således ikke på overbevis\n"
     ]
    }
   ],
   "source": [
    "kwic(df['text'], 'stk', print_samples=10)"
   ]
  },
  {
   "cell_type": "markdown",
   "metadata": {},
   "source": [
    "KWIC for `opholdstilladelse`."
   ]
  },
  {
   "cell_type": "code",
   "execution_count": 21,
   "metadata": {},
   "outputs": [
    {
     "name": "stdout",
     "output_type": "stream",
     "text": [
      "10 random samples out of 228 contexts for 'opholdstilladelse':\n",
      "af en sådan intensitet, at det vil kunne begrunde  opholdstilladelse  efter udlændingelovens § 7. Heller ikke den omstæ\n",
      ". Det følger heraf, at en udlænding, der søger om  opholdstilladelse  efter udlændingelovens § 7, må sandsynlig-gøre de\n",
      "rens forældre. Ansøgeren kan derfor ikke meddeles  opholdstilladelse  efter udlændingelovens § 7, stk. 1 eller stk. 2.”\n",
      "gtningenævnet finder derfor, at betingelserne for  opholdstilladelse  efter udlændingelovens § 7, stk. 1 eller stk. 2, \n",
      "for bidoonere i Kuwait ville have kunnet begrunde  opholdstilladelse  efter udlændingelovens § 7. Det fremgår af baggru\n",
      "gen fri vilje ønsker at frafalde sin ansøgning om  opholdstilladelse  i Danmark og snarest ønsker at udrejse til Irak. \n",
      " særligt belastende for klageren at inddrage hans  opholdstilladelse , lagt vægt på, at klageren har opholdt sig i Danm\n",
      " flere andre familiemedlemmer angiveligt har fået  opholdstilladelse  i Storbritannien kan ikke føre til at sagen hjemv\n",
      "lastende for klageren at nægte at forlænge hendes  opholdstilladelse , navnlig på grund de hensyn, der er nævnt i udlæn\n",
      "ne ikke har sandsynliggjort, at betingelserne for  opholdstilladelse  efter udlændingelovens § 7, stk. 1, eller stk. 2,\n"
     ]
    }
   ],
   "source": [
    "kwic(df['text'], 'opholdstilladelse', print_samples=10)"
   ]
  },
  {
   "cell_type": "markdown",
   "metadata": {},
   "source": [
    "# N-gram analysis:"
   ]
  },
  {
   "cell_type": "markdown",
   "metadata": {},
   "source": [
    "**N-grams** are neighboring sequences of items (words, letters, symbols) in a document. \n",
    "\n",
    "Most of the times a probability is assigned to the occurrence of a N-gram (or a word occurring next in a sequence of words). This can help decide which N-grams can be chunked together to form single entities or make predictions for next words (other possible use cases include spelling corrections).  \n",
    "\n",
    "[Here](https://web.stanford.edu/~jurafsky/slp3/slides/LM_4.pdf), are some slides from Stanford which provide an introduction to N-gram models and the math that goes with it. "
   ]
  },
  {
   "cell_type": "code",
   "execution_count": 22,
   "metadata": {},
   "outputs": [],
   "source": [
    "def generate_N_grams(text, ngram=1):\n",
    "    \"\"\"\"custom function to generate n-grams\"\"\"\n",
    "    words = [word for word in text.split(\n",
    "        \" \") if word not in set(STOPWORDS_DANISH)]\n",
    "    # print(\"Sentence after removing stopwords:\", words)\n",
    "    # Use the zip function to help us generate n-grams\n",
    "    temp = zip(*[words[i:] for i in range(0, ngram)])\n",
    "    # Concatentate the tokens into ngrams and return\n",
    "    ans = [' '.join(ngram) for ngram in temp]\n",
    "    return ans"
   ]
  },
  {
   "cell_type": "code",
   "execution_count": 23,
   "metadata": {},
   "outputs": [],
   "source": [
    "df['tokens_joined'] = [' '.join(token) for token in df['tokens']]"
   ]
  },
  {
   "cell_type": "code",
   "execution_count": 24,
   "metadata": {},
   "outputs": [],
   "source": [
    "values = defaultdict(int)\n",
    "\n",
    "# Get the count of every bigram in the data set from last processed column:\n",
    "for text in df['tokens_joined']:\n",
    "    for word in generate_N_grams(text, 2):\n",
    "        values[word] += 1"
   ]
  },
  {
   "cell_type": "code",
   "execution_count": 25,
   "metadata": {},
   "outputs": [],
   "source": [
    "# Focus on more frequently occuring words.\n",
    "# Sort in descending order with respect to the column of interest:\n",
    "df_processed = pd.DataFrame(\n",
    "    sorted(values.items(), key=lambda x: x[1], reverse=True))\n",
    "\n",
    "# Ten first values of the first column:\n",
    "c1 = df_processed[0][:10]\n",
    "# Ten first values of the second column:\n",
    "c2 = df_processed[1][:10]\n"
   ]
  },
  {
   "cell_type": "code",
   "execution_count": 26,
   "metadata": {},
   "outputs": [
    {
     "data": {
      "image/png": "[encoded data removed]",
      "text/plain": [
       "<Figure size 1152x288 with 1 Axes>"
      ]
     },
     "metadata": {},
     "output_type": "display_data"
    }
   ],
   "source": [
    "plt.figure(1, figsize=(16, 4))\n",
    "plt.bar(c1, c2, color='purple',\n",
    "        width=0.4)\n",
    "plt.xlabel(\"Combinations of Words in dataframe\")\n",
    "plt.xticks(rotation=90)\n",
    "plt.ylabel(\"Count\")\n",
    "plt.title(\"Top 10 bi-grams in dataframe-BIGRAM ANALYSIS\")\n",
    "# plt.savefig(\"dataset-bigram.png\")\n",
    "plt.show()\n"
   ]
  },
  {
   "cell_type": "markdown",
   "metadata": {},
   "source": [
    "# TF-IDF"
   ]
  },
  {
   "cell_type": "markdown",
   "metadata": {},
   "source": [
    "**Term Frequency (TF):**\n",
    "\n",
    "The number of times a word appears in a document divded by the total number of words in the document. Every document has its own term frequency.\n",
    "\n",
    "A value close to 1 indicates this term is very important to the document — and primarily composed of it. A low value could mean this term is not very important.\n",
    "\n",
    "**Inverse Data Frequency (IDF):**\n",
    "\n",
    "The log of the number of documents divided by the number of documents that contain the word w. Inverse data frequency determines the weight of rare words across all documents in the corpus.\n",
    "\n",
    "A value close to 0 indicates the term is very common — and not very helpful in differentiating this document from another. A higher value indicates the term is not very common and could be crucial to understanding the theme of this document.\n",
    "\n",
    "The **TF-IDF** is the multiplication of TF by IDF.\n",
    "\n",
    "A value close to 0 indicates the term is not important either in the corpus or the document or both. A larger value indicates the term is unique for the document or the corpus or both. This value works best in relation to other terms in the same document, and other documents."
   ]
  },
  {
   "cell_type": "code",
   "execution_count": 27,
   "metadata": {},
   "outputs": [
    {
     "data": {
      "text/plain": [
       "(189, 4318)"
      ]
     },
     "execution_count": 27,
     "metadata": {},
     "output_type": "execute_result"
    }
   ],
   "source": [
    "# Get the column of interest:\n",
    "docs = df['tokens_joined'].tolist()\n",
    "\n",
    "# Create a vocabulary of words,eliminate stop words if any:\n",
    "\n",
    "cv = CountVectorizer()\n",
    "word_count_vector = cv.fit_transform(docs)\n",
    "\n",
    "# Get shape of resulting vector:\n",
    "word_count_vector.shape\n"
   ]
  },
  {
   "cell_type": "code",
   "execution_count": 28,
   "metadata": {},
   "outputs": [
    {
     "data": {
      "text/plain": [
       "['stadfæste',\n",
       " '2021',\n",
       " 'udlændingestyrels',\n",
       " 'afgørelse',\n",
       " 'vedrørende',\n",
       " 'mandlig',\n",
       " 'statsborger',\n",
       " 'ukendt',\n",
       " 'hjemland',\n",
       " 'indrejst']"
      ]
     },
     "execution_count": 28,
     "metadata": {},
     "output_type": "execute_result"
    }
   ],
   "source": [
    "word_count_vector = cv.fit_transform(docs)\n",
    "\n",
    "# Look at 10 words from our vocabulary:\n",
    "list(cv.vocabulary_.keys())[:10]\n"
   ]
  },
  {
   "cell_type": "code",
   "execution_count": 29,
   "metadata": {},
   "outputs": [
    {
     "data": {
      "text/plain": [
       "array([5.55387689, 5.55387689, 3.11152986, ..., 4.63758616, 5.55387689,\n",
       "       3.35665231])"
      ]
     },
     "execution_count": 29,
     "metadata": {},
     "output_type": "execute_result"
    }
   ],
   "source": [
    "tfidf_transformer = TfidfTransformer(smooth_idf=True, use_idf=True)\n",
    "tfidf_transformer.fit(word_count_vector)\n",
    "\n",
    "\n",
    "# Peek at the IDF values:\n",
    "tfidf_transformer.idf_"
   ]
  },
  {
   "cell_type": "code",
   "execution_count": 30,
   "metadata": {},
   "outputs": [],
   "source": [
    "# Sorts the values in the vector while preserving the column index\n",
    "def sort_coo(coo_matrix):\n",
    "    tuples = zip(coo_matrix.col, coo_matrix.data)\n",
    "    return sorted(tuples, key=lambda x: (x[1], x[0]), reverse=True)\n",
    "\n",
    "\n",
    "def extract_top_n_from_vector(feature_names, sorted_items, topn=10):\n",
    "    \"\"\"get the feature names and tf-idf score of top n items\"\"\"\n",
    "\n",
    "    # Use only topn items from vector\n",
    "    sorted_items = sorted_items[:topn]\n",
    "\n",
    "    score_vals = []\n",
    "    feature_vals = []\n",
    "\n",
    "    for idx, score in sorted_items:\n",
    "        fname = feature_names[idx]\n",
    "\n",
    "        # Keep track of feature name and its corresponding score\n",
    "        score_vals.append(round(score, 3))\n",
    "        feature_vals.append(fname)\n",
    "\n",
    "    # Create a tuples of feature,score\n",
    "    # results = zip(feature_vals,score_vals)\n",
    "    results = {}\n",
    "    for idx in range(len(feature_vals)):\n",
    "        results[feature_vals[idx]] = score_vals[idx]\n",
    "\n",
    "    return results\n"
   ]
  },
  {
   "cell_type": "code",
   "execution_count": 31,
   "metadata": {},
   "outputs": [
    {
     "data": {
      "text/html": [
       "<div>\n",
       "<style scoped>\n",
       "    .dataframe tbody tr th:only-of-type {\n",
       "        vertical-align: middle;\n",
       "    }\n",
       "\n",
       "    .dataframe tbody tr th {\n",
       "        vertical-align: top;\n",
       "    }\n",
       "\n",
       "    .dataframe thead th {\n",
       "        text-align: right;\n",
       "    }\n",
       "</style>\n",
       "<table border=\"1\" class=\"dataframe\">\n",
       "  <thead>\n",
       "    <tr style=\"text-align: right;\">\n",
       "      <th></th>\n",
       "      <th>doc</th>\n",
       "      <th>keywords</th>\n",
       "    </tr>\n",
       "  </thead>\n",
       "  <tbody>\n",
       "    <tr>\n",
       "      <th>0</th>\n",
       "      <td>stadfæste 2021 udlændingestyrels afgørelse ved...</td>\n",
       "      <td>{'myanmar': 0.39, 'rohingya': 0.292, 'ansøger'...</td>\n",
       "    </tr>\n",
       "    <tr>\n",
       "      <th>1</th>\n",
       "      <td>stadfæste 2021 udlændingestyrels afgørelse ved...</td>\n",
       "      <td>{'ansøger': 0.416, 'algerium': 0.386, 'frankri...</td>\n",
       "    </tr>\n",
       "    <tr>\n",
       "      <th>2</th>\n",
       "      <td>stadfæste 2021 udlændingestyrels afgørelse ved...</td>\n",
       "      <td>{'ansøger': 0.377, 'sudan': 0.284, '2020': 0.2...</td>\n",
       "    </tr>\n",
       "    <tr>\n",
       "      <th>3</th>\n",
       "      <td>stadfæste 2020 udlændingestyrels afgørelse ved...</td>\n",
       "      <td>{'somalia': 0.433, 'alshabaab': 0.417, 'kenya'...</td>\n",
       "    </tr>\n",
       "    <tr>\n",
       "      <th>4</th>\n",
       "      <td>hjemvise 2020 udlændingestyrels afgørelse vedr...</td>\n",
       "      <td>{'eritreisk': 0.4, 'eritrea': 0.35, 'etiopisk'...</td>\n",
       "    </tr>\n",
       "    <tr>\n",
       "      <th>...</th>\n",
       "      <td>...</td>\n",
       "      <td>...</td>\n",
       "    </tr>\n",
       "    <tr>\n",
       "      <th>184</th>\n",
       "      <td>stadfæste 2016 udlændingestyrels afgørelse ved...</td>\n",
       "      <td>{'fader': 0.499, 'liyu': 0.343, 'police': 0.29...</td>\n",
       "    </tr>\n",
       "    <tr>\n",
       "      <th>185</th>\n",
       "      <td>stadfæste 2015 udlændingestyrels afgørelse ved...</td>\n",
       "      <td>{'onlf': 0.43, 'ansøger': 0.318, 'police': 0.3...</td>\n",
       "    </tr>\n",
       "    <tr>\n",
       "      <th>186</th>\n",
       "      <td>hjemvise 2015 udlændingestyrels afgørelse vedr...</td>\n",
       "      <td>{'hjemvise': 0.276, 'etiopien': 0.192, 'foreta...</td>\n",
       "    </tr>\n",
       "    <tr>\n",
       "      <th>187</th>\n",
       "      <td>stadfæste 2015 udlændingestyrels afgørelse ved...</td>\n",
       "      <td>{'soldat': 0.535, 'ansøger': 0.22, 'burmesisk'...</td>\n",
       "    </tr>\n",
       "    <tr>\n",
       "      <th>188</th>\n",
       "      <td>stadfæste 2015 udlændingestyrels afgørelse ved...</td>\n",
       "      <td>{'algerium': 0.468, 'ukendt': 0.292, 'ansøger'...</td>\n",
       "    </tr>\n",
       "  </tbody>\n",
       "</table>\n",
       "<p>189 rows × 2 columns</p>\n",
       "</div>"
      ],
      "text/plain": [
       "                                                   doc  \\\n",
       "0    stadfæste 2021 udlændingestyrels afgørelse ved...   \n",
       "1    stadfæste 2021 udlændingestyrels afgørelse ved...   \n",
       "2    stadfæste 2021 udlændingestyrels afgørelse ved...   \n",
       "3    stadfæste 2020 udlændingestyrels afgørelse ved...   \n",
       "4    hjemvise 2020 udlændingestyrels afgørelse vedr...   \n",
       "..                                                 ...   \n",
       "184  stadfæste 2016 udlændingestyrels afgørelse ved...   \n",
       "185  stadfæste 2015 udlændingestyrels afgørelse ved...   \n",
       "186  hjemvise 2015 udlændingestyrels afgørelse vedr...   \n",
       "187  stadfæste 2015 udlændingestyrels afgørelse ved...   \n",
       "188  stadfæste 2015 udlændingestyrels afgørelse ved...   \n",
       "\n",
       "                                              keywords  \n",
       "0    {'myanmar': 0.39, 'rohingya': 0.292, 'ansøger'...  \n",
       "1    {'ansøger': 0.416, 'algerium': 0.386, 'frankri...  \n",
       "2    {'ansøger': 0.377, 'sudan': 0.284, '2020': 0.2...  \n",
       "3    {'somalia': 0.433, 'alshabaab': 0.417, 'kenya'...  \n",
       "4    {'eritreisk': 0.4, 'eritrea': 0.35, 'etiopisk'...  \n",
       "..                                                 ...  \n",
       "184  {'fader': 0.499, 'liyu': 0.343, 'police': 0.29...  \n",
       "185  {'onlf': 0.43, 'ansøger': 0.318, 'police': 0.3...  \n",
       "186  {'hjemvise': 0.276, 'etiopien': 0.192, 'foreta...  \n",
       "187  {'soldat': 0.535, 'ansøger': 0.22, 'burmesisk'...  \n",
       "188  {'algerium': 0.468, 'ukendt': 0.292, 'ansøger'...  \n",
       "\n",
       "[189 rows x 2 columns]"
      ]
     },
     "execution_count": 31,
     "metadata": {},
     "output_type": "execute_result"
    }
   ],
   "source": [
    "# We only need to do this once:\n",
    "feature_names = cv.get_feature_names_out()\n",
    "\n",
    "# Generate tf-idf for all documents in list. docs has 192 documents:\n",
    "tf_idf_vector = tfidf_transformer.transform(cv.transform(docs))\n",
    "\n",
    "results = []\n",
    "for i in range(tf_idf_vector.shape[0]):\n",
    "\n",
    "    # get vector for a single document\n",
    "    curr_vector = tf_idf_vector[i]\n",
    "\n",
    "    # sort the tf-idf vector by descending order of scores\n",
    "    sorted_items = sort_coo(curr_vector.tocoo())   # tocoo() Return a COOrdinate representation of this matrix.\n",
    "\n",
    "    # extract only the top n; n here is 10\n",
    "    keywords = extract_top_n_from_vector(feature_names, sorted_items, 10)\n",
    "\n",
    "    results.append(keywords)\n",
    "\n",
    "df_tfIDF = pd.DataFrame(zip(docs, results), columns=['doc', 'keywords'])\n",
    "# df_tfIDF.shape\n",
    "df_tfIDF\n"
   ]
  },
  {
   "cell_type": "code",
   "execution_count": 32,
   "metadata": {},
   "outputs": [
    {
     "name": "stdout",
     "output_type": "stream",
     "text": [
      "[   ('klager', 0.809),\n",
      "    ('officer', 0.618),\n",
      "    ('taliban', 0.566),\n",
      "    ('soldat', 0.535),\n",
      "    ('libyen', 0.507),\n",
      "    ('police', 0.492),\n",
      "    ('liyu', 0.492),\n",
      "    ('senegal', 0.464),\n",
      "    ('tjetjenie', 0.464),\n",
      "    ('georgien', 0.464),\n",
      "    ('sierra', 0.46),\n",
      "    ('leone', 0.46),\n",
      "    ('ægtefælle', 0.458),\n",
      "    ('avis', 0.451),\n",
      "    ('libysk', 0.439),\n",
      "    ('hær', 0.437),\n",
      "    ('holland', 0.434),\n",
      "    ('somalia', 0.433),\n",
      "    ('ghanesisk', 0.43),\n",
      "    ('bøde', 0.425)]\n"
     ]
    }
   ],
   "source": [
    "# Create a dictionary from results list of dictionaries:\n",
    "my_dict = dict(ChainMap(*results))\n",
    "\n",
    "c = Counter(my_dict)\n",
    "\n",
    "# Returns top 20 most common pairs:\n",
    "most_common = c.most_common(20)\n",
    "\n",
    "# For getting the keys from `most_common`:\n",
    "my_keys = [key for key, val in most_common]\n",
    "\n",
    "# Add pretty printer:\n",
    "pp = pprint.PrettyPrinter(indent=4)\n",
    "\n",
    "pp.pprint(most_common)\n"
   ]
  },
  {
   "cell_type": "markdown",
   "metadata": {},
   "source": [
    "Plot the pairs:"
   ]
  },
  {
   "cell_type": "code",
   "execution_count": 33,
   "metadata": {},
   "outputs": [
    {
     "data": {
      "image/png": "[encoded data removed]",
      "text/plain": [
       "<Figure size 432x288 with 1 Axes>"
      ]
     },
     "metadata": {},
     "output_type": "display_data"
    }
   ],
   "source": [
    "# plt.bar(range(len(most_common)), [val[1] for val in most_common], align='center')\n",
    "# plt.xticks(range(len(most_common)), [val[0] for val in most_common])\n",
    "# plt.xticks(rotation=70)\n",
    "\n",
    "# sort values in tuple:\n",
    "sorted_most_common = sorted(most_common, key=lambda x: x[1])\n",
    "\n",
    "fig, ax = plt.subplots()\n",
    "bars = ax.barh([val[0] for val in sorted_most_common], [val[1] for val in sorted_most_common])\n",
    "\n",
    "ax.bar_label(bars)\n",
    "plt.show()"
   ]
  },
  {
   "cell_type": "markdown",
   "metadata": {},
   "source": [
    "# Topic Modelling:"
   ]
  },
  {
   "cell_type": "markdown",
   "metadata": {},
   "source": [
    "## Latent Dirichlet Allocation (LDA):"
   ]
  },
  {
   "cell_type": "markdown",
   "metadata": {},
   "source": [
    "For a given corpus, a topic model estimates a topic distribution for each of its documents (i.e., a a distribution of weights over a set of topics), where a topic is itself a distribution of weights over the vocabulary of the corpus. The most weighted words of each topic are syntactically and/or semantically related, given that collection of documents. This means that two distinct topics share the exact same vocabulary, but have different weight distributions."
   ]
  },
  {
   "cell_type": "code",
   "execution_count": 34,
   "metadata": {},
   "outputs": [],
   "source": [
    "# Utility function to display topics produced by Topic Modelling\n",
    "def display_topics(model, features, num_top_words=5):\n",
    "    for topic, word_vector in enumerate(model.components_):\n",
    "        total = word_vector.sum()\n",
    "        largest = word_vector.argsort()[::-1] # inverts sort order\n",
    "        print(\"\\nTopic %02d\" % topic)\n",
    "        for i in range(0, num_top_words):\n",
    "            print(\" %s (%2.2f)\" % (features[largest[i]], word_vector[largest[i]]*100.0/total))"
   ]
  },
  {
   "cell_type": "code",
   "execution_count": 35,
   "metadata": {},
   "outputs": [],
   "source": [
    "count_text_vectorizer = CountVectorizer( min_df=2, max_df=0.7)\n",
    "count_text_vectors = count_text_vectorizer.fit_transform(df['tokens_joined'])"
   ]
  },
  {
   "cell_type": "markdown",
   "metadata": {},
   "source": [
    "### Coherence Score:\n",
    "\n",
    "Compute the coherence score is essentially a measure of how similar the words assigned to each topic are in terms of semantic value. The higher the score, the better.\n",
    "\n",
    "Compute the coherence score for LDA models with 2 to 10 topics and see which number of topics leads to the highest coherence score.\n",
    "\n",
    "Topic coherence in essence measures the human interpretability of a topic model. Traditionally perplexity has been used to evaluate topic models however this does not correlate with human annotations at times. Topic coherence is another way to evaluate topic models with a much higher guarantee on human interpretability. Thus this can be used to compare different topic models among many other use-cases."
   ]
  },
  {
   "cell_type": "code",
   "execution_count": 36,
   "metadata": {},
   "outputs": [
    {
     "name": "stderr",
     "output_type": "stream",
     "text": [
      "/Users/jnap/opt/anaconda3/lib/python3.9/site-packages/gensim/matutils.py:22: DeprecationWarning: Please use `triu` from the `scipy.linalg` namespace, the `scipy.linalg.special_matrices` namespace is deprecated.\n",
      "  from scipy.linalg.special_matrices import triu\n"
     ]
    },
    {
     "name": "stdout",
     "output_type": "stream",
     "text": [
      "The coherence score for LDA (0.77) is highest with 4 topics.\n"
     ]
    }
   ],
   "source": [
    "best_num_LDA = float('NaN')\n",
    "best_score_LDA = 0\n",
    "\n",
    "# Compute the coherence scores for each number of topics\n",
    "for i in range(2, 11):\n",
    "\n",
    "    # Create LDA model with i topics\n",
    "    LDA_text_model = LatentDirichletAllocation(n_components=i, random_state=42)\n",
    "    W_LDA_text_matrix = LDA_text_model.fit_transform(count_text_vectors)\n",
    "    H_LDA_text_matrix = LDA_text_model.components_\n",
    "\n",
    "    # Obtain the coherence score\n",
    "    coherence_model_LDA = metric_coherence_gensim(measure='c_v', \n",
    "                        top_n=25, \n",
    "                        topic_word_distrib=H_LDA_text_matrix, \n",
    "                        dtm=W_LDA_text_matrix, \n",
    "                        vocab=np.array([x for x in count_text_vectorizer.vocabulary_.keys()]), \n",
    "                        texts=df['tokens'])\n",
    "    coherence_score_LDA = np.around(coherence_model_LDA, 2)\n",
    "    for score in coherence_score_LDA:\n",
    "        if score > best_score_LDA:\n",
    "            best_num_LDA = i\n",
    "            best_score_LDA = score\n",
    "\n",
    "print(f'The coherence score for LDA ({best_score_LDA}) is highest with {best_num_LDA} topics.')"
   ]
  },
  {
   "cell_type": "markdown",
   "metadata": {},
   "source": [
    "Build the model with the best number of topics and see them:"
   ]
  },
  {
   "cell_type": "code",
   "execution_count": 37,
   "metadata": {},
   "outputs": [],
   "source": [
    "LDA_model = LatentDirichletAllocation(n_components=best_num_LDA, random_state=42)\n",
    "W_LDA_model_matrix = LDA_model.fit_transform(count_text_vectors)\n",
    "H_LDA_model_matrix = LDA_model.components_"
   ]
  },
  {
   "cell_type": "code",
   "execution_count": 38,
   "metadata": {},
   "outputs": [
    {
     "name": "stdout",
     "output_type": "stream",
     "text": [
      "\n",
      "Topic 00\n",
      " demonstration (1.91)\n",
      " kvindelig (1.73)\n",
      " bopæl (1.39)\n",
      " divergere (1.23)\n",
      " bidoon (1.09)\n",
      "\n",
      "Topic 01\n",
      " divergere (1.22)\n",
      " ansøgere (0.96)\n",
      " slå (0.79)\n",
      " liyu (0.75)\n",
      " police (0.71)\n",
      "\n",
      "Topic 02\n",
      " demonstration (1.64)\n",
      " bidoon (1.37)\n",
      " deltage (1.12)\n",
      " klager (1.03)\n",
      " oplysning (1.01)\n",
      "\n",
      "Topic 03\n",
      " eritrea (1.77)\n",
      " år (1.16)\n",
      " ansøgere (0.96)\n",
      " føde (0.84)\n",
      " sudan (0.81)\n"
     ]
    }
   ],
   "source": [
    "display_topics(LDA_model, count_text_vectorizer.get_feature_names_out())"
   ]
  },
  {
   "cell_type": "markdown",
   "metadata": {},
   "source": [
    "Visualise the topics produced by LDA:"
   ]
  },
  {
   "cell_type": "code",
   "execution_count": 39,
   "metadata": {},
   "outputs": [
    {
     "name": "stderr",
     "output_type": "stream",
     "text": [
      "/Users/jnap/opt/anaconda3/lib/python3.9/site-packages/past/builtins/misc.py:45: DeprecationWarning: the imp module is deprecated in favour of importlib; see the module's documentation for alternative uses\n",
      "  from imp import reload\n",
      "/Users/jnap/opt/anaconda3/lib/python3.9/site-packages/past/builtins/misc.py:45: DeprecationWarning: the imp module is deprecated in favour of importlib; see the module's documentation for alternative uses\n",
      "  from imp import reload\n",
      "/Users/jnap/opt/anaconda3/lib/python3.9/site-packages/past/builtins/misc.py:45: DeprecationWarning: the imp module is deprecated in favour of importlib; see the module's documentation for alternative uses\n",
      "  from imp import reload\n",
      "/Users/jnap/opt/anaconda3/lib/python3.9/site-packages/past/builtins/misc.py:45: DeprecationWarning: the imp module is deprecated in favour of importlib; see the module's documentation for alternative uses\n",
      "  from imp import reload\n"
     ]
    },
    {
     "data": {
      "text/html": [
       "\n",
       "<link rel=\"stylesheet\" type=\"text/css\" href=\"https://cdn.jsdelivr.net/gh/bmabey/pyLDAvis@3.3.1/pyLDAvis/js/ldavis.v1.0.0.css\">\n",
       "\n",
       "\n",
       "<div id=\"ldavis_el835254948758562541328296\"></div>\n",
       "<script type=\"text/javascript\">\n",
       "\n",
       "var ldavis_el835254948758562541328296_data = {\"mdsDat\": {\"x\": [0.11935709079516539, -0.059198044294794624, 0.06308513529695817, -0.12324418179732882], \"y\": [-0.007055447415804251, -0.10746200759798633, 0.04612364372244058, 0.06839381129135001], \"topics\": [1, 2, 3, 4], \"cluster\": [1, 1, 1, 1], \"Freq\": [33.419443626561176, 5.719337761763941, 48.61398652904133, 12.24723208263356]}, \"tinfo\": {\"Term\": [\"eritrea\", \"divergere\", \"klager\", \"ans\\u00f8gere\", \"\\u00e5r\", \"kvindelig\", \"sl\\u00e5\", \"hjemland\", \"demonstration\", \"statsborger\", \"f\\u00f8de\", \"opholde\", \"efter\\u00e5r\", \"bo\", \"oplysning\", \"sandsynligg\\u00f8re\", \"sudan\", \"risiko\", \"person\", \"ihjel\", \"forf\\u00f8lgelse\", \"bop\\u00e6l\", \"forbindelse\", \"flygte\", \"politi\", \"bidoon\", \"for\\u00e6lder\", \"syrisk\", \"omfattee\", \"fader\", \"officer\", \"taima\", \"bar\", \"comr\\u00e5d\", \"betjent\", \"blok\", \"golf\", \"politifolk\", \"hidtidig\", \"vriste\", \"kigge\", \"knap\", \"familiemedlemm\", \"adskille\", \"lytte\", \"skjulested\", \"filmoptagelse\", \"overs\\u00e6ttelse\", \"fremh\\u00e6ve\", \"avlingstid\", \"enkeltvis\", \"folke\", \"graviditet\", \"m\\u00e6ndene\", \"p\\u00e5kl\\u00e6dning\", \"seddel\", \"sparsomt\", \"tidligt\", \"underrette\", \"undslap\", \"v\\u00e5ben\", \"ligge\", \"kilometer\", \"solgte\", \"fort\\u00e6lle\", \"enkelt\", \"motivsamta\", \"morbror\", \"kendskab\", \"ringe\", \"medf\\u00f8re\", \"kvindelig\", \"henvende\", \"ans\\u00f8g\", \"yderst\", \"s\\u00f8nn\", \"derudover\", \"oplysnings\", \"ca\", \"bop\\u00e6l\", \"bror\", \"divergere\", \"angiveligt\", \"ans\\u00f8gerne\", \"sandsynliggjore\", \"demonstration\", \"udl\\u00e6nding\", \"omr\\u00e5de\", \"hjem\", \"videre\", \"bo\", \"ops\\u00f8gt\", \"mor\", \"asylsamtal\", \"hjemland\", \"indbyrdes\", \"dokument\", \"deltage\", \"bidoon\", \"hel\", \"gang\", \"\\u00e5r\", \"kuwaitisk\", \"dag\", \"baggrund\", \"anholde\", \"rettighed\", \"politi\", \"generel\", \"2014\", \"tilbageholde\", \"bidooner\", \"ans\\u00f8gere\", \"overgreb\", \"liyu\", \"police\", \"alshabaab\", \"onlf\", \"ghana\", \"algerium\", \"libysk\", \"somalia\", \"f\\u00e6tre\", \"samv\\u00e6r\", \"ogaden\", \"marokkansk\", \"repr\\u00e6sentant\", \"frieri\", \"adskillig\", \"ambassade\", \"tvangshverv\", \"lgbt\", \"asylum\", \"sk\\u00f8d\", \"gaddafi\", \"muammar\", \"front\", \"forn\\u00f8den\", \"trusselsbrev\", \"libyen\", \"samleje\", \"klan\", \"spanien\", \"addis\", \"beskylde\", \"fader\", \"gifte\", \"landsby\", \"marokko\", \"\\u00f8strig\", \"2010\", \"d\\u00f8r\", \"f\\u00e6ter\", \"fremkomme\", \"ihjel\", \"etiopien\", \"sl\\u00e5\", \"n\\u00e6vnsm\\u00f8det\", \"divergere\", \"efter\\u00e5r\", \"ans\\u00f8gere\", \"opholde\", \"person\", \"risiko\", \"statsborger\", \"oplysning\", \"bo\", \"hjemland\", \"\\u00e5r\", \"forf\\u00f8lgelse\", \"politi\", \"forbindelse\", \"dag\", \"danmark\", \"omfattee\", \"sandsynligg\\u00f8re\", \"gang\", \"f\\u00f8de\", \"dato\", \"angiv\", \"afh\\u00f8re\", \"myanmar\", \"generelt\", \"iraker\", \"\\u00f8vrig\", \"svig\", \"profil\", \"tvivl\", \"eksempel\", \"referat\", \"facebookprofil\", \"rohingya\", \"vanskelig\", \"fornavn\", \"bidune\", \"pege\", \"dreng\", \"fald\", \"fremtid\", \"hver\", \"diskrimination\", \"genindrejse\", \"fremm\\u00f8de\", \"belaste\", \"spise\", \"uddannelse\", \"11\", \"tilstr\\u00e6kkeligt\", \"klagere\", \"vinter\", \"sommer\", \"udrejst\", \"forskelligt\", \"yderlig\", \"anledning\", \"19\", \"klager\", \"billede\", \"\\u00e6gtef\\u00e6lle\", \"m\\u00e5tte\", \"uds\\u00e6tte\", \"n\\u00e6rmere\", \"2013\", \"imidlertid\", \"barn\", \"irak\", \"oplysning\", \"pas\", \"bidoon\", \"omst\\u00e6ndighed\", \"udl\\u00e6ndingestyrelse\", \"bidooner\", \"2017\", \"demonstration\", \"opholdstilladelse\", \"deltage\", \"danmark\", \"for\\u00e5r\", \"dag\", \"samtale\", \"dansk\", \"2014\", \"sag\", \"herunder\", \"navn\", \"kuwaitisk\", \"forbindelse\", \"rettighed\", \"ans\\u00f8gere\", \"f\\u00f8re\", \"blive\", \"bop\\u00e6l\", \"bem\\u00e6rke\", \"tilbageholde\", \"gang\", \"kvindelig\", \"overgreb\", \"eritrea\", \"sudan\", \"eritreisk\", \"libanon\", \"isil\", \"tigrinya\", \"kurder\", \"2020\", \"kniv\", \"krig\", \"1993\", \"udsende\", \"aftjene\", \"parti\", \"1983\", \"ortodoks\", \"krist\", \"pal\\u00e6stinenser\", \"styrke\", \"libanesisk\", \"d\\u00e5bsattest\", \"milit\\u00e6rtjeneste\", \"1995\", \"kv\\u00e6g\", \"militse\", \"\\u00e6gte\", \"sandsynlighed\", \"h\\u00e6ndelse\", \"afklare\", \"nationaltjeneste\", \"soldat\", \"k\\u00e6mpe\", \"tilbagevende\", \"syrisk\", \"amhari\", \"ung\", \"hjemvise\", \"mand\", \"etiopien\", \"syrien\", \"for\\u00e6lder\", \"gruppe\", \"statsborgerskab\", \"idkort\", \"flertal\", \"\\u00e5r\", \"gammel\", \"f\\u00f8de\", \"kvinde\", \"flygte\", \"ukendt\", \"sandsynligg\\u00f8re\", \"hjemland\", \"ans\\u00f8gere\", \"statsborger\", \"tale\", \"sl\\u00e5\", \"n\\u00e6vnsm\\u00f8de\", \"ihjel\", \"klager\", \"sag\", \"fremg\\u00e5\", \"mor\", \"land\", \"divergere\", \"forf\\u00f8lgelse\", \"bo\", \"forbindelse\", \"udl\\u00e6ndingestyrelse\", \"opholdstilladelse\", \"navn\"], \"Freq\": [91.0, 310.0, 251.0, 307.0, 194.0, 346.0, 135.0, 173.0, 608.0, 187.0, 135.0, 176.0, 121.0, 219.0, 296.0, 137.0, 42.0, 124.0, 128.0, 62.0, 144.0, 351.0, 205.0, 83.0, 154.0, 434.0, 59.0, 45.0, 107.0, 33.0, 24.654325755836744, 30.146114972678983, 17.821198431521378, 15.868190067614913, 14.886448301844794, 16.752196981065456, 14.881172670979826, 13.913945661176394, 11.944081598883649, 10.985668074540115, 10.985283127552142, 10.976714450793196, 12.761406906953736, 10.008604084584515, 10.008495150557629, 10.007913644512666, 10.007625338607786, 10.005632240653162, 9.99756672859052, 9.032659126860079, 9.032659126860079, 9.032659126860079, 9.032659126860079, 9.032659126860079, 9.032659126860079, 9.032659126860079, 9.032659126860079, 9.032659126860079, 9.032659126860079, 9.032659126860079, 22.587299166063936, 39.38575167352865, 11.699026825527437, 16.817625296403033, 34.38629234405337, 25.133688670302394, 54.60612835656603, 15.615935383541089, 70.67919186362852, 22.1153966570755, 24.334682809763986, 242.63251327878373, 19.461432717631578, 68.09672787808745, 17.80524340218959, 18.255095170745548, 29.75470562265056, 90.25621834408868, 29.337934999290685, 194.5383247981925, 118.40054051448384, 172.14577231129422, 130.87721337233555, 42.62500208578944, 95.70933323131045, 268.9027602763223, 48.8128953512621, 48.4814349173578, 70.91183478813386, 97.46816178121824, 111.74116753714, 79.09068834814438, 104.10981710459941, 50.73134353873499, 90.50533308517804, 46.139962399960886, 96.74493192670171, 142.1640772663072, 152.95331430848935, 49.556710060916046, 100.00638033060726, 88.4697663544116, 91.98698108582333, 109.24597809727895, 81.98410861174875, 70.77219879318605, 81.08504077439889, 69.76648461865462, 71.8600796262499, 86.11715853627453, 73.59597927019641, 76.06646485754504, 78.87591124715624, 71.68746288706967, 17.918745487033238, 17.11338008531052, 15.500725074529685, 10.670791058177715, 10.667702037082007, 7.449471877641707, 5.03329497104443, 11.405707760003658, 4.227036469316777, 4.211331383828655, 3.4227391466386075, 3.4222514506587447, 3.418920224381087, 3.404697528879559, 2.6162348862914095, 2.615834317977816, 2.6148311271974225, 2.613676472250871, 2.613676472250465, 2.6130861842535786, 2.6120823062658554, 2.612082295156548, 2.612024040955625, 2.6104621659581597, 2.606442780340638, 14.172020383963144, 2.5881564494050084, 2.4599899496135245, 4.232141608959935, 1.8120377771336234, 6.307033166981277, 17.049955282613556, 3.8388476632250317, 9.26370705022688, 5.840029988412199, 8.696048735654225, 8.576899072652735, 6.5454472538083746, 3.381717045552731, 6.183547673147461, 14.845734562027502, 9.866001361681898, 18.9970016772217, 4.8717507090462515, 29.217403841639786, 15.64393136507147, 23.15221207762207, 17.048923541981342, 14.199006972614963, 13.63567797329064, 14.110847596766872, 16.489424710779538, 14.861281309084294, 13.684418286247379, 13.421712399193153, 12.270384277582401, 12.268718318956358, 12.944502785848801, 13.916011019358807, 11.639900025736903, 10.669698523607876, 10.993175804068752, 11.20477393244687, 10.588945625399615, 70.54614012216318, 26.202941419171047, 32.65660816132935, 24.23731581248394, 22.366215296799503, 22.364848993222022, 21.387448603348183, 18.514971119828854, 17.553897328042126, 15.634980571609411, 15.620398663145524, 14.671828386250386, 14.66669426372042, 15.575068300651218, 13.712609321568387, 13.712455203363085, 13.708672793573562, 13.708150998682195, 14.57779807839773, 27.185205044670063, 12.729858034272285, 26.222233096043283, 11.785318664473456, 11.784240970234391, 11.784078360083129, 11.783306429857097, 11.779030365176272, 11.780250642291884, 11.750530578201861, 10.82484675348191, 30.63824774034362, 90.15105122552345, 107.30919829120198, 63.9317790430443, 49.05338488067606, 22.09855404306024, 36.22025796871498, 27.113742532070322, 211.09043705000317, 30.43408512401398, 169.18555590701098, 41.8850517694024, 139.94122170796038, 66.47135196902241, 64.3459813627904, 62.212103461325434, 156.49189272702952, 94.58360574781067, 206.44504959479758, 58.92085976699211, 280.30077026462396, 77.81299931248378, 143.34320178811575, 155.84593589433365, 90.92947449908208, 335.95923868380197, 145.0939193415924, 228.70631950376082, 115.96314917674097, 90.99506716732496, 187.3448958352309, 86.93932888052525, 60.31158544498676, 147.26507750201242, 123.51017869710189, 122.69671824457504, 136.8933485080899, 130.32452092125882, 120.86839055727123, 119.84738988656144, 156.63126257919126, 106.02620937123267, 102.87221417600746, 144.08475022994182, 103.46082370776001, 100.5203849327354, 107.56603001007262, 101.45568133996156, 95.22278383438477, 90.95871347760834, 41.46993990014671, 24.972492574595282, 22.208111135032798, 14.892835127911775, 13.057912332296318, 10.309238075268796, 10.293368355770736, 9.37724565232137, 9.363525557774704, 11.915208903650093, 8.47191665048407, 7.556421629378593, 6.637378300316351, 7.458328356204009, 5.7255745953113, 5.722923995555132, 5.7097302432305685, 5.696585672204733, 4.811164717576, 4.8108342414325485, 8.83976516576886, 4.8074498962656795, 4.7963034699284215, 4.793055636733517, 6.377506820556084, 7.952317731870209, 5.551698889037942, 3.8949693371038143, 3.894621147611694, 11.579210797875648, 7.559951113762783, 15.659096516195268, 31.941972416997856, 8.274097287758973, 8.285237900138426, 14.658942252811874, 28.72678101720288, 21.30608280416446, 25.276238855756418, 31.512685755404302, 9.018601000422548, 27.03671472237507, 12.341206043144183, 19.859115563263607, 59.9024742468074, 19.02407680380529, 43.40555578228291, 19.611227251238248, 29.185963793303202, 24.081137398212483, 34.66843424764111, 38.784069714858234, 49.23378349322938, 38.612382211123766, 27.953919157382828, 32.12902592604228, 24.972692521447847, 22.277069887850132, 40.454077897041536, 34.12527398316407, 30.03415705251536, 33.2587915384123, 27.853752841360926, 29.58201069270717, 25.33237405992235, 26.848254786815808, 26.397596381001016, 25.798909704321105, 25.19909103547401, 24.37879257193814], \"Total\": [91.0, 310.0, 251.0, 307.0, 194.0, 346.0, 135.0, 173.0, 608.0, 187.0, 135.0, 176.0, 121.0, 219.0, 296.0, 137.0, 42.0, 124.0, 128.0, 62.0, 144.0, 351.0, 205.0, 83.0, 154.0, 434.0, 59.0, 45.0, 107.0, 33.0, 25.32754320406063, 31.18139689318721, 18.492251382993523, 16.539242711074124, 15.562514539454682, 17.51434262353205, 15.561950562734374, 14.586215785904493, 12.632962276324806, 11.656720896695333, 11.656676843099705, 11.655151689586605, 13.59868274647092, 10.680204092712762, 10.680206711574124, 10.680198046051268, 10.680194029372036, 10.68016521963518, 10.679760418976198, 9.703712152409103, 9.703712152409103, 9.703712152409103, 9.703712152409103, 9.703712152409103, 9.703712152409103, 9.703712152409103, 9.703712152409103, 9.703712152409103, 9.703712152409103, 9.703712152409103, 24.283332068685155, 43.53428722544312, 12.617091985107363, 18.31823179224401, 38.756796638279496, 28.21716090860509, 64.25245215575988, 17.30192144399814, 86.9529256425777, 25.28573282887471, 28.06659531946054, 346.7832940225292, 22.364960968572884, 90.72347440938414, 20.325791598752247, 21.08105907027976, 36.792155434273845, 130.46147592103912, 36.30363641661426, 351.17159149595074, 196.04859115536766, 310.9703570071159, 228.25123313285212, 59.45746157973723, 165.67195427936065, 608.5357219281047, 71.72657856106268, 71.10522233251751, 118.74557872707302, 180.844455110052, 219.68221704172754, 141.4483772479773, 205.99987119798033, 78.29390107476546, 173.77574738459407, 70.9141396381589, 213.0793400724592, 386.2543359379828, 434.18422193054244, 79.19239751644595, 233.35015823672762, 194.87459981916308, 225.19208452334908, 316.1644536087149, 202.05037680626904, 155.38989255807752, 203.10804604658122, 154.30403663517856, 166.22257252501677, 248.6963743595877, 179.7527793674763, 233.6816557898727, 307.89316939719896, 191.74628497418263, 18.63294938686637, 17.82760173364201, 16.217228089348534, 11.384753059710187, 11.385172725631291, 8.163333510573315, 5.747306004951209, 13.117367229414645, 4.94210366880102, 4.9444936251006455, 4.136576407431487, 4.1366792301126045, 4.137103436172575, 4.139469313946633, 3.3314642563292156, 3.3315287280774006, 3.3316546310211366, 3.331847003739285, 3.331847003739343, 3.331819503766055, 3.3320368599506507, 3.3320368615359968, 3.3319660912518456, 3.3322703284899724, 3.333356174945642, 18.239839622035284, 3.3356032447620274, 3.364650521765516, 5.885688650600578, 2.5258751571702502, 10.244809070396261, 33.78052230172649, 5.912596315746106, 21.930209285137785, 11.134895073097907, 21.34614696568106, 22.39449926651207, 14.983421762245072, 5.10804746610068, 14.142140536981817, 62.60913097207466, 31.65849732149602, 135.06655200410415, 10.544457025145135, 310.9703570071159, 121.24944940776825, 307.89316939719896, 176.31324865851084, 128.81232155001757, 124.83237963507595, 187.5373814882969, 296.5541499674822, 219.68221704172754, 173.77574738459407, 194.87459981916308, 144.31105941820658, 154.30403663517856, 205.6448491164139, 316.1644536087149, 169.80314216227177, 107.5301529763776, 137.55261347423388, 233.35015823672762, 135.90205555432635, 72.03093540278235, 26.89626170146679, 33.63903751919676, 24.971143112535085, 23.04940620616795, 23.04939396914666, 22.085599522953526, 19.199468448309595, 18.237393412452022, 16.31288610102186, 16.310463616853312, 15.35059483016581, 15.350368714269456, 16.30987694891005, 14.388191132174354, 14.388123074881344, 14.388079396181404, 14.38819192257383, 15.336434956927278, 28.666726100964393, 13.426035574860816, 27.704224643257238, 12.463513554149348, 12.463529696331523, 12.463498117549985, 12.463196857615246, 12.462009051785703, 12.463433917977015, 12.459682144764367, 11.501046976973647, 32.60813147211639, 97.597820438858, 119.61534666751852, 70.99689476030072, 54.876447206305045, 23.91686411465066, 40.01622469558788, 29.642650011593293, 251.99978615640532, 33.5385110367603, 212.93253751975124, 47.81078357835607, 179.92106339585172, 80.77873811521455, 78.2137739253649, 75.82842239731782, 213.65489165803604, 121.7114354846636, 296.5541499674822, 72.82611583605804, 434.18422193054244, 100.17572791357172, 204.91143973451858, 233.6816557898727, 124.77965069954769, 608.5357219281047, 220.76332457222662, 386.2543359379828, 169.80314216227177, 126.64588811214475, 316.1644536087149, 121.62059493277884, 77.07693423635445, 248.6963743595877, 200.40126858601465, 203.1995376351077, 236.92834522274094, 225.19208452334908, 205.6448491164139, 203.10804604658122, 307.89316939719896, 179.94599487444594, 170.51633567182938, 351.17159149595074, 190.2083024280052, 179.7527793674763, 233.35015823672762, 346.7832940225292, 191.74628497418263, 91.64697412876632, 42.15691524991098, 25.660119697088444, 22.911761242130783, 15.578891222500364, 13.745877100841783, 10.99646867552895, 10.994987329159137, 10.080879590172287, 10.077964110088345, 12.839998541292193, 9.163190957337328, 8.246996379636112, 7.330595873287916, 8.252170177230843, 6.413827568233787, 6.413966254197757, 6.414982342915453, 6.414242621094613, 5.497603518147864, 5.49763037271479, 10.107490806421069, 5.497837348939862, 5.498419123833904, 5.495659475970369, 7.3437904765066, 9.189801631828495, 6.420822078180149, 4.581107206298113, 4.581064565066254, 13.736948008910947, 9.05304334384451, 20.351822533115822, 45.366532711387364, 10.136057400223898, 10.152606541981434, 19.439477992008477, 42.004987367050816, 31.65849732149602, 39.118115609081705, 59.693062940429584, 11.821965709567191, 53.85085856384157, 18.340633950332737, 36.034207182918536, 194.87459981916308, 36.77996576934174, 135.90205555432635, 40.144892705628685, 83.66700929900264, 66.58107726082687, 137.55261347423388, 173.77574738459407, 307.89316939719896, 187.5373814882969, 99.12774225418836, 135.06655200410415, 78.9969974746065, 62.60913097207466, 251.99978615640532, 200.40126858601465, 150.7725003295994, 205.99987119798033, 142.3995220120967, 310.9703570071159, 144.31105941820658, 219.68221704172754, 205.6448491164139, 204.91143973451858, 220.76332457222662, 236.92834522274094], \"Category\": [\"Default\", \"Default\", \"Default\", \"Default\", \"Default\", \"Default\", \"Default\", \"Default\", \"Default\", \"Default\", \"Default\", \"Default\", \"Default\", \"Default\", \"Default\", \"Default\", \"Default\", \"Default\", \"Default\", \"Default\", \"Default\", \"Default\", \"Default\", \"Default\", \"Default\", \"Default\", \"Default\", \"Default\", \"Default\", \"Default\", \"Topic1\", \"Topic1\", \"Topic1\", \"Topic1\", \"Topic1\", \"Topic1\", \"Topic1\", \"Topic1\", \"Topic1\", \"Topic1\", \"Topic1\", \"Topic1\", \"Topic1\", \"Topic1\", \"Topic1\", \"Topic1\", \"Topic1\", \"Topic1\", \"Topic1\", \"Topic1\", \"Topic1\", \"Topic1\", \"Topic1\", \"Topic1\", \"Topic1\", \"Topic1\", \"Topic1\", \"Topic1\", \"Topic1\", \"Topic1\", \"Topic1\", \"Topic1\", \"Topic1\", \"Topic1\", \"Topic1\", \"Topic1\", \"Topic1\", \"Topic1\", \"Topic1\", \"Topic1\", \"Topic1\", \"Topic1\", \"Topic1\", \"Topic1\", \"Topic1\", \"Topic1\", \"Topic1\", \"Topic1\", \"Topic1\", \"Topic1\", \"Topic1\", \"Topic1\", \"Topic1\", \"Topic1\", \"Topic1\", \"Topic1\", \"Topic1\", \"Topic1\", \"Topic1\", \"Topic1\", \"Topic1\", \"Topic1\", \"Topic1\", \"Topic1\", \"Topic1\", \"Topic1\", \"Topic1\", \"Topic1\", \"Topic1\", \"Topic1\", \"Topic1\", \"Topic1\", \"Topic1\", \"Topic1\", \"Topic1\", \"Topic1\", \"Topic1\", \"Topic1\", \"Topic1\", \"Topic1\", \"Topic1\", \"Topic1\", \"Topic1\", \"Topic1\", \"Topic2\", \"Topic2\", \"Topic2\", \"Topic2\", \"Topic2\", \"Topic2\", \"Topic2\", \"Topic2\", \"Topic2\", \"Topic2\", \"Topic2\", \"Topic2\", \"Topic2\", \"Topic2\", \"Topic2\", \"Topic2\", \"Topic2\", \"Topic2\", \"Topic2\", \"Topic2\", \"Topic2\", \"Topic2\", \"Topic2\", \"Topic2\", \"Topic2\", \"Topic2\", \"Topic2\", \"Topic2\", \"Topic2\", \"Topic2\", \"Topic2\", \"Topic2\", \"Topic2\", \"Topic2\", \"Topic2\", \"Topic2\", \"Topic2\", \"Topic2\", \"Topic2\", \"Topic2\", \"Topic2\", \"Topic2\", \"Topic2\", \"Topic2\", \"Topic2\", \"Topic2\", \"Topic2\", \"Topic2\", \"Topic2\", \"Topic2\", \"Topic2\", \"Topic2\", \"Topic2\", \"Topic2\", \"Topic2\", \"Topic2\", \"Topic2\", \"Topic2\", \"Topic2\", \"Topic2\", \"Topic2\", \"Topic2\", \"Topic2\", \"Topic2\", \"Topic3\", \"Topic3\", \"Topic3\", \"Topic3\", \"Topic3\", \"Topic3\", \"Topic3\", \"Topic3\", \"Topic3\", \"Topic3\", \"Topic3\", \"Topic3\", \"Topic3\", \"Topic3\", \"Topic3\", \"Topic3\", \"Topic3\", \"Topic3\", \"Topic3\", \"Topic3\", \"Topic3\", \"Topic3\", \"Topic3\", \"Topic3\", \"Topic3\", \"Topic3\", \"Topic3\", \"Topic3\", \"Topic3\", \"Topic3\", \"Topic3\", \"Topic3\", \"Topic3\", \"Topic3\", \"Topic3\", \"Topic3\", \"Topic3\", \"Topic3\", \"Topic3\", \"Topic3\", \"Topic3\", \"Topic3\", \"Topic3\", \"Topic3\", \"Topic3\", \"Topic3\", \"Topic3\", \"Topic3\", \"Topic3\", \"Topic3\", \"Topic3\", \"Topic3\", \"Topic3\", \"Topic3\", \"Topic3\", \"Topic3\", \"Topic3\", \"Topic3\", \"Topic3\", \"Topic3\", \"Topic3\", \"Topic3\", \"Topic3\", \"Topic3\", \"Topic3\", \"Topic3\", \"Topic3\", \"Topic3\", \"Topic3\", \"Topic3\", \"Topic3\", \"Topic3\", \"Topic3\", \"Topic3\", \"Topic3\", \"Topic3\", \"Topic3\", \"Topic3\", \"Topic3\", \"Topic4\", \"Topic4\", \"Topic4\", \"Topic4\", \"Topic4\", \"Topic4\", \"Topic4\", \"Topic4\", \"Topic4\", \"Topic4\", \"Topic4\", \"Topic4\", \"Topic4\", \"Topic4\", \"Topic4\", \"Topic4\", \"Topic4\", \"Topic4\", \"Topic4\", \"Topic4\", \"Topic4\", \"Topic4\", \"Topic4\", \"Topic4\", \"Topic4\", \"Topic4\", \"Topic4\", \"Topic4\", \"Topic4\", \"Topic4\", \"Topic4\", \"Topic4\", \"Topic4\", \"Topic4\", \"Topic4\", \"Topic4\", \"Topic4\", \"Topic4\", \"Topic4\", \"Topic4\", \"Topic4\", \"Topic4\", \"Topic4\", \"Topic4\", \"Topic4\", \"Topic4\", \"Topic4\", \"Topic4\", \"Topic4\", \"Topic4\", \"Topic4\", \"Topic4\", \"Topic4\", \"Topic4\", \"Topic4\", \"Topic4\", \"Topic4\", \"Topic4\", \"Topic4\", \"Topic4\", \"Topic4\", \"Topic4\", \"Topic4\", \"Topic4\", \"Topic4\", \"Topic4\", \"Topic4\", \"Topic4\", \"Topic4\", \"Topic4\", \"Topic4\"], \"logprob\": [30.0, 29.0, 28.0, 27.0, 26.0, 25.0, 24.0, 23.0, 22.0, 21.0, 20.0, 19.0, 18.0, 17.0, 16.0, 15.0, 14.0, 13.0, 12.0, 11.0, 10.0, 9.0, 8.0, 7.0, 6.0, 5.0, 4.0, 3.0, 2.0, 1.0, -6.345, -6.1439, -6.6696, -6.7857, -6.8495, -6.7315, -6.8499, -6.9171, -7.0698, -7.1534, -7.1534, -7.1542, -7.0036, -7.2465, -7.2466, -7.2466, -7.2466, -7.2468, -7.2476, -7.3491, -7.3491, -7.3491, -7.3491, -7.3491, -7.3491, -7.3491, -7.3491, -7.3491, -7.3491, -7.3491, -6.4326, -5.8766, -7.0905, -6.7276, -6.0123, -6.3258, -5.5498, -6.8017, -5.2918, -6.4537, -6.3581, -4.0584, -6.5816, -5.3291, -6.6705, -6.6455, -6.157, -5.0473, -6.1711, -4.2794, -4.7759, -4.4016, -4.6757, -5.7975, -4.9887, -3.9556, -5.662, -5.6688, -5.2886, -4.9705, -4.8338, -5.1794, -4.9045, -5.6234, -5.0446, -5.7183, -4.9779, -4.593, -4.5199, -5.6469, -4.9448, -5.0673, -5.0283, -4.8564, -5.1435, -5.2905, -5.1545, -5.3048, -5.2753, -5.0943, -5.2514, -5.2184, -5.1821, -5.2777, -4.8989, -4.9448, -5.0438, -5.4172, -5.4175, -5.7766, -6.1686, -5.3506, -6.3432, -6.3469, -6.5543, -6.5544, -6.5554, -6.5595, -6.823, -6.8231, -6.8235, -6.8239, -6.8239, -6.8242, -6.8246, -6.8246, -6.8246, -6.8252, -6.8267, -5.1334, -6.8338, -6.8845, -6.342, -7.1903, -5.943, -4.9486, -6.4395, -5.5586, -6.02, -5.6218, -5.6356, -5.9059, -6.5663, -5.9628, -5.087, -5.4956, -4.8404, -6.2012, -4.4099, -5.0346, -4.6426, -4.9486, -5.1315, -5.172, -5.1378, -4.982, -5.0859, -5.1684, -5.1878, -5.2775, -5.2776, -5.224, -5.1517, -5.3303, -5.4173, -5.3874, -5.3684, -5.4249, -5.6685, -6.6589, -6.4387, -6.7369, -6.8172, -6.8173, -6.862, -7.0062, -7.0595, -7.1753, -7.1762, -7.2388, -7.2392, -7.1791, -7.3064, -7.3065, -7.3067, -7.3068, -7.2453, -6.6221, -7.3808, -6.6582, -7.4579, -7.458, -7.458, -7.4581, -7.4584, -7.4583, -7.4609, -7.5429, -6.5025, -5.4233, -5.249, -5.7669, -6.0319, -6.8292, -6.3351, -6.6247, -4.5725, -6.5092, -4.7938, -6.1898, -4.9835, -5.728, -5.7605, -5.7942, -4.8718, -5.3753, -4.5947, -5.8486, -4.2889, -5.5705, -4.9595, -4.8759, -5.4147, -4.1078, -4.9474, -4.4923, -5.1715, -5.414, -4.6918, -5.4596, -5.8252, -4.9325, -5.1084, -5.115, -5.0056, -5.0547, -5.1301, -5.1385, -4.8709, -5.2611, -5.2913, -4.9544, -5.2856, -5.3144, -5.2467, -5.3051, -5.3685, -4.0357, -4.8212, -5.3284, -5.4457, -5.8453, -5.9768, -6.2131, -6.2146, -6.3079, -6.3093, -6.0683, -6.4094, -6.5238, -6.6534, -6.5368, -6.8012, -6.8017, -6.804, -6.8063, -6.9752, -6.9753, -6.3669, -6.976, -6.9783, -6.979, -6.6934, -6.4727, -6.832, -7.1865, -7.1866, -6.0969, -6.5233, -5.7951, -5.0822, -6.433, -6.4317, -5.8611, -5.1883, -5.4872, -5.3163, -5.0958, -6.3469, -5.249, -6.0332, -5.5575, -4.4534, -5.6004, -4.7756, -5.57, -5.1725, -5.3647, -5.0003, -4.8881, -4.6496, -4.8926, -5.2156, -5.0764, -5.3284, -5.4426, -4.846, -5.0161, -5.1438, -5.0418, -5.2192, -5.159, -5.3141, -5.2559, -5.2729, -5.2958, -5.3193, -5.3524], \"loglift\": [30.0, 29.0, 28.0, 27.0, 26.0, 25.0, 24.0, 23.0, 22.0, 21.0, 20.0, 19.0, 18.0, 17.0, 16.0, 15.0, 14.0, 13.0, 12.0, 11.0, 10.0, 9.0, 8.0, 7.0, 6.0, 5.0, 4.0, 3.0, 2.0, 1.0, 1.0691, 1.0623, 1.0591, 1.0546, 1.0516, 1.0515, 1.0513, 1.0488, 1.04, 1.0367, 1.0367, 1.0361, 1.0325, 1.0311, 1.0311, 1.031, 1.031, 1.0308, 1.03, 1.0244, 1.0244, 1.0244, 1.0244, 1.0244, 1.0244, 1.0244, 1.0244, 1.0244, 1.0244, 1.0244, 1.0236, 0.9959, 1.0205, 1.0106, 0.9764, 0.9803, 0.9334, 0.9935, 0.8888, 0.9621, 0.9534, 0.7389, 0.957, 0.8091, 0.9636, 0.9521, 0.8837, 0.7276, 0.883, 0.5054, 0.5917, 0.5047, 0.5398, 0.7632, 0.5473, 0.2793, 0.7112, 0.7131, 0.5805, 0.4779, 0.42, 0.5147, 0.4136, 0.6621, 0.4437, 0.6662, 0.3064, 0.0965, 0.0527, 0.6273, 0.2487, 0.3063, 0.2007, 0.0334, 0.194, 0.3096, 0.1778, 0.3023, 0.2574, 0.0355, 0.203, -0.0263, -0.2658, 0.1122, 2.8222, 2.8204, 2.8161, 2.7966, 2.7962, 2.7698, 2.7287, 2.7215, 2.705, 2.7008, 2.6719, 2.6717, 2.6706, 2.6659, 2.6196, 2.6195, 2.619, 2.6185, 2.6185, 2.6183, 2.6179, 2.6179, 2.6179, 2.6172, 2.6153, 2.609, 2.6076, 2.5482, 2.5315, 2.5292, 2.3762, 2.1776, 2.4294, 1.9996, 2.216, 1.9633, 1.9016, 2.0331, 2.4489, 2.0341, 1.4221, 1.6954, 0.8998, 2.0892, 0.4964, 0.8136, 0.2737, 0.5251, 0.6561, 0.647, 0.2743, -0.0282, 0.1679, 0.3198, 0.1858, 0.3965, 0.3294, 0.0958, -0.2619, 0.1811, 0.551, 0.3346, -0.1749, 0.3092, 0.7004, 0.6951, 0.6916, 0.6914, 0.6912, 0.6911, 0.6891, 0.685, 0.6831, 0.6788, 0.678, 0.676, 0.6757, 0.6752, 0.6732, 0.6732, 0.6729, 0.6728, 0.6705, 0.6682, 0.668, 0.6663, 0.6653, 0.6652, 0.6652, 0.6652, 0.6649, 0.6649, 0.6627, 0.6607, 0.6589, 0.6419, 0.6127, 0.6164, 0.6091, 0.6422, 0.6216, 0.6321, 0.5441, 0.6241, 0.4913, 0.5889, 0.47, 0.5263, 0.5261, 0.5233, 0.4099, 0.4691, 0.3591, 0.5094, 0.2837, 0.4686, 0.3639, 0.3162, 0.4048, 0.1272, 0.3015, 0.1972, 0.3399, 0.3907, 0.1979, 0.3856, 0.476, 0.1973, 0.2373, 0.2168, 0.1727, 0.1743, 0.1898, 0.1937, 0.0454, 0.1923, 0.2159, -0.1696, 0.1123, 0.14, -0.0532, -0.5078, 0.0213, 2.0923, 2.0834, 2.0727, 2.0687, 2.0548, 2.0485, 2.0353, 2.0339, 2.0275, 2.0263, 2.0251, 2.0214, 2.0124, 2.0005, 1.9987, 1.9864, 1.9859, 1.9834, 1.9812, 1.9665, 1.9664, 1.9659, 1.9657, 1.9633, 1.9631, 1.9588, 1.9552, 1.9544, 1.9376, 1.9375, 1.929, 1.9196, 1.8378, 1.749, 1.8969, 1.8966, 1.8176, 1.7199, 1.7039, 1.6631, 1.461, 1.8292, 1.4108, 1.7037, 1.5041, 0.9202, 1.4406, 0.9585, 1.3835, 1.0467, 1.0829, 0.7217, 0.6001, 0.2667, 0.5195, 0.834, 0.6639, 0.9482, 1.0665, 0.2706, 0.3296, 0.4864, 0.2763, 0.4682, -0.2527, 0.36, -0.0021, 0.047, 0.0276, -0.0704, -0.1742]}, \"token.table\": {\"Topic\": [3, 1, 2, 3, 4, 4, 4, 1, 2, 3, 1, 2, 3, 4, 1, 2, 3, 4, 1, 2, 3, 4, 4, 2, 1, 2, 1, 3, 4, 4, 2, 2, 2, 3, 4, 3, 1, 2, 3, 4, 1, 2, 3, 2, 3, 4, 1, 2, 3, 4, 1, 2, 3, 4, 1, 2, 3, 1, 2, 3, 4, 2, 1, 1, 2, 3, 4, 1, 1, 2, 3, 4, 3, 1, 2, 3, 4, 2, 3, 4, 1, 1, 2, 3, 1, 2, 3, 3, 1, 3, 4, 1, 2, 3, 4, 1, 1, 2, 3, 4, 1, 2, 3, 4, 1, 3, 1, 2, 3, 4, 1, 1, 2, 3, 4, 1, 2, 3, 4, 1, 3, 4, 2, 3, 4, 1, 2, 3, 4, 1, 2, 3, 1, 3, 4, 3, 1, 2, 3, 4, 1, 2, 3, 4, 3, 4, 2, 3, 4, 1, 2, 3, 4, 3, 1, 3, 1, 4, 4, 2, 4, 3, 2, 3, 4, 2, 3, 1, 1, 1, 2, 4, 1, 2, 3, 4, 1, 1, 2, 3, 4, 1, 2, 3, 4, 3, 2, 1, 3, 1, 4, 1, 2, 3, 4, 1, 2, 3, 4, 1, 2, 3, 4, 1, 1, 2, 3, 4, 3, 3, 2, 2, 2, 3, 2, 1, 2, 3, 4, 1, 2, 3, 4, 2, 1, 2, 3, 4, 1, 2, 3, 4, 1, 2, 3, 4, 3, 3, 2, 2, 4, 1, 1, 1, 2, 4, 1, 2, 3, 4, 1, 3, 1, 2, 3, 4, 1, 1, 2, 3, 4, 1, 2, 3, 4, 3, 4, 2, 3, 4, 1, 2, 4, 1, 2, 3, 4, 1, 2, 3, 4, 1, 2, 3, 1, 2, 3, 4, 3, 4, 1, 2, 3, 4, 1, 1, 3, 4, 3, 4, 2, 1, 4, 4, 4, 4, 1, 2, 3, 4, 1, 2, 3, 4, 1, 2, 3, 4, 4, 2, 4, 1, 2, 3, 4, 1, 2, 3, 4, 2, 4, 4, 2, 4, 2, 1, 2, 3, 4, 2, 1, 1, 3, 4, 2, 2, 4, 1, 3, 4, 4, 3, 4, 1, 2, 3, 4, 1, 2, 1, 3, 2, 3, 3, 4, 1, 4, 1, 2, 3, 4, 2, 3, 4, 1, 2, 3, 4, 2, 3, 4, 1, 2, 1, 2, 3, 4, 1, 2, 3, 4, 1, 2, 3, 4, 2, 1, 2, 3, 4, 1, 3, 4, 1, 2, 3, 4, 1, 2, 3, 1, 2, 3, 4, 1, 2, 3, 4, 1, 4, 4, 1, 3, 4, 3, 1, 2, 3, 4, 2, 1, 2, 3, 4, 1, 3, 1, 3, 2, 1, 3, 4, 1, 3, 1, 2, 3, 4, 3, 1, 2, 3, 4, 2, 1, 2, 3, 4, 2, 1, 2, 3, 4, 1, 2, 3, 4, 3, 4, 1, 1, 2, 1, 2, 3, 4, 2, 3, 4, 1, 2, 2, 4, 1, 2, 3, 4, 2, 3, 4, 1, 3, 1, 2, 3, 4, 2, 3, 4, 4, 4, 3, 3, 4, 2, 3, 4, 1, 2, 3, 1, 3, 1, 2, 3, 4, 1, 4, 1, 3, 4, 3, 4, 3, 2, 2, 3, 3, 1, 3, 4, 1, 2, 3, 4, 1, 3, 4, 4, 1, 2, 3, 4, 1, 2, 3, 4, 1, 1, 1, 4, 3, 1, 2, 3, 4, 1, 2, 3, 4, 1, 1, 4, 3, 4, 1, 4, 1, 2, 3, 4, 3, 4, 1, 2, 3, 4, 2, 3, 4, 3], \"Freq\": [0.9631064308524493, 0.033735175485622854, 0.033735175485622854, 0.910849738111817, 0.8482617117269593, 0.9345795454266729, 0.9094485126891105, 0.04465382271330193, 0.40188440441971734, 0.5358458725596231, 0.025570943577131182, 0.10228377430852473, 0.8182701944681978, 0.051141887154262364, 0.34580319162857365, 0.028146771411628087, 0.5910821996441898, 0.03216773875614639, 0.0801412725868149, 0.06411301806945192, 0.7292855805400156, 0.12021190888022236, 0.9095053682762879, 0.7918047708425183, 0.9363116952814718, 0.9005049339192249, 0.029727366587980728, 0.9810030974033641, 0.8731513627318728, 0.9700501408917788, 0.8574928356085731, 0.9866051036495436, 0.9004875073465978, 0.09865768913048092, 0.7892615130438474, 0.9666770902434403, 0.5739289913222607, 0.021905686691689342, 0.332966437713678, 0.07447933475174376, 0.4569151753127283, 0.019306275013213872, 0.5212694253567745, 0.04997972735345312, 0.8996350923621562, 0.04997972735345312, 0.7495303772555508, 0.03306751664362724, 0.19840509986176344, 0.011022505547875747, 0.25658250280338535, 0.07470123499339067, 0.5099171258244494, 0.15914610933374534, 0.7232061184168374, 0.0672749877597058, 0.20182496327911742, 0.6513917342207588, 0.025544773891010147, 0.30653728669212177, 0.025544773891010147, 0.9004014880134322, 0.9274801085031777, 0.4058393817232207, 0.029695564516333223, 0.46028125000316494, 0.10888373655988848, 0.9733806677835765, 0.21062003144783814, 0.03276311600299704, 0.7301494423525056, 0.02340222571642646, 0.9628348277807853, 0.3312158259960593, 0.03680175844400659, 0.5415115885332399, 0.08411830501487222, 0.5856624519570401, 0.1952208173190134, 0.1952208173190134, 0.9638545211939514, 0.3523849837741819, 0.0023031698285894244, 0.6448875520050388, 0.3252287807663407, 0.008558652125430019, 0.6675748657835414, 0.9730277137416687, 0.029816469756332883, 0.8944940926899865, 0.05963293951266577, 0.2697688747459963, 0.05278086679812971, 0.6040476978008178, 0.07037448906417294, 0.9706330614521047, 0.5098273383626958, 0.06828044710214676, 0.3004339672494457, 0.12290480478386416, 0.5552840967839179, 0.025628496774642365, 0.41005594839427784, 0.008542832258214122, 0.6018915989377629, 0.3927597721882012, 0.7988180486164254, 0.08263634985687159, 0.02754544995229053, 0.08263634985687159, 0.9673961667717068, 0.344757289302669, 0.04428075275447125, 0.5914643403632945, 0.018977465466201965, 0.1766751758417439, 0.07067007033669756, 0.683144013254743, 0.07067007033669756, 0.1946107502667774, 0.7784430010671096, 0.02594810003557032, 0.013882923974375778, 0.9856876021806802, 0.013882923974375778, 0.3676334134998542, 0.015533806204219189, 0.5928736034610325, 0.023300709306328785, 0.4420447153828398, 0.004929866714306764, 0.5521450720023575, 0.8153912062475527, 0.08153912062475527, 0.08153912062475527, 0.9628103622517397, 0.5531073818591145, 0.09325647717392045, 0.25725924737633227, 0.09647221776612461, 0.45522949323484124, 0.023465437795610375, 0.4270709678801088, 0.0938617511824415, 0.9780630271720799, 0.9094827518443998, 0.4671830047284967, 0.4004425754815686, 0.1334808584938562, 0.22268142356009868, 0.13195936210968812, 0.6103120497573076, 0.04123730065927753, 0.9809653714237457, 0.8859856624475644, 0.10631827949370773, 0.9274801085031777, 0.9929405838554222, 0.9742744887833339, 0.3158709618605312, 0.6633290199071156, 0.977175224856732, 0.5032485835522782, 0.2368228628481309, 0.2664257207041473, 0.03488364860633173, 0.9418585123709567, 0.9559749456890383, 0.9363125775148461, 0.33301690083217417, 0.08325422520804354, 0.5550281680536236, 0.3107556995025748, 0.1195214228856057, 0.22709070348265084, 0.34661212636825656, 0.9274801085031777, 0.2188238615912323, 0.0632157822374671, 0.5883930500564246, 0.1264315644749342, 0.3464737921097397, 0.08315371010633753, 0.38805064716290844, 0.17323689605486986, 0.9730247598758086, 0.9002871028652283, 0.09111377019730832, 0.8929149479336216, 0.877265485001893, 0.10320770411786977, 0.11054444963584621, 0.07896032116846158, 0.7185389226330005, 0.08685635328530775, 0.05025709608826466, 0.033504730725509774, 0.4020567687061173, 0.5360756916081564, 0.15918022150945493, 0.03979505537736373, 0.6035583398900166, 0.19897527688681865, 0.9363505928683219, 0.2828426142096358, 0.42426392131445373, 0.1414213071048179, 0.1414213071048179, 0.9628115547353974, 0.9682679542680095, 0.7247305807757648, 0.9003693068415581, 0.5873085596618592, 0.19576951988728641, 0.8093719331003877, 0.30168785772052137, 0.08094064475428622, 0.30168785772052137, 0.31640433858493705, 0.32787614995913733, 0.04445778304530676, 0.5890656253503146, 0.03890056016464342, 0.9003501840146005, 0.2990758629027639, 0.13594357404671087, 0.054377429618684345, 0.5165855813775012, 0.42854052791578834, 0.04713945807073672, 0.4628237701490514, 0.06428107918736825, 0.43315416736895873, 0.0360961806140799, 0.5173785888018119, 0.01804809030703995, 0.9544714429178165, 0.9628091152646784, 0.9661689168084243, 0.6765217488884564, 0.3382608744442282, 0.9638894520022409, 0.9274801085031777, 0.0845883015200025, 0.0845883015200025, 0.7612947136800226, 0.6313737374805006, 0.012627474749610014, 0.3156868687402503, 0.05050989899844006, 0.849543177235976, 0.08942559760378695, 0.31988261763037423, 0.03444889728327107, 0.6053163379774774, 0.04429143936420567, 0.9498959735270461, 0.5979169983514727, 0.01684273234792881, 0.3452760131325406, 0.042106830869822025, 0.5236634074063405, 0.080563601139437, 0.17839083109446766, 0.22442717460271738, 0.20576684217777816, 0.7716256581666681, 0.03609557794440509, 0.9384850265545324, 0.9344597820876821, 0.21809496939049, 0.109047484695245, 0.65428490817147, 0.23958166751572385, 0.23958166751572385, 0.17569322284486416, 0.3513864456897283, 0.02637533442962336, 0.05275066885924672, 0.8176353673183242, 0.09231367050368176, 0.6486717632719808, 0.07050780035565009, 0.28203120142260035, 0.12324232263196086, 0.008216154842130724, 0.7805347100024188, 0.09859385810556869, 0.9544719496507651, 0.9628413078804813, 0.8165337678440789, 0.011500475603437732, 0.0690028536206264, 0.1035042804309396, 0.9436651755951841, 0.9510907912983634, 0.8373022978243381, 0.15873029342641481, 0.9506831149312703, 0.06133439451169486, 0.5944153745128187, 0.9437886604108331, 0.8927792381107277, 0.8930375125061945, 0.935458616744853, 0.9093828478094566, 0.4085401145192604, 0.008881306837375227, 0.5772849444293897, 0.004440653418687613, 0.024909768904670424, 0.024909768904670424, 0.4732856091887381, 0.4981953780934085, 0.7007257967398314, 0.00288364525407338, 0.2912481706614114, 0.00576729050814676, 0.909352286064659, 0.1104600919291893, 0.8836807354335144, 0.3160122966998253, 0.04213497289331004, 0.44241721537975537, 0.1966298735021135, 0.13679760010467001, 0.41039280031401004, 0.13679760010467001, 0.31919440024423, 0.9004014880134479, 0.9094871944647791, 0.9602055366894182, 0.7675506084541887, 0.16447513038304043, 0.8699728178197894, 0.8958456078088006, 0.022970400200225657, 0.022970400200225657, 0.045940800400451315, 0.966030638857823, 0.9363114656912974, 0.28568036207559805, 0.02380669683963317, 0.690394208349362, 0.7252193929279687, 0.5388465684329707, 0.4490388070274756, 0.8551090621012772, 0.03562954425421989, 0.10688863276265965, 0.9098089177217716, 0.09893652333225193, 0.8904287099902674, 0.504854684593704, 0.019417487868988614, 0.31553417787106497, 0.16019427491915605, 0.9247527826194262, 0.057797048913714136, 0.8559984584972692, 0.14007247502682588, 0.9003501835862239, 0.9611093850145936, 0.8784629085019512, 0.10457891767880372, 0.9274801085031777, 0.8731594901549156, 0.2870066050394767, 0.03376548294582079, 0.5782338954471811, 0.10129644883746237, 0.024758990381199122, 0.817046682579571, 0.14855394228719473, 0.5063483585291702, 0.07595225377937552, 0.11392838066906327, 0.3164677240807313, 0.47418278514262135, 0.3793462281140971, 0.09483655702852427, 0.9870677072220683, 0.7252374196715932, 0.5114844392724196, 0.10229688785448393, 0.22319320986432858, 0.16739490739824642, 0.6750559020198558, 0.08438198775248197, 0.042190993876240986, 0.19689130475579125, 0.09982458034772322, 0.029947374104316967, 0.7786317267122411, 0.09982458034772322, 0.9662045318249546, 0.3232882408649813, 0.0964192999070997, 0.45373788191576325, 0.13044964105078194, 0.22648689539752612, 0.6568119966528257, 0.11324344769876306, 0.1686032719673038, 0.05395304702953722, 0.6946454805052916, 0.08092957054430583, 0.6898588212697506, 0.03066039205643336, 0.2759435285079002, 0.5585076445345342, 0.0424183021165469, 0.39590415308777105, 0.9354788441330447, 0.3754961928451147, 0.05215224900626593, 0.49544636555952637, 0.0782283735093989, 0.9363151032172503, 0.9353104465870045, 0.9549019098853095, 0.08238802703012275, 0.8101489324628737, 0.09611936486847654, 0.9730201039392038, 0.18631757980296043, 0.10868525488506026, 0.6055321343596214, 0.09315878990148022, 0.9535775060489341, 0.45364983007865944, 0.07776854229919876, 0.44068840636212636, 0.025922847433066255, 0.9598102897619966, 0.9869831501090537, 0.9274801085031777, 0.9771608309616219, 0.7251450311272464, 0.3988025170673115, 0.5908185438034245, 0.009846975730057075, 0.8700558591237423, 0.11864398078960121, 0.3845156211899428, 0.11215038951373332, 0.31241894221682853, 0.1922578105949714, 0.9810006568485634, 0.17464959302379654, 0.03492991860475931, 0.6187585581414505, 0.16965960465168806, 0.8993875409825696, 0.18089041590496793, 0.016444583264087993, 0.7153393719878277, 0.09044520795248397, 0.80898071739724, 0.579458366490457, 0.04225217255659582, 0.27765713394334396, 0.10261241906601842, 0.465276510445862, 0.07996940023288253, 0.20355847332006463, 0.2544480916500808, 0.10881627700608267, 0.8705302160486613, 0.9274801085031777, 0.9363122253802443, 0.9004089196935819, 0.4294179361166901, 0.1406713928658123, 0.1924976955005852, 0.2369202406161049, 0.07279637364510046, 0.07279637364510046, 0.8735564837412054, 0.9280371704433747, 0.05459042179078675, 0.8385829113126742, 0.07623481011933401, 0.033440525078427895, 0.016720262539213947, 0.8945340458479463, 0.05852091888724882, 0.6796146105336099, 0.16990365263340249, 0.16990365263340249, 0.9274801085031777, 0.9629265995662633, 0.2612812422309405, 0.07465178349455444, 0.45857524146654866, 0.20795853973483022, 0.05570941819698981, 0.4271055395102552, 0.5013847637729083, 0.9354183111608084, 0.9725569282512097, 0.9896107306904552, 0.33232684646450367, 0.6390900893548147, 0.02204268080970164, 0.26451216971641967, 0.7053657859104525, 0.8538470453496588, 0.09487189392773987, 0.047435946963869935, 0.9621121241862859, 0.03207040413954286, 0.20175986605964444, 0.040351973211928883, 0.4741356852401644, 0.2824638124835022, 0.9274801085031777, 0.9457381223933606, 0.4116765273972128, 0.5618828279340337, 0.027815981580892754, 0.19654259432988522, 0.7861703773195409, 0.9564346639069644, 0.8999938328069372, 0.9004534780006636, 0.9808196968283706, 0.9628165142105365, 0.6831498306905165, 0.27883666558796594, 0.041825499838194884, 0.14640471043914255, 0.02928094208782851, 0.6978624530932461, 0.1268840823805902, 0.04225536919788649, 0.9014478762215785, 0.05634049226384866, 0.8730583087536864, 0.1445078164238966, 0.02778996469690319, 0.7781190115132893, 0.05557992939380638, 0.285366365064488, 0.1351735413463364, 0.2102699532054122, 0.36046277692356377, 0.9274801085031777, 0.9274801085031777, 0.09849687327731652, 0.7879749862185321, 0.9730201573909945, 0.5363725414803077, 0.038707296807857255, 0.30412876063316413, 0.12165150425326565, 0.020492260903028442, 0.020492260903028442, 0.9221517406362799, 0.030738391354542666, 0.9436616092539787, 0.9471517308639826, 0.04118051003756446, 0.9198530331793601, 0.04181150150815273, 0.8855743655811653, 0.09839715173124058, 0.45157244752092357, 0.06670956611104553, 0.16933966782034635, 0.30789030512790244, 0.1361694622414792, 0.8170167734488752, 0.1831566018715314, 0.004696323124911062, 0.7936786081099694, 0.018785292499644248, 0.42162175752231124, 0.5153154814161581, 0.04684686194692347, 0.9508458205164291], \"Term\": [\"11\", \"19\", \"19\", \"19\", \"1983\", \"1993\", \"1995\", \"2010\", \"2010\", \"2010\", \"2013\", \"2013\", \"2013\", \"2013\", \"2014\", \"2014\", \"2014\", \"2014\", \"2017\", \"2017\", \"2017\", \"2017\", \"2020\", \"addis\", \"adskille\", \"adskillig\", \"afh\\u00f8re\", \"afh\\u00f8re\", \"afklare\", \"aftjene\", \"algerium\", \"alshabaab\", \"ambassade\", \"amhari\", \"amhari\", \"angiv\", \"angiveligt\", \"angiveligt\", \"angiveligt\", \"angiveligt\", \"anholde\", \"anholde\", \"anholde\", \"anledning\", \"anledning\", \"anledning\", \"ans\\u00f8g\", \"ans\\u00f8g\", \"ans\\u00f8g\", \"ans\\u00f8g\", \"ans\\u00f8gere\", \"ans\\u00f8gere\", \"ans\\u00f8gere\", \"ans\\u00f8gere\", \"ans\\u00f8gerne\", \"ans\\u00f8gerne\", \"ans\\u00f8gerne\", \"asylsamtal\", \"asylsamtal\", \"asylsamtal\", \"asylsamtal\", \"asylum\", \"avlingstid\", \"baggrund\", \"baggrund\", \"baggrund\", \"baggrund\", \"bar\", \"barn\", \"barn\", \"barn\", \"barn\", \"belaste\", \"bem\\u00e6rke\", \"bem\\u00e6rke\", \"bem\\u00e6rke\", \"bem\\u00e6rke\", \"beskylde\", \"beskylde\", \"beskylde\", \"betjent\", \"bidoon\", \"bidoon\", \"bidoon\", \"bidooner\", \"bidooner\", \"bidooner\", \"bidune\", \"billede\", \"billede\", \"billede\", \"blive\", \"blive\", \"blive\", \"blive\", \"blok\", \"bo\", \"bo\", \"bo\", \"bo\", \"bop\\u00e6l\", \"bop\\u00e6l\", \"bop\\u00e6l\", \"bop\\u00e6l\", \"bror\", \"bror\", \"ca\", \"ca\", \"ca\", \"ca\", \"comr\\u00e5d\", \"dag\", \"dag\", \"dag\", \"dag\", \"danmark\", \"danmark\", \"danmark\", \"danmark\", \"dansk\", \"dansk\", \"dansk\", \"dato\", \"dato\", \"dato\", \"deltage\", \"deltage\", \"deltage\", \"deltage\", \"demonstration\", \"demonstration\", \"demonstration\", \"derudover\", \"derudover\", \"derudover\", \"diskrimination\", \"divergere\", \"divergere\", \"divergere\", \"divergere\", \"dokument\", \"dokument\", \"dokument\", \"dokument\", \"dreng\", \"d\\u00e5bsattest\", \"d\\u00f8r\", \"d\\u00f8r\", \"d\\u00f8r\", \"efter\\u00e5r\", \"efter\\u00e5r\", \"efter\\u00e5r\", \"efter\\u00e5r\", \"eksempel\", \"enkelt\", \"enkelt\", \"enkeltvis\", \"eritrea\", \"eritreisk\", \"etiopien\", \"etiopien\", \"facebookprofil\", \"fader\", \"fader\", \"fader\", \"fald\", \"fald\", \"familiemedlemm\", \"filmoptagelse\", \"flertal\", \"flertal\", \"flertal\", \"flygte\", \"flygte\", \"flygte\", \"flygte\", \"folke\", \"forbindelse\", \"forbindelse\", \"forbindelse\", \"forbindelse\", \"forf\\u00f8lgelse\", \"forf\\u00f8lgelse\", \"forf\\u00f8lgelse\", \"forf\\u00f8lgelse\", \"fornavn\", \"forn\\u00f8den\", \"forskelligt\", \"forskelligt\", \"fort\\u00e6lle\", \"fort\\u00e6lle\", \"for\\u00e5r\", \"for\\u00e5r\", \"for\\u00e5r\", \"for\\u00e5r\", \"for\\u00e6lder\", \"for\\u00e6lder\", \"for\\u00e6lder\", \"for\\u00e6lder\", \"fremg\\u00e5\", \"fremg\\u00e5\", \"fremg\\u00e5\", \"fremg\\u00e5\", \"fremh\\u00e6ve\", \"fremkomme\", \"fremkomme\", \"fremkomme\", \"fremkomme\", \"fremm\\u00f8de\", \"fremtid\", \"frieri\", \"front\", \"f\\u00e6ter\", \"f\\u00e6ter\", \"f\\u00e6tre\", \"f\\u00f8de\", \"f\\u00f8de\", \"f\\u00f8de\", \"f\\u00f8de\", \"f\\u00f8re\", \"f\\u00f8re\", \"f\\u00f8re\", \"f\\u00f8re\", \"gaddafi\", \"gammel\", \"gammel\", \"gammel\", \"gammel\", \"gang\", \"gang\", \"gang\", \"gang\", \"generel\", \"generel\", \"generel\", \"generel\", \"generelt\", \"genindrejse\", \"ghana\", \"gifte\", \"gifte\", \"golf\", \"graviditet\", \"gruppe\", \"gruppe\", \"gruppe\", \"hel\", \"hel\", \"hel\", \"hel\", \"henvende\", \"henvende\", \"herunder\", \"herunder\", \"herunder\", \"herunder\", \"hidtidig\", \"hjem\", \"hjem\", \"hjem\", \"hjem\", \"hjemland\", \"hjemland\", \"hjemland\", \"hjemland\", \"hjemvise\", \"hjemvise\", \"hver\", \"hver\", \"h\\u00e6ndelse\", \"idkort\", \"idkort\", \"idkort\", \"ihjel\", \"ihjel\", \"ihjel\", \"ihjel\", \"imidlertid\", \"imidlertid\", \"imidlertid\", \"imidlertid\", \"indbyrdes\", \"indbyrdes\", \"indbyrdes\", \"irak\", \"irak\", \"irak\", \"irak\", \"iraker\", \"isil\", \"kendskab\", \"kendskab\", \"kendskab\", \"kendskab\", \"kigge\", \"kilometer\", \"klager\", \"klager\", \"klagere\", \"klagere\", \"klan\", \"knap\", \"kniv\", \"krig\", \"krist\", \"kurder\", \"kuwaitisk\", \"kuwaitisk\", \"kuwaitisk\", \"kuwaitisk\", \"kvinde\", \"kvinde\", \"kvinde\", \"kvinde\", \"kvindelig\", \"kvindelig\", \"kvindelig\", \"kvindelig\", \"kv\\u00e6g\", \"k\\u00e6mpe\", \"k\\u00e6mpe\", \"land\", \"land\", \"land\", \"land\", \"landsby\", \"landsby\", \"landsby\", \"landsby\", \"lgbt\", \"libanesisk\", \"libanon\", \"libyen\", \"libyen\", \"libysk\", \"ligge\", \"ligge\", \"ligge\", \"ligge\", \"liyu\", \"lytte\", \"mand\", \"mand\", \"mand\", \"marokkansk\", \"marokko\", \"marokko\", \"medf\\u00f8re\", \"medf\\u00f8re\", \"medf\\u00f8re\", \"militse\", \"milit\\u00e6rtjeneste\", \"milit\\u00e6rtjeneste\", \"mor\", \"mor\", \"mor\", \"mor\", \"morbror\", \"morbror\", \"motivsamta\", \"motivsamta\", \"muammar\", \"myanmar\", \"m\\u00e5tte\", \"m\\u00e5tte\", \"m\\u00e6ndene\", \"nationaltjeneste\", \"navn\", \"navn\", \"navn\", \"navn\", \"n\\u00e6rmere\", \"n\\u00e6rmere\", \"n\\u00e6rmere\", \"n\\u00e6vnsm\\u00f8de\", \"n\\u00e6vnsm\\u00f8de\", \"n\\u00e6vnsm\\u00f8de\", \"n\\u00e6vnsm\\u00f8de\", \"n\\u00e6vnsm\\u00f8det\", \"n\\u00e6vnsm\\u00f8det\", \"n\\u00e6vnsm\\u00f8det\", \"officer\", \"ogaden\", \"omfattee\", \"omfattee\", \"omfattee\", \"omfattee\", \"omr\\u00e5de\", \"omr\\u00e5de\", \"omr\\u00e5de\", \"omr\\u00e5de\", \"omst\\u00e6ndighed\", \"omst\\u00e6ndighed\", \"omst\\u00e6ndighed\", \"omst\\u00e6ndighed\", \"onlf\", \"opholde\", \"opholde\", \"opholde\", \"opholde\", \"opholdstilladelse\", \"opholdstilladelse\", \"opholdstilladelse\", \"oplysning\", \"oplysning\", \"oplysning\", \"oplysning\", \"oplysnings\", \"oplysnings\", \"oplysnings\", \"ops\\u00f8gt\", \"ops\\u00f8gt\", \"ops\\u00f8gt\", \"ortodoks\", \"overgreb\", \"overgreb\", \"overgreb\", \"overgreb\", \"overs\\u00e6ttelse\", \"pal\\u00e6stinenser\", \"parti\", \"pas\", \"pas\", \"pas\", \"pege\", \"person\", \"person\", \"person\", \"person\", \"police\", \"politi\", \"politi\", \"politi\", \"politi\", \"politifolk\", \"profil\", \"p\\u00e5kl\\u00e6dning\", \"referat\", \"repr\\u00e6sentant\", \"rettighed\", \"rettighed\", \"rettighed\", \"ringe\", \"ringe\", \"risiko\", \"risiko\", \"risiko\", \"risiko\", \"rohingya\", \"sag\", \"sag\", \"sag\", \"sag\", \"samleje\", \"samtale\", \"samtale\", \"samtale\", \"samtale\", \"samv\\u00e6r\", \"sandsynliggjore\", \"sandsynliggjore\", \"sandsynliggjore\", \"sandsynliggjore\", \"sandsynligg\\u00f8re\", \"sandsynligg\\u00f8re\", \"sandsynligg\\u00f8re\", \"sandsynligg\\u00f8re\", \"sandsynlighed\", \"sandsynlighed\", \"seddel\", \"skjulested\", \"sk\\u00f8d\", \"sl\\u00e5\", \"sl\\u00e5\", \"sl\\u00e5\", \"sl\\u00e5\", \"soldat\", \"soldat\", \"soldat\", \"solgte\", \"solgte\", \"somalia\", \"somalia\", \"sommer\", \"sommer\", \"sommer\", \"sommer\", \"spanien\", \"spanien\", \"spanien\", \"sparsomt\", \"spise\", \"statsborger\", \"statsborger\", \"statsborger\", \"statsborger\", \"statsborgerskab\", \"statsborgerskab\", \"statsborgerskab\", \"styrke\", \"sudan\", \"svig\", \"syrien\", \"syrien\", \"syrisk\", \"syrisk\", \"syrisk\", \"s\\u00f8nn\", \"s\\u00f8nn\", \"s\\u00f8nn\", \"taima\", \"taima\", \"tale\", \"tale\", \"tale\", \"tale\", \"tidligt\", \"tigrinya\", \"tilbageholde\", \"tilbageholde\", \"tilbageholde\", \"tilbagevende\", \"tilbagevende\", \"tilstr\\u00e6kkeligt\", \"trusselsbrev\", \"tvangshverv\", \"tvivl\", \"uddannelse\", \"udl\\u00e6nding\", \"udl\\u00e6nding\", \"udl\\u00e6nding\", \"udl\\u00e6ndingestyrelse\", \"udl\\u00e6ndingestyrelse\", \"udl\\u00e6ndingestyrelse\", \"udl\\u00e6ndingestyrelse\", \"udrejst\", \"udrejst\", \"udrejst\", \"udsende\", \"uds\\u00e6tte\", \"uds\\u00e6tte\", \"uds\\u00e6tte\", \"uds\\u00e6tte\", \"ukendt\", \"ukendt\", \"ukendt\", \"ukendt\", \"underrette\", \"undslap\", \"ung\", \"ung\", \"vanskelig\", \"videre\", \"videre\", \"videre\", \"videre\", \"vinter\", \"vinter\", \"vinter\", \"vinter\", \"vriste\", \"v\\u00e5ben\", \"v\\u00e5ben\", \"yderlig\", \"yderlig\", \"yderst\", \"yderst\", \"\\u00e5r\", \"\\u00e5r\", \"\\u00e5r\", \"\\u00e5r\", \"\\u00e6gte\", \"\\u00e6gte\", \"\\u00e6gtef\\u00e6lle\", \"\\u00e6gtef\\u00e6lle\", \"\\u00e6gtef\\u00e6lle\", \"\\u00e6gtef\\u00e6lle\", \"\\u00f8strig\", \"\\u00f8strig\", \"\\u00f8strig\", \"\\u00f8vrig\"]}, \"R\": 30, \"lambda.step\": 0.01, \"plot.opts\": {\"xlab\": \"PC1\", \"ylab\": \"PC2\"}, \"topic.order\": [1, 2, 3, 4]};\n",
       "\n",
       "function LDAvis_load_lib(url, callback){\n",
       "  var s = document.createElement('script');\n",
       "  s.src = url;\n",
       "  s.async = true;\n",
       "  s.onreadystatechange = s.onload = callback;\n",
       "  s.onerror = function(){console.warn(\"failed to load library \" + url);};\n",
       "  document.getElementsByTagName(\"head\")[0].appendChild(s);\n",
       "}\n",
       "\n",
       "if(typeof(LDAvis) !== \"undefined\"){\n",
       "   // already loaded: just create the visualization\n",
       "   !function(LDAvis){\n",
       "       new LDAvis(\"#\" + \"ldavis_el835254948758562541328296\", ldavis_el835254948758562541328296_data);\n",
       "   }(LDAvis);\n",
       "}else if(typeof define === \"function\" && define.amd){\n",
       "   // require.js is available: use it to load d3/LDAvis\n",
       "   require.config({paths: {d3: \"https://d3js.org/d3.v5\"}});\n",
       "   require([\"d3\"], function(d3){\n",
       "      window.d3 = d3;\n",
       "      LDAvis_load_lib(\"https://cdn.jsdelivr.net/gh/bmabey/pyLDAvis@3.3.1/pyLDAvis/js/ldavis.v3.0.0.js\", function(){\n",
       "        new LDAvis(\"#\" + \"ldavis_el835254948758562541328296\", ldavis_el835254948758562541328296_data);\n",
       "      });\n",
       "    });\n",
       "}else{\n",
       "    // require.js not available: dynamically load d3 & LDAvis\n",
       "    LDAvis_load_lib(\"https://d3js.org/d3.v5.js\", function(){\n",
       "         LDAvis_load_lib(\"https://cdn.jsdelivr.net/gh/bmabey/pyLDAvis@3.3.1/pyLDAvis/js/ldavis.v3.0.0.js\", function(){\n",
       "                 new LDAvis(\"#\" + \"ldavis_el835254948758562541328296\", ldavis_el835254948758562541328296_data);\n",
       "            })\n",
       "         });\n",
       "}\n",
       "</script>"
      ],
      "text/plain": [
       "<IPython.core.display.HTML object>"
      ]
     },
     "execution_count": 39,
     "metadata": {},
     "output_type": "execute_result"
    }
   ],
   "source": [
    "warnings.filterwarnings(\"ignore\", category=FutureWarning)\n",
    "warnings.filterwarnings(\"ignore\", category=DeprecationWarning)\n",
    "\n",
    "LDA_display = pyLDAvis.sklearn.prepare(LDA_model, count_text_vectors, count_text_vectorizer, sort_topics=False)\n",
    "\n",
    "pyLDAvis.display(LDA_display)"
   ]
  },
  {
   "cell_type": "markdown",
   "metadata": {},
   "source": [
    "Each bubble in the plot represents a topic. The size of the bubble represents the proportion of cases that contain the topic, with a larger bubble corresponding to a higher proportion. \n",
    "\n",
    "The distance between the bubbles represents the similarity between the topics; the shorter the distance, the more similar the topics.\n",
    "\n",
    "The bars in the bar chart represent the term frequency for each of the words. The blue bars show the overall term frequency in the collection of documents, whereas the red bars show the term frequency for the selected topic."
   ]
  },
  {
   "cell_type": "markdown",
   "metadata": {},
   "source": [
    "## NMF:"
   ]
  },
  {
   "cell_type": "code",
   "execution_count": 40,
   "metadata": {},
   "outputs": [
    {
     "name": "stdout",
     "output_type": "stream",
     "text": [
      "The coherence score for NMF (0.78) is highest with 9 topics.\n"
     ]
    }
   ],
   "source": [
    "warnings.filterwarnings(\"ignore\", category=FutureWarning)\n",
    "\n",
    "best_num_NMF = float('NaN')\n",
    "best_score_NMF = 0\n",
    "\n",
    "# Compute the coherence scores for each number of topics\n",
    "for i in range(2, 11):\n",
    "\n",
    "    # Create NMF model with i topics\n",
    "    NMF_text_model = NMF(n_components=i, random_state=42, max_iter=2000)\n",
    "    W_NMF_text_matrix = NMF_text_model.fit_transform(count_text_vectors)\n",
    "    H_NMF_text_matrix = NMF_text_model.components_\n",
    "\n",
    "    # Obtain the coherence score\n",
    "    coherence_model_NMF = metric_coherence_gensim(measure='c_v', \n",
    "                        top_n=25, \n",
    "                        topic_word_distrib=H_NMF_text_matrix, \n",
    "                        dtm=W_NMF_text_matrix, \n",
    "                        vocab=np.array([x for x in count_text_vectorizer.vocabulary_.keys()]), \n",
    "                        texts=df['tokens'])\n",
    "    coherence_score_NMF = np.around(coherence_model_NMF, 2)\n",
    "    for score in coherence_score_NMF:\n",
    "        if score > best_score_NMF:\n",
    "            best_num_NMF = i\n",
    "            best_score_NMF = score\n",
    "\n",
    "print(f'The coherence score for NMF ({best_score_NMF}) is highest with {best_num_NMF} topics.')"
   ]
  },
  {
   "cell_type": "markdown",
   "metadata": {},
   "source": [
    "Build the model with the best number of topics and see them:"
   ]
  },
  {
   "cell_type": "code",
   "execution_count": 41,
   "metadata": {},
   "outputs": [],
   "source": [
    "NMF_text_model = NMF(n_components=best_num_NMF, random_state=42, max_iter=2000)\n",
    "W_NMF_model_matrix = NMF_text_model.fit_transform(count_text_vectors)\n",
    "H_NMF_model_matrix = NMF_text_model.components_"
   ]
  },
  {
   "cell_type": "code",
   "execution_count": 42,
   "metadata": {},
   "outputs": [
    {
     "name": "stdout",
     "output_type": "stream",
     "text": [
      "\n",
      "Topic 00\n",
      " demonstration (6.65)\n",
      " deltage (4.32)\n",
      " 2014 (2.18)\n",
      " bidoon (1.93)\n",
      " dag (1.63)\n",
      "\n",
      "Topic 01\n",
      " klager (10.95)\n",
      " opholdstilladelse (2.38)\n",
      " klagere (1.31)\n",
      " pas (1.22)\n",
      " syrisk (1.19)\n",
      "\n",
      "Topic 02\n",
      " bopæl (2.84)\n",
      " dag (2.83)\n",
      " gang (2.51)\n",
      " tage (2.09)\n",
      " ægtefæll (1.82)\n",
      "\n",
      "Topic 03\n",
      " kvindelig (2.55)\n",
      " videre (1.82)\n",
      " demonstration (1.73)\n",
      " oplysnings (1.65)\n",
      " angiveligt (1.53)\n",
      "\n",
      "Topic 04\n",
      " ægtefælle (2.50)\n",
      " bidoon (2.12)\n",
      " ansøgere (1.90)\n",
      " navn (1.53)\n",
      " nærmere (1.53)\n",
      "\n",
      "Topic 05\n",
      " eritrea (5.59)\n",
      " sudan (2.72)\n",
      " år (2.27)\n",
      " eritreisk (1.48)\n",
      " etiopien (1.32)\n",
      "\n",
      "Topic 06\n",
      " barn (2.32)\n",
      " oplysning (1.65)\n",
      " bidooner (1.58)\n",
      " demonstration (1.54)\n",
      " sag (1.30)\n",
      "\n",
      "Topic 07\n",
      " kvindelig (4.76)\n",
      " dag (1.70)\n",
      " asylsamtale (1.37)\n",
      " ansøg (1.33)\n",
      " bidooner (1.18)\n",
      "\n",
      "Topic 08\n",
      " bror (3.20)\n",
      " divergere (2.23)\n",
      " opholdstilladelse (1.11)\n",
      " ansøgere (1.05)\n",
      " sandsynliggjore (0.96)\n"
     ]
    }
   ],
   "source": [
    "display_topics(NMF_text_model, count_text_vectorizer.get_feature_names_out())"
   ]
  },
  {
   "cell_type": "markdown",
   "metadata": {},
   "source": [
    "Visualise the topics produced by NMF:"
   ]
  },
  {
   "cell_type": "code",
   "execution_count": 43,
   "metadata": {},
   "outputs": [
    {
     "name": "stderr",
     "output_type": "stream",
     "text": [
      "/Users/jnap/opt/anaconda3/lib/python3.9/site-packages/pandas/core/internals/blocks.py:402: RuntimeWarning: divide by zero encountered in log\n",
      "  result = func(self.values, **kwargs)\n",
      "/Users/jnap/opt/anaconda3/lib/python3.9/site-packages/pandas/core/internals/blocks.py:402: RuntimeWarning: divide by zero encountered in log\n",
      "  result = func(self.values, **kwargs)\n"
     ]
    },
    {
     "data": {
      "text/html": [
       "\n",
       "<link rel=\"stylesheet\" type=\"text/css\" href=\"https://cdn.jsdelivr.net/gh/bmabey/pyLDAvis@3.3.1/pyLDAvis/js/ldavis.v1.0.0.css\">\n",
       "\n",
       "\n",
       "<div id=\"ldavis_el835254942264965398206860\"></div>\n",
       "<script type=\"text/javascript\">\n",
       "\n",
       "var ldavis_el835254942264965398206860_data = {\"mdsDat\": {\"x\": [0.05372167858419881, -0.25705242785732213, 0.13157631834277658, 0.16314921662741882, -0.10361624153155402, -0.10699532320039686, 0.014052230229477458, 0.11380770185620435, -0.008643153050803137], \"y\": [-0.058895612093365635, -0.014592633804687507, 0.20791124725569277, -0.150777340201147, 0.008378459433337322, 0.07110324842679921, -0.18469965937794325, 0.07168571632927373, 0.04988657403204069], \"topics\": [1, 2, 3, 4, 5, 6, 7, 8, 9], \"cluster\": [1, 1, 1, 1, 1, 1, 1, 1, 1], \"Freq\": [14.654237781769094, 6.198839163515688, 10.862902748538431, 8.903552210367588, 14.105338715938665, 7.179575812614574, 10.581213312929568, 11.072778867062953, 16.441561387263437]}, \"tinfo\": {\"Term\": [\"klager\", \"demonstration\", \"kvindelig\", \"eritrea\", \"bror\", \"dag\", \"deltage\", \"sudan\", \"bop\\u00e6l\", \"\\u00e6gtef\\u00e6lle\", \"2014\", \"ans\\u00f8gere\", \"opholdstilladelse\", \"barn\", \"\\u00e5r\", \"\\u00e6gtef\\u00e6ll\", \"gang\", \"oplysnings\", \"tage\", \"n\\u00e6rmere\", \"sommer\", \"asylsamtale\", \"dato\", \"bidoon\", \"ans\\u00f8g\", \"hjem\", \"politi\", \"videre\", \"eritreisk\", \"bidooner\", \"femte\", \"fredeligt\", \"omhandle\", \"opl\\u00f8sning\", \"sikkerhedsfolk\", \"sundhedshj\\u00e6lp\", \"omvendt\", \"r\\u00e5be\", \"sk\\u00e6ldsord\", \"station\", \"angribe\", \"informere\", \"emir\", \"deltager\", \"bydel\", \"opl\\u00f8se\", \"ansvarlig\", \"asylskema\", \"blot\", \"gummikugle\", \"konstant\", \"h\\u00e6nge\", \"bidooners\", \"bed\\u00f8mmels\", \"forl\\u00f8b\", \"tolkning\", \"f\\u00e6ngs\", \"undvigende\", \"interesse\", \"jahraprovinse\", \"taima\", \"demonstrant\", \"deltage\", \"underskrive\", \"demonstration\", \"artikel\", \"forsamling\", \"abdullah\", \"akhbar\", \"2014\", \"2011\", \"atallah\", \"erkl\\u00e6ring\", \"demonstratione\", \"tilbageholde\", \"henvendelse\", \"ligne\", \"rettighed\", \"bidoone\", \"farbror\", \"afh\\u00f8re\", \"v\\u00e6sentlig\", \"f\\u00e6ngsel\", \"dag\", \"uds\\u00e6tte\", \"l\\u00f8slade\", \"bidoon\", \"begyndelse\", \"vinter\", \"anholde\", \"politi\", \"l\\u00f8sladelse\", \"m\\u00e5ned\", \"angivelig\", \"oplysning\", \"kuwaitisk\", \"forbindelse\", \"irak\", \"person\", \"opholde\", \"2016\", \"overgreb\", \"2018\", \"udl\\u00e6ndingestyrelse\", \"generel\", \"\\u00e5r\", \"bop\\u00e6l\", \"baggrund\", \"klager\", \"nr\", \"forl\\u00e6ngelse\", \"klagere\", \"udsende\", \"uretm\\u00e6ssigt\", \"n\\u00e6gtelse\", \"svig\", \"alshabaab\", \"31\", \"belaste\", \"libanesisk\", \"bevidst\", \"forfalske\", \"kontrol\", \"19\", \"udsendelse\", \"helbredsm\\u00e6ssig\", \"26\", \"nationalitetspas\", \"kurder\", \"unhcr\", \"libanon\", \"forl\\u00e6nge\", \"brand\", \"pr\\u00f8ve\", \"tilg\\u00e6ngelig\", \"arbejdsmarked\", \"tvangshverv\", \"opn\\u00e5else\", \"identitetsdokument\", \"jordan\", \"\\u00e6gte\", \"milit\\u00e6rtjeneste\", \"urigtig\", \"tilknytning\", \"syrisk\", \"sandsynlighed\", \"11\", \"syrien\", \"pas\", \"opholdstilladelse\", \"passe\", \"opn\\u00e5\", \"n\\u00e6gte\", \"2018\", \"s\\u00e6rligt\", \"udl\\u00e6ndingestyrelse\", \"2019\", \"udl\\u00e6ndingelove\", \"danmark\", \"fremg\\u00e5\", \"efter\\u00e5r\", \"sommer\", \"samtale\", \"for\\u00e5r\", \"person\", \"oplysning\", \"videre\", \"statsborger\", \"herunder\", \"vinter\", \"\\u00e6gtef\\u00e6lle\", \"adskilt\", \"aljahraomr\\u00e5de\", \"arbejdsplads\", \"befandt\", \"diskussion\", \"dreng\", \"episode\", \"f\\u00e5r\", \"hjem201884linb\", \"hjemrejse\", \"hyrevogn\", \"kuwaitiske\", \"k\\u00f8b\", \"markedsplads\", \"markedspladsen\", \"mave\", \"minut\", \"n\\u00e6stf\\u00f8lgende\", \"prins\", \"p\\u00e5f\\u00f8re\", \"ramme\", \"resultere\", \"returnere\", \"stange\", \"svigerfar\", \"s\\u00f8ske\", \"\\u00f8jeblikkeligt\", \"\\u00f8jenskade\", \"bringe\", \"fortalt\", \"rum\", \"voldt\\u00e6gt\", \"beliggende\", \"\\u00e6gtef\\u00e6ll\", \"episod\", \"\\u00e5bne\", \"k\\u00f8re\", \"tage\", \"retning\", \"salg\", \"gang\", \"hjem\", \"dag\", \"ops\\u00f8ge\", \"bop\\u00e6l\", \"politi\", \"f\\u00f8rste\", \"m\\u00f8de\", \"sted\", \"oplysnings\", \"usikr\", \"ans\\u00f8gere\", \"morbror\", \"asylsamtale\", \"hertil\", \"arbejdsgiver\", \"ang\\u00e5\", \"derimod\", \"vende\", \"kuwaitisk\", \"ops\\u00f8gt\", \"mor\", \"\\u00e6gtef\\u00e6lle\", \"vidt\", \"arbejde\", \"mand\", \"vinter\", \"hus\", \"m\\u00e5ned\", \"anholde\", \"bem\\u00e6rke\", \"blive\", \"overgreb\", \"opholde\", \"oplysning\", \"adskille\", \"avlingstid\", \"bar\", \"d\\u00f8ter\", \"efterstr\\u00e6be\", \"enkeltvis\", \"fasts\\u00e6tte\", \"filmoptagelse\", \"folke\", \"graviditet\", \"hjem201910sme\", \"hjem201912sme\", \"hjem20199sme\", \"humanit\\u00e6r\", \"lytte\", \"m\\u00e6ndene\", \"p\\u00e5kl\\u00e6dning\", \"respektere\", \"sammenst\\u00f8d\", \"seddel\", \"skjulested\", \"sparsomt\", \"tidligt\", \"udrejsefrist\", \"underrette\", \"undslap\", \"u\\u00f8nsket\", \"vriste\", \"yng\", \"overs\\u00e6ttelse\", \"identificere\", \"kigge\", \"comr\\u00e5d\", \"v\\u00e5ben\", \"medf\\u00f8re\", \"knap\", \"kilometer\", \"yderst\", \"fremskaffe\", \"gades\\u00e6lge\", \"enkelt\", \"resultat\", \"motivsamta\", \"oplysnings\", \"sandsynliggjort\", \"videre\", \"lokalomr\\u00e5d\", \"kvindelig\", \"n\\u00e6vn\", \"ransage\", \"s\\u00f8nn\", \"asylsamtal\", \"hjemland\", \"angiveligt\", \"fremlagt\", \"falsk\", \"es\", \"ransagning\", \"dokument\", \"s\\u00f8ster\", \"bop\\u00e6l\", \"demonstration\", \"bo\", \"divergense\", \"2014\", \"baggrund\", \"\\u00e5r\", \"n\\u00e6vnsm\\u00f8de\", \"demonstratione\", \"hel\", \"navn\", \"mor\", \"f\\u00f8de\", \"ans\\u00f8gerne\", \"risiko\", \"omfattee\", \"gruppering\", \"muslimsk\", \"forfulgt\", \"najaf\", \"norsk\", \"statsl\\u00f8se\", \"tilbyde\", \"tiltale\", \"tr\\u00e6ne\", \"islamisk\", \"forg\\u00e6ves\", \"mods\\u00e6tning\", \"parr\", \"tilknytte\", \"skudveksling\", \"seksuel\", \"angive\", \"afholdelse\", \"formodning\", \"desertere\", \"dav\\u00e6rende\", \"istanbul\", \"tradition\", \"biseksuel\", \"f\\u00e6lles\", \"politirapport\", \"dato\", \"n\\u00e6rmere\", \"fange\", \"s\\u00e5r\", \"udl\\u00e6ndingemyndigheder\", \"iran\", \"stikke\", \"udsat\", \"voldelig\", \"angiv\", \"seksuelt\", \"tyrki\", \"\\u00e6gtef\\u00e6lle\", \"sommer\", \"2017\", \"gift\", \"navn\", \"ans\\u00f8gere\", \"1990\", \"f\\u00f8de\", \"bidoon\", \"far\", \"hus\", \"statsborgerskab\", \"bo\", \"danmark\", \"syrien\", \"for\\u00e5r\", \"mor\", \"asyl\", \"mand\", \"irak\", \"barn\", \"s\\u00f8ge\", \"angiveligt\", \"irakisk\", \"udl\\u00e6ndingestyrelse\", \"hjemland\", \"statsborger\", \"videre\", \"divergere\", \"\\u00e5r\", \"forbindelse\", \"efter\\u00e5r\", \"flugten\", \"sudanesisk\", \"d\\u00e5bsattest\", \"eritrean\", \"nationaltjeneste\", \"ortodoks\", \"sudan\", \"tiger\", \"retur\", \"eritrea\", \"eritreisk\", \"etiopisk\", \"tvivlsom\", \"tigrinya\", \"kirke\", \"idkort\", \"hoppe\", \"kravle\", \"etiopien\", \"vokset\", \"krist\", \"hvortil\", \"egentlig\", \"1993\", \"2002\", \"identitetspapir\", \"kristen\", \"historie\", \"amharisk\", \"aftjene\", \"k\\u00e6reste\", \"l\\u00e6re\", \"statsborg\", \"stamme\", \"statsborgerskab\", \"gammel\", \"15\", \"tilbagevende\", \"\\u00e5r\", \"for\\u00e6lder\", \"amhari\", \"rejse\", \"milit\\u00e6r\", \"flygte\", \"d\\u00f8d\", \"kvinde\", \"opholde\", \"f\\u00f8de\", \"ukendt\", \"tale\", \"sandsynligg\\u00f8re\", \"2016\", \"mor\", \"land\", \"m\\u00e5ned\", \"forf\\u00f8lgelse\", \"risiko\", \"fremg\\u00e5\", \"statsborger\", \"hjemland\", \"sag\", \"bo\", \"omfattee\", \"ans\\u00f8gere\", \"1974\", \"asylretligt\", \"b\\u00f8rne\", \"diwaniya\", \"d\\u00f8trene\", \"enslydende\", \"farbr\\u00f8der\", \"fremviste\", \"identiten\", \"oplysningerne\", \"ops\\u00f8gme\", \"rolle\", \"sambehandlet\", \"sammenhold\", \"samtalereferaterne\", \"skabe\", \"sparsom\", \"svogers\", \"svogre\", \"s\\u00f8nnerne\", \"tilsvarende\", \"udf\\u00f8relse\", \"sove\", \"tilh\\u00f8rsforhold\", \"national\", \"planl\\u00e6gning\", \"rettelig\", \"fulgtes\", \"aircondition\", \"bedoonbefolkning\", \"moder\", \"familiemedlem\", \"fald\", \"hver\", \"s\\u00f8n\", \"formel\", \"bidun\", \"barn\", \"skjult\", \"bidune\", \"forskellig\", \"komme\", \"if\\u00f8lge\", \"begrunde\", \"bidooner\", \"f\\u00f8lge\", \"sag\", \"oplysning\", \"omst\\u00e6ndighed\", \"uds\\u00e6tte\", \"al\", \"udrejst\", \"egen\", \"forskelligt\", \"demonstration\", \"f\\u00f8re\", \"herunder\", \"pas\", \"bidoon\", \"navn\", \"blive\", \"overgreb\", \"dansk\", \"ans\\u00f8gere\", \"forf\\u00f8lgelse\", \"2014\", \"opholdstilladelse\", \"danmark\", \"kuwaitisk\", \"forbindelse\", \"dokument\", \"udl\\u00e6ndingestyrelse\", \"irakisk\", \"deltage\", \"dinare\", \"nummer\", \"tal\", \"500\", \"f\\u00f8dsl\", \"farwaniya\", \"sovev\\u00e6relse\", \"vie\", \"slags\", \"guld\", \"frieri\", \"p\\u00e5vise\", \"dollar\", \"bod\", \"civilkl\\u00e6dt\", \"5000\", \"opgivne\", \"overnatning\", \"kn\\u00e6\", \"telefonnummere\", \"aflede\", \"frie\", \"voksen\", \"korrigere\", \"cder\", \"fattig\", \"blok\", \"splitte\", \"ryg\", \"400\", \"arabien\", \"bahrain\", \"30\", \"kvindelig\", \"solgte\", \"ans\\u00f8g\", \"st\\u00e5\", \"gulf\", \"arabic\", \"kabd\", \"dinar\", \"miste\", \"asylsamtale\", \"hospital\", \"kort\", \"h\\u00f8re\", \"ans\\u00f8gers\", \"unders\\u00f8gelse\", \"aa\", \"uregistrere\", \"l\\u00f8sladels\", \"dag\", \"bidooner\", \"bem\\u00e6rke\", \"l\\u00f8sladelse\", \"fremst\\u00e5\", \"samt\", \"stand\", \"tid\", \"\\u00e6gtepar\", \"blive\", \"ops\\u00f8gt\", \"divergere\", \"sandsynliggjore\", \"gang\", \"sag\", \"bop\\u00e6l\", \"f\\u00f8re\", \"ans\\u00f8gerne\", \"m\\u00f8de\", \"angiveligt\", \"barn\", \"herved\", \"m\\u00e5ned\", \"demonstration\", \"herunder\", \"bidoon\", \"deltage\", \"bo\", \"p\\u00e5st\\u00e5\", \"rut\", \"asylans\\u00f8gere\", \"badtoilet\", \"baggrundsmaterialet\", \"bevism\\u00e6ssig\", \"detaljerer\", \"eksempler\", \"fortrinsvis\", \"fuldst\\u00e6ndig\", \"handicap\", \"instruere\", \"koordinere\", \"kortmateriale\", \"m\\u00f8der\", \"offentligg\\u00f8re\", \"ogeller\", \"overordne\", \"regione\", \"respektive\", \"tilf\\u00e6ldighed\", \"tilg\\u00e6ngeligt\", \"till\\u00e6rte\", \"uafh\\u00e6ngigt\", \"undtagelse\", \"hovedstad\", \"belgisk\", \"fjernsyn\", \"placere\", \"16\", \"bror\", \"dialekt\", \"rimelig\", \"as\", \"hinanden\", \"fremh\\u00e6ve\", \"uniformere\", \"sambehandle\", \"25\", \"beskrivelse\", \"udl\\u00e6nding\", \"derudover\", \"broder\", \"asylgrundlag\", \"bed\\u00f8mmelse\", \"divergere\", \"n\\u00f8dvendig\", \"knytte\", \"betingelserne\", \"foreliggende\", \"p\\u00e5ber\\u00e5ber\", \"golf\", \"40\", \"p\\u00e5g\\u00e6ldende\", \"omr\\u00e5de\", \"udl\\u00e6ndin\", \"omfattet\", \"opfylde\", \"konstruere\", \"utrov\\u00e6rdig\", \"sandsynliggjore\", \"f\\u00f8lge\", \"s\\u00f8ge\", \"herved\", \"opholdstilladelse\", \"flygtningen\\u00e6vne\", \"forekomme\", \"l\\u00f8slade\", \"dokument\", \"f\\u00f8re\", \"ans\\u00f8gere\", \"baggrund\", \"bop\\u00e6l\", \"statsborger\", \"oplysning\", \"irakisk\", \"sandsynligg\\u00f8re\", \"angiveligt\", \"efter\\u00e5r\", \"bidoon\", \"anholde\", \"give\", \"sag\"], \"Freq\": [285.0, 583.0, 337.0, 169.0, 247.0, 308.0, 359.0, 82.0, 361.0, 259.0, 236.0, 333.0, 224.0, 232.0, 201.0, 101.0, 224.0, 141.0, 154.0, 102.0, 137.0, 128.0, 92.0, 399.0, 96.0, 127.0, 149.0, 180.0, 45.0, 214.0, 3.0252224963489036, 3.9979045107326328, 3.1851857042977696, 2.328373494120062, 2.898988011660798, 1.86244349789225, 1.7813651038904768, 9.838035110251013, 1.817934254006594, 1.8616308383605704, 4.392217013406417, 1.841667298605202, 9.752736972956484, 4.800792094989441, 2.6074234126232003, 6.279625180405412, 2.240228377839923, 2.6868905236918663, 6.1320378324315605, 3.4926095315456607, 2.1577862955155624, 2.784022640211397, 2.0475594797223544, 2.1408863772203155, 14.199539384491366, 1.4544304403259738, 2.249994653295037, 1.8981848029725672, 1.819991130514181, 1.7662477204318863, 24.95763069362454, 35.043634239974295, 266.0002503225915, 31.75105060419405, 409.50598849683934, 7.529453099487518, 6.0279833747402956, 5.942590617389323, 5.942590617389323, 134.52117064532533, 30.24133830048668, 5.942590617389323, 15.51102945042472, 60.98749723675108, 92.67878962050413, 12.2451123085327, 8.10047176532403, 90.99509424335197, 7.18330023937059, 21.92602130973105, 20.897640491533334, 19.466054177970122, 48.122196283684936, 100.6176436621354, 61.141373549960576, 44.08236463689863, 118.98790077787541, 24.561202611083964, 43.35333530294141, 58.276238365952416, 53.64201367760582, 27.287226927282873, 49.09270822332345, 27.453494237277894, 64.46370488105006, 53.38581009691434, 48.62445133579662, 36.16720006648217, 36.00384675723455, 42.59006410349667, 32.09065104155189, 37.57161649562901, 32.28683275712595, 36.84194898679569, 32.96897253859753, 34.95947786046504, 37.12305652656618, 32.07337831451764, 285.15392628155496, 23.19752551464552, 15.91535537688756, 34.01161174254407, 7.406373153183414, 1.8516592397440974, 10.344127992771448, 21.723754756792367, 9.079038916159917, 5.545106723422024, 11.272836921763115, 2.881448888773927, 6.121988808646438, 3.675310749562997, 1.6215908888355026, 28.095582966239558, 2.4867357933710923, 1.8424075932005635, 18.46671768381492, 12.860963964832301, 7.437185216056885, 3.9115001765746995, 15.990582087680815, 8.871007919578588, 1.839742020470544, 2.244279571892392, 2.244279571892392, 3.861677021971147, 1.3015563538683526, 1.8303084068847695, 5.494447512236139, 20.55004631873107, 5.541777086655943, 7.80130603319562, 6.075700342371711, 12.396915656976194, 30.887102722250543, 7.923989052606633, 9.404090958615415, 20.613878232285746, 31.826156161457977, 61.90343649664099, 11.007611286727299, 18.630024848139993, 11.193400781758298, 25.202749583918, 10.752841451978423, 30.31498545784752, 17.45446885154843, 15.165440250832301, 24.3395564407088, 21.98889224202351, 19.853400317286177, 20.78571411116032, 19.70348191212813, 20.26948729074629, 18.228664677980397, 22.043474085926455, 17.448465214628985, 17.256582183056146, 16.715761728347236, 15.299769211276036, 15.779968895629462, 2.793412000375966, 6.061283711100548, 27.359971902564936, 3.4166903150195895, 9.32915542182513, 27.030481092200425, 32.022326637664165, 8.60900360983035, 2.793412000375966, 5.756784971884091, 5.756784971884091, 5.756784971884091, 2.793412000375966, 3.097910739592423, 2.793412000375966, 5.984131366673443, 10.092287626391395, 2.793412000375966, 5.756784971884091, 11.513569943768182, 3.6510413949532863, 6.675345744293359, 8.817088078546192, 5.756784971884091, 28.856137369032297, 2.793412000375966, 5.756784971884091, 9.02465668260867, 5.913414467822422, 9.847131273010408, 5.861697641861054, 4.141617334685037, 6.721399092468465, 82.90743072114158, 8.711934892153053, 6.442645210037972, 37.330234689507776, 95.43154345781251, 7.886457690239331, 9.539791176970033, 114.78978743600767, 71.86320118759532, 129.10445912834592, 40.76866144212375, 129.70870499231424, 62.34436261885028, 34.058576106174804, 34.638922846674014, 42.536630641113746, 50.000607225290715, 7.867578479743299, 81.41149132249201, 11.1903155123512, 41.00059698626974, 30.097884866554097, 16.982419826723586, 25.971041485117322, 18.743314616519914, 21.909432541662586, 44.798205760334255, 34.89896938968804, 42.3321274989424, 45.45791615228147, 25.239876193637638, 28.42540936823495, 20.74628879971438, 27.345239530941296, 21.525682396580585, 29.093060271458626, 29.075434341974503, 29.22984424002293, 28.739487802269583, 28.93596356944769, 28.476683165387286, 28.49264205799575, 12.488744411759177, 12.350997883407176, 24.701995766814353, 2.805967738141469, 12.350997883407176, 12.350997883407176, 2.650293103003835, 12.390742385393795, 12.350997883407176, 12.350997883407176, 2.650293103003835, 2.805967738141469, 2.788331946503705, 2.650293103003835, 12.442010667627958, 12.350997883407176, 12.350997883407176, 2.805967738141469, 2.788331946503705, 12.350997883407176, 12.37089259088414, 12.350997883407176, 12.350997883407176, 2.650293103003835, 12.350997883407176, 12.350997883407176, 2.650293103003835, 15.064472262887247, 12.350997883407176, 12.744071922967986, 12.374094193309018, 12.560343299975408, 21.688013179587283, 25.137218125223498, 27.933079525004544, 12.346319862073226, 12.427272951216763, 22.15730212271106, 22.33385152653426, 12.24798489546613, 22.55579774772377, 34.82587445470586, 37.74305940701612, 61.916996340510025, 24.749725980722943, 68.09646488928834, 22.094745000992663, 95.23638321299997, 22.165091199357427, 32.17100098753107, 17.771539060273582, 37.28887705339127, 50.16127160984112, 57.388260098382865, 21.91414716045044, 35.63791794162655, 15.666798292804444, 14.32142265992065, 45.845021517129425, 29.054121175846394, 55.78999433294988, 64.62063189638525, 41.59189524158735, 23.91847298502976, 39.35776118313966, 36.524657024712745, 35.74692039770926, 25.86487511077656, 26.839732604916193, 24.81951524755647, 28.25212109911002, 27.079810360575763, 25.92015373211409, 23.94750937493747, 24.51455388140568, 24.05664361442371, 4.513171337319023, 9.92883909303222, 4.270463975159861, 10.930164476598204, 8.577146358707303, 9.071531337305132, 4.825113080233414, 3.176580670673658, 4.231730978332741, 6.262855385796921, 4.524020449010952, 1.5343446317265488, 5.086320246417209, 9.638093639531919, 2.152653276922452, 13.792581439377367, 52.95787870165323, 2.5767846231766316, 4.301923477115476, 4.486345608612926, 41.14361799561934, 2.845444472969768, 1.2664391416172152, 3.5420431789234526, 15.782640844685336, 10.345969273560236, 82.29159389096249, 90.52691379459178, 2.5369212845643188, 4.0655252242283, 9.473873044923888, 10.314896401421887, 12.692720029528397, 8.163305928720318, 9.309974123798346, 26.745506681169537, 14.141507806861975, 6.09928715157992, 148.35219029793961, 83.98233614015817, 77.04036214877317, 25.233814568619003, 90.97335497018904, 112.6401748718588, 8.877954064380049, 58.75322987169555, 125.88054707778863, 31.96427576882191, 29.130224027902, 35.943438883063145, 76.82676127962516, 61.127142803448486, 22.98954861254908, 45.22383612306566, 59.4109013245294, 29.43651689729305, 24.167180425667684, 35.628717038005995, 50.5673085753786, 31.58115401412944, 46.257218231825924, 37.204721563383174, 40.40344879026831, 36.092228225654765, 38.26825306444175, 36.99075273661358, 42.9175856543294, 34.788733538061884, 32.161509180413994, 30.737598109074348, 2.750592464416291, 7.132845155764908, 5.856941867503972, 1.305878298986427, 7.836757375783573, 7.611202594654194, 82.08923206836272, 6.22764156062984, 4.6867669387801785, 168.58626184978897, 44.743319526523166, 21.865740900227966, 3.145000491357031, 14.413287041168523, 2.8609625326348844, 19.33655788731181, 3.2725791992435385, 3.2725791992435385, 39.853016881907905, 2.094583926968061, 8.780091067378075, 6.950221186470187, 2.509666435813589, 18.361344677148654, 6.73105980994011, 2.0589710872065177, 3.243099253948059, 3.5715265525602673, 4.021726182946758, 6.982477023623642, 3.7125126245675477, 7.285876981910591, 12.11451537967412, 15.463240115478518, 35.0415119260906, 18.616576070491032, 15.897422037542041, 12.99944613225716, 68.36448085026987, 25.515779137803523, 10.379063143376685, 32.02949583599484, 9.133016075253794, 25.942307802693794, 11.46411787231076, 15.792334419470489, 33.49216617211548, 28.807279706763655, 18.097299083403005, 22.556778336126754, 24.678625883155803, 22.631328643501718, 29.784293783807243, 23.90601743815599, 25.31287097716664, 23.173353477741443, 20.745051679153473, 22.733069673712517, 23.99258100675277, 19.848486872458068, 18.703473001735194, 18.97224105818114, 16.73706319589205, 17.619238760148356, 7.896152467568785, 16.15572672147738, 8.272055663997119, 15.487472886625572, 7.743736443312786, 7.743736443312786, 13.767058854745468, 8.924128780118606, 7.743736443312786, 16.029142543621465, 10.444935362573899, 7.743736443312786, 16.000844545797758, 7.863483501248489, 15.487472886625572, 10.861520942334547, 7.743736443312786, 7.743736443312786, 7.743736443312786, 7.743736443312786, 16.654678093778447, 7.743736443312786, 23.373003858423345, 7.861395247714246, 7.919758087305271, 7.785980618793678, 7.759466432647896, 17.53257071586722, 10.091962171045022, 8.557554197096582, 19.11592436030613, 40.78570246864307, 28.797163610934955, 28.522862138337718, 50.10883547376367, 20.525436385098597, 20.60022973257144, 102.98391917970996, 11.702994114336, 12.372572053377379, 25.328028942889468, 16.320385262172625, 35.00406536224752, 20.908913600465027, 70.20315849239688, 54.30163971180483, 57.97140595907975, 73.34394720357234, 37.61027808438876, 43.462616718669295, 20.72559749251935, 26.19238851065089, 16.88336943945649, 23.040725591365174, 68.25940556580647, 39.854462583457064, 40.71267045346182, 27.046995523346997, 49.51600005541854, 39.37099619708774, 33.94039354687413, 34.271842435436966, 25.94398601925501, 41.115085049438854, 30.433456651262397, 36.5675005245101, 35.811138169906336, 32.79134384628558, 35.04001808837823, 32.468544921022556, 31.388128997524507, 29.21897080281197, 27.85858266842771, 29.883993298046168, 8.842259951612588, 5.371556618484784, 3.737127419445605, 3.2002127902241564, 3.2002127902241564, 6.289535633586793, 3.0108549520953476, 2.180584097787738, 3.9888180627482734, 5.838930809449165, 2.8415132276256347, 1.7360497588764106, 3.1396639589823034, 7.942588797366345, 7.023999537496714, 6.847714540207724, 1.061402242108917, 2.657853427281169, 4.7068480940531705, 5.209555526245135, 2.6590014059676927, 0.9942483655805119, 3.087037577764325, 3.5282102248348806, 8.315768447902556, 4.523034558316663, 16.11787498147749, 1.3566739243661552, 9.316395420393013, 3.2349414024141416, 4.422945694248969, 4.422945694248969, 12.821475228152003, 221.39105889625645, 14.248986147021336, 61.70199565156503, 10.243566954279933, 14.473745364591034, 11.817593487284185, 7.594218261251756, 25.38987229337519, 14.00965104954328, 63.81957695436647, 20.29721650404211, 20.55225202357963, 12.850521039611904, 30.050908723146854, 16.891491536760036, 9.8003736689921, 15.363224908379568, 23.90122022664934, 79.21416371690987, 54.91160763416344, 46.14945249001853, 23.598610068138417, 26.800365641887478, 30.145523488203267, 24.869779766295267, 19.864134091106557, 16.497843507345653, 35.76791089725314, 31.747096279930155, 44.29293430877467, 32.22759091247868, 36.34099974749642, 33.530659304134524, 44.21208667950302, 30.366219439850788, 20.783328056330184, 21.460751961295802, 31.09325342978714, 31.737887897166665, 23.770587375687043, 26.87957812477537, 39.32207332607975, 27.28900096258636, 28.69877941041272, 27.97691696983477, 24.652041053460678, 15.567141766745047, 2.999986650427578, 5.219820485721058, 5.219820485721058, 2.705488375559021, 6.318957026382756, 2.705488375559021, 5.219820485721058, 5.219820485721058, 2.705488375559021, 2.705488375559021, 4.352588324197231, 5.219820485721058, 2.705488375559021, 5.219820485721058, 6.44480128218349, 2.705488375559021, 2.705488375559021, 5.219820485721058, 5.219820485721058, 11.095352468112857, 2.705488375559021, 5.219820485721058, 5.219820485721058, 2.705488375559021, 10.50213851078208, 9.549530245749397, 4.439854282555389, 6.7778721337011865, 7.884818472499768, 220.93718433122328, 31.442231320859484, 20.193017262178007, 24.72387718130336, 12.438624263051542, 14.413203852796036, 7.566694897341963, 10.423688067319176, 10.33921637869958, 6.836990273450892, 56.53544050775514, 34.85189770948663, 28.44259788036421, 29.061364994011264, 31.101317449609745, 154.0794889816468, 30.26780323582532, 16.442692947591425, 38.91962795788547, 40.58827738629019, 29.0578944761399, 15.291521526644654, 38.88339470865253, 31.620557220676947, 41.24679284971055, 26.20350321725307, 31.93452946633972, 32.82630854235266, 30.28120576999501, 33.63656607293405, 66.48749031134314, 65.9443388475798, 45.80329570138697, 45.71973535547236, 76.39627057962858, 56.089355533708016, 42.216529377217206, 45.618976662168684, 64.0707223917383, 55.367177022630486, 72.28170059532137, 55.26210681907431, 64.4269173767521, 50.1221772318421, 58.13584891137618, 43.53574063432558, 42.157351215491055, 49.50254565418004, 40.9798469353365, 54.264829053392674, 43.00180722658961, 36.9528772626005, 40.09128016077601], \"Total\": [285.0, 583.0, 337.0, 169.0, 247.0, 308.0, 359.0, 82.0, 361.0, 259.0, 236.0, 333.0, 224.0, 232.0, 201.0, 101.0, 224.0, 141.0, 154.0, 102.0, 137.0, 128.0, 92.0, 399.0, 96.0, 127.0, 149.0, 180.0, 45.0, 214.0, 3.0252224963489036, 3.9979045107326328, 3.1851857042977696, 2.328373494120062, 2.898988011660798, 1.86244349789225, 1.805419092663555, 10.259005300859917, 1.8980131726033962, 1.94428627527091, 4.6357959379744305, 1.9452080961251867, 10.445528498573118, 5.142766433118358, 2.799655345569197, 6.8749203180897975, 2.4562692638076102, 2.9478373962560327, 6.756952625243154, 3.864299902441088, 2.387609537168691, 3.094044942118961, 2.279027012296138, 2.3932471024491515, 15.90430344118218, 1.6360975503751263, 2.542805590920704, 2.1564317987638626, 2.1127581174137404, 2.057171608691978, 29.683219434998662, 42.45769428148108, 359.9352621353312, 40.280967882411396, 583.4101073006602, 9.142483134386215, 7.296953747415114, 7.208116236863841, 7.208116236863841, 236.4852443684858, 44.77825691208158, 7.208116236863841, 21.55303933789752, 102.47701321887476, 172.1609983012179, 17.020018542838294, 10.608703405746676, 193.57924006866824, 9.259626210081654, 38.010407446283054, 36.34618907851328, 34.25003772353181, 115.23776499195019, 308.93626650739117, 161.90928238514542, 104.52516898712481, 399.99404856178944, 47.98984671282693, 105.64577766498863, 161.29307129516198, 149.07772909792553, 62.35575931754041, 154.13844376046973, 65.84136627008738, 283.7949592356849, 213.96360459102294, 186.62165517248667, 112.89595624183086, 116.0598567588025, 168.70140399636452, 103.48584179553153, 171.10621666623038, 113.6062733721492, 191.23393689974006, 148.46808269928155, 201.5066283010682, 361.57702115725334, 197.52051758999508, 285.15392628155496, 23.70727231717491, 16.333758239355767, 35.02313923470221, 8.003010850009897, 2.0408126530532824, 11.428159529588495, 25.36738702971424, 10.61106149004077, 6.492906071765695, 13.232194785263323, 3.4418403549561054, 7.3592696163765945, 4.438054706461101, 1.974901243072786, 34.321224929270116, 3.0407464907950414, 2.2609112373764417, 22.66433578918102, 15.86584535499392, 9.17715633842868, 4.854311445107687, 19.907196163443984, 11.176301168372325, 2.3195928325266255, 2.876378169399942, 2.876378169399942, 4.972081489968721, 1.680151293275225, 2.388840165295614, 7.17303625854176, 29.307059790558927, 7.573802125315342, 10.971727507867202, 8.42389578401816, 18.827388582359447, 52.887914110991886, 11.70999892903443, 14.73390595791847, 43.60342684483483, 77.64057145368528, 224.50135463220533, 20.584275201752625, 52.468387182194135, 24.879211863730983, 113.6062733721492, 23.94519511026428, 191.23393689974006, 68.02361174167315, 52.32765073113895, 164.5363495649105, 151.82417413411875, 117.85541580847556, 137.2508808332404, 119.30178244296509, 130.43679360483395, 116.0598567588025, 283.7949592356849, 180.40236511575412, 183.7053806992971, 196.64898717514566, 105.64577766498863, 259.9500640996617, 2.793412000375966, 6.061283711100548, 27.359971902564936, 3.4166903150195895, 9.32915542182513, 27.030481092200425, 32.022326637664165, 8.60900360983035, 2.793412000375966, 5.756784971884091, 5.756784971884091, 5.756784971884091, 2.793412000375966, 3.097910739592423, 2.793412000375966, 5.984131366673443, 10.092287626391395, 2.793412000375966, 5.756784971884091, 11.513569943768182, 3.6510413949532863, 6.675345744293359, 8.817088078546192, 5.756784971884091, 28.856137369032297, 2.793412000375966, 5.756784971884091, 9.02465668260867, 5.94688383284703, 9.968224140719615, 5.934240348499083, 4.206042748070595, 7.019559939502204, 101.28122307782323, 9.595267344194228, 6.914897239379513, 50.38409544016278, 154.2323551903112, 8.849057994128373, 11.239847457480918, 224.13095280021201, 127.88973645352677, 308.93626650739117, 76.4085004413517, 361.57702115725334, 149.07772909792553, 65.6323291597945, 71.56338484973719, 105.7217968931657, 141.3390787995122, 9.008190014846113, 333.21876160635617, 15.574853759377113, 128.57915867795077, 82.53341780113722, 32.36128096473094, 71.1901542019965, 39.0511107935674, 52.67339497561355, 213.96360459102294, 140.98814495211252, 219.8299077619839, 259.9500640996617, 74.58198049701014, 98.66876498724052, 51.52381998729257, 105.64577766498863, 57.450125144797845, 154.13844376046973, 161.29307129516198, 172.8116779057028, 159.60940392464275, 171.10621666623038, 168.70140399636452, 283.7949592356849, 12.488744411759177, 12.350997883407176, 24.701995766814353, 2.805967738141469, 12.350997883407176, 12.350997883407176, 2.650293103003835, 12.390742385393795, 12.350997883407176, 12.350997883407176, 2.650293103003835, 2.805967738141469, 2.788331946503705, 2.650293103003835, 12.442010667627958, 12.350997883407176, 12.350997883407176, 2.805967738141469, 2.788331946503705, 12.350997883407176, 12.37089259088414, 12.350997883407176, 12.350997883407176, 2.650293103003835, 12.350997883407176, 12.350997883407176, 2.650293103003835, 15.064472262887247, 12.350997883407176, 12.754095408482044, 12.418868335745259, 12.62935598981487, 22.144457262812438, 25.80589149584974, 29.04015371899331, 12.6836928376355, 12.99314087263975, 23.993196376559403, 24.56332478286589, 13.404284261315674, 30.269696676042784, 56.74425410552588, 67.12736846755979, 141.3390787995122, 36.402039927885674, 180.40236511575412, 30.76189153490532, 337.6925141163908, 31.740355838647588, 63.054603894395015, 23.06365407786381, 84.34707426111237, 145.90370668051855, 218.17611807220982, 38.153868972891146, 104.94979608706849, 19.979992108020102, 16.730937687370925, 218.5091216874086, 80.31164991028665, 361.57702115725334, 583.4101073006602, 227.75407953058507, 59.24954715089511, 236.4852443684858, 197.52051758999508, 201.5066283010682, 77.54868121627634, 102.47701321887476, 70.65532592782434, 234.68465207178608, 219.8299077619839, 141.21024539164262, 64.59384417296347, 107.34690262766757, 90.41771390206942, 4.513171337319023, 9.92883909303222, 4.270463975159861, 10.930164476598204, 8.577146358707303, 9.071531337305132, 4.825113080233414, 3.176580670673658, 4.28819066623129, 6.425452431963479, 4.650821176078888, 1.5917186560011956, 5.280952284917285, 10.010840630376654, 2.2540651662381515, 14.53463996678525, 55.88858257556989, 2.7241139389682085, 4.561198656725901, 4.823815372008668, 44.65130951451554, 3.093233457510728, 1.3841147652369876, 3.94219668425369, 17.590869852826145, 11.534251412762556, 92.91549279134978, 102.23128533777802, 2.8758249770905127, 4.609417667147723, 10.780758694314589, 11.77970364646282, 14.544437517056208, 9.385224259256805, 11.089949628747966, 34.98771689277429, 17.573643182100604, 7.145167868247274, 259.9500640996617, 137.2508808332404, 125.29191803006049, 38.41273657844005, 234.68465207178608, 333.21876160635617, 11.309257179482998, 141.21024539164262, 399.99404856178944, 64.60664566160702, 57.450125144797845, 77.01572370847865, 227.75407953058507, 164.5363495649105, 43.60342684483483, 130.43679360483395, 219.8299077619839, 68.007771128808, 51.52381998729257, 112.89595624183086, 232.97860829249424, 97.83102968756089, 218.17611807220982, 138.66619010276202, 191.23393689974006, 145.90370668051855, 183.7053806992971, 180.40236511575412, 313.2770590578919, 201.5066283010682, 186.62165517248667, 117.85541580847556, 2.750592464416291, 7.132845155764908, 5.856941867503972, 1.305878298986427, 7.836757375783573, 7.611202594654194, 82.08923206836272, 6.22764156062984, 4.701373820745887, 169.71749067227933, 45.08247915293341, 22.366614004397537, 3.2373032646094204, 14.94370048081708, 2.9667120947730323, 20.373921663986508, 3.4740665207129107, 3.4740665207129107, 42.42572500048787, 2.2622836448902532, 9.597729716515465, 7.610258803386667, 2.7502037683731766, 20.349805207280895, 7.832374753332169, 2.409105332398984, 3.8707075908008863, 4.272447568068914, 5.107391764310476, 8.890322664631048, 4.72894998917242, 10.382020891765315, 19.55054825110535, 26.56355262239559, 77.01572370847865, 35.03740187294814, 29.211082679078377, 22.64636821857904, 201.5066283010682, 56.10815319343416, 17.59385351676255, 93.35110348211812, 16.231020622124607, 83.65807969203841, 23.29071674107563, 41.29736549553675, 168.70140399636452, 141.21024539164262, 57.2085857514332, 95.84896082585863, 125.31294846097643, 103.48584179553153, 219.8299077619839, 129.21066469822517, 154.13844376046973, 123.35477468406312, 107.34690262766757, 151.82417413411875, 183.7053806992971, 145.90370668051855, 189.80797115898025, 227.75407953058507, 90.41771390206942, 333.21876160635617, 7.896152467568785, 16.15572672147738, 8.272055663997119, 15.487472886625572, 7.743736443312786, 7.743736443312786, 13.767058854745468, 8.924128780118606, 7.743736443312786, 16.029142543621465, 10.444935362573899, 7.743736443312786, 16.000844545797758, 7.863483501248489, 15.487472886625572, 10.861520942334547, 7.743736443312786, 7.743736443312786, 7.743736443312786, 7.743736443312786, 16.654678093778447, 7.743736443312786, 23.373003858423345, 7.865169397644193, 7.946304358729559, 7.814079589640022, 7.836399696341243, 17.77338947440051, 10.680359602843827, 9.585906154388201, 22.198216248978937, 53.44867003050433, 35.670572660628906, 35.36264290860508, 75.92811304168633, 27.35336020760068, 27.582157973976877, 232.97860829249424, 13.742360541807175, 14.947601637367764, 43.321791529102164, 22.826117257631537, 72.24512548286198, 33.92980401813651, 214.27478583073795, 165.52575505565716, 189.80797115898025, 283.7949592356849, 100.83639599330775, 161.90928238514542, 40.09969393261427, 64.64598902454968, 27.36635132168979, 53.38649395344254, 583.4101073006602, 176.77985770351967, 196.64898717514566, 77.64057145368528, 399.99404856178944, 234.68465207178608, 159.60940392464275, 171.10621666623038, 71.89233652544631, 333.21876160635617, 123.35477468406312, 236.4852443684858, 224.50135463220533, 164.5363495649105, 213.96360459102294, 186.62165517248667, 218.5091216874086, 191.23393689974006, 138.66619010276202, 359.9352621353312, 8.842259951612588, 5.371556618484784, 3.737127419445605, 3.279185049226327, 3.279185049226327, 6.5890809316827, 3.1641034330628126, 2.299106255959152, 4.213435942270176, 6.1767851688527164, 3.029752781296305, 1.884634714473995, 3.4216742000778724, 8.765655941330191, 7.804010509018196, 7.640127319210406, 1.200048218523984, 3.021130683330151, 5.387793033431978, 6.154256074769137, 3.1579898069159897, 1.181047370504937, 3.787525948552288, 4.3676073465283745, 10.317881267844287, 5.743627128874972, 20.735091986989637, 1.75081297221743, 12.034098521804252, 4.199185613459989, 5.744241821930321, 5.744241821930321, 16.952566432197834, 337.6925141163908, 19.92246732805118, 96.81554916598104, 14.270490605704406, 20.995941865780715, 16.985639743219892, 10.395688604897247, 41.69702733230421, 21.166224162356684, 128.57915867795077, 33.61520665073694, 36.046209058335045, 20.42708544205633, 63.12642845014771, 31.050725452047477, 14.931813023870125, 28.201908943213514, 54.08714956862862, 308.93626650739117, 214.27478583073795, 172.8116779057028, 62.35575931754041, 80.8723758946138, 100.92235007476675, 74.34476996783718, 49.82319150627031, 36.32032043001568, 159.60940392464275, 140.98814495211252, 313.2770590578919, 161.78175170514982, 224.13095280021201, 189.80797115898025, 361.57702115725334, 176.77985770351967, 64.59384417296347, 71.56338484973719, 218.17611807220982, 232.97860829249424, 99.57008755029685, 154.13844376046973, 583.4101073006602, 196.64898717514566, 399.99404856178944, 359.9352621353312, 227.75407953058507, 15.567141766745047, 2.999986650427578, 5.219820485721058, 5.219820485721058, 2.705488375559021, 6.318957026382756, 2.705488375559021, 5.219820485721058, 5.219820485721058, 2.705488375559021, 2.705488375559021, 4.352588324197231, 5.219820485721058, 2.705488375559021, 5.219820485721058, 6.44480128218349, 2.705488375559021, 2.705488375559021, 5.219820485721058, 5.219820485721058, 11.095352468112857, 2.705488375559021, 5.219820485721058, 5.219820485721058, 2.705488375559021, 10.593292190298309, 9.654667893199557, 4.5165432959161365, 6.905087732906706, 8.13935714725827, 247.20215279165959, 33.696232808998815, 21.41007717363539, 26.639062762773225, 13.049717474060978, 15.36250421341606, 7.865337544828885, 11.133439024547172, 11.132864422894365, 7.45110840003915, 78.90354883392084, 46.184284288281404, 36.76042279122392, 38.294775382345875, 44.513392793273646, 313.2770590578919, 44.090543658235255, 21.041816266166826, 61.881227303151064, 65.41320056325958, 43.41967840316653, 19.660470335404803, 65.22340936094798, 50.42903224385777, 71.62415185053305, 39.762000335178044, 51.724200996516515, 54.079436409147036, 49.336843086016906, 60.11323921395191, 161.78175170514982, 165.52575505565716, 97.83102968756089, 99.57008755029685, 224.50135463220533, 138.92957258023728, 89.05387139466936, 104.52516898712481, 218.5091216874086, 176.77985770351967, 333.21876160635617, 197.52051758999508, 361.57702115725334, 183.7053806992971, 283.7949592356849, 138.66619010276202, 125.31294846097643, 218.17611807220982, 117.85541580847556, 399.99404856178944, 161.29307129516198, 95.97019960676698, 189.80797115898025], \"Category\": [\"Default\", \"Default\", \"Default\", \"Default\", \"Default\", \"Default\", \"Default\", \"Default\", \"Default\", \"Default\", \"Default\", \"Default\", \"Default\", \"Default\", \"Default\", \"Default\", \"Default\", \"Default\", \"Default\", \"Default\", \"Default\", \"Default\", \"Default\", \"Default\", \"Default\", \"Default\", \"Default\", \"Default\", \"Default\", \"Default\", \"Topic1\", \"Topic1\", \"Topic1\", \"Topic1\", \"Topic1\", \"Topic1\", \"Topic1\", \"Topic1\", \"Topic1\", \"Topic1\", \"Topic1\", \"Topic1\", \"Topic1\", \"Topic1\", \"Topic1\", \"Topic1\", \"Topic1\", \"Topic1\", \"Topic1\", \"Topic1\", \"Topic1\", \"Topic1\", \"Topic1\", \"Topic1\", \"Topic1\", \"Topic1\", \"Topic1\", \"Topic1\", \"Topic1\", \"Topic1\", \"Topic1\", \"Topic1\", \"Topic1\", \"Topic1\", \"Topic1\", \"Topic1\", \"Topic1\", \"Topic1\", \"Topic1\", \"Topic1\", \"Topic1\", \"Topic1\", \"Topic1\", \"Topic1\", \"Topic1\", \"Topic1\", \"Topic1\", \"Topic1\", \"Topic1\", \"Topic1\", \"Topic1\", \"Topic1\", \"Topic1\", \"Topic1\", \"Topic1\", \"Topic1\", \"Topic1\", \"Topic1\", \"Topic1\", \"Topic1\", \"Topic1\", \"Topic1\", \"Topic1\", \"Topic1\", \"Topic1\", \"Topic1\", \"Topic1\", \"Topic1\", \"Topic1\", \"Topic1\", \"Topic1\", \"Topic1\", \"Topic1\", \"Topic1\", \"Topic1\", \"Topic1\", \"Topic1\", \"Topic1\", \"Topic2\", \"Topic2\", \"Topic2\", \"Topic2\", \"Topic2\", \"Topic2\", \"Topic2\", \"Topic2\", \"Topic2\", \"Topic2\", \"Topic2\", \"Topic2\", \"Topic2\", \"Topic2\", \"Topic2\", \"Topic2\", \"Topic2\", \"Topic2\", \"Topic2\", \"Topic2\", \"Topic2\", \"Topic2\", \"Topic2\", \"Topic2\", \"Topic2\", \"Topic2\", \"Topic2\", \"Topic2\", \"Topic2\", \"Topic2\", \"Topic2\", \"Topic2\", \"Topic2\", \"Topic2\", \"Topic2\", \"Topic2\", \"Topic2\", \"Topic2\", \"Topic2\", \"Topic2\", \"Topic2\", \"Topic2\", \"Topic2\", \"Topic2\", \"Topic2\", \"Topic2\", \"Topic2\", \"Topic2\", \"Topic2\", \"Topic2\", \"Topic2\", \"Topic2\", \"Topic2\", \"Topic2\", \"Topic2\", \"Topic2\", \"Topic2\", \"Topic2\", \"Topic2\", \"Topic2\", \"Topic2\", \"Topic2\", \"Topic2\", \"Topic3\", \"Topic3\", \"Topic3\", \"Topic3\", \"Topic3\", \"Topic3\", \"Topic3\", \"Topic3\", \"Topic3\", \"Topic3\", \"Topic3\", \"Topic3\", \"Topic3\", \"Topic3\", \"Topic3\", \"Topic3\", \"Topic3\", \"Topic3\", \"Topic3\", \"Topic3\", \"Topic3\", \"Topic3\", \"Topic3\", \"Topic3\", \"Topic3\", \"Topic3\", \"Topic3\", \"Topic3\", \"Topic3\", \"Topic3\", \"Topic3\", \"Topic3\", \"Topic3\", \"Topic3\", \"Topic3\", \"Topic3\", \"Topic3\", \"Topic3\", \"Topic3\", \"Topic3\", \"Topic3\", \"Topic3\", \"Topic3\", \"Topic3\", \"Topic3\", \"Topic3\", \"Topic3\", \"Topic3\", \"Topic3\", \"Topic3\", \"Topic3\", \"Topic3\", \"Topic3\", \"Topic3\", \"Topic3\", \"Topic3\", \"Topic3\", \"Topic3\", \"Topic3\", \"Topic3\", \"Topic3\", \"Topic3\", \"Topic3\", \"Topic3\", \"Topic3\", \"Topic3\", \"Topic3\", \"Topic3\", \"Topic3\", \"Topic3\", \"Topic3\", \"Topic3\", \"Topic3\", \"Topic3\", \"Topic3\", \"Topic4\", \"Topic4\", \"Topic4\", \"Topic4\", \"Topic4\", \"Topic4\", \"Topic4\", \"Topic4\", \"Topic4\", \"Topic4\", \"Topic4\", \"Topic4\", \"Topic4\", \"Topic4\", \"Topic4\", \"Topic4\", \"Topic4\", \"Topic4\", \"Topic4\", \"Topic4\", \"Topic4\", \"Topic4\", \"Topic4\", \"Topic4\", \"Topic4\", \"Topic4\", \"Topic4\", \"Topic4\", \"Topic4\", \"Topic4\", \"Topic4\", \"Topic4\", \"Topic4\", \"Topic4\", \"Topic4\", \"Topic4\", \"Topic4\", \"Topic4\", \"Topic4\", \"Topic4\", \"Topic4\", \"Topic4\", \"Topic4\", \"Topic4\", \"Topic4\", \"Topic4\", \"Topic4\", \"Topic4\", \"Topic4\", \"Topic4\", \"Topic4\", \"Topic4\", \"Topic4\", \"Topic4\", \"Topic4\", \"Topic4\", \"Topic4\", \"Topic4\", \"Topic4\", \"Topic4\", \"Topic4\", \"Topic4\", \"Topic4\", \"Topic4\", \"Topic4\", \"Topic4\", \"Topic4\", \"Topic4\", \"Topic4\", \"Topic4\", \"Topic4\", \"Topic4\", \"Topic4\", \"Topic4\", \"Topic4\", \"Topic4\", \"Topic5\", \"Topic5\", \"Topic5\", \"Topic5\", \"Topic5\", \"Topic5\", \"Topic5\", \"Topic5\", \"Topic5\", \"Topic5\", \"Topic5\", \"Topic5\", \"Topic5\", \"Topic5\", \"Topic5\", \"Topic5\", \"Topic5\", \"Topic5\", \"Topic5\", \"Topic5\", \"Topic5\", \"Topic5\", \"Topic5\", \"Topic5\", \"Topic5\", \"Topic5\", \"Topic5\", \"Topic5\", \"Topic5\", \"Topic5\", \"Topic5\", \"Topic5\", \"Topic5\", \"Topic5\", \"Topic5\", \"Topic5\", \"Topic5\", \"Topic5\", \"Topic5\", \"Topic5\", \"Topic5\", \"Topic5\", \"Topic5\", \"Topic5\", \"Topic5\", \"Topic5\", \"Topic5\", \"Topic5\", \"Topic5\", \"Topic5\", \"Topic5\", \"Topic5\", \"Topic5\", \"Topic5\", \"Topic5\", \"Topic5\", \"Topic5\", \"Topic5\", \"Topic5\", \"Topic5\", \"Topic5\", \"Topic5\", \"Topic5\", \"Topic5\", \"Topic5\", \"Topic5\", \"Topic5\", \"Topic5\", \"Topic5\", \"Topic5\", \"Topic6\", \"Topic6\", \"Topic6\", \"Topic6\", \"Topic6\", \"Topic6\", \"Topic6\", \"Topic6\", \"Topic6\", \"Topic6\", \"Topic6\", \"Topic6\", \"Topic6\", \"Topic6\", \"Topic6\", \"Topic6\", \"Topic6\", \"Topic6\", \"Topic6\", \"Topic6\", \"Topic6\", \"Topic6\", \"Topic6\", \"Topic6\", \"Topic6\", \"Topic6\", \"Topic6\", \"Topic6\", \"Topic6\", \"Topic6\", \"Topic6\", \"Topic6\", \"Topic6\", \"Topic6\", \"Topic6\", \"Topic6\", \"Topic6\", \"Topic6\", \"Topic6\", \"Topic6\", \"Topic6\", \"Topic6\", \"Topic6\", \"Topic6\", \"Topic6\", \"Topic6\", \"Topic6\", \"Topic6\", \"Topic6\", \"Topic6\", \"Topic6\", \"Topic6\", \"Topic6\", \"Topic6\", \"Topic6\", \"Topic6\", \"Topic6\", \"Topic6\", \"Topic6\", \"Topic6\", \"Topic6\", \"Topic6\", \"Topic6\", \"Topic6\", \"Topic7\", \"Topic7\", \"Topic7\", \"Topic7\", \"Topic7\", \"Topic7\", \"Topic7\", \"Topic7\", \"Topic7\", \"Topic7\", \"Topic7\", \"Topic7\", \"Topic7\", \"Topic7\", \"Topic7\", \"Topic7\", \"Topic7\", \"Topic7\", \"Topic7\", \"Topic7\", \"Topic7\", \"Topic7\", \"Topic7\", \"Topic7\", \"Topic7\", \"Topic7\", \"Topic7\", \"Topic7\", \"Topic7\", \"Topic7\", \"Topic7\", \"Topic7\", \"Topic7\", \"Topic7\", \"Topic7\", \"Topic7\", \"Topic7\", \"Topic7\", \"Topic7\", \"Topic7\", \"Topic7\", \"Topic7\", \"Topic7\", \"Topic7\", \"Topic7\", \"Topic7\", \"Topic7\", \"Topic7\", \"Topic7\", \"Topic7\", \"Topic7\", \"Topic7\", \"Topic7\", \"Topic7\", \"Topic7\", \"Topic7\", \"Topic7\", \"Topic7\", \"Topic7\", \"Topic7\", \"Topic7\", \"Topic7\", \"Topic7\", \"Topic7\", \"Topic7\", \"Topic7\", \"Topic7\", \"Topic7\", \"Topic7\", \"Topic7\", \"Topic7\", \"Topic7\", \"Topic7\", \"Topic7\", \"Topic8\", \"Topic8\", \"Topic8\", \"Topic8\", \"Topic8\", \"Topic8\", \"Topic8\", \"Topic8\", \"Topic8\", \"Topic8\", \"Topic8\", \"Topic8\", \"Topic8\", \"Topic8\", \"Topic8\", \"Topic8\", \"Topic8\", \"Topic8\", \"Topic8\", \"Topic8\", \"Topic8\", \"Topic8\", \"Topic8\", \"Topic8\", \"Topic8\", \"Topic8\", \"Topic8\", \"Topic8\", \"Topic8\", \"Topic8\", \"Topic8\", \"Topic8\", \"Topic8\", \"Topic8\", \"Topic8\", \"Topic8\", \"Topic8\", \"Topic8\", \"Topic8\", \"Topic8\", \"Topic8\", \"Topic8\", \"Topic8\", \"Topic8\", \"Topic8\", \"Topic8\", \"Topic8\", \"Topic8\", \"Topic8\", \"Topic8\", \"Topic8\", \"Topic8\", \"Topic8\", \"Topic8\", \"Topic8\", \"Topic8\", \"Topic8\", \"Topic8\", \"Topic8\", \"Topic8\", \"Topic8\", \"Topic8\", \"Topic8\", \"Topic8\", \"Topic8\", \"Topic8\", \"Topic8\", \"Topic8\", \"Topic8\", \"Topic8\", \"Topic8\", \"Topic8\", \"Topic8\", \"Topic8\", \"Topic8\", \"Topic8\", \"Topic8\", \"Topic8\", \"Topic8\", \"Topic9\", \"Topic9\", \"Topic9\", \"Topic9\", \"Topic9\", \"Topic9\", \"Topic9\", \"Topic9\", \"Topic9\", \"Topic9\", \"Topic9\", \"Topic9\", \"Topic9\", \"Topic9\", \"Topic9\", \"Topic9\", \"Topic9\", \"Topic9\", \"Topic9\", \"Topic9\", \"Topic9\", \"Topic9\", \"Topic9\", \"Topic9\", \"Topic9\", \"Topic9\", \"Topic9\", \"Topic9\", \"Topic9\", \"Topic9\", \"Topic9\", \"Topic9\", \"Topic9\", \"Topic9\", \"Topic9\", \"Topic9\", \"Topic9\", \"Topic9\", \"Topic9\", \"Topic9\", \"Topic9\", \"Topic9\", \"Topic9\", \"Topic9\", \"Topic9\", \"Topic9\", \"Topic9\", \"Topic9\", \"Topic9\", \"Topic9\", \"Topic9\", \"Topic9\", \"Topic9\", \"Topic9\", \"Topic9\", \"Topic9\", \"Topic9\", \"Topic9\", \"Topic9\", \"Topic9\", \"Topic9\", \"Topic9\", \"Topic9\", \"Topic9\", \"Topic9\", \"Topic9\", \"Topic9\", \"Topic9\", \"Topic9\", \"Topic9\", \"Topic9\", \"Topic9\", \"Topic9\", \"Topic9\", \"Topic9\", \"Topic9\", \"Topic9\", \"Topic9\", \"Topic9\", \"Topic9\", \"Topic9\", \"Topic9\", \"Topic9\"], \"logprob\": [30.0, 29.0, 28.0, 27.0, 26.0, 25.0, 24.0, 23.0, 22.0, 21.0, 20.0, 19.0, 18.0, 17.0, 16.0, 15.0, 14.0, 13.0, 12.0, 11.0, 10.0, 9.0, 8.0, 7.0, 6.0, 5.0, 4.0, 3.0, 2.0, 1.0, -7.6186, -7.3398, -7.5671, -7.8804, -7.6612, -8.1037, -8.1482, -6.4393, -8.1279, -8.1041, -7.2457, -8.1149, -6.448, -7.1568, -7.7672, -6.8883, -7.919, -7.7372, -6.9121, -7.4749, -7.9565, -7.7017, -8.0089, -7.9644, -6.0724, -8.351, -7.9147, -8.0847, -8.1267, -8.1567, -5.5084, -5.169, -3.1421, -5.2677, -2.7106, -6.7068, -6.9292, -6.9434, -6.9434, -3.8239, -5.3164, -6.9434, -5.984, -4.6149, -4.1964, -6.2205, -6.6337, -4.2148, -6.7538, -5.6379, -5.6859, -5.7569, -4.8518, -4.1143, -4.6124, -4.9395, -3.9466, -5.5244, -4.9562, -4.6604, -4.7432, -5.4192, -4.8319, -5.4131, -4.5595, -4.748, -4.8415, -5.1374, -5.142, -4.974, -5.257, -5.0993, -5.2509, -5.1189, -5.23, -5.1714, -5.1113, -5.2576, -2.2122, -4.7212, -5.0979, -4.3385, -5.8629, -7.2491, -5.5288, -4.7868, -5.6592, -6.1523, -5.4428, -6.8069, -6.0533, -6.5636, -7.3818, -4.5296, -6.9542, -7.2541, -4.9492, -5.311, -5.8587, -6.5013, -5.0932, -5.6824, -7.2556, -7.0568, -7.0568, -6.5141, -7.6017, -7.2607, -6.1615, -4.8423, -6.1529, -5.8109, -6.0609, -5.3478, -4.4349, -5.7953, -5.6241, -4.8392, -4.4049, -3.7396, -5.4666, -4.9404, -5.4499, -4.6383, -5.49, -4.4536, -5.0056, -5.1462, -4.6731, -4.7747, -4.8768, -4.8309, -4.8844, -4.8561, -4.9622, -4.7722, -5.006, -5.017, -5.0489, -5.1374, -5.1065, -7.3989, -6.6243, -5.1171, -7.1975, -6.1931, -5.1292, -4.9598, -6.2734, -7.3989, -6.6758, -6.6758, -6.6758, -7.3989, -7.2955, -7.3989, -6.6371, -6.1144, -7.3989, -6.6758, -5.9827, -7.1312, -6.5278, -6.2495, -6.6758, -5.0639, -7.3989, -6.6758, -6.2262, -6.649, -6.139, -6.6578, -7.0051, -6.5209, -4.0085, -6.2615, -6.5633, -4.8064, -3.8678, -6.3611, -6.1707, -3.6831, -4.1514, -3.5656, -4.7183, -3.5609, -4.2935, -4.8981, -4.8812, -4.6758, -4.5142, -6.3635, -4.0267, -6.0112, -4.7126, -5.0217, -5.594, -5.1692, -5.4954, -5.3393, -4.624, -4.8737, -4.6807, -4.6094, -5.1978, -5.0789, -5.3938, -5.1177, -5.357, -5.0557, -5.0563, -5.051, -5.0679, -5.0611, -5.0771, -5.0766, -5.7025, -5.7136, -5.0204, -7.1956, -5.7136, -5.7136, -7.2526, -5.7104, -5.7136, -5.7136, -7.2526, -7.1956, -7.2019, -7.2526, -5.7062, -5.7136, -5.7136, -7.1956, -7.2019, -5.7136, -5.712, -5.7136, -5.7136, -7.2526, -5.7136, -5.7136, -7.2526, -5.515, -5.7136, -5.6822, -5.7117, -5.6968, -5.1505, -5.003, -4.8975, -5.7139, -5.7074, -5.1291, -5.1212, -5.7219, -5.1113, -4.6769, -4.5965, -4.1015, -5.0185, -4.0064, -5.132, -3.6709, -5.1288, -4.7562, -5.3497, -4.6086, -4.3121, -4.1775, -5.1402, -4.6539, -5.4758, -5.5655, -4.402, -4.8581, -4.2057, -4.0588, -4.4994, -5.0526, -4.5546, -4.6293, -4.6508, -4.9744, -4.9374, -5.0157, -4.8861, -4.9285, -4.9723, -5.0514, -5.028, -5.0469, -7.1804, -6.392, -7.2357, -6.2959, -6.5383, -6.4823, -7.1136, -7.5316, -7.2448, -6.8528, -7.178, -8.2593, -7.0608, -6.4217, -7.9207, -6.0633, -4.7179, -7.7409, -7.2283, -7.1864, -4.9703, -7.6417, -8.4512, -7.4227, -5.9285, -6.3508, -4.2771, -4.1818, -7.7565, -7.2849, -6.4389, -6.3538, -6.1464, -6.5878, -6.4563, -5.401, -6.0383, -6.8792, -3.6878, -4.2568, -4.3431, -5.4592, -4.1768, -3.9632, -6.5038, -4.6141, -3.8521, -5.2228, -5.3156, -5.1055, -4.3459, -4.5744, -5.5524, -4.8758, -4.6029, -5.3052, -5.5024, -5.1143, -4.7641, -5.2348, -4.8532, -5.071, -4.9885, -5.1013, -5.0428, -5.0767, -4.9281, -5.1381, -5.2166, -5.2619, -7.0003, -6.0474, -6.2445, -7.7452, -5.9533, -5.9825, -3.6043, -6.1831, -6.4673, -2.8846, -4.2111, -4.9272, -6.8663, -5.3439, -6.9609, -5.0501, -6.8265, -6.8265, -4.3269, -7.2727, -5.8396, -6.0733, -7.0919, -5.1018, -6.1054, -7.2899, -6.8356, -6.7391, -6.6204, -6.0687, -6.7004, -6.0262, -5.5177, -5.2736, -4.4556, -5.088, -5.2459, -5.4472, -3.7872, -4.7728, -5.6723, -4.5454, -5.8002, -4.7562, -5.5729, -5.2526, -4.5008, -4.6515, -5.1163, -4.8961, -4.8062, -4.8928, -4.6181, -4.838, -4.7808, -4.8691, -4.9798, -4.8883, -4.8343, -5.024, -5.0834, -5.0691, -5.1945, -5.1431, -6.3336, -5.6177, -6.287, -5.6599, -6.353, -6.353, -5.7777, -6.2112, -6.353, -5.6255, -6.0538, -6.353, -5.6273, -6.3377, -5.6599, -6.0147, -6.353, -6.353, -6.353, -6.353, -5.5872, -6.353, -5.2483, -6.338, -6.3306, -6.3476, -6.351, -5.5359, -6.0882, -6.2531, -5.4494, -4.6916, -5.0397, -5.0492, -4.4857, -5.3783, -5.3746, -3.7654, -5.9401, -5.8844, -5.168, -5.6075, -4.8445, -5.3598, -4.1485, -4.4054, -4.34, -4.1048, -4.7727, -4.628, -5.3686, -5.1345, -5.5736, -5.2627, -4.1766, -4.7147, -4.6934, -5.1024, -4.4976, -4.7269, -4.8753, -4.8656, -5.144, -4.6836, -4.9844, -4.8008, -4.8217, -4.9098, -4.8434, -4.9197, -4.9535, -5.0251, -5.0728, -5.0026, -6.2658, -6.7642, -7.127, -7.2821, -7.2821, -6.6065, -7.3431, -7.6657, -7.0618, -6.6808, -7.401, -7.8937, -7.3012, -6.3731, -6.496, -6.5214, -8.3857, -7.4678, -6.8963, -6.7948, -7.4674, -8.4511, -7.3181, -7.1845, -6.3272, -6.9362, -5.6654, -8.1403, -6.2136, -7.2713, -6.9585, -6.9585, -5.8942, -3.0454, -5.7887, -4.323, -6.1187, -5.773, -5.9758, -6.418, -5.211, -5.8056, -4.2893, -5.4349, -5.4224, -5.892, -5.0424, -5.6185, -6.1629, -5.7134, -5.2714, -4.0732, -4.4396, -4.6135, -5.2842, -5.1569, -5.0393, -5.2317, -5.4564, -5.6421, -4.8683, -4.9875, -4.6545, -4.9725, -4.8524, -4.9329, -4.6563, -5.032, -5.4112, -5.3791, -5.0083, -4.9878, -5.2769, -5.154, -4.7736, -5.1389, -5.0885, -5.114, -5.2405, -6.0955, -7.7421, -7.1882, -7.1882, -7.8454, -6.9971, -7.8454, -7.1882, -7.1882, -7.8454, -7.8454, -7.3699, -7.1882, -7.8454, -7.1882, -6.9774, -7.8454, -7.8454, -7.1882, -7.1882, -6.4341, -7.8454, -7.1882, -7.1882, -7.8454, -6.4891, -6.5842, -7.35, -6.927, -6.7757, -3.4428, -5.3925, -5.8353, -5.6329, -6.3199, -6.1725, -6.8169, -6.4966, -6.5047, -6.9183, -4.8058, -5.2896, -5.4928, -5.4713, -5.4034, -3.8032, -5.4306, -6.0408, -5.1792, -5.1372, -5.4714, -6.1134, -5.1801, -5.3869, -5.1211, -5.5748, -5.377, -5.3494, -5.4301, -5.325, -4.6436, -4.6519, -5.0163, -5.0181, -4.5047, -4.8137, -5.0979, -5.0203, -4.6807, -4.8267, -4.5601, -4.8286, -4.6751, -4.9262, -4.7779, -5.0671, -5.0993, -4.9386, -5.1276, -4.8468, -5.0794, -5.231, -5.1495], \"loglift\": [30.0, 29.0, 28.0, 27.0, 26.0, 25.0, 24.0, 23.0, 22.0, 21.0, 20.0, 19.0, 18.0, 17.0, 16.0, 15.0, 14.0, 13.0, 12.0, 11.0, 10.0, 9.0, 8.0, 7.0, 6.0, 5.0, 4.0, 3.0, 2.0, 1.0, 1.9204, 1.9204, 1.9204, 1.9204, 1.9204, 1.9204, 1.907, 1.8785, 1.8773, 1.877, 1.8665, 1.8657, 1.8518, 1.8516, 1.8493, 1.8299, 1.8284, 1.8278, 1.8234, 1.8193, 1.8192, 1.8149, 1.8133, 1.809, 1.8071, 1.8027, 1.7981, 1.7929, 1.7713, 1.768, 1.747, 1.7285, 1.618, 1.6825, 1.5665, 1.7263, 1.7294, 1.7274, 1.7274, 1.3563, 1.5279, 1.7274, 1.5915, 1.4015, 1.3012, 1.5912, 1.6507, 1.1656, 1.6665, 1.3703, 1.367, 1.3554, 1.0472, 0.7986, 0.9466, 1.0571, 0.708, 1.2506, 1.0297, 0.9024, 0.8983, 1.094, 0.7763, 1.0457, 0.4383, 0.5322, 0.5755, 0.7821, 0.75, 0.5439, 0.7496, 0.4044, 0.6624, 0.2736, 0.4156, 0.1688, -0.3558, 0.1026, 2.7808, 2.7591, 2.7549, 2.7515, 2.7033, 2.6835, 2.6811, 2.6258, 2.6249, 2.623, 2.6206, 2.6031, 2.5967, 2.5922, 2.5837, 2.5807, 2.5797, 2.5761, 2.576, 2.5708, 2.5706, 2.5649, 2.5617, 2.5498, 2.549, 2.5327, 2.5327, 2.5281, 2.5255, 2.5145, 2.5142, 2.4258, 2.4684, 2.4398, 2.454, 2.3629, 2.243, 2.3903, 2.3318, 2.0316, 1.889, 1.4925, 2.1549, 1.7454, 1.9821, 1.275, 1.9802, 0.939, 1.4205, 1.5423, 0.8698, 0.8486, 0.9997, 0.8933, 0.9799, 0.919, 0.9297, 0.2256, 0.4449, 0.4157, 0.3157, 0.8486, -0.0209, 2.2198, 2.2198, 2.2198, 2.2198, 2.2198, 2.2198, 2.2198, 2.2198, 2.2198, 2.2198, 2.2198, 2.2198, 2.2198, 2.2198, 2.2198, 2.2198, 2.2198, 2.2198, 2.2198, 2.2198, 2.2198, 2.2198, 2.2198, 2.2198, 2.2198, 2.2198, 2.2198, 2.2198, 2.2142, 2.2076, 2.2075, 2.2044, 2.1764, 2.0196, 2.1232, 2.1491, 1.9199, 1.7398, 2.1047, 2.0558, 1.5507, 1.6434, 1.3473, 1.5916, 1.1946, 1.348, 1.5638, 1.4942, 1.3094, 1.1807, 2.0844, 0.8105, 1.8892, 1.0769, 1.2111, 1.575, 1.2114, 1.4858, 1.3426, 0.6562, 0.8236, 0.5725, 0.4761, 1.1363, 0.9753, 1.3101, 0.8683, 1.2381, 0.5525, 0.5065, 0.4428, 0.5054, 0.4426, 0.4408, -0.0788, 2.4187, 2.4187, 2.4187, 2.4187, 2.4187, 2.4187, 2.4187, 2.4187, 2.4187, 2.4187, 2.4187, 2.4187, 2.4187, 2.4187, 2.4187, 2.4187, 2.4187, 2.4187, 2.4187, 2.4187, 2.4187, 2.4187, 2.4187, 2.4187, 2.4187, 2.4187, 2.4187, 2.4187, 2.4187, 2.4179, 2.4151, 2.4132, 2.3979, 2.3925, 2.3799, 2.3918, 2.3742, 2.3391, 2.3236, 2.3285, 2.1246, 1.9305, 1.8429, 1.5934, 2.0329, 1.4445, 2.0878, 1.1529, 2.0596, 1.7458, 2.1581, 1.6025, 1.351, 1.0833, 1.8642, 1.3386, 2.1755, 2.2632, 0.8572, 1.402, 0.5498, 0.2184, 0.7184, 1.5116, 0.6255, 0.7309, 0.6894, 1.3207, 1.079, 1.3725, 0.3016, 0.3247, 0.7235, 1.4265, 0.9419, 1.0947, 1.9586, 1.9586, 1.9586, 1.9586, 1.9586, 1.9586, 1.9586, 1.9586, 1.9454, 1.933, 1.931, 1.9219, 1.9211, 1.9207, 1.9126, 1.9062, 1.9048, 1.903, 1.9001, 1.8861, 1.8768, 1.8751, 1.8698, 1.8516, 1.8501, 1.8499, 1.8372, 1.837, 1.8332, 1.8331, 1.8294, 1.8258, 1.8224, 1.8191, 1.7837, 1.69, 1.7413, 1.8004, 1.3977, 1.4674, 1.4723, 1.5384, 1.0109, 0.874, 1.7166, 1.0817, 0.8025, 1.2549, 1.2795, 1.1966, 0.8719, 0.9684, 1.3185, 0.8994, 0.6502, 1.1212, 1.2016, 0.8053, 0.431, 0.8279, 0.4075, 0.643, 0.404, 0.5617, 0.3899, 0.3741, -0.0292, 0.2021, 0.2003, 0.6146, 2.6339, 2.6339, 2.6339, 2.6339, 2.6339, 2.6339, 2.6339, 2.6339, 2.6308, 2.6272, 2.6264, 2.6113, 2.605, 2.5978, 2.5976, 2.5817, 2.5742, 2.5742, 2.5714, 2.5569, 2.5449, 2.5432, 2.5424, 2.5311, 2.4824, 2.4769, 2.457, 2.4547, 2.395, 2.3924, 2.3919, 2.2798, 2.1553, 2.0929, 1.8465, 2.0016, 2.0255, 2.0788, 1.553, 1.8459, 2.1062, 1.5642, 2.0589, 1.4631, 1.9251, 1.6727, 1.0171, 1.0443, 1.483, 1.1872, 1.0091, 1.1138, 0.6351, 0.9466, 0.8274, 0.9619, 0.9902, 0.735, 0.5983, 0.6391, 0.3166, 0.1486, 0.9471, -0.3059, 2.2461, 2.2461, 2.2461, 2.2461, 2.2461, 2.2461, 2.2461, 2.2461, 2.2461, 2.2461, 2.2461, 2.2461, 2.2461, 2.2461, 2.2461, 2.2461, 2.2461, 2.2461, 2.2461, 2.2461, 2.2461, 2.2461, 2.2461, 2.2456, 2.2427, 2.2425, 2.2362, 2.2324, 2.1894, 2.1326, 2.0966, 1.9757, 2.032, 2.0311, 1.8305, 1.9589, 1.9542, 1.4297, 2.0855, 2.057, 1.7093, 1.9106, 1.5215, 1.762, 1.1302, 1.1315, 1.06, 0.893, 1.2599, 0.931, 1.5861, 1.3426, 1.7631, 1.4058, 0.1005, 0.7564, 0.6712, 1.1916, 0.1569, 0.4609, 0.698, 0.6381, 1.2269, 0.1537, 0.8466, 0.3794, 0.4105, 0.6331, 0.4368, 0.4973, 0.3057, 0.3674, 0.6412, -0.2425, 2.2007, 2.2007, 2.2007, 2.1763, 2.1763, 2.1542, 2.151, 2.1478, 2.1459, 2.1444, 2.1365, 2.1186, 2.1147, 2.1021, 2.0954, 2.0912, 2.0779, 2.0726, 2.0656, 2.034, 2.0287, 2.0285, 1.9962, 1.9873, 1.985, 1.9618, 1.9488, 1.9456, 1.9447, 1.9398, 1.9393, 1.9393, 1.9214, 1.7785, 1.8655, 1.7502, 1.8691, 1.8287, 1.8379, 1.8867, 1.7046, 1.788, 1.5002, 1.6962, 1.6388, 1.7372, 1.4584, 1.5919, 1.7796, 1.5933, 1.384, 0.8397, 0.8391, 0.8804, 1.229, 1.0962, 0.9924, 1.1056, 1.2811, 1.4115, 0.705, 0.7098, 0.2444, 0.5873, 0.3814, 0.4671, 0.0992, 0.4391, 1.0667, 0.9963, 0.2524, 0.2072, 0.7683, 0.4542, -0.4964, 0.2257, -0.4339, -0.3539, -0.0227, 1.8054, 1.8054, 1.8054, 1.8054, 1.8054, 1.8054, 1.8054, 1.8054, 1.8054, 1.8054, 1.8054, 1.8054, 1.8054, 1.8054, 1.8054, 1.8054, 1.8054, 1.8054, 1.8054, 1.8054, 1.8054, 1.8054, 1.8054, 1.8054, 1.8054, 1.7967, 1.7944, 1.7882, 1.7868, 1.7736, 1.693, 1.7361, 1.7468, 1.7307, 1.7574, 1.7416, 1.7666, 1.7395, 1.7314, 1.7193, 1.472, 1.5238, 1.5488, 1.5295, 1.4468, 1.0957, 1.4292, 1.5587, 1.3416, 1.3281, 1.4037, 1.554, 1.2881, 1.3386, 1.2535, 1.3883, 1.3231, 1.3061, 1.3172, 1.2247, 0.9161, 0.885, 1.0465, 1.027, 0.7274, 0.8983, 1.0589, 0.9763, 0.5785, 0.6444, 0.2771, 0.5316, 0.0804, 0.5065, 0.2199, 0.6469, 0.716, 0.3221, 0.749, -0.1922, 0.4834, 0.851, 0.2505]}, \"token.table\": {\"Topic\": [1, 2, 6, 1, 6, 8, 9, 9, 1, 2, 6, 9, 7, 2, 3, 5, 5, 6, 1, 6, 1, 2, 5, 6, 1, 2, 3, 4, 6, 7, 1, 2, 3, 4, 5, 6, 8, 1, 2, 3, 5, 6, 7, 8, 1, 2, 3, 5, 6, 7, 8, 9, 2, 4, 5, 6, 7, 9, 2, 9, 1, 2, 5, 6, 5, 8, 2, 8, 3, 4, 5, 6, 7, 8, 9, 1, 8, 8, 3, 8, 3, 5, 8, 1, 7, 4, 3, 5, 1, 2, 7, 9, 8, 2, 6, 1, 7, 1, 7, 1, 2, 7, 9, 3, 2, 5, 9, 2, 6, 2, 6, 5, 7, 9, 5, 6, 1, 2, 3, 5, 6, 7, 9, 1, 4, 5, 6, 7, 8, 9, 1, 1, 2, 3, 5, 7, 8, 9, 1, 2, 3, 4, 7, 8, 9, 1, 4, 8, 9, 3, 4, 5, 6, 7, 9, 4, 7, 8, 9, 1, 4, 8, 9, 3, 8, 3, 8, 1, 2, 3, 5, 6, 7, 8, 9, 3, 4, 6, 8, 1, 2, 3, 1, 2, 7, 3, 9, 1, 2, 5, 7, 9, 9, 3, 5, 8, 9, 7, 3, 4, 5, 6, 7, 8, 9, 1, 3, 5, 6, 8, 1, 1, 7, 4, 9, 1, 2, 3, 4, 5, 6, 7, 8, 9, 9, 3, 8, 4, 2, 3, 4, 5, 7, 8, 1, 7, 1, 3, 5, 7, 8, 9, 3, 1, 2, 3, 7, 1, 5, 9, 1, 2, 9, 3, 1, 2, 3, 5, 6, 7, 8, 9, 7, 9, 1, 2, 3, 5, 8, 9, 2, 5, 9, 1, 3, 4, 5, 7, 8, 9, 1, 7, 1, 2, 4, 5, 7, 8, 9, 1, 1, 7, 9, 1, 7, 5, 1, 2, 3, 4, 5, 6, 7, 8, 9, 5, 8, 9, 1, 3, 2, 3, 4, 5, 6, 7, 8, 9, 5, 8, 1, 3, 4, 5, 7, 8, 9, 2, 3, 2, 4, 9, 2, 4, 9, 1, 7, 8, 9, 5, 8, 4, 1, 3, 8, 2, 3, 4, 5, 6, 7, 8, 9, 1, 2, 4, 5, 6, 7, 1, 2, 5, 8, 2, 5, 1, 4, 5, 6, 7, 8, 9, 1, 1, 4, 7, 1, 4, 7, 8, 9, 1, 2, 3, 4, 8, 3, 5, 8, 2, 8, 9, 5, 9, 8, 9, 3, 5, 8, 9, 8, 3, 2, 3, 4, 7, 9, 1, 2, 3, 4, 5, 6, 8, 9, 7, 1, 2, 3, 4, 6, 7, 8, 9, 8, 3, 6, 1, 2, 3, 6, 4, 7, 4, 1, 2, 3, 5, 6, 7, 8, 9, 1, 3, 6, 7, 6, 9, 1, 7, 3, 4, 8, 9, 4, 7, 3, 5, 3, 2, 6, 6, 6, 1, 2, 5, 9, 2, 4, 3, 6, 6, 7, 1, 7, 2, 4, 5, 7, 8, 9, 7, 8, 9, 5, 1, 3, 5, 6, 8, 9, 1, 6, 7, 7, 8, 4, 3, 8, 1, 4, 9, 6, 1, 3, 4, 5, 6, 7, 9, 1, 2, 3, 5, 6, 7, 9, 4, 1, 2, 3, 5, 6, 7, 8, 9, 1, 2, 3, 6, 8, 9, 1, 5, 6, 7, 8, 9, 2, 5, 1, 2, 3, 4, 5, 6, 7, 8, 5, 2, 6, 2, 1, 3, 7, 1, 7, 9, 5, 1, 7, 2, 3, 4, 5, 6, 7, 8, 2, 3, 4, 5, 6, 7, 8, 3, 9, 1, 2, 3, 5, 6, 7, 8, 9, 3, 5, 6, 7, 8, 9, 1, 1, 2, 3, 5, 6, 7, 8, 9, 8, 9, 2, 3, 4, 5, 6, 7, 2, 4, 9, 5, 6, 7, 8, 9, 7, 8, 8, 9, 7, 3, 5, 7, 8, 1, 1, 2, 3, 5, 6, 8, 9, 2, 3, 4, 5, 6, 7, 8, 9, 8, 1, 3, 4, 5, 6, 7, 9, 2, 3, 4, 5, 6, 7, 8, 9, 1, 2, 3, 5, 6, 8, 1, 4, 1, 2, 4, 5, 6, 8, 9, 1, 2, 3, 4, 5, 6, 7, 8, 1, 2, 4, 5, 7, 8, 9, 2, 4, 5, 8, 1, 2, 3, 4, 5, 6, 7, 8, 9, 8, 9, 4, 5, 8, 3, 8, 1, 9, 1, 2, 4, 5, 8, 9, 2, 1, 3, 2, 3, 4, 5, 7, 8, 1, 2, 3, 4, 5, 6, 7, 8, 9, 2, 3, 5, 6, 7, 8, 9, 8, 9, 5, 6, 3, 4, 6, 8, 9, 3, 4, 4, 4, 1, 2, 4, 5, 6, 7, 8, 9, 3, 6, 3, 6, 8, 9, 9, 4, 3, 5, 8, 1, 7, 6, 3, 1, 5, 7, 8, 4, 7, 2, 6, 8, 6, 6, 9, 1, 3, 5, 6, 7, 9, 1, 9, 1, 1, 2, 5, 7, 8, 9, 1, 2, 4, 5, 7, 8, 9, 5, 6, 5, 5, 1, 1, 2, 5, 7, 9, 5, 8, 4, 4, 6, 6, 2, 2, 6, 4, 5, 9, 8, 9, 2, 3, 4, 5, 6, 7, 1, 5, 6, 8, 9, 2, 9, 1, 8, 3, 8, 9, 9, 6, 2, 6, 6, 2, 5, 1, 2, 3, 4, 5, 7, 8, 9, 3, 2, 5, 6, 8, 1, 2, 4, 7, 8, 5, 6, 3, 3, 6, 8, 1, 2, 4, 5, 6, 7, 8, 9, 2, 5, 2, 5, 1, 5, 8, 9, 4, 7, 4, 2, 6, 8, 1, 8, 9, 1, 6, 8, 9, 1, 3, 5, 6, 8, 9, 2, 3, 5, 6, 3, 3, 3, 2, 4, 1, 5, 6, 2, 6, 3, 5, 6, 8, 6, 7, 5, 2, 3, 4, 5, 6, 7, 8, 9, 3, 5, 6, 3, 4, 5, 8, 5, 1, 2, 3, 4, 5, 6, 8, 9, 4, 2, 3, 5, 6, 8, 9, 9, 5, 7, 2, 5, 7, 6, 1, 2, 3, 4, 5, 6, 7, 8, 9, 5, 2, 6, 8, 2, 3, 5, 6, 8, 9, 2, 6, 2, 5, 7, 8, 9, 3, 2, 4, 7, 4, 5, 6, 9, 3, 5, 7, 8, 9, 9, 9, 1, 3, 4, 5, 6, 7, 8, 9, 1, 3, 5, 6, 7, 9, 1, 1, 2, 3, 5, 6, 8, 9, 1, 2, 6, 7, 8, 9, 1, 1, 2, 3, 5, 8, 9, 8, 1, 2, 3, 4, 5, 6, 8, 9, 1, 2, 3, 4, 5, 6, 7, 8, 9, 1, 2, 3, 5, 6, 7, 8, 9, 7, 1, 3, 4, 6, 8, 1, 1, 2, 5, 6, 9, 2, 1, 3, 4, 5, 6, 8, 9, 7, 1, 3, 4, 7, 8, 9, 6, 1, 3, 4, 5, 6, 7, 8, 8, 9, 4, 5, 2, 5, 7, 8, 1, 2, 5, 7, 9, 1, 2, 3, 4, 5, 6, 7, 9, 9, 7, 1, 3, 4, 6, 9, 1, 5, 3, 2, 6, 3, 5, 6, 9, 3, 1, 3, 5, 7, 8, 9, 4, 9, 8, 3, 3, 4, 7, 4, 9, 9, 1, 4, 5, 6, 7, 8, 4, 9, 2, 4, 6, 7, 9, 3, 3, 7, 7, 1, 4, 5, 7, 8, 9, 6, 3, 1, 9, 1, 2, 3, 4, 5, 6, 7, 8, 7, 3, 9, 2, 3, 8, 9, 1, 1, 2, 4, 5, 6, 7, 8, 9, 3, 8, 8, 9, 7, 7, 4, 1, 2, 3, 4, 5, 6, 7, 8, 9, 1, 2, 3, 4, 5, 6, 8, 7, 1, 3, 4, 5, 6, 8, 9, 4, 6, 7, 1, 2, 3, 4, 5, 6, 8, 9, 2, 6, 4, 3, 5, 3, 5, 6, 1, 7, 4, 7, 8, 5, 1, 8, 8, 9, 1, 2, 5, 8, 7, 8, 7, 4, 8, 1, 3, 6, 7, 3, 4, 7, 8, 9, 3, 1, 2, 5, 6, 8, 1, 2, 4, 5, 6, 7, 8, 9, 2, 3, 5, 6, 5, 1, 2, 3, 4, 8, 9, 3, 5, 8, 2, 5, 6, 8, 6, 6, 1, 2, 6, 3, 7, 7, 2, 5, 2, 3, 5, 7, 5, 8, 1, 2, 6, 8, 9, 1, 3, 5, 6, 7, 9, 3, 4, 7, 8, 3, 4, 7, 8, 7, 3, 2, 3, 4, 5, 7, 8, 9, 1, 2, 3, 4, 5, 6, 1, 4, 5, 8, 1, 2, 3, 5, 6, 7, 8, 9, 5, 8, 2, 3, 4, 6, 8, 9, 4, 6, 2, 6, 1, 2, 3, 4, 6, 7, 9, 2, 5, 6, 5, 9, 2, 6, 9, 7, 2, 5, 7, 8, 9, 5, 9, 7, 5, 1, 5, 5, 2, 6, 5, 8, 9, 7, 3, 8, 9, 3, 5, 9, 2, 3, 5, 6, 9, 5, 7, 1, 2, 3, 5, 6, 7, 8, 9, 4, 1, 2, 3, 6, 7, 8, 9, 3, 5, 2, 5, 2, 1, 2, 3, 5, 6, 7, 8, 1, 2, 4, 5, 6, 8, 9, 4, 1, 2, 9, 2, 3, 6, 7, 8, 4, 9, 1, 2, 9, 9, 5, 7, 8, 9, 2, 2, 6, 9, 3, 7, 3, 5, 6, 7, 8, 9, 4, 2, 3, 4, 5, 6, 8, 9, 1, 2, 3, 4, 5, 6, 8, 9, 1, 2, 3, 5, 8, 9, 8, 1, 2, 3, 5, 7, 8, 5, 8, 6, 5, 8, 3, 4, 3, 4, 1, 3, 5, 6, 8, 4, 6, 4, 3, 1, 2, 3, 4, 5, 6, 8, 9, 2, 5, 6, 2, 3, 4, 8, 1, 2, 3, 4, 5, 7, 8, 1, 4, 8, 9, 3, 3], \"Freq\": [0.27148266124572845, 0.610835987802889, 0.06787066531143211, 0.2738686575876141, 0.5477373151752282, 0.10270074659535527, 0.06846716439690352, 0.9828786051850283, 0.029136489215079605, 0.8158216980222289, 0.08740946764523881, 0.05827297843015921, 1.0131516625163635, 0.08842313726972074, 0.08842313726972074, 0.7958082354274867, 0.09828103903837006, 0.8845293513453306, 0.12767519832660773, 0.8937263882862542, 0.6699680172656682, 0.044664534484377884, 0.24565493966407834, 0.044664534484377884, 0.570860141234208, 0.04651453002649102, 0.04651453002649102, 0.16491515191210454, 0.016914374555087645, 0.15645796463456071, 0.30922104362088443, 0.06764210329206848, 0.06764210329206848, 0.038652630452610554, 0.23191578271566332, 0.22225262510251068, 0.06764210329206848, 0.16760857627673642, 0.04788816465049612, 0.07183224697574418, 0.6145647796813669, 0.007981360775082687, 0.015962721550165374, 0.07183224697574418, 0.2816745858318495, 0.22005827018113241, 0.07922097726520767, 0.05281398484347178, 0.03520932322898119, 0.02640699242173589, 0.07041864645796238, 0.22886060098837774, 0.2499132222581667, 0.20581088891849023, 0.30871633337773535, 0.10290544445924511, 0.13230700001902942, 0.01470077777989216, 0.08982414246809055, 0.8982414246809054, 0.08824436853581714, 0.7941993168223542, 0.04412218426790857, 0.04412218426790857, 0.23595247457062557, 0.7668455423545331, 0.9240854455127435, 0.1540142409187906, 0.061327674207643755, 0.16865110407102032, 0.0766595927595547, 0.030663837103821878, 0.030663837103821878, 0.045995755655732815, 0.5979448235245266, 0.23814141408625022, 0.7144242422587507, 0.9148614533686665, 0.1308878711334549, 0.9162150979341844, 0.1339422076075278, 0.20091331141129173, 0.6697110380376391, 0.832395011794444, 0.13873250196574066, 0.9608652082511207, 1.0739554350007192, 1.1012755219542274, 0.5777772177060109, 0.05502640168628675, 0.3026452092745771, 0.08253960252943013, 0.9499714006137726, 0.22496371340454613, 0.7873729969159114, 0.09362980622241718, 0.9362980622241718, 0.832395011794444, 0.13873250196574066, 0.19950276960825783, 0.0748135386030967, 0.5236947702216769, 0.19950276960825783, 0.9898893181673193, 0.8481715055979211, 0.09424127839976901, 0.09424127839976901, 0.3978662203439825, 0.5683803147771178, 0.1957946533469036, 0.7831786133876144, 0.7716993961836955, 0.057162918235829294, 0.1714887547074879, 0.9483153366492326, 0.053678226602786754, 0.4100765450285995, 0.030376040372488852, 0.09112812111746656, 0.21263228260742198, 0.060752080744977704, 0.030376040372488852, 0.15188020186244428, 0.009166906156695204, 0.2612568254658133, 0.2108388416039897, 0.04125107770512842, 0.10083596772364725, 0.14208704542877568, 0.22917265391738012, 0.8628507495840648, 0.014046886275348948, 0.014046886275348948, 0.36521904315907266, 0.11237509020279159, 0.014046886275348948, 0.18260952157953633, 0.29498461178232793, 0.3595938717904476, 0.03099947170607307, 0.1797969358952238, 0.08059862643578998, 0.03099947170607307, 0.043399260388502295, 0.2665954566722284, 0.8142429779460254, 0.11361811294528266, 0.6403930002370477, 0.24789406460788943, 0.24308355150688765, 0.024008252000680262, 0.33911655950960873, 0.05401856700153059, 0.12304229150348635, 0.21607426800612237, 0.3715524336302853, 0.015481351401261887, 0.3251083794264996, 0.29414567662397584, 0.12672980550955407, 0.17425348257563683, 0.47523677066082776, 0.2217771596417196, 0.2943663044540807, 0.7064791306897937, 0.17408737845649325, 0.696349513825973, 0.1114841155802698, 0.06080951758923807, 0.2837777487497777, 0.16215871357130152, 0.050674597991031724, 0.010134919598206345, 0.16215871357130152, 0.15202379397309518, 0.5253191311718319, 0.06180225072609788, 0.03090112536304894, 0.3708135043565873, 0.20112301095980045, 0.8044920438392018, 0.9868431187046947, 0.8750357952437267, 0.10937947440546583, 0.10937947440546583, 0.07507771642758022, 0.9384714553447528, 0.07352100968770033, 0.07352100968770033, 0.4264218561886619, 0.07352100968770033, 0.3381966445634215, 0.9578873475970328, 0.1566793365438053, 0.05222644551460177, 0.026113222757300884, 0.7572834599617256, 0.9903608965314846, 0.11855775778354924, 0.43866370379913217, 0.2134039640103886, 0.011855775778354923, 0.03556732733506477, 0.154125085118614, 0.023711551556709846, 0.0077773101821631664, 0.3188697174686898, 0.13221427309677383, 0.046663861092979, 0.49774785165844265, 1.0176952106687491, 0.832395011794444, 0.13873250196574066, 0.971581414981965, 0.9578873475970328, 0.16200848595599712, 0.06581594741962384, 0.00506276518612491, 0.18732231188662166, 0.10631806890862311, 0.07087871260574874, 0.10631806890862311, 0.01518829555837473, 0.27845208523687004, 1.1088571021415405, 0.17408737845649325, 0.696349513825973, 1.012063973939547, 0.06438359345493286, 0.07296807258225725, 0.06867583301859506, 0.21890421774677174, 0.4421006750572057, 0.13735166603719012, 0.10431981952402315, 0.9388783757162084, 0.8356847055004398, 0.13479089378481732, 0.08986059585654486, 0.022465148964136216, 0.04493029792827243, 0.6964196178882227, 0.8780427031423244, 0.23578090801007154, 0.029472613501258942, 0.11789045400503577, 0.6189248835264378, 0.5209435268589406, 0.04167548214871525, 0.45843030363586773, 0.1511465053573272, 0.8313057794652997, 1.0357684086724188, 0.9972135091557333, 0.17938602515575133, 0.017359937918298516, 0.167812733210219, 0.03471987583659703, 0.05207981375489555, 0.12151956542808962, 0.26618571474724395, 0.16202608723745282, 0.1342082206178541, 0.9394575443249786, 0.03231997953437742, 0.1454399079046984, 0.06463995906875485, 0.11311992837032099, 0.01615998976718871, 0.6302396009203598, 0.8152982989844795, 0.13588304983074656, 0.9495237861167509, 0.29750442644802844, 0.01250018598521128, 0.04250063234971835, 0.31500468682732424, 0.1250018598521128, 0.07250107871422541, 0.1350020086402818, 0.7559700403865732, 0.2159914401104495, 0.14000714028806868, 0.004666904676268956, 0.09333809352537913, 0.0746704748203033, 0.32668332733882693, 0.2566797571947926, 0.10733880755418598, 0.8775674834959433, 0.10876596395504769, 0.7613617476853338, 0.14502128527339692, 0.2007010939133037, 0.8028043756532148, 1.0146627173568465, 0.119040604956902, 0.08771412996824357, 0.18169355493421882, 0.025061179990926736, 0.08771412996824357, 0.037591769986390106, 0.21302002992287725, 0.2255506199183406, 0.025061179990926736, 0.14468226144751944, 0.7716387277201037, 0.04822742048250648, 0.8879742589262397, 0.14799570982103996, 0.02195350357853217, 0.004390700715706434, 0.18440943005967023, 0.33808395510939543, 0.08342331359842226, 0.10098611646124799, 0.10976751789266086, 0.16245592648113807, 0.11408159374416989, 0.9126527499533591, 0.102329511653088, 0.35953612202436325, 0.15487709871818722, 0.016593974862662918, 0.06637589945065167, 0.1216891489928614, 0.17700239853507113, 0.8622202879552323, 1.0089317647100466, 0.054406338342699215, 0.19042218419944726, 0.761688736797789, 0.02427163328572127, 0.08495071650002445, 0.8940051593574001, 1.0715604707371833, 0.9671114805016122, 0.7753529811330576, 0.1938382452832644, 0.12813924312946723, 0.8969747019062706, 0.9934765950188796, 0.3269282727529292, 0.41756185331809764, 0.25571617373743966, 0.14586442487306958, 0.012155368739422464, 0.006077684369711232, 0.37073874655238515, 0.018233053109133698, 0.20056358420047066, 0.024310737478844928, 0.21879663730960436, 0.23646470293788333, 0.15300657248921862, 0.1669162608973294, 0.05563875363244313, 0.027819376816221566, 0.3616518986108804, 0.07533727465363757, 0.02152493561532502, 0.8825223602283259, 0.02152493561532502, 0.08958303896327283, 0.9182261493735464, 0.7390217852564479, 0.019447941717274944, 0.02778277388182135, 0.02222621910545708, 0.08334832164546405, 0.07779176686909978, 0.02778277388182135, 0.9722393705848721, 0.8243499933830856, 0.11776428476901223, 0.04710571390760489, 0.7027646502337791, 0.1114139079638918, 0.11655608833145605, 0.06684834477833508, 0.003428120245042825, 0.595255443966869, 0.019516571933339968, 0.039033143866679935, 0.26347372110008954, 0.07806628773335987, 0.48654185793684845, 0.30728959448643056, 0.17925226345041784, 0.021652387070849023, 0.21652387070849025, 0.7578335474797159, 0.829219132890315, 1.1088571021415405, 0.05935381593950425, 0.9199841470623159, 0.14389514993917998, 0.11991262494931665, 0.5995631247465832, 0.09593009995945331, 1.0178393362387683, 0.9647175540612084, 0.016877766127954153, 0.13502212902363322, 0.40506638707089965, 0.10126659676772491, 0.33755532255908305, 0.03830475182602651, 0.01596031326084438, 0.057457127739039764, 0.07022537834771526, 0.13725869404326166, 0.04788093978253314, 0.14045075669543053, 0.49157764843400686, 0.9685246979804861, 0.07779995575800079, 0.045764679857647525, 0.07322348777223604, 0.21051752734517862, 0.059494083814941784, 0.14187050755870734, 0.0961058277010598, 0.29289395108894417, 0.8767637783666616, 0.9988723437035228, 1.02442539737158, 0.4293556145639755, 0.04293556145639755, 0.0858711229127951, 0.47229117602037307, 1.0691498548686265, 1.0330930111791852, 0.971581414981965, 0.12727459232230953, 0.16969945642974604, 0.016969945642974604, 0.26303415746610637, 0.04242486410743651, 0.016969945642974604, 0.016969945642974604, 0.3478838856809794, 0.2923297996857706, 0.036541224960721326, 0.036541224960721326, 0.6212008243322625, 1.0908282631634183, 0.9578873475970328, 0.9573474431060163, 0.09573474431060162, 0.03303634029446548, 0.759835826772706, 0.06607268058893095, 0.1321453611778619, 0.971581414981965, 1.0330930111791852, 0.9379624013754652, 0.1042180445972739, 0.9993027790292445, 0.005892144622447769, 0.9957724411936729, 0.7657681430008921, 0.998170483201387, 0.7423546975978742, 0.1391915057996014, 0.04639716859986714, 0.09279433719973428, 0.20020027927810707, 0.8008011171124283, 0.047141209725396586, 0.9428241945079318, 0.9836088732820508, 0.04470949424009322, 0.19624019122424102, 0.8129950779289985, 0.028585096034975988, 0.34302115241971187, 0.057170192069951976, 0.24773749896979189, 0.06669855741494397, 0.2572658643147839, 0.7670911170773828, 0.168385854968206, 0.0748381577636471, 1.0431789221870922, 0.21669597386820538, 0.20121769002047643, 0.49530508312732663, 0.030956567695457914, 0.030956567695457914, 0.015478283847728957, 0.5787888496352156, 0.10523433629731192, 0.31570300889193575, 1.0169201822780207, 0.9105974053452304, 1.1319502724433794, 0.1741060095932575, 0.8705300479662875, 0.9916625979149156, 0.9684649738296228, 0.885633046763175, 1.0906741143263607, 0.16734785273026478, 0.2510217790953972, 0.14344101662594125, 0.01195341805216177, 0.31078886935620603, 0.03586025415648531, 0.08367392636513239, 0.04318734945027463, 0.014395783150091544, 0.17274939780109852, 0.2015409641012816, 0.07197891575045771, 0.07917680732550349, 0.4030819282025632, 0.971581414981965, 0.2625633126804675, 0.06965965438461383, 0.03750904466863821, 0.17146991848520327, 0.08037652428993902, 0.17146991848520327, 0.04822591457396341, 0.16075304857987804, 0.06737494851188638, 0.13474989702377277, 0.14597905510908718, 0.08983326468251518, 0.07860410659720078, 0.4716246395832047, 0.1681617762971582, 0.04586230262649769, 0.09172460525299538, 0.015287434208832563, 0.06114973683533025, 0.6267848025621351, 0.9012957848799468, 0.9366663723817653, 0.17834737290345276, 0.008106698768338763, 0.024320096305016286, 0.18645407167179154, 0.1297071802934202, 0.18645407167179154, 0.24320096305016287, 0.03242679507335505, 1.075078961478262, 0.8052753647574377, 0.17895008105720836, 0.9795663536545077, 0.8802648950817157, 0.06287606393440826, 0.06287606393440826, 0.10967573918638303, 0.7677301743046812, 0.14623431891517735, 0.876962461194633, 0.8222609334923427, 0.13704348891539045, 0.13849842742466908, 0.02308307123744485, 0.02308307123744485, 0.06924921371233454, 0.06924921371233454, 0.5770767809361211, 0.06924921371233454, 0.018731329329700563, 0.22477595195640676, 0.03746265865940113, 0.11238797597820338, 0.05619398798910169, 0.43082057458311296, 0.13111930530790394, 1.0031877151668955, 0.9578873475970328, 0.1839971631985177, 0.15333096933209805, 0.04599929079962942, 0.34499468099722064, 0.04599929079962942, 0.17633061473191278, 0.030666193866419614, 0.015333096933209807, 0.08911360854744914, 0.17822721709489828, 0.4633907644467355, 0.035645443418979655, 0.05346816512846948, 0.1960499388043881, 1.0005241469028943, 0.15149102658501679, 0.14490446021175518, 0.006586566373261599, 0.11855819471870878, 0.15149102658501679, 0.17125072570480157, 0.08562536285240079, 0.17783729207806317, 0.06509355415679567, 0.9113097581951395, 0.02620966174388537, 0.02620966174388537, 0.5766125583654781, 0.02620966174388537, 0.07862898523165611, 0.23588695569496831, 0.08142220231501791, 0.8956442254651971, 0.04071110115750896, 0.22257290948711725, 0.11128645474355862, 0.18547742457259772, 0.33385936423067586, 0.14838193965807817, 1.0085018069271279, 0.8467060889966393, 0.9901797989987898, 1.1088571021415405, 1.0127499892986582, 1.045417147894233, 0.9095627523746044, 0.056847672023412774, 0.056847672023412774, 0.7865327994956296, 0.4165301193003265, 0.026033132456270407, 0.008677710818756802, 0.026033132456270407, 0.08677710818756802, 0.19958734883140644, 0.23429819210643366, 0.02124491740439644, 0.02124491740439644, 0.18412261750476913, 0.41781670895312994, 0.20536753490916557, 0.04957147394359169, 0.0637347522131893, 0.04248983480879288, 0.9148614533686665, 0.0422894914307824, 0.0664549151055152, 0.018124067756049602, 0.1147857624549808, 0.036248135512099204, 0.3262332196088928, 0.3987294906330912, 0.03959727137997708, 0.0282837652714122, 0.1131350610856488, 0.09616480192280148, 0.01697025916284732, 0.2262701221712976, 0.1697025916284732, 0.3111214179855342, 0.22854590400836794, 0.015236393600557861, 0.5180373824189674, 0.045709180801673584, 0.07618196800278931, 0.12189114880446289, 0.07460301352202499, 0.8952361622642999, 0.05708185804564951, 0.028540929022824756, 0.028540929022824756, 0.17124557413694855, 0.5422776514336703, 0.028540929022824756, 0.14270464511412378, 0.12492696635684633, 0.004461677369887369, 0.5130928975370475, 0.06692516054831053, 0.044616773698873693, 0.044616773698873693, 0.04015509632898632, 0.16062038531594527, 0.22226999500519373, 0.04041272636458068, 0.1279736334878388, 0.16165090545832272, 0.10103181591145169, 0.12123817909374203, 0.22226999500519373, 0.13016515992787545, 0.026033031985575092, 0.6508257996393773, 0.20826425588460074, 0.10419901220352247, 0.010419901220352247, 0.031259703661056744, 0.14587861708493147, 0.06251940732211349, 0.020839802440704495, 0.14587861708493147, 0.09377911098317022, 0.38553634515303314, 0.20345393226919672, 0.7629522460094877, 0.971581414981965, 1.10786842029582, 0.9713790970512979, 0.3333977606124274, 0.6667955212248547, 0.7763372604970159, 1.1088571021415405, 0.11322571787683976, 0.01415321473460497, 0.35383036836512427, 0.1981450062844696, 0.08491928840762983, 0.2406046504882845, 0.8845990797590078, 0.7050521108303596, 0.23501737027678654, 0.024232608478894743, 0.36348912718342113, 0.2544423890283948, 0.03634891271834211, 0.24232608478894743, 0.0848141296761316, 0.06610763770891702, 0.08644844931166072, 0.03051121740411555, 0.08644844931166072, 0.1423856812192059, 0.06610763770891702, 0.20849331892812292, 0.13730047831851996, 0.17798210152400737, 0.0401727074707998, 0.14060447614779928, 0.0401727074707998, 0.06025906120619969, 0.0200863537353999, 0.24103624482479877, 0.4619861359141977, 0.07663001149164397, 0.9195601378997278, 0.2340578752735837, 0.9362315010943348, 0.5629849743741066, 0.1329270078383307, 0.039096178775979616, 0.15638471510391846, 0.10946930057274293, 1.0739554350007192, 1.1319502724433794, 1.0691498548686265, 1.075912071287533, 0.041123012817885704, 0.03426917734823808, 0.34269177348238083, 0.2467380769073142, 0.13707670939295233, 0.06168451922682855, 0.06853835469647616, 0.06853835469647616, 1.042248412838722, 0.8635413231478285, 0.327232853698933, 0.029748441245357547, 0.594968824907151, 0.029748441245357547, 1.0383929568254682, 1.1319502724433794, 0.38294085425490354, 0.5047856715178274, 0.10443841479679188, 0.19794900562414222, 0.8200744518714463, 0.919811031509849, 1.042248412838722, 0.9696045326172431, 0.2937276596320928, 0.048954609938682135, 0.6364099292028678, 0.9662716179589707, 1.0330930111791852, 0.6970548899771591, 0.13941097799543184, 0.13941097799543184, 0.830183708907573, 0.9325646929125536, 0.04908235225855545, 0.09689235022036945, 0.013841764317195636, 0.041525292951586905, 0.013841764317195636, 0.4844617511018472, 0.3598858722470865, 1.028167631002543, 0.918993413129127, 0.946629897438629, 0.3188776746164897, 0.044288565918956906, 0.3188776746164897, 0.02657313955137414, 0.11515027138928795, 0.16829655049203623, 0.05048094272159981, 0.00721156324594283, 0.07932719570537113, 0.2668278400998847, 0.20192377088639923, 0.07932719570537113, 0.3173087828214845, 0.8489177911536657, 0.08489177911536658, 0.9337863852439305, 0.9698589004705266, 0.9722086341992977, 0.034121471316005, 0.716550897636105, 0.13648588526402, 0.034121471316005, 0.102364413948015, 0.28858117187030274, 0.7695497916541406, 1.0293478155563942, 0.9235642188155558, 0.07696368490129632, 1.0112204703940153, 0.9994601993261598, 0.9707867639206812, 0.02855255188002004, 0.9460967049275412, 0.1900976583676195, 0.760390633470478, 0.9280237694681903, 0.18560475389363806, 0.0438094656534574, 0.0876189313069148, 0.0438094656534574, 0.0438094656534574, 0.0438094656534574, 0.7009514504553184, 0.8376579038009994, 0.20268828272140116, 0.06080648481642034, 0.12161296963284068, 0.6080648481642035, 1.0127088668434694, 0.9578873475970328, 0.22895831073158568, 0.9158332429263427, 0.3606481885227257, 0.5825855353059415, 0.05548433669580395, 1.1088571021415405, 0.8635413231478285, 0.10419130664611571, 0.9377217598150414, 0.7750520879256786, 0.7627635121228136, 0.21793243203508958, 0.24770567920327358, 0.0046736920604391234, 0.21031614271976057, 0.07010538090658686, 0.07945276502746511, 0.16357922211536932, 0.07010538090658686, 0.14955814593405195, 1.042248412838722, 0.09685847879163874, 0.43586315456237434, 0.38743391516655495, 0.07264385909372906, 0.03849655961138468, 0.01776764289756216, 0.2813210125447342, 0.00296127381626036, 0.6544415133935395, 0.21146343317007735, 0.8458537326803094, 1.0739554350007192, 0.7343587232590487, 0.059542599183166116, 0.19847533061055372, 0.07739299246974123, 0.03869649623487061, 0.13930738644553423, 0.1625252841864566, 0.18574318192737896, 0.10835018945763772, 0.14704668569250834, 0.13930738644553423, 0.871626714376838, 0.29054223812561264, 0.8037294588667965, 0.20093236471669912, 0.7540978095086007, 0.09426222618857509, 0.09426222618857509, 0.09426222618857509, 0.715170586146718, 0.2925697852418392, 0.9644743378352828, 0.09632036098031432, 0.6742425268622003, 0.19264072196062865, 0.4209512448185549, 0.14350610618814372, 0.4400853923103074, 0.2958188798560804, 0.018488679991005025, 0.4437283197841206, 0.24035283988306533, 0.43299929782757074, 0.12829608824520614, 0.032074022061301534, 0.016037011030650767, 0.38488826473561843, 0.016037011030650767, 0.03881699766230967, 0.4075784754542516, 0.46580397194771606, 0.09704249415577418, 0.9683945898307887, 1.0739554350007192, 1.0026517855899575, 0.03443507943093166, 0.9641822240660864, 0.06161042015046753, 0.3696625209028052, 0.5544937813542078, 0.7291467997417594, 0.2734300499031598, 0.9908556285940502, 0.23622541090216306, 0.09449016436086523, 0.6614311505260566, 0.1351459940002158, 0.8559246286680333, 1.2565034608719807, 0.02274485783532986, 0.19105680581677084, 0.12282223231078125, 0.26838932245689234, 0.13646914701197918, 0.02274485783532986, 0.07733251664012153, 0.15921400484730902, 0.706266663555493, 0.1926181809696799, 0.06420606032322664, 0.31283812369538266, 0.5660880333535496, 0.014897053509303936, 0.08938232105582362, 1.0071670923761589, 0.31789603426998214, 0.051901393350201164, 0.18814255089447923, 0.019463022506325436, 0.019463022506325436, 0.16219185421937865, 0.17516720255692894, 0.06487674168775145, 0.971581414981965, 0.041920879040296226, 0.48907692213678927, 0.013973626346765407, 0.08384175808059245, 0.2934461532820736, 0.08384175808059245, 0.9578873475970328, 1.0063892472571037, 1.0067573099199822, 0.8193701444283983, 0.12605694529667666, 0.12605694529667666, 1.0208303787381328, 0.12357007475345848, 0.059654518846497195, 0.008522074120928171, 0.11930903769299439, 0.38775437250223177, 0.004261037060464086, 0.16618044535809934, 0.004261037060464086, 0.11930903769299439, 1.0493000379856439, 0.970166440587831, 0.042181149590775256, 0.9308288742212694, 0.44213619226563383, 0.1607767971875032, 0.0401941992968758, 0.1205825978906274, 0.2411651957812548, 0.0401941992968758, 0.8750315371525165, 0.08750315371525165, 0.06847219006267602, 0.8901384708147881, 0.01956348287505029, 0.009781741437525145, 0.009781741437525145, 1.0739554350007192, 0.031505632926218906, 0.693123924376816, 0.2835506963359702, 0.33527327083085173, 0.21921713862017228, 0.20632201281898568, 0.23211226442135888, 0.13608360210998027, 0.09072240140665351, 0.022680600351663378, 0.045361200703326755, 0.6804180105499014, 0.9309829329551039, 1.1088571021415405, 0.11059779736115542, 0.05529889868057771, 0.265434713666773, 0.1327173568333865, 0.18801625551396423, 0.08847823788892434, 0.11059779736115542, 0.04423911894446217, 0.038666619521772694, 0.11599985856531808, 0.11599985856531808, 0.038666619521772694, 0.05799992928265904, 0.6186659123483631, 0.9418603116145163, 0.013961770913348102, 0.013961770913348102, 0.041885312740044305, 0.08377062548008861, 0.08377062548008861, 0.16754125096017722, 0.5724326074472722, 0.14875581234572793, 0.08925348740743677, 0.059502324938291176, 0.3768480579425108, 0.09917054156381863, 0.22809224559678284, 1.1077760327932378, 0.05547395089887767, 0.11094790179775534, 0.07396526786517023, 0.14793053573034046, 0.018491316966292557, 0.6102134598876544, 0.8332998495926804, 0.2548882165848877, 0.06520396238218058, 0.16597372242736874, 0.11262502593285736, 0.12448029182052656, 0.19561188714654174, 0.03556579766300759, 0.041493430606842185, 0.04008884496373959, 0.27616759863909496, 0.04008884496373959, 0.04899747717790394, 0.031180212749575234, 0.04454316107082176, 0.16035537985495835, 0.02227158053541088, 0.3385280241382454, 0.2255149287089681, 0.07752075674370779, 0.09866278131017356, 0.014094683044310507, 0.03523670761077627, 0.2572279655586668, 0.08104442750478542, 0.20437290414250237, 0.9981819025227234, 0.09905257709977601, 0.3537592039277715, 0.43866141287043664, 0.056601472628443436, 0.049526288549888005, 0.8727373878374063, 0.85896872003168, 0.36212281376256805, 0.30494552737900465, 0.2668273364566291, 0.057177286383563376, 0.8372263783301316, 0.26175098169020145, 0.5365895124649129, 0.07852529450706043, 0.013087549084510073, 0.013087549084510073, 0.07852529450706043, 0.013087549084510073, 0.9574018079452954, 0.09220633411706729, 0.24824782262287345, 0.14185589864164197, 0.07802074425290309, 0.22696943782662715, 0.21987664289454506, 1.0510822567801417, 0.22208427455400398, 0.16948536742279252, 0.11688646029158105, 0.15195239837905536, 0.08766484521868578, 0.19870698249568777, 0.05259890713121147, 0.9930057036437566, 1.1088571021415405, 1.0192804415869758, 0.9467989351618075, 0.41215564750304384, 0.16743823179811157, 0.34775632758069325, 0.07727918390682072, 0.19432309181619495, 0.5343885024945361, 0.09716154590809747, 0.09716154590809747, 0.09716154590809747, 0.31018477021573265, 0.15509238510786633, 0.05169746170262211, 0.10339492340524423, 0.1206274106394516, 0.04308121808551842, 0.1809411159591774, 0.04308121808551842, 1.0137452659205157, 1.0237930018791301, 0.36222714369715625, 0.4158904242448831, 0.09391074095852199, 0.02012373020539757, 0.1073265610954537, 0.08669830093121675, 0.8669830093121674, 1.042248412838722, 0.695318863589217, 0.3476594317946085, 0.138186191622332, 0.16121722355938733, 0.023031031937055333, 0.6678999261746046, 1.042248412838722, 0.07931938849544744, 0.13880892986703303, 0.0991492356193093, 0.01982984712386186, 0.01982984712386186, 0.6345551079635795, 0.971581414981965, 1.0278058901075622, 1.0612136052891308, 1.0955778276107928, 0.31718540383659155, 0.5074966461385465, 0.17445197211012534, 0.8367731840019744, 0.05976951314299817, 0.9578873475970328, 0.032136738486167604, 0.12854695394467042, 0.14997144626878214, 0.3427918771857878, 0.16068369243083802, 0.18210818475494975, 1.0691498548686265, 0.9578873475970328, 0.0881146484135931, 0.6168025388951517, 0.05286878904815586, 0.21147515619262344, 0.03524585936543724, 1.0486348225459607, 0.9040510306643093, 0.11300637883303866, 1.020876972844448, 0.47009173074405924, 0.08781933431482426, 0.11881439348476223, 0.11364855028977257, 0.06199011833987595, 0.1498094526547002, 1.06351891822266, 1.0207451621016321, 0.04670697783525093, 0.9341395567050186, 0.14904947984848668, 0.009315592490530418, 0.018631184981060835, 0.23288981226326044, 0.16768066482954752, 0.19562744230113877, 0.18631184981060836, 0.0558935549431825, 1.0330930111791852, 1.0110813933442298, 1.0000044498772753, 0.08309720900058509, 0.08309720900058509, 0.7478748810052658, 0.08309720900058509, 0.9747533709882958, 0.0316108958088725, 0.042147861078496655, 0.042147861078496655, 0.09483268742661748, 0.10010117006142956, 0.30557199281910075, 0.1791284095836108, 0.21073930539248328, 0.8896917896643062, 0.17793835793286125, 0.08981950660484915, 0.8981950660484915, 0.9999472186736555, 1.0173608170895043, 1.075912071287533, 0.22789798278538706, 0.029725823841572224, 0.049543039735953705, 0.009908607947190742, 0.10899468741909815, 0.03963443178876297, 0.049543039735953705, 0.29725823841572224, 0.1882635509966241, 0.2095526109339717, 0.16764208874717737, 0.13411367099774188, 0.10896735768566529, 0.22631681980868945, 0.025146313312076604, 0.12573156656038303, 0.9685246979804861, 0.043268167925129324, 0.03708700107868228, 0.129804503775388, 0.15452917116117618, 0.024724667385788185, 0.19779733908630548, 0.4079570118655051, 0.6867746986027787, 0.0549419758882223, 0.24723889149700032, 0.03192008526753032, 0.00798002131688258, 0.10374027711947353, 0.0798002131688258, 0.20748055423894707, 0.1995005329220645, 0.0399001065844129, 0.33516089530906834, 0.6831768344712953, 0.34158841723564765, 0.971581414981965, 0.06880115381496983, 0.9632161534095777, 0.05690339730002806, 0.7966475622003928, 0.11380679460005612, 1.0348438792892192, 1.0127495088763958, 0.9700189304725317, 0.873212426896635, 0.14553540448277252, 0.8872857936657771, 1.0537334665895466, 0.9493439688666115, 0.7027242042599692, 0.30116751611141535, 0.1967200489795396, 0.1530044825396419, 0.6120179301585676, 0.03642963869991474, 0.9840412528623735, 0.948135882238223, 1.0330930111791852, 0.971581414981965, 0.5711632343764769, 0.037645566999833645, 0.26351896899883553, 0.5646835049975047, 0.11293670099950094, 0.24211521547228013, 0.13450845304015563, 0.013450845304015562, 0.3362711326003891, 0.26901690608031126, 1.042248412838722, 1.0286551036427631, 0.10229892145796596, 0.20459784291593192, 0.6137935287477958, 0.05114946072898298, 0.06532198433339581, 0.09253947780564407, 0.06532198433339581, 0.20685295038908674, 0.13064396866679162, 0.125200469972342, 0.03810449086114756, 0.27217493472248255, 0.0389530845851122, 0.0389530845851122, 0.46743701502134644, 0.4544526534929757, 0.9921147450584257, 0.22701089751863138, 0.0472939369830482, 0.4067278580542145, 0.14188181094914462, 0.0945878739660964, 0.08512908656948677, 0.06875480738442472, 0.8938124959975212, 0.06875480738442472, 0.07007467561068052, 0.14014935122136105, 0.07007467561068052, 0.7007467561068051, 0.9989129869275862, 0.9813755727393662, 1.0738580806684468, 0.8672552665448029, 0.15768277573541872, 1.004985512410337, 1.0330930111791852, 1.0330930111791852, 0.48161352259604834, 0.5274814771290053, 0.5861452568339646, 0.07563164604309221, 0.32143449568314186, 0.018907911510773052, 0.8677885773964096, 0.2169471443491024, 0.25057219088718374, 0.4593823499598369, 0.04176203181453063, 0.04176203181453063, 0.25057219088718374, 0.12266046916120507, 0.020443411526867513, 0.3270945844298802, 0.030665117290301268, 0.030665117290301268, 0.47019846511795277, 0.09219246626288255, 0.19755528484903404, 0.6585176161634468, 0.05268140929307574, 0.04335826389972553, 0.7804487501950597, 0.04335826389972553, 0.1300747916991766, 1.0330930111791852, 1.0739554350007192, 0.18677240495937986, 0.11206344297562791, 0.36109331625480107, 0.11206344297562791, 0.11206344297562791, 0.049805974655834626, 0.062257468319793285, 0.12319075317598191, 0.019451171554102406, 0.6159537658799096, 0.06483723851367469, 0.12967447702734938, 0.04538606695957228, 0.8422267016805863, 0.10106720420167035, 0.0673781361344469, 1.0703408128892196, 0.12519697549775186, 0.07303156904035525, 0.10433081291479321, 0.04173232516591729, 0.2399608697040244, 0.04173232516591729, 0.10433081291479321, 0.27126011357846236, 0.16248917624662096, 0.8124458812331048, 0.0401419487498768, 0.2207807181243224, 0.0401419487498768, 0.0401419487498768, 0.401419487498768, 0.2408516924992608, 0.971581414981965, 0.9634465859324735, 0.06691782944148802, 0.9368496121808324, 0.5401920348840247, 0.01742554951238789, 0.16263846211562033, 0.07551071455368086, 0.08712774756193946, 0.029042582520646485, 0.09293626406606875, 0.17662876278406564, 0.22078595348008204, 0.5740434790482133, 1.0362451442812872, 0.9914060893165051, 0.695318863589217, 0.3476594317946085, 1.1088571021415405, 1.0171427461430382, 0.6373693275361378, 0.10622822125602298, 0.05311411062801149, 0.05311411062801149, 0.15934233188403446, 0.9989171108824009, 0.9578873475970328, 1.0207342288020897, 0.9444117153063799, 0.6112104988915354, 0.7224834422084793, 0.932794344127294, 0.5951844955882735, 0.9266972398898653, 0.8397283465744261, 0.139954724429071, 0.9578873475970328, 1.0330930111791852, 0.20119712118513008, 0.1257482007407063, 0.6538906438516727, 0.24080032242899385, 0.03802110354142008, 0.7224009672869816, 0.2866553302205454, 0.05733106604410908, 0.07644142139214544, 0.03822071069607272, 0.5350899497450181, 0.8348206517920023, 0.09275785019911136, 0.19348030271111516, 0.1568759211171204, 0.1045839474114136, 0.2091678948228272, 0.04183357896456544, 0.15164672374654972, 0.06275036844684816, 0.0784379605585602, 1.1319502724433794, 0.17015750189578951, 0.04640659142612441, 0.04640659142612441, 0.030937727617416276, 0.4021904590264116, 0.21656409332191393, 0.0773443190435407, 0.10655046404604376, 0.8524037123683501, 0.8746708121720644, 0.12495297316743777, 0.6577332263818793, 0.37675418667408367, 0.012352596284396186, 0.16058375169715042, 0.02470519256879237, 0.030881490710990462, 0.265580820114518, 0.12352596284396185, 0.20975872489033473, 0.08739946870430614, 0.01747989374086123, 0.2971581935946409, 0.3146380873355021, 0.08739946870430614, 0.01747989374086123, 0.971581414981965, 0.794419838505736, 0.02482561995330425, 0.198604959626434, 0.06441073343322226, 0.22543756701627793, 0.06441073343322226, 0.12882146686644452, 0.5474912341823893, 0.971581414981965, 1.1088571021415405, 0.9274580356060719, 0.8240097581772001, 0.20600243954430003, 1.0171210014069452, 0.2836687408681643, 0.03545859260852054, 0.5318788891278081, 0.14183437043408215, 0.980001764006989, 0.7122595238396963, 0.11870992063994938, 0.11870992063994938, 0.8880807339560393, 0.11101009174450491, 0.04990581175175998, 0.09981162350351996, 0.016635270583919993, 0.13308216467135994, 0.14971743525527995, 0.5655991998532798, 1.1319502724433794, 0.09492458198896946, 0.4176681607514656, 0.018984916397793893, 0.28477374596690835, 0.018984916397793893, 0.018984916397793893, 0.13289441478455724, 0.09423379781685262, 0.09423379781685262, 0.011086329154923838, 0.3769351912674105, 0.205097089366091, 0.04988848119715727, 0.09977696239431454, 0.06651797492954302, 0.04022419329720354, 0.04022419329720354, 0.33520161081002947, 0.10726451545920943, 0.18771290205361651, 0.2681612886480236, 0.8699032481931247, 0.4070205260484381, 0.14198390443550166, 0.25557102798390297, 0.09465593629033443, 0.03786237451613377, 0.04732796814516722, 0.2640245937806001, 0.7920737813418004, 0.8840624404094222, 0.8115456157410953, 0.18034347016468785, 0.9510126833197045, 0.9957202441770178, 0.03875084106901814, 0.9687710267254535, 0.5547439145430743, 0.029197048133846014, 0.2627734332046141, 0.11678819253538406, 0.029197048133846014, 0.9169266009714865, 0.08335696372468059, 0.971581414981965, 0.8676918531530327, 0.17369155692341295, 0.019850463648390052, 0.06947662276936518, 0.17865417283551047, 0.17369155692341295, 0.3374578820226309, 0.03473831138468259, 0.009925231824195026, 0.7922044833921753, 0.13203408056536256, 0.13203408056536256, 0.05924099075491688, 0.8195003721096835, 0.009873498459152813, 0.10860848305068095, 0.03462203416325956, 0.061550282956905886, 0.17311017081629781, 0.003846892684806618, 0.5693401173513795, 0.08847853175055222, 0.0653971756417125, 0.35792635764459274, 0.0550655934837835, 0.440524747870268, 0.13766398370945876, 1.042248412838722, 0.9972678536729064], \"Term\": [\"11\", \"11\", \"11\", \"15\", \"15\", \"15\", \"15\", \"16\", \"19\", \"19\", \"19\", \"19\", \"1974\", \"1990\", \"1990\", \"1990\", \"1993\", \"1993\", \"2002\", \"2002\", \"2011\", \"2011\", \"2011\", \"2011\", \"2014\", \"2014\", \"2014\", \"2014\", \"2014\", \"2014\", \"2016\", \"2016\", \"2016\", \"2016\", \"2016\", \"2016\", \"2016\", \"2017\", \"2017\", \"2017\", \"2017\", \"2017\", \"2017\", \"2017\", \"2018\", \"2018\", \"2018\", \"2018\", \"2018\", \"2018\", \"2018\", \"2018\", \"2019\", \"2019\", \"2019\", \"2019\", \"2019\", \"2019\", \"25\", \"25\", \"26\", \"26\", \"26\", \"26\", \"30\", \"30\", \"31\", \"31\", \"40\", \"40\", \"40\", \"40\", \"40\", \"40\", \"40\", \"400\", \"400\", \"500\", \"5000\", \"5000\", \"aa\", \"aa\", \"aa\", \"abdullah\", \"abdullah\", \"adskille\", \"adskilt\", \"afholdelse\", \"afh\\u00f8re\", \"afh\\u00f8re\", \"afh\\u00f8re\", \"afh\\u00f8re\", \"aflede\", \"aftjene\", \"aftjene\", \"aircondition\", \"aircondition\", \"akhbar\", \"akhbar\", \"al\", \"al\", \"al\", \"al\", \"aljahraomr\\u00e5de\", \"alshabaab\", \"alshabaab\", \"alshabaab\", \"amhari\", \"amhari\", \"amharisk\", \"amharisk\", \"angiv\", \"angiv\", \"angiv\", \"angive\", \"angive\", \"angivelig\", \"angivelig\", \"angivelig\", \"angivelig\", \"angivelig\", \"angivelig\", \"angivelig\", \"angiveligt\", \"angiveligt\", \"angiveligt\", \"angiveligt\", \"angiveligt\", \"angiveligt\", \"angiveligt\", \"angribe\", \"ang\\u00e5\", \"ang\\u00e5\", \"ang\\u00e5\", \"ang\\u00e5\", \"ang\\u00e5\", \"ang\\u00e5\", \"ang\\u00e5\", \"anholde\", \"anholde\", \"anholde\", \"anholde\", \"anholde\", \"anholde\", \"anholde\", \"ansvarlig\", \"ans\\u00f8g\", \"ans\\u00f8g\", \"ans\\u00f8g\", \"ans\\u00f8gere\", \"ans\\u00f8gere\", \"ans\\u00f8gere\", \"ans\\u00f8gere\", \"ans\\u00f8gere\", \"ans\\u00f8gere\", \"ans\\u00f8gerne\", \"ans\\u00f8gerne\", \"ans\\u00f8gerne\", \"ans\\u00f8gerne\", \"ans\\u00f8gers\", \"ans\\u00f8gers\", \"ans\\u00f8gers\", \"ans\\u00f8gers\", \"arabic\", \"arabic\", \"arabien\", \"arabien\", \"arbejde\", \"arbejde\", \"arbejde\", \"arbejde\", \"arbejde\", \"arbejde\", \"arbejde\", \"arbejde\", \"arbejdsgiver\", \"arbejdsgiver\", \"arbejdsgiver\", \"arbejdsgiver\", \"arbejdsmarked\", \"arbejdsmarked\", \"arbejdsplads\", \"artikel\", \"artikel\", \"artikel\", \"as\", \"as\", \"asyl\", \"asyl\", \"asyl\", \"asyl\", \"asyl\", \"asylans\\u00f8gere\", \"asylgrundlag\", \"asylgrundlag\", \"asylgrundlag\", \"asylgrundlag\", \"asylretligt\", \"asylsamtal\", \"asylsamtal\", \"asylsamtal\", \"asylsamtal\", \"asylsamtal\", \"asylsamtal\", \"asylsamtal\", \"asylsamtale\", \"asylsamtale\", \"asylsamtale\", \"asylsamtale\", \"asylsamtale\", \"asylskema\", \"atallah\", \"atallah\", \"avlingstid\", \"badtoilet\", \"baggrund\", \"baggrund\", \"baggrund\", \"baggrund\", \"baggrund\", \"baggrund\", \"baggrund\", \"baggrund\", \"baggrund\", \"baggrundsmaterialet\", \"bahrain\", \"bahrain\", \"bar\", \"barn\", \"barn\", \"barn\", \"barn\", \"barn\", \"barn\", \"bedoonbefolkning\", \"bedoonbefolkning\", \"bed\\u00f8mmels\", \"bed\\u00f8mmelse\", \"bed\\u00f8mmelse\", \"bed\\u00f8mmelse\", \"bed\\u00f8mmelse\", \"bed\\u00f8mmelse\", \"befandt\", \"begrunde\", \"begrunde\", \"begrunde\", \"begrunde\", \"begyndelse\", \"begyndelse\", \"begyndelse\", \"belaste\", \"belaste\", \"belgisk\", \"beliggende\", \"bem\\u00e6rke\", \"bem\\u00e6rke\", \"bem\\u00e6rke\", \"bem\\u00e6rke\", \"bem\\u00e6rke\", \"bem\\u00e6rke\", \"bem\\u00e6rke\", \"bem\\u00e6rke\", \"beskrivelse\", \"beskrivelse\", \"betingelserne\", \"betingelserne\", \"betingelserne\", \"betingelserne\", \"betingelserne\", \"betingelserne\", \"bevidst\", \"bevidst\", \"bevism\\u00e6ssig\", \"bidoon\", \"bidoon\", \"bidoon\", \"bidoon\", \"bidoon\", \"bidoon\", \"bidoon\", \"bidoone\", \"bidoone\", \"bidooner\", \"bidooner\", \"bidooner\", \"bidooner\", \"bidooner\", \"bidooner\", \"bidooner\", \"bidooners\", \"bidun\", \"bidun\", \"bidun\", \"bidune\", \"bidune\", \"biseksuel\", \"blive\", \"blive\", \"blive\", \"blive\", \"blive\", \"blive\", \"blive\", \"blive\", \"blive\", \"blok\", \"blok\", \"blok\", \"blot\", \"blot\", \"bo\", \"bo\", \"bo\", \"bo\", \"bo\", \"bo\", \"bo\", \"bo\", \"bod\", \"bod\", \"bop\\u00e6l\", \"bop\\u00e6l\", \"bop\\u00e6l\", \"bop\\u00e6l\", \"bop\\u00e6l\", \"bop\\u00e6l\", \"bop\\u00e6l\", \"brand\", \"bringe\", \"broder\", \"broder\", \"broder\", \"bror\", \"bror\", \"bror\", \"bydel\", \"b\\u00f8rne\", \"cder\", \"cder\", \"civilkl\\u00e6dt\", \"civilkl\\u00e6dt\", \"comr\\u00e5d\", \"dag\", \"dag\", \"dag\", \"danmark\", \"danmark\", \"danmark\", \"danmark\", \"danmark\", \"danmark\", \"danmark\", \"danmark\", \"dansk\", \"dansk\", \"dansk\", \"dansk\", \"dansk\", \"dansk\", \"dato\", \"dato\", \"dato\", \"dato\", \"dav\\u00e6rende\", \"dav\\u00e6rende\", \"deltage\", \"deltage\", \"deltage\", \"deltage\", \"deltage\", \"deltage\", \"deltage\", \"deltager\", \"demonstrant\", \"demonstrant\", \"demonstrant\", \"demonstration\", \"demonstration\", \"demonstration\", \"demonstration\", \"demonstration\", \"demonstratione\", \"demonstratione\", \"demonstratione\", \"demonstratione\", \"demonstratione\", \"derimod\", \"derimod\", \"derimod\", \"derudover\", \"derudover\", \"derudover\", \"desertere\", \"detaljerer\", \"dialekt\", \"dialekt\", \"dinar\", \"dinar\", \"dinar\", \"dinar\", \"dinare\", \"diskussion\", \"divergense\", \"divergense\", \"divergense\", \"divergense\", \"divergense\", \"divergere\", \"divergere\", \"divergere\", \"divergere\", \"divergere\", \"divergere\", \"divergere\", \"divergere\", \"diwaniya\", \"dokument\", \"dokument\", \"dokument\", \"dokument\", \"dokument\", \"dokument\", \"dokument\", \"dokument\", \"dollar\", \"dreng\", \"d\\u00e5bsattest\", \"d\\u00f8d\", \"d\\u00f8d\", \"d\\u00f8d\", \"d\\u00f8d\", \"d\\u00f8ter\", \"d\\u00f8trene\", \"efterstr\\u00e6be\", \"efter\\u00e5r\", \"efter\\u00e5r\", \"efter\\u00e5r\", \"efter\\u00e5r\", \"efter\\u00e5r\", \"efter\\u00e5r\", \"efter\\u00e5r\", \"efter\\u00e5r\", \"egen\", \"egen\", \"egen\", \"egen\", \"egentlig\", \"eksempler\", \"emir\", \"emir\", \"enkelt\", \"enkelt\", \"enkelt\", \"enkelt\", \"enkeltvis\", \"enslydende\", \"episod\", \"episod\", \"episode\", \"eritrea\", \"eritrea\", \"eritrean\", \"eritreisk\", \"erkl\\u00e6ring\", \"erkl\\u00e6ring\", \"erkl\\u00e6ring\", \"erkl\\u00e6ring\", \"es\", \"es\", \"etiopien\", \"etiopien\", \"etiopisk\", \"etiopisk\", \"fald\", \"fald\", \"falsk\", \"falsk\", \"falsk\", \"falsk\", \"falsk\", \"falsk\", \"familiemedlem\", \"familiemedlem\", \"familiemedlem\", \"fange\", \"far\", \"far\", \"far\", \"far\", \"far\", \"far\", \"farbror\", \"farbror\", \"farbror\", \"farbr\\u00f8der\", \"farwaniya\", \"fasts\\u00e6tte\", \"fattig\", \"fattig\", \"femte\", \"filmoptagelse\", \"fjernsyn\", \"flugten\", \"flygte\", \"flygte\", \"flygte\", \"flygte\", \"flygte\", \"flygte\", \"flygte\", \"flygtningen\\u00e6vne\", \"flygtningen\\u00e6vne\", \"flygtningen\\u00e6vne\", \"flygtningen\\u00e6vne\", \"flygtningen\\u00e6vne\", \"flygtningen\\u00e6vne\", \"flygtningen\\u00e6vne\", \"folke\", \"forbindelse\", \"forbindelse\", \"forbindelse\", \"forbindelse\", \"forbindelse\", \"forbindelse\", \"forbindelse\", \"forbindelse\", \"forekomme\", \"forekomme\", \"forekomme\", \"forekomme\", \"forekomme\", \"forekomme\", \"foreliggende\", \"foreliggende\", \"foreliggende\", \"foreliggende\", \"foreliggende\", \"foreliggende\", \"forfalske\", \"forfulgt\", \"forf\\u00f8lgelse\", \"forf\\u00f8lgelse\", \"forf\\u00f8lgelse\", \"forf\\u00f8lgelse\", \"forf\\u00f8lgelse\", \"forf\\u00f8lgelse\", \"forf\\u00f8lgelse\", \"forf\\u00f8lgelse\", \"forg\\u00e6ves\", \"forl\\u00e6nge\", \"forl\\u00e6nge\", \"forl\\u00e6ngelse\", \"forl\\u00f8b\", \"forl\\u00f8b\", \"forl\\u00f8b\", \"formel\", \"formel\", \"formel\", \"formodning\", \"forsamling\", \"forsamling\", \"forskellig\", \"forskellig\", \"forskellig\", \"forskellig\", \"forskellig\", \"forskellig\", \"forskellig\", \"forskelligt\", \"forskelligt\", \"forskelligt\", \"forskelligt\", \"forskelligt\", \"forskelligt\", \"forskelligt\", \"fortalt\", \"fortrinsvis\", \"for\\u00e5r\", \"for\\u00e5r\", \"for\\u00e5r\", \"for\\u00e5r\", \"for\\u00e5r\", \"for\\u00e5r\", \"for\\u00e5r\", \"for\\u00e5r\", \"for\\u00e6lder\", \"for\\u00e6lder\", \"for\\u00e6lder\", \"for\\u00e6lder\", \"for\\u00e6lder\", \"for\\u00e6lder\", \"fredeligt\", \"fremg\\u00e5\", \"fremg\\u00e5\", \"fremg\\u00e5\", \"fremg\\u00e5\", \"fremg\\u00e5\", \"fremg\\u00e5\", \"fremg\\u00e5\", \"fremg\\u00e5\", \"fremh\\u00e6ve\", \"fremh\\u00e6ve\", \"fremlagt\", \"fremlagt\", \"fremlagt\", \"fremlagt\", \"fremlagt\", \"fremlagt\", \"fremskaffe\", \"fremskaffe\", \"fremskaffe\", \"fremst\\u00e5\", \"fremst\\u00e5\", \"fremst\\u00e5\", \"fremst\\u00e5\", \"fremst\\u00e5\", \"fremviste\", \"frie\", \"frieri\", \"fuldst\\u00e6ndig\", \"fulgtes\", \"f\\u00e5r\", \"f\\u00e6lles\", \"f\\u00e6lles\", \"f\\u00e6lles\", \"f\\u00e6ngs\", \"f\\u00e6ngsel\", \"f\\u00e6ngsel\", \"f\\u00e6ngsel\", \"f\\u00e6ngsel\", \"f\\u00e6ngsel\", \"f\\u00e6ngsel\", \"f\\u00e6ngsel\", \"f\\u00f8de\", \"f\\u00f8de\", \"f\\u00f8de\", \"f\\u00f8de\", \"f\\u00f8de\", \"f\\u00f8de\", \"f\\u00f8de\", \"f\\u00f8de\", \"f\\u00f8dsl\", \"f\\u00f8lge\", \"f\\u00f8lge\", \"f\\u00f8lge\", \"f\\u00f8lge\", \"f\\u00f8lge\", \"f\\u00f8lge\", \"f\\u00f8lge\", \"f\\u00f8re\", \"f\\u00f8re\", \"f\\u00f8re\", \"f\\u00f8re\", \"f\\u00f8re\", \"f\\u00f8re\", \"f\\u00f8re\", \"f\\u00f8re\", \"f\\u00f8rste\", \"f\\u00f8rste\", \"f\\u00f8rste\", \"f\\u00f8rste\", \"f\\u00f8rste\", \"f\\u00f8rste\", \"gades\\u00e6lge\", \"gades\\u00e6lge\", \"gammel\", \"gammel\", \"gammel\", \"gammel\", \"gammel\", \"gammel\", \"gammel\", \"gang\", \"gang\", \"gang\", \"gang\", \"gang\", \"gang\", \"gang\", \"gang\", \"generel\", \"generel\", \"generel\", \"generel\", \"generel\", \"generel\", \"generel\", \"gift\", \"gift\", \"gift\", \"gift\", \"give\", \"give\", \"give\", \"give\", \"give\", \"give\", \"give\", \"give\", \"give\", \"golf\", \"golf\", \"graviditet\", \"gruppering\", \"guld\", \"gulf\", \"gulf\", \"gummikugle\", \"handicap\", \"hel\", \"hel\", \"hel\", \"hel\", \"hel\", \"hel\", \"helbredsm\\u00e6ssig\", \"henvendelse\", \"henvendelse\", \"hertil\", \"hertil\", \"hertil\", \"hertil\", \"hertil\", \"hertil\", \"herunder\", \"herunder\", \"herunder\", \"herunder\", \"herunder\", \"herunder\", \"herunder\", \"herunder\", \"herunder\", \"herved\", \"herved\", \"herved\", \"herved\", \"herved\", \"herved\", \"herved\", \"hinanden\", \"hinanden\", \"historie\", \"historie\", \"hjem\", \"hjem\", \"hjem\", \"hjem\", \"hjem\", \"hjem201884linb\", \"hjem201910sme\", \"hjem201912sme\", \"hjem20199sme\", \"hjemland\", \"hjemland\", \"hjemland\", \"hjemland\", \"hjemland\", \"hjemland\", \"hjemland\", \"hjemland\", \"hjemrejse\", \"hoppe\", \"hospital\", \"hospital\", \"hospital\", \"hospital\", \"hovedstad\", \"humanit\\u00e6r\", \"hus\", \"hus\", \"hus\", \"hver\", \"hver\", \"hvortil\", \"hyrevogn\", \"h\\u00e6nge\", \"h\\u00f8re\", \"h\\u00f8re\", \"h\\u00f8re\", \"identificere\", \"identiten\", \"identitetsdokument\", \"identitetsdokument\", \"identitetsdokument\", \"identitetspapir\", \"idkort\", \"idkort\", \"if\\u00f8lge\", \"if\\u00f8lge\", \"if\\u00f8lge\", \"if\\u00f8lge\", \"if\\u00f8lge\", \"if\\u00f8lge\", \"informere\", \"instruere\", \"interesse\", \"irak\", \"irak\", \"irak\", \"irak\", \"irak\", \"irak\", \"irakisk\", \"irakisk\", \"irakisk\", \"irakisk\", \"irakisk\", \"irakisk\", \"irakisk\", \"iran\", \"iran\", \"islamisk\", \"istanbul\", \"jahraprovinse\", \"jordan\", \"jordan\", \"jordan\", \"jordan\", \"jordan\", \"kabd\", \"kabd\", \"kigge\", \"kilometer\", \"kilometer\", \"kirke\", \"klager\", \"klagere\", \"klagere\", \"knap\", \"knytte\", \"knytte\", \"kn\\u00e6\", \"kn\\u00e6\", \"komme\", \"komme\", \"komme\", \"komme\", \"komme\", \"komme\", \"konstant\", \"konstruere\", \"konstruere\", \"konstruere\", \"konstruere\", \"kontrol\", \"koordinere\", \"korrigere\", \"korrigere\", \"kort\", \"kort\", \"kort\", \"kortmateriale\", \"kravle\", \"krist\", \"krist\", \"kristen\", \"kurder\", \"kurder\", \"kuwaitisk\", \"kuwaitisk\", \"kuwaitisk\", \"kuwaitisk\", \"kuwaitisk\", \"kuwaitisk\", \"kuwaitisk\", \"kuwaitisk\", \"kuwaitiske\", \"kvinde\", \"kvinde\", \"kvinde\", \"kvinde\", \"kvindelig\", \"kvindelig\", \"kvindelig\", \"kvindelig\", \"kvindelig\", \"k\\u00e6reste\", \"k\\u00e6reste\", \"k\\u00f8b\", \"k\\u00f8re\", \"k\\u00f8re\", \"k\\u00f8re\", \"land\", \"land\", \"land\", \"land\", \"land\", \"land\", \"land\", \"land\", \"libanesisk\", \"libanesisk\", \"libanon\", \"libanon\", \"ligne\", \"ligne\", \"ligne\", \"ligne\", \"lokalomr\\u00e5d\", \"lokalomr\\u00e5d\", \"lytte\", \"l\\u00e6re\", \"l\\u00e6re\", \"l\\u00e6re\", \"l\\u00f8slade\", \"l\\u00f8slade\", \"l\\u00f8slade\", \"l\\u00f8sladels\", \"l\\u00f8sladels\", \"l\\u00f8sladels\", \"l\\u00f8sladels\", \"l\\u00f8sladelse\", \"l\\u00f8sladelse\", \"l\\u00f8sladelse\", \"l\\u00f8sladelse\", \"l\\u00f8sladelse\", \"l\\u00f8sladelse\", \"mand\", \"mand\", \"mand\", \"mand\", \"markedsplads\", \"markedspladsen\", \"mave\", \"medf\\u00f8re\", \"medf\\u00f8re\", \"milit\\u00e6r\", \"milit\\u00e6r\", \"milit\\u00e6r\", \"milit\\u00e6rtjeneste\", \"milit\\u00e6rtjeneste\", \"minut\", \"miste\", \"miste\", \"miste\", \"moder\", \"moder\", \"mods\\u00e6tning\", \"mor\", \"mor\", \"mor\", \"mor\", \"mor\", \"mor\", \"mor\", \"mor\", \"morbror\", \"morbror\", \"morbror\", \"motivsamta\", \"motivsamta\", \"motivsamta\", \"motivsamta\", \"muslimsk\", \"m\\u00e5ned\", \"m\\u00e5ned\", \"m\\u00e5ned\", \"m\\u00e5ned\", \"m\\u00e5ned\", \"m\\u00e5ned\", \"m\\u00e5ned\", \"m\\u00e5ned\", \"m\\u00e6ndene\", \"m\\u00f8de\", \"m\\u00f8de\", \"m\\u00f8de\", \"m\\u00f8de\", \"m\\u00f8de\", \"m\\u00f8de\", \"m\\u00f8der\", \"najaf\", \"national\", \"nationalitetspas\", \"nationalitetspas\", \"nationalitetspas\", \"nationaltjeneste\", \"navn\", \"navn\", \"navn\", \"navn\", \"navn\", \"navn\", \"navn\", \"navn\", \"navn\", \"norsk\", \"nr\", \"nr\", \"nummer\", \"n\\u00e6gte\", \"n\\u00e6gte\", \"n\\u00e6gte\", \"n\\u00e6gte\", \"n\\u00e6gte\", \"n\\u00e6gte\", \"n\\u00e6gtelse\", \"n\\u00e6gtelse\", \"n\\u00e6rmere\", \"n\\u00e6rmere\", \"n\\u00e6rmere\", \"n\\u00e6rmere\", \"n\\u00e6rmere\", \"n\\u00e6stf\\u00f8lgende\", \"n\\u00e6vn\", \"n\\u00e6vn\", \"n\\u00e6vn\", \"n\\u00e6vnsm\\u00f8de\", \"n\\u00e6vnsm\\u00f8de\", \"n\\u00e6vnsm\\u00f8de\", \"n\\u00e6vnsm\\u00f8de\", \"n\\u00f8dvendig\", \"n\\u00f8dvendig\", \"n\\u00f8dvendig\", \"n\\u00f8dvendig\", \"n\\u00f8dvendig\", \"offentligg\\u00f8re\", \"ogeller\", \"omfattee\", \"omfattee\", \"omfattee\", \"omfattee\", \"omfattee\", \"omfattee\", \"omfattee\", \"omfattee\", \"omfattet\", \"omfattet\", \"omfattet\", \"omfattet\", \"omfattet\", \"omfattet\", \"omhandle\", \"omr\\u00e5de\", \"omr\\u00e5de\", \"omr\\u00e5de\", \"omr\\u00e5de\", \"omr\\u00e5de\", \"omr\\u00e5de\", \"omr\\u00e5de\", \"omst\\u00e6ndighed\", \"omst\\u00e6ndighed\", \"omst\\u00e6ndighed\", \"omst\\u00e6ndighed\", \"omst\\u00e6ndighed\", \"omst\\u00e6ndighed\", \"omvendt\", \"opfylde\", \"opfylde\", \"opfylde\", \"opfylde\", \"opfylde\", \"opfylde\", \"opgivne\", \"opholde\", \"opholde\", \"opholde\", \"opholde\", \"opholde\", \"opholde\", \"opholde\", \"opholde\", \"opholdstilladelse\", \"opholdstilladelse\", \"opholdstilladelse\", \"opholdstilladelse\", \"opholdstilladelse\", \"opholdstilladelse\", \"opholdstilladelse\", \"opholdstilladelse\", \"opholdstilladelse\", \"oplysning\", \"oplysning\", \"oplysning\", \"oplysning\", \"oplysning\", \"oplysning\", \"oplysning\", \"oplysning\", \"oplysningerne\", \"oplysnings\", \"oplysnings\", \"oplysnings\", \"oplysnings\", \"oplysnings\", \"opl\\u00f8se\", \"opl\\u00f8sning\", \"opn\\u00e5\", \"opn\\u00e5\", \"opn\\u00e5\", \"opn\\u00e5\", \"opn\\u00e5else\", \"ops\\u00f8ge\", \"ops\\u00f8ge\", \"ops\\u00f8ge\", \"ops\\u00f8ge\", \"ops\\u00f8ge\", \"ops\\u00f8ge\", \"ops\\u00f8ge\", \"ops\\u00f8gme\", \"ops\\u00f8gt\", \"ops\\u00f8gt\", \"ops\\u00f8gt\", \"ops\\u00f8gt\", \"ops\\u00f8gt\", \"ops\\u00f8gt\", \"ortodoks\", \"overgreb\", \"overgreb\", \"overgreb\", \"overgreb\", \"overgreb\", \"overgreb\", \"overgreb\", \"overnatning\", \"overordne\", \"overs\\u00e6ttelse\", \"parr\", \"pas\", \"pas\", \"pas\", \"pas\", \"passe\", \"passe\", \"passe\", \"passe\", \"passe\", \"person\", \"person\", \"person\", \"person\", \"person\", \"person\", \"person\", \"person\", \"placere\", \"planl\\u00e6gning\", \"politi\", \"politi\", \"politi\", \"politi\", \"politi\", \"politirapport\", \"politirapport\", \"prins\", \"pr\\u00f8ve\", \"pr\\u00f8ve\", \"p\\u00e5ber\\u00e5ber\", \"p\\u00e5ber\\u00e5ber\", \"p\\u00e5ber\\u00e5ber\", \"p\\u00e5ber\\u00e5ber\", \"p\\u00e5f\\u00f8re\", \"p\\u00e5g\\u00e6ldende\", \"p\\u00e5g\\u00e6ldende\", \"p\\u00e5g\\u00e6ldende\", \"p\\u00e5g\\u00e6ldende\", \"p\\u00e5g\\u00e6ldende\", \"p\\u00e5g\\u00e6ldende\", \"p\\u00e5kl\\u00e6dning\", \"p\\u00e5st\\u00e5\", \"p\\u00e5vise\", \"ramme\", \"ransage\", \"ransage\", \"ransage\", \"ransagning\", \"ransagning\", \"regione\", \"rejse\", \"rejse\", \"rejse\", \"rejse\", \"rejse\", \"rejse\", \"respektere\", \"respektive\", \"resultat\", \"resultat\", \"resultat\", \"resultat\", \"resultat\", \"resultere\", \"retning\", \"retning\", \"rettelig\", \"rettighed\", \"rettighed\", \"rettighed\", \"rettighed\", \"rettighed\", \"rettighed\", \"retur\", \"returnere\", \"rimelig\", \"rimelig\", \"risiko\", \"risiko\", \"risiko\", \"risiko\", \"risiko\", \"risiko\", \"risiko\", \"risiko\", \"rolle\", \"rum\", \"rut\", \"ryg\", \"ryg\", \"ryg\", \"ryg\", \"r\\u00e5be\", \"sag\", \"sag\", \"sag\", \"sag\", \"sag\", \"sag\", \"sag\", \"sag\", \"salg\", \"salg\", \"sambehandle\", \"sambehandle\", \"sambehandlet\", \"sammenhold\", \"sammenst\\u00f8d\", \"samt\", \"samt\", \"samt\", \"samt\", \"samt\", \"samt\", \"samt\", \"samt\", \"samt\", \"samtale\", \"samtale\", \"samtale\", \"samtale\", \"samtale\", \"samtale\", \"samtale\", \"samtalereferaterne\", \"sandsynliggjore\", \"sandsynliggjore\", \"sandsynliggjore\", \"sandsynliggjore\", \"sandsynliggjore\", \"sandsynliggjore\", \"sandsynliggjore\", \"sandsynliggjort\", \"sandsynliggjort\", \"sandsynliggjort\", \"sandsynligg\\u00f8re\", \"sandsynligg\\u00f8re\", \"sandsynligg\\u00f8re\", \"sandsynligg\\u00f8re\", \"sandsynligg\\u00f8re\", \"sandsynligg\\u00f8re\", \"sandsynligg\\u00f8re\", \"sandsynligg\\u00f8re\", \"sandsynlighed\", \"sandsynlighed\", \"seddel\", \"seksuel\", \"seksuel\", \"seksuelt\", \"seksuelt\", \"seksuelt\", \"sikkerhedsfolk\", \"skabe\", \"skjulested\", \"skjult\", \"skjult\", \"skudveksling\", \"sk\\u00e6ldsord\", \"slags\", \"solgte\", \"solgte\", \"sommer\", \"sommer\", \"sommer\", \"sommer\", \"sove\", \"sovev\\u00e6relse\", \"sparsom\", \"sparsomt\", \"splitte\", \"stamme\", \"stamme\", \"stamme\", \"stamme\", \"stand\", \"stand\", \"stand\", \"stand\", \"stand\", \"stange\", \"station\", \"statsborg\", \"statsborg\", \"statsborg\", \"statsborg\", \"statsborger\", \"statsborger\", \"statsborger\", \"statsborger\", \"statsborger\", \"statsborger\", \"statsborger\", \"statsborger\", \"statsborgerskab\", \"statsborgerskab\", \"statsborgerskab\", \"statsborgerskab\", \"statsl\\u00f8se\", \"sted\", \"sted\", \"sted\", \"sted\", \"sted\", \"sted\", \"stikke\", \"stikke\", \"stikke\", \"st\\u00e5\", \"st\\u00e5\", \"st\\u00e5\", \"st\\u00e5\", \"sudan\", \"sudanesisk\", \"sundhedshj\\u00e6lp\", \"svig\", \"svig\", \"svigerfar\", \"svogers\", \"svogre\", \"syrien\", \"syrien\", \"syrisk\", \"syrisk\", \"syrisk\", \"syrisk\", \"s\\u00e5r\", \"s\\u00e5r\", \"s\\u00e6rligt\", \"s\\u00e6rligt\", \"s\\u00e6rligt\", \"s\\u00e6rligt\", \"s\\u00e6rligt\", \"s\\u00f8ge\", \"s\\u00f8ge\", \"s\\u00f8ge\", \"s\\u00f8ge\", \"s\\u00f8ge\", \"s\\u00f8ge\", \"s\\u00f8n\", \"s\\u00f8n\", \"s\\u00f8n\", \"s\\u00f8n\", \"s\\u00f8nn\", \"s\\u00f8nn\", \"s\\u00f8nn\", \"s\\u00f8nn\", \"s\\u00f8nnerne\", \"s\\u00f8ske\", \"s\\u00f8ster\", \"s\\u00f8ster\", \"s\\u00f8ster\", \"s\\u00f8ster\", \"s\\u00f8ster\", \"s\\u00f8ster\", \"s\\u00f8ster\", \"tage\", \"tage\", \"tage\", \"tage\", \"tage\", \"tage\", \"taima\", \"taima\", \"taima\", \"tal\", \"tale\", \"tale\", \"tale\", \"tale\", \"tale\", \"tale\", \"tale\", \"tale\", \"telefonnummere\", \"telefonnummere\", \"tid\", \"tid\", \"tid\", \"tid\", \"tid\", \"tid\", \"tidligt\", \"tiger\", \"tigrinya\", \"tigrinya\", \"tilbageholde\", \"tilbageholde\", \"tilbageholde\", \"tilbageholde\", \"tilbageholde\", \"tilbageholde\", \"tilbageholde\", \"tilbagevende\", \"tilbagevende\", \"tilbagevende\", \"tilbyde\", \"tilf\\u00e6ldighed\", \"tilg\\u00e6ngelig\", \"tilg\\u00e6ngelig\", \"tilg\\u00e6ngeligt\", \"tilh\\u00f8rsforhold\", \"tilknytning\", \"tilknytning\", \"tilknytning\", \"tilknytning\", \"tilknytning\", \"tilknytte\", \"till\\u00e6rte\", \"tilsvarende\", \"tiltale\", \"tolkning\", \"tradition\", \"tr\\u00e6ne\", \"tvangshverv\", \"tvivlsom\", \"tyrki\", \"tyrki\", \"uafh\\u00e6ngigt\", \"udf\\u00f8relse\", \"udl\\u00e6ndin\", \"udl\\u00e6ndin\", \"udl\\u00e6ndin\", \"udl\\u00e6nding\", \"udl\\u00e6nding\", \"udl\\u00e6nding\", \"udl\\u00e6ndingelove\", \"udl\\u00e6ndingelove\", \"udl\\u00e6ndingelove\", \"udl\\u00e6ndingelove\", \"udl\\u00e6ndingelove\", \"udl\\u00e6ndingemyndigheder\", \"udl\\u00e6ndingemyndigheder\", \"udl\\u00e6ndingestyrelse\", \"udl\\u00e6ndingestyrelse\", \"udl\\u00e6ndingestyrelse\", \"udl\\u00e6ndingestyrelse\", \"udl\\u00e6ndingestyrelse\", \"udl\\u00e6ndingestyrelse\", \"udl\\u00e6ndingestyrelse\", \"udl\\u00e6ndingestyrelse\", \"udrejsefrist\", \"udrejst\", \"udrejst\", \"udrejst\", \"udrejst\", \"udrejst\", \"udrejst\", \"udrejst\", \"udsat\", \"udsat\", \"udsende\", \"udsende\", \"udsendelse\", \"uds\\u00e6tte\", \"uds\\u00e6tte\", \"uds\\u00e6tte\", \"uds\\u00e6tte\", \"uds\\u00e6tte\", \"uds\\u00e6tte\", \"uds\\u00e6tte\", \"ukendt\", \"ukendt\", \"ukendt\", \"ukendt\", \"ukendt\", \"ukendt\", \"ukendt\", \"underrette\", \"underskrive\", \"underskrive\", \"underskrive\", \"unders\\u00f8gelse\", \"unders\\u00f8gelse\", \"unders\\u00f8gelse\", \"unders\\u00f8gelse\", \"unders\\u00f8gelse\", \"undslap\", \"undtagelse\", \"undvigende\", \"unhcr\", \"unhcr\", \"uniformere\", \"uregistrere\", \"uregistrere\", \"uregistrere\", \"uregistrere\", \"uretm\\u00e6ssigt\", \"urigtig\", \"urigtig\", \"urigtig\", \"usikr\", \"usikr\", \"utrov\\u00e6rdig\", \"utrov\\u00e6rdig\", \"utrov\\u00e6rdig\", \"utrov\\u00e6rdig\", \"utrov\\u00e6rdig\", \"utrov\\u00e6rdig\", \"u\\u00f8nsket\", \"vende\", \"vende\", \"vende\", \"vende\", \"vende\", \"vende\", \"vende\", \"videre\", \"videre\", \"videre\", \"videre\", \"videre\", \"videre\", \"videre\", \"videre\", \"vidt\", \"vidt\", \"vidt\", \"vidt\", \"vidt\", \"vidt\", \"vie\", \"vinter\", \"vinter\", \"vinter\", \"vinter\", \"vinter\", \"vinter\", \"voksen\", \"voksen\", \"vokset\", \"voldelig\", \"voldelig\", \"voldt\\u00e6gt\", \"vriste\", \"v\\u00e5ben\", \"v\\u00e5ben\", \"v\\u00e6sentlig\", \"v\\u00e6sentlig\", \"v\\u00e6sentlig\", \"v\\u00e6sentlig\", \"v\\u00e6sentlig\", \"yderst\", \"yderst\", \"yng\", \"\\u00e5bne\", \"\\u00e5r\", \"\\u00e5r\", \"\\u00e5r\", \"\\u00e5r\", \"\\u00e5r\", \"\\u00e5r\", \"\\u00e5r\", \"\\u00e5r\", \"\\u00e6gte\", \"\\u00e6gte\", \"\\u00e6gte\", \"\\u00e6gtef\\u00e6ll\", \"\\u00e6gtef\\u00e6ll\", \"\\u00e6gtef\\u00e6ll\", \"\\u00e6gtef\\u00e6ll\", \"\\u00e6gtef\\u00e6lle\", \"\\u00e6gtef\\u00e6lle\", \"\\u00e6gtef\\u00e6lle\", \"\\u00e6gtef\\u00e6lle\", \"\\u00e6gtef\\u00e6lle\", \"\\u00e6gtef\\u00e6lle\", \"\\u00e6gtef\\u00e6lle\", \"\\u00e6gtepar\", \"\\u00e6gtepar\", \"\\u00e6gtepar\", \"\\u00e6gtepar\", \"\\u00f8jeblikkeligt\", \"\\u00f8jenskade\"]}, \"R\": 30, \"lambda.step\": 0.01, \"plot.opts\": {\"xlab\": \"PC1\", \"ylab\": \"PC2\"}, \"topic.order\": [1, 2, 3, 4, 5, 6, 7, 8, 9]};\n",
       "\n",
       "function LDAvis_load_lib(url, callback){\n",
       "  var s = document.createElement('script');\n",
       "  s.src = url;\n",
       "  s.async = true;\n",
       "  s.onreadystatechange = s.onload = callback;\n",
       "  s.onerror = function(){console.warn(\"failed to load library \" + url);};\n",
       "  document.getElementsByTagName(\"head\")[0].appendChild(s);\n",
       "}\n",
       "\n",
       "if(typeof(LDAvis) !== \"undefined\"){\n",
       "   // already loaded: just create the visualization\n",
       "   !function(LDAvis){\n",
       "       new LDAvis(\"#\" + \"ldavis_el835254942264965398206860\", ldavis_el835254942264965398206860_data);\n",
       "   }(LDAvis);\n",
       "}else if(typeof define === \"function\" && define.amd){\n",
       "   // require.js is available: use it to load d3/LDAvis\n",
       "   require.config({paths: {d3: \"https://d3js.org/d3.v5\"}});\n",
       "   require([\"d3\"], function(d3){\n",
       "      window.d3 = d3;\n",
       "      LDAvis_load_lib(\"https://cdn.jsdelivr.net/gh/bmabey/pyLDAvis@3.3.1/pyLDAvis/js/ldavis.v3.0.0.js\", function(){\n",
       "        new LDAvis(\"#\" + \"ldavis_el835254942264965398206860\", ldavis_el835254942264965398206860_data);\n",
       "      });\n",
       "    });\n",
       "}else{\n",
       "    // require.js not available: dynamically load d3 & LDAvis\n",
       "    LDAvis_load_lib(\"https://d3js.org/d3.v5.js\", function(){\n",
       "         LDAvis_load_lib(\"https://cdn.jsdelivr.net/gh/bmabey/pyLDAvis@3.3.1/pyLDAvis/js/ldavis.v3.0.0.js\", function(){\n",
       "                 new LDAvis(\"#\" + \"ldavis_el835254942264965398206860\", ldavis_el835254942264965398206860_data);\n",
       "            })\n",
       "         });\n",
       "}\n",
       "</script>"
      ],
      "text/plain": [
       "<IPython.core.display.HTML object>"
      ]
     },
     "execution_count": 43,
     "metadata": {},
     "output_type": "execute_result"
    }
   ],
   "source": [
    "warnings.filterwarnings(\"ignore\", category=FutureWarning)\n",
    "warnings.filterwarnings(\"ignore\", category=DeprecationWarning)\n",
    "\n",
    "\n",
    "NMF_display = pyLDAvis.sklearn.prepare(NMF_text_model, count_text_vectors, count_text_vectorizer, sort_topics=False)\n",
    "\n",
    "pyLDAvis.display(NMF_display)"
   ]
  },
  {
   "cell_type": "markdown",
   "metadata": {},
   "source": [
    "## Latent Semantic Analysis/Indexing:"
   ]
  },
  {
   "cell_type": "markdown",
   "metadata": {},
   "source": [
    "Similar analysis to NMF but using a different algorithm: Singular Value Decomposition (SVD)."
   ]
  },
  {
   "cell_type": "code",
   "execution_count": 44,
   "metadata": {},
   "outputs": [
    {
     "name": "stdout",
     "output_type": "stream",
     "text": [
      "The coherence score for SVD (0.77) is highest with 3 topics.\n"
     ]
    }
   ],
   "source": [
    "warnings.filterwarnings(\"ignore\", category=FutureWarning)\n",
    "\n",
    "best_num_SVD = float('NaN')\n",
    "best_score_SVD = 0\n",
    "\n",
    "# Compute the coherence scores for each number of topics\n",
    "for i in range(2, 11):\n",
    "\n",
    "    # Create SVD model with i topics\n",
    "    SVD_text_model = TruncatedSVD(n_components=i, random_state=42)\n",
    "    W_SVD_text_matrix = SVD_text_model.fit_transform(count_text_vectors)\n",
    "    H_SVD_text_matrix = SVD_text_model.components_\n",
    "\n",
    "    # Obtain the coherence score\n",
    "    coherence_model_SVD = metric_coherence_gensim(measure='c_v', \n",
    "                        top_n=25, \n",
    "                        topic_word_distrib=H_SVD_text_matrix, \n",
    "                        dtm=W_SVD_text_matrix, \n",
    "                        vocab=np.array([x for x in count_text_vectorizer.vocabulary_.keys()]), \n",
    "                        texts=df['tokens'])\n",
    "    coherence_score_SVD = np.around(coherence_model_SVD, 2)\n",
    "    for score in coherence_score_SVD:\n",
    "        if score > best_score_SVD:\n",
    "            best_num_SVD = i\n",
    "            best_score_SVD = score\n",
    "\n",
    "print(f'The coherence score for SVD ({best_score_SVD}) is highest with {best_num_SVD} topics.')"
   ]
  },
  {
   "cell_type": "markdown",
   "metadata": {},
   "source": [
    "Build the model with the best number of topics and see them:"
   ]
  },
  {
   "cell_type": "code",
   "execution_count": 45,
   "metadata": {},
   "outputs": [],
   "source": [
    "SVD_text_model = TruncatedSVD(n_components=best_num_SVD, random_state=42)\n",
    "W_SVD_model_matrix = SVD_text_model.fit_transform(count_text_vectors)\n",
    "H_SVD_model_matrix = SVD_text_model.components_"
   ]
  },
  {
   "cell_type": "code",
   "execution_count": 49,
   "metadata": {},
   "outputs": [
    {
     "name": "stdout",
     "output_type": "stream",
     "text": [
      "\n",
      "Topic 00\n",
      " demonstration (1.72)\n",
      " kvindelig (1.06)\n",
      " deltage (1.03)\n",
      " bidoon (1.03)\n",
      " bopæl (0.99)\n",
      "\n",
      "Topic 01\n",
      " klager (54.79)\n",
      " opholdstilladelse (10.63)\n",
      " klagere (6.56)\n",
      " syrisk (5.89)\n",
      " pas (5.74)\n",
      "\n",
      "Topic 02\n",
      " bopæl (6.18)\n",
      " gang (5.71)\n",
      " dag (5.42)\n",
      " mor (4.96)\n",
      " tage (4.72)\n"
     ]
    }
   ],
   "source": [
    "display_topics(SVD_text_model, count_text_vectorizer.get_feature_names_out())"
   ]
  },
  {
   "cell_type": "markdown",
   "metadata": {},
   "source": [
    "Visualise the topics produced by SVD:"
   ]
  },
  {
   "cell_type": "code",
   "execution_count": 51,
   "metadata": {},
   "outputs": [
    {
     "name": "stderr",
     "output_type": "stream",
     "text": [
      "/Users/jnap/opt/anaconda3/lib/python3.9/site-packages/pandas/core/internals/blocks.py:402: RuntimeWarning: invalid value encountered in log\n",
      "  result = func(self.values, **kwargs)\n",
      "/Users/jnap/opt/anaconda3/lib/python3.9/site-packages/pandas/core/internals/blocks.py:402: RuntimeWarning: invalid value encountered in log\n",
      "  result = func(self.values, **kwargs)\n",
      "/Users/jnap/opt/anaconda3/lib/python3.9/site-packages/joblib/externals/loky/process_executor.py:702: UserWarning: A worker stopped while some jobs were given to the executor. This can be caused by a too short worker timeout or by a memory leak.\n",
      "  warnings.warn(\n",
      "/Users/jnap/opt/anaconda3/lib/python3.9/site-packages/past/builtins/misc.py:45: DeprecationWarning: the imp module is deprecated in favour of importlib; see the module's documentation for alternative uses\n",
      "  from imp import reload\n",
      "/Users/jnap/opt/anaconda3/lib/python3.9/site-packages/past/builtins/misc.py:45: DeprecationWarning: the imp module is deprecated in favour of importlib; see the module's documentation for alternative uses\n",
      "  from imp import reload\n",
      "/Users/jnap/opt/anaconda3/lib/python3.9/site-packages/past/builtins/misc.py:45: DeprecationWarning: the imp module is deprecated in favour of importlib; see the module's documentation for alternative uses\n",
      "  from imp import reload\n",
      "/Users/jnap/opt/anaconda3/lib/python3.9/site-packages/past/builtins/misc.py:45: DeprecationWarning: the imp module is deprecated in favour of importlib; see the module's documentation for alternative uses\n",
      "  from imp import reload\n"
     ]
    },
    {
     "ename": "LinAlgError",
     "evalue": "Array must not contain infs or NaNs",
     "output_type": "error",
     "traceback": [
      "\u001b[0;31m---------------------------------------------------------------------------\u001b[0m",
      "\u001b[0;31mLinAlgError\u001b[0m                               Traceback (most recent call last)",
      "\u001b[0;32m/var/folders/rt/71gks04x30d1pkk4v471w4dh0000gn/T/ipykernel_8352/856909759.py\u001b[0m in \u001b[0;36m<cell line: 5>\u001b[0;34m()\u001b[0m\n\u001b[1;32m      3\u001b[0m \u001b[0;34m\u001b[0m\u001b[0m\n\u001b[1;32m      4\u001b[0m \u001b[0;34m\u001b[0m\u001b[0m\n\u001b[0;32m----> 5\u001b[0;31m \u001b[0mSVD_display\u001b[0m \u001b[0;34m=\u001b[0m \u001b[0mpyLDAvis\u001b[0m\u001b[0;34m.\u001b[0m\u001b[0msklearn\u001b[0m\u001b[0;34m.\u001b[0m\u001b[0mprepare\u001b[0m\u001b[0;34m(\u001b[0m\u001b[0mSVD_text_model\u001b[0m\u001b[0;34m,\u001b[0m \u001b[0mcount_text_vectors\u001b[0m\u001b[0;34m,\u001b[0m \u001b[0mcount_text_vectorizer\u001b[0m\u001b[0;34m,\u001b[0m \u001b[0msort_topics\u001b[0m\u001b[0;34m=\u001b[0m\u001b[0;32mFalse\u001b[0m\u001b[0;34m)\u001b[0m\u001b[0;34m\u001b[0m\u001b[0;34m\u001b[0m\u001b[0m\n\u001b[0m\u001b[1;32m      6\u001b[0m \u001b[0;34m\u001b[0m\u001b[0m\n\u001b[1;32m      7\u001b[0m \u001b[0mpyLDAvis\u001b[0m\u001b[0;34m.\u001b[0m\u001b[0mdisplay\u001b[0m\u001b[0;34m(\u001b[0m\u001b[0mSVD_display\u001b[0m\u001b[0;34m)\u001b[0m\u001b[0;34m\u001b[0m\u001b[0;34m\u001b[0m\u001b[0m\n",
      "\u001b[0;32m~/opt/anaconda3/lib/python3.9/site-packages/pyLDAvis/sklearn.py\u001b[0m in \u001b[0;36mprepare\u001b[0;34m(lda_model, dtm, vectorizer, **kwargs)\u001b[0m\n\u001b[1;32m     93\u001b[0m     \"\"\"\n\u001b[1;32m     94\u001b[0m     \u001b[0mopts\u001b[0m \u001b[0;34m=\u001b[0m \u001b[0mfp\u001b[0m\u001b[0;34m.\u001b[0m\u001b[0mmerge\u001b[0m\u001b[0;34m(\u001b[0m\u001b[0m_extract_data\u001b[0m\u001b[0;34m(\u001b[0m\u001b[0mlda_model\u001b[0m\u001b[0;34m,\u001b[0m \u001b[0mdtm\u001b[0m\u001b[0;34m,\u001b[0m \u001b[0mvectorizer\u001b[0m\u001b[0;34m)\u001b[0m\u001b[0;34m,\u001b[0m \u001b[0mkwargs\u001b[0m\u001b[0;34m)\u001b[0m\u001b[0;34m\u001b[0m\u001b[0;34m\u001b[0m\u001b[0m\n\u001b[0;32m---> 95\u001b[0;31m     \u001b[0;32mreturn\u001b[0m \u001b[0mpyLDAvis\u001b[0m\u001b[0;34m.\u001b[0m\u001b[0mprepare\u001b[0m\u001b[0;34m(\u001b[0m\u001b[0;34m**\u001b[0m\u001b[0mopts\u001b[0m\u001b[0;34m)\u001b[0m\u001b[0;34m\u001b[0m\u001b[0;34m\u001b[0m\u001b[0m\n\u001b[0m",
      "\u001b[0;32m~/opt/anaconda3/lib/python3.9/site-packages/pyLDAvis/_prepare.py\u001b[0m in \u001b[0;36mprepare\u001b[0;34m(topic_term_dists, doc_topic_dists, doc_lengths, vocab, term_frequency, R, lambda_step, mds, n_jobs, plot_opts, sort_topics, start_index)\u001b[0m\n\u001b[1;32m    441\u001b[0m                              n_jobs, start_index)\n\u001b[1;32m    442\u001b[0m     \u001b[0mtoken_table\u001b[0m \u001b[0;34m=\u001b[0m \u001b[0m_token_table\u001b[0m\u001b[0;34m(\u001b[0m\u001b[0mtopic_info\u001b[0m\u001b[0;34m,\u001b[0m \u001b[0mterm_topic_freq\u001b[0m\u001b[0;34m,\u001b[0m \u001b[0mvocab\u001b[0m\u001b[0;34m,\u001b[0m \u001b[0mterm_frequency\u001b[0m\u001b[0;34m,\u001b[0m \u001b[0mstart_index\u001b[0m\u001b[0;34m)\u001b[0m\u001b[0;34m\u001b[0m\u001b[0;34m\u001b[0m\u001b[0m\n\u001b[0;32m--> 443\u001b[0;31m     \u001b[0mtopic_coordinates\u001b[0m \u001b[0;34m=\u001b[0m \u001b[0m_topic_coordinates\u001b[0m\u001b[0;34m(\u001b[0m\u001b[0mmds\u001b[0m\u001b[0;34m,\u001b[0m \u001b[0mtopic_term_dists\u001b[0m\u001b[0;34m,\u001b[0m \u001b[0mtopic_proportion\u001b[0m\u001b[0;34m,\u001b[0m \u001b[0mstart_index\u001b[0m\u001b[0;34m)\u001b[0m\u001b[0;34m\u001b[0m\u001b[0;34m\u001b[0m\u001b[0m\n\u001b[0m\u001b[1;32m    444\u001b[0m     \u001b[0mclient_topic_order\u001b[0m \u001b[0;34m=\u001b[0m \u001b[0;34m[\u001b[0m\u001b[0mx\u001b[0m \u001b[0;34m+\u001b[0m \u001b[0mstart_index\u001b[0m \u001b[0;32mfor\u001b[0m \u001b[0mx\u001b[0m \u001b[0;32min\u001b[0m \u001b[0mtopic_order\u001b[0m\u001b[0;34m]\u001b[0m\u001b[0;34m\u001b[0m\u001b[0;34m\u001b[0m\u001b[0m\n\u001b[1;32m    445\u001b[0m \u001b[0;34m\u001b[0m\u001b[0m\n",
      "\u001b[0;32m~/opt/anaconda3/lib/python3.9/site-packages/pyLDAvis/_prepare.py\u001b[0m in \u001b[0;36m_topic_coordinates\u001b[0;34m(mds, topic_term_dists, topic_proportion, start_index)\u001b[0m\n\u001b[1;32m    190\u001b[0m \u001b[0;32mdef\u001b[0m \u001b[0m_topic_coordinates\u001b[0m\u001b[0;34m(\u001b[0m\u001b[0mmds\u001b[0m\u001b[0;34m,\u001b[0m \u001b[0mtopic_term_dists\u001b[0m\u001b[0;34m,\u001b[0m \u001b[0mtopic_proportion\u001b[0m\u001b[0;34m,\u001b[0m \u001b[0mstart_index\u001b[0m\u001b[0;34m=\u001b[0m\u001b[0;36m1\u001b[0m\u001b[0;34m)\u001b[0m\u001b[0;34m:\u001b[0m\u001b[0;34m\u001b[0m\u001b[0;34m\u001b[0m\u001b[0m\n\u001b[1;32m    191\u001b[0m     \u001b[0mK\u001b[0m \u001b[0;34m=\u001b[0m \u001b[0mtopic_term_dists\u001b[0m\u001b[0;34m.\u001b[0m\u001b[0mshape\u001b[0m\u001b[0;34m[\u001b[0m\u001b[0;36m0\u001b[0m\u001b[0;34m]\u001b[0m\u001b[0;34m\u001b[0m\u001b[0;34m\u001b[0m\u001b[0m\n\u001b[0;32m--> 192\u001b[0;31m     \u001b[0mmds_res\u001b[0m \u001b[0;34m=\u001b[0m \u001b[0mmds\u001b[0m\u001b[0;34m(\u001b[0m\u001b[0mtopic_term_dists\u001b[0m\u001b[0;34m)\u001b[0m\u001b[0;34m\u001b[0m\u001b[0;34m\u001b[0m\u001b[0m\n\u001b[0m\u001b[1;32m    193\u001b[0m     \u001b[0;32massert\u001b[0m \u001b[0mmds_res\u001b[0m\u001b[0;34m.\u001b[0m\u001b[0mshape\u001b[0m \u001b[0;34m==\u001b[0m \u001b[0;34m(\u001b[0m\u001b[0mK\u001b[0m\u001b[0;34m,\u001b[0m \u001b[0;36m2\u001b[0m\u001b[0;34m)\u001b[0m\u001b[0;34m\u001b[0m\u001b[0;34m\u001b[0m\u001b[0m\n\u001b[1;32m    194\u001b[0m     mds_df = pd.DataFrame({'x': mds_res[:, 0], 'y': mds_res[:, 1],\n",
      "\u001b[0;32m~/opt/anaconda3/lib/python3.9/site-packages/pyLDAvis/_prepare.py\u001b[0m in \u001b[0;36mjs_PCoA\u001b[0;34m(distributions)\u001b[0m\n\u001b[1;32m    127\u001b[0m     \"\"\"\n\u001b[1;32m    128\u001b[0m     \u001b[0mdist_matrix\u001b[0m \u001b[0;34m=\u001b[0m \u001b[0msquareform\u001b[0m\u001b[0;34m(\u001b[0m\u001b[0mpdist\u001b[0m\u001b[0;34m(\u001b[0m\u001b[0mdistributions\u001b[0m\u001b[0;34m,\u001b[0m \u001b[0mmetric\u001b[0m\u001b[0;34m=\u001b[0m\u001b[0m_jensen_shannon\u001b[0m\u001b[0;34m)\u001b[0m\u001b[0;34m)\u001b[0m\u001b[0;34m\u001b[0m\u001b[0;34m\u001b[0m\u001b[0m\n\u001b[0;32m--> 129\u001b[0;31m     \u001b[0;32mreturn\u001b[0m \u001b[0m_pcoa\u001b[0m\u001b[0;34m(\u001b[0m\u001b[0mdist_matrix\u001b[0m\u001b[0;34m)\u001b[0m\u001b[0;34m\u001b[0m\u001b[0;34m\u001b[0m\u001b[0m\n\u001b[0m\u001b[1;32m    130\u001b[0m \u001b[0;34m\u001b[0m\u001b[0m\n\u001b[1;32m    131\u001b[0m \u001b[0;34m\u001b[0m\u001b[0m\n",
      "\u001b[0;32m~/opt/anaconda3/lib/python3.9/site-packages/pyLDAvis/_prepare.py\u001b[0m in \u001b[0;36m_pcoa\u001b[0;34m(pair_dists, n_components)\u001b[0m\n\u001b[1;32m     94\u001b[0m     \u001b[0mH\u001b[0m \u001b[0;34m=\u001b[0m \u001b[0mnp\u001b[0m\u001b[0;34m.\u001b[0m\u001b[0meye\u001b[0m\u001b[0;34m(\u001b[0m\u001b[0mn\u001b[0m\u001b[0;34m)\u001b[0m \u001b[0;34m-\u001b[0m \u001b[0mnp\u001b[0m\u001b[0;34m.\u001b[0m\u001b[0mones\u001b[0m\u001b[0;34m(\u001b[0m\u001b[0;34m(\u001b[0m\u001b[0mn\u001b[0m\u001b[0;34m,\u001b[0m \u001b[0mn\u001b[0m\u001b[0;34m)\u001b[0m\u001b[0;34m)\u001b[0m \u001b[0;34m/\u001b[0m \u001b[0mn\u001b[0m\u001b[0;34m\u001b[0m\u001b[0;34m\u001b[0m\u001b[0m\n\u001b[1;32m     95\u001b[0m     \u001b[0mB\u001b[0m \u001b[0;34m=\u001b[0m \u001b[0;34m-\u001b[0m \u001b[0mH\u001b[0m\u001b[0;34m.\u001b[0m\u001b[0mdot\u001b[0m\u001b[0;34m(\u001b[0m\u001b[0mpair_dists\u001b[0m \u001b[0;34m**\u001b[0m \u001b[0;36m2\u001b[0m\u001b[0;34m)\u001b[0m\u001b[0;34m.\u001b[0m\u001b[0mdot\u001b[0m\u001b[0;34m(\u001b[0m\u001b[0mH\u001b[0m\u001b[0;34m)\u001b[0m \u001b[0;34m/\u001b[0m \u001b[0;36m2\u001b[0m\u001b[0;34m\u001b[0m\u001b[0;34m\u001b[0m\u001b[0m\n\u001b[0;32m---> 96\u001b[0;31m     \u001b[0meigvals\u001b[0m\u001b[0;34m,\u001b[0m \u001b[0meigvecs\u001b[0m \u001b[0;34m=\u001b[0m \u001b[0mnp\u001b[0m\u001b[0;34m.\u001b[0m\u001b[0mlinalg\u001b[0m\u001b[0;34m.\u001b[0m\u001b[0meig\u001b[0m\u001b[0;34m(\u001b[0m\u001b[0mB\u001b[0m\u001b[0;34m)\u001b[0m\u001b[0;34m\u001b[0m\u001b[0;34m\u001b[0m\u001b[0m\n\u001b[0m\u001b[1;32m     97\u001b[0m \u001b[0;34m\u001b[0m\u001b[0m\n\u001b[1;32m     98\u001b[0m     \u001b[0;31m# Take first n_components of eigenvalues and eigenvectors\u001b[0m\u001b[0;34m\u001b[0m\u001b[0;34m\u001b[0m\u001b[0m\n",
      "\u001b[0;32m~/opt/anaconda3/lib/python3.9/site-packages/numpy/core/overrides.py\u001b[0m in \u001b[0;36meig\u001b[0;34m(*args, **kwargs)\u001b[0m\n",
      "\u001b[0;32m~/opt/anaconda3/lib/python3.9/site-packages/numpy/linalg/linalg.py\u001b[0m in \u001b[0;36meig\u001b[0;34m(a)\u001b[0m\n\u001b[1;32m   1303\u001b[0m     \u001b[0m_assert_stacked_2d\u001b[0m\u001b[0;34m(\u001b[0m\u001b[0ma\u001b[0m\u001b[0;34m)\u001b[0m\u001b[0;34m\u001b[0m\u001b[0;34m\u001b[0m\u001b[0m\n\u001b[1;32m   1304\u001b[0m     \u001b[0m_assert_stacked_square\u001b[0m\u001b[0;34m(\u001b[0m\u001b[0ma\u001b[0m\u001b[0;34m)\u001b[0m\u001b[0;34m\u001b[0m\u001b[0;34m\u001b[0m\u001b[0m\n\u001b[0;32m-> 1305\u001b[0;31m     \u001b[0m_assert_finite\u001b[0m\u001b[0;34m(\u001b[0m\u001b[0ma\u001b[0m\u001b[0;34m)\u001b[0m\u001b[0;34m\u001b[0m\u001b[0;34m\u001b[0m\u001b[0m\n\u001b[0m\u001b[1;32m   1306\u001b[0m     \u001b[0mt\u001b[0m\u001b[0;34m,\u001b[0m \u001b[0mresult_t\u001b[0m \u001b[0;34m=\u001b[0m \u001b[0m_commonType\u001b[0m\u001b[0;34m(\u001b[0m\u001b[0ma\u001b[0m\u001b[0;34m)\u001b[0m\u001b[0;34m\u001b[0m\u001b[0;34m\u001b[0m\u001b[0m\n\u001b[1;32m   1307\u001b[0m \u001b[0;34m\u001b[0m\u001b[0m\n",
      "\u001b[0;32m~/opt/anaconda3/lib/python3.9/site-packages/numpy/linalg/linalg.py\u001b[0m in \u001b[0;36m_assert_finite\u001b[0;34m(*arrays)\u001b[0m\n\u001b[1;32m    206\u001b[0m     \u001b[0;32mfor\u001b[0m \u001b[0ma\u001b[0m \u001b[0;32min\u001b[0m \u001b[0marrays\u001b[0m\u001b[0;34m:\u001b[0m\u001b[0;34m\u001b[0m\u001b[0;34m\u001b[0m\u001b[0m\n\u001b[1;32m    207\u001b[0m         \u001b[0;32mif\u001b[0m \u001b[0;32mnot\u001b[0m \u001b[0misfinite\u001b[0m\u001b[0;34m(\u001b[0m\u001b[0ma\u001b[0m\u001b[0;34m)\u001b[0m\u001b[0;34m.\u001b[0m\u001b[0mall\u001b[0m\u001b[0;34m(\u001b[0m\u001b[0;34m)\u001b[0m\u001b[0;34m:\u001b[0m\u001b[0;34m\u001b[0m\u001b[0;34m\u001b[0m\u001b[0m\n\u001b[0;32m--> 208\u001b[0;31m             \u001b[0;32mraise\u001b[0m \u001b[0mLinAlgError\u001b[0m\u001b[0;34m(\u001b[0m\u001b[0;34m\"Array must not contain infs or NaNs\"\u001b[0m\u001b[0;34m)\u001b[0m\u001b[0;34m\u001b[0m\u001b[0;34m\u001b[0m\u001b[0m\n\u001b[0m\u001b[1;32m    209\u001b[0m \u001b[0;34m\u001b[0m\u001b[0m\n\u001b[1;32m    210\u001b[0m \u001b[0;32mdef\u001b[0m \u001b[0m_is_empty_2d\u001b[0m\u001b[0;34m(\u001b[0m\u001b[0marr\u001b[0m\u001b[0;34m)\u001b[0m\u001b[0;34m:\u001b[0m\u001b[0;34m\u001b[0m\u001b[0;34m\u001b[0m\u001b[0m\n",
      "\u001b[0;31mLinAlgError\u001b[0m: Array must not contain infs or NaNs"
     ]
    }
   ],
   "source": [
    "warnings.filterwarnings(\"ignore\", category=FutureWarning)\n",
    "warnings.filterwarnings(\"ignore\", category=DeprecationWarning)\n",
    "\n",
    "\n",
    "SVD_display = pyLDAvis.sklearn.prepare(SVD_text_model, count_text_vectors, count_text_vectorizer, sort_topics=False)\n",
    "\n",
    "pyLDAvis.display(SVD_display)"
   ]
  }
 ],
 "metadata": {
  "interpreter": {
   "hash": "b6672ba510bd43d5df0d34395a84685a825e41d35f5301d8abef98bca1680e82"
  },
  "kernelspec": {
   "display_name": "Python 3 (ipykernel)",
   "language": "python",
   "name": "python3"
  },
  "language_info": {
   "codemirror_mode": {
    "name": "ipython",
    "version": 3
   },
   "file_extension": ".py",
   "mimetype": "text/x-python",
   "name": "python",
   "nbconvert_exporter": "python",
   "pygments_lexer": "ipython3",
   "version": "3.9.12"
  }
 },
 "nbformat": 4,
 "nbformat_minor": 2
}
