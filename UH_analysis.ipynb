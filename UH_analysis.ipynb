{
 "cells": [
  {
   "cell_type": "code",
   "execution_count": 1,
   "metadata": {},
   "outputs": [],
   "source": [
    "import warnings\n",
    "warnings.filterwarnings(\"ignore\", category=DeprecationWarning)\n",
    "\n",
    "import matplotlib.pyplot as plt\n",
    "import seaborn as sns\n",
    "import pandas as pd\n",
    "import numpy as np\n",
    "import pprint\n",
    "from custom_library.custom_lib import *\n",
    "\n",
    "from sklearn.feature_extraction.text import CountVectorizer, TfidfTransformer\n",
    "\n",
    "from collections import defaultdict\n",
    "from collections import Counter, ChainMap\n",
    "\n",
    "\n",
    "plt.style.use(style='seaborn')\n",
    "%matplotlib inline\n",
    "sns.set()\n"
   ]
  },
  {
   "cell_type": "markdown",
   "metadata": {},
   "source": [
    "# Import data set:"
   ]
  },
  {
   "cell_type": "markdown",
   "metadata": {},
   "source": [
    "Below we see the shape of the whole dataset."
   ]
  },
  {
   "cell_type": "code",
   "execution_count": 2,
   "metadata": {},
   "outputs": [
    {
     "data": {
      "text/plain": [
       "(9359, 5)"
      ]
     },
     "execution_count": 2,
     "metadata": {},
     "output_type": "execute_result"
    }
   ],
   "source": [
    "pd.options.mode.chained_assignment = None\n",
    "\n",
    "df_full = import_dataset(encoding='utf-8')\n",
    "# Convert json to csv:\n",
    "# df_full.to_csv('../data/dk_asylum_data_1.csv', encoding='utf-8', index=False)\n",
    "df_full.shape\n",
    "\n"
   ]
  },
  {
   "cell_type": "markdown",
   "metadata": {},
   "source": [
    "# Dataset preprocessing:\n",
    "\n",
    "Cases of Unknown Homeland (Ukendt hjemland) are kept.\n",
    "\n",
    "Below we see the shape and head of the dataset."
   ]
  },
  {
   "cell_type": "code",
   "execution_count": 3,
   "metadata": {},
   "outputs": [
    {
     "data": {
      "text/plain": [
       "(192, 1)"
      ]
     },
     "execution_count": 3,
     "metadata": {},
     "output_type": "execute_result"
    }
   ],
   "source": [
    "df_UH = df_full[df_full.country == \"Ukendt hjemland\"]\n",
    "\n",
    "# Drop redundant column:\n",
    "df_UH.drop('hasText', axis=1, inplace=True)\n",
    "\n",
    "# Keep column 'text':\n",
    "df = df_UH[['text']]\n",
    "\n",
    "df[\"text\"] = df[\"text\"].astype(str)\n",
    "\n",
    "df.shape"
   ]
  },
  {
   "cell_type": "code",
   "execution_count": 4,
   "metadata": {},
   "outputs": [
    {
     "data": {
      "text/html": [
       "<div>\n",
       "<style scoped>\n",
       "    .dataframe tbody tr th:only-of-type {\n",
       "        vertical-align: middle;\n",
       "    }\n",
       "\n",
       "    .dataframe tbody tr th {\n",
       "        vertical-align: top;\n",
       "    }\n",
       "\n",
       "    .dataframe thead th {\n",
       "        text-align: right;\n",
       "    }\n",
       "</style>\n",
       "<table border=\"1\" class=\"dataframe\">\n",
       "  <thead>\n",
       "    <tr style=\"text-align: right;\">\n",
       "      <th></th>\n",
       "      <th>text</th>\n",
       "    </tr>\n",
       "  </thead>\n",
       "  <tbody>\n",
       "    <tr>\n",
       "      <th>224</th>\n",
       "      <td>Nævnet stadfæstede i november 2021 Udl...</td>\n",
       "    </tr>\n",
       "    <tr>\n",
       "      <th>451</th>\n",
       "      <td>Nævnet stadfæstede i juni 2021 Udlændi...</td>\n",
       "    </tr>\n",
       "    <tr>\n",
       "      <th>487</th>\n",
       "      <td>Nævnet stadfæstede i juni 2021 Udlændi...</td>\n",
       "    </tr>\n",
       "    <tr>\n",
       "      <th>930</th>\n",
       "      <td>Nævnet stadfæstede i december 2020 Udl...</td>\n",
       "    </tr>\n",
       "    <tr>\n",
       "      <th>1320</th>\n",
       "      <td>Nævnet hjemviste i juni 2020 Udlænding...</td>\n",
       "    </tr>\n",
       "  </tbody>\n",
       "</table>\n",
       "</div>"
      ],
      "text/plain": [
       "                                                   text\n",
       "224           Nævnet stadfæstede i november 2021 Udl...\n",
       "451           Nævnet stadfæstede i juni 2021 Udlændi...\n",
       "487           Nævnet stadfæstede i juni 2021 Udlændi...\n",
       "930           Nævnet stadfæstede i december 2020 Udl...\n",
       "1320          Nævnet hjemviste i juni 2020 Udlænding..."
      ]
     },
     "execution_count": 4,
     "metadata": {},
     "output_type": "execute_result"
    }
   ],
   "source": [
    "\n",
    "df.head()"
   ]
  },
  {
   "cell_type": "markdown",
   "metadata": {},
   "source": [
    "Check for potential duplicates and drop them:"
   ]
  },
  {
   "cell_type": "code",
   "execution_count": 5,
   "metadata": {},
   "outputs": [
    {
     "data": {
      "text/html": [
       "<div>\n",
       "<style scoped>\n",
       "    .dataframe tbody tr th:only-of-type {\n",
       "        vertical-align: middle;\n",
       "    }\n",
       "\n",
       "    .dataframe tbody tr th {\n",
       "        vertical-align: top;\n",
       "    }\n",
       "\n",
       "    .dataframe thead th {\n",
       "        text-align: right;\n",
       "    }\n",
       "</style>\n",
       "<table border=\"1\" class=\"dataframe\">\n",
       "  <thead>\n",
       "    <tr style=\"text-align: right;\">\n",
       "      <th></th>\n",
       "      <th>text</th>\n",
       "    </tr>\n",
       "  </thead>\n",
       "  <tbody>\n",
       "    <tr>\n",
       "      <th>1362</th>\n",
       "      <td>Nævnet stadfæstede i maj 2020 Udlændin...</td>\n",
       "    </tr>\n",
       "    <tr>\n",
       "      <th>1381</th>\n",
       "      <td>Nævnet stadfæstede i maj 2020 Udlændin...</td>\n",
       "    </tr>\n",
       "    <tr>\n",
       "      <th>4035</th>\n",
       "      <td>Nævnet stadfæstede i januar 2018 Udlæn...</td>\n",
       "    </tr>\n",
       "    <tr>\n",
       "      <th>4036</th>\n",
       "      <td>Nævnet stadfæstede i januar 2018 Udlæn...</td>\n",
       "    </tr>\n",
       "    <tr>\n",
       "      <th>4090</th>\n",
       "      <td>Nævnet stadfæstede i januar 2018 Udlæn...</td>\n",
       "    </tr>\n",
       "    <tr>\n",
       "      <th>4093</th>\n",
       "      <td>Nævnet stadfæstede i januar 2018 Udlæn...</td>\n",
       "    </tr>\n",
       "  </tbody>\n",
       "</table>\n",
       "</div>"
      ],
      "text/plain": [
       "                                                   text\n",
       "1362          Nævnet stadfæstede i maj 2020 Udlændin...\n",
       "1381          Nævnet stadfæstede i maj 2020 Udlændin...\n",
       "4035          Nævnet stadfæstede i januar 2018 Udlæn...\n",
       "4036          Nævnet stadfæstede i januar 2018 Udlæn...\n",
       "4090          Nævnet stadfæstede i januar 2018 Udlæn...\n",
       "4093          Nævnet stadfæstede i januar 2018 Udlæn..."
      ]
     },
     "execution_count": 5,
     "metadata": {},
     "output_type": "execute_result"
    }
   ],
   "source": [
    "duplicates_df = df[df.duplicated(['text'], keep=False)]\n",
    "#pd.concat(g for _, g in df.groupby(\"text\") if len(g) > 1)\n",
    "\n",
    "# See all duplicates:\n",
    "duplicates_df"
   ]
  },
  {
   "cell_type": "code",
   "execution_count": 6,
   "metadata": {},
   "outputs": [
    {
     "data": {
      "text/plain": [
       "(189, 1)"
      ]
     },
     "execution_count": 6,
     "metadata": {},
     "output_type": "execute_result"
    }
   ],
   "source": [
    "# Drop duplicates from original dataframe:\n",
    "df = df.drop_duplicates()\n",
    "\n",
    "# Check shape again:\n",
    "df.shape"
   ]
  },
  {
   "cell_type": "markdown",
   "metadata": {},
   "source": [
    "## Length of texts\n",
    "\n",
    "Create a numeric column in order to get a feel about the length of the texts. "
   ]
  },
  {
   "cell_type": "code",
   "execution_count": 7,
   "metadata": {},
   "outputs": [
    {
     "data": {
      "text/html": [
       "<div>\n",
       "<style scoped>\n",
       "    .dataframe tbody tr th:only-of-type {\n",
       "        vertical-align: middle;\n",
       "    }\n",
       "\n",
       "    .dataframe tbody tr th {\n",
       "        vertical-align: top;\n",
       "    }\n",
       "\n",
       "    .dataframe thead th {\n",
       "        text-align: right;\n",
       "    }\n",
       "</style>\n",
       "<table border=\"1\" class=\"dataframe\">\n",
       "  <thead>\n",
       "    <tr style=\"text-align: right;\">\n",
       "      <th></th>\n",
       "      <th>count</th>\n",
       "      <th>mean</th>\n",
       "      <th>std</th>\n",
       "      <th>min</th>\n",
       "      <th>25%</th>\n",
       "      <th>50%</th>\n",
       "      <th>75%</th>\n",
       "      <th>max</th>\n",
       "    </tr>\n",
       "  </thead>\n",
       "  <tbody>\n",
       "    <tr>\n",
       "      <th>length</th>\n",
       "      <td>189.0</td>\n",
       "      <td>5008.539683</td>\n",
       "      <td>2046.292952</td>\n",
       "      <td>1104.0</td>\n",
       "      <td>3532.0</td>\n",
       "      <td>4753.0</td>\n",
       "      <td>6057.0</td>\n",
       "      <td>13105.0</td>\n",
       "    </tr>\n",
       "  </tbody>\n",
       "</table>\n",
       "</div>"
      ],
      "text/plain": [
       "        count         mean          std     min     25%     50%     75%  \\\n",
       "length  189.0  5008.539683  2046.292952  1104.0  3532.0  4753.0  6057.0   \n",
       "\n",
       "            max  \n",
       "length  13105.0  "
      ]
     },
     "execution_count": 7,
     "metadata": {},
     "output_type": "execute_result"
    }
   ],
   "source": [
    "df['length'] = df['text'].str.len()\n",
    "\n",
    "df.describe().T"
   ]
  },
  {
   "cell_type": "markdown",
   "metadata": {},
   "source": [
    "## Boxplot:"
   ]
  },
  {
   "cell_type": "code",
   "execution_count": 8,
   "metadata": {},
   "outputs": [
    {
     "data": {
      "text/plain": [
       "<AxesSubplot:>"
      ]
     },
     "execution_count": 8,
     "metadata": {},
     "output_type": "execute_result"
    },
    {
     "data": {
      "image/png": "[encoded data removed]",
      "text/plain": [
       "<Figure size 432x288 with 1 Axes>"
      ]
     },
     "metadata": {},
     "output_type": "display_data"
    }
   ],
   "source": [
    "# Box plot:\n",
    "df['length'].plot(kind='box', vert=False)"
   ]
  },
  {
   "cell_type": "markdown",
   "metadata": {},
   "source": [
    "## Histogram:"
   ]
  },
  {
   "cell_type": "code",
   "execution_count": 9,
   "metadata": {},
   "outputs": [
    {
     "data": {
      "text/plain": [
       "<AxesSubplot:ylabel='Frequency'>"
      ]
     },
     "execution_count": 9,
     "metadata": {},
     "output_type": "execute_result"
    },
    {
     "data": {
      "image/png": "[encoded data removed]",
      "text/plain": [
       "<Figure size 432x288 with 1 Axes>"
      ]
     },
     "metadata": {},
     "output_type": "display_data"
    }
   ],
   "source": [
    "# Histogram:\n",
    "df['length'].plot(kind='hist', bins=30)\n"
   ]
  },
  {
   "cell_type": "markdown",
   "metadata": {},
   "source": [
    "# Create a pipeline:"
   ]
  },
  {
   "cell_type": "markdown",
   "metadata": {},
   "source": [
    "The pipeline consists of the following steps:\n",
    "\n",
    "- Lowercase all characters\n",
    "- Drop numbers\n",
    "- Remove punctuation\n",
    "- Remove stopwords. The list of stopwords can be found [here](https://github.com/jethronap/AsylumData_KU/blob/main/misc/stopwords_dk.txt).\n",
    "- Single letter words are dropped, too.\n",
    "- Tokenization\n",
    "- Lemmatization. The process during which all words are turned into its roots. \n",
    "\n",
    "Steps can be added or removed from the pipeline."
   ]
  },
  {
   "cell_type": "code",
   "execution_count": 10,
   "metadata": {},
   "outputs": [],
   "source": [
    "pipeline = [str.lower, remove_punctuation, remove_stopwords, drop_single_letter_words,\n",
    "            tokenize, lemmatize]\n",
    "\n",
    "\n",
    "def process(text, pipeline):\n",
    "    tokens = text\n",
    "    for transform in pipeline:\n",
    "        tokens = transform(tokens)\n",
    "    return tokens\n"
   ]
  },
  {
   "cell_type": "code",
   "execution_count": 11,
   "metadata": {},
   "outputs": [],
   "source": [
    "# Apply the process pipeline:\n",
    "df['tokens'] = df['text'].apply(process, pipeline=pipeline)\n",
    "\n",
    "# Add column to see the number of tokens:\n",
    "df['num_tokens'] = df['tokens'].map(len)"
   ]
  },
  {
   "cell_type": "code",
   "execution_count": 12,
   "metadata": {},
   "outputs": [
    {
     "data": {
      "text/html": [
       "<div>\n",
       "<style scoped>\n",
       "    .dataframe tbody tr th:only-of-type {\n",
       "        vertical-align: middle;\n",
       "    }\n",
       "\n",
       "    .dataframe tbody tr th {\n",
       "        vertical-align: top;\n",
       "    }\n",
       "\n",
       "    .dataframe thead th {\n",
       "        text-align: right;\n",
       "    }\n",
       "</style>\n",
       "<table border=\"1\" class=\"dataframe\">\n",
       "  <thead>\n",
       "    <tr style=\"text-align: right;\">\n",
       "      <th></th>\n",
       "      <th>text</th>\n",
       "      <th>length</th>\n",
       "      <th>tokens</th>\n",
       "      <th>num_tokens</th>\n",
       "    </tr>\n",
       "  </thead>\n",
       "  <tbody>\n",
       "    <tr>\n",
       "      <th>224</th>\n",
       "      <td>Nævnet stadfæstede i november 2021 Udl...</td>\n",
       "      <td>4753</td>\n",
       "      <td>[stadfæste, 2021, udlændingestyrels, afgørelse...</td>\n",
       "      <td>333</td>\n",
       "    </tr>\n",
       "    <tr>\n",
       "      <th>451</th>\n",
       "      <td>Nævnet stadfæstede i juni 2021 Udlændi...</td>\n",
       "      <td>3149</td>\n",
       "      <td>[stadfæste, 2021, udlændingestyrels, afgørelse...</td>\n",
       "      <td>225</td>\n",
       "    </tr>\n",
       "    <tr>\n",
       "      <th>487</th>\n",
       "      <td>Nævnet stadfæstede i juni 2021 Udlændi...</td>\n",
       "      <td>4433</td>\n",
       "      <td>[stadfæste, 2021, udlændingestyrels, afgørelse...</td>\n",
       "      <td>324</td>\n",
       "    </tr>\n",
       "    <tr>\n",
       "      <th>930</th>\n",
       "      <td>Nævnet stadfæstede i december 2020 Udl...</td>\n",
       "      <td>2664</td>\n",
       "      <td>[stadfæste, 2020, udlændingestyrels, afgørelse...</td>\n",
       "      <td>187</td>\n",
       "    </tr>\n",
       "    <tr>\n",
       "      <th>1320</th>\n",
       "      <td>Nævnet hjemviste i juni 2020 Udlænding...</td>\n",
       "      <td>4626</td>\n",
       "      <td>[hjemvise, 2020, udlændingestyrels, afgørelse,...</td>\n",
       "      <td>330</td>\n",
       "    </tr>\n",
       "  </tbody>\n",
       "</table>\n",
       "</div>"
      ],
      "text/plain": [
       "                                                   text  length  \\\n",
       "224           Nævnet stadfæstede i november 2021 Udl...    4753   \n",
       "451           Nævnet stadfæstede i juni 2021 Udlændi...    3149   \n",
       "487           Nævnet stadfæstede i juni 2021 Udlændi...    4433   \n",
       "930           Nævnet stadfæstede i december 2020 Udl...    2664   \n",
       "1320          Nævnet hjemviste i juni 2020 Udlænding...    4626   \n",
       "\n",
       "                                                 tokens  num_tokens  \n",
       "224   [stadfæste, 2021, udlændingestyrels, afgørelse...         333  \n",
       "451   [stadfæste, 2021, udlændingestyrels, afgørelse...         225  \n",
       "487   [stadfæste, 2021, udlændingestyrels, afgørelse...         324  \n",
       "930   [stadfæste, 2020, udlændingestyrels, afgørelse...         187  \n",
       "1320  [hjemvise, 2020, udlændingestyrels, afgørelse,...         330  "
      ]
     },
     "execution_count": 12,
     "metadata": {},
     "output_type": "execute_result"
    }
   ],
   "source": [
    "df.head()"
   ]
  },
  {
   "cell_type": "markdown",
   "metadata": {},
   "source": [
    "# Analysis:"
   ]
  },
  {
   "cell_type": "markdown",
   "metadata": {},
   "source": [
    "## Quantitative analysis:"
   ]
  },
  {
   "cell_type": "markdown",
   "metadata": {},
   "source": [
    "## Decision extraction:"
   ]
  },
  {
   "cell_type": "code",
   "execution_count": 13,
   "metadata": {},
   "outputs": [],
   "source": [
    "df['tokens_joined'] = [' '.join(token) for token in df['tokens']]"
   ]
  },
  {
   "cell_type": "code",
   "execution_count": 41,
   "metadata": {},
   "outputs": [],
   "source": [
    "\n",
    "# df_stad = df['tokens_joined'].str.contains('stadfæste', regex=True)\n",
    "# df_hem = df['tokens_joined'].str.contains('hjemvise', regex=True)\n",
    "# df_med = df['tokens_joined'].str.contains('meddele', regex=True)\n",
    "\n",
    "# # df['decision'] = np.where(df_stad & (df_hem | df_med), \"check\", np.nan)\n",
    "# df['decision'] = np.where((df_hem | df_med) & df_stad, \"denied\", np.where(\n",
    "#     df_hem | df_med, \"overturned\", np.where(df_stad, \"denied\", np.nan)))\n",
    "\n",
    "df_stad = df['tokens_joined'].str.contains('stadfæst.*?', regex=True) # affirmed decision of Immigration Services\n",
    "df_hem = df['tokens_joined'].str.contains('hjemvis.*?', regex=True) # overturned decision of Immigration Services\n",
    "df_med = df['tokens_joined'].str.contains('meddel.*?', regex=True) # overturned decision of Immigration Services\n",
    "df_omg = df['tokens_joined'].str.contains('omgjor.*?|omgør.*?', regex=True) # overturned decision of Immigration Services\n",
    "df_ame = df['tokens_joined'].str.contains('ændr.*?', regex=True) # overturned decision of Immigration Services\n",
    "df_oph = df['tokens_joined'].str.contains('ophæv.*?', regex=True) # overturned decision of Immigration Services\n",
    "\n",
    "df['decision'] = np.where(df_stad, 'affirmed', np.where(df_hem | df_med | df_omg | df_ame | df_oph, 'overturned', np.nan))\n"
   ]
  },
  {
   "cell_type": "markdown",
   "metadata": {},
   "source": [
    "Plot decision outcomes:"
   ]
  },
  {
   "cell_type": "code",
   "execution_count": 42,
   "metadata": {},
   "outputs": [
    {
     "data": {
      "text/plain": [
       "Text(0, 0.5, 'outcomes')"
      ]
     },
     "execution_count": 42,
     "metadata": {},
     "output_type": "execute_result"
    },
    {
     "data": {
      "image/png": "[encoded data removed]",
      "text/plain": [
       "<Figure size 432x288 with 1 Axes>"
      ]
     },
     "metadata": {},
     "output_type": "display_data"
    }
   ],
   "source": [
    "colors = ['blue', 'orange']\n",
    "\n",
    "# Plot with normalized values:\n",
    "ax = df['decision'].value_counts(normalize=True).mul(100).round(1).plot(\n",
    "    kind='barh', color=colors, title='Decision Outcomes for Unknown Homeland')\n",
    "\n",
    "for container in ax.containers:\n",
    "    ax.bar_label(container, fmt='%.0f%%')\n",
    "ax.set_xlabel('% of outcomes')\n",
    "ax.set_ylabel('outcomes')\n",
    "\n",
    "# Uncomment to plot frequencies:\n",
    "# ax = df['decision'].value_counts().plot(\n",
    "#     kind='barh', color=colors, title='Decision Outcomes for Unknown Homeland')\n",
    "# ax.bar_label(container)\n"
   ]
  },
  {
   "cell_type": "markdown",
   "metadata": {},
   "source": [
    "## Year extraction:"
   ]
  },
  {
   "cell_type": "code",
   "execution_count": 15,
   "metadata": {},
   "outputs": [],
   "source": [
    "df['year'] = df['tokens'].str[1]"
   ]
  },
  {
   "cell_type": "markdown",
   "metadata": {},
   "source": [
    "Plot decision outcomes by year:"
   ]
  },
  {
   "cell_type": "code",
   "execution_count": 43,
   "metadata": {},
   "outputs": [
    {
     "data": {
      "image/png": "[encoded data removed]",
      "text/plain": [
       "<Figure size 360x504 with 1 Axes>"
      ]
     },
     "metadata": {},
     "output_type": "display_data"
    }
   ],
   "source": [
    "ax = df.groupby(['year'])['decision'].value_counts().unstack().plot(\n",
    "    kind='bar', title='Decision Outcomes per Year for Unknown Homeland', figsize=(5, 7), width=0.95)\n",
    "ax.set_xlabel('year')\n",
    "ax.set_ylabel('no. of outcomes')\n",
    "\n",
    "for container in ax.containers:\n",
    "    ax.bar_label(container)"
   ]
  },
  {
   "cell_type": "markdown",
   "metadata": {},
   "source": [
    "## Gender of applicants extraction:"
   ]
  },
  {
   "cell_type": "code",
   "execution_count": 17,
   "metadata": {},
   "outputs": [],
   "source": [
    "male_pat = 'mandl.*?statsborg.*?|mand.*?ansøg.*?|mand.*?klag.*?'\n",
    "female_pat = 'kvinde.*?statsborg.*?|kvinde.*?ansøg.*?|kvinde.*?klag.*?'\n",
    "\n",
    "df_female = df['text'].str.contains(female_pat)\n",
    "df_male = df['text'].str.contains(male_pat)\n",
    "\n",
    "df['gender'] = np.where(df_male, \"male\", np.where(df_female, \"female\", \"unidentified\"))"
   ]
  },
  {
   "cell_type": "markdown",
   "metadata": {},
   "source": [
    "Plot gender distribution:\n",
    "\n",
    "NOTE: unidentified means that the regex pattern used does not fully yield the expected results."
   ]
  },
  {
   "cell_type": "code",
   "execution_count": 18,
   "metadata": {},
   "outputs": [
    {
     "data": {
      "image/png": "[encoded data removed]",
      "text/plain": [
       "<Figure size 432x288 with 1 Axes>"
      ]
     },
     "metadata": {},
     "output_type": "display_data"
    }
   ],
   "source": [
    "# Plot with normalized values:\n",
    "ax = df['gender'].value_counts(normalize=True).mul(100).round(1).plot(\n",
    "    kind='barh', color=colors, title='Gender Distribution for Unknown Homeland')\n",
    "\n",
    "for container in ax.containers:\n",
    "    ax.bar_label(container, fmt='%.0f%%')"
   ]
  },
  {
   "cell_type": "markdown",
   "metadata": {},
   "source": [
    "Plot decision outcome rate by gender:"
   ]
  },
  {
   "cell_type": "code",
   "execution_count": 44,
   "metadata": {},
   "outputs": [
    {
     "data": {
      "image/png": "[encoded data removed]",
      "text/plain": [
       "<Figure size 360x504 with 1 Axes>"
      ]
     },
     "metadata": {},
     "output_type": "display_data"
    }
   ],
   "source": [
    "ax = df.groupby(['gender'])['decision'].value_counts().unstack().plot(\n",
    "    kind='bar', title='Decision Outcomes by Gender for Unknown Homeland', figsize=(5, 7))\n",
    "ax.set_xlabel('gender')\n",
    "ax.set_ylabel('no. of outcomes')\n",
    "\n",
    "for container in ax.containers:\n",
    "    ax.bar_label(container)"
   ]
  },
  {
   "cell_type": "markdown",
   "metadata": {},
   "source": [
    "Plot Decision Outcome Frequencies by Gender for each Year:"
   ]
  },
  {
   "cell_type": "code",
   "execution_count": 45,
   "metadata": {},
   "outputs": [
    {
     "data": {
      "image/png": "[encoded data removed]",
      "text/plain": [
       "<Figure size 1872x1872 with 7 Axes>"
      ]
     },
     "metadata": {},
     "output_type": "display_data"
    }
   ],
   "source": [
    "# Uncomment to plot separate figures:\n",
    "# for year in df['year'].unique():\n",
    "#     ax = df[df.year==year].groupby(['gender'])['decision'].value_counts().unstack().plot(\n",
    "#     kind='bar', title='Decision Outcomes by Gender for Unknown Homeland for '+ str(year))\n",
    "#     ax.set_xlabel('gender')\n",
    "#     ax.set_ylabel('no. of outcomes')\n",
    "\n",
    "#     for container in ax.containers:\n",
    "#         ax.bar_label(container)\n",
    "\n",
    "# Plot all figures in one:\n",
    "plt.figure(figsize=(26, 26))\n",
    "for ix, (key, group) in enumerate(df.groupby('year')):\n",
    "    ax = plt.subplot(3, 4, ix+1)\n",
    "    group.groupby('gender')['decision'].value_counts().unstack().plot(kind='bar', ax=ax)\n",
    "    ax.set_xlabel('year: {}'.format(key))\n",
    "    ax.set_ylabel('no. of outcomes')\n",
    "    for container in ax.containers:\n",
    "        ax.bar_label(container)"
   ]
  },
  {
   "cell_type": "markdown",
   "metadata": {},
   "source": [
    "## Extract Country of Origin:"
   ]
  },
  {
   "cell_type": "code",
   "execution_count": 21,
   "metadata": {},
   "outputs": [],
   "source": [
    "syria_pat = 'Syr.*?|damask*?'\n",
    "irak_pat = 'Irak.*?|irak'\n",
    "kuwait_pat = 'Kuwait'\n",
    "eritrea_pat = 'eritr.*?'\n",
    "algeria_pat = 'alger.*?'\n",
    "iran_pat = 'Iran.*?'\n",
    "myanmar_pat = 'minbya|myanmar'\n",
    "sudan_pat = 'sudan'\n",
    "somalia_pat = 'somalia'\n",
    "georgien_pat = 'rusland.*?|tjetjen.*?|georg.*?'\n",
    "gambia_pat = 'gambia'\n",
    "afghan_pat = 'kabul|afghan.*?'\n",
    "sahara_pat = '.*?sahara'\n",
    "libya_pat = 'tripoli|libyen'\n",
    "liberia_pat = 'Liberia'\n",
    "palestine_pat = 'palæstinens.*?'\n",
    "sierra_pat = 'sierra.*?leone'\n",
    "etiopia_pat = 'etiopien'\n",
    "\n",
    "df_syria = df['tokens_joined'].str.contains(syria_pat)\n",
    "df_irak = df['tokens_joined'].str.contains(irak_pat)\n",
    "df_kuwait = df['tokens_joined'].str.contains(kuwait_pat)\n",
    "df_eritrea = df['tokens_joined'].str.contains(eritrea_pat)\n",
    "df_algeria = df['tokens_joined'].str.contains(algeria_pat)\n",
    "df_iran = df['tokens_joined'].str.contains(iran_pat)\n",
    "df_myanmar = df['tokens_joined'].str.contains(myanmar_pat)\n",
    "df_sudan = df['tokens_joined'].str.contains(sudan_pat)\n",
    "df_somalia = df['tokens_joined'].str.contains(somalia_pat)\n",
    "df_georgien = df['tokens_joined'].str.contains(georgien_pat)\n",
    "df_gambia = df['tokens_joined'].str.contains(gambia_pat)\n",
    "df_afghan = df['tokens_joined'].str.contains(afghan_pat)\n",
    "df_sahara = df['tokens_joined'].str.contains(sahara_pat)\n",
    "df_libya = df['tokens_joined'].str.contains(libya_pat)\n",
    "df_liberia = df['tokens_joined'].str.contains(liberia_pat)\n",
    "df_palestine = df['tokens_joined'].str.contains(palestine_pat)\n",
    "df_sierra = df['tokens_joined'].str.contains(sierra_pat)\n",
    "df_etiopia = df['tokens_joined'].str.contains(etiopia_pat)\n",
    "\n",
    "df['origin'] = np.where(df_myanmar, 'myanmar', np.where(df_irak, \"irak\", \n",
    "    np.where(df_kuwait, \"kuwait\", np.where(df_eritrea, \"eritrea\", np.where(df_iran, 'iran', \n",
    "    np.where(df_algeria, 'algiers', np.where(df_syria, \"syria\", np.where(df_sudan, 'sudan', \n",
    "    np.where(df_somalia, 'somalia', np.where(df_georgien, 'georgien', np.where(df_gambia, 'gambia', \n",
    "    np.where(df_afghan, 'afghanistan', np.where(df_sahara, 'sahara', np.where(df_libya, 'libya', \n",
    "    np.where(df_liberia, 'liberia', np.where(df_palestine, 'palestine', \n",
    "    np.where(df_sierra, 'sierra leone', np.where(df_etiopia, 'etiopia', np.nan))))))))))))))))))\n",
    "    \n"
   ]
  },
  {
   "cell_type": "markdown",
   "metadata": {},
   "source": [
    "Plot distribution of origin:"
   ]
  },
  {
   "cell_type": "code",
   "execution_count": 22,
   "metadata": {},
   "outputs": [
    {
     "data": {
      "image/png": "[encoded data removed]",
      "text/plain": [
       "<Figure size 432x288 with 1 Axes>"
      ]
     },
     "metadata": {},
     "output_type": "display_data"
    }
   ],
   "source": [
    "ax = df['origin'].value_counts().plot(\n",
    "    kind='barh', title='Country of Origin for Unknown Homeland', width=0.95)\n",
    "ax.invert_yaxis()\n",
    "for container in ax.containers:\n",
    "        ax.bar_label(container)"
   ]
  },
  {
   "cell_type": "markdown",
   "metadata": {},
   "source": [
    "Plot decision outcome rate by origin:"
   ]
  },
  {
   "cell_type": "code",
   "execution_count": 46,
   "metadata": {},
   "outputs": [
    {
     "data": {
      "image/png": "[encoded data removed]",
      "text/plain": [
       "<Figure size 504x360 with 1 Axes>"
      ]
     },
     "metadata": {},
     "output_type": "display_data"
    }
   ],
   "source": [
    "ax = df.groupby(df['origin'])['decision'].value_counts().unstack().plot(\n",
    "    kind='bar', title='Decision Outcomes per Origin for Unknown Homeland', figsize=(7, 5), width=0.95)\n",
    "ax.set_xlabel('origin')\n",
    "ax.set_ylabel('no. of outcomes')\n",
    "\n",
    "for container in ax.containers:\n",
    "    ax.bar_label(container)"
   ]
  },
  {
   "cell_type": "markdown",
   "metadata": {},
   "source": [
    "## Search for specific keywords (terms):"
   ]
  },
  {
   "cell_type": "markdown",
   "metadata": {},
   "source": [
    "Look for last names. See how many times are they referred to in the texts."
   ]
  },
  {
   "cell_type": "code",
   "execution_count": 24,
   "metadata": {},
   "outputs": [
    {
     "data": {
      "text/plain": [
       "efternavn    12\n",
       "Name: last_name, dtype: int64"
      ]
     },
     "execution_count": 24,
     "metadata": {},
     "output_type": "execute_result"
    }
   ],
   "source": [
    "df['last_name'] = df['tokens_joined'].str.extract(r'(efternav.?)', re.IGNORECASE)\n",
    "df['last_name'].value_counts()"
   ]
  },
  {
   "cell_type": "markdown",
   "metadata": {},
   "source": [
    "## Keyword in context (KWIC):\n",
    "\n",
    "KWIC analysis produces a list of text fragments of equal length showing the left and right context of a keyword."
   ]
  },
  {
   "cell_type": "markdown",
   "metadata": {},
   "source": [
    "Check the context around `efternavn`. See all 18 context instances of term."
   ]
  },
  {
   "cell_type": "code",
   "execution_count": 25,
   "metadata": {},
   "outputs": [
    {
     "name": "stdout",
     "output_type": "stream",
     "text": [
      "18 random samples out of 18 contexts for 'efternavn':\n",
      "rækenland er registreret som iraker med [et andet  efternavn ], og den kvindelige ansøger [G] ved indrejse i Un\n",
      " registreret som værende fra Irak og med et andet  efternavn  end meddelt de danske myndigheder. Den kvindelige\n",
      "delukkende kendte faderens fornavn, […], men ikke  efternavn et. Når disse og de øvrige divergerende forklaring\n",
      "ste, at de var irakiske statsborgere, og at deres  efternavn  var [et andet end oplyst af ansøgerne senere hen]\n",
      "fternavnet [C]. Ved fornyet afhøring i Danmark er  efternavn et angivet som [D], hvilket svarer til den mandlig\n",
      " herunder personen, [B], der har næsten det samme  efternavn , som ansøgeren har angivet i for-bindelse med asy\n",
      "treret som værende fra Irak og med såvel et andet  efternavn  som en anden fødselsdato end meddelt de danske my\n",
      "som [D], hvilket svarer til den mandlige ansøgers  efternavn . I henhold til de græske myndigheders registrerin\n",
      "rækenland er registreret som iraker med [et andet  efternavn ], og den kvindelige ansøger [G] ved indrejse i Un\n",
      "rækenland er registreret som iraker med [et andet  efternavn ], og den kvindelige ansøger [G] ved indrejse i Un\n",
      "igheders registreringer har hun imidlertid oplyst  efternavn et [E]. Efter en samlet vurdering kan Flygtningenæ\n",
      "ns dokumenter, således at det alene er det sidste  efternavn , som adskiller sig. Disse personer har oplyst, at\n",
      "ningsvis til de danske myndigheder oplyst at have  efternavn et [C]. Ved fornyet afhøring i Danmark er efternav\n",
      "rækenland er registreret som iraker med [et andet  efternavn ], og den kvindelige ansøger [G] ved indrejse i Un\n",
      " som også er hendes nuværende irakiske ægtefælles  efternavn . Sprogtesten kan ikke føre til en anden vurdering\n",
      ", at ansøgeren ved sin ankomst til Danmark brugte  efternavn et [AB], som også er hendes nuværende irakiske ægt\n",
      "er er navnesammenfald mellem denne familie og det  efternavn , ansøgeren er registreret med i Grækenland. Der e\n",
      "ngiven by i Irak, ligesom han har oplyst et andet  efternavn  og en anden fødselsdato end opgivet til de danske\n"
     ]
    }
   ],
   "source": [
    "kwic(df['text'], 'efternavn', print_samples=18)"
   ]
  },
  {
   "cell_type": "markdown",
   "metadata": {},
   "source": [
    "Bellow we apply KWIC for `stk` keyword found from the frequency analysis and print 10 random context appearances.\n",
    "\n",
    "The call is made to the original untokenized & unprocessed dataset."
   ]
  },
  {
   "cell_type": "code",
   "execution_count": 26,
   "metadata": {},
   "outputs": [
    {
     "name": "stdout",
     "output_type": "stream",
     "text": [
      "10 random samples out of 363 contexts for 'stk':\n",
      " eller overgreb omfattet af udlændingelovens § 7,  stk . 1 eller 2, og Flygtningenævnet stadfæster hereft\n",
      "lladelse efter udlændingelovens § 7, stk. 1 eller  stk . 2, er opfyldt. Flygtningenævnet stadfæster derfo\n",
      "ldt, jf. udlændingelovens § 11, stk. 2, jf. § 19,  stk . 2, nr. 1, og § 19 a stk. 2, jf. § 26, stk. 1. Fl\n",
      "eller overgreb, omfattet af udlændingelovens § 7,  stk . 1 eller stk. 2. Flygtnin-genævnet stadfæster der\n",
      "uel forfølgelse omfattet af udlændingelovens § 7,  stk . 1 og stk. 2. Flygtningenævnet stadfæster derfor \n",
      "egrundende forfølgelse, jf. udlændingelovens § 7,  stk . 1 og 2. Flygtningenævnet stadfæster derfor Udlæn\n",
      "han risikerer overgreb, jf. udlændingelovens § 7,  stk . 2. Flygtningenævnet stadfæster derfor Udlændinge\n",
      "holdstilladelse i medfør af udlændingelovens § 7,  stk . 1, eller stk. 2, er derfor ikke opfyldt. Flygtni\n",
      "er for overgreb omfattet af udlændingelovens § 7,  stk . 2. Flygtningenævnet stadfæster derfor Udlændinge\n",
      "for beskyttelsesstatus, jf. udlændingelovens § 7,  stk . 2. Den foretagne sprogtest og de fremlagte dokum\n"
     ]
    }
   ],
   "source": [
    "kwic(df['text'], 'stk', print_samples=10)"
   ]
  },
  {
   "cell_type": "markdown",
   "metadata": {},
   "source": [
    "KWIC for `opholdstilladelse`."
   ]
  },
  {
   "cell_type": "code",
   "execution_count": 27,
   "metadata": {},
   "outputs": [
    {
     "name": "stdout",
     "output_type": "stream",
     "text": [
      "10 random samples out of 228 contexts for 'opholdstilladelse':\n",
      "åledes ikke sandsynliggjort, at betingelserne for  opholdstilladelse  efter udlændingelovens § 7, stk. 1, eller stk. 2,\n",
      "7, stk. 1 eller stk. 2. En ansøgning om humanitær  opholdstilladelse  medfører ikke, at der ikke skal fastsættes en udr\n",
      "tilladelse er opfyldt, da klageren har opnået sin  opholdstilladelse  ved svig, jf. udlændingelovens § 11, stk. 2, jf. \n",
      ". Det følger heraf, at en udlænding, der søger om  opholdstilladelse  efter udlændingelovens § 7, må sandsynliggøre den\n",
      "ærligt belastende for klageren at inddrage hendes  opholdstilladelse , lagt vægt på, at klageren har opholdt sig i Danm\n",
      "inger, som er nødvendige til bedømmelse af, om en  opholdstilladelse  i henhold til loven kan gives. I forhold til iden\n",
      "r sig i Danmark. [F’s] ægtefælle, [B], fik i 2015  opholdstilladelse  i Danmark. Det lægges derfor til grund, at [D] og\n",
      "begrundende konflikter i Libyen, som kan begrunde  opholdstilladelse  efter udlændingelovens § 7. Flygtningenævnet stad\n",
      "af en sådan intensitet, at det vil kunne begrunde  opholdstilladelse  efter udlændingelovens § 7. Heller ikke den omstæ\n",
      "åledes ikke sandsynliggjort, at betingelserne for  opholdstilladelse  efter udlændingelovens § 7, stk. 1, eller stk. 2,\n"
     ]
    }
   ],
   "source": [
    "kwic(df['text'], 'opholdstilladelse', print_samples=10)"
   ]
  },
  {
   "cell_type": "markdown",
   "metadata": {},
   "source": [
    "KWIC for `§ 7` keyword."
   ]
  },
  {
   "cell_type": "code",
   "execution_count": 28,
   "metadata": {},
   "outputs": [
    {
     "name": "stdout",
     "output_type": "stream",
     "text": [
      "10 random samples out of 368 contexts for '§ 7':\n",
      "begrunde opholdstilladelse efter udlændingelovens  § 7 . Heller ikke den omstændighed, at ansøgeren frygt\n",
      "klageren opholdstilladelse efter udlændingelovens  § 7 , stk. 1. Det fremgår af den oprindelige sag, at k\n",
      "begrundende overgreb omfattet af udlændingelovens  § 7 . Endvidere bemærker Flygtningenævnet, at selv hvi\n",
      "meddeles opholdstilladelse efter udlændingelovens  § 7 . Ansøgerne har grundlæggende alle oplyst, at det \n",
      "gelse eller overgreb omfattet af udlændingelovens  § 7 . Flygtningenævnet stadfæster derfor Udlændingesty\n",
      "søger om opholdstilladelse efter udlændingelovens  § 7 , må sandsynliggøre såvel sin identitet som det as\n",
      "gelse eller overgreb omfattet af udlændingelovens  § 7 . Det bemærkes i øvrigt, at oplysningerne om de ge\n",
      "else eller overgreb, omfattet af udlændingelovens  § 7 , stk. 1 eller stk. 2. Flygtnin-genævnet stadfæste\n",
      "søger om opholdstilladelse efter udlændingelovens  § 7 , må sandsynliggøre den identitet og det asylgrund\n",
      "lelse af opholdstilladelse efter udlændingelovens  § 7  er til stede, herunder oplysninger om identitet o\n"
     ]
    }
   ],
   "source": [
    "kwic(df['text'], '§ 7', print_samples=10)\n"
   ]
  },
  {
   "cell_type": "markdown",
   "metadata": {},
   "source": [
    "## Natural Language Processing:"
   ]
  },
  {
   "cell_type": "markdown",
   "metadata": {},
   "source": [
    "## Frequency analysis:\n",
    "\n",
    "Here the most frequent tokens in the **whole** corpus are counted.\n",
    "\n",
    "The table below presents top ten words.\n"
   ]
  },
  {
   "cell_type": "code",
   "execution_count": 29,
   "metadata": {},
   "outputs": [
    {
     "data": {
      "text/html": [
       "<div>\n",
       "<style scoped>\n",
       "    .dataframe tbody tr th:only-of-type {\n",
       "        vertical-align: middle;\n",
       "    }\n",
       "\n",
       "    .dataframe tbody tr th {\n",
       "        vertical-align: top;\n",
       "    }\n",
       "\n",
       "    .dataframe thead th {\n",
       "        text-align: right;\n",
       "    }\n",
       "</style>\n",
       "<table border=\"1\" class=\"dataframe\">\n",
       "  <thead>\n",
       "    <tr style=\"text-align: right;\">\n",
       "      <th></th>\n",
       "      <th>freq</th>\n",
       "    </tr>\n",
       "    <tr>\n",
       "      <th>token</th>\n",
       "      <th></th>\n",
       "    </tr>\n",
       "  </thead>\n",
       "  <tbody>\n",
       "    <tr>\n",
       "      <th>ansøger</th>\n",
       "      <td>4307</td>\n",
       "    </tr>\n",
       "    <tr>\n",
       "      <th>Kuwait</th>\n",
       "      <td>1370</td>\n",
       "    </tr>\n",
       "    <tr>\n",
       "      <th>forklare</th>\n",
       "      <td>1237</td>\n",
       "    </tr>\n",
       "    <tr>\n",
       "      <th>oplyse</th>\n",
       "      <td>815</td>\n",
       "    </tr>\n",
       "    <tr>\n",
       "      <th>myndighed</th>\n",
       "      <td>795</td>\n",
       "    </tr>\n",
       "    <tr>\n",
       "      <th>mandlig</th>\n",
       "      <td>794</td>\n",
       "    </tr>\n",
       "    <tr>\n",
       "      <th>asylmotiv</th>\n",
       "      <td>748</td>\n",
       "    </tr>\n",
       "    <tr>\n",
       "      <th>forklaring</th>\n",
       "      <td>675</td>\n",
       "    </tr>\n",
       "    <tr>\n",
       "      <th>lægge</th>\n",
       "      <td>649</td>\n",
       "    </tr>\n",
       "    <tr>\n",
       "      <th>demonstration</th>\n",
       "      <td>628</td>\n",
       "    </tr>\n",
       "  </tbody>\n",
       "</table>\n",
       "</div>"
      ],
      "text/plain": [
       "               freq\n",
       "token              \n",
       "ansøger        4307\n",
       "Kuwait         1370\n",
       "forklare       1237\n",
       "oplyse          815\n",
       "myndighed       795\n",
       "mandlig         794\n",
       "asylmotiv       748\n",
       "forklaring      675\n",
       "lægge           649\n",
       "demonstration   628"
      ]
     },
     "execution_count": 29,
     "metadata": {},
     "output_type": "execute_result"
    }
   ],
   "source": [
    "# See ten most frequent words in the whole corpus:\n",
    "freq_df = count_words(df) \n",
    "freq_df.head(10)\n",
    "\n",
    "# See all words with their frequencies:\n",
    "# pd.value_counts(np.hstack(df['tokens']))"
   ]
  },
  {
   "cell_type": "code",
   "execution_count": 30,
   "metadata": {},
   "outputs": [
    {
     "data": {
      "text/plain": [
       "[Text(0.5, 0, 'Frequency'), Text(0, 0.5, 'Token'), Text(0.5, 1.0, 'Top Words')]"
      ]
     },
     "execution_count": 30,
     "metadata": {},
     "output_type": "execute_result"
    },
    {
     "data": {
      "image/png": "[encoded data removed]",
      "text/plain": [
       "<Figure size 432x288 with 1 Axes>"
      ]
     },
     "metadata": {},
     "output_type": "display_data"
    }
   ],
   "source": [
    "# Plot the results:\n",
    "ax = freq_df.head(15).plot(kind='barh', width=0.95) \n",
    "ax.invert_yaxis()\n",
    "ax.set(xlabel='Frequency', ylabel='Token', title='Top Words')"
   ]
  },
  {
   "cell_type": "markdown",
   "metadata": {},
   "source": [
    "## N-gram analysis:"
   ]
  },
  {
   "cell_type": "markdown",
   "metadata": {},
   "source": [
    "**N-grams** are neighboring sequences of items (words, letters, symbols) in a document. \n",
    "\n",
    "Most of the times a probability is assigned to the occurrence of a N-gram (or a word occurring next in a sequence of words). This can help decide which N-grams can be chunked together to form single entities or make predictions for next words (other possible use cases include spelling corrections).  \n",
    "\n",
    "[Here](https://web.stanford.edu/~jurafsky/slp3/slides/LM_4.pdf), are some slides from Stanford which provide an introduction to N-gram models and the math that goes with it. "
   ]
  },
  {
   "cell_type": "code",
   "execution_count": 31,
   "metadata": {},
   "outputs": [],
   "source": [
    "df['tokens_joined'] = [' '.join(token) for token in df['tokens']]"
   ]
  },
  {
   "cell_type": "code",
   "execution_count": 32,
   "metadata": {},
   "outputs": [],
   "source": [
    "values = defaultdict(int)\n",
    "\n",
    "# Get the count of every bigram in the data set from last processed column:\n",
    "for text in df['tokens_joined']:\n",
    "    for word in generate_N_grams(text, 2):\n",
    "        values[word] += 1"
   ]
  },
  {
   "cell_type": "code",
   "execution_count": 33,
   "metadata": {},
   "outputs": [],
   "source": [
    "# Focus on more frequently occuring words.\n",
    "# Sort in descending order with respect to the column of interest:\n",
    "df_processed = pd.DataFrame(sorted(values.items(), key=lambda x: x[1], reverse=True))\n",
    "\n",
    "# Ten first values of the first column:\n",
    "c1 = df_processed[0][:10]\n",
    "# Ten first values of the second column:\n",
    "c2 = df_processed[1][:10]\n"
   ]
  },
  {
   "cell_type": "code",
   "execution_count": 34,
   "metadata": {},
   "outputs": [
    {
     "data": {
      "image/png": "[encoded data removed]",
      "text/plain": [
       "<Figure size 1152x288 with 1 Axes>"
      ]
     },
     "metadata": {},
     "output_type": "display_data"
    }
   ],
   "source": [
    "plt.figure(1, figsize=(16, 4))\n",
    "plt.bar(c1, c2, color='purple',\n",
    "        width=0.4)\n",
    "plt.xlabel(\"Combinations of Words in dataframe\")\n",
    "plt.xticks(rotation=90)\n",
    "plt.ylabel(\"Count\")\n",
    "plt.title(\"Top 10 bi-grams in dataframe-BIGRAM ANALYSIS\")\n",
    "# plt.savefig(\"dataset-bigram.png\")\n",
    "plt.show()\n"
   ]
  },
  {
   "cell_type": "markdown",
   "metadata": {},
   "source": [
    "## TF-IDF"
   ]
  },
  {
   "cell_type": "markdown",
   "metadata": {},
   "source": [
    "**Term Frequency (TF):**\n",
    "\n",
    "The number of times a word appears in a document divded by the total number of words in the document. Every document has its own term frequency.\n",
    "\n",
    "A value close to 1 indicates this term is very important to the document — and primarily composed of it. A low value could mean this term is not very important.\n",
    "\n",
    "**Inverse Data Frequency (IDF):**\n",
    "\n",
    "The log of the number of documents divided by the number of documents that contain the word w. Inverse data frequency determines the weight of rare words across all documents in the corpus.\n",
    "\n",
    "A value close to 0 indicates the term is very common — and not very helpful in differentiating this document from another. A higher value indicates the term is not very common and could be crucial to understanding the theme of this document.\n",
    "\n",
    "The **TF-IDF** is the multiplication of TF by IDF.\n",
    "\n",
    "A value close to 0 indicates the term is not important either in the corpus or the document or both. A larger value indicates the term is unique for the document or the corpus or both. This value works best in relation to other terms in the same document, and other documents."
   ]
  },
  {
   "cell_type": "markdown",
   "metadata": {},
   "source": [
    "Below is the shape of the resulting vector of the vocabulary created from the given context."
   ]
  },
  {
   "cell_type": "code",
   "execution_count": 35,
   "metadata": {},
   "outputs": [
    {
     "data": {
      "text/plain": [
       "(189, 4309)"
      ]
     },
     "execution_count": 35,
     "metadata": {},
     "output_type": "execute_result"
    }
   ],
   "source": [
    "# Get the column of interest:\n",
    "docs = df['tokens_joined'].tolist()\n",
    "\n",
    "# Create a vocabulary of words,eliminate stop words if any:\n",
    "\n",
    "cv = CountVectorizer()\n",
    "word_count_vector = cv.fit_transform(docs)\n",
    "\n",
    "# Get shape of resulting vector:\n",
    "word_count_vector.shape\n"
   ]
  },
  {
   "cell_type": "markdown",
   "metadata": {},
   "source": [
    "Ten random words from the vocabulary."
   ]
  },
  {
   "cell_type": "code",
   "execution_count": 36,
   "metadata": {},
   "outputs": [
    {
     "data": {
      "text/plain": [
       "['stadfæste',\n",
       " '2021',\n",
       " 'udlændingestyrels',\n",
       " 'afgørelse',\n",
       " 'vedrørende',\n",
       " 'mandlig',\n",
       " 'statsborger',\n",
       " 'ukendt',\n",
       " 'hjemland',\n",
       " 'indrejst']"
      ]
     },
     "execution_count": 36,
     "metadata": {},
     "output_type": "execute_result"
    }
   ],
   "source": [
    "word_count_vector = cv.fit_transform(docs)\n",
    "\n",
    "# Look at 10 words from our vocabulary:\n",
    "list(cv.vocabulary_.keys())[:10]\n"
   ]
  },
  {
   "cell_type": "markdown",
   "metadata": {},
   "source": [
    "Peek at the IDF values array:"
   ]
  },
  {
   "cell_type": "code",
   "execution_count": 37,
   "metadata": {},
   "outputs": [
    {
     "data": {
      "text/plain": [
       "array([5.55387689, 5.55387689, 3.11152986, ..., 4.63758616, 5.55387689,\n",
       "       3.35665231])"
      ]
     },
     "execution_count": 37,
     "metadata": {},
     "output_type": "execute_result"
    }
   ],
   "source": [
    "tfidf_transformer = TfidfTransformer(smooth_idf=True, use_idf=True)\n",
    "tfidf_transformer.fit(word_count_vector)\n",
    "\n",
    "\n",
    "# Peek at the IDF values:\n",
    "tfidf_transformer.idf_"
   ]
  },
  {
   "cell_type": "code",
   "execution_count": 38,
   "metadata": {},
   "outputs": [
    {
     "data": {
      "text/html": [
       "<div>\n",
       "<style scoped>\n",
       "    .dataframe tbody tr th:only-of-type {\n",
       "        vertical-align: middle;\n",
       "    }\n",
       "\n",
       "    .dataframe tbody tr th {\n",
       "        vertical-align: top;\n",
       "    }\n",
       "\n",
       "    .dataframe thead th {\n",
       "        text-align: right;\n",
       "    }\n",
       "</style>\n",
       "<table border=\"1\" class=\"dataframe\">\n",
       "  <thead>\n",
       "    <tr style=\"text-align: right;\">\n",
       "      <th></th>\n",
       "      <th>doc</th>\n",
       "      <th>keywords</th>\n",
       "    </tr>\n",
       "  </thead>\n",
       "  <tbody>\n",
       "    <tr>\n",
       "      <th>0</th>\n",
       "      <td>stadfæste 2021 udlændingestyrels afgørelse ved...</td>\n",
       "      <td>{'myanmar': 0.392, 'rohingya': 0.293, 'ansøger...</td>\n",
       "    </tr>\n",
       "    <tr>\n",
       "      <th>1</th>\n",
       "      <td>stadfæste 2021 udlændingestyrels afgørelse ved...</td>\n",
       "      <td>{'ansøger': 0.417, 'algerium': 0.387, 'frankri...</td>\n",
       "    </tr>\n",
       "    <tr>\n",
       "      <th>2</th>\n",
       "      <td>stadfæste 2021 udlændingestyrels afgørelse ved...</td>\n",
       "      <td>{'ansøger': 0.378, 'sudan': 0.285, '2020': 0.2...</td>\n",
       "    </tr>\n",
       "    <tr>\n",
       "      <th>3</th>\n",
       "      <td>stadfæste 2020 udlændingestyrels afgørelse ved...</td>\n",
       "      <td>{'somalia': 0.433, 'alshabaab': 0.417, 'kenya'...</td>\n",
       "    </tr>\n",
       "    <tr>\n",
       "      <th>4</th>\n",
       "      <td>hjemvise 2020 udlændingestyrels afgørelse vedr...</td>\n",
       "      <td>{'eritreisk': 0.4, 'eritrea': 0.35, 'etiopisk'...</td>\n",
       "    </tr>\n",
       "    <tr>\n",
       "      <th>...</th>\n",
       "      <td>...</td>\n",
       "      <td>...</td>\n",
       "    </tr>\n",
       "    <tr>\n",
       "      <th>184</th>\n",
       "      <td>stadfæste 2016 udlændingestyrels afgørelse ved...</td>\n",
       "      <td>{'fader': 0.499, 'liyu': 0.343, 'police': 0.29...</td>\n",
       "    </tr>\n",
       "    <tr>\n",
       "      <th>185</th>\n",
       "      <td>stadfæste 2015 udlændingestyrels afgørelse ved...</td>\n",
       "      <td>{'onlf': 0.43, 'ansøger': 0.318, 'police': 0.3...</td>\n",
       "    </tr>\n",
       "    <tr>\n",
       "      <th>186</th>\n",
       "      <td>hjemvise 2015 udlændingestyrels afgørelse vedr...</td>\n",
       "      <td>{'etiopien': 0.196, 'hjemvise': 0.187, 'foreta...</td>\n",
       "    </tr>\n",
       "    <tr>\n",
       "      <th>187</th>\n",
       "      <td>stadfæste 2015 udlændingestyrels afgørelse ved...</td>\n",
       "      <td>{'soldat': 0.531, 'ansøger': 0.218, 'burmesisk...</td>\n",
       "    </tr>\n",
       "    <tr>\n",
       "      <th>188</th>\n",
       "      <td>stadfæste 2015 udlændingestyrels afgørelse ved...</td>\n",
       "      <td>{'algerium': 0.469, 'ukendt': 0.293, 'ansøger'...</td>\n",
       "    </tr>\n",
       "  </tbody>\n",
       "</table>\n",
       "<p>189 rows × 2 columns</p>\n",
       "</div>"
      ],
      "text/plain": [
       "                                                   doc  \\\n",
       "0    stadfæste 2021 udlændingestyrels afgørelse ved...   \n",
       "1    stadfæste 2021 udlændingestyrels afgørelse ved...   \n",
       "2    stadfæste 2021 udlændingestyrels afgørelse ved...   \n",
       "3    stadfæste 2020 udlændingestyrels afgørelse ved...   \n",
       "4    hjemvise 2020 udlændingestyrels afgørelse vedr...   \n",
       "..                                                 ...   \n",
       "184  stadfæste 2016 udlændingestyrels afgørelse ved...   \n",
       "185  stadfæste 2015 udlændingestyrels afgørelse ved...   \n",
       "186  hjemvise 2015 udlændingestyrels afgørelse vedr...   \n",
       "187  stadfæste 2015 udlændingestyrels afgørelse ved...   \n",
       "188  stadfæste 2015 udlændingestyrels afgørelse ved...   \n",
       "\n",
       "                                              keywords  \n",
       "0    {'myanmar': 0.392, 'rohingya': 0.293, 'ansøger...  \n",
       "1    {'ansøger': 0.417, 'algerium': 0.387, 'frankri...  \n",
       "2    {'ansøger': 0.378, 'sudan': 0.285, '2020': 0.2...  \n",
       "3    {'somalia': 0.433, 'alshabaab': 0.417, 'kenya'...  \n",
       "4    {'eritreisk': 0.4, 'eritrea': 0.35, 'etiopisk'...  \n",
       "..                                                 ...  \n",
       "184  {'fader': 0.499, 'liyu': 0.343, 'police': 0.29...  \n",
       "185  {'onlf': 0.43, 'ansøger': 0.318, 'police': 0.3...  \n",
       "186  {'etiopien': 0.196, 'hjemvise': 0.187, 'foreta...  \n",
       "187  {'soldat': 0.531, 'ansøger': 0.218, 'burmesisk...  \n",
       "188  {'algerium': 0.469, 'ukendt': 0.293, 'ansøger'...  \n",
       "\n",
       "[189 rows x 2 columns]"
      ]
     },
     "execution_count": 38,
     "metadata": {},
     "output_type": "execute_result"
    }
   ],
   "source": [
    "# We only need to do this once:\n",
    "feature_names = cv.get_feature_names_out()\n",
    "\n",
    "# Generate tf-idf for all documents in list. docs has 192 documents:\n",
    "tf_idf_vector = tfidf_transformer.transform(cv.transform(docs))\n",
    "\n",
    "results = []\n",
    "for i in range(tf_idf_vector.shape[0]):\n",
    "\n",
    "    # get vector for a single document\n",
    "    curr_vector = tf_idf_vector[i]\n",
    "\n",
    "    # sort the tf-idf vector by descending order of scores\n",
    "    sorted_items = sort_coo(curr_vector.tocoo())   # tocoo() Return a COOrdinate representation of this matrix.\n",
    "\n",
    "    # extract only the top n; n here is 10\n",
    "    keywords = extract_top_n_from_vector(feature_names, sorted_items, 10)\n",
    "\n",
    "    results.append(keywords)\n",
    "\n",
    "df_tfIDF = pd.DataFrame(zip(docs, results), columns=['doc', 'keywords'])\n",
    "# df_tfIDF.shape\n",
    "df_tfIDF\n"
   ]
  },
  {
   "cell_type": "markdown",
   "metadata": {},
   "source": [
    "Twenty most common words based on TF-IDF values"
   ]
  },
  {
   "cell_type": "code",
   "execution_count": 39,
   "metadata": {},
   "outputs": [
    {
     "name": "stdout",
     "output_type": "stream",
     "text": [
      "[   ('klager', 0.81),\n",
      "    ('officer', 0.622),\n",
      "    ('taliban', 0.569),\n",
      "    ('soldat', 0.531),\n",
      "    ('libyen', 0.508),\n",
      "    ('police', 0.492),\n",
      "    ('liyu', 0.492),\n",
      "    ('tjetjenie', 0.465),\n",
      "    ('georgien', 0.465),\n",
      "    ('senegal', 0.464),\n",
      "    ('sierra', 0.462),\n",
      "    ('leone', 0.462),\n",
      "    ('ægtefælle', 0.462),\n",
      "    ('avis', 0.453),\n",
      "    ('libysk', 0.443),\n",
      "    ('hær', 0.436),\n",
      "    ('holland', 0.436),\n",
      "    ('somalia', 0.433),\n",
      "    ('ghanesisk', 0.43),\n",
      "    ('bøde', 0.426)]\n"
     ]
    }
   ],
   "source": [
    "# Create a dictionary from results list of dictionaries:\n",
    "my_dict = dict(ChainMap(*results))\n",
    "\n",
    "c = Counter(my_dict)\n",
    "\n",
    "# Returns top 20 most common pairs:\n",
    "most_common = c.most_common(20)\n",
    "\n",
    "# For getting the keys from `most_common`:\n",
    "my_keys = [key for key, val in most_common]\n",
    "\n",
    "# Add pretty printer:\n",
    "pp = pprint.PrettyPrinter(indent=4)\n",
    "\n",
    "pp.pprint(most_common)\n"
   ]
  },
  {
   "cell_type": "markdown",
   "metadata": {},
   "source": [
    "Plotting the pairs:"
   ]
  },
  {
   "cell_type": "code",
   "execution_count": 40,
   "metadata": {},
   "outputs": [
    {
     "data": {
      "image/png": "[encoded data removed]",
      "text/plain": [
       "<Figure size 432x288 with 1 Axes>"
      ]
     },
     "metadata": {},
     "output_type": "display_data"
    }
   ],
   "source": [
    "# plt.bar(range(len(most_common)), [val[1] for val in most_common], align='center')\n",
    "# plt.xticks(range(len(most_common)), [val[0] for val in most_common])\n",
    "# plt.xticks(rotation=70)\n",
    "\n",
    "# sort values in tuple:\n",
    "sorted_most_common = sorted(most_common, key=lambda x: x[1])\n",
    "\n",
    "fig, ax = plt.subplots()\n",
    "bars = ax.barh([val[0] for val in sorted_most_common], [val[1] for val in sorted_most_common])\n",
    "\n",
    "ax.bar_label(bars)\n",
    "plt.show()"
   ]
  }
 ],
 "metadata": {
  "interpreter": {
   "hash": "b6672ba510bd43d5df0d34395a84685a825e41d35f5301d8abef98bca1680e82"
  },
  "kernelspec": {
   "display_name": "Python 3 (ipykernel)",
   "language": "python",
   "name": "python3"
  },
  "language_info": {
   "codemirror_mode": {
    "name": "ipython",
    "version": 3
   },
   "file_extension": ".py",
   "mimetype": "text/x-python",
   "name": "python",
   "nbconvert_exporter": "python",
   "pygments_lexer": "ipython3",
   "version": "3.9.12"
  }
 },
 "nbformat": 4,
 "nbformat_minor": 2
}
