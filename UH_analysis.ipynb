{
 "cells": [
  {
   "cell_type": "code",
   "execution_count": 1,
   "metadata": {},
   "outputs": [
    {
     "name": "stderr",
     "output_type": "stream",
     "text": [
      "/Users/jnap/opt/anaconda3/lib/python3.9/site-packages/past/builtins/misc.py:45: DeprecationWarning: the imp module is deprecated in favour of importlib; see the module's documentation for alternative uses\n",
      "  from imp import reload\n"
     ]
    }
   ],
   "source": [
    "import matplotlib.pyplot as plt\n",
    "import seaborn as sns\n",
    "import pandas as pd\n",
    "import numpy as np\n",
    "import random\n",
    "import regex as re\n",
    "import pprint\n",
    "\n",
    "from nltk.corpus import stopwords\n",
    "# Need to uncomment the following line in order to download nltk stopwords:\n",
    "# nltk.download('stopwords')\n",
    "import spacy\n",
    "from textacy.extract import keyword_in_context\n",
    "\n",
    "from sklearn.feature_extraction.text import CountVectorizer\n",
    "from sklearn.feature_extraction.text import TfidfTransformer\n",
    "\n",
    "from collections import defaultdict\n",
    "from collections import Counter, ChainMap\n",
    "\n",
    "from gensim import corpora\n",
    "from gensim.models import LdaModel\n",
    "from gensim.models.coherencemodel import CoherenceModel\n",
    "\n",
    "import pyLDAvis\n",
    "import pyLDAvis.gensim_models as gensim_models\n",
    "\n",
    "import warnings\n",
    "warnings.filterwarnings(\"ignore\", category=DeprecationWarning)\n",
    "\n",
    "plt.style.use(style='seaborn')\n",
    "%matplotlib inline\n",
    "sns.set()\n"
   ]
  },
  {
   "cell_type": "markdown",
   "metadata": {},
   "source": [
    "# Import data set:"
   ]
  },
  {
   "cell_type": "code",
   "execution_count": 2,
   "metadata": {},
   "outputs": [
    {
     "data": {
      "text/plain": [
       "(9324, 5)"
      ]
     },
     "execution_count": 2,
     "metadata": {},
     "output_type": "execute_result"
    }
   ],
   "source": [
    "pd.options.mode.chained_assignment = None\n",
    "\n",
    "with open('data/dk_asylum_data.json', encoding='utf-8') as inputfile:\n",
    "    df_full = pd.read_json(inputfile)\n",
    "\n",
    "# Convert json to csv:\n",
    "df_full.to_csv('data/dk_asylum_data.csv', encoding='utf-8', index=False)\n",
    "\n",
    "df_full.shape\n"
   ]
  },
  {
   "cell_type": "markdown",
   "metadata": {},
   "source": [
    "# Dataset preprocessing:\n",
    "\n",
    "## Keep cases of Unknown Homeland (Ukendt hjemland):"
   ]
  },
  {
   "cell_type": "code",
   "execution_count": 3,
   "metadata": {},
   "outputs": [
    {
     "data": {
      "text/html": [
       "<div>\n",
       "<style scoped>\n",
       "    .dataframe tbody tr th:only-of-type {\n",
       "        vertical-align: middle;\n",
       "    }\n",
       "\n",
       "    .dataframe tbody tr th {\n",
       "        vertical-align: top;\n",
       "    }\n",
       "\n",
       "    .dataframe thead th {\n",
       "        text-align: right;\n",
       "    }\n",
       "</style>\n",
       "<table border=\"1\" class=\"dataframe\">\n",
       "  <thead>\n",
       "    <tr style=\"text-align: right;\">\n",
       "      <th></th>\n",
       "      <th>text</th>\n",
       "    </tr>\n",
       "  </thead>\n",
       "  <tbody>\n",
       "    <tr>\n",
       "      <th>201</th>\n",
       "      <td>Nævnet stadfæstede i november 2021 Udl...</td>\n",
       "    </tr>\n",
       "    <tr>\n",
       "      <th>428</th>\n",
       "      <td>Nævnet stadfæstede i juni 2021 Udlændi...</td>\n",
       "    </tr>\n",
       "    <tr>\n",
       "      <th>464</th>\n",
       "      <td>Nævnet stadfæstede i juni 2021 Udlændi...</td>\n",
       "    </tr>\n",
       "    <tr>\n",
       "      <th>901</th>\n",
       "      <td>Nævnet stadfæstede i december 2020 Udl...</td>\n",
       "    </tr>\n",
       "    <tr>\n",
       "      <th>1291</th>\n",
       "      <td>Nævnet hjemviste i juni 2020 Udlænding...</td>\n",
       "    </tr>\n",
       "  </tbody>\n",
       "</table>\n",
       "</div>"
      ],
      "text/plain": [
       "                                                   text\n",
       "201           Nævnet stadfæstede i november 2021 Udl...\n",
       "428           Nævnet stadfæstede i juni 2021 Udlændi...\n",
       "464           Nævnet stadfæstede i juni 2021 Udlændi...\n",
       "901           Nævnet stadfæstede i december 2020 Udl...\n",
       "1291          Nævnet hjemviste i juni 2020 Udlænding..."
      ]
     },
     "execution_count": 3,
     "metadata": {},
     "output_type": "execute_result"
    }
   ],
   "source": [
    "df_UH = df_full[df_full.country == \"Ukendt hjemland\"]\n",
    "\n",
    "# Drop redundant column:\n",
    "df_UH.drop('hasText', axis=1, inplace=True)\n",
    "\n",
    "# Keep column 'text':\n",
    "df = df_UH[['text']]\n",
    "\n",
    "df[\"text\"] = df[\"text\"].astype(str)\n",
    "\n",
    "df.shape\n",
    "\n",
    "df.head()\n"
   ]
  },
  {
   "cell_type": "markdown",
   "metadata": {},
   "source": [
    "## Length of texts\n",
    "\n",
    "Create a numeric column in order to get a feel about the length of the texts. "
   ]
  },
  {
   "cell_type": "code",
   "execution_count": 4,
   "metadata": {},
   "outputs": [
    {
     "data": {
      "text/html": [
       "<div>\n",
       "<style scoped>\n",
       "    .dataframe tbody tr th:only-of-type {\n",
       "        vertical-align: middle;\n",
       "    }\n",
       "\n",
       "    .dataframe tbody tr th {\n",
       "        vertical-align: top;\n",
       "    }\n",
       "\n",
       "    .dataframe thead th {\n",
       "        text-align: right;\n",
       "    }\n",
       "</style>\n",
       "<table border=\"1\" class=\"dataframe\">\n",
       "  <thead>\n",
       "    <tr style=\"text-align: right;\">\n",
       "      <th></th>\n",
       "      <th>count</th>\n",
       "      <th>mean</th>\n",
       "      <th>std</th>\n",
       "      <th>min</th>\n",
       "      <th>25%</th>\n",
       "      <th>50%</th>\n",
       "      <th>75%</th>\n",
       "      <th>max</th>\n",
       "    </tr>\n",
       "  </thead>\n",
       "  <tbody>\n",
       "    <tr>\n",
       "      <th>length</th>\n",
       "      <td>192.0</td>\n",
       "      <td>5016.598958</td>\n",
       "      <td>2045.83413</td>\n",
       "      <td>1104.0</td>\n",
       "      <td>3522.0</td>\n",
       "      <td>4789.0</td>\n",
       "      <td>6148.75</td>\n",
       "      <td>13105.0</td>\n",
       "    </tr>\n",
       "  </tbody>\n",
       "</table>\n",
       "</div>"
      ],
      "text/plain": [
       "        count         mean         std     min     25%     50%      75%  \\\n",
       "length  192.0  5016.598958  2045.83413  1104.0  3522.0  4789.0  6148.75   \n",
       "\n",
       "            max  \n",
       "length  13105.0  "
      ]
     },
     "execution_count": 4,
     "metadata": {},
     "output_type": "execute_result"
    }
   ],
   "source": [
    "df['length'] = df['text'].str.len()\n",
    "\n",
    "df.describe().T"
   ]
  },
  {
   "cell_type": "markdown",
   "metadata": {},
   "source": [
    "## Boxplot:"
   ]
  },
  {
   "cell_type": "code",
   "execution_count": 5,
   "metadata": {},
   "outputs": [
    {
     "data": {
      "text/plain": [
       "<AxesSubplot:>"
      ]
     },
     "execution_count": 5,
     "metadata": {},
     "output_type": "execute_result"
    },
    {
     "data": {
      "image/png": "[encoded data removed]",
      "text/plain": [
       "<Figure size 432x288 with 1 Axes>"
      ]
     },
     "metadata": {},
     "output_type": "display_data"
    }
   ],
   "source": [
    "# Box plot:\n",
    "df['length'].plot(kind='box', vert=False)"
   ]
  },
  {
   "cell_type": "markdown",
   "metadata": {},
   "source": [
    "## Histogram:"
   ]
  },
  {
   "cell_type": "code",
   "execution_count": 6,
   "metadata": {},
   "outputs": [
    {
     "data": {
      "text/plain": [
       "<AxesSubplot:ylabel='Frequency'>"
      ]
     },
     "execution_count": 6,
     "metadata": {},
     "output_type": "execute_result"
    },
    {
     "data": {
      "image/png": "[encoded data removed]",
      "text/plain": [
       "<Figure size 432x288 with 1 Axes>"
      ]
     },
     "metadata": {},
     "output_type": "display_data"
    }
   ],
   "source": [
    "# Histogram:\n",
    "df['length'].plot(kind='hist', bins=30)\n"
   ]
  },
  {
   "cell_type": "markdown",
   "metadata": {},
   "source": [
    "# Create a pipeline:\n",
    "\n",
    "Below are the steps taken to process the texts."
   ]
  },
  {
   "cell_type": "code",
   "execution_count": 7,
   "metadata": {},
   "outputs": [],
   "source": [
    "nlp = spacy.load(\"da_core_news_md\")\n",
    "\n",
    "STOPWORDS_DANISH = set(stopwords.words('danish'))\n",
    "\n",
    "stopwords_to_include = {'nævnet', 'stadfæstede', 'januar', 'februar', 'marts', 'april',\n",
    "'maj', 'juni', 'juli', 'august', 'september', 'oktober', 'november', 'december'}\n",
    "\n",
    "STOPWORDS_DANISH |= stopwords_to_include \n",
    "\n",
    "PUNCTUATION_TO_REMOVE = '–«!\"#$%&\\'()*+,-./:;<=>?@[\\\\]^_`{|}~»●·’“”'"
   ]
  },
  {
   "cell_type": "code",
   "execution_count": 9,
   "metadata": {},
   "outputs": [],
   "source": [
    "def remove_punctuation(text):\n",
    "    \"\"\"custom function to remove the punctuation\"\"\"\n",
    "    return text.translate(str.maketrans('', '', PUNCTUATION_TO_REMOVE))\n",
    "\n",
    "\n",
    "def remove_stopwords(tokens):\n",
    "    \"\"\"custom function to remove stopwords\"\"\"\n",
    "    return [t for t in tokens if t.lower() not in STOPWORDS_DANISH]\n",
    "\n",
    "\n",
    "def tokenize(text):\n",
    "    \"\"\"the following expression matches tokens consisting of at least one letter (\\p{L}), \n",
    "    preceded and followed by an arbitrary sequence of alphanumeric characters \n",
    "    (\\w includes digits, letters, and underscore) and hyphens (-)\"\"\"\n",
    "    return re.findall(r'[\\w-]*\\p{L}[\\w-]*', text)\n",
    "\n",
    "# def tokenize(text):\n",
    "#     doc = nlp.tokenizer(' '.join(text))\n",
    "#     return [token.text for token in doc]\n",
    "\n",
    "def drop_single_letter_words(text):\n",
    "    return [w for w in text if len(w) > 1]\n",
    "\n",
    "\n",
    "def lemmatize(text):\n",
    "    \"\"\"custom function to lemmatize text\"\"\"\n",
    "    doc = nlp(' '.join(text))\n",
    "    # pos_tagged_text = text.pos\n",
    "    return [token.lemma_ for token in doc]\n",
    "\n",
    "\n",
    "# def remove_junk(text):\n",
    "#     # Creating a spacy object\n",
    "#     doc = nlp(' '.join(text))\n",
    "#     # Checking if POS tag is X and printing them\n",
    "#     for token in doc:\n",
    "#         if token.pos_ == 'X':\n",
    "#             print(token.text)\n",
    "#     # Removing the tokens whose POS tag is junk.\n",
    "#     clean_doc = [token.text for token in doc if not token.pos_ == 'X']\n",
    "\n",
    "#     return clean_doc\n"
   ]
  },
  {
   "cell_type": "markdown",
   "metadata": {},
   "source": [
    "Steps can be added or removed from the pipeline."
   ]
  },
  {
   "cell_type": "code",
   "execution_count": 10,
   "metadata": {},
   "outputs": [],
   "source": [
    "pipeline = [str.lower, remove_punctuation, tokenize, remove_stopwords,\n",
    "            lemmatize, drop_single_letter_words]\n",
    "\n",
    "\n",
    "def process(text, pipeline):\n",
    "    tokens = text\n",
    "    for transform in pipeline:\n",
    "        tokens = transform(tokens)\n",
    "    return tokens\n"
   ]
  },
  {
   "cell_type": "code",
   "execution_count": 11,
   "metadata": {},
   "outputs": [],
   "source": [
    "# Apply the process pipeline:\n",
    "df['tokens'] = df['text'].apply(process, pipeline=pipeline)\n",
    "\n",
    "# Add column to see the number of tokens:\n",
    "df['num_tokens'] = df['tokens'].map(len)"
   ]
  },
  {
   "cell_type": "code",
   "execution_count": 12,
   "metadata": {},
   "outputs": [
    {
     "data": {
      "text/html": [
       "<div>\n",
       "<style scoped>\n",
       "    .dataframe tbody tr th:only-of-type {\n",
       "        vertical-align: middle;\n",
       "    }\n",
       "\n",
       "    .dataframe tbody tr th {\n",
       "        vertical-align: top;\n",
       "    }\n",
       "\n",
       "    .dataframe thead th {\n",
       "        text-align: right;\n",
       "    }\n",
       "</style>\n",
       "<table border=\"1\" class=\"dataframe\">\n",
       "  <thead>\n",
       "    <tr style=\"text-align: right;\">\n",
       "      <th></th>\n",
       "      <th>text</th>\n",
       "      <th>length</th>\n",
       "      <th>tokens</th>\n",
       "      <th>num_tokens</th>\n",
       "    </tr>\n",
       "  </thead>\n",
       "  <tbody>\n",
       "    <tr>\n",
       "      <th>201</th>\n",
       "      <td>Nævnet stadfæstede i november 2021 Udl...</td>\n",
       "      <td>4753</td>\n",
       "      <td>[udlændingestyrels, afgørelse, vedrørende, man...</td>\n",
       "      <td>369</td>\n",
       "    </tr>\n",
       "    <tr>\n",
       "      <th>428</th>\n",
       "      <td>Nævnet stadfæstede i juni 2021 Udlændi...</td>\n",
       "      <td>3149</td>\n",
       "      <td>[udlændingestyrels, afgørelse, vedrørende, man...</td>\n",
       "      <td>240</td>\n",
       "    </tr>\n",
       "    <tr>\n",
       "      <th>464</th>\n",
       "      <td>Nævnet stadfæstede i juni 2021 Udlændi...</td>\n",
       "      <td>4433</td>\n",
       "      <td>[udlændingestyrels, afgørelse, vedrørende, man...</td>\n",
       "      <td>342</td>\n",
       "    </tr>\n",
       "    <tr>\n",
       "      <th>901</th>\n",
       "      <td>Nævnet stadfæstede i december 2020 Udl...</td>\n",
       "      <td>2664</td>\n",
       "      <td>[udlændingestyrels, afgørelse, vedrørende, man...</td>\n",
       "      <td>202</td>\n",
       "    </tr>\n",
       "    <tr>\n",
       "      <th>1291</th>\n",
       "      <td>Nævnet hjemviste i juni 2020 Udlænding...</td>\n",
       "      <td>4626</td>\n",
       "      <td>[hjemvise, udlændingestyrels, afgørelse, vedrø...</td>\n",
       "      <td>349</td>\n",
       "    </tr>\n",
       "  </tbody>\n",
       "</table>\n",
       "</div>"
      ],
      "text/plain": [
       "                                                   text  length  \\\n",
       "201           Nævnet stadfæstede i november 2021 Udl...    4753   \n",
       "428           Nævnet stadfæstede i juni 2021 Udlændi...    3149   \n",
       "464           Nævnet stadfæstede i juni 2021 Udlændi...    4433   \n",
       "901           Nævnet stadfæstede i december 2020 Udl...    2664   \n",
       "1291          Nævnet hjemviste i juni 2020 Udlænding...    4626   \n",
       "\n",
       "                                                 tokens  num_tokens  \n",
       "201   [udlændingestyrels, afgørelse, vedrørende, man...         369  \n",
       "428   [udlændingestyrels, afgørelse, vedrørende, man...         240  \n",
       "464   [udlændingestyrels, afgørelse, vedrørende, man...         342  \n",
       "901   [udlændingestyrels, afgørelse, vedrørende, man...         202  \n",
       "1291  [hjemvise, udlændingestyrels, afgørelse, vedrø...         349  "
      ]
     },
     "execution_count": 12,
     "metadata": {},
     "output_type": "execute_result"
    }
   ],
   "source": [
    "df.head()"
   ]
  },
  {
   "cell_type": "markdown",
   "metadata": {},
   "source": [
    "# Analysis:"
   ]
  },
  {
   "cell_type": "markdown",
   "metadata": {},
   "source": [
    "# Frequency analysis:\n",
    "\n",
    "Here we count the most frequent tokens in the **whole** corpus.\n"
   ]
  },
  {
   "cell_type": "code",
   "execution_count": 13,
   "metadata": {},
   "outputs": [],
   "source": [
    "# Transform the counter into a Pandas DataFrame with the following function:\n",
    "\n",
    "\"\"\"\n",
    "The tokens make up the index of the DataFrame, while the frequency values are stored in a column named freq. \n",
    "The rows are sorted so that the most frequent words appear at the head.\n",
    "The last parameter of count_words defines a minimum frequency of tokens to be included in the result. \n",
    "Its default is set to 2 to cut down on tokens occurring only once.\n",
    "\"\"\"\n",
    "\n",
    "def count_words(df, column='tokens', preprocess=None, min_freq=2):\n",
    "    # process tokens and update counter\n",
    "    def update(doc):\n",
    "        tokens = doc if preprocess is None else preprocess(doc)\n",
    "        counter.update(tokens)\n",
    "    # create counter and run through all data\n",
    "    counter = Counter() \n",
    "    df[column].map(update)\n",
    "    # transform counter into a DataFrame\n",
    "    freq_df = pd.DataFrame.from_dict(counter, orient='index', columns=['freq']) \n",
    "    freq_df = freq_df.query('freq >= @min_freq')\n",
    "    freq_df.index.name = 'token'\n",
    "    return freq_df.sort_values('freq', ascending=False)"
   ]
  },
  {
   "cell_type": "code",
   "execution_count": 14,
   "metadata": {},
   "outputs": [
    {
     "data": {
      "text/html": [
       "<div>\n",
       "<style scoped>\n",
       "    .dataframe tbody tr th:only-of-type {\n",
       "        vertical-align: middle;\n",
       "    }\n",
       "\n",
       "    .dataframe tbody tr th {\n",
       "        vertical-align: top;\n",
       "    }\n",
       "\n",
       "    .dataframe thead th {\n",
       "        text-align: right;\n",
       "    }\n",
       "</style>\n",
       "<table border=\"1\" class=\"dataframe\">\n",
       "  <thead>\n",
       "    <tr style=\"text-align: right;\">\n",
       "      <th></th>\n",
       "      <th>freq</th>\n",
       "    </tr>\n",
       "    <tr>\n",
       "      <th>token</th>\n",
       "      <th></th>\n",
       "    </tr>\n",
       "  </thead>\n",
       "  <tbody>\n",
       "    <tr>\n",
       "      <th>ansøger</th>\n",
       "      <td>4380</td>\n",
       "    </tr>\n",
       "    <tr>\n",
       "      <th>Kuwait</th>\n",
       "      <td>1395</td>\n",
       "    </tr>\n",
       "    <tr>\n",
       "      <th>forklare</th>\n",
       "      <td>1249</td>\n",
       "    </tr>\n",
       "    <tr>\n",
       "      <th>flygtningenævn</th>\n",
       "      <td>1142</td>\n",
       "    </tr>\n",
       "    <tr>\n",
       "      <th>oplyse</th>\n",
       "      <td>836</td>\n",
       "    </tr>\n",
       "    <tr>\n",
       "      <th>mandlig</th>\n",
       "      <td>807</td>\n",
       "    </tr>\n",
       "    <tr>\n",
       "      <th>myndighed</th>\n",
       "      <td>803</td>\n",
       "    </tr>\n",
       "    <tr>\n",
       "      <th>ved</th>\n",
       "      <td>756</td>\n",
       "    </tr>\n",
       "    <tr>\n",
       "      <th>asylmotiv</th>\n",
       "      <td>755</td>\n",
       "    </tr>\n",
       "    <tr>\n",
       "      <th>ansøg</th>\n",
       "      <td>726</td>\n",
       "    </tr>\n",
       "  </tbody>\n",
       "</table>\n",
       "</div>"
      ],
      "text/plain": [
       "                freq\n",
       "token               \n",
       "ansøger         4380\n",
       "Kuwait          1395\n",
       "forklare        1249\n",
       "flygtningenævn  1142\n",
       "oplyse           836\n",
       "mandlig          807\n",
       "myndighed        803\n",
       "ved              756\n",
       "asylmotiv        755\n",
       "ansøg            726"
      ]
     },
     "execution_count": 14,
     "metadata": {},
     "output_type": "execute_result"
    }
   ],
   "source": [
    "# See ten most frequent words in the whole corpus:\n",
    "\n",
    "freq_df = count_words(df) \n",
    "freq_df.head(10)"
   ]
  },
  {
   "cell_type": "code",
   "execution_count": 15,
   "metadata": {},
   "outputs": [
    {
     "data": {
      "text/plain": [
       "[Text(0.5, 0, 'Frequency'), Text(0, 0.5, 'Token'), Text(0.5, 1.0, 'Top Words')]"
      ]
     },
     "execution_count": 15,
     "metadata": {},
     "output_type": "execute_result"
    },
    {
     "data": {
      "image/png": "[encoded data removed]",
      "text/plain": [
       "<Figure size 432x288 with 1 Axes>"
      ]
     },
     "metadata": {},
     "output_type": "display_data"
    }
   ],
   "source": [
    "# Plot the results:\n",
    "ax = freq_df.head(15).plot(kind='barh', width=0.95) \n",
    "ax.invert_yaxis()\n",
    "ax.set(xlabel='Frequency', ylabel='Token', title='Top Words')"
   ]
  },
  {
   "cell_type": "markdown",
   "metadata": {},
   "source": [
    "# Keyword in context (KWIC):\n",
    "\n",
    "KWIC analysis produces a list of text fragments of equal length showing the left and right context of a keyword."
   ]
  },
  {
   "cell_type": "code",
   "execution_count": 16,
   "metadata": {},
   "outputs": [],
   "source": [
    "\"\"\"\n",
    "The function iteratively collects the keyword contexts by applying the add_kwic function to each document with map. \n",
    "By default, the function returns a list of tuples of the form (left context, keyword, right context). \n",
    "If print_samples is greater than 0, a random sample of the results is printed. \n",
    "Sampling is especially useful with lots of documents because the first entries of the list \n",
    "would otherwise stem from a single or a very small number of documents.\n",
    "\"\"\"\n",
    "\n",
    "def kwic(doc_series, keyword, window=35, print_samples=5):\n",
    "    def add_kwic(text):\n",
    "        kwic_list.extend(keyword_in_context(text, keyword, ignore_case=True, window_width=window))\n",
    "\n",
    "    kwic_list = []\n",
    "    doc_series.map(add_kwic)\n",
    "\n",
    "    if print_samples is None or print_samples == 0:\n",
    "        return kwic_list\n",
    "    else:\n",
    "        k = min(print_samples, len(kwic_list))\n",
    "        print(f'{k} random samples out of {len(kwic_list)} ' +\n",
    "              f\"contexts for '{keyword}':\")\n",
    "        for sample in random.sample(list(kwic_list), k):\n",
    "            print(re.sub(r'[\\n\\t]', ' ', sample[0]) + ' ' +\n",
    "                  sample[1]+' ' +\n",
    "                  re.sub(r'[\\n\\t]', ' ', sample[2]))\n"
   ]
  },
  {
   "cell_type": "markdown",
   "metadata": {},
   "source": [
    "Bellow we apply KWIC for `stk` keyword found from the frequency analysis and print 10 random context appearances.\n",
    "\n",
    "The call is made to the original untokenized & unprocessed dataset."
   ]
  },
  {
   "cell_type": "code",
   "execution_count": 17,
   "metadata": {},
   "outputs": [
    {
     "name": "stdout",
     "output_type": "stream",
     "text": [
      "10 random samples out of 380 contexts for 'stk':\n",
      "udlændingelovens § 7, stk. 1 eller  stk . 2. Flygtningenævnet stadfæster de\n",
      " omfattet af udlændingelovens § 7,  stk . 1 eller 2. Flygtningenævnet stadf\n",
      "adelse efter udlændingelovens § 7,  stk . 1, eller stk. 2, er opfyldt, og F\n",
      " omfattet af udlændingelovens § 7,  stk . 1 eller stk. 2. Flygtnin-genævnet\n",
      "r. 1, og § 19 a, stk. 2, jf. § 26,  stk . 1, idet bemærkes at klagerens bør\n",
      "jf. § 19, stk. 2, nr. 1 og § 19 a,  stk . 2, jf. § 26, stk. 1. Udlændingest\n",
      "adelse efter udlændingelovens § 7,  stk . 1, eller stk. 2, er opfyldt. Flyg\n",
      " A, nr. 3, og straffelovens § 191,  stk . 2, jf. stk. 1, 1. og 2. pkt., jf.\n",
      "jf. § 19, stk. 2, nr. 1, og § 19 a  stk . 2, jf. § 26, stk. 1. Flygtningenæ\n",
      "udlændingelovens § 7, stk. 1 eller  stk . 2. Det tilføjes, at uanset om ans\n"
     ]
    }
   ],
   "source": [
    "kwic(df['text'], 'stk', print_samples=10)"
   ]
  },
  {
   "cell_type": "markdown",
   "metadata": {},
   "source": [
    "KWIC for `opholdstilladelse`."
   ]
  },
  {
   "cell_type": "code",
   "execution_count": 18,
   "metadata": {},
   "outputs": [
    {
     "name": "stdout",
     "output_type": "stream",
     "text": [
      "10 random samples out of 242 contexts for 'opholdstilladelse':\n",
      " kan således fortsat ikke meddeles  opholdstilladelse  efter udlændingelovens § 7.” Hjem/\n",
      "landet kan ikke i sig selv medføre  opholdstilladelse  efter udlændingelovens § 7. Ansøge\n",
      "beråbt af ansøgerne, ikke føre til  opholdstilladelse  i medfør af udlændingelovens § 7. \n",
      " heraf, at en udlænding, der søger  opholdstilladelse  efter udlændingelovens § 7, må san\n",
      "inder derfor, at betingelserne for  opholdstilladelse  efter udlændingelovens § 7, stk. 1\n",
      "gerens forhold, og det forhold, at  opholdstilladelse n er opnået på baggrund af svig, at\n",
      "in identitet og således har opnået  opholdstilladelse  ved svig. Betingelserne for at ind\n",
      "landet kan ikke i sig selv medføre  opholdstilladelse  efter udlændingelovens § 7. Ansøge\n",
      "for at nægte at forlænge klagerens  opholdstilladelse  i Danmark er opfyldt under henvisn\n",
      "iske myndigheder, der kan begrunde  opholdstilladelse  efter udlændingelovens § 7. Heller\n"
     ]
    }
   ],
   "source": [
    "kwic(df['text'], 'opholdstilladelse', print_samples=10)"
   ]
  },
  {
   "cell_type": "markdown",
   "metadata": {},
   "source": [
    "# N-gram analysis:"
   ]
  },
  {
   "cell_type": "markdown",
   "metadata": {},
   "source": [
    "**N-grams** are neighboring sequences of items (words, letters, symbols) in a document. \n",
    "\n",
    "Most of the times a probability is assigned to the occurrence of a N-gram (or a word occurring next in a sequence of words). This can help decide which N-grams can be chunked together to form single entities or make predictions for next words (other possible use cases include spelling corrections).  \n",
    "\n",
    "[Here](https://web.stanford.edu/~jurafsky/slp3/slides/LM_4.pdf), are some slides from Stanford which provide an introduction to N-gram models and the math that goes with it. "
   ]
  },
  {
   "cell_type": "code",
   "execution_count": 21,
   "metadata": {},
   "outputs": [],
   "source": [
    "def generate_N_grams(text, ngram=1):\n",
    "    \"\"\"\"custom function to generate n-grams\"\"\"\n",
    "    words = [word for word in text.split(\n",
    "        \" \") if word not in set(STOPWORDS_DANISH)]\n",
    "    # print(\"Sentence after removing stopwords:\", words)\n",
    "    # Use the zip function to help us generate n-grams\n",
    "    temp = zip(*[words[i:] for i in range(0, ngram)])\n",
    "    # Concatentate the tokens into ngrams and return\n",
    "    ans = [' '.join(ngram) for ngram in temp]\n",
    "    return ans\n"
   ]
  },
  {
   "cell_type": "code",
   "execution_count": 30,
   "metadata": {},
   "outputs": [],
   "source": [
    "df['tokens_joined'] = [' '.join(token) for token in df['tokens']]"
   ]
  },
  {
   "cell_type": "code",
   "execution_count": 31,
   "metadata": {},
   "outputs": [],
   "source": [
    "values = defaultdict(int)\n",
    "\n",
    "# Get the count of every bigram in the data set from last processed column:\n",
    "for text in df['tokens_joined']:\n",
    "    for word in generate_N_grams(text, 2):\n",
    "        values[word] += 1"
   ]
  },
  {
   "cell_type": "code",
   "execution_count": 32,
   "metadata": {},
   "outputs": [],
   "source": [
    "# Focus on more frequently occuring words.\n",
    "# Sort in descending order with respect to the column of interest:\n",
    "df_processed = pd.DataFrame(\n",
    "    sorted(values.items(), key=lambda x: x[1], reverse=True))\n",
    "\n",
    "# Ten first values of the first column:\n",
    "c1 = df_processed[0][:10]\n",
    "# Ten first values of the second column:\n",
    "c2 = df_processed[1][:10]\n"
   ]
  },
  {
   "cell_type": "code",
   "execution_count": 33,
   "metadata": {},
   "outputs": [
    {
     "data": {
      "image/png": "[encoded data removed]",
      "text/plain": [
       "<Figure size 1152x288 with 1 Axes>"
      ]
     },
     "metadata": {},
     "output_type": "display_data"
    }
   ],
   "source": [
    "plt.figure(1, figsize=(16, 4))\n",
    "plt.bar(c1, c2, color='purple',\n",
    "        width=0.4)\n",
    "plt.xlabel(\"Combinations of Words in dataframe\")\n",
    "plt.xticks(rotation=90)\n",
    "plt.ylabel(\"Count\")\n",
    "plt.title(\"Top 10 bi-grams in dataframe-BIGRAM ANALYSIS\")\n",
    "# plt.savefig(\"dataset-bigram.png\")\n",
    "plt.show()\n"
   ]
  },
  {
   "cell_type": "markdown",
   "metadata": {},
   "source": [
    "# TF-IDF"
   ]
  },
  {
   "cell_type": "markdown",
   "metadata": {},
   "source": [
    "**Term Frequency (TF):**\n",
    "\n",
    "The number of times a word appears in a document divded by the total number of words in the document. Every document has its own term frequency.\n",
    "\n",
    "A value close to 1 indicates this term is very important to the document — and primarily composed of it. A low value could mean this term is not very important.\n",
    "\n",
    "**Inverse Data Frequency (IDF):**\n",
    "\n",
    "The log of the number of documents divided by the number of documents that contain the word w. Inverse data frequency determines the weight of rare words across all documents in the corpus.\n",
    "\n",
    "A value close to 0 indicates the term is very common — and not very helpful in differentiating this document from another. A higher value indicates the term is not very common and could be crucial to understanding the theme of this document.\n",
    "\n",
    "The **TF-IDF** is the multiplication of TF by IDF.\n",
    "\n",
    "A value close to 0 indicates the term is not important either in the corpus or the document or both. A larger value indicates the term is unique for the document or the corpus or both. This value works best in relation to other terms in the same document, and other documents."
   ]
  },
  {
   "cell_type": "code",
   "execution_count": 34,
   "metadata": {},
   "outputs": [
    {
     "data": {
      "text/plain": [
       "(192, 4244)"
      ]
     },
     "execution_count": 34,
     "metadata": {},
     "output_type": "execute_result"
    }
   ],
   "source": [
    "# Get the column of interest:\n",
    "docs = df['tokens_joined'].tolist()\n",
    "\n",
    "# Create a vocabulary of words,eliminate stop words if any:\n",
    "\n",
    "cv = CountVectorizer(stop_words=STOPWORDS_DANISH)\n",
    "word_count_vector = cv.fit_transform(docs)\n",
    "\n",
    "# Get shape of resulting vector:\n",
    "word_count_vector.shape\n"
   ]
  },
  {
   "cell_type": "code",
   "execution_count": 35,
   "metadata": {},
   "outputs": [
    {
     "data": {
      "text/plain": [
       "['udlændingestyrels',\n",
       " 'afgørelse',\n",
       " 'vedrørende',\n",
       " 'mandlig',\n",
       " 'statsborger',\n",
       " 'ukendt',\n",
       " 'hjemland',\n",
       " 'indrejst',\n",
       " 'flygtningenævne',\n",
       " 'udtalteflygtningenævn']"
      ]
     },
     "execution_count": 35,
     "metadata": {},
     "output_type": "execute_result"
    }
   ],
   "source": [
    "word_count_vector = cv.fit_transform(docs)\n",
    "\n",
    "# Look at 10 words from our vocabulary:\n",
    "list(cv.vocabulary_.keys())[:10]\n"
   ]
  },
  {
   "cell_type": "code",
   "execution_count": 50,
   "metadata": {},
   "outputs": [
    {
     "name": "stdout",
     "output_type": "stream",
     "text": [
      "array([5.56954301, 5.56954301, 5.56954301, ..., 5.56954301, 3.26695792,\n",
      "       1.09220619])\n"
     ]
    }
   ],
   "source": [
    "tfidf_transformer = TfidfTransformer(smooth_idf=True, use_idf=True)\n",
    "tfidf_transformer.fit(word_count_vector)\n",
    "\n",
    "# Add pretty printer:\n",
    "pp = pprint.PrettyPrinter(indent=4)\n",
    "\n",
    "# Look at the IDF values:\n",
    "pp.pprint(tfidf_transformer.idf_)\n"
   ]
  },
  {
   "cell_type": "code",
   "execution_count": 38,
   "metadata": {},
   "outputs": [],
   "source": [
    "# Sorts the values in the vector while preserving the column index\n",
    "def sort_coo(coo_matrix):\n",
    "    tuples = zip(coo_matrix.col, coo_matrix.data)\n",
    "    return sorted(tuples, key=lambda x: (x[1], x[0]), reverse=True)\n",
    "\n",
    "\n",
    "def extract_top_n_from_vector(feature_names, sorted_items, topn=10):\n",
    "    \"\"\"get the feature names and tf-idf score of top n items\"\"\"\n",
    "\n",
    "    # Use only topn items from vector\n",
    "    sorted_items = sorted_items[:topn]\n",
    "\n",
    "    score_vals = []\n",
    "    feature_vals = []\n",
    "\n",
    "    for idx, score in sorted_items:\n",
    "        fname = feature_names[idx]\n",
    "\n",
    "        # Keep track of feature name and its corresponding score\n",
    "        score_vals.append(round(score, 3))\n",
    "        feature_vals.append(fname)\n",
    "\n",
    "    # Create a tuples of feature,score\n",
    "    # results = zip(feature_vals,score_vals)\n",
    "    results = {}\n",
    "    for idx in range(len(feature_vals)):\n",
    "        results[feature_vals[idx]] = score_vals[idx]\n",
    "\n",
    "    return results\n"
   ]
  },
  {
   "cell_type": "code",
   "execution_count": 39,
   "metadata": {},
   "outputs": [
    {
     "data": {
      "text/html": [
       "<div>\n",
       "<style scoped>\n",
       "    .dataframe tbody tr th:only-of-type {\n",
       "        vertical-align: middle;\n",
       "    }\n",
       "\n",
       "    .dataframe tbody tr th {\n",
       "        vertical-align: top;\n",
       "    }\n",
       "\n",
       "    .dataframe thead th {\n",
       "        text-align: right;\n",
       "    }\n",
       "</style>\n",
       "<table border=\"1\" class=\"dataframe\">\n",
       "  <thead>\n",
       "    <tr style=\"text-align: right;\">\n",
       "      <th></th>\n",
       "      <th>doc</th>\n",
       "      <th>keywords</th>\n",
       "    </tr>\n",
       "  </thead>\n",
       "  <tbody>\n",
       "    <tr>\n",
       "      <th>0</th>\n",
       "      <td>udlændingestyrels afgørelse vedrørende mandlig...</td>\n",
       "      <td>{'myanmar': 0.394, 'rohingya': 0.295, 'ansøger...</td>\n",
       "    </tr>\n",
       "    <tr>\n",
       "      <th>1</th>\n",
       "      <td>udlændingestyrels afgørelse vedrørende mandlig...</td>\n",
       "      <td>{'ansøger': 0.422, 'algeri': 0.313, 'algerium'...</td>\n",
       "    </tr>\n",
       "    <tr>\n",
       "      <th>2</th>\n",
       "      <td>udlændingestyrels afgørelse vedrørende mandlig...</td>\n",
       "      <td>{'ansøger': 0.375, 'sudan': 0.292, 'sydsudan':...</td>\n",
       "    </tr>\n",
       "    <tr>\n",
       "      <th>3</th>\n",
       "      <td>udlændingestyrels afgørelse vedrørende mandlig...</td>\n",
       "      <td>{'somalia': 0.437, 'alshabaab': 0.421, 'kenya'...</td>\n",
       "    </tr>\n",
       "    <tr>\n",
       "      <th>4</th>\n",
       "      <td>hjemvise udlændingestyrels afgørelse vedrørend...</td>\n",
       "      <td>{'eritreisk': 0.406, 'eritrea': 0.356, 'etiopi...</td>\n",
       "    </tr>\n",
       "    <tr>\n",
       "      <th>...</th>\n",
       "      <td>...</td>\n",
       "      <td>...</td>\n",
       "    </tr>\n",
       "    <tr>\n",
       "      <th>187</th>\n",
       "      <td>udlændingestyrels afgørelse vedrørende mandlig...</td>\n",
       "      <td>{'fader': 0.503, 'liyu': 0.345, 'police': 0.29...</td>\n",
       "    </tr>\n",
       "    <tr>\n",
       "      <th>188</th>\n",
       "      <td>udlændingestyrels afgørelse vedrørende mandlig...</td>\n",
       "      <td>{'onlf': 0.423, 'ansøger': 0.313, 'police': 0....</td>\n",
       "    </tr>\n",
       "    <tr>\n",
       "      <th>189</th>\n",
       "      <td>hjemvise udlændingestyrels afgørelse vedrørend...</td>\n",
       "      <td>{'burde': 0.458, 'hjemvise': 0.246, 'etiopien'...</td>\n",
       "    </tr>\n",
       "    <tr>\n",
       "      <th>190</th>\n",
       "      <td>udlændingestyrels afgørelse vedrørende mandlig...</td>\n",
       "      <td>{'soldat': 0.533, 'ansøger': 0.219, 'burmesisk...</td>\n",
       "    </tr>\n",
       "    <tr>\n",
       "      <th>191</th>\n",
       "      <td>udlændingestyrels afgørelse vedrørende mandlig...</td>\n",
       "      <td>{'algeri': 0.316, 'algerium': 0.302, 'ukendt':...</td>\n",
       "    </tr>\n",
       "  </tbody>\n",
       "</table>\n",
       "<p>192 rows × 2 columns</p>\n",
       "</div>"
      ],
      "text/plain": [
       "                                                   doc  \\\n",
       "0    udlændingestyrels afgørelse vedrørende mandlig...   \n",
       "1    udlændingestyrels afgørelse vedrørende mandlig...   \n",
       "2    udlændingestyrels afgørelse vedrørende mandlig...   \n",
       "3    udlændingestyrels afgørelse vedrørende mandlig...   \n",
       "4    hjemvise udlændingestyrels afgørelse vedrørend...   \n",
       "..                                                 ...   \n",
       "187  udlændingestyrels afgørelse vedrørende mandlig...   \n",
       "188  udlændingestyrels afgørelse vedrørende mandlig...   \n",
       "189  hjemvise udlændingestyrels afgørelse vedrørend...   \n",
       "190  udlændingestyrels afgørelse vedrørende mandlig...   \n",
       "191  udlændingestyrels afgørelse vedrørende mandlig...   \n",
       "\n",
       "                                              keywords  \n",
       "0    {'myanmar': 0.394, 'rohingya': 0.295, 'ansøger...  \n",
       "1    {'ansøger': 0.422, 'algeri': 0.313, 'algerium'...  \n",
       "2    {'ansøger': 0.375, 'sudan': 0.292, 'sydsudan':...  \n",
       "3    {'somalia': 0.437, 'alshabaab': 0.421, 'kenya'...  \n",
       "4    {'eritreisk': 0.406, 'eritrea': 0.356, 'etiopi...  \n",
       "..                                                 ...  \n",
       "187  {'fader': 0.503, 'liyu': 0.345, 'police': 0.29...  \n",
       "188  {'onlf': 0.423, 'ansøger': 0.313, 'police': 0....  \n",
       "189  {'burde': 0.458, 'hjemvise': 0.246, 'etiopien'...  \n",
       "190  {'soldat': 0.533, 'ansøger': 0.219, 'burmesisk...  \n",
       "191  {'algeri': 0.316, 'algerium': 0.302, 'ukendt':...  \n",
       "\n",
       "[192 rows x 2 columns]"
      ]
     },
     "execution_count": 39,
     "metadata": {},
     "output_type": "execute_result"
    }
   ],
   "source": [
    "# We only need to do this once:\n",
    "feature_names = cv.get_feature_names_out()\n",
    "\n",
    "# Generate tf-idf for all documents in list. docs has 192 documents:\n",
    "tf_idf_vector = tfidf_transformer.transform(cv.transform(docs))\n",
    "\n",
    "results = []\n",
    "for i in range(tf_idf_vector.shape[0]):\n",
    "\n",
    "    # get vector for a single document\n",
    "    curr_vector = tf_idf_vector[i]\n",
    "\n",
    "    # sort the tf-idf vector by descending order of scores\n",
    "    sorted_items = sort_coo(curr_vector.tocoo())\n",
    "\n",
    "    # extract only the top n; n here is 10\n",
    "    keywords = extract_top_n_from_vector(feature_names, sorted_items, 10)\n",
    "\n",
    "    results.append(keywords)\n",
    "\n",
    "df_tfIDF = pd.DataFrame(zip(docs, results), columns=['doc', 'keywords'])\n",
    "# df_tfIDF.shape\n",
    "df_tfIDF\n"
   ]
  },
  {
   "cell_type": "code",
   "execution_count": 42,
   "metadata": {},
   "outputs": [
    {
     "name": "stdout",
     "output_type": "stream",
     "text": [
      "[   ('klager', 0.822),\n",
      "    ('officer', 0.608),\n",
      "    ('taliban', 0.553),\n",
      "    ('soldat', 0.533),\n",
      "    ('libyen', 0.496),\n",
      "    ('police', 0.49),\n",
      "    ('liyu', 0.49),\n",
      "    ('tjetjenie', 0.47),\n",
      "    ('senegal', 0.463),\n",
      "    ('sierra', 0.459),\n",
      "    ('leone', 0.459),\n",
      "    ('burde', 0.458),\n",
      "    ('israel', 0.457),\n",
      "    ('ægtefælle', 0.449),\n",
      "    ('somalia', 0.437),\n",
      "    ('libysk', 0.435),\n",
      "    ('hær', 0.433),\n",
      "    ('holland', 0.426),\n",
      "    ('ghanesisk', 0.423),\n",
      "    ('bøde', 0.423)]\n"
     ]
    }
   ],
   "source": [
    "# Create a dictionary from results list of dictionaries:\n",
    "my_dict = dict(ChainMap(*results))\n",
    "\n",
    "c = Counter(my_dict)\n",
    "\n",
    "# Returns top 20 most common pairs:\n",
    "most_common = c.most_common(20)\n",
    "\n",
    "# For getting the keys from `most_common`:\n",
    "my_keys = [key for key, val in most_common]\n",
    "\n",
    "pp.pprint(most_common)\n"
   ]
  },
  {
   "cell_type": "markdown",
   "metadata": {},
   "source": [
    "# Topic Modelling:\n",
    "\n",
    "Using Latent Dirichlet Allocation (LDA)\n",
    "\n",
    "For a given corpus, a topic model estimates a topic distribution for each of its documents (i.e., a a distribution of weights over a set of topics), where a topic is itself a distribution of weights over the vocabulary of the corpus. The most weighted words of each topic are syntactically and/or semantically related, given that collection of documents. This means that two distinct topics share the exact same vocabulary, but have different weight distributions."
   ]
  },
  {
   "cell_type": "code",
   "execution_count": 43,
   "metadata": {},
   "outputs": [],
   "source": [
    "docs = [d.split() for d in docs]\n",
    "\n",
    "# Create dictionary\n",
    "dictionary = corpora.Dictionary(docs)\n",
    "\n",
    "# Create document term matrix\n",
    "bow = [dictionary.doc2bow(text) for text in docs]\n"
   ]
  },
  {
   "cell_type": "markdown",
   "metadata": {},
   "source": [
    "Compute the coherence score is essentially a measure of how similar the words assigned to each topic are in terms of semantic value. The higher the score, the better.\n",
    "\n",
    "Compute the coherence score for LDA models with 2 to 10 topics and see which number of topics leads to the highest coherence score.\n",
    "\n",
    "Topic coherence in essence measures the human interpretability of a topic model. Traditionally perplexity has been used to evaluate topic models however this does not correlate with human annotations at times. Topic coherence is another way to evaluate topic models with a much higher guarantee on human interpretability. Thus this can be used to compare different topic models among many other use-cases."
   ]
  },
  {
   "cell_type": "code",
   "execution_count": 44,
   "metadata": {},
   "outputs": [
    {
     "name": "stdout",
     "output_type": "stream",
     "text": [
      "The coherence score (0.32) is highest with 3 topics.\n"
     ]
    }
   ],
   "source": [
    "best_num = float('NaN')\n",
    "best_score = 0\n",
    "\n",
    "# Compute the coherence scores for each number of topics\n",
    "for i in range(2, 11):\n",
    "\n",
    "    # Create lda model with i topics\n",
    "    lda = LdaModel(corpus=bow, num_topics=i,\n",
    "                   id2word=dictionary, random_state=42)\n",
    "\n",
    "    # Obtain the coherence score\n",
    "    coherence_model = CoherenceModel(\n",
    "        model=lda, texts=docs, dictionary=dictionary, coherence='c_v')\n",
    "    coherence_score = np.round(coherence_model.get_coherence(), 2)\n",
    "    if coherence_score > best_score:\n",
    "        best_num = i\n",
    "        best_score = coherence_score\n",
    "\n",
    "print(f'The coherence score ({best_score}) is highest with {best_num} topics.')\n"
   ]
  },
  {
   "cell_type": "code",
   "execution_count": 48,
   "metadata": {},
   "outputs": [
    {
     "name": "stdout",
     "output_type": "stream",
     "text": [
      "(   0,\n",
      "    '0.041*\"ansøger\" + 0.017*\"Kuwait\" + 0.015*\"oplyse\" + '\n",
      "    '0.014*\"flygtningenævn\" + 0.013*\"mandlig\" + 0.013*\"myndighed\" + '\n",
      "    '0.012*\"ansøg\" + 0.012*\"forklare\" + 0.010*\"asylmotiv\" + 0.009*\"familie\"')\n",
      "(   1,\n",
      "    '0.068*\"ansøger\" + 0.019*\"Kuwait\" + 0.017*\"forklare\" + '\n",
      "    '0.015*\"flygtningenævn\" + 0.011*\"myndighed\" + 0.010*\"forklaring\" + '\n",
      "    '0.010*\"asylmotiv\" + 0.010*\"ved\" + 0.009*\"lægge\" + 0.009*\"mandlig\"')\n",
      "(   2,\n",
      "    '0.044*\"ansøger\" + 0.017*\"forklare\" + 0.015*\"Kuwait\" + '\n",
      "    '0.013*\"flygtningenævn\" + 0.011*\"oplyse\" + 0.010*\"ved\" + 0.010*\"mandlig\" + '\n",
      "    '0.009*\"ansøg\" + 0.008*\"kunne\" + 0.008*\"asylmotiv\"')\n"
     ]
    }
   ],
   "source": [
    "# Build the lda model\n",
    "lda_model = LdaModel(corpus=bow,\n",
    "                     id2word=dictionary,\n",
    "                     num_topics=best_num,\n",
    "                     random_state=42)\n",
    "\n",
    "\n",
    "# Show the words most strongly associated with each topic\n",
    "for topic in lda_model.print_topics():\n",
    "    pp.pprint(topic)\n"
   ]
  },
  {
   "cell_type": "code",
   "execution_count": 49,
   "metadata": {},
   "outputs": [
    {
     "name": "stderr",
     "output_type": "stream",
     "text": [
      "/Users/jnap/opt/anaconda3/lib/python3.9/site-packages/pyLDAvis/_prepare.py:246: FutureWarning: In a future version of pandas all arguments of DataFrame.drop except for the argument 'labels' will be keyword-only.\n",
      "  default_term_info = default_term_info.sort_values(\n",
      "/Users/jnap/opt/anaconda3/lib/python3.9/site-packages/past/builtins/misc.py:45: DeprecationWarning: the imp module is deprecated in favour of importlib; see the module's documentation for alternative uses\n",
      "  from imp import reload\n",
      "/Users/jnap/opt/anaconda3/lib/python3.9/site-packages/past/builtins/misc.py:45: DeprecationWarning: the imp module is deprecated in favour of importlib; see the module's documentation for alternative uses\n",
      "  from imp import reload\n",
      "/Users/jnap/opt/anaconda3/lib/python3.9/site-packages/past/builtins/misc.py:45: DeprecationWarning: the imp module is deprecated in favour of importlib; see the module's documentation for alternative uses\n",
      "  from imp import reload\n",
      "/Users/jnap/opt/anaconda3/lib/python3.9/site-packages/past/builtins/misc.py:45: DeprecationWarning: the imp module is deprecated in favour of importlib; see the module's documentation for alternative uses\n",
      "  from imp import reload\n"
     ]
    },
    {
     "data": {
      "text/html": [
       "\n",
       "<link rel=\"stylesheet\" type=\"text/css\" href=\"https://cdn.jsdelivr.net/gh/bmabey/pyLDAvis@3.3.1/pyLDAvis/js/ldavis.v1.0.0.css\">\n",
       "\n",
       "\n",
       "<div id=\"ldavis_el857455336989766763729086\"></div>\n",
       "<script type=\"text/javascript\">\n",
       "\n",
       "var ldavis_el857455336989766763729086_data = {\"mdsDat\": {\"x\": [0.00887017303967053, -0.0020428819182254834, -0.0068272911214450486], \"y\": [0.0019866580290370055, -0.006518149239871728, 0.00453149121083472], \"topics\": [1, 2, 3], \"cluster\": [1, 1, 1], \"Freq\": [60.80323105213876, 24.347709336959124, 14.84905961090211]}, \"tinfo\": {\"Term\": [\"ans\\u00f8ger\", \"oplyse\", \"forklare\", \"Kuwait\", \"ans\\u00f8g\", \"mandlig\", \"klager\", \"flygtningen\\u00e6vn\", \"ved\", \"stk\", \"familie\", \"tilbagevend\", \"udl\\u00e6ndingelov\", \"afg\\u00f8relse\", \"kunne\", \"asylmotiv\", \"myndighed\", \"anden\", \"dokument\", \"bidoon\", \"identitet\", \"finde\", \"frygte\", \"udl\\u00e6ndingestyrels\", \"udrejse\", \"demonstration\", \"statsl\\u00f8s\", \"forhold\", \"l\\u00e6gge\", \"endvidere\", \"soldat\", \"tjetjenie\", \"hytte\", \"kachin\", \"lejr\", \"georgien\", \"rum\\u00e6nien\", \"sang\", \"f\\u00e6tre\", \"rusland\", \"befande\", \"ulykke\", \"benghazi\", \"f\\u00e6ter\", \"georgisk\", \"russisk\", \"involvere\", \"mark\", \"f\\u00e6tter\", \"polisario\", \"Spanien\", \"bidoone\", \"gifte\", \"nabo\", \"samv\\u00e6r\", \"handle\", \"sten\", \"tr\\u00e6ne\", \"etiopien\", \"uoverensstemme\", \"dato\", \"libyen\", \"for\\u00e6ldre\", \"ans\\u00f8ger\", \"gang\", \"hus\", \"statsborger\", \"forklaring\", \"ans\\u00f8gere\", \"f\\u00f8rste\", \"grund\", \"forklare\", \"herefter\", \"Kuwait\", \"flygtningen\\u00e6vn\", \"l\\u00e6gge\", \"uds\\u00e6tte\", \"henvise\", \"myndighed\", \"finde\", \"demonstration\", \"kvindelig\", \"dag\", \"asylmotiv\", \"\\u00f8vrigt\", \"navn\", \"forhold\", \"tage\", \"ved\", \"kunne\", \"fordi\", \"statsl\\u00f8s\", \"udrejse\", \"deltage\", \"v\\u00e6gt\", \"udl\\u00e6ndingestyrels\", \"afg\\u00f8relse\", \"divergere\", \"mandlig\", \"endvidere\", \"politisk\", \"bidoon\", \"ans\\u00f8g\", \"oplyse\", \"udl\\u00e6ndingelov\", \"familie\", \"jordansk\", \"amman\", \"varsel\", \"genindkalde\", \"forfalske\", \"menneskesmugler\", \"garantere\", \"handelsbevis\", \"varelage\", \"ethvert\", \"ambassade\", \"sikkerhedselemen\", \"l\\u00f8s\", \"stramning\", \"b\\u00f8de\", \"moskeerne\", \"truslen\", \"efterretning\", \"resulterende\", \"hjemlandhjem201949yars\", \"udl\\u00e6ndingestyrelsen\", \"\\u00e6gteskabsbevis\", \"konfiskere\", \"uven\", \"udformning\", \"hussain\", \"undg\\u00e5\", \"l\\u00e5n\", \"paskontore\", \"sabot\\u00f8r\", \"foto\", \"klager\", \"jordan\", \"skjule\", \"n\\u00e6se\", \"s\\u00f8n\", \"familie\", \"oplyse\", \"dokument\", \"ans\\u00f8g\", \"anden\", \"demonstratione\", \"klagere\", \"skjulested\", \"mandlig\", \"\\u00e6gtef\\u00e6ll\", \"rettighed\", \"motivsamtal\", \"n\\u00e6gtelse\", \"myndighed\", \"\\u00e6gtef\\u00e6lle\", \"irakisk\", \"hjem\", \"oplysnings\", \"anholde\", \"oplysning\", \"aktiv\", \"kuwaitisk\", \"bop\\u00e6l\", \"Kuwait\", \"stk\", \"person\", \"asylmotiv\", \"flygtningen\\u00e6vn\", \"idet\", \"demonstration\", \"udrejse\", \"ans\\u00f8ger\", \"bidoon\", \"politisk\", \"kunne\", \"deltage\", \"ved\", \"l\\u00e6gge\", \"vurdering\", \"forklare\", \"udl\\u00e6ndingelov\", \"finde\", \"forklaring\", \"henvise\", \"udl\\u00e6ndingestyrels\", \"v\\u00e6gt\", \"forhold\", \"bankr\\u00f8veri\", \"euforiserende\", \"stof\", \"hinde\", \"nr\", \"hjem20151\", \"udsende\", \"liste\", \"bilag\", \"bekendtg\\u00f8relse\", \"hjem20197straa\", \"bestandig\", \"alfatah\", \"helbredsforhold\", \"algeriet\", \"fatahkontrolleret\", \"undertrykt\", \"straff\", \"family\", \"bedstefor\\u00e6ldmer\", \"kurder\", \"forh\\u00f8je\", \"uidentificer\", \"straffelovens\", \"uafklare\", \"libanon\", \"forsvunde\", \"uretm\\u00e6ssig\", \"igangv\\u00e6rende\", \"landsret\", \"eusygesikringskort\", \"uretm\\u00e6ssigt\", \"klager\", \"bestemt\", \"jf\", \"klagere\", \"tilbagevend\", \"stk\", \"alshabaab\", \"dokument\", \"herved\", \"udl\\u00e6ndingelov\", \"afg\\u00f8relse\", \"s\\u00f8ster\", \"politi\", \"forklare\", \"oplyse\", \"sag\", \"bem\\u00e6rke\", \"ved\", \"f\\u00f8lge\", \"meddele\", \"statsl\\u00f8s\", \"identitet\", \"ans\\u00f8ger\", \"frygte\", \"angiveligt\", \"ans\\u00f8g\", \"mandlig\", \"Kuwait\", \"kunne\", \"flygtningen\\u00e6vn\", \"udl\\u00e6ndingestyrels\", \"bo\", \"endvidere\", \"forhold\", \"bidoon\", \"asylmotiv\", \"finde\", \"opholdstilladelse\", \"l\\u00e6gge\", \"udrejse\", \"familie\", \"demonstration\", \"forklaring\", \"dag\", \"myndighed\", \"anden\"], \"Freq\": [4362.0, 752.0, 1195.0, 1349.0, 664.0, 748.0, 239.0, 1101.0, 711.0, 327.0, 460.0, 283.0, 406.0, 431.0, 624.0, 725.0, 799.0, 384.0, 189.0, 419.0, 338.0, 595.0, 342.0, 423.0, 518.0, 630.0, 343.0, 423.0, 650.0, 357.0, 14.680098765154844, 6.6107432926620895, 3.7137131743224225, 3.705775696124476, 6.50167117545324, 5.527763146352913, 3.679566808851744, 2.6131607093789557, 5.182630600975592, 4.338169373119661, 2.586492877236892, 2.5703977874007657, 3.423452224278122, 5.089304028382621, 3.397093913094445, 3.3986922152847368, 6.623751177766717, 2.495010922812412, 9.874932641822914, 3.2757340139589397, 5.677925171394188, 8.923690685749643, 9.820456953146797, 15.416881387185697, 4.83102279710029, 8.774703706329486, 2.4227768026843526, 3.1863635061153532, 30.51959633332443, 4.821966307247829, 58.742210951617416, 19.012444941709333, 19.6356173623074, 3110.057026742648, 189.13931358193463, 41.22121676245313, 142.2964437590499, 471.9684012552342, 226.19729734732994, 55.85806264195752, 244.5560953954607, 784.7568763417347, 153.1921898630539, 861.5515449777718, 703.1438415808043, 425.7589714102568, 131.31824767561352, 275.00412034372636, 511.73825823410573, 385.64851329952154, 402.30889513702715, 230.88066964182067, 211.8796262781733, 451.6525555529047, 179.6158660029173, 165.54619593338418, 271.5754819757177, 126.32752106944444, 436.28242784014014, 386.0587886664318, 157.289681675864, 220.80484455658396, 320.8278870745535, 251.6127249749523, 232.09027754719722, 264.10812875758296, 267.6320995807749, 202.8976055673304, 402.61414684081575, 221.04507551283828, 225.57189424120418, 245.39090543964002, 336.8915338505619, 354.61130987039786, 223.3209084079027, 225.9849659698764, 6.734677284575258, 1.7848382145151256, 1.4088806556963198, 1.726262925923363, 1.282377334301547, 1.8010251786885243, 1.3301772069791726, 0.8480324045670926, 0.8619228865216286, 0.8792837685444963, 1.791991507205234, 0.8227907333496444, 1.2901081366089378, 0.8496803904985559, 2.076955106781643, 1.2940708355785884, 1.2969692019533907, 0.8173019879213748, 0.8339129355082942, 0.8032679299172137, 0.8049493724072176, 0.790100737354998, 1.6607410941529521, 0.7891595462650375, 0.8065458712994898, 0.8360185617504925, 1.2474846145874208, 0.7888500230138691, 0.7884415324577964, 0.8264573985388356, 6.344577818766177, 98.3813372553408, 9.872038081078498, 6.514426014967606, 2.488214343327553, 28.90585754944769, 173.87983090741238, 272.0832802420092, 71.15330915469286, 225.22190396562095, 131.19904728476794, 30.774127338943007, 11.50987351973118, 4.4158749333765055, 235.57952666414232, 28.959937238197238, 66.74658061669349, 11.356718610311642, 3.847870985493083, 230.25273608832262, 70.53259904000812, 44.342314585408985, 39.232419739968314, 42.644780358881334, 48.771139143547856, 92.38849484768743, 58.786264982123534, 68.49356377030317, 101.41553538799012, 317.76607104494497, 93.91083797913997, 42.982687059130726, 181.30653834034266, 255.47020158583607, 86.89191110202208, 157.3397161305084, 131.75280688581918, 755.0432836903375, 108.91292444201656, 98.23373413125225, 144.94019892872825, 101.78422693022497, 157.89419374536686, 146.91248028381833, 83.00443048951756, 224.16367128271554, 99.99874028620201, 128.9465439458352, 140.14826025703576, 90.42176100403661, 91.1775132750749, 84.4486725238658, 84.72437273027951, 1.5581186110155003, 1.9250534330197062, 1.4877130393887945, 1.0354743975045713, 9.570334339381986, 0.6858547377582163, 3.354971503112436, 1.689976127239828, 0.9731654715021989, 0.9730467110337904, 0.6523449809818124, 0.6459834763026361, 0.9619165418398611, 0.6420223503913141, 0.6468226599279989, 0.6416420399475559, 0.6384919959046687, 0.6367131139639456, 0.9558551150520546, 0.6332625440306652, 2.1811850638162107, 0.6262434989665588, 0.6282225957435976, 0.6277946344946137, 0.6299630312226685, 7.959053557699504, 0.6291829427412222, 0.6231349966513043, 0.6211581398693831, 0.6221604765936639, 0.8943586149151874, 1.2086536331138007, 82.54744121323286, 5.773549457479388, 29.72103587692406, 9.494022022812128, 75.97113093972649, 80.84885307858295, 5.118809473718003, 46.06631576302561, 24.065186026165595, 82.76890325850833, 84.7638288999537, 16.101873382476963, 31.848824670219923, 186.95592107668463, 126.12901038066587, 40.58544292723045, 37.93002792691936, 117.27950549262532, 33.06277886487091, 20.880128660324832, 62.20194904864282, 61.39909309391411, 497.7061748593348, 61.07095058880819, 43.69350441144588, 102.84884636410193, 110.46153770368205, 169.9062941934964, 93.86174745452281, 143.32074581227954, 68.64651958894086, 41.641232288454155, 59.3624940945776, 66.9894327805571, 65.14216761725372, 92.99289391274107, 80.54743281923011, 40.97447420143428, 77.56151639531849, 66.34608142069901, 61.12848734775799, 70.9394404964773, 72.12101625406775, 47.76285515741392, 57.703650478386805, 49.012362554568995], \"Total\": [4362.0, 752.0, 1195.0, 1349.0, 664.0, 748.0, 239.0, 1101.0, 711.0, 327.0, 460.0, 283.0, 406.0, 431.0, 624.0, 725.0, 799.0, 384.0, 189.0, 419.0, 338.0, 595.0, 342.0, 423.0, 518.0, 630.0, 343.0, 423.0, 650.0, 357.0, 16.554852942756586, 7.637998064880608, 4.328997001342864, 4.3286662141902035, 7.6002085301866975, 6.487356958309417, 4.321228675370534, 3.179187633879475, 6.337637719909328, 5.309454646150003, 3.168915523159972, 3.1606398407358296, 4.215317199523383, 6.283652685398321, 4.216551088068178, 4.223350765010231, 8.310355603261028, 3.131629927229028, 12.457880052229228, 4.142524389404855, 7.189930836164682, 11.319456539231652, 12.478589074591687, 19.677457669762518, 6.173865865888874, 11.221774639229658, 3.1076922415445103, 4.089851724968279, 39.27210985904302, 6.206569680907932, 76.21939737655282, 24.57440279569961, 25.48435611997572, 4362.80648529232, 255.37634971324297, 54.956685019632474, 197.40982346785313, 684.2376777663377, 321.25260246839014, 76.01654856398518, 354.53773832774465, 1195.8764687011349, 218.1787775480306, 1349.2239102162132, 1101.9347889789199, 650.2329680893936, 189.26992027851847, 413.4200043530785, 799.6946448008152, 595.1424900645869, 630.5880517640129, 349.5926429176555, 320.2944753785846, 725.9519878059884, 271.0019821727056, 248.4509126919805, 423.2892874865543, 186.17708848423712, 711.4561270781323, 624.860735049683, 236.0288027410844, 343.3761294461069, 518.9267753810716, 397.59801738046565, 364.19936300231745, 423.9321616215987, 431.1667700593012, 315.70971269884063, 748.6552112086401, 357.497087830716, 369.300022391564, 419.44599749891034, 664.9622841802849, 752.823600493073, 406.088551952613, 460.99328422504675, 12.018356004077464, 3.284934992126068, 2.5951827031585086, 3.2795368229223207, 2.4914297024841576, 3.5436527489261174, 2.6479518295867237, 1.6914957543202926, 1.7254927023982032, 1.762359680432869, 3.622770641578776, 1.6894657438406455, 2.6493666462748924, 1.7465961113006876, 4.276043290365363, 2.6689529986825775, 2.6766223897234918, 1.6874926847163008, 1.7358219260264325, 1.6738169011592292, 1.6916206858505793, 1.6636171556536878, 3.522632867925999, 1.6740856957206836, 1.7116411519986252, 1.7780039429837573, 2.6615333772251284, 1.685723361788638, 1.6893536712551556, 1.772316830226897, 13.89945695929034, 239.7482202358769, 22.550669890306573, 14.864228550414918, 5.51193206212628, 71.10569150617538, 460.99328422504675, 752.823600493073, 189.54871194603595, 664.9622841802849, 384.8875441798323, 81.1485954451564, 28.321308536754554, 10.215965817845767, 748.6552112086401, 77.69625998420892, 196.81877448154083, 28.87091743187898, 8.831493203753972, 799.6946448008152, 217.92496175504306, 132.1546061335457, 115.5944099962129, 127.69327165401947, 148.67517609613523, 308.13844626049803, 185.19230838519098, 223.0320276385781, 350.4429688840232, 1349.2239102162132, 327.94183749933404, 133.35645136067373, 725.9519878059884, 1101.9347889789199, 310.4757017363876, 630.5880517640129, 518.9267753810716, 4362.80648529232, 419.44599749891034, 369.300022391564, 624.860735049683, 397.59801738046565, 711.4561270781323, 650.2329680893936, 306.3323958013439, 1195.8764687011349, 406.088551952613, 595.1424900645869, 684.2376777663377, 413.4200043530785, 423.9321616215987, 364.19936300231745, 423.2892874865543, 2.8675765740954953, 3.602159858992451, 2.9521344488360066, 2.264920692783516, 21.030573631402866, 1.5204706586876018, 7.650130016340768, 3.8966925170773132, 2.2929333988110034, 2.3024258681376564, 1.5443282841047696, 1.5428452578148724, 2.2974844899115765, 1.5421392166675403, 1.5575407633732412, 1.5550743971048075, 1.54772940787293, 1.5518280670249425, 2.3306226270590145, 1.5514999918692611, 5.371028292416014, 1.5463835298252557, 1.555319122111118, 1.5580366025934744, 1.5687575492526806, 19.828805421924788, 1.5724534750637624, 1.5577212500988442, 1.558697528861895, 1.5658460783083934, 2.2537255800080898, 3.073897123156315, 239.7482202358769, 16.1621012826502, 90.77210041533284, 28.321308536754554, 283.0714545514685, 327.94183749933404, 16.009822515540055, 189.54871194603595, 94.76584538278003, 406.088551952613, 431.1667700593012, 65.79772180500079, 147.8446946253137, 1195.8764687011349, 752.823600493073, 198.95283019923377, 183.9054484134619, 711.4561270781323, 159.5763945012016, 92.1356256894795, 343.3761294461069, 338.79003975721855, 4362.80648529232, 342.163799686984, 226.8214309559796, 664.9622841802849, 748.6552112086401, 1349.2239102162132, 624.860735049683, 1101.9347889789199, 423.9321616215987, 218.3936705148509, 357.497087830716, 423.2892874865543, 419.44599749891034, 725.9519878059884, 595.1424900645869, 221.4994325915532, 650.2329680893936, 518.9267753810716, 460.99328422504675, 630.5880517640129, 684.2376777663377, 320.2944753785846, 799.6946448008152, 384.8875441798323], \"Category\": [\"Default\", \"Default\", \"Default\", \"Default\", \"Default\", \"Default\", \"Default\", \"Default\", \"Default\", \"Default\", \"Default\", \"Default\", \"Default\", \"Default\", \"Default\", \"Default\", \"Default\", \"Default\", \"Default\", \"Default\", \"Default\", \"Default\", \"Default\", \"Default\", \"Default\", \"Default\", \"Default\", \"Default\", \"Default\", \"Default\", \"Topic1\", \"Topic1\", \"Topic1\", \"Topic1\", \"Topic1\", \"Topic1\", \"Topic1\", \"Topic1\", \"Topic1\", \"Topic1\", \"Topic1\", \"Topic1\", \"Topic1\", \"Topic1\", \"Topic1\", \"Topic1\", \"Topic1\", \"Topic1\", \"Topic1\", \"Topic1\", \"Topic1\", \"Topic1\", \"Topic1\", \"Topic1\", \"Topic1\", \"Topic1\", \"Topic1\", \"Topic1\", \"Topic1\", \"Topic1\", \"Topic1\", \"Topic1\", \"Topic1\", \"Topic1\", \"Topic1\", \"Topic1\", \"Topic1\", \"Topic1\", \"Topic1\", \"Topic1\", \"Topic1\", \"Topic1\", \"Topic1\", \"Topic1\", \"Topic1\", \"Topic1\", \"Topic1\", \"Topic1\", \"Topic1\", \"Topic1\", \"Topic1\", \"Topic1\", \"Topic1\", \"Topic1\", \"Topic1\", \"Topic1\", \"Topic1\", \"Topic1\", \"Topic1\", \"Topic1\", \"Topic1\", \"Topic1\", \"Topic1\", \"Topic1\", \"Topic1\", \"Topic1\", \"Topic1\", \"Topic1\", \"Topic1\", \"Topic1\", \"Topic1\", \"Topic1\", \"Topic1\", \"Topic1\", \"Topic1\", \"Topic1\", \"Topic2\", \"Topic2\", \"Topic2\", \"Topic2\", \"Topic2\", \"Topic2\", \"Topic2\", \"Topic2\", \"Topic2\", \"Topic2\", \"Topic2\", \"Topic2\", \"Topic2\", \"Topic2\", \"Topic2\", \"Topic2\", \"Topic2\", \"Topic2\", \"Topic2\", \"Topic2\", \"Topic2\", \"Topic2\", \"Topic2\", \"Topic2\", \"Topic2\", \"Topic2\", \"Topic2\", \"Topic2\", \"Topic2\", \"Topic2\", \"Topic2\", \"Topic2\", \"Topic2\", \"Topic2\", \"Topic2\", \"Topic2\", \"Topic2\", \"Topic2\", \"Topic2\", \"Topic2\", \"Topic2\", \"Topic2\", \"Topic2\", \"Topic2\", \"Topic2\", \"Topic2\", \"Topic2\", \"Topic2\", \"Topic2\", \"Topic2\", \"Topic2\", \"Topic2\", \"Topic2\", \"Topic2\", \"Topic2\", \"Topic2\", \"Topic2\", \"Topic2\", \"Topic2\", \"Topic2\", \"Topic2\", \"Topic2\", \"Topic2\", \"Topic2\", \"Topic2\", \"Topic2\", \"Topic2\", \"Topic2\", \"Topic2\", \"Topic2\", \"Topic2\", \"Topic2\", \"Topic2\", \"Topic2\", \"Topic2\", \"Topic2\", \"Topic2\", \"Topic2\", \"Topic2\", \"Topic2\", \"Topic2\", \"Topic2\", \"Topic2\", \"Topic3\", \"Topic3\", \"Topic3\", \"Topic3\", \"Topic3\", \"Topic3\", \"Topic3\", \"Topic3\", \"Topic3\", \"Topic3\", \"Topic3\", \"Topic3\", \"Topic3\", \"Topic3\", \"Topic3\", \"Topic3\", \"Topic3\", \"Topic3\", \"Topic3\", \"Topic3\", \"Topic3\", \"Topic3\", \"Topic3\", \"Topic3\", \"Topic3\", \"Topic3\", \"Topic3\", \"Topic3\", \"Topic3\", \"Topic3\", \"Topic3\", \"Topic3\", \"Topic3\", \"Topic3\", \"Topic3\", \"Topic3\", \"Topic3\", \"Topic3\", \"Topic3\", \"Topic3\", \"Topic3\", \"Topic3\", \"Topic3\", \"Topic3\", \"Topic3\", \"Topic3\", \"Topic3\", \"Topic3\", \"Topic3\", \"Topic3\", \"Topic3\", \"Topic3\", \"Topic3\", \"Topic3\", \"Topic3\", \"Topic3\", \"Topic3\", \"Topic3\", \"Topic3\", \"Topic3\", \"Topic3\", \"Topic3\", \"Topic3\", \"Topic3\", \"Topic3\", \"Topic3\", \"Topic3\", \"Topic3\", \"Topic3\", \"Topic3\", \"Topic3\", \"Topic3\", \"Topic3\", \"Topic3\", \"Topic3\", \"Topic3\", \"Topic3\", \"Topic3\"], \"logprob\": [30.0, 29.0, 28.0, 27.0, 26.0, 25.0, 24.0, 23.0, 22.0, 21.0, 20.0, 19.0, 18.0, 17.0, 16.0, 15.0, 14.0, 13.0, 12.0, 11.0, 10.0, 9.0, 8.0, 7.0, 6.0, 5.0, 4.0, 3.0, 2.0, 1.0, -8.0464, -8.8442, -9.4209, -9.423, -8.8609, -9.0231, -9.4301, -9.7724, -9.0876, -9.2655, -9.7826, -9.7889, -9.5023, -9.1058, -9.51, -9.5095, -8.8423, -9.8186, -8.4429, -9.5464, -8.9963, -8.5442, -8.4485, -7.9975, -9.1579, -8.5611, -9.848, -9.574, -7.3146, -9.1597, -6.6598, -7.7878, -7.7556, -2.6905, -5.4904, -7.014, -5.775, -4.576, -5.3115, -6.7101, -5.2335, -4.0676, -5.7012, -3.9742, -4.1774, -4.6791, -5.8553, -5.1161, -4.4951, -4.778, -4.7357, -5.291, -5.3769, -4.62, -5.5421, -5.6237, -5.1287, -5.8941, -4.6546, -4.7769, -5.6748, -5.3356, -4.962, -5.205, -5.2858, -5.1566, -5.1433, -5.4202, -4.735, -5.3346, -5.3143, -5.2301, -4.9132, -4.8619, -5.3243, -5.3125, -7.9105, -9.2384, -9.4749, -9.2718, -9.569, -9.2294, -9.5324, -9.9826, -9.9663, -9.9464, -9.2344, -10.0128, -9.563, -9.9806, -9.0868, -9.5599, -9.5577, -10.0195, -9.9994, -10.0368, -10.0347, -10.0533, -9.3105, -10.0545, -10.0327, -9.9968, -9.5966, -10.0549, -10.0554, -10.0083, -7.9701, -5.2289, -7.528, -7.9437, -8.9062, -6.4537, -4.6594, -4.2116, -5.5529, -4.4006, -4.941, -6.391, -7.3745, -8.3325, -4.3557, -6.4518, -5.6168, -7.3879, -8.4702, -4.3785, -5.5616, -6.0258, -6.1482, -6.0648, -5.9306, -5.2917, -5.7438, -5.591, -5.1985, -4.0564, -5.2754, -6.0569, -4.6175, -4.2746, -5.3531, -4.7593, -4.9368, -3.1909, -5.1272, -5.2304, -4.8414, -5.1949, -4.7558, -4.8279, -5.3988, -4.4053, -5.2126, -4.9583, -4.875, -5.3132, -5.3049, -5.3816, -5.3783, -8.8797, -8.6683, -8.926, -9.2884, -7.0646, -9.7003, -8.1128, -8.7985, -9.3504, -9.3505, -9.7504, -9.7602, -9.3621, -9.7664, -9.7589, -9.7669, -9.7719, -9.7747, -9.3684, -9.7801, -8.5434, -9.7912, -9.7881, -9.7888, -9.7853, -7.2489, -9.7866, -9.7962, -9.7994, -9.7978, -9.4349, -9.1337, -4.9098, -7.5699, -5.9314, -7.0726, -4.9929, -4.9306, -7.6903, -5.4931, -6.1425, -4.9072, -4.8834, -6.5443, -5.8622, -4.0923, -4.4859, -5.6198, -5.6875, -4.5587, -5.8248, -6.2844, -5.1928, -5.2058, -3.1132, -5.2112, -5.546, -4.69, -4.6186, -4.188, -4.7814, -4.3581, -5.0943, -5.5941, -5.2396, -5.1187, -5.1467, -4.7907, -4.9344, -5.6103, -4.9722, -5.1283, -5.2102, -5.0614, -5.0449, -5.457, -5.2679, -5.4312], \"loglift\": [30.0, 29.0, 28.0, 27.0, 26.0, 25.0, 24.0, 23.0, 22.0, 21.0, 20.0, 19.0, 18.0, 17.0, 16.0, 15.0, 14.0, 13.0, 12.0, 11.0, 10.0, 9.0, 8.0, 7.0, 6.0, 5.0, 4.0, 3.0, 2.0, 1.0, 0.3773, 0.3531, 0.3442, 0.3422, 0.3414, 0.3375, 0.3368, 0.3015, 0.2963, 0.2955, 0.2944, 0.2908, 0.2895, 0.2867, 0.2814, 0.2803, 0.2707, 0.2703, 0.2652, 0.2628, 0.2614, 0.2597, 0.258, 0.2535, 0.2523, 0.2515, 0.2486, 0.2479, 0.2454, 0.2451, 0.2371, 0.2409, 0.2368, 0.1591, 0.1973, 0.2099, 0.1702, 0.1261, 0.1467, 0.1894, 0.1262, 0.0763, 0.1439, 0.049, 0.0483, 0.0741, 0.132, 0.0898, 0.0511, 0.0637, 0.0481, 0.0827, 0.0843, 0.023, 0.0862, 0.0915, 0.0537, 0.1097, 0.0085, 0.016, 0.0917, 0.056, 0.0167, 0.04, 0.047, 0.0243, 0.0206, 0.0554, -0.1228, 0.0168, 0.0046, -0.0386, -0.1824, -0.2553, -0.1004, -0.2154, 0.8336, 0.8027, 0.8019, 0.771, 0.7486, 0.7359, 0.7243, 0.7223, 0.7186, 0.7174, 0.7088, 0.6933, 0.6931, 0.6922, 0.6906, 0.6888, 0.6882, 0.6877, 0.6796, 0.6786, 0.6701, 0.6681, 0.6608, 0.6607, 0.6603, 0.6581, 0.655, 0.6534, 0.6507, 0.6498, 0.6285, 0.522, 0.5867, 0.5878, 0.6174, 0.5126, 0.4377, 0.395, 0.4329, 0.3301, 0.3365, 0.4431, 0.5123, 0.574, 0.2565, 0.4258, 0.3314, 0.4797, 0.5819, 0.1677, 0.2847, 0.3207, 0.3321, 0.316, 0.2981, 0.2082, 0.2652, 0.2322, 0.1728, -0.0332, 0.1622, 0.2805, 0.0254, -0.049, 0.1393, 0.0245, 0.0419, -0.3414, 0.0643, 0.0885, -0.0485, 0.0501, -0.0927, -0.0748, 0.107, -0.2615, 0.0113, -0.1167, -0.1729, -0.1072, -0.124, -0.0488, -0.1959, 1.2972, 1.2807, 1.2219, 1.1246, 1.1199, 1.1111, 1.083, 1.0718, 1.0502, 1.0459, 1.0455, 1.0366, 1.0366, 1.0309, 1.0284, 1.022, 1.0218, 1.0164, 1.0159, 1.0111, 1.0061, 1.0033, 1.0007, 0.9983, 0.9949, 0.9944, 0.9913, 0.991, 0.9872, 0.9843, 0.983, 0.9738, 0.841, 0.8779, 0.7907, 0.8143, 0.5919, 0.507, 0.767, 0.4927, 0.5366, 0.3167, 0.2806, 0.4996, 0.3721, 0.0515, 0.1207, 0.3176, 0.3286, 0.1045, 0.3331, 0.4228, 0.1988, 0.1992, -0.2636, 0.184, 0.2603, 0.0408, -0.0064, -0.1648, 0.0115, -0.1325, 0.0866, 0.25, 0.1118, 0.0637, 0.0449, -0.1477, -0.0927, 0.2198, -0.219, -0.1496, -0.1132, -0.2776, -0.3427, 0.0042, -0.7217, -0.1536]}, \"token.table\": {\"Topic\": [1, 2, 3, 1, 2, 3, 1, 2, 3, 1, 2, 3, 1, 2, 3, 1, 3, 1, 2, 3, 1, 2, 1, 2, 3, 1, 2, 3, 1, 2, 3, 1, 2, 3, 1, 2, 3, 1, 2, 3, 1, 2, 3, 1, 2, 3, 1, 2, 3, 1, 3, 1, 1, 2, 3, 1, 2, 3, 1, 3, 1, 2, 3, 1, 2, 3, 1, 2, 3, 1, 2, 3, 1, 2, 3, 1, 2, 3, 1, 2, 3, 1, 2, 3, 1, 2, 3, 1, 2, 3, 1, 2, 3, 1, 2, 3, 1, 2, 3, 1, 2, 3, 1, 2, 1, 2, 3, 1, 2, 1, 2, 3, 1, 2, 3, 2, 3, 1, 2, 3, 1, 2, 3, 1, 3, 1, 2, 3, 1, 2, 3, 1, 2, 3, 1, 2, 3, 1, 2, 3, 3, 1, 2, 3, 1, 2, 3, 1, 3, 1, 2, 3, 1, 2, 3, 1, 2, 3, 1, 2, 3, 1, 2, 1, 2, 3, 1, 2, 3, 1, 2, 3, 1, 2, 3, 1, 2, 1, 2, 3, 1, 2, 1, 2, 1, 2, 3, 1, 2, 3, 1, 2, 1, 2, 3, 3, 1, 2, 3, 1, 2, 3, 1, 2, 3, 1, 2, 3, 1, 2, 3, 3, 1, 3, 1, 2, 1, 2, 3, 1, 2, 1, 1, 2, 3, 1, 2, 3, 1, 3, 1, 2, 3, 1, 2, 3, 1, 2, 3, 1, 2, 3, 1, 2, 3, 1, 1, 2, 3, 1, 2, 3, 1, 2, 3, 1, 2, 3, 1, 2, 3, 1, 2, 3, 1, 2, 3, 1, 3, 1, 2, 1, 2, 3, 1, 2, 3, 1, 2, 3, 1, 2, 1, 2, 3, 1, 2, 1, 2, 3, 1, 1, 2, 3, 1, 2, 1, 2, 1, 2, 3, 1, 2, 3, 1, 2, 3, 1, 2, 3, 1, 2, 3, 1, 2, 3, 1, 2, 3, 1, 2, 3, 1, 2, 3, 1, 2, 3, 1, 2, 3, 1, 2, 1, 2, 3, 1, 1, 2, 3, 1, 2, 3, 1, 2, 1, 2, 3, 1, 1, 2, 1, 2, 1, 2, 1, 2, 3, 1, 2, 3, 1, 1, 2, 1, 2, 3, 1, 2, 3, 1, 2, 3, 1, 2, 3, 1, 2, 3, 1, 1, 2, 3, 1, 2, 3, 1, 3, 1, 3, 1, 2, 1, 2, 3, 1, 2, 3, 1, 2, 3, 1, 2, 3, 1, 2, 1, 2, 1, 1, 3, 1, 2, 1, 2, 3, 1, 2, 3, 1, 2, 1, 2, 3, 1, 2, 3, 1, 2, 3, 1, 3, 1, 3, 1, 2, 1, 2, 3, 1, 3, 1, 2, 3, 1, 2, 1, 2, 1, 2, 1, 2, 3, 1, 2, 3, 1, 2, 3, 1, 2, 3, 1, 2, 3, 2, 1, 2, 3], \"Freq\": [0.6388858020325658, 0.2356910499377679, 0.12599836002962436, 0.8345003779202659, 0.1390833963200443, 0.1390833963200443, 0.62156923633781, 0.18322376742793656, 0.19713949659967858, 0.5615783987296333, 0.3185877454331574, 0.1241952227959766, 0.4352586510990928, 0.4352586510990928, 0.4352586510990928, 0.6420377710270977, 0.6420377710270977, 0.3123082716967482, 0.3747699260360978, 0.3123082716967482, 0.27603182727687325, 0.5520636545537465, 0.3044200273055578, 0.6088400546111156, 0.3044200273055578, 0.5326231079699923, 0.34035915680033657, 0.12730991361233962, 0.6216343817501292, 0.18516768818088955, 0.1939851971418843, 0.5111815031640349, 0.3295775480926015, 0.16142573784127418, 0.5067956604718237, 0.3383650552111582, 0.15489600305221912, 0.7128439023101941, 0.17305374477305357, 0.11414670847282209, 0.7034962464537152, 0.20233299123668802, 0.093384457493856, 0.622630707804877, 0.24932778343513878, 0.1281076456324194, 0.3487265201681405, 0.3487265201681405, 0.697453040336281, 0.6445375476896981, 0.6445375476896981, 0.9466961104120778, 0.43432451565046976, 0.43432451565046976, 0.43432451565046976, 0.576383140980617, 0.21750307206815736, 0.2066279184647495, 0.711690214045862, 0.6481531410455883, 0.3712388565737377, 0.24749257104915845, 0.3712388565737377, 0.5841037975350724, 0.2598665874747873, 0.1549663136317539, 0.795091174987709, 0.08834346388752322, 0.08834346388752322, 0.436122567065641, 0.436122567065641, 0.436122567065641, 0.5769397973071382, 0.2335232512909845, 0.19231326576904606, 0.5906809905736911, 0.2882066668982744, 0.11984831692799529, 0.2338610561434601, 0.4677221122869202, 0.2338610561434601, 0.6618909044541537, 0.1904497413759593, 0.14986209157452535, 0.7740811660910615, 0.11808017787829751, 0.11808017787829751, 0.6338059773544057, 0.2565405146434499, 0.11066453572854702, 0.6375001855417993, 0.24897395305985695, 0.11259331635190983, 0.43130752674153744, 0.38201523797107606, 0.18484608288923035, 0.6429957389167947, 0.22172266859199818, 0.1362010678493703, 0.37984958726861845, 0.37457389855655426, 0.24268168075495067, 0.5925951614825037, 0.5925951614825037, 0.618186853887462, 0.2153863699064913, 0.16503630940886996, 0.5674210611504577, 0.5674210611504577, 0.789364261590895, 0.12731681638562822, 0.07639008983137693, 0.2776112219183151, 0.2776112219183151, 0.5552224438366302, 0.4437097439327154, 0.4437097439327154, 0.49024575353612265, 0.3774458456428555, 0.13232296887479417, 0.4290698924784268, 0.4290698924784268, 0.4290698924784268, 0.6430560504769232, 0.6430560504769232, 0.6485841734440939, 0.21675481444116093, 0.1361018602304964, 0.6379687863847345, 0.23141115295605588, 0.12977174459888624, 0.6651730559012481, 0.21607532389148823, 0.11862958958748374, 0.401375964572839, 0.401375964572839, 0.401375964572839, 0.6425865431537527, 0.20080829473554773, 0.15828418526213764, 0.6466701052571362, 0.6564223149675351, 0.1873103166276788, 0.15637066611328543, 0.6898187798439019, 0.204607265207937, 0.10522659353551046, 0.6359488632625206, 0.6359488632625206, 0.7847951859502996, 0.11771927789254494, 0.11771927789254494, 0.359726283886078, 0.43167154066329366, 0.14389051355443122, 0.5815927932237362, 0.23965130173038376, 0.17827718787260255, 0.7957155257194247, 0.15914310514388494, 0.15914310514388494, 0.7889374907456109, 0.15778749814912219, 0.8027047907088002, 0.16054095814176006, 0.08027047907088003, 0.5639931913571484, 0.23186386755793878, 0.20679750349762108, 0.7366816970499954, 0.17101539395803467, 0.09208521213124943, 0.7400841942185498, 0.16837894365818856, 0.09006315591019388, 0.3776503744617114, 0.3776503744617114, 0.3049211074595963, 0.6098422149191925, 0.3049211074595963, 0.9248758837472048, 0.15414598062453413, 0.7114819522735717, 0.23716065075785725, 0.8013726504033639, 0.16027453008067277, 0.08013726504033639, 0.6910406806214664, 0.18333732343018494, 0.12692583929782036, 0.5911927342683979, 0.5911927342683979, 0.8020121851794578, 0.08911246501993976, 0.08911246501993976, 0.6484498864901012, 0.6651830997639343, 0.2176962871954694, 0.11610468650425036, 0.7012597729232306, 0.20166947718053693, 0.09625134138161989, 0.49595927530806794, 0.2532558001573113, 0.2532558001573113, 0.44151656311242915, 0.44151656311242915, 0.44151656311242915, 0.5363581162967244, 0.3373865570253589, 0.12111312303474421, 0.657691086826465, 0.6475307162943591, 0.6475307162943591, 0.5974369115925605, 0.5974369115925605, 0.7460420872429505, 0.14556918775472205, 0.09098074234670128, 0.5624284490178633, 0.5624284490178633, 0.9240015640480213, 0.572626043371945, 0.24498949278284246, 0.18005251879220951, 0.5958598336853943, 0.2802151650304287, 0.12239283070294586, 0.6415612917088309, 0.6415612917088309, 0.8423225592480257, 0.12033179417828939, 0.12033179417828939, 0.5599502141092308, 0.3329433705514346, 0.10593652699363827, 0.4626972363515512, 0.20931541644474935, 0.33049802596539374, 0.3547566453198274, 0.4434458066497843, 0.1773783226599137, 0.1664121115501538, 0.5824423904255384, 0.24961816732523073, 0.9240721742155188, 0.24609150358635698, 0.4087621584993726, 0.3461965219943666, 0.2471637209458598, 0.4237092359071883, 0.3177819269303912, 0.2838785753420749, 0.5677571506841498, 0.2838785753420749, 0.6177376467242881, 0.23205170667104086, 0.15043352018674372, 0.18618408720952326, 0.3723681744190465, 0.3723681744190465, 0.5604576227166873, 0.3048889467578779, 0.13002616847027146, 0.6607690541542967, 0.21453540719295347, 0.12586077221986602, 0.6386323750801323, 0.6386323750801323, 0.9210273602621857, 0.13157533718031222, 0.40345345217591216, 0.20172672608795608, 0.40345345217591216, 0.7731622272963191, 0.12207824641520827, 0.08138549761013886, 0.25662789548251114, 0.25662789548251114, 0.5132557909650223, 0.5932171450355587, 0.5932171450355587, 0.6551498015422587, 0.226072818842047, 0.1199570059161882, 0.3774487013362371, 0.3774487013362371, 0.5382985304401886, 0.31523189375653726, 0.14693011997126737, 0.6386450655009762, 0.5535318137620617, 0.22792486449026073, 0.22792486449026073, 0.2821946931180105, 0.564389386236021, 0.37467875998326317, 0.37467875998326317, 0.48491704612550135, 0.3810062505271796, 0.10391079559832171, 0.6402443774367489, 0.28760977892666456, 0.07252768338150671, 0.7622935976658123, 0.15245871953316245, 0.10163914635544163, 0.668140028955338, 0.20527193660676046, 0.12477313793744263, 0.28529892266185247, 0.28529892266185247, 0.47549820443642077, 0.22646227017984535, 0.4529245403596907, 0.33969340526976805, 0.3628491747462651, 0.3628491747462651, 0.18142458737313255, 0.5869089526731253, 0.23024889681791838, 0.18510205430460105, 0.47155801142191545, 0.36130642001904506, 0.16736988574411646, 0.5679265347241229, 0.29856709254068176, 0.13305707384965165, 0.5325261003903452, 0.33674444583507124, 0.1331315250975863, 0.5919423605697794, 0.5919423605697794, 0.5699011875657339, 0.3224440929648232, 0.11248049754586854, 0.7241960983194119, 0.4937613769977044, 0.29084574261508617, 0.21644334334145945, 0.611968552117701, 0.265366894281127, 0.12185214533317056, 0.576095960654879, 0.576095960654879, 0.5334856914773022, 0.34041467932361186, 0.13210121884199863, 0.9256626530316658, 0.753373042352002, 0.1883432605880005, 0.7103364524809325, 0.23677881749364418, 0.5642332019563213, 0.5642332019563213, 0.5931054103720634, 0.2010526814820554, 0.20607899851910677, 0.8098653434674405, 0.16197306869348813, 0.16197306869348813, 0.9436372889822746, 0.5919030934162122, 0.5919030934162122, 0.40365364267979564, 0.4709292497930949, 0.20182682133989782, 0.4894299852947576, 0.3915439882358061, 0.09788599705895153, 0.9060787221648564, 0.06040524814432376, 0.06040524814432376, 0.7193157741875178, 0.17223053748151834, 0.10637768491505545, 0.6436090952405183, 0.17473550097027649, 0.1805600176692857, 0.6435643701340286, 0.46654614478797846, 0.28663619352986913, 0.24699501782892977, 0.3387379597139584, 0.3387379597139584, 0.3387379597139584, 0.6444012846842826, 0.6444012846842826, 0.6418334449495098, 0.6418334449495098, 0.5725422114075941, 0.5725422114075941, 0.49222501404068797, 0.4078435830622843, 0.09844500280813759, 0.5167352161639116, 0.24316951348889956, 0.24316951348889956, 0.6767750050547596, 0.22559166835158653, 0.09131091338040408, 0.5475649257732473, 0.1836992009045733, 0.2684834474759148, 0.916470512369712, 0.13092435890995888, 0.3736051838463867, 0.3736051838463867, 0.733522924971875, 0.6374471316338057, 0.6374471316338057, 0.5842346094754347, 0.5842346094754347, 0.5491413114891802, 0.2462517091879732, 0.20438891862601777, 0.6227411456355747, 0.21465698580620188, 0.16276189033657065, 0.5911490728178113, 0.5911490728178113, 0.6185843845969888, 0.2543711488062384, 0.1271855744031192, 0.2614334652781033, 0.2614334652781033, 0.39215019791715494, 0.6921332233205789, 0.17435417076014584, 0.1320864930001105, 0.642954867450383, 0.642954867450383, 0.949174898491936, 0.6461077724008077, 0.3757232610934167, 0.3757232610934167, 0.8055979803756222, 0.16111959607512444, 0.16111959607512444, 0.6419633807631151, 0.6419633807631151, 0.3253199309979469, 0.3253199309979469, 0.3253199309979469, 0.597340985922173, 0.597340985922173, 0.5795446127417023, 0.5795446127417023, 0.38532932528524255, 0.38532932528524255, 0.6128276690659779, 0.22207975163400118, 0.16445146165302618, 0.5778037270167933, 0.2709475104090048, 0.1501636804676412, 0.6370137445806674, 0.23064290752058644, 0.13179594715462084, 0.43760150111356966, 0.37324833918510353, 0.1930594857853984, 0.5735919327153781, 0.32580021778233476, 0.10095218015790654, 0.6010998363424958, 0.6642017839016714, 0.18450049552824205, 0.1512904063331585], \"Term\": [\"Kuwait\", \"Kuwait\", \"Kuwait\", \"Spanien\", \"Spanien\", \"Spanien\", \"afg\\u00f8relse\", \"afg\\u00f8relse\", \"afg\\u00f8relse\", \"aktiv\", \"aktiv\", \"aktiv\", \"alfatah\", \"alfatah\", \"alfatah\", \"algeriet\", \"algeriet\", \"alshabaab\", \"alshabaab\", \"alshabaab\", \"ambassade\", \"ambassade\", \"amman\", \"amman\", \"amman\", \"anden\", \"anden\", \"anden\", \"angiveligt\", \"angiveligt\", \"angiveligt\", \"anholde\", \"anholde\", \"anholde\", \"ans\\u00f8g\", \"ans\\u00f8g\", \"ans\\u00f8g\", \"ans\\u00f8ger\", \"ans\\u00f8ger\", \"ans\\u00f8ger\", \"ans\\u00f8gere\", \"ans\\u00f8gere\", \"ans\\u00f8gere\", \"asylmotiv\", \"asylmotiv\", \"asylmotiv\", \"bankr\\u00f8veri\", \"bankr\\u00f8veri\", \"bankr\\u00f8veri\", \"bedstefor\\u00e6ldmer\", \"bedstefor\\u00e6ldmer\", \"befande\", \"bekendtg\\u00f8relse\", \"bekendtg\\u00f8relse\", \"bekendtg\\u00f8relse\", \"bem\\u00e6rke\", \"bem\\u00e6rke\", \"bem\\u00e6rke\", \"benghazi\", \"bestandig\", \"bestemt\", \"bestemt\", \"bestemt\", \"bidoon\", \"bidoon\", \"bidoon\", \"bidoone\", \"bidoone\", \"bidoone\", \"bilag\", \"bilag\", \"bilag\", \"bo\", \"bo\", \"bo\", \"bop\\u00e6l\", \"bop\\u00e6l\", \"bop\\u00e6l\", \"b\\u00f8de\", \"b\\u00f8de\", \"b\\u00f8de\", \"dag\", \"dag\", \"dag\", \"dato\", \"dato\", \"dato\", \"deltage\", \"deltage\", \"deltage\", \"demonstration\", \"demonstration\", \"demonstration\", \"demonstratione\", \"demonstratione\", \"demonstratione\", \"divergere\", \"divergere\", \"divergere\", \"dokument\", \"dokument\", \"dokument\", \"efterretning\", \"efterretning\", \"endvidere\", \"endvidere\", \"endvidere\", \"ethvert\", \"ethvert\", \"etiopien\", \"etiopien\", \"etiopien\", \"euforiserende\", \"euforiserende\", \"euforiserende\", \"eusygesikringskort\", \"eusygesikringskort\", \"familie\", \"familie\", \"familie\", \"family\", \"family\", \"family\", \"fatahkontrolleret\", \"fatahkontrolleret\", \"finde\", \"finde\", \"finde\", \"flygtningen\\u00e6vn\", \"flygtningen\\u00e6vn\", \"flygtningen\\u00e6vn\", \"fordi\", \"fordi\", \"fordi\", \"forfalske\", \"forfalske\", \"forfalske\", \"forhold\", \"forhold\", \"forhold\", \"forh\\u00f8je\", \"forklare\", \"forklare\", \"forklare\", \"forklaring\", \"forklaring\", \"forklaring\", \"forsvunde\", \"forsvunde\", \"for\\u00e6ldre\", \"for\\u00e6ldre\", \"for\\u00e6ldre\", \"foto\", \"foto\", \"foto\", \"frygte\", \"frygte\", \"frygte\", \"f\\u00e6ter\", \"f\\u00e6ter\", \"f\\u00e6ter\", \"f\\u00e6tre\", \"f\\u00e6tre\", \"f\\u00e6tter\", \"f\\u00e6tter\", \"f\\u00e6tter\", \"f\\u00f8lge\", \"f\\u00f8lge\", \"f\\u00f8lge\", \"f\\u00f8rste\", \"f\\u00f8rste\", \"f\\u00f8rste\", \"gang\", \"gang\", \"gang\", \"garantere\", \"garantere\", \"genindkalde\", \"genindkalde\", \"genindkalde\", \"georgien\", \"georgien\", \"georgisk\", \"georgisk\", \"gifte\", \"gifte\", \"gifte\", \"grund\", \"grund\", \"grund\", \"handelsbevis\", \"handelsbevis\", \"handle\", \"handle\", \"handle\", \"helbredsforhold\", \"henvise\", \"henvise\", \"henvise\", \"herefter\", \"herefter\", \"herefter\", \"herved\", \"herved\", \"herved\", \"hinde\", \"hinde\", \"hinde\", \"hjem\", \"hjem\", \"hjem\", \"hjem20151\", \"hjem20197straa\", \"hjem20197straa\", \"hjemlandhjem201949yars\", \"hjemlandhjem201949yars\", \"hus\", \"hus\", \"hus\", \"hussain\", \"hussain\", \"hytte\", \"identitet\", \"identitet\", \"identitet\", \"idet\", \"idet\", \"idet\", \"igangv\\u00e6rende\", \"igangv\\u00e6rende\", \"involvere\", \"involvere\", \"involvere\", \"irakisk\", \"irakisk\", \"irakisk\", \"jf\", \"jf\", \"jf\", \"jordan\", \"jordan\", \"jordan\", \"jordansk\", \"jordansk\", \"jordansk\", \"kachin\", \"klager\", \"klager\", \"klager\", \"klagere\", \"klagere\", \"klagere\", \"konfiskere\", \"konfiskere\", \"konfiskere\", \"kunne\", \"kunne\", \"kunne\", \"kurder\", \"kurder\", \"kurder\", \"kuwaitisk\", \"kuwaitisk\", \"kuwaitisk\", \"kvindelig\", \"kvindelig\", \"kvindelig\", \"landsret\", \"landsret\", \"lejr\", \"lejr\", \"libanon\", \"libanon\", \"libanon\", \"libyen\", \"libyen\", \"libyen\", \"liste\", \"liste\", \"liste\", \"l\\u00e5n\", \"l\\u00e5n\", \"l\\u00e6gge\", \"l\\u00e6gge\", \"l\\u00e6gge\", \"l\\u00f8s\", \"l\\u00f8s\", \"mandlig\", \"mandlig\", \"mandlig\", \"mark\", \"meddele\", \"meddele\", \"meddele\", \"menneskesmugler\", \"menneskesmugler\", \"moskeerne\", \"moskeerne\", \"motivsamtal\", \"motivsamtal\", \"motivsamtal\", \"myndighed\", \"myndighed\", \"myndighed\", \"nabo\", \"nabo\", \"nabo\", \"navn\", \"navn\", \"navn\", \"nr\", \"nr\", \"nr\", \"n\\u00e6gtelse\", \"n\\u00e6gtelse\", \"n\\u00e6gtelse\", \"n\\u00e6se\", \"n\\u00e6se\", \"n\\u00e6se\", \"opholdstilladelse\", \"opholdstilladelse\", \"opholdstilladelse\", \"oplyse\", \"oplyse\", \"oplyse\", \"oplysning\", \"oplysning\", \"oplysning\", \"oplysnings\", \"oplysnings\", \"oplysnings\", \"paskontore\", \"paskontore\", \"person\", \"person\", \"person\", \"polisario\", \"politi\", \"politi\", \"politi\", \"politisk\", \"politisk\", \"politisk\", \"resulterende\", \"resulterende\", \"rettighed\", \"rettighed\", \"rettighed\", \"rum\\u00e6nien\", \"rusland\", \"rusland\", \"russisk\", \"russisk\", \"sabot\\u00f8r\", \"sabot\\u00f8r\", \"sag\", \"sag\", \"sag\", \"samv\\u00e6r\", \"samv\\u00e6r\", \"samv\\u00e6r\", \"sang\", \"sikkerhedselemen\", \"sikkerhedselemen\", \"skjule\", \"skjule\", \"skjule\", \"skjulested\", \"skjulested\", \"skjulested\", \"soldat\", \"soldat\", \"soldat\", \"statsborger\", \"statsborger\", \"statsborger\", \"statsl\\u00f8s\", \"statsl\\u00f8s\", \"statsl\\u00f8s\", \"sten\", \"stk\", \"stk\", \"stk\", \"stof\", \"stof\", \"stof\", \"straff\", \"straff\", \"straffelovens\", \"straffelovens\", \"stramning\", \"stramning\", \"s\\u00f8n\", \"s\\u00f8n\", \"s\\u00f8n\", \"s\\u00f8ster\", \"s\\u00f8ster\", \"s\\u00f8ster\", \"tage\", \"tage\", \"tage\", \"tilbagevend\", \"tilbagevend\", \"tilbagevend\", \"tjetjenie\", \"tjetjenie\", \"truslen\", \"truslen\", \"tr\\u00e6ne\", \"uafklare\", \"uafklare\", \"udformning\", \"udformning\", \"udl\\u00e6ndingelov\", \"udl\\u00e6ndingelov\", \"udl\\u00e6ndingelov\", \"udl\\u00e6ndingestyrels\", \"udl\\u00e6ndingestyrels\", \"udl\\u00e6ndingestyrels\", \"udl\\u00e6ndingestyrelsen\", \"udl\\u00e6ndingestyrelsen\", \"udrejse\", \"udrejse\", \"udrejse\", \"udsende\", \"udsende\", \"udsende\", \"uds\\u00e6tte\", \"uds\\u00e6tte\", \"uds\\u00e6tte\", \"uidentificer\", \"uidentificer\", \"ulykke\", \"undertrykt\", \"undg\\u00e5\", \"undg\\u00e5\", \"uoverensstemme\", \"uoverensstemme\", \"uoverensstemme\", \"uretm\\u00e6ssig\", \"uretm\\u00e6ssig\", \"uretm\\u00e6ssigt\", \"uretm\\u00e6ssigt\", \"uretm\\u00e6ssigt\", \"uven\", \"uven\", \"varelage\", \"varelage\", \"varsel\", \"varsel\", \"ved\", \"ved\", \"ved\", \"vurdering\", \"vurdering\", \"vurdering\", \"v\\u00e6gt\", \"v\\u00e6gt\", \"v\\u00e6gt\", \"\\u00e6gtef\\u00e6ll\", \"\\u00e6gtef\\u00e6ll\", \"\\u00e6gtef\\u00e6ll\", \"\\u00e6gtef\\u00e6lle\", \"\\u00e6gtef\\u00e6lle\", \"\\u00e6gtef\\u00e6lle\", \"\\u00e6gteskabsbevis\", \"\\u00f8vrigt\", \"\\u00f8vrigt\", \"\\u00f8vrigt\"]}, \"R\": 30, \"lambda.step\": 0.01, \"plot.opts\": {\"xlab\": \"PC1\", \"ylab\": \"PC2\"}, \"topic.order\": [2, 1, 3]};\n",
       "\n",
       "function LDAvis_load_lib(url, callback){\n",
       "  var s = document.createElement('script');\n",
       "  s.src = url;\n",
       "  s.async = true;\n",
       "  s.onreadystatechange = s.onload = callback;\n",
       "  s.onerror = function(){console.warn(\"failed to load library \" + url);};\n",
       "  document.getElementsByTagName(\"head\")[0].appendChild(s);\n",
       "}\n",
       "\n",
       "if(typeof(LDAvis) !== \"undefined\"){\n",
       "   // already loaded: just create the visualization\n",
       "   !function(LDAvis){\n",
       "       new LDAvis(\"#\" + \"ldavis_el857455336989766763729086\", ldavis_el857455336989766763729086_data);\n",
       "   }(LDAvis);\n",
       "}else if(typeof define === \"function\" && define.amd){\n",
       "   // require.js is available: use it to load d3/LDAvis\n",
       "   require.config({paths: {d3: \"https://d3js.org/d3.v5\"}});\n",
       "   require([\"d3\"], function(d3){\n",
       "      window.d3 = d3;\n",
       "      LDAvis_load_lib(\"https://cdn.jsdelivr.net/gh/bmabey/pyLDAvis@3.3.1/pyLDAvis/js/ldavis.v3.0.0.js\", function(){\n",
       "        new LDAvis(\"#\" + \"ldavis_el857455336989766763729086\", ldavis_el857455336989766763729086_data);\n",
       "      });\n",
       "    });\n",
       "}else{\n",
       "    // require.js not available: dynamically load d3 & LDAvis\n",
       "    LDAvis_load_lib(\"https://d3js.org/d3.v5.js\", function(){\n",
       "         LDAvis_load_lib(\"https://cdn.jsdelivr.net/gh/bmabey/pyLDAvis@3.3.1/pyLDAvis/js/ldavis.v3.0.0.js\", function(){\n",
       "                 new LDAvis(\"#\" + \"ldavis_el857455336989766763729086\", ldavis_el857455336989766763729086_data);\n",
       "            })\n",
       "         });\n",
       "}\n",
       "</script>"
      ],
      "text/plain": [
       "PreparedData(topic_coordinates=              x         y  topics  cluster       Freq\n",
       "topic                                                \n",
       "1      0.008870  0.001987       1        1  60.803231\n",
       "0     -0.002043 -0.006518       2        1  24.347709\n",
       "2     -0.006827  0.004531       3        1  14.849060, topic_info=              Term         Freq        Total Category  logprob  loglift\n",
       "10         ansøger  4362.000000  4362.000000  Default  30.0000  30.0000\n",
       "152         oplyse   752.000000   752.000000  Default  29.0000  29.0000\n",
       "61        forklare  1195.000000  1195.000000  Default  28.0000  28.0000\n",
       "775         Kuwait  1349.000000  1349.000000  Default  27.0000  27.0000\n",
       "456          ansøg   664.000000   664.000000  Default  26.0000  26.0000\n",
       "..             ...          ...          ...      ...      ...      ...\n",
       "781  demonstration    70.939440   630.588052   Topic3  -5.0614  -0.2776\n",
       "62      forklaring    72.121016   684.237678   Topic3  -5.0449  -0.3427\n",
       "508            dag    47.762855   320.294475   Topic3  -5.4570   0.0042\n",
       "137      myndighed    57.703650   799.694645   Topic3  -5.2679  -0.7217\n",
       "232          anden    49.012363   384.887544   Topic3  -5.4312  -0.1536\n",
       "\n",
       "[267 rows x 6 columns], token_table=      Topic      Freq            Term\n",
       "term                                 \n",
       "775       1  0.638886          Kuwait\n",
       "775       2  0.235691          Kuwait\n",
       "775       3  0.125998          Kuwait\n",
       "816       1  0.834500         Spanien\n",
       "816       2  0.139083         Spanien\n",
       "...     ...       ...             ...\n",
       "699       3  0.100952       ægtefælle\n",
       "1037      2  0.601100  ægteskabsbevis\n",
       "223       1  0.664202          øvrigt\n",
       "223       2  0.184500          øvrigt\n",
       "223       3  0.151290          øvrigt\n",
       "\n",
       "[469 rows x 3 columns], R=30, lambda_step=0.01, plot_opts={'xlab': 'PC1', 'ylab': 'PC2'}, topic_order=[2, 1, 3])"
      ]
     },
     "execution_count": 49,
     "metadata": {},
     "output_type": "execute_result"
    }
   ],
   "source": [
    "# Visualize LDA model results\n",
    "pyLDAvis.enable_notebook()\n",
    "\n",
    "gensim_models.prepare(lda_model, dictionary=dictionary, corpus=bow)\n"
   ]
  },
  {
   "cell_type": "markdown",
   "metadata": {},
   "source": [
    "Each bubble in the plot represents a topic. The size of the bubble represents the proportion of cases that contain the topic, with a larger bubble corresponding to a higher proportion. \n",
    "\n",
    "The distance between the bubbles represents the similarity between the topics; the shorter the distance, the more similar the topics.\n",
    "\n",
    "The bars in the bar chart represent the term frequency for each of the words. The blue bars show the overall term frequency in the collection of documents, whereas the red bars show the term frequency for the selected topic."
   ]
  }
 ],
 "metadata": {
  "interpreter": {
   "hash": "b6672ba510bd43d5df0d34395a84685a825e41d35f5301d8abef98bca1680e82"
  },
  "kernelspec": {
   "display_name": "Python 3 (ipykernel)",
   "language": "python",
   "name": "python3"
  },
  "language_info": {
   "codemirror_mode": {
    "name": "ipython",
    "version": 3
   },
   "file_extension": ".py",
   "mimetype": "text/x-python",
   "name": "python",
   "nbconvert_exporter": "python",
   "pygments_lexer": "ipython3",
   "version": "3.9.9"
  }
 },
 "nbformat": 4,
 "nbformat_minor": 2
}
