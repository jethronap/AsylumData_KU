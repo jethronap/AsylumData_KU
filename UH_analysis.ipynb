{
 "cells": [
  {
   "cell_type": "code",
   "execution_count": 9,
   "metadata": {},
   "outputs": [],
   "source": [
    "import warnings\n",
    "warnings.filterwarnings(\"ignore\")\n",
    "\n",
    "from collections import Counter, ChainMap\n",
    "from collections import defaultdict\n",
    "from sklearn.feature_extraction.text import CountVectorizer, TfidfTransformer\n",
    "import utilities.helpers as hp\n",
    "import pprint\n",
    "import numpy as np\n",
    "import pandas as pd\n",
    "import seaborn as sns\n",
    "import matplotlib.pyplot as plt\n",
    "from matplotlib import cm\n",
    "\n",
    "plt.style.use(style='seaborn')\n",
    "%matplotlib inline\n",
    "sns.set()\n"
   ]
  },
  {
   "cell_type": "markdown",
   "metadata": {},
   "source": [
    "# Unknown Homeland cases EDA:"
   ]
  },
  {
   "cell_type": "markdown",
   "metadata": {},
   "source": [
    "# Import data set:\n"
   ]
  },
  {
   "cell_type": "markdown",
   "metadata": {},
   "source": [
    "Below we see the shape of the whole dataset.\n"
   ]
  },
  {
   "cell_type": "code",
   "execution_count": 10,
   "metadata": {},
   "outputs": [
    {
     "data": {
      "text/plain": [
       "(9635, 5)"
      ]
     },
     "execution_count": 10,
     "metadata": {},
     "output_type": "execute_result"
    }
   ],
   "source": [
    "pd.options.mode.chained_assignment = None\n",
    "\n",
    "df_full = hp.import_dataset(encoding='utf-8')\n",
    "# Convert json to csv:\n",
    "# df_full.to_csv('../data/dk_asylum_data_1.csv', encoding='utf-8', index=False)\n",
    "df_full.shape\n"
   ]
  },
  {
   "cell_type": "markdown",
   "metadata": {},
   "source": [
    "# Dataset preprocessing:\n",
    "\n",
    "Cases of Unknown Homeland (Ukendt hjemland) are kept.\n",
    "\n",
    "Below we see the shape and head of the dataset.\n"
   ]
  },
  {
   "cell_type": "code",
   "execution_count": 11,
   "metadata": {},
   "outputs": [
    {
     "data": {
      "text/plain": [
       "(192, 4)"
      ]
     },
     "execution_count": 11,
     "metadata": {},
     "output_type": "execute_result"
    }
   ],
   "source": [
    "df_UH = df_full[df_full.country == \"Ukendt hjemland\"]\n",
    "\n",
    "# Drop redundant column:\n",
    "df_UH.drop('hasText', axis=1, inplace=True)\n",
    "\n",
    "df = df_UH\n",
    "\n",
    "df[\"text\"] = df[\"text\"].astype(\"string\")\n",
    "\n",
    "df.shape"
   ]
  },
  {
   "cell_type": "code",
   "execution_count": 12,
   "metadata": {},
   "outputs": [
    {
     "data": {
      "text/html": [
       "<div>\n",
       "<style scoped>\n",
       "    .dataframe tbody tr th:only-of-type {\n",
       "        vertical-align: middle;\n",
       "    }\n",
       "\n",
       "    .dataframe tbody tr th {\n",
       "        vertical-align: top;\n",
       "    }\n",
       "\n",
       "    .dataframe thead th {\n",
       "        text-align: right;\n",
       "    }\n",
       "</style>\n",
       "<table border=\"1\" class=\"dataframe\">\n",
       "  <thead>\n",
       "    <tr style=\"text-align: right;\">\n",
       "      <th></th>\n",
       "      <th>id</th>\n",
       "      <th>asylum_motive</th>\n",
       "      <th>country</th>\n",
       "      <th>text</th>\n",
       "    </tr>\n",
       "  </thead>\n",
       "  <tbody>\n",
       "    <tr>\n",
       "      <th>287</th>\n",
       "      <td>287</td>\n",
       "      <td>[Etniske forhold]</td>\n",
       "      <td>Ukendt hjemland</td>\n",
       "      <td>Nævnet stadfæstede i november 2021 Udl...</td>\n",
       "    </tr>\n",
       "    <tr>\n",
       "      <th>515</th>\n",
       "      <td>515</td>\n",
       "      <td>[Kriminelle forhold,  Militære forhold]</td>\n",
       "      <td>Ukendt hjemland</td>\n",
       "      <td>Nævnet stadfæstede i juni 2021 Udlændi...</td>\n",
       "    </tr>\n",
       "    <tr>\n",
       "      <th>551</th>\n",
       "      <td>551</td>\n",
       "      <td>[Sur Place,  LGBT,  Politiske forhold,  Etnisk...</td>\n",
       "      <td>Ukendt hjemland</td>\n",
       "      <td>Nævnet stadfæstede i juni 2021 Udlændi...</td>\n",
       "    </tr>\n",
       "    <tr>\n",
       "      <th>989</th>\n",
       "      <td>989</td>\n",
       "      <td>[Agents of Persecution,  Anden kønsrelateret f...</td>\n",
       "      <td>Ukendt hjemland</td>\n",
       "      <td>Nævnet stadfæstede i december 2020 Udl...</td>\n",
       "    </tr>\n",
       "    <tr>\n",
       "      <th>1379</th>\n",
       "      <td>1379</td>\n",
       "      <td>[Militære forhold,  Nationalitet]</td>\n",
       "      <td>Ukendt hjemland</td>\n",
       "      <td>Nævnet hjemviste i juni 2020 Udlænding...</td>\n",
       "    </tr>\n",
       "  </tbody>\n",
       "</table>\n",
       "</div>"
      ],
      "text/plain": [
       "        id                                      asylum_motive  \\\n",
       "287    287                                  [Etniske forhold]   \n",
       "515    515            [Kriminelle forhold,  Militære forhold]   \n",
       "551    551  [Sur Place,  LGBT,  Politiske forhold,  Etnisk...   \n",
       "989    989  [Agents of Persecution,  Anden kønsrelateret f...   \n",
       "1379  1379                  [Militære forhold,  Nationalitet]   \n",
       "\n",
       "              country                                               text  \n",
       "287   Ukendt hjemland          Nævnet stadfæstede i november 2021 Udl...  \n",
       "515   Ukendt hjemland          Nævnet stadfæstede i juni 2021 Udlændi...  \n",
       "551   Ukendt hjemland          Nævnet stadfæstede i juni 2021 Udlændi...  \n",
       "989   Ukendt hjemland          Nævnet stadfæstede i december 2020 Udl...  \n",
       "1379  Ukendt hjemland          Nævnet hjemviste i juni 2020 Udlænding...  "
      ]
     },
     "execution_count": 12,
     "metadata": {},
     "output_type": "execute_result"
    }
   ],
   "source": [
    "df.head()"
   ]
  },
  {
   "cell_type": "markdown",
   "metadata": {},
   "source": [
    "Check for potential duplicates and drop them:\n"
   ]
  },
  {
   "cell_type": "code",
   "execution_count": 13,
   "metadata": {},
   "outputs": [
    {
     "data": {
      "text/html": [
       "<div>\n",
       "<style scoped>\n",
       "    .dataframe tbody tr th:only-of-type {\n",
       "        vertical-align: middle;\n",
       "    }\n",
       "\n",
       "    .dataframe tbody tr th {\n",
       "        vertical-align: top;\n",
       "    }\n",
       "\n",
       "    .dataframe thead th {\n",
       "        text-align: right;\n",
       "    }\n",
       "</style>\n",
       "<table border=\"1\" class=\"dataframe\">\n",
       "  <thead>\n",
       "    <tr style=\"text-align: right;\">\n",
       "      <th></th>\n",
       "      <th>id</th>\n",
       "      <th>asylum_motive</th>\n",
       "      <th>country</th>\n",
       "      <th>text</th>\n",
       "    </tr>\n",
       "  </thead>\n",
       "  <tbody>\n",
       "    <tr>\n",
       "      <th>1421</th>\n",
       "      <td>1421</td>\n",
       "      <td>[Inddragelse/forlængelse,  Religiøse forhold, ...</td>\n",
       "      <td>Ukendt hjemland</td>\n",
       "      <td>Nævnet stadfæstede i maj 2020 Udlændin...</td>\n",
       "    </tr>\n",
       "    <tr>\n",
       "      <th>1440</th>\n",
       "      <td>1440</td>\n",
       "      <td>[Inddragelse/forlængelse,  Religiøse forhold, ...</td>\n",
       "      <td>Ukendt hjemland</td>\n",
       "      <td>Nævnet stadfæstede i maj 2020 Udlændin...</td>\n",
       "    </tr>\n",
       "    <tr>\n",
       "      <th>4102</th>\n",
       "      <td>4102</td>\n",
       "      <td>[Politiske forhold,  Generelle forhold]</td>\n",
       "      <td>Ukendt hjemland</td>\n",
       "      <td>Nævnet stadfæstede i januar 2018 Udlæn...</td>\n",
       "    </tr>\n",
       "    <tr>\n",
       "      <th>4103</th>\n",
       "      <td>4103</td>\n",
       "      <td>[Privatretlig forhold,  Generelle forhold]</td>\n",
       "      <td>Ukendt hjemland</td>\n",
       "      <td>Nævnet stadfæstede i januar 2018 Udlæn...</td>\n",
       "    </tr>\n",
       "    <tr>\n",
       "      <th>4157</th>\n",
       "      <td>4157</td>\n",
       "      <td>[Nationalitet,  Generelle forhold,  Udrejsefor...</td>\n",
       "      <td>Ukendt hjemland</td>\n",
       "      <td>Nævnet stadfæstede i januar 2018 Udlæn...</td>\n",
       "    </tr>\n",
       "    <tr>\n",
       "      <th>4160</th>\n",
       "      <td>4160</td>\n",
       "      <td>[Emneord:]</td>\n",
       "      <td>Ukendt hjemland</td>\n",
       "      <td>Nævnet stadfæstede i januar 2018 Udlæn...</td>\n",
       "    </tr>\n",
       "  </tbody>\n",
       "</table>\n",
       "</div>"
      ],
      "text/plain": [
       "        id                                      asylum_motive  \\\n",
       "1421  1421  [Inddragelse/forlængelse,  Religiøse forhold, ...   \n",
       "1440  1440  [Inddragelse/forlængelse,  Religiøse forhold, ...   \n",
       "4102  4102            [Politiske forhold,  Generelle forhold]   \n",
       "4103  4103         [Privatretlig forhold,  Generelle forhold]   \n",
       "4157  4157  [Nationalitet,  Generelle forhold,  Udrejsefor...   \n",
       "4160  4160                                         [Emneord:]   \n",
       "\n",
       "              country                                               text  \n",
       "1421  Ukendt hjemland          Nævnet stadfæstede i maj 2020 Udlændin...  \n",
       "1440  Ukendt hjemland          Nævnet stadfæstede i maj 2020 Udlændin...  \n",
       "4102  Ukendt hjemland          Nævnet stadfæstede i januar 2018 Udlæn...  \n",
       "4103  Ukendt hjemland          Nævnet stadfæstede i januar 2018 Udlæn...  \n",
       "4157  Ukendt hjemland          Nævnet stadfæstede i januar 2018 Udlæn...  \n",
       "4160  Ukendt hjemland          Nævnet stadfæstede i januar 2018 Udlæn...  "
      ]
     },
     "execution_count": 13,
     "metadata": {},
     "output_type": "execute_result"
    }
   ],
   "source": [
    "duplicates_df = df[df.duplicated(['text'], keep=False)]\n",
    "#pd.concat(g for _, g in df.groupby(\"text\") if len(g) > 1)\n",
    "\n",
    "# See all duplicates:\n",
    "duplicates_df\n"
   ]
  },
  {
   "cell_type": "code",
   "execution_count": 14,
   "metadata": {},
   "outputs": [
    {
     "data": {
      "text/plain": [
       "(189, 4)"
      ]
     },
     "execution_count": 14,
     "metadata": {},
     "output_type": "execute_result"
    }
   ],
   "source": [
    "# Drop duplicates from original dataframe based on text column\n",
    "# If the summary is the same probalbly were are looking at a duplicate\n",
    "# without taking into account all other variables(columns):\n",
    "df = df.drop_duplicates('text', keep='last')\n",
    "\n",
    "# Check shape again:\n",
    "df.shape\n"
   ]
  },
  {
   "cell_type": "markdown",
   "metadata": {},
   "source": [
    "## Length of texts\n",
    "\n",
    "Create a numeric column in order to get a feel about the length of the texts.\n"
   ]
  },
  {
   "cell_type": "code",
   "execution_count": 15,
   "metadata": {},
   "outputs": [
    {
     "data": {
      "text/html": [
       "<div>\n",
       "<style scoped>\n",
       "    .dataframe tbody tr th:only-of-type {\n",
       "        vertical-align: middle;\n",
       "    }\n",
       "\n",
       "    .dataframe tbody tr th {\n",
       "        vertical-align: top;\n",
       "    }\n",
       "\n",
       "    .dataframe thead th {\n",
       "        text-align: right;\n",
       "    }\n",
       "</style>\n",
       "<table border=\"1\" class=\"dataframe\">\n",
       "  <thead>\n",
       "    <tr style=\"text-align: right;\">\n",
       "      <th></th>\n",
       "      <th>count</th>\n",
       "      <th>mean</th>\n",
       "      <th>std</th>\n",
       "      <th>min</th>\n",
       "      <th>25%</th>\n",
       "      <th>50%</th>\n",
       "      <th>75%</th>\n",
       "      <th>max</th>\n",
       "    </tr>\n",
       "  </thead>\n",
       "  <tbody>\n",
       "    <tr>\n",
       "      <th>id</th>\n",
       "      <td>189.0</td>\n",
       "      <td>3296.661376</td>\n",
       "      <td>1225.330399</td>\n",
       "      <td>287.0</td>\n",
       "      <td>2632.0</td>\n",
       "      <td>3128.0</td>\n",
       "      <td>3933.0</td>\n",
       "      <td>7295.0</td>\n",
       "    </tr>\n",
       "    <tr>\n",
       "      <th>length</th>\n",
       "      <td>189.0</td>\n",
       "      <td>5008.539683</td>\n",
       "      <td>2046.292952</td>\n",
       "      <td>1104.0</td>\n",
       "      <td>3532.0</td>\n",
       "      <td>4753.0</td>\n",
       "      <td>6057.0</td>\n",
       "      <td>13105.0</td>\n",
       "    </tr>\n",
       "  </tbody>\n",
       "</table>\n",
       "</div>"
      ],
      "text/plain": [
       "        count         mean          std     min     25%     50%     75%  \\\n",
       "id      189.0  3296.661376  1225.330399   287.0  2632.0  3128.0  3933.0   \n",
       "length  189.0  5008.539683  2046.292952  1104.0  3532.0  4753.0  6057.0   \n",
       "\n",
       "            max  \n",
       "id       7295.0  \n",
       "length  13105.0  "
      ]
     },
     "execution_count": 15,
     "metadata": {},
     "output_type": "execute_result"
    }
   ],
   "source": [
    "df['length'] = df['text'].str.len()\n",
    "\n",
    "df.describe().T\n"
   ]
  },
  {
   "cell_type": "markdown",
   "metadata": {},
   "source": [
    "## Boxplot:\n"
   ]
  },
  {
   "cell_type": "code",
   "execution_count": 16,
   "metadata": {},
   "outputs": [
    {
     "data": {
      "text/plain": [
       "<AxesSubplot:>"
      ]
     },
     "execution_count": 16,
     "metadata": {},
     "output_type": "execute_result"
    },
    {
     "data": {
      "image/png": "[encoded data removed]",
      "text/plain": [
       "<Figure size 432x288 with 1 Axes>"
      ]
     },
     "metadata": {},
     "output_type": "display_data"
    }
   ],
   "source": [
    "# Box plot:\n",
    "df['length'].plot(kind='box', vert=False)\n"
   ]
  },
  {
   "cell_type": "markdown",
   "metadata": {},
   "source": [
    "# Create a pipeline:\n"
   ]
  },
  {
   "cell_type": "markdown",
   "metadata": {},
   "source": [
    "The pipeline consists of the following steps:\n",
    "\n",
    "- Lowercase all characters\n",
    "- Drop numbers\n",
    "- Remove punctuation\n",
    "- Remove stopwords. The list of stopwords can be found [here](https://github.com/jethronap/AsylumData_KU/blob/main/misc/stopwords_dk.txt).\n",
    "- Single letter words are dropped, too.\n",
    "- Tokenization\n",
    "- Lemmatization. The process during which all words are turned into its roots.\n",
    "\n",
    "Steps can be added or removed from the pipeline.\n"
   ]
  },
  {
   "cell_type": "code",
   "execution_count": 17,
   "metadata": {},
   "outputs": [],
   "source": [
    "pipeline = [str.lower, hp.remove_punctuation, hp.remove_stopwords, hp.drop_single_letter_words,\n",
    "            hp.tokenize, hp.lemmatize]\n",
    "\n",
    "\n",
    "def process(text, pipeline):\n",
    "    tokens = text\n",
    "    for transform in pipeline:\n",
    "        tokens = transform(tokens)\n",
    "    return tokens\n"
   ]
  },
  {
   "cell_type": "code",
   "execution_count": 18,
   "metadata": {},
   "outputs": [],
   "source": [
    "# Apply the process pipeline:\n",
    "df['tokens'] = df['text'].apply(process, pipeline=pipeline)\n",
    "\n",
    "# Add column to see the number of tokens:\n",
    "df['num_tokens'] = df['tokens'].map(len)\n"
   ]
  },
  {
   "cell_type": "code",
   "execution_count": 19,
   "metadata": {},
   "outputs": [
    {
     "data": {
      "text/html": [
       "<div>\n",
       "<style scoped>\n",
       "    .dataframe tbody tr th:only-of-type {\n",
       "        vertical-align: middle;\n",
       "    }\n",
       "\n",
       "    .dataframe tbody tr th {\n",
       "        vertical-align: top;\n",
       "    }\n",
       "\n",
       "    .dataframe thead th {\n",
       "        text-align: right;\n",
       "    }\n",
       "</style>\n",
       "<table border=\"1\" class=\"dataframe\">\n",
       "  <thead>\n",
       "    <tr style=\"text-align: right;\">\n",
       "      <th></th>\n",
       "      <th>id</th>\n",
       "      <th>asylum_motive</th>\n",
       "      <th>country</th>\n",
       "      <th>text</th>\n",
       "      <th>length</th>\n",
       "      <th>tokens</th>\n",
       "      <th>num_tokens</th>\n",
       "    </tr>\n",
       "  </thead>\n",
       "  <tbody>\n",
       "    <tr>\n",
       "      <th>287</th>\n",
       "      <td>287</td>\n",
       "      <td>[Etniske forhold]</td>\n",
       "      <td>Ukendt hjemland</td>\n",
       "      <td>Nævnet stadfæstede i november 2021 Udl...</td>\n",
       "      <td>4753</td>\n",
       "      <td>[stadfæste, 2021, udlændingestyrels, afgørelse...</td>\n",
       "      <td>325</td>\n",
       "    </tr>\n",
       "    <tr>\n",
       "      <th>515</th>\n",
       "      <td>515</td>\n",
       "      <td>[Kriminelle forhold,  Militære forhold]</td>\n",
       "      <td>Ukendt hjemland</td>\n",
       "      <td>Nævnet stadfæstede i juni 2021 Udlændi...</td>\n",
       "      <td>3149</td>\n",
       "      <td>[stadfæste, 2021, udlændingestyrels, afgørelse...</td>\n",
       "      <td>219</td>\n",
       "    </tr>\n",
       "    <tr>\n",
       "      <th>551</th>\n",
       "      <td>551</td>\n",
       "      <td>[Sur Place,  LGBT,  Politiske forhold,  Etnisk...</td>\n",
       "      <td>Ukendt hjemland</td>\n",
       "      <td>Nævnet stadfæstede i juni 2021 Udlændi...</td>\n",
       "      <td>4433</td>\n",
       "      <td>[stadfæste, 2021, udlændingestyrels, afgørelse...</td>\n",
       "      <td>318</td>\n",
       "    </tr>\n",
       "    <tr>\n",
       "      <th>989</th>\n",
       "      <td>989</td>\n",
       "      <td>[Agents of Persecution,  Anden kønsrelateret f...</td>\n",
       "      <td>Ukendt hjemland</td>\n",
       "      <td>Nævnet stadfæstede i december 2020 Udl...</td>\n",
       "      <td>2664</td>\n",
       "      <td>[stadfæste, 2020, udlændingestyrels, afgørelse...</td>\n",
       "      <td>184</td>\n",
       "    </tr>\n",
       "    <tr>\n",
       "      <th>1379</th>\n",
       "      <td>1379</td>\n",
       "      <td>[Militære forhold,  Nationalitet]</td>\n",
       "      <td>Ukendt hjemland</td>\n",
       "      <td>Nævnet hjemviste i juni 2020 Udlænding...</td>\n",
       "      <td>4626</td>\n",
       "      <td>[hjemvise, 2020, udlændingestyrels, afgørelse,...</td>\n",
       "      <td>324</td>\n",
       "    </tr>\n",
       "  </tbody>\n",
       "</table>\n",
       "</div>"
      ],
      "text/plain": [
       "        id                                      asylum_motive  \\\n",
       "287    287                                  [Etniske forhold]   \n",
       "515    515            [Kriminelle forhold,  Militære forhold]   \n",
       "551    551  [Sur Place,  LGBT,  Politiske forhold,  Etnisk...   \n",
       "989    989  [Agents of Persecution,  Anden kønsrelateret f...   \n",
       "1379  1379                  [Militære forhold,  Nationalitet]   \n",
       "\n",
       "              country                                               text  \\\n",
       "287   Ukendt hjemland          Nævnet stadfæstede i november 2021 Udl...   \n",
       "515   Ukendt hjemland          Nævnet stadfæstede i juni 2021 Udlændi...   \n",
       "551   Ukendt hjemland          Nævnet stadfæstede i juni 2021 Udlændi...   \n",
       "989   Ukendt hjemland          Nævnet stadfæstede i december 2020 Udl...   \n",
       "1379  Ukendt hjemland          Nævnet hjemviste i juni 2020 Udlænding...   \n",
       "\n",
       "      length                                             tokens  num_tokens  \n",
       "287     4753  [stadfæste, 2021, udlændingestyrels, afgørelse...         325  \n",
       "515     3149  [stadfæste, 2021, udlændingestyrels, afgørelse...         219  \n",
       "551     4433  [stadfæste, 2021, udlændingestyrels, afgørelse...         318  \n",
       "989     2664  [stadfæste, 2020, udlændingestyrels, afgørelse...         184  \n",
       "1379    4626  [hjemvise, 2020, udlændingestyrels, afgørelse,...         324  "
      ]
     },
     "execution_count": 19,
     "metadata": {},
     "output_type": "execute_result"
    }
   ],
   "source": [
    "df.head()\n"
   ]
  },
  {
   "cell_type": "markdown",
   "metadata": {},
   "source": [
    "# Analysis:\n"
   ]
  },
  {
   "cell_type": "markdown",
   "metadata": {},
   "source": [
    "## Exploratory descriptive analysis (EDA):\n"
   ]
  },
  {
   "cell_type": "markdown",
   "metadata": {},
   "source": [
    "## Decision extraction:\n"
   ]
  },
  {
   "cell_type": "code",
   "execution_count": 20,
   "metadata": {},
   "outputs": [],
   "source": [
    "df['tokens_joined'] = [' '.join(token) for token in df['tokens']]\n"
   ]
  },
  {
   "cell_type": "code",
   "execution_count": 21,
   "metadata": {},
   "outputs": [],
   "source": [
    "\n",
    "# df_stad = df['tokens_joined'].str.contains('stadfæste', regex=True)\n",
    "# df_hem = df['tokens_joined'].str.contains('hjemvise', regex=True)\n",
    "# df_med = df['tokens_joined'].str.contains('meddele', regex=True)\n",
    "\n",
    "# # df['decision'] = np.where(df_stad & (df_hem | df_med), \"check\", np.nan)\n",
    "# df['decision'] = np.where((df_hem | df_med) & df_stad, \"denied\", np.where(\n",
    "#     df_hem | df_med, \"overturned\", np.where(df_stad, \"denied\", np.nan)))\n",
    "\n",
    "# affirmed decision of Immigration Services\n",
    "df_stad = df['tokens_joined'].str.contains('stadfæst.*?', regex=True)\n",
    "# overturned decision of Immigration Services\n",
    "df_hem = df['tokens_joined'].str.contains('hjemvis.*?', regex=True)\n",
    "# overturned decision of Immigration Services\n",
    "df_med = df['tokens_joined'].str.contains('meddel.*?', regex=True)\n",
    "# overturned decision of Immigration Services\n",
    "df_omg = df['tokens_joined'].str.contains('omgjor.*?|omgør.*?', regex=True)\n",
    "# overturned decision of Immigration Services\n",
    "df_ame = df['tokens_joined'].str.contains('ændr.*?', regex=True)\n",
    "# overturned decision of Immigration Services\n",
    "df_oph = df['tokens_joined'].str.contains('ophæv.*?', regex=True)\n",
    "\n",
    "df['decision'] = np.where(df_stad, 'affirmed', np.where(\n",
    "    df_hem | df_med | df_omg | df_ame | df_oph, 'overturned', np.nan))\n"
   ]
  },
  {
   "cell_type": "markdown",
   "metadata": {},
   "source": [
    "Plot decision outcomes:\n"
   ]
  },
  {
   "cell_type": "code",
   "execution_count": 22,
   "metadata": {},
   "outputs": [
    {
     "data": {
      "text/plain": [
       "Text(0, 0.5, 'outcomes')"
      ]
     },
     "execution_count": 22,
     "metadata": {},
     "output_type": "execute_result"
    },
    {
     "data": {
      "image/png": "[encoded data removed]",
      "text/plain": [
       "<Figure size 432x288 with 1 Axes>"
      ]
     },
     "metadata": {},
     "output_type": "display_data"
    }
   ],
   "source": [
    "colors = ['#756bb1', '#2b8cbe']\n",
    "\n",
    "# Plot with normalized values:\n",
    "ax = df['decision'].value_counts(normalize=True).mul(100).round(1).plot(\n",
    "    kind='barh', color=colors, title='Decision Outcomes for Unknown Homeland')\n",
    "\n",
    "for container in ax.containers:\n",
    "    ax.bar_label(container, fmt='%.0f%%')\n",
    "ax.set_xlabel('% of outcomes')\n",
    "ax.set_ylabel('outcomes')\n",
    "\n",
    "# Uncomment to plot frequencies:\n",
    "# ax = df['decision'].value_counts().plot(\n",
    "#     kind='barh', color=colors, title='Decision Outcomes for Unknown Homeland')\n",
    "# ax.bar_label(container)\n"
   ]
  },
  {
   "cell_type": "markdown",
   "metadata": {},
   "source": [
    "## Year extraction:\n"
   ]
  },
  {
   "cell_type": "code",
   "execution_count": 23,
   "metadata": {},
   "outputs": [],
   "source": [
    "df['year'] = df['tokens'].str[1]\n"
   ]
  },
  {
   "cell_type": "markdown",
   "metadata": {},
   "source": [
    "Plot decision outcomes by year:\n"
   ]
  },
  {
   "cell_type": "code",
   "execution_count": 24,
   "metadata": {},
   "outputs": [
    {
     "data": {
      "image/png": "[encoded data removed]",
      "text/plain": [
       "<Figure size 432x288 with 1 Axes>"
      ]
     },
     "metadata": {},
     "output_type": "display_data"
    }
   ],
   "source": [
    "ax = df.groupby(['year'])['decision'].value_counts().unstack().plot(\n",
    "    kind='barh', title='Decision Outcomes per Year for Unknown Homeland', width=0.95)\n",
    "\n",
    "ax.set_xlabel('no. of outcomes')\n",
    "ax.set_ylabel('year')\n",
    "\n",
    "for container in ax.containers:\n",
    "    ax.bar_label(container)\n"
   ]
  },
  {
   "cell_type": "markdown",
   "metadata": {},
   "source": [
    "## Gender of applicants extraction:\n"
   ]
  },
  {
   "cell_type": "code",
   "execution_count": 25,
   "metadata": {},
   "outputs": [],
   "source": [
    "male_pat = 'mandl.*?statsborg.*?|mand.*?ansøg.*?|mand.*?klag.*?'\n",
    "female_pat = 'kvinde.*?statsborg.*?|kvinde.*?ansøg.*?|kvinde.*?klag.*?'\n",
    "\n",
    "df_female = df['text'].str.contains(female_pat)\n",
    "df_male = df['text'].str.contains(male_pat)\n",
    "\n",
    "df['gender'] = np.where(df_male, \"male\", np.where(\n",
    "    df_female, \"female\", \"unidentified\"))\n"
   ]
  },
  {
   "cell_type": "markdown",
   "metadata": {},
   "source": [
    "Plot gender distribution:\n",
    "\n",
    "NOTE: unidentified means that the regex pattern used does not fully yield the expected results.\n"
   ]
  },
  {
   "cell_type": "code",
   "execution_count": 26,
   "metadata": {},
   "outputs": [
    {
     "data": {
      "image/png": "[encoded data removed]",
      "text/plain": [
       "<Figure size 432x288 with 1 Axes>"
      ]
     },
     "metadata": {},
     "output_type": "display_data"
    }
   ],
   "source": [
    "# Plot with normalized values:\n",
    "ax = df['gender'].value_counts(normalize=True).mul(100).round(1).plot(\n",
    "    kind='barh', color=colors, title='Gender Distribution for Unknown Homeland')\n",
    "\n",
    "for container in ax.containers:\n",
    "    ax.bar_label(container, fmt='%.0f%%')\n"
   ]
  },
  {
   "cell_type": "markdown",
   "metadata": {},
   "source": [
    "Plot decision outcome rate by gender:\n"
   ]
  },
  {
   "cell_type": "code",
   "execution_count": 27,
   "metadata": {},
   "outputs": [
    {
     "data": {
      "image/png": "[encoded data removed]",
      "text/plain": [
       "<Figure size 360x504 with 1 Axes>"
      ]
     },
     "metadata": {},
     "output_type": "display_data"
    }
   ],
   "source": [
    "ax = df.groupby(['gender'])['decision'].value_counts().unstack().plot(\n",
    "    kind='bar', title='Decision Outcomes by Gender for Unknown Homeland', figsize=(5, 7))\n",
    "ax.set_xlabel('gender')\n",
    "ax.set_ylabel('no. of outcomes')\n",
    "\n",
    "for container in ax.containers:\n",
    "    ax.bar_label(container)\n"
   ]
  },
  {
   "cell_type": "markdown",
   "metadata": {},
   "source": [
    "Plot Decision Outcome Frequencies by Gender for each Year:\n"
   ]
  },
  {
   "cell_type": "code",
   "execution_count": 28,
   "metadata": {},
   "outputs": [
    {
     "data": {
      "image/png": "[encoded data removed]",
      "text/plain": [
       "<Figure size 1872x1872 with 7 Axes>"
      ]
     },
     "metadata": {},
     "output_type": "display_data"
    }
   ],
   "source": [
    "# Uncomment to plot separate figures:\n",
    "# for year in df['year'].unique():\n",
    "#     ax = df[df.year==year].groupby(['gender'])['decision'].value_counts().unstack().plot(\n",
    "#     kind='bar', title='Decision Outcomes by Gender for Unknown Homeland for '+ str(year))\n",
    "#     ax.set_xlabel('gender')\n",
    "#     ax.set_ylabel('no. of outcomes')\n",
    "\n",
    "#     for container in ax.containers:\n",
    "#         ax.bar_label(container)\n",
    "\n",
    "# Plot all figures in one:\n",
    "plt.figure(figsize=(26, 26))\n",
    "for ix, (key, group) in enumerate(df.groupby('year')):\n",
    "    ax = plt.subplot(3, 4, ix+1)\n",
    "    group.groupby('gender')['decision'].value_counts(\n",
    "    ).unstack().plot(kind='bar', rot=0, ax=ax)\n",
    "    ax.set_xlabel('year: {}'.format(key))\n",
    "    ax.set_ylabel('no. of outcomes')\n",
    "    for container in ax.containers:\n",
    "        ax.bar_label(container)\n"
   ]
  },
  {
   "cell_type": "markdown",
   "metadata": {},
   "source": [
    "## Extract Country of Origin:\n"
   ]
  },
  {
   "cell_type": "code",
   "execution_count": 29,
   "metadata": {},
   "outputs": [],
   "source": [
    "syria_pat = 'Syr.*?|damask*?'\n",
    "irak_pat = 'Irak|irak'\n",
    "kuwait_pat = 'Kuwait'\n",
    "eritrea_pat = 'eritr.*?'\n",
    "algeria_pat = 'alger.*?'\n",
    "iran_pat = 'Iran'\n",
    "myanmar_pat = 'minbya|myanmar'\n",
    "sudan_pat = 'sudan'\n",
    "somalia_pat = 'somalia'\n",
    "georgien_pat = 'rusland.*?|tjetjen.*?|georg.*?'\n",
    "gambia_pat = 'gambia'\n",
    "afghan_pat = 'kabul|afghan.*?'\n",
    "sahara_pat = '.*?sahara'\n",
    "libya_pat = 'tripoli|libyen'\n",
    "liberia_pat = 'Liberia'\n",
    "palestine_pat = 'palæstinens.*?'\n",
    "sierra_pat = 'sierra.*?leone'\n",
    "etiopia_pat = 'etiopien'\n",
    "\n",
    "df_syria = df['tokens_joined'].str.contains(syria_pat)\n",
    "df_irak = df['tokens_joined'].str.contains(irak_pat)\n",
    "df_kuwait = df['tokens_joined'].str.contains(kuwait_pat)\n",
    "df_eritrea = df['tokens_joined'].str.contains(eritrea_pat)\n",
    "df_algeria = df['tokens_joined'].str.contains(algeria_pat)\n",
    "df_iran = df['tokens_joined'].str.contains(iran_pat)\n",
    "df_myanmar = df['tokens_joined'].str.contains(myanmar_pat)\n",
    "df_sudan = df['tokens_joined'].str.contains(sudan_pat)\n",
    "df_somalia = df['tokens_joined'].str.contains(somalia_pat)\n",
    "df_georgien = df['tokens_joined'].str.contains(georgien_pat)\n",
    "df_gambia = df['tokens_joined'].str.contains(gambia_pat)\n",
    "df_afghan = df['tokens_joined'].str.contains(afghan_pat)\n",
    "df_sahara = df['tokens_joined'].str.contains(sahara_pat)\n",
    "df_libya = df['tokens_joined'].str.contains(libya_pat)\n",
    "df_liberia = df['tokens_joined'].str.contains(liberia_pat)\n",
    "df_palestine = df['tokens_joined'].str.contains(palestine_pat)\n",
    "df_sierra = df['tokens_joined'].str.contains(sierra_pat)\n",
    "df_etiopia = df['tokens_joined'].str.contains(etiopia_pat)\n",
    "\n",
    "df['origin'] = np.where(df_myanmar, 'myanmar', np.where(df_kuwait, 'kuwait',\n",
    "                np.where(df_iran, 'iran', np.where(df_eritrea, 'eritrea', np.where(df_irak, 'irak',\n",
    "                np.where(df_libya, 'libya', np.where(df_syria, 'syria', np.where(df_sudan, 'sudan',\n",
    "                np.where(df_somalia, 'somalia', np.where(df_georgien, 'georgien', np.where(df_gambia, 'gambia',\n",
    "                np.where(df_afghan, 'afghanistan', np.where(df_sahara, 'sahara', np.where(df_algeria, 'algiers',\n",
    "                np.where(df_liberia, 'liberia', np.where(df_palestine, 'palestine',\n",
    "                np.where(df_sierra, 'sierra leone', np.where(df_etiopia, 'etiopia', np.nan))))))))))))))))))\n"
   ]
  },
  {
   "cell_type": "markdown",
   "metadata": {},
   "source": [
    "Plot distribution of origin:\n"
   ]
  },
  {
   "cell_type": "code",
   "execution_count": 30,
   "metadata": {},
   "outputs": [
    {
     "data": {
      "image/png": "[encoded data removed]",
      "text/plain": [
       "<Figure size 432x288 with 1 Axes>"
      ]
     },
     "metadata": {},
     "output_type": "display_data"
    }
   ],
   "source": [
    "ax = df['origin'].value_counts().plot(\n",
    "    kind='barh', title='Country of Origin for Unknown Homeland', width=0.95)\n",
    "ax.invert_yaxis()\n",
    "for container in ax.containers:\n",
    "    ax.bar_label(container)\n"
   ]
  },
  {
   "cell_type": "markdown",
   "metadata": {},
   "source": [
    "Plot decision outcome rate by origin:\n"
   ]
  },
  {
   "cell_type": "code",
   "execution_count": 31,
   "metadata": {},
   "outputs": [
    {
     "data": {
      "image/png": "[encoded data removed]",
      "text/plain": [
       "<Figure size 504x360 with 1 Axes>"
      ]
     },
     "metadata": {},
     "output_type": "display_data"
    }
   ],
   "source": [
    "ax = df.groupby(df['origin'])['decision'].value_counts().unstack().plot(\n",
    "    kind='bar', title='Decision Outcomes per Country of Origin', figsize=(7, 5), rot=70, width=0.95)\n",
    "ax.set_xlabel('origin')\n",
    "ax.set_ylabel('no. of outcomes')\n",
    "\n",
    "for container in ax.containers:\n",
    "    ax.bar_label(container)\n"
   ]
  },
  {
   "cell_type": "markdown",
   "metadata": {},
   "source": [
    "# Asylum motives distribution:"
   ]
  },
  {
   "cell_type": "code",
   "execution_count": 32,
   "metadata": {},
   "outputs": [
    {
     "data": {
      "text/plain": [
       "Generelle forhold                  125\n",
       "Politiske forhold                   89\n",
       "Nationalitet                        75\n",
       "Etniske forhold                     53\n",
       "Sagsoplysning                       16\n",
       "Privatretlig forhold                14\n",
       "Beviskrav og bevisvurdering         11\n",
       "Udrejseforhold                       9\n",
       "Agents of Persecution                8\n",
       "Militære forhold                     6\n",
       "Ægteskabelige forhold                6\n",
       "Inddragelse/forlængelse              6\n",
       "Tortur                               6\n",
       "LGBT                                 4\n",
       "Seksuelle forhold                    3\n",
       "Chikane                              3\n",
       "Kriminelle forhold                   3\n",
       "Mindreårige                          2\n",
       "Tilknyt bistand oprørsgruppe         2\n",
       "Religiøse forhold                    2\n",
       "Privatretlig konflikt                2\n",
       "Sur Place                            2\n",
       "Anden kønsrelateret forfølgelse      1\n",
       "Overgreb                             1\n",
       "To-instansbehandling                 1\n",
       "Emneord:                             1\n",
       "Name: asylum_motive, dtype: int64"
      ]
     },
     "execution_count": 32,
     "metadata": {},
     "output_type": "execute_result"
    }
   ],
   "source": [
    "df['asylum_motive'] = df['asylum_motive'].astype(\"string\")\n",
    "\n",
    "df_motives = df['asylum_motive'].str.split(',').explode().str.strip('[\\'\\'] ').value_counts()\n",
    "\n",
    "df_motives\n"
   ]
  },
  {
   "cell_type": "markdown",
   "metadata": {},
   "source": [
    "Plot ten most frequent asylum motives:"
   ]
  },
  {
   "cell_type": "code",
   "execution_count": 33,
   "metadata": {},
   "outputs": [
    {
     "data": {
      "text/plain": [
       "Text(0, 0.5, 'frequency')"
      ]
     },
     "execution_count": 33,
     "metadata": {},
     "output_type": "execute_result"
    },
    {
     "data": {
      "image/png": "[encoded data removed]",
      "text/plain": [
       "<Figure size 504x360 with 1 Axes>"
      ]
     },
     "metadata": {},
     "output_type": "display_data"
    }
   ],
   "source": [
    "gradient_colors = cm.Reds(np.linspace(1, 0, 10))\n",
    "\n",
    "\n",
    "ax = df_motives.iloc[:10].plot(kind='bar', color=gradient_colors,\n",
    "                               rot=90, title='Ten most common Asylum Motives', figsize=(7, 5))\n",
    "\n",
    "for container in ax.containers:\n",
    "    ax.bar_label(container)\n",
    "ax.set_ylabel('frequency')\n"
   ]
  },
  {
   "cell_type": "markdown",
   "metadata": {},
   "source": [
    "# Set of locations referred in UH appeals:"
   ]
  },
  {
   "cell_type": "code",
   "execution_count": 34,
   "metadata": {},
   "outputs": [
    {
     "data": {
      "text/plain": [
       "[{('bangladesh', 'LOC'),\n",
       "  ('damaskus', 'LOC'),\n",
       "  ('danmark', 'LOC'),\n",
       "  ('dhaka', 'LOC'),\n",
       "  ('europa', 'LOC'),\n",
       "  ('holland', 'LOC'),\n",
       "  ('istanbul', 'LOC'),\n",
       "  ('minbya', 'LOC'),\n",
       "  ('myanmar', 'LOC'),\n",
       "  ('rohingyaer', 'LOC'),\n",
       "  ('singapore', 'LOC'),\n",
       "  ('syrien', 'LOC')},\n",
       " {('algeriet', 'LOC'),\n",
       "  ('algeriets', 'LOC'),\n",
       "  ('algier', 'LOC'),\n",
       "  ('casablanca', 'LOC'),\n",
       "  ('danmark', 'LOC'),\n",
       "  ('frankrig', 'LOC'),\n",
       "  ('marokko', 'LOC'),\n",
       "  ('sverige', 'LOC')},\n",
       " {('australien', 'LOC'),\n",
       "  ('danmark', 'LOC'),\n",
       "  ('juba', 'LOC'),\n",
       "  ('south sudan', 'LOC'),\n",
       "  ('sprogtests', 'LOC'),\n",
       "  ('sudan', 'LOC'),\n",
       "  ('sydsudan', 'LOC')},\n",
       " {('danmark', 'LOC'), ('kenya', 'LOC'), ('somalia', 'LOC')},\n",
       " {('eritrea', 'LOC'), ('etiopien', 'LOC'), ('sudan', 'LOC')},\n",
       " {('danmark', 'LOC'),\n",
       "  ('europa', 'LOC'),\n",
       "  ('holland', 'LOC'),\n",
       "  ('iran', 'LOC'),\n",
       "  ('kobala', 'LOC')},\n",
       " {('danmark', 'LOC'),\n",
       "  ('eritrea', 'LOC'),\n",
       "  ('etiopien', 'LOC'),\n",
       "  ('italien', 'LOC'),\n",
       "  ('libyen', 'LOC')},\n",
       " {('kuwait', 'LOC')},\n",
       " {('4.-17', 'LOC'),\n",
       "  ('bangladesh', 'LOC'),\n",
       "  ('danmark', 'LOC'),\n",
       "  ('grækenland', 'LOC'),\n",
       "  ('indien', 'LOC'),\n",
       "  ('karachi', 'LOC'),\n",
       "  ('myanmar', 'LOC'),\n",
       "  ('pakistan', 'LOC'),\n",
       "  ('spanien', 'LOC'),\n",
       "  ('thailand', 'LOC')},\n",
       " {('amman', 'LOC'),\n",
       "  ('damaskus', 'LOC'),\n",
       "  ('danmark', 'LOC'),\n",
       "  ('grækenland', 'LOC'),\n",
       "  ('syrien', 'LOC'),\n",
       "  ('tyrkiet', 'LOC'),\n",
       "  ('tyskland', 'LOC')},\n",
       " {('danmark', 'LOC'),\n",
       "  ('grækenland', 'LOC'),\n",
       "  ('irak', 'LOC'),\n",
       "  ('iraker', 'LOC'),\n",
       "  ('kuwait', 'LOC'),\n",
       "  ('ungarn', 'LOC')},\n",
       " {('danmark', 'LOC'),\n",
       "  ('grækenland', 'LOC'),\n",
       "  ('irak', 'LOC'),\n",
       "  ('iraker', 'LOC'),\n",
       "  ('kuwait', 'LOC'),\n",
       "  ('ungarn', 'LOC')},\n",
       " {('danmark', 'LOC'),\n",
       "  ('grækenland', 'LOC'),\n",
       "  ('irak', 'LOC'),\n",
       "  ('iraker', 'LOC'),\n",
       "  ('iran', 'LOC'),\n",
       "  ('kuwait', 'LOC'),\n",
       "  ('ungarn', 'LOC')},\n",
       " {('danmark', 'LOC'),\n",
       "  ('grækenland', 'LOC'),\n",
       "  ('hjem/2019/45/', 'LOC'),\n",
       "  ('irak', 'LOC'),\n",
       "  ('iraker', 'LOC'),\n",
       "  ('kuwait', 'LOC'),\n",
       "  ('ungarn', 'LOC')},\n",
       " {('idlib', 'LOC'), ('libanon', 'LOC'), ('syrien', 'LOC')},\n",
       " {('damaskus', 'LOC'),\n",
       "  ('daraa', 'LOC'),\n",
       "  ('edirne', 'LOC'),\n",
       "  ('syrien', 'LOC'),\n",
       "  ('tyrkiet', 'LOC')},\n",
       " {('danmark', 'LOC'),\n",
       "  ('grækenland', 'LOC'),\n",
       "  ('irak', 'LOC'),\n",
       "  ('kuwait', 'LOC')},\n",
       " {('kuwait', 'LOC')},\n",
       " {('danmark', 'LOC'),\n",
       "  ('frankrig', 'LOC'),\n",
       "  ('georgien', 'LOC'),\n",
       "  ('rusland', 'LOC'),\n",
       "  ('tbilisi', 'LOC'),\n",
       "  ('tjetjenien', 'LOC')},\n",
       " {('danmark', 'LOC'), ('irak', 'LOC'), ('kuwait', 'LOC')},\n",
       " {('danmark', 'LOC'),\n",
       "  ('grækenland', 'LOC'),\n",
       "  ('kuwait', 'LOC'),\n",
       "  ('landinfos', 'LOC')},\n",
       " {('damaskus', 'LOC'),\n",
       "  ('danmark', 'LOC'),\n",
       "  ('europa', 'LOC'),\n",
       "  ('gensamtalen', 'LOC'),\n",
       "  ('grækenland', 'LOC'),\n",
       "  ('homs', 'LOC'),\n",
       "  ('iran', 'LOC'),\n",
       "  ('istanbul', 'LOC'),\n",
       "  ('kuwait', 'LOC'),\n",
       "  ('libanon', 'LOC'),\n",
       "  ('syrien', 'LOC'),\n",
       "  ('tyrkiet', 'LOC')},\n",
       " {('finland', 'LOC'),\n",
       "  ('irak', 'LOC'),\n",
       "  ('iran', 'LOC'),\n",
       "  ('kalar', 'LOC'),\n",
       "  ('koye', 'LOC'),\n",
       "  ('sabah moradi', 'LOC'),\n",
       "  ('østrig', 'LOC')},\n",
       " {('eritrea', 'LOC'), ('sudan', 'LOC')},\n",
       " {('bangladesh', 'LOC'),\n",
       "  ('burma', 'LOC'),\n",
       "  ('comilla', 'LOC'),\n",
       "  ('danmark', 'LOC'),\n",
       "  ('myanmar', 'LOC'),\n",
       "  ('tuku', 'LOC')},\n",
       " {('kuwait', 'LOC')},\n",
       " {('irak', 'LOC'), ('kuwait', 'LOC'), ('taima', 'LOC'), ('tyskland', 'LOC')},\n",
       " {('kuwait', 'LOC')},\n",
       " {('europa', 'LOC'), ('grækenland', 'LOC'), ('kuwait', 'LOC')},\n",
       " {('europa', 'LOC'), ('grækenland', 'LOC'), ('kuwait', 'LOC')},\n",
       " {('europa', 'LOC'), ('grækenland', 'LOC'), ('kuwait', 'LOC')},\n",
       " {('[d', 'LOC'),\n",
       "  ('europa', 'LOC'),\n",
       "  ('farwaniyah', 'LOC'),\n",
       "  ('grækenland', 'LOC'),\n",
       "  ('kuwait', 'LOC'),\n",
       "  ('taima', 'LOC')},\n",
       " {('danmark', 'LOC'),\n",
       "  ('diwaniyaen', 'LOC'),\n",
       "  ('grækenland', 'LOC'),\n",
       "  ('kuwait', 'LOC'),\n",
       "  ('landinfo', 'LOC'),\n",
       "  ('landinfos', 'LOC')},\n",
       " {('danmark', 'LOC'),\n",
       "  ('diwaniyaen', 'LOC'),\n",
       "  ('grækenland', 'LOC'),\n",
       "  ('kuwait', 'LOC'),\n",
       "  ('landinfo', 'LOC'),\n",
       "  ('landinfos', 'LOC')},\n",
       " {('danmark', 'LOC'),\n",
       "  ('diwaniyaen', 'LOC'),\n",
       "  ('grækenland', 'LOC'),\n",
       "  ('kuwait', 'LOC'),\n",
       "  ('landinfo', 'LOC'),\n",
       "  ('landinfos', 'LOC')},\n",
       " {('danmark', 'LOC'),\n",
       "  ('diwaniyaen', 'LOC'),\n",
       "  ('grækenland', 'LOC'),\n",
       "  ('kuwait', 'LOC'),\n",
       "  ('landinfo', 'LOC'),\n",
       "  ('landinfos', 'LOC')},\n",
       " {('dakar', 'LOC'), ('danmark', 'LOC'), ('gambia', 'LOC'), ('senegal', 'LOC')},\n",
       " {('grækenland', 'LOC'), ('kuwait', 'LOC'), ('kuwait city', 'LOC')},\n",
       " {('danmark', 'LOC'), ('doha', 'LOC'), ('jahra', 'LOC'), ('kuwait', 'LOC')},\n",
       " {('danmark', 'LOC'), ('kuwait', 'LOC')},\n",
       " {('danmark', 'LOC'), ('kuwait', 'LOC'), ('sverige', 'LOC')},\n",
       " {('eritrea', 'LOC'),\n",
       "  ('etiopien', 'LOC'),\n",
       "  ('europa', 'LOC'),\n",
       "  ('sudan', 'LOC')},\n",
       " {('abu muslim al-khulani', 'LOC'),\n",
       "  ('danmark', 'LOC'),\n",
       "  ('grækenland', 'LOC'),\n",
       "  ('irak', 'LOC'),\n",
       "  ('kuwait', 'LOC'),\n",
       "  ('tyrkiet', 'LOC')},\n",
       " {('demon-strationen', 'LOC'),\n",
       "  ('europa', 'LOC'),\n",
       "  ('grækenland', 'LOC'),\n",
       "  ('kuwait', 'LOC'),\n",
       "  ('op-lysnings-', 'LOC')},\n",
       " {('europa', 'LOC'), ('grækenland', 'LOC'), ('kuwait', 'LOC')},\n",
       " {('europa', 'LOC'), ('grækenland', 'LOC'), ('kuwait', 'LOC')},\n",
       " {('europa', 'LOC'),\n",
       "  ('grækenland', 'LOC'),\n",
       "  ('kuwait', 'LOC'),\n",
       "  ('op-lysnings-', 'LOC')},\n",
       " {('[d', 'LOC'),\n",
       "  ('europa', 'LOC'),\n",
       "  ('farwaniyah', 'LOC'),\n",
       "  ('grækenland', 'LOC'),\n",
       "  ('kuwait', 'LOC'),\n",
       "  ('op-lysnings-', 'LOC'),\n",
       "  ('taima', 'LOC')},\n",
       " {('beirut', 'LOC'),\n",
       "  ('danmark', 'LOC'),\n",
       "  ('libanon', 'LOC'),\n",
       "  ('syrien', 'LOC'),\n",
       "  ('tripoli', 'LOC'),\n",
       "  ('tyrkiet', 'LOC')},\n",
       " {('abu haitman', 'LOC'), ('kuwait', 'LOC'), ('taima', 'LOC')},\n",
       " {('afghanistan', 'LOC'), ('kabul', 'LOC'), ('talibans', 'LOC')},\n",
       " {('kuwait', 'LOC')},\n",
       " {('danmark', 'LOC'), ('europa', 'LOC'), ('kuwait', 'LOC')},\n",
       " {('grækenland', 'LOC'),\n",
       "  ('kuwait', 'LOC'),\n",
       "  ('sprogtests', 'LOC'),\n",
       "  ('tyrkiet', 'LOC')},\n",
       " {('kuwait', 'LOC')},\n",
       " {('irak', 'LOC'), ('kuwait', 'LOC'), ('london', 'LOC')},\n",
       " {('danmark', 'LOC'),\n",
       "  ('england', 'LOC'),\n",
       "  ('kuwait', 'LOC'),\n",
       "  ('ukendt/2018/102/', 'LOC')},\n",
       " {('danmarks', 'LOC'),\n",
       "  ('mogadishu', 'LOC'),\n",
       "  ('somalia', 'LOC'),\n",
       "  ('storbritannien', 'LOC')},\n",
       " {('danmark', 'LOC'),\n",
       "  ('kroatien', 'LOC'),\n",
       "  ('kuwait', 'LOC'),\n",
       "  ('tyskland', 'LOC')},\n",
       " {('danmark', 'LOC'),\n",
       "  ('hjem/2019/1/jabp', 'LOC'),\n",
       "  ('kroatien', 'LOC'),\n",
       "  ('kuwait', 'LOC'),\n",
       "  ('tyskland', 'LOC')},\n",
       " {('danmark', 'LOC'), ('england', 'LOC'), ('kuwait', 'LOC')},\n",
       " {('kuwait', 'LOC')},\n",
       " {('irak', 'LOC'), ('kuwait', 'LOC')},\n",
       " {('bahrain', 'LOC'),\n",
       "  ('de forenede arabiske emirater', 'LOC'),\n",
       "  ('england', 'LOC'),\n",
       "  ('kuwait', 'LOC'),\n",
       "  ('kuwaits', 'LOC'),\n",
       "  ('landinfos', 'LOC'),\n",
       "  ('qatar', 'LOC'),\n",
       "  ('saudi arabien', 'LOC')},\n",
       " {('irak', 'LOC'), ('kuwait', 'LOC'), ('taima', 'LOC')},\n",
       " {('kuwait', 'LOC')},\n",
       " {('kuwait', 'LOC')},\n",
       " {('danmark', 'LOC'),\n",
       "  ('farwaniah', 'LOC'),\n",
       "  ('grækenland', 'LOC'),\n",
       "  ('kuwait', 'LOC'),\n",
       "  ('landinfos', 'LOC')},\n",
       " {('iraker', 'LOC'), ('kuwait', 'LOC'), ('sprogtests', 'LOC')},\n",
       " {('libyen', 'LOC'),\n",
       "  ('libyens', 'LOC'),\n",
       "  ('muammar gaddafi', 'LOC'),\n",
       "  ('ungarn', 'LOC'),\n",
       "  ('østrig', 'LOC')},\n",
       " {('danmark', 'LOC'), ('irak', 'LOC'), ('kuwait', 'LOC'), ('kuwaits', 'LOC')},\n",
       " {('danmark', 'LOC'),\n",
       "  ('england', 'LOC'),\n",
       "  ('grækenland', 'LOC'),\n",
       "  ('irak', 'LOC'),\n",
       "  ('kuwait', 'LOC'),\n",
       "  ('kuwaits', 'LOC'),\n",
       "  ('tyrkiet', 'LOC')},\n",
       " {('irak', 'LOC'), ('kuwait', 'LOC'), ('syrien', 'LOC'), ('ungarn', 'LOC')},\n",
       " {('danmark', 'LOC'),\n",
       "  ('irak', 'LOC'),\n",
       "  ('kuwait', 'LOC'),\n",
       "  ('landinfo', 'LOC'),\n",
       "  ('syrien', 'LOC')},\n",
       " {('danmark', 'LOC'),\n",
       "  ('europa', 'LOC'),\n",
       "  ('hjem/2018/95/jabp', 'LOC'),\n",
       "  ('irak', 'LOC'),\n",
       "  ('kuwait', 'LOC'),\n",
       "  ('syrien', 'LOC'),\n",
       "  ('ungarn', 'LOC')},\n",
       " {('danmark', 'LOC'), ('europa', 'LOC'), ('irak', 'LOC'), ('kuwait', 'LOC')},\n",
       " {('danmark', 'LOC'), ('syrien', 'LOC')},\n",
       " {('danmark', 'LOC'), ('kuwait', 'LOC'), ('taima', 'LOC')},\n",
       " {('irak', 'LOC'), ('kuwait', 'LOC'), ('taima', 'LOC')},\n",
       " {('irak', 'LOC'), ('kuwait', 'LOC'), ('taima', 'LOC')},\n",
       " {('irak', 'LOC'), ('kuwait', 'LOC')},\n",
       " {('danmark', 'LOC'), ('irak', 'LOC'), ('kuwait', 'LOC')},\n",
       " {('[a]', 'LOC'), ('kuwait', 'LOC')},\n",
       " {('england', 'LOC'),\n",
       "  ('grækenland', 'LOC'),\n",
       "  ('kuwait', 'LOC'),\n",
       "  ('rahayya', 'LOC'),\n",
       "  ('tyrkiet', 'LOC')},\n",
       " {('[a', 'LOC'),\n",
       "  ('danmark', 'LOC'),\n",
       "  ('grækenland', 'LOC'),\n",
       "  ('kuwait', 'LOC'),\n",
       "  ('tyrkiet', 'LOC')},\n",
       " {('bahrain', 'LOC'),\n",
       "  ('danmark', 'LOC'),\n",
       "  ('de forenede arabiske emirater', 'LOC'),\n",
       "  ('gensamtalen', 'LOC'),\n",
       "  ('irak', 'LOC'),\n",
       "  ('jahra', 'LOC'),\n",
       "  ('kuwait', 'LOC'),\n",
       "  ('qatar', 'LOC'),\n",
       "  ('saudi arabien', 'LOC')},\n",
       " {('bahrain', 'LOC'),\n",
       "  ('de forenede arabiske emirater', 'LOC'),\n",
       "  ('gensamtalen', 'LOC'),\n",
       "  ('irak', 'LOC'),\n",
       "  ('kuwait', 'LOC'),\n",
       "  ('qatar', 'LOC'),\n",
       "  ('saudi arabien', 'LOC')},\n",
       " {('danmark', 'LOC'),\n",
       "  ('iraker', 'LOC'),\n",
       "  ('kuwait', 'LOC'),\n",
       "  ('tyrkiet', 'LOC')},\n",
       " {('danmark', 'LOC'), ('kuwait', 'LOC')},\n",
       " {('kuwait', 'LOC')},\n",
       " {('casablanca', 'LOC'),\n",
       "  ('marokko', 'LOC'),\n",
       "  ('polisario', 'LOC'),\n",
       "  ('sahara', 'LOC'),\n",
       "  ('spanien', 'LOC'),\n",
       "  ('vestsahara', 'LOC')},\n",
       " {('danmark', 'LOC'), ('irak', 'LOC'), ('kuwait', 'LOC')},\n",
       " {('danmark', 'LOC'),\n",
       "  ('grækenland', 'LOC'),\n",
       "  ('irak', 'LOC'),\n",
       "  ('kuwait', 'LOC')},\n",
       " {('bulgarien', 'LOC'),\n",
       "  ('danmark', 'LOC'),\n",
       "  ('irak', 'LOC'),\n",
       "  ('kuwait', 'LOC')},\n",
       " {('danmark', 'LOC'), ('kuwait', 'LOC')},\n",
       " {('grækenland', 'LOC'),\n",
       "  ('irak', 'LOC'),\n",
       "  ('kuwait', 'LOC'),\n",
       "  ('tyrkiet', 'LOC')},\n",
       " {('danmark', 'LOC'),\n",
       "  ('europa', 'LOC'),\n",
       "  ('jahra', 'LOC'),\n",
       "  ('kuwait', 'LOC'),\n",
       "  ('middelhavet', 'LOC'),\n",
       "  ('taima', 'LOC')},\n",
       " {('danmark', 'LOC'),\n",
       "  ('grækenland', 'LOC'),\n",
       "  ('irak', 'LOC'),\n",
       "  ('kuwait', 'LOC'),\n",
       "  ('middelhavet', 'LOC')},\n",
       " {('frihedspladsen', 'LOC'), ('kuwait', 'LOC'), ('ungarn', 'LOC')},\n",
       " {('kuwait', 'LOC')},\n",
       " {('kuwait', 'LOC')},\n",
       " {('kuwait', 'LOC'), ('tamia', 'LOC')},\n",
       " {('kuwait', 'LOC'), ('taima', 'LOC')},\n",
       " {('kuwait', 'LOC')},\n",
       " {('algeriet', 'LOC'),\n",
       "  ('danmark', 'LOC'),\n",
       "  ('israel', 'LOC'),\n",
       "  ('libyen', 'LOC'),\n",
       "  ('marokko', 'LOC'),\n",
       "  ('muammar gaddafi', 'LOC'),\n",
       "  ('nordafrika', 'LOC'),\n",
       "  ('schweiz', 'LOC'),\n",
       "  ('tripoli', 'LOC')},\n",
       " {('kuwait', 'LOC')},\n",
       " {('irak', 'LOC'), ('kabd', 'LOC'), ('kuwait', 'LOC')},\n",
       " {('irak', 'LOC'), ('kuwait', 'LOC')},\n",
       " {('danmark', 'LOC'), ('kuwait', 'LOC')},\n",
       " {('grækenland', 'LOC'),\n",
       "  ('hjem/2018/46/', 'LOC'),\n",
       "  ('irak', 'LOC'),\n",
       "  ('kuwait', 'LOC')},\n",
       " {('belgien', 'LOC'),\n",
       "  ('danmark', 'LOC'),\n",
       "  ('grækenland', 'LOC'),\n",
       "  ('irak', 'LOC'),\n",
       "  ('kuwait', 'LOC'),\n",
       "  ('landinfos', 'LOC'),\n",
       "  ('sprogtests', 'LOC')},\n",
       " {('belgien', 'LOC'),\n",
       "  ('danmark', 'LOC'),\n",
       "  ('grækenland', 'LOC'),\n",
       "  ('irak', 'LOC'),\n",
       "  ('kuwait', 'LOC'),\n",
       "  ('landinfos', 'LOC'),\n",
       "  ('sprogtests', 'LOC')},\n",
       " {('abu nasir', 'LOC'), ('kuwait', 'LOC')},\n",
       " {('irak', 'LOC'), ('kuwait', 'LOC'), ('tyrkiet', 'LOC')},\n",
       " {('irak', 'LOC'),\n",
       "  ('kuwait', 'LOC'),\n",
       "  ('storbritannien', 'LOC'),\n",
       "  ('tyrkiet', 'LOC')},\n",
       " {('england', 'LOC'),\n",
       "  ('irak', 'LOC'),\n",
       "  ('kuwait', 'LOC'),\n",
       "  ('landinfos', 'LOC')},\n",
       " {('england', 'LOC'),\n",
       "  ('irak', 'LOC'),\n",
       "  ('kuwait', 'LOC'),\n",
       "  ('landinfos', 'LOC')},\n",
       " {('kuwait', 'LOC'), ('taimaa', 'LOC')},\n",
       " {('grækenland', 'LOC'), ('irak', 'LOC'), ('kuwait', 'LOC')},\n",
       " {('danmark', 'LOC'),\n",
       "  ('grækenland', 'LOC'),\n",
       "  ('irak', 'LOC'),\n",
       "  ('kuwait', 'LOC'),\n",
       "  ('london', 'LOC'),\n",
       "  ('tyrkiet', 'LOC'),\n",
       "  ('tyskland', 'LOC')},\n",
       " {('al-haria torvet', 'LOC'),\n",
       "  ('danmark', 'LOC'),\n",
       "  ('grækenland', 'LOC'),\n",
       "  ('kuwait', 'LOC'),\n",
       "  ('taima', 'LOC')},\n",
       " {('danmark', 'LOC'),\n",
       "  ('grækenland', 'LOC'),\n",
       "  ('iran', 'LOC'),\n",
       "  ('kuwait', 'LOC'),\n",
       "  ('sverige', 'LOC')},\n",
       " {('danmark', 'LOC'),\n",
       "  ('europa', 'LOC'),\n",
       "  ('grækenland', 'LOC'),\n",
       "  ('iran', 'LOC'),\n",
       "  ('kuwait', 'LOC'),\n",
       "  ('sverige', 'LOC')},\n",
       " {('danmark', 'LOC'),\n",
       "  ('frankrig', 'LOC'),\n",
       "  ('irak', 'LOC'),\n",
       "  ('kuwait', 'LOC'),\n",
       "  ('tyrkiet', 'LOC'),\n",
       "  ('ungarn', 'LOC')},\n",
       " {('england', 'LOC'), ('irak', 'LOC'), ('kuwait', 'LOC')},\n",
       " {('kuwait', 'LOC'), ('landinfo', 'LOC')},\n",
       " {('asylskema', 'LOC'),\n",
       "  ('kuwait', 'LOC'),\n",
       "  ('statsløs/2018/tbp/39', 'LOC'),\n",
       "  ('sverige', 'LOC')},\n",
       " {('belgien', 'LOC'),\n",
       "  ('danmark', 'LOC'),\n",
       "  ('frankrig', 'LOC'),\n",
       "  ('kuwait', 'LOC'),\n",
       "  ('schweiz', 'LOC'),\n",
       "  ('taima', 'LOC')},\n",
       " {('grækenland', 'LOC'), ('irak', 'LOC'), ('kuwait', 'LOC')},\n",
       " {('danmark', 'LOC'), ('kuwait', 'LOC'), ('østrig', 'LOC')},\n",
       " {('danmark', 'LOC'),\n",
       "  ('grækenland', 'LOC'),\n",
       "  ('irak', 'LOC'),\n",
       "  ('kuwait', 'LOC'),\n",
       "  ('ramadi', 'LOC')},\n",
       " {('kuwait', 'LOC')},\n",
       " {('kuwait', 'LOC')},\n",
       " {('kuwait', 'LOC'), ('shia-muslim', 'LOC'), ('østrig', 'LOC')},\n",
       " {('kuwait', 'LOC'), ('teima', 'LOC'), ('østrig', 'LOC')},\n",
       " {('kuwait', 'LOC'), ('taima', 'LOC')},\n",
       " {('danmark', 'LOC'),\n",
       "  ('frankrig', 'LOC'),\n",
       "  ('grækenland', 'LOC'),\n",
       "  ('kuwait', 'LOC')},\n",
       " {('danmark', 'LOC'),\n",
       "  ('demon-strationen', 'LOC'),\n",
       "  ('grækenland', 'LOC'),\n",
       "  ('hjem/2018/21/', 'LOC'),\n",
       "  ('irak', 'LOC'),\n",
       "  ('kuwait', 'LOC')},\n",
       " {('irak', 'LOC'), ('kuwait', 'LOC')},\n",
       " {('kuwait', 'LOC')},\n",
       " {('danmark', 'LOC'),\n",
       "  ('grækenland', 'LOC'),\n",
       "  ('irak', 'LOC'),\n",
       "  ('kuwait', 'LOC'),\n",
       "  ('landinfo', 'LOC')},\n",
       " {('danmark', 'LOC'), ('irak', 'LOC'), ('kuwait', 'LOC')},\n",
       " {('bahrain', 'LOC'),\n",
       "  ('danmark', 'LOC'),\n",
       "  ('de forenede arabiske emirater', 'LOC'),\n",
       "  ('england', 'LOC'),\n",
       "  ('grækenland', 'LOC'),\n",
       "  ('irak', 'LOC'),\n",
       "  ('khabed-området', 'LOC'),\n",
       "  ('kuwait', 'LOC'),\n",
       "  ('qatar', 'LOC'),\n",
       "  ('saudi arabien', 'LOC'),\n",
       "  ('taima', 'LOC')},\n",
       " {('ahvaz', 'LOC'),\n",
       "  ('danmark', 'LOC'),\n",
       "  ('gensamtalen', 'LOC'),\n",
       "  ('huriyapladsen', 'LOC'),\n",
       "  ('irak', 'LOC'),\n",
       "  ('iran', 'LOC'),\n",
       "  ('israel', 'LOC'),\n",
       "  ('kuwait', 'LOC'),\n",
       "  ('landinfos', 'LOC'),\n",
       "  ('libanon', 'LOC'),\n",
       "  ('palæstina', 'LOC'),\n",
       "  ('syrien', 'LOC'),\n",
       "  ('tahrirpladsen', 'LOC'),\n",
       "  ('taima', 'LOC')},\n",
       " {('danmark', 'LOC'),\n",
       "  ('frankrig', 'LOC'),\n",
       "  ('kuwait', 'LOC'),\n",
       "  ('landinfo', 'LOC'),\n",
       "  ('taima', 'LOC')},\n",
       " {('[b', 'LOC'),\n",
       "  ('danmark', 'LOC'),\n",
       "  ('gensamtalen', 'LOC'),\n",
       "  ('kuwait', 'LOC'),\n",
       "  ('landinfo', 'LOC')},\n",
       " {('danmark', 'LOC'),\n",
       "  ('irak', 'LOC'),\n",
       "  ('kuwait', 'LOC'),\n",
       "  ('kuwaits', 'LOC'),\n",
       "  ('landinfos', 'LOC'),\n",
       "  ('taima', 'LOC')},\n",
       " {('hjem/2018/9', 'LOC'),\n",
       "  ('irak', 'LOC'),\n",
       "  ('kuwait', 'LOC'),\n",
       "  ('taima', 'LOC')},\n",
       " {('belgien', 'LOC'),\n",
       "  ('danmark', 'LOC'),\n",
       "  ('kuwait', 'LOC'),\n",
       "  ('landinfos', 'LOC'),\n",
       "  ('tyrkiet', 'LOC')},\n",
       " {('belgien', 'LOC'),\n",
       "  ('jahrah', 'LOC'),\n",
       "  ('kuwait', 'LOC'),\n",
       "  ('landinfos', 'LOC')},\n",
       " {('kuwait', 'LOC'), ('suleibiyah', 'LOC')},\n",
       " {('irak', 'LOC'), ('kuwait', 'LOC'), ('somalia', 'LOC')},\n",
       " {('[a]', 'LOC'),\n",
       "  ('belgien', 'LOC'),\n",
       "  ('danmark', 'LOC'),\n",
       "  ('kirke', 'LOC'),\n",
       "  ('kuwait', 'LOC'),\n",
       "  ('london', 'LOC'),\n",
       "  ('tyrkiet', 'LOC')},\n",
       " {('danmark', 'LOC'), ('irak', 'LOC'), ('kuwait', 'LOC')},\n",
       " {('danmark', 'LOC'), ('irak', 'LOC'), ('kuwait', 'LOC'), ('taima', 'LOC')},\n",
       " {('irak', 'LOC'), ('kuwait', 'LOC')},\n",
       " {('baath-partiet', 'LOC'),\n",
       "  ('danmark', 'LOC'),\n",
       "  ('diala', 'LOC'),\n",
       "  ('diyala', 'LOC'),\n",
       "  ('irak', 'LOC'),\n",
       "  ('sverige', 'LOC')},\n",
       " {('danmark', 'LOC'),\n",
       "  ('gensamtalen', 'LOC'),\n",
       "  ('irak', 'LOC'),\n",
       "  ('kuwait', 'LOC')},\n",
       " {('danmark', 'LOC'),\n",
       "  ('gensamtalen', 'LOC'),\n",
       "  ('irak', 'LOC'),\n",
       "  ('kuwait', 'LOC')},\n",
       " {('kuwait', 'LOC'),\n",
       "  ('kuwaits lufthavn', 'LOC'),\n",
       "  ('landinfo', 'LOC'),\n",
       "  ('tyrkiet', 'LOC'),\n",
       "  ('ungarn', 'LOC')},\n",
       " {('grækenland', 'LOC'),\n",
       "  ('irak', 'LOC'),\n",
       "  ('kuwait', 'LOC'),\n",
       "  ('sandholm', 'LOC'),\n",
       "  ('tyrkiet', 'LOC')},\n",
       " {('danmark', 'LOC'),\n",
       "  ('grækenland', 'LOC'),\n",
       "  ('iraker', 'LOC'),\n",
       "  ('kuwait', 'LOC')},\n",
       " {('irak', 'LOC'), ('kuwait', 'LOC')},\n",
       " {('irak', 'LOC'), ('kuwait', 'LOC'), ('østrig', 'LOC')},\n",
       " {('eritrea', 'LOC'), ('etiopien', 'LOC'), ('tserona', 'LOC')},\n",
       " {('benghazi', 'LOC'),\n",
       "  ('egypten', 'LOC'),\n",
       "  ('libyen', 'LOC'),\n",
       "  ('tripoli', 'LOC'),\n",
       "  ('østrig', 'LOC')},\n",
       " {('irak', 'LOC'), ('kuwait', 'LOC'), ('østrig', 'LOC')},\n",
       " {('grækenland', 'LOC'),\n",
       "  ('irak', 'LOC'),\n",
       "  ('kuwait', 'LOC'),\n",
       "  ('syrien', 'LOC')},\n",
       " {('irak', 'LOC'), ('kuwait', 'LOC')},\n",
       " {('irak', 'LOC'), ('kuwait', 'LOC'), ('østrig', 'LOC')},\n",
       " {('danmark', 'LOC'),\n",
       "  ('grækenland', 'LOC'),\n",
       "  ('irak', 'LOC'),\n",
       "  ('kuwait', 'LOC'),\n",
       "  ('najaf', 'LOC')},\n",
       " {('danmark', 'LOC'),\n",
       "  ('grækenland', 'LOC'),\n",
       "  ('irak', 'LOC'),\n",
       "  ('kuwait', 'LOC'),\n",
       "  ('najaf', 'LOC'),\n",
       "  ('tyskland', 'LOC'),\n",
       "  ('østrig', 'LOC')},\n",
       " {('danmark', 'LOC'),\n",
       "  ('grækenland', 'LOC'),\n",
       "  ('irak', 'LOC'),\n",
       "  ('kuwait', 'LOC'),\n",
       "  ('najaf', 'LOC'),\n",
       "  ('tyskland', 'LOC'),\n",
       "  ('østrig', 'LOC')},\n",
       " {('algeriet', 'LOC'),\n",
       "  ('danmark', 'LOC'),\n",
       "  ('egypten', 'LOC'),\n",
       "  ('frankrig', 'LOC'),\n",
       "  ('gaza', 'LOC'),\n",
       "  ('italien', 'LOC'),\n",
       "  ('marokko', 'LOC'),\n",
       "  ('tunesien', 'LOC')},\n",
       " {('eritrea', 'LOC'),\n",
       "  ('etiopien', 'LOC'),\n",
       "  ('israel', 'LOC'),\n",
       "  ('modersmålsniveau', 'LOC'),\n",
       "  ('sudan', 'LOC')},\n",
       " {('[a]', 'LOC'),\n",
       "  ('bulgarien', 'LOC'),\n",
       "  ('danmark', 'LOC'),\n",
       "  ('freetown', 'LOC'),\n",
       "  ('ghana', 'LOC'),\n",
       "  ('italien', 'LOC'),\n",
       "  ('sierra leone', 'LOC'),\n",
       "  ('spanien', 'LOC')},\n",
       " {('eritrea', 'LOC')},\n",
       " {('eritrea', 'LOC'),\n",
       "  ('etiopien', 'LOC'),\n",
       "  ('europa', 'LOC'),\n",
       "  ('libyen', 'LOC'),\n",
       "  ('middelhavet', 'LOC'),\n",
       "  ('sudan', 'LOC')},\n",
       " {('danmark', 'LOC'),\n",
       "  ('ghana', 'LOC'),\n",
       "  ('italien', 'LOC'),\n",
       "  ('liberia', 'LOC'),\n",
       "  ('libyen', 'LOC')},\n",
       " {('israel', 'LOC'), ('marokko', 'LOC')},\n",
       " {('eritrea', 'LOC'), ('hamdait', 'LOC'), ('sudan', 'LOC')},\n",
       " {('eritrea', 'LOC'), ('etiopien', 'LOC'), ('sudan', 'LOC')},\n",
       " {('eritrea', 'LOC'), ('sudan', 'LOC')},\n",
       " {('addias abeba', 'LOC'), ('etiopien', 'LOC')},\n",
       " {('addis abeba', 'LOC'),\n",
       "  ('danmark', 'LOC'),\n",
       "  ('etiopien', 'LOC'),\n",
       "  ('somalia', 'LOC'),\n",
       "  ('tyrkiet', 'LOC')},\n",
       " {('addis ababa', 'LOC'),\n",
       "  ('etiopien', 'LOC'),\n",
       "  ('somalia', 'LOC'),\n",
       "  ('somalia/etiopien', 'LOC')},\n",
       " {('etiopien', 'LOC'), ('norge', 'LOC')},\n",
       " {('burma', 'LOC'), ('myanmar', 'LOC'), ('rumænien', 'LOC')},\n",
       " {('algeriet', 'LOC')}]"
      ]
     },
     "execution_count": 34,
     "metadata": {},
     "output_type": "execute_result"
    }
   ],
   "source": [
    "# Create a DOC object from every row in pandas given column:\n",
    "docs = list(hp.nlp.pipe(df['text']))\n",
    "\n",
    "loci = []\n",
    "for d in docs:\n",
    "    # see set of locations:\n",
    "    s=set(hp.get_locations(d))\n",
    "    loci.append(s)\n",
    "\n",
    "loci"
   ]
  },
  {
   "cell_type": "markdown",
   "metadata": {},
   "source": [
    "# Distribution of Bidoon cases:"
   ]
  },
  {
   "cell_type": "code",
   "execution_count": 35,
   "metadata": {},
   "outputs": [],
   "source": [
    "bidoon_pat = 'bidoon.*?'\n",
    "\n",
    "df_biddons = df['tokens_joined'].str.contains(bidoon_pat)\n",
    "df['bidoons'] = np.where(df_biddons, 'bidoon', 'other')\n"
   ]
  },
  {
   "cell_type": "code",
   "execution_count": 36,
   "metadata": {},
   "outputs": [
    {
     "data": {
      "image/png": "[encoded data removed]",
      "text/plain": [
       "<Figure size 432x288 with 1 Axes>"
      ]
     },
     "metadata": {},
     "output_type": "display_data"
    }
   ],
   "source": [
    "ax = df['bidoons'].value_counts(normalize=True).mul(100).round(1).plot(\n",
    "    kind='bar', title='Distribution of Bidoon cases',)\n",
    "# ax.set_xlabel('bidoon')\n",
    "ax.set_ylabel('no. of cases')\n",
    "\n",
    "for container in ax.containers:\n",
    "    ax.bar_label(container, fmt='%.0f%%')"
   ]
  },
  {
   "cell_type": "markdown",
   "metadata": {},
   "source": [
    "Yearly distribution of Bidoon cases:"
   ]
  },
  {
   "cell_type": "code",
   "execution_count": 37,
   "metadata": {},
   "outputs": [
    {
     "data": {
      "image/png": "[encoded data removed]",
      "text/plain": [
       "<Figure size 432x288 with 1 Axes>"
      ]
     },
     "metadata": {},
     "output_type": "display_data"
    }
   ],
   "source": [
    "ax = df.groupby('year')['bidoons'].value_counts().unstack().plot(\n",
    "    kind='bar', title='Yearly Distribution of Bidoon cases')\n",
    "# ax.set_xlabel('bidoon')\n",
    "ax.set_ylabel('no. of cases')\n",
    "\n",
    "for container in ax.containers:\n",
    "    ax.bar_label(container)"
   ]
  },
  {
   "cell_type": "markdown",
   "metadata": {},
   "source": [
    "Decision outcome rate for Bidoon cases:"
   ]
  },
  {
   "cell_type": "code",
   "execution_count": 38,
   "metadata": {},
   "outputs": [
    {
     "data": {
      "image/png": "[encoded data removed]",
      "text/plain": [
       "<Figure size 432x288 with 1 Axes>"
      ]
     },
     "metadata": {},
     "output_type": "display_data"
    }
   ],
   "source": [
    "ax = df.groupby('bidoons')['decision'].value_counts(normalize=True).mul(100).round(1).unstack().plot(\n",
    "    kind='bar', title='Decision Outcomes For Appeals of Bidoons')\n",
    "ax.set_xlabel(' ')\n",
    "\n",
    "for container in ax.containers:\n",
    "    ax.bar_label(container, fmt='%.0f%%')"
   ]
  },
  {
   "cell_type": "markdown",
   "metadata": {},
   "source": [
    "## Search for specific keywords (terms):\n"
   ]
  },
  {
   "cell_type": "markdown",
   "metadata": {},
   "source": [
    "Look for `last name (efternavn)`. See how many times are they referred to in the texts.\n"
   ]
  },
  {
   "cell_type": "code",
   "execution_count": 39,
   "metadata": {},
   "outputs": [
    {
     "data": {
      "text/plain": [
       "efternavn    12\n",
       "Name: last_name, dtype: int64"
      ]
     },
     "execution_count": 39,
     "metadata": {},
     "output_type": "execute_result"
    }
   ],
   "source": [
    "df['last_name'] = df['tokens_joined'].str.extract(\n",
    "    r'(efternav.?)', hp.re.IGNORECASE)\n",
    "df['last_name'].value_counts()\n"
   ]
  },
  {
   "cell_type": "code",
   "execution_count": 40,
   "metadata": {},
   "outputs": [],
   "source": [
    "# Look up `§7 stk. 2.` occurencies.\n",
    "\n",
    "# df['law_articles'] = df['text'].str.extract(r'(§ 7.*?stk. 2.*?)')\n",
    "# df['law_articles'].value_counts()"
   ]
  },
  {
   "cell_type": "markdown",
   "metadata": {},
   "source": [
    "## Keyword in context (KWIC):\n",
    "\n",
    "KWIC analysis produces a list of text fragments of equal length showing the left and right context of a keyword.\n"
   ]
  },
  {
   "cell_type": "markdown",
   "metadata": {},
   "source": [
    "Check the context around `efternavn`. See all 18 context instances of term.\n"
   ]
  },
  {
   "cell_type": "code",
   "execution_count": 41,
   "metadata": {},
   "outputs": [
    {
     "name": "stdout",
     "output_type": "stream",
     "text": [
      "18 random samples out of 18 contexts for 'efternavn':\n",
      "e myndigheder. Den kvindelige ansøger er ligeledes registreret som værende fra Irak og med et andet  efternavn  end meddelt de danske myndigheder. Den kvindelige ansøger har således indledningsvis til de danske \n",
      "tivet, jf. nærmere nedenfor – anses for påfaldende, at ansøgeren ved sin ankomst til Danmark brugte  efternavn et [AB], som også er hendes nuværende irakiske ægtefælles efternavn. Sprogtesten kan ikke føre til e\n",
      "s egne oplysninger eller med oplysninger i familiens dokumenter, således at det alene er det sidste  efternavn , som adskiller sig. Disse personer har oplyst, at den mandlige ansøgers mor har boet i Irak. Hertil\n",
      "ejse i Danmark over for de danske myndigheder oplyste, at de var irakiske statsborgere, og at deres  efternavn  var [et andet end oplyst af ansøgerne senere hen]. Ansøgerne er ikke fremkommet med en rimelig fork\n",
      "er, at den kvindelige ansøger [F] ved indrejse i Grækenland er registreret som iraker med [et andet  efternavn ], og den kvindelige ansøger [G] ved indrejse i Ungarn er registreret som syrer med [et andet navn].\n",
      "fornyet afhøring i Danmark er efternavnet angivet som [D], hvilket svarer til den mandlige ansøgers  efternavn . I henhold til de græske myndigheders registreringer har hun imidlertid oplyst efternavnet [E]. Eft\n",
      "igheder. Den kvindelige ansøger har således indledningsvis til de danske myndigheder oplyst at have  efternavn et [C]. Ved fornyet afhøring i Danmark er efternavnet angivet som [D], hvilket svarer til den mandli\n",
      " venner på Facebook, der angiver at være fra Irak, herunder personen, [B], der har næsten det samme  efternavn , som ansøgeren har angivet i for-bindelse med asylansøgningen i Danmark. Det fremgår videre af Face\n",
      "er, at den kvindelige ansøger [F] ved indrejse i Grækenland er registreret som iraker med [et andet  efternavn ], og den kvindelige ansøger [G] ved indrejse i Ungarn er registreret som syrer med [et andet navn].\n",
      "eder oplyste er den mandlige ansøger således registreret som værende fra Irak og med såvel et andet  efternavn  som en anden fødselsdato end meddelt de danske myndigheder. Den kvindelige ansøger er ligeledes reg\n",
      "e ansøgers efternavn. I henhold til de græske myndigheders registreringer har hun imidlertid oplyst  efternavn et [E]. Efter en samlet vurdering kan Flygtningenævnet herefter ikke lægge til grund, at ansøgerne e\n",
      "d sin ankomst til Danmark brugte efternavnet [AB], som også er hendes nuværende irakiske ægtefælles  efternavn . Sprogtesten kan ikke føre til en anden vurdering af identitetsspørgsmålet. Ved vurderingen af ansø\n",
      ", at han er irakisk statsborger fra en bestemt navngiven by i Irak, ligesom han har oplyst et andet  efternavn  og en anden fødselsdato end opgivet til de danske myndigheder. Ansøgerens bror og dennes familie ha\n",
      "s [ansøgerens tredje barn] har forklaret, at hun udelukkende kendte faderens fornavn, […], men ikke  efternavn et. Når disse og de øvrige divergerende forklaringer sammenholdes med ansøgernes meget begrænsede ev\n",
      "er, at den kvindelige ansøger [F] ved indrejse i Grækenland er registreret som iraker med [et andet  efternavn ], og den kvindelige ansøger [G] ved indrejse i Ungarn er registreret som syrer med [et andet navn].\n",
      "mark, som han ønskede at bo i nærheden af, og at der er navnesammenfald mellem denne familie og det  efternavn , ansøgeren er registreret med i Grækenland. Der er endvidere sammenfald med familiens nationalitet \n",
      "ingsvis til de danske myndigheder oplyst at have efternavnet [C]. Ved fornyet afhøring i Danmark er  efternavn et angivet som [D], hvilket svarer til den mandlige ansøgers efternavn. I henhold til de græske mynd\n",
      "er, at den kvindelige ansøger [F] ved indrejse i Grækenland er registreret som iraker med [et andet  efternavn ], og den kvindelige ansøger [G] ved indrejse i Ungarn er registreret som syrer med [et andet navn].\n"
     ]
    }
   ],
   "source": [
    "hp.kwic(df['text'], 'efternavn', print_samples=18) "
   ]
  },
  {
   "cell_type": "markdown",
   "metadata": {},
   "source": [
    "Check context around `familie`. See ten random samples."
   ]
  },
  {
   "cell_type": "code",
   "execution_count": 42,
   "metadata": {},
   "outputs": [
    {
     "name": "stdout",
     "output_type": "stream",
     "text": [
      "10 random samples out of 601 contexts for 'familie':\n",
      "e anholdt i forbindelse med demonstrationen, og der er ikke holdepunkter for at antage, at nogen af  familie medlemmerne har haft en central rolle i planlægningen eller udførelsen af hverken demonstrationen i \n",
      " der ransagede deres bopæl, ikke bar våben, senere under samme samtale, da hun blev foreholdt andre  familie medlemmers forklaringer herom, at hun ikke kiggede på folkenes hænder. Under nævnsmødet har den kvin\n",
      "else af andre grunde kan komme på tale. Efter klagerens kortvarige ophold i Danmark, hans manglende  familie mæssige tilknytning til Danmark, oplysningerne om hans meget begrænsede tilknytning til arbejdsmarke\n",
      "nsmødet har forklaret, at hans familie ikke havde telefon, og at det var [A], der underrettede hans  familie  om ansøgerens skjulested. Den mandlige ansøgers forklaring om, at han ikke lyttede efter tolkens ov\n",
      "llem Kuwait og Irak, og ansøgeren flyttede ind hos sin fars gode venindes familie. Ansøgeren kendte  familie ns søn, [S], fra svømning og fra deres fritidsklub. Den første nat hos familien havde ansøgeren og [\n",
      "sk rohingya. Ansøgeren har til støtte for sit asylmotiv oplyst, at han flyttede fra Myanmar med sin  familie , da han var omkring fire eller fem år gammel. Familien bosatte sig i Pakistan i halvandet år, hvore\n",
      "len [i starten af] 2019 oplyst, at hun efter denne episode besluttede sig for fortsat at bo hos sin  familie , og at der ikke blev talt om sagen efterfølgende. Ansøgeren frygter ikke nogen i sin familie, hverk\n",
      "øgerens mor har forklaret indbyrdes divergerende om, hvem der angiveligt tog sig af ansøgeren efter  familie ns udrejse af Kuwait. Ansøgerens mor har til de norske udlændingemyndigheder oplyst, at ansøgeren bo\n",
      "n er syrisk statsborger og forklaret, at han ikke har dobbelt statsborgerskab. Kun en person i hans  familie , nemlig hans søster, har et jordansk pas, da hun er gift med en palæstinenser fra Jordan. Han har h\n",
      "veksling af oplysninger mellem dem selv og en lang række andre asylansøgere, som de angiveligt er i  familie  med. For så vidt angår ansøgernes forklaring om de episoder, der førte til deres udrejse, kan Flygt\n"
     ]
    }
   ],
   "source": [
    "hp.kwic(df['text'], 'familie', print_samples=10)"
   ]
  },
  {
   "cell_type": "markdown",
   "metadata": {},
   "source": [
    "Bellow we apply KWIC for `stk` keyword found from the frequency analysis and print 10 random context appearances.\n",
    "\n",
    "The call is made to the original untokenized & unprocessed dataset.\n"
   ]
  },
  {
   "cell_type": "code",
   "execution_count": 43,
   "metadata": {},
   "outputs": [
    {
     "name": "stdout",
     "output_type": "stream",
     "text": [
      "10 random samples out of 363 contexts for 'stk':\n",
      " bestemt dato i] 1988 blev klageren meddelt opholdstilladelse efter udlændingelovens daværende § 7,  stk . 1, nr. 1. Opholdstil-ladelsen blev [på en nærmere bestemt dato i ] 1991 gjort tidsubegrænset.  Ved\n",
      "orbud for bestandig efter udlændingelovens § 49, stk. 1, jf. § 22, nr. 1, nr. 2 og nr. 4, jf. § 32,  stk . 2, nr. 5, jf. stk. 1. [På et nærmere bestemt tidspunkt i] 2014 stadfæstede [landsretten] byrettens\n",
      "ledes heller ikke, at betingelserne for opholdstilladelse efter udlændingelovens § 7, stk. 1, eller  stk . 2, er opfyldt, stadfæster Flygtningenævnet Udlændingestyrelsens afgørelse.” Hjem/2018/59/LMD   \n",
      "jf. udlændingelovens § 7, stk. 1, eller har behov for beskyttelsesstatus, jf. udlændingelovens § 7,  stk . 2. Flygtningenævnet stadfæster derfor Udlændingestyrelsens afgørelse.” hjem/2018/27/MKT\n",
      " at inddrage klagerens opholdstilladelse i medfør af udlændingelovens § 19, stk. 2, nr. 1, og § 19,  stk . 7, 1. pkt., jf. § 26, stk. 1, idet styrelsen finder, at opholdstilladelsen er opnået ved svig. Kla\n",
      "ylmotiv, og således heller ikke, at betingelserne for opholdstilladelse efter udlændingelovens § 7,  stk . 1, eller stk. 2 er opfyldt, stadfæster Flygtningenævnet Udlændingestyrelsens afgørelse.” Hjem/2018\n",
      "ar sandsynliggjort, at betingelserne for opholdstilladelse efter udlændingelovens § 7, stk. 1 eller  stk . 2, er opfyldt.  Flygtningenævnet stadfæster derfor Udlændingestyrelsens afgørelse.” Hjem/2018/14/ \n",
      "lse var opfyldt, idet klageren havde opnået opholdstilladelsen ved svig, jf. udlændingelovens § 11,  stk . 2, jf. § 19, stk. 2, nr. 1 og § 19, stk. 7, 1. pkt., jf. § 26, stk. 1. Klageren har som asylmotiv \n",
      "intensitet, at disse forhold kan anses for omfattet af anvendelsesområdet for udlændingelovens § 7,  stk . 1 eller stk. 2. Tilsvarende gælder i forhold til den omstændighed, at ansøgerne er udrejst illegal\n",
      "n identitet eller sit asylmotiv til grund. Nævnet bemærker, at det følger af udlændingelovens § 40,  stk . 1, at det påhviler en asylansøger at meddele de oplysninger, som er nødvendige til en bedømmelse a\n"
     ]
    }
   ],
   "source": [
    "hp.kwic(df['text'], 'stk', print_samples=10)"
   ]
  },
  {
   "cell_type": "markdown",
   "metadata": {},
   "source": [
    "KWIC for `opholdstilladelse`.\n"
   ]
  },
  {
   "cell_type": "code",
   "execution_count": 44,
   "metadata": {},
   "outputs": [
    {
     "name": "stdout",
     "output_type": "stream",
     "text": [
      "10 random samples out of 228 contexts for 'opholdstilladelse':\n",
      "om den pågældende er omfattet af udlændingelovens § 7. Det følger heraf, at en udlænding, der søger  opholdstilladelse  efter udlændingelovens § 7, må sandsynliggøre den identitet og det asylgrundlag, udlændingen påberå\n",
      " identitet eller sit asylmotiv, og ansøgeren har således ikke sandsynliggjort, at betingelserne for  opholdstilladelse  efter udlændingelovens § 7, stk. 1, eller stk. 2, er opfyldt. Flygtningenævnet stadfæster derfor Ud\n",
      "efter ikke, at ansøgeren har sandsynliggjort sin identitet eller asylmotiv, og at betingelserne for  opholdstilladelse  efter udlændingelovens § 7, stk. 1 eller stk. 2, er opfyldt. Flygtningenævnet stadfæster derfor Udl\n",
      " bidoons i Kuwait er således ikke af en sådan karakter, at dette i sig selv ville kunne føre til en  opholdstilladelse  i Danmark, og heller ikke oplysningerne om ansøgerens konkrete livsforhold indebærer efter oplysnin\n",
      " forhold, at ansøgeren har fremlagt dokumenter, der viser, at han er søn af sin far, der har opnået  opholdstilladelse  i England, kan heller ikke føre til en ændret vurdering. På denne baggrund finder Flygtningenævnet,\n",
      "egeringen, idet han tidligere har været tilbageholdt, fordi han ikke havde et gyldigt id-kort eller  opholdstilladelse . Ansøgeren har til støtte for sit asylmotiv oplyst, at han er født i Eritrea, hvor han voksede op h\n",
      " bidoons i Kuwait er således ikke af en sådan karakter, at dette i sig selv ville kunne føre til en  opholdstilladelse  i Danmark, og heller ikke oplysningerne om ansøgernes konkrete forhold indebærer efter oplysningern\n",
      "lovens § 7. De generelle forhold i Irak er således ikke af en sådan karakter, at dette kan føre til  opholdstilladelse  efter den nævnte bestemmelse. Flygtningenævnet stadfæster derfor Udlændingestyrelsens afgørelse for\n",
      "flere år ikke at tage kontakt til sin familie. Flygtningenævnet finder derfor, at betingelserne for  opholdstilladelse  efter udlændingelovens § 7, stk. 1 eller stk. 2, ikke er opfyldt. Flygtningenævnet stadfæster derfo\n",
      "den pågældende er omfattet af udlændingelovens § 7. Det følger heraf, at en udlænding, der søger om  opholdstilladelse  efter udlændingelovens § 7, må sandsynliggøre den identitet og det asylgrundlag, som udlændingen på\n"
     ]
    }
   ],
   "source": [
    "hp.kwic(df['text'], 'opholdstilladelse', print_samples=10)"
   ]
  },
  {
   "cell_type": "markdown",
   "metadata": {},
   "source": [
    "KWIC for `§ 7` keyword.\n"
   ]
  },
  {
   "cell_type": "code",
   "execution_count": 45,
   "metadata": {},
   "outputs": [
    {
     "name": "stdout",
     "output_type": "stream",
     "text": [
      "10 random samples out of 368 contexts for '§ 7':\n",
      "n tilbagevenden til hjemlandet vil risikere forfølgelse eller overgreb omfattet af udlændingelovens  § 7 , stk. 1 eller 2. Flygtningenævnet stadfæster derfor Udlændingestyrelsens afgørelse.” Hjem2019/7/SML\n",
      "o for forfølgelse omfattet af udlændingelovens § 7, stk. 1, eller i risiko for overgreb omfattet af  § 7 , stk. 2. Flygtningenævnet stadfæster derfor Udlændingestyrelsens afgørelse.” Afgh/2019/24/MGO\n",
      "kan gives. Det følger heraf, at en udlænding, der søger om opholdstilladelse efter udlændingelovens  § 7 , må sandsynliggøre sin identitet og det asylgrundlag, han eller hun påberåber sig. Flygtningenævnet\n",
      "har sandsynliggjort sit asylmotiv. Betingelserne for opholdstilladelse i medfør af udlændingelovens  § 7 , stk. 1, eller stk. 2, er derfor ikke opfyldt. Flygtningenævnet stadfæster derfor Udlændingestyrels\n",
      "ke de generelle forhold for bidooner i Kuwait kan begrunde opholdstilladelse efter udlændingelovens  § 7 .  Det fremgår af baggrundsoplysninger om situationen for bidooner i Kuwait, at etniske bidoonere ud\n",
      "oplysninger, der er nødvendige til bedømmelse af, om den pågældende er omfattet af udlændingelovens  § 7 . Det følger heraf, at en udlænding, der søger om opholdstilladelse efter udlændingelovens § 7, må s\n",
      " forhold for bidoonere i Kuwait ville have kunnet begrunde opholdstilladelse efter udlændingelovens  § 7 . Det fremgår af baggrundsoplysninger om situationen for bidoonere i Kuwait, at etniske bidoonere ud\n",
      "e sig i en konkret og individuel risiko for forfølgelse eller overgreb omfattet af udlændingelovens  § 7 . Ansøgerne har således oplyst, at de ikke har haft konflikter ud over den af nævnet forkastede fork\n",
      "vil være i konkret og individuel risiko for forfølgelse eller overgreb omfattet af udlændingelovens  § 7 . Det af ansøgeren oplyste vedrørende hendes helbred og behov for lægebehandling kan ikke føre til e\n",
      "der er nødvendige til bedømmelse blandt andet af, om den pågældende er omfattet af udlændingelovens  § 7 . Det følger heraf, at en udlænding, der søger opholdstilladelse efter udlændingelovens § 7, må sand\n"
     ]
    }
   ],
   "source": [
    "hp.kwic(df['text'], '§ 7', print_samples=10)"
   ]
  },
  {
   "cell_type": "markdown",
   "metadata": {},
   "source": [
    "## Natural Language Processing:\n"
   ]
  },
  {
   "cell_type": "markdown",
   "metadata": {},
   "source": [
    "## Frequency analysis:\n",
    "\n",
    "Here the most frequent tokens in the **whole** corpus are counted.\n",
    "\n",
    "The table below presents top ten words.\n"
   ]
  },
  {
   "cell_type": "code",
   "execution_count": 46,
   "metadata": {},
   "outputs": [
    {
     "data": {
      "text/html": [
       "<div>\n",
       "<style scoped>\n",
       "    .dataframe tbody tr th:only-of-type {\n",
       "        vertical-align: middle;\n",
       "    }\n",
       "\n",
       "    .dataframe tbody tr th {\n",
       "        vertical-align: top;\n",
       "    }\n",
       "\n",
       "    .dataframe thead th {\n",
       "        text-align: right;\n",
       "    }\n",
       "</style>\n",
       "<table border=\"1\" class=\"dataframe\">\n",
       "  <thead>\n",
       "    <tr style=\"text-align: right;\">\n",
       "      <th></th>\n",
       "      <th>freq</th>\n",
       "    </tr>\n",
       "    <tr>\n",
       "      <th>token</th>\n",
       "      <th></th>\n",
       "    </tr>\n",
       "  </thead>\n",
       "  <tbody>\n",
       "    <tr>\n",
       "      <th>ansøger</th>\n",
       "      <td>3630</td>\n",
       "    </tr>\n",
       "    <tr>\n",
       "      <th>Kuwait</th>\n",
       "      <td>1370</td>\n",
       "    </tr>\n",
       "    <tr>\n",
       "      <th>forklare</th>\n",
       "      <td>1237</td>\n",
       "    </tr>\n",
       "    <tr>\n",
       "      <th>oplyse</th>\n",
       "      <td>815</td>\n",
       "    </tr>\n",
       "    <tr>\n",
       "      <th>myndighed</th>\n",
       "      <td>796</td>\n",
       "    </tr>\n",
       "    <tr>\n",
       "      <th>mandlig</th>\n",
       "      <td>794</td>\n",
       "    </tr>\n",
       "    <tr>\n",
       "      <th>asylmotiv</th>\n",
       "      <td>749</td>\n",
       "    </tr>\n",
       "    <tr>\n",
       "      <th>forklaring</th>\n",
       "      <td>675</td>\n",
       "    </tr>\n",
       "    <tr>\n",
       "      <th>lægge</th>\n",
       "      <td>649</td>\n",
       "    </tr>\n",
       "    <tr>\n",
       "      <th>demonstration</th>\n",
       "      <td>629</td>\n",
       "    </tr>\n",
       "  </tbody>\n",
       "</table>\n",
       "</div>"
      ],
      "text/plain": [
       "               freq\n",
       "token              \n",
       "ansøger        3630\n",
       "Kuwait         1370\n",
       "forklare       1237\n",
       "oplyse          815\n",
       "myndighed       796\n",
       "mandlig         794\n",
       "asylmotiv       749\n",
       "forklaring      675\n",
       "lægge           649\n",
       "demonstration   629"
      ]
     },
     "execution_count": 46,
     "metadata": {},
     "output_type": "execute_result"
    }
   ],
   "source": [
    "# See ten most frequent words in the whole corpus:\n",
    "freq_df = hp.count_words(df)\n",
    "freq_df.head(10)\n",
    "\n",
    "# See all words with their frequencies:\n",
    "# pd.value_counts(np.hstack(df['tokens']))\n"
   ]
  },
  {
   "cell_type": "code",
   "execution_count": 47,
   "metadata": {},
   "outputs": [
    {
     "data": {
      "image/png": "[encoded data removed]",
      "text/plain": [
       "<Figure size 432x288 with 1 Axes>"
      ]
     },
     "metadata": {},
     "output_type": "display_data"
    }
   ],
   "source": [
    "# Plot the results:\n",
    "ax = freq_df.head(15).plot(kind='barh', width=0.95)\n",
    "ax.invert_yaxis()\n",
    "ax.set(xlabel='Frequency', ylabel='Token', title='Top Words')\n",
    "\n",
    "for container in ax.containers:\n",
    "    ax.bar_label(container)\n"
   ]
  },
  {
   "cell_type": "markdown",
   "metadata": {},
   "source": [
    "## N-gram analysis:\n"
   ]
  },
  {
   "cell_type": "code",
   "execution_count": 48,
   "metadata": {},
   "outputs": [],
   "source": [
    "values = defaultdict(int)\n",
    "\n",
    "# Get the count of every bigram in the data set from last processed column:\n",
    "for text in df['tokens_joined']:\n",
    "    for word in hp.generate_N_grams(text, 2):\n",
    "        values[word] += 1\n"
   ]
  },
  {
   "cell_type": "code",
   "execution_count": 49,
   "metadata": {},
   "outputs": [],
   "source": [
    "# Focus on more frequently occuring words.\n",
    "# Sort in descending order with respect to the column of interest:\n",
    "df_processed = pd.DataFrame(\n",
    "    sorted(values.items(), key=lambda x: x[1], reverse=True))\n",
    "\n",
    "# Ten first values of the first column:\n",
    "c1 = df_processed[0][:10]\n",
    "# Ten first values of the second column:\n",
    "c2 = df_processed[1][:10]\n"
   ]
  },
  {
   "cell_type": "code",
   "execution_count": 50,
   "metadata": {},
   "outputs": [
    {
     "data": {
      "image/png": "[encoded data removed]",
      "text/plain": [
       "<Figure size 1152x288 with 1 Axes>"
      ]
     },
     "metadata": {},
     "output_type": "display_data"
    }
   ],
   "source": [
    "plt.figure(1, figsize=(16, 4))\n",
    "plt.bar(c1, c2, color='purple',\n",
    "        width=0.4)\n",
    "plt.xlabel(\"Combinations of Words in dataframe\")\n",
    "plt.xticks(rotation=90)\n",
    "plt.ylabel(\"Count\")\n",
    "plt.title(\"Top 10 bi-grams in dataframe-BIGRAM ANALYSIS\")\n",
    "# plt.savefig(\"dataset-bigram.png\")\n",
    "plt.show()\n"
   ]
  },
  {
   "cell_type": "markdown",
   "metadata": {},
   "source": [
    "## TF-IDF\n"
   ]
  },
  {
   "cell_type": "markdown",
   "metadata": {},
   "source": [
    "Below is the shape of the resulting vector of the vocabulary created from the given context.\n"
   ]
  },
  {
   "cell_type": "code",
   "execution_count": 51,
   "metadata": {},
   "outputs": [
    {
     "data": {
      "text/plain": [
       "(189, 4312)"
      ]
     },
     "execution_count": 51,
     "metadata": {},
     "output_type": "execute_result"
    }
   ],
   "source": [
    "# Get the column of interest:\n",
    "docs = df['tokens_joined'].tolist()\n",
    "\n",
    "# Create a vocabulary of words:\n",
    "\n",
    "cv = CountVectorizer()\n",
    "word_count_vector = cv.fit_transform(docs)\n",
    "\n",
    "# Get shape of resulting vector:\n",
    "word_count_vector.shape\n"
   ]
  },
  {
   "cell_type": "markdown",
   "metadata": {},
   "source": [
    "Ten random words from the vocabulary:\n"
   ]
  },
  {
   "cell_type": "code",
   "execution_count": 52,
   "metadata": {},
   "outputs": [
    {
     "data": {
      "text/plain": [
       "['stadfæste',\n",
       " '2021',\n",
       " 'udlændingestyrels',\n",
       " 'afgørelse',\n",
       " 'vedrørende',\n",
       " 'mandlig',\n",
       " 'statsborger',\n",
       " 'ukendt',\n",
       " 'hjemland',\n",
       " 'indrejst']"
      ]
     },
     "execution_count": 52,
     "metadata": {},
     "output_type": "execute_result"
    }
   ],
   "source": [
    "# Look at 10 words from our vocabulary:\n",
    "list(cv.vocabulary_.keys())[:10]\n"
   ]
  },
  {
   "cell_type": "markdown",
   "metadata": {},
   "source": [
    "Peek at the IDF values array:\n"
   ]
  },
  {
   "cell_type": "code",
   "execution_count": 53,
   "metadata": {},
   "outputs": [
    {
     "data": {
      "text/plain": [
       "array([5.55387689, 5.55387689, 3.11152986, ..., 4.63758616, 5.55387689,\n",
       "       3.35665231])"
      ]
     },
     "execution_count": 53,
     "metadata": {},
     "output_type": "execute_result"
    }
   ],
   "source": [
    "tfidf_transformer = TfidfTransformer(smooth_idf=True, use_idf=True)\n",
    "tfidf_transformer.fit(word_count_vector)\n",
    "\n",
    "\n",
    "# Peek at the IDF values:\n",
    "tfidf_transformer.idf_\n"
   ]
  },
  {
   "cell_type": "code",
   "execution_count": 54,
   "metadata": {},
   "outputs": [
    {
     "data": {
      "text/html": [
       "<div>\n",
       "<style scoped>\n",
       "    .dataframe tbody tr th:only-of-type {\n",
       "        vertical-align: middle;\n",
       "    }\n",
       "\n",
       "    .dataframe tbody tr th {\n",
       "        vertical-align: top;\n",
       "    }\n",
       "\n",
       "    .dataframe thead th {\n",
       "        text-align: right;\n",
       "    }\n",
       "</style>\n",
       "<table border=\"1\" class=\"dataframe\">\n",
       "  <thead>\n",
       "    <tr style=\"text-align: right;\">\n",
       "      <th></th>\n",
       "      <th>doc</th>\n",
       "      <th>keywords</th>\n",
       "    </tr>\n",
       "  </thead>\n",
       "  <tbody>\n",
       "    <tr>\n",
       "      <th>0</th>\n",
       "      <td>stadfæste 2021 udlændingestyrels afgørelse ved...</td>\n",
       "      <td>{'myanmar': 0.398, 'rohingya': 0.298, 'ansøger...</td>\n",
       "    </tr>\n",
       "    <tr>\n",
       "      <th>1</th>\n",
       "      <td>stadfæste 2021 udlændingestyrels afgørelse ved...</td>\n",
       "      <td>{'algerium': 0.398, 'ansøger': 0.36, 'frankrig...</td>\n",
       "    </tr>\n",
       "    <tr>\n",
       "      <th>2</th>\n",
       "      <td>stadfæste 2021 udlændingestyrels afgørelse ved...</td>\n",
       "      <td>{'ansøger': 0.323, 'sudan': 0.291, '2020': 0.2...</td>\n",
       "    </tr>\n",
       "    <tr>\n",
       "      <th>3</th>\n",
       "      <td>stadfæste 2020 udlændingestyrels afgørelse ved...</td>\n",
       "      <td>{'somalia': 0.435, 'alshabaab': 0.419, 'kenya'...</td>\n",
       "    </tr>\n",
       "    <tr>\n",
       "      <th>4</th>\n",
       "      <td>hjemvise 2020 udlændingestyrels afgørelse vedr...</td>\n",
       "      <td>{'eritreisk': 0.402, 'eritrea': 0.352, 'etiopi...</td>\n",
       "    </tr>\n",
       "    <tr>\n",
       "      <th>...</th>\n",
       "      <td>...</td>\n",
       "      <td>...</td>\n",
       "    </tr>\n",
       "    <tr>\n",
       "      <th>184</th>\n",
       "      <td>stadfæste 2016 udlændingestyrels afgørelse ved...</td>\n",
       "      <td>{'fader': 0.475, 'liyu': 0.351, 'police': 0.30...</td>\n",
       "    </tr>\n",
       "    <tr>\n",
       "      <th>185</th>\n",
       "      <td>stadfæste 2015 udlændingestyrels afgørelse ved...</td>\n",
       "      <td>{'onlf': 0.436, 'police': 0.311, 'liyu': 0.311...</td>\n",
       "    </tr>\n",
       "    <tr>\n",
       "      <th>186</th>\n",
       "      <td>hjemvise 2015 udlændingestyrels afgørelse vedr...</td>\n",
       "      <td>{'etiopien': 0.197, 'hjemvise': 0.188, 'foreta...</td>\n",
       "    </tr>\n",
       "    <tr>\n",
       "      <th>187</th>\n",
       "      <td>stadfæste 2015 udlændingestyrels afgørelse ved...</td>\n",
       "      <td>{'soldat': 0.536, 'burmesisk': 0.216, 'burma':...</td>\n",
       "    </tr>\n",
       "    <tr>\n",
       "      <th>188</th>\n",
       "      <td>stadfæste 2015 udlændingestyrels afgørelse ved...</td>\n",
       "      <td>{'algerium': 0.473, 'ukendt': 0.296, 'senest':...</td>\n",
       "    </tr>\n",
       "  </tbody>\n",
       "</table>\n",
       "<p>189 rows × 2 columns</p>\n",
       "</div>"
      ],
      "text/plain": [
       "                                                   doc  \\\n",
       "0    stadfæste 2021 udlændingestyrels afgørelse ved...   \n",
       "1    stadfæste 2021 udlændingestyrels afgørelse ved...   \n",
       "2    stadfæste 2021 udlændingestyrels afgørelse ved...   \n",
       "3    stadfæste 2020 udlændingestyrels afgørelse ved...   \n",
       "4    hjemvise 2020 udlændingestyrels afgørelse vedr...   \n",
       "..                                                 ...   \n",
       "184  stadfæste 2016 udlændingestyrels afgørelse ved...   \n",
       "185  stadfæste 2015 udlændingestyrels afgørelse ved...   \n",
       "186  hjemvise 2015 udlændingestyrels afgørelse vedr...   \n",
       "187  stadfæste 2015 udlændingestyrels afgørelse ved...   \n",
       "188  stadfæste 2015 udlændingestyrels afgørelse ved...   \n",
       "\n",
       "                                              keywords  \n",
       "0    {'myanmar': 0.398, 'rohingya': 0.298, 'ansøger...  \n",
       "1    {'algerium': 0.398, 'ansøger': 0.36, 'frankrig...  \n",
       "2    {'ansøger': 0.323, 'sudan': 0.291, '2020': 0.2...  \n",
       "3    {'somalia': 0.435, 'alshabaab': 0.419, 'kenya'...  \n",
       "4    {'eritreisk': 0.402, 'eritrea': 0.352, 'etiopi...  \n",
       "..                                                 ...  \n",
       "184  {'fader': 0.475, 'liyu': 0.351, 'police': 0.30...  \n",
       "185  {'onlf': 0.436, 'police': 0.311, 'liyu': 0.311...  \n",
       "186  {'etiopien': 0.197, 'hjemvise': 0.188, 'foreta...  \n",
       "187  {'soldat': 0.536, 'burmesisk': 0.216, 'burma':...  \n",
       "188  {'algerium': 0.473, 'ukendt': 0.296, 'senest':...  \n",
       "\n",
       "[189 rows x 2 columns]"
      ]
     },
     "execution_count": 54,
     "metadata": {},
     "output_type": "execute_result"
    }
   ],
   "source": [
    "# We only need to do this once:\n",
    "feature_names = cv.get_feature_names_out()\n",
    "\n",
    "# Generate tf-idf for all documents in list. docs has 189 documents:\n",
    "tf_idf_vector = tfidf_transformer.transform(cv.transform(docs))\n",
    "\n",
    "results = []\n",
    "for i in range(tf_idf_vector.shape[0]):\n",
    "\n",
    "    # get vector for a single document\n",
    "    curr_vector = tf_idf_vector[i]\n",
    "\n",
    "    # sort the tf-idf vector by descending order of scores\n",
    "    # tocoo() Return a COOrdinate representation of this matrix.\n",
    "    sorted_items = hp.sort_coo(curr_vector.tocoo())\n",
    "\n",
    "    # extract only the top n; n here is 10\n",
    "    keywords = hp.extract_top_n_from_vector(feature_names, sorted_items, 10)\n",
    "\n",
    "    results.append(keywords)\n",
    "\n",
    "df_tfIDF = pd.DataFrame(zip(docs, results), columns=['doc', 'keywords'])\n",
    "# df_tfIDF.shape\n",
    "df_tfIDF"
   ]
  },
  {
   "cell_type": "markdown",
   "metadata": {},
   "source": [
    "Twenty most common words based on TF-IDF values\n"
   ]
  },
  {
   "cell_type": "code",
   "execution_count": 55,
   "metadata": {},
   "outputs": [
    {
     "name": "stdout",
     "output_type": "stream",
     "text": [
      "[   ('klager', 0.81),\n",
      "    ('officer', 0.644),\n",
      "    ('taliban', 0.575),\n",
      "    ('soldat', 0.536),\n",
      "    ('libyen', 0.522),\n",
      "    ('police', 0.497),\n",
      "    ('liyu', 0.497),\n",
      "    ('ægtefælle', 0.496),\n",
      "    ('senegal', 0.472),\n",
      "    ('tjetjenie', 0.472),\n",
      "    ('georgien', 0.472),\n",
      "    ('sierra', 0.466),\n",
      "    ('leone', 0.466),\n",
      "    ('libysk', 0.456),\n",
      "    ('avis', 0.45),\n",
      "    ('holland', 0.443),\n",
      "    ('hær', 0.437),\n",
      "    ('somalia', 0.435),\n",
      "    ('ghanesisk', 0.433),\n",
      "    ('bøde', 0.426)]\n"
     ]
    }
   ],
   "source": [
    "# Create a dictionary from results list of dictionaries:\n",
    "my_dict = dict(ChainMap(*results))\n",
    "\n",
    "c = Counter(my_dict)\n",
    "\n",
    "# Returns top 20 most common pairs:\n",
    "most_common = c.most_common(20)\n",
    "\n",
    "# For getting the keys from `most_common`:\n",
    "my_keys = [key for key, val in most_common]\n",
    "\n",
    "# Add pretty printer:\n",
    "pp = pprint.PrettyPrinter(indent=4)\n",
    "\n",
    "pp.pprint(most_common)\n"
   ]
  },
  {
   "cell_type": "markdown",
   "metadata": {},
   "source": [
    "Plotting the pairs:\n"
   ]
  },
  {
   "cell_type": "code",
   "execution_count": 56,
   "metadata": {},
   "outputs": [
    {
     "data": {
      "image/png": "[encoded data removed]",
      "text/plain": [
       "<Figure size 432x288 with 1 Axes>"
      ]
     },
     "metadata": {},
     "output_type": "display_data"
    }
   ],
   "source": [
    "# plt.bar(range(len(most_common)), [val[1] for val in most_common], align='center')\n",
    "# plt.xticks(range(len(most_common)), [val[0] for val in most_common])\n",
    "# plt.xticks(rotation=70)\n",
    "\n",
    "# sort values in tuple:\n",
    "sorted_most_common = sorted(most_common, key=lambda x: x[1])\n",
    "\n",
    "fig, ax = plt.subplots()\n",
    "bars = ax.barh([val[0] for val in sorted_most_common], [val[1]\n",
    "               for val in sorted_most_common])\n",
    "\n",
    "ax.bar_label(bars)\n",
    "plt.show()\n"
   ]
  }
 ],
 "metadata": {
  "kernelspec": {
   "display_name": "Python 3 (ipykernel)",
   "language": "python",
   "name": "python3"
  },
  "language_info": {
   "codemirror_mode": {
    "name": "ipython",
    "version": 3
   },
   "file_extension": ".py",
   "mimetype": "text/x-python",
   "name": "python",
   "nbconvert_exporter": "python",
   "pygments_lexer": "ipython3",
   "version": "3.9.13"
  },
  "vscode": {
   "interpreter": {
    "hash": "b6672ba510bd43d5df0d34395a84685a825e41d35f5301d8abef98bca1680e82"
   }
  }
 },
 "nbformat": 4,
 "nbformat_minor": 2
}
