{
 "cells": [
  {
   "cell_type": "code",
   "execution_count": null,
   "id": "faff37a0",
   "metadata": {},
   "outputs": [],
   "source": [
    "import pandas as pd\n",
    "import numpy as np\n",
    "import matplotlib\n",
    "import csv\n",
    "import json"
   ]
  },
  {
   "cell_type": "code",
   "execution_count": null,
   "id": "68f158a3",
   "metadata": {},
   "outputs": [],
   "source": [
    "with open('data/dk_asylum_data.json', encoding='utf-8') as inputfile:\n",
    "    df = pd.read_json(inputfile)"
   ]
  },
  {
   "cell_type": "markdown",
   "id": "b50af243",
   "metadata": {},
   "source": [
    "## Extract decision"
   ]
  },
  {
   "cell_type": "code",
   "execution_count": null,
   "id": "348776d4",
   "metadata": {},
   "outputs": [],
   "source": [
    "# affirmed means the Immigration service decision was confirmed and the asylum application was rejected, overturned means asylum was granted.\n",
    "#this should however be checked with e.g. Trine.\n",
    "df_aff = df_raw['text'].str.contains('stadfæst')\n",
    "df_rej = df_raw['text'].str.contains('Nævnet omgjorde')\n",
    "df_med = df_raw['text'].str.contains('Nævnet meddelte')\n",
    "df_hjem = df_raw['text'].str.contains('Nævnet hjemvis')\n",
    "df_and = df_raw['text'].str.contains('Nævnet ændrede')\n",
    "\n",
    "df_leftover = df_raw[~(df_aff | df_rej | df_med | df_hjem | df_and)]\n",
    "print(len(df_leftover))\n",
    "\n",
    "df['decision'] = np.where(df_aff, \"affirmed\", np.where((df_rej | df_and | df_med), \"overturned\", np.nan))"
   ]
  },
  {
   "cell_type": "markdown",
   "id": "7f6259ed",
   "metadata": {},
   "source": [
    "## Extract year of entry"
   ]
  },
  {
   "cell_type": "code",
   "execution_count": null,
   "id": "1bbea1d2",
   "metadata": {},
   "outputs": [],
   "source": [
    "df['entry_year'] = df['text'].str.extract(r'.*(Indrejst(\\D*)(\\d+))')[2]"
   ]
  },
  {
   "cell_type": "markdown",
   "id": "9a1e6040",
   "metadata": {},
   "source": [
    "## Extract decision year"
   ]
  },
  {
   "cell_type": "code",
   "execution_count": null,
   "id": "09f2f927",
   "metadata": {},
   "outputs": [],
   "source": [
    "u = df['text'].str.partition()\n",
    "df_extract = pd.DataFrame({'Last': u[2].str.split().str[-1]})\n",
    "df['decision_year'] = df_extract['Last'].str.extract(r'.*([1-3][0-9]{3})')"
   ]
  },
  {
   "cell_type": "markdown",
   "id": "f2f67c85",
   "metadata": {},
   "source": [
    "## Extract gender"
   ]
  },
  {
   "cell_type": "code",
   "execution_count": null,
   "id": "b84f3f5a",
   "metadata": {},
   "outputs": [],
   "source": [
    "#there is a significant amount of cases where families apply. These can be identified by searching if\n",
    "#\"A/ansøgerne\" appears in the text\n",
    "def get_gender(text):\n",
    "    fem_count = 0\n",
    "    mal_count = 0\n",
    "    gender_dict = {\n",
    "        \"female\": ['kvinde', 'kvindelig', 'pige'],\n",
    "        \"male\": ['mand', 'mandlig', 'dreng'],\n",
    "    }\n",
    "    for word in gender_dict['female']:\n",
    "        if word in text:\n",
    "            fem_count += 1\n",
    "    for word in gender_dict['male']:\n",
    "        if word in text:\n",
    "            mal_count += 1\n",
    "    \n",
    "    #print(fem_count, mal_count)\n",
    "    if fem_count > mal_count:\n",
    "        return \"female\"\n",
    "    elif fem_count < mal_count:\n",
    "        return \"male\"\n",
    "    else:\n",
    "        return \"nan\"\n",
    "        \n",
    "    \n",
    "\n",
    "df[\"gender\"] = df[\"text\"].apply(get_gender)"
   ]
  }
 ],
 "metadata": {
  "kernelspec": {
   "display_name": "Python 3 (ipykernel)",
   "language": "python",
   "name": "python3"
  },
  "language_info": {
   "codemirror_mode": {
    "name": "ipython",
    "version": 3
   },
   "file_extension": ".py",
   "mimetype": "text/x-python",
   "name": "python",
   "nbconvert_exporter": "python",
   "pygments_lexer": "ipython3",
   "version": "3.8.9"
  }
 },
 "nbformat": 4,
 "nbformat_minor": 5
}
